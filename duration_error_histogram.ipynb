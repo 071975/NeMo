{
 "cells": [
  {
   "cell_type": "code",
   "execution_count": 21,
   "id": "4a25006b",
   "metadata": {},
   "outputs": [],
   "source": [
    "import json\n",
    "import numpy as np\n",
    "import os\n",
    "os.environ[\"CUDA_VISIBLE_DEVICES\"]=\"4,5,6,7\""
   ]
  },
  {
   "cell_type": "markdown",
   "id": "f8b3da91",
   "metadata": {},
   "source": [
    "# Duration error histogram between target mels and predicted mels"
   ]
  },
  {
   "cell_type": "code",
   "execution_count": 3,
   "id": "2693747f",
   "metadata": {},
   "outputs": [],
   "source": [
    "manifests={\"test\":\"hifigan_test_ft.json\", \"train\":\"hifigan_train_ft.json\", \"val\":\"hifigan_val_ft.json\"}\n",
    "\n",
    "target_mels_path = \"/Data/openslr-95-german-neutral-tts/orig_synmels/\"\n"
   ]
  },
  {
   "cell_type": "code",
   "execution_count": 35,
   "id": "139a421c",
   "metadata": {},
   "outputs": [],
   "source": [
    "def extract_duration(manifest_path):\n",
    "    durations = []\n",
    "    with open(manifest_path, \"r\") as f:\n",
    "        for i, line in enumerate(f):\n",
    "            mel_path = json.loads(line)['mel_filepath']\n",
    "            mel = np.load(mel_path)\n",
    "            durations.append(mel.shape[1])\n",
    "    return durations\n",
    "\n",
    "def generate_error_histogram(manifest_A, manifest_B):\n",
    "    durations_A, durations_B = extract_duration(manifest_A), extract_duration(manifest_B)\n",
    "    print(durations_A == durations_B)"
   ]
  },
  {
   "cell_type": "markdown",
   "id": "0c1de6a3",
   "metadata": {},
   "source": [
    "## Histogram A: For target mels and mels predicted by Fastpitch trained from scratch on German Dataset (R1) at 999 epochs"
   ]
  },
  {
   "cell_type": "code",
   "execution_count": 39,
   "id": "4c8b48be",
   "metadata": {},
   "outputs": [],
   "source": [
    "r1_synmels=\"/Data/openslr-95-german-neutral-tts/synmels1/\""
   ]
  },
  {
   "cell_type": "code",
   "execution_count": 38,
   "id": "5b40f556",
   "metadata": {},
   "outputs": [
    {
     "name": "stdout",
     "output_type": "stream",
     "text": [
      "Generating test set histogram\n",
      "True\n",
      "Generating train set histogram\n",
      "True\n",
      "Generating val set histogram\n",
      "True\n"
     ]
    }
   ],
   "source": [
    "for key in manifests.keys():\n",
    "    print(\"Generating \"+key+\" set histogram\")\n",
    "    generate_error_histogram(target_mels_path+manifests[key], r1_synmels+manifests[key])"
   ]
  },
  {
   "cell_type": "code",
   "execution_count": null,
   "id": "21617f72",
   "metadata": {},
   "outputs": [],
   "source": []
  },
  {
   "cell_type": "markdown",
   "id": "d2a13134",
   "metadata": {},
   "source": [
    "## Histogram B: For target mels and mels predicted by Fastpitch_en finetuned on German Dataset (R3) at 149 epochs"
   ]
  },
  {
   "cell_type": "code",
   "execution_count": null,
   "id": "468b88aa",
   "metadata": {},
   "outputs": [],
   "source": [
    "r3_synmels=\"/Data/openslr-95-german-neutral-tts/synmels1\""
   ]
  },
  {
   "cell_type": "code",
   "execution_count": null,
   "id": "b5bc8d41",
   "metadata": {},
   "outputs": [],
   "source": []
  }
 ],
 "metadata": {
  "kernelspec": {
   "display_name": "Python 3 (ipykernel)",
   "language": "python",
   "name": "python3"
  },
  "language_info": {
   "codemirror_mode": {
    "name": "ipython",
    "version": 3
   },
   "file_extension": ".py",
   "mimetype": "text/x-python",
   "name": "python",
   "nbconvert_exporter": "python",
   "pygments_lexer": "ipython3",
   "version": "3.8.12"
  }
 },
 "nbformat": 4,
 "nbformat_minor": 5
}
