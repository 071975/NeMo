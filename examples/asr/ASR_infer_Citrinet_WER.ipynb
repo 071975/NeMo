{
 "cells": [
  {
   "cell_type": "code",
   "execution_count": null,
   "metadata": {},
   "outputs": [],
   "source": [
    "import numpy as np \n",
    "import os\n",
    "import json\n",
    "import librosa\n",
    "import nemo.collections.asr as nemo_asr\n",
    "import torch\n",
    "from nemo.collections.asr.metrics.wer import word_error_rate"
   ]
  },
  {
   "cell_type": "code",
   "execution_count": null,
   "metadata": {},
   "outputs": [],
   "source": [
    "paths2audio_files = \"/mnt/data/amicorpus/mixheadset_test_wav.list\"\n",
    "paths2audio_files = np.loadtxt(paths2audio_files, dtype='str')\n",
    "transcription_folder = \"/mnt/data/AMI_ASR_transcripts_v2/\""
   ]
  },
  {
   "cell_type": "code",
   "execution_count": null,
   "metadata": {},
   "outputs": [],
   "source": [
    "with open(os.path.join('AMI_test_manifest.json'), 'w') as fp:\n",
    "    for audio_file in paths2audio_files:\n",
    "        text_file = os.path.join(transcription_folder, os.path.basename(audio_file).split(\".\")[0]+\".txt\")\n",
    "        with open(text_file, 'r') as file:\n",
    "            text = file.readlines()[0]\n",
    "\n",
    "        y, sr = librosa.load(audio_file, sr=16000)\n",
    "        dur = librosa.get_duration(y=y, sr=sr)\n",
    "\n",
    "        entry = {'audio_filepath': audio_file, 'duration': dur, 'offset': 0,'text': text}\n",
    "        fp.write(json.dumps(entry) + '\\n')"
   ]
  },
  {
   "cell_type": "code",
   "execution_count": null,
   "metadata": {
    "scrolled": true
   },
   "outputs": [],
   "source": [
    "# Load model\n",
    "asr_model = nemo_asr.models.EncDecCTCModelBPE.from_pretrained(model_name='stt_en_citrinet_1024_gamma_0_25', strict=False)"
   ]
  },
  {
   "cell_type": "code",
   "execution_count": null,
   "metadata": {},
   "outputs": [],
   "source": [
    "with torch.cuda.amp.autocast():\n",
    "    transcript = asr_model.transcribe(paths2audio_files, batch_size=1)"
   ]
  },
  {
   "cell_type": "code",
   "execution_count": null,
   "metadata": {
    "scrolled": true
   },
   "outputs": [],
   "source": [
    "# this is so bad but working, will update and submit PR for citrinet inference eval after vacation. \n",
    "\n",
    "all_wer_value = 0\n",
    "for i in range(len(paths2audio_files)):\n",
    "    text_file = os.path.join(transcription_folder, os.path.basename(paths2audio_files[i]).split(\".\")[0]+\".txt\")\n",
    "    with open(text_file, 'r') as file:\n",
    "        text = file.readlines()[0]\n",
    "    hypotheses = transcript[i]\n",
    "    wer_value = word_error_rate(hypotheses=[hypotheses], references=[text])\n",
    "    all_wer_value += wer_value\n",
    "    print(text_file, wer_value)\n",
    "    print(\"Hyp:\", hypotheses[:200])\n",
    "    print(\"Ref:\", text[:200])\n",
    "    print(\"=======\")\n",
    "    "
   ]
  },
  {
   "cell_type": "code",
   "execution_count": null,
   "metadata": {},
   "outputs": [],
   "source": [
    "# v2\n",
    "all_wer_value/len(transcript)"
   ]
  }
 ],
 "metadata": {
  "kernelspec": {
   "display_name": "Python 3",
   "language": "python",
   "name": "python3"
  },
  "language_info": {
   "codemirror_mode": {
    "name": "ipython",
    "version": 3
   },
   "file_extension": ".py",
   "mimetype": "text/x-python",
   "name": "python",
   "nbconvert_exporter": "python",
   "pygments_lexer": "ipython3",
   "version": "3.7.7"
  }
 },
 "nbformat": 4,
 "nbformat_minor": 4
}
