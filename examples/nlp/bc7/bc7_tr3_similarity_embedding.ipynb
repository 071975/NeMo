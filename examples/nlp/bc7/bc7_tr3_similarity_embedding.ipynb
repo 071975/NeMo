{
 "cells": [
  {
   "cell_type": "code",
   "execution_count": 1,
   "id": "54797324",
   "metadata": {},
   "outputs": [
    {
     "name": "stderr",
     "output_type": "stream",
     "text": [
      "[NeMo W 2022-03-07 13:14:35 nemo_logging:349] /opt/conda/lib/python3.8/site-packages/pydub/utils.py:170: RuntimeWarning: Couldn't find ffmpeg or avconv - defaulting to ffmpeg, but may not work\n",
      "      warn(\"Couldn't find ffmpeg or avconv - defaulting to ffmpeg, but may not work\", RuntimeWarning)\n",
      "    \n",
      "[NeMo W 2022-03-07 13:14:35 experimental:27] Module <function get_argmin_mat at 0x7f77c09af280> is experimental, not ready for production and is not fully supported. Use at your own risk.\n",
      "[NeMo W 2022-03-07 13:14:35 experimental:27] Module <function getMultiScaleCosAffinityMatrix at 0x7f77c09af310> is experimental, not ready for production and is not fully supported. Use at your own risk.\n",
      "[NeMo W 2022-03-07 13:14:35 experimental:27] Module <function parse_scale_configs at 0x7f77c09afe50> is experimental, not ready for production and is not fully supported. Use at your own risk.\n",
      "[NeMo W 2022-03-07 13:14:35 experimental:27] Module <function get_embs_and_timestamps at 0x7f77c09afee0> is experimental, not ready for production and is not fully supported. Use at your own risk.\n"
     ]
    }
   ],
   "source": [
    "import json\n",
    "import os\n",
    "\n",
    "from omegaconf import DictConfig, OmegaConf\n",
    "\n",
    "from nemo.collections.nlp.models import ZeroShotIntentModel\n",
    "from nemo.core.config import hydra_runner\n",
    "from nemo.utils import logging\n",
    "from nemo.collections import nlp as nemo_nlp\n",
    "\n",
    "import pandas as pd\n",
    "import numpy as np\n",
    "import faiss"
   ]
  },
  {
   "cell_type": "code",
   "execution_count": 2,
   "id": "4b837c2c",
   "metadata": {
    "scrolled": true
   },
   "outputs": [
    {
     "name": "stdout",
     "output_type": "stream",
     "text": [
      "[NeMo I 2022-03-07 13:14:36 cloud:56] Found existing object /root/.cache/torch/NeMo/NeMo_1.6.0/zeroshotintent_en_bert_base_uncased/bd0b8d430477bc6e329c79219ca77690/zeroshotintent_en_bert_base_uncased.nemo.\n",
      "[NeMo I 2022-03-07 13:14:36 cloud:62] Re-using file from: /root/.cache/torch/NeMo/NeMo_1.6.0/zeroshotintent_en_bert_base_uncased/bd0b8d430477bc6e329c79219ca77690/zeroshotintent_en_bert_base_uncased.nemo\n",
      "[NeMo I 2022-03-07 13:14:36 common:729] Instantiating model from pre-trained checkpoint\n",
      "[NeMo I 2022-03-07 13:14:42 tokenizer_utils:125] Getting HuggingFace AutoTokenizer with pretrained_model_name: bert-base-uncased, vocab_file: /tmp/tmppw1iee4l/9cf58d5590404f6ca6ffa00bbc4b1ac5_tokenizer.vocab_file, special_tokens_dict: {}, and use_fast: False\n"
     ]
    },
    {
     "name": "stderr",
     "output_type": "stream",
     "text": [
      "Using eos_token, but it is not set yet.\n",
      "Using bos_token, but it is not set yet.\n",
      "[NeMo W 2022-03-07 13:14:43 modelPT:142] If you intend to do training or fine-tuning, please call the ModelPT.setup_training_data() method and provide a valid configuration file to setup the train data loader.\n",
      "    Train config : \n",
      "    file_name: train.tsv\n",
      "    shuffle: true\n",
      "    num_samples: -1\n",
      "    batch_size: 32\n",
      "    \n",
      "[NeMo W 2022-03-07 13:14:43 modelPT:149] If you intend to do validation, please call the ModelPT.setup_validation_data() or ModelPT.setup_multiple_validation_data() method and provide a valid configuration file to setup the validation data loader(s). \n",
      "    Validation config : \n",
      "    file_name: dev_matched.tsv\n",
      "    shuffle: false\n",
      "    num_samples: -1\n",
      "    batch_size: 32\n",
      "    \n",
      "[NeMo W 2022-03-07 13:14:43 modelPT:1216] World size can only be set by PyTorch Lightning Trainer.\n",
      "[NeMo W 2022-03-07 13:14:43 modelPT:209] You tried to register an artifact under config key=tokenizer.vocab_file but an artifact for it has already been registered.\n",
      "Some weights of the model checkpoint at bert-base-uncased were not used when initializing BertModel: ['cls.predictions.transform.dense.bias', 'cls.predictions.decoder.weight', 'cls.seq_relationship.weight', 'cls.predictions.transform.LayerNorm.weight', 'cls.seq_relationship.bias', 'cls.predictions.transform.dense.weight', 'cls.predictions.transform.LayerNorm.bias', 'cls.predictions.bias']\n",
      "- This IS expected if you are initializing BertModel from the checkpoint of a model trained on another task or with another architecture (e.g. initializing a BertForSequenceClassification model from a BertForPreTraining model).\n",
      "- This IS NOT expected if you are initializing BertModel from the checkpoint of a model that you expect to be exactly identical (initializing a BertForSequenceClassification model from a BertForSequenceClassification model).\n"
     ]
    },
    {
     "name": "stdout",
     "output_type": "stream",
     "text": [
      "[NeMo I 2022-03-07 13:14:49 save_restore_connector:154] Model ZeroShotIntentModel was successfully restored from /root/.cache/torch/NeMo/NeMo_1.6.0/zeroshotintent_en_bert_base_uncased/bd0b8d430477bc6e329c79219ca77690/zeroshotintent_en_bert_base_uncased.nemo.\n"
     ]
    }
   ],
   "source": [
    "# BC7 Track3 data dir containing training and val datasets\n",
    "bc7_tr3_datadir = '/datasets/bc7/Track-3_Med-Tweets'\n",
    "# pre-trained NLI model on NGC\n",
    "pretrained_model = nemo_nlp.models.ZeroShotIntentModel.from_pretrained(\"zeroshotintent_en_bert_base_uncased\")"
   ]
  },
  {
   "cell_type": "code",
   "execution_count": 3,
   "id": "0c34af9b",
   "metadata": {},
   "outputs": [],
   "source": [
    "candidate_labels = []\n",
    "\n",
    "tr_df_0 = pd.read_csv(os.path.join(bc7_tr3_datadir, 'BioCreative_TrainTask3.0.tsv'), sep='\\t')\n",
    "tr_df_1 = pd.read_csv(os.path.join(bc7_tr3_datadir, 'BioCreative_TrainTask3.1.tsv'), sep='\\t')\n",
    "df_tr = pd.concat([tr_df_0, tr_df_1])\n",
    "df_val = pd.read_csv(os.path.join(bc7_tr3_datadir, 'BioCreative_ValTask3_corrected.tsv'), sep='\\t')"
   ]
  },
  {
   "cell_type": "code",
   "execution_count": 4,
   "id": "3f1ee8ca",
   "metadata": {},
   "outputs": [],
   "source": [
    "# Tweets in the training set that contain Drugs\n",
    "tr_tweets = df_tr['text'].to_list()\n",
    "tr_drugs = df_tr['drug'].to_list()"
   ]
  },
  {
   "cell_type": "code",
   "execution_count": 5,
   "id": "60e724bc",
   "metadata": {
    "scrolled": true
   },
   "outputs": [
    {
     "name": "stdout",
     "output_type": "stream",
     "text": [
      "[NeMo I 2022-03-07 13:14:49 zero_shot_intent_dataset:234] Processing queries for inference\n",
      "[NeMo I 2022-03-07 13:14:49 glue_benchmark_dataset:237] Writing example 0 of 89004\n",
      "[NeMo I 2022-03-07 13:14:49 glue_benchmark_dataset:319] *** Example ***\n",
      "[NeMo I 2022-03-07 13:14:49 glue_benchmark_dataset:320] guid: query-0-label-0\n",
      "[NeMo I 2022-03-07 13:14:49 glue_benchmark_dataset:321] tokens: [CLS] @ r ##hy _ q ##d ##10 yeah ir ##king he need his ass who ##op i really don ' t feel good i swear i ' m about to go to the hospital [SEP]\n",
      "[NeMo I 2022-03-07 13:14:49 glue_benchmark_dataset:322] input_ids: 101 1030 1054 10536 1035 1053 2094 10790 3398 20868 6834 2002 2342 2010 4632 2040 7361 1045 2428 2123 1005 1056 2514 2204 1045 8415 1045 1005 1049 2055 2000 2175 2000 1996 2902 102 0 0 0 0 0 0 0 0 0 0 0 0 0 0 0 0 0 0 0 0 0 0 0 0 0 0 0 0 0 0 0 0 0 0 0 0 0 0 0 0 0 0 0 0 0 0 0 0 0 0 0 0 0 0 0 0 0 0 0 0 0 0 0 0 0 0 0 0 0 0 0 0 0 0 0 0 0 0 0 0 0 0 0 0 0 0 0 0 0 0 0 0\n",
      "[NeMo I 2022-03-07 13:14:49 glue_benchmark_dataset:323] input_mask: 1 1 1 1 1 1 1 1 1 1 1 1 1 1 1 1 1 1 1 1 1 1 1 1 1 1 1 1 1 1 1 1 1 1 1 1 0 0 0 0 0 0 0 0 0 0 0 0 0 0 0 0 0 0 0 0 0 0 0 0 0 0 0 0 0 0 0 0 0 0 0 0 0 0 0 0 0 0 0 0 0 0 0 0 0 0 0 0 0 0 0 0 0 0 0 0 0 0 0 0 0 0 0 0 0 0 0 0 0 0 0 0 0 0 0 0 0 0 0 0 0 0 0 0 0 0 0 0\n",
      "[NeMo I 2022-03-07 13:14:49 glue_benchmark_dataset:324] segment_ids: 0 0 0 0 0 0 0 0 0 0 0 0 0 0 0 0 0 0 0 0 0 0 0 0 0 0 0 0 0 0 0 0 0 0 0 0 0 0 0 0 0 0 0 0 0 0 0 0 0 0 0 0 0 0 0 0 0 0 0 0 0 0 0 0 0 0 0 0 0 0 0 0 0 0 0 0 0 0 0 0 0 0 0 0 0 0 0 0 0 0 0 0 0 0 0 0 0 0 0 0 0 0 0 0 0 0 0 0 0 0 0 0 0 0 0 0 0 0 0 0 0 0 0 0 0 0 0 0\n",
      "[NeMo I 2022-03-07 13:14:49 glue_benchmark_dataset:325] label: 3 (id = 3)\n",
      "[NeMo I 2022-03-07 13:14:49 glue_benchmark_dataset:319] *** Example ***\n",
      "[NeMo I 2022-03-07 13:14:49 glue_benchmark_dataset:320] guid: query-1-label-0\n",
      "[NeMo I 2022-03-07 13:14:49 glue_benchmark_dataset:321] tokens: [CLS] panda express [UNK] [SEP]\n",
      "[NeMo I 2022-03-07 13:14:49 glue_benchmark_dataset:322] input_ids: 101 25462 4671 100 102 0 0 0 0 0 0 0 0 0 0 0 0 0 0 0 0 0 0 0 0 0 0 0 0 0 0 0 0 0 0 0 0 0 0 0 0 0 0 0 0 0 0 0 0 0 0 0 0 0 0 0 0 0 0 0 0 0 0 0 0 0 0 0 0 0 0 0 0 0 0 0 0 0 0 0 0 0 0 0 0 0 0 0 0 0 0 0 0 0 0 0 0 0 0 0 0 0 0 0 0 0 0 0 0 0 0 0 0 0 0 0 0 0 0 0 0 0 0 0 0 0 0 0\n",
      "[NeMo I 2022-03-07 13:14:49 glue_benchmark_dataset:323] input_mask: 1 1 1 1 1 0 0 0 0 0 0 0 0 0 0 0 0 0 0 0 0 0 0 0 0 0 0 0 0 0 0 0 0 0 0 0 0 0 0 0 0 0 0 0 0 0 0 0 0 0 0 0 0 0 0 0 0 0 0 0 0 0 0 0 0 0 0 0 0 0 0 0 0 0 0 0 0 0 0 0 0 0 0 0 0 0 0 0 0 0 0 0 0 0 0 0 0 0 0 0 0 0 0 0 0 0 0 0 0 0 0 0 0 0 0 0 0 0 0 0 0 0 0 0 0 0 0 0\n",
      "[NeMo I 2022-03-07 13:14:49 glue_benchmark_dataset:324] segment_ids: 0 0 0 0 0 0 0 0 0 0 0 0 0 0 0 0 0 0 0 0 0 0 0 0 0 0 0 0 0 0 0 0 0 0 0 0 0 0 0 0 0 0 0 0 0 0 0 0 0 0 0 0 0 0 0 0 0 0 0 0 0 0 0 0 0 0 0 0 0 0 0 0 0 0 0 0 0 0 0 0 0 0 0 0 0 0 0 0 0 0 0 0 0 0 0 0 0 0 0 0 0 0 0 0 0 0 0 0 0 0 0 0 0 0 0 0 0 0 0 0 0 0 0 0 0 0 0 0\n",
      "[NeMo I 2022-03-07 13:14:49 glue_benchmark_dataset:325] label: 3 (id = 3)\n",
      "[NeMo I 2022-03-07 13:14:49 glue_benchmark_dataset:319] *** Example ***\n",
      "[NeMo I 2022-03-07 13:14:49 glue_benchmark_dataset:320] guid: query-2-label-0\n",
      "[NeMo I 2022-03-07 13:14:49 glue_benchmark_dataset:321] tokens: [CLS] well . . technology wins again ##s . people are fighting for an increase in minimum wage , meanwhile the jobs they are . . . http : / / t . co / em ##wl ##yr ##t ##1 ##y ##c [SEP]\n",
      "[NeMo I 2022-03-07 13:14:49 glue_benchmark_dataset:322] input_ids: 101 2092 1012 1012 2974 5222 2153 2015 1012 2111 2024 3554 2005 2019 3623 1999 6263 11897 1010 5564 1996 5841 2027 2024 1012 1012 1012 8299 1024 1013 1013 1056 1012 2522 1013 7861 13668 12541 2102 2487 2100 2278 102 0 0 0 0 0 0 0 0 0 0 0 0 0 0 0 0 0 0 0 0 0 0 0 0 0 0 0 0 0 0 0 0 0 0 0 0 0 0 0 0 0 0 0 0 0 0 0 0 0 0 0 0 0 0 0 0 0 0 0 0 0 0 0 0 0 0 0 0 0 0 0 0 0 0 0 0 0 0 0 0 0 0 0 0 0\n",
      "[NeMo I 2022-03-07 13:14:49 glue_benchmark_dataset:323] input_mask: 1 1 1 1 1 1 1 1 1 1 1 1 1 1 1 1 1 1 1 1 1 1 1 1 1 1 1 1 1 1 1 1 1 1 1 1 1 1 1 1 1 1 1 0 0 0 0 0 0 0 0 0 0 0 0 0 0 0 0 0 0 0 0 0 0 0 0 0 0 0 0 0 0 0 0 0 0 0 0 0 0 0 0 0 0 0 0 0 0 0 0 0 0 0 0 0 0 0 0 0 0 0 0 0 0 0 0 0 0 0 0 0 0 0 0 0 0 0 0 0 0 0 0 0 0 0 0 0\n",
      "[NeMo I 2022-03-07 13:14:49 glue_benchmark_dataset:324] segment_ids: 0 0 0 0 0 0 0 0 0 0 0 0 0 0 0 0 0 0 0 0 0 0 0 0 0 0 0 0 0 0 0 0 0 0 0 0 0 0 0 0 0 0 0 0 0 0 0 0 0 0 0 0 0 0 0 0 0 0 0 0 0 0 0 0 0 0 0 0 0 0 0 0 0 0 0 0 0 0 0 0 0 0 0 0 0 0 0 0 0 0 0 0 0 0 0 0 0 0 0 0 0 0 0 0 0 0 0 0 0 0 0 0 0 0 0 0 0 0 0 0 0 0 0 0 0 0 0 0\n",
      "[NeMo I 2022-03-07 13:14:49 glue_benchmark_dataset:325] label: 3 (id = 3)\n",
      "[NeMo I 2022-03-07 13:14:49 glue_benchmark_dataset:319] *** Example ***\n",
      "[NeMo I 2022-03-07 13:14:49 glue_benchmark_dataset:320] guid: query-3-label-0\n",
      "[NeMo I 2022-03-07 13:14:49 glue_benchmark_dataset:321] tokens: [CLS] @ jenna ##ben ##na ##be ##ar what happened ? ? ? ? ? [SEP]\n",
      "[NeMo I 2022-03-07 13:14:49 glue_benchmark_dataset:322] input_ids: 101 1030 13504 10609 2532 4783 2906 2054 3047 1029 1029 1029 1029 1029 102 0 0 0 0 0 0 0 0 0 0 0 0 0 0 0 0 0 0 0 0 0 0 0 0 0 0 0 0 0 0 0 0 0 0 0 0 0 0 0 0 0 0 0 0 0 0 0 0 0 0 0 0 0 0 0 0 0 0 0 0 0 0 0 0 0 0 0 0 0 0 0 0 0 0 0 0 0 0 0 0 0 0 0 0 0 0 0 0 0 0 0 0 0 0 0 0 0 0 0 0 0 0 0 0 0 0 0 0 0 0 0 0 0\n",
      "[NeMo I 2022-03-07 13:14:49 glue_benchmark_dataset:323] input_mask: 1 1 1 1 1 1 1 1 1 1 1 1 1 1 1 0 0 0 0 0 0 0 0 0 0 0 0 0 0 0 0 0 0 0 0 0 0 0 0 0 0 0 0 0 0 0 0 0 0 0 0 0 0 0 0 0 0 0 0 0 0 0 0 0 0 0 0 0 0 0 0 0 0 0 0 0 0 0 0 0 0 0 0 0 0 0 0 0 0 0 0 0 0 0 0 0 0 0 0 0 0 0 0 0 0 0 0 0 0 0 0 0 0 0 0 0 0 0 0 0 0 0 0 0 0 0 0 0\n",
      "[NeMo I 2022-03-07 13:14:49 glue_benchmark_dataset:324] segment_ids: 0 0 0 0 0 0 0 0 0 0 0 0 0 0 0 0 0 0 0 0 0 0 0 0 0 0 0 0 0 0 0 0 0 0 0 0 0 0 0 0 0 0 0 0 0 0 0 0 0 0 0 0 0 0 0 0 0 0 0 0 0 0 0 0 0 0 0 0 0 0 0 0 0 0 0 0 0 0 0 0 0 0 0 0 0 0 0 0 0 0 0 0 0 0 0 0 0 0 0 0 0 0 0 0 0 0 0 0 0 0 0 0 0 0 0 0 0 0 0 0 0 0 0 0 0 0 0 0\n",
      "[NeMo I 2022-03-07 13:14:49 glue_benchmark_dataset:325] label: 3 (id = 3)\n",
      "[NeMo I 2022-03-07 13:14:49 glue_benchmark_dataset:319] *** Example ***\n",
      "[NeMo I 2022-03-07 13:14:49 glue_benchmark_dataset:320] guid: query-4-label-0\n",
      "[NeMo I 2022-03-07 13:14:49 glue_benchmark_dataset:321] tokens: [CLS] a first grade teacher asked her class to complete the following prove ##rb ##s . i think some are better then the originals . http : / / t . co / ra ##z ##rk ##52 ##t [SEP]\n",
      "[NeMo I 2022-03-07 13:14:49 glue_benchmark_dataset:322] input_ids: 101 1037 2034 3694 3836 2356 2014 2465 2000 3143 1996 2206 6011 15185 2015 1012 1045 2228 2070 2024 2488 2059 1996 23728 1012 8299 1024 1013 1013 1056 1012 2522 1013 10958 2480 8024 25746 2102 102 0 0 0 0 0 0 0 0 0 0 0 0 0 0 0 0 0 0 0 0 0 0 0 0 0 0 0 0 0 0 0 0 0 0 0 0 0 0 0 0 0 0 0 0 0 0 0 0 0 0 0 0 0 0 0 0 0 0 0 0 0 0 0 0 0 0 0 0 0 0 0 0 0 0 0 0 0 0 0 0 0 0 0 0 0 0 0 0 0\n",
      "[NeMo I 2022-03-07 13:14:49 glue_benchmark_dataset:323] input_mask: 1 1 1 1 1 1 1 1 1 1 1 1 1 1 1 1 1 1 1 1 1 1 1 1 1 1 1 1 1 1 1 1 1 1 1 1 1 1 1 0 0 0 0 0 0 0 0 0 0 0 0 0 0 0 0 0 0 0 0 0 0 0 0 0 0 0 0 0 0 0 0 0 0 0 0 0 0 0 0 0 0 0 0 0 0 0 0 0 0 0 0 0 0 0 0 0 0 0 0 0 0 0 0 0 0 0 0 0 0 0 0 0 0 0 0 0 0 0 0 0 0 0 0 0 0 0 0 0\n",
      "[NeMo I 2022-03-07 13:14:49 glue_benchmark_dataset:324] segment_ids: 0 0 0 0 0 0 0 0 0 0 0 0 0 0 0 0 0 0 0 0 0 0 0 0 0 0 0 0 0 0 0 0 0 0 0 0 0 0 0 0 0 0 0 0 0 0 0 0 0 0 0 0 0 0 0 0 0 0 0 0 0 0 0 0 0 0 0 0 0 0 0 0 0 0 0 0 0 0 0 0 0 0 0 0 0 0 0 0 0 0 0 0 0 0 0 0 0 0 0 0 0 0 0 0 0 0 0 0 0 0 0 0 0 0 0 0 0 0 0 0 0 0 0 0 0 0 0 0\n",
      "[NeMo I 2022-03-07 13:14:49 glue_benchmark_dataset:325] label: 3 (id = 3)\n",
      "[NeMo I 2022-03-07 13:14:55 glue_benchmark_dataset:237] Writing example 10000 of 89004\n",
      "[NeMo I 2022-03-07 13:15:02 glue_benchmark_dataset:237] Writing example 20000 of 89004\n",
      "[NeMo I 2022-03-07 13:15:08 glue_benchmark_dataset:237] Writing example 30000 of 89004\n",
      "[NeMo I 2022-03-07 13:15:14 glue_benchmark_dataset:237] Writing example 40000 of 89004\n",
      "[NeMo I 2022-03-07 13:15:21 glue_benchmark_dataset:237] Writing example 50000 of 89004\n",
      "[NeMo I 2022-03-07 13:15:27 glue_benchmark_dataset:237] Writing example 60000 of 89004\n",
      "[NeMo I 2022-03-07 13:15:34 glue_benchmark_dataset:237] Writing example 70000 of 89004\n",
      "[NeMo I 2022-03-07 13:15:41 glue_benchmark_dataset:237] Writing example 80000 of 89004\n"
     ]
    }
   ],
   "source": [
    "predictions = pretrained_model.predict(tr_tweets, candidate_labels, batch_size=32, multi_label=True)"
   ]
  },
  {
   "cell_type": "code",
   "execution_count": 6,
   "id": "20aaef3d",
   "metadata": {},
   "outputs": [],
   "source": [
    "tr_tweet_embs = np.concatenate(predictions, axis=0)"
   ]
  },
  {
   "cell_type": "code",
   "execution_count": 7,
   "id": "0978e348",
   "metadata": {},
   "outputs": [],
   "source": [
    "val_tweets = df_val['text'].to_list()\n",
    "val_drugs = df_val['drug'].to_list()"
   ]
  },
  {
   "cell_type": "code",
   "execution_count": 8,
   "id": "7b180dfd",
   "metadata": {
    "scrolled": true
   },
   "outputs": [
    {
     "name": "stdout",
     "output_type": "stream",
     "text": [
      "[NeMo I 2022-03-07 13:19:09 zero_shot_intent_dataset:234] Processing queries for inference\n",
      "[NeMo I 2022-03-07 13:19:09 glue_benchmark_dataset:237] Writing example 0 of 38149\n",
      "[NeMo I 2022-03-07 13:19:09 glue_benchmark_dataset:319] *** Example ***\n",
      "[NeMo I 2022-03-07 13:19:09 glue_benchmark_dataset:320] guid: query-0-label-0\n",
      "[NeMo I 2022-03-07 13:19:09 glue_benchmark_dataset:321] tokens: [CLS] i ' m 37 weeks pregnant so i can do whatever the hell i want [SEP]\n",
      "[NeMo I 2022-03-07 13:19:09 glue_benchmark_dataset:322] input_ids: 101 1045 1005 1049 4261 3134 6875 2061 1045 2064 2079 3649 1996 3109 1045 2215 102 0 0 0 0 0 0 0 0 0 0 0 0 0 0 0 0 0 0 0 0 0 0 0 0 0 0 0 0 0 0 0 0 0 0 0 0 0 0 0 0 0 0 0 0 0 0 0 0 0 0 0 0 0 0 0 0 0 0 0 0 0 0 0 0 0 0 0 0 0 0 0 0 0 0 0 0 0 0 0 0 0 0 0 0 0 0 0 0 0 0 0 0 0 0 0 0 0 0 0 0 0 0 0 0 0 0 0 0 0 0 0\n",
      "[NeMo I 2022-03-07 13:19:09 glue_benchmark_dataset:323] input_mask: 1 1 1 1 1 1 1 1 1 1 1 1 1 1 1 1 1 0 0 0 0 0 0 0 0 0 0 0 0 0 0 0 0 0 0 0 0 0 0 0 0 0 0 0 0 0 0 0 0 0 0 0 0 0 0 0 0 0 0 0 0 0 0 0 0 0 0 0 0 0 0 0 0 0 0 0 0 0 0 0 0 0 0 0 0 0 0 0 0 0 0 0 0 0 0 0 0 0 0 0 0 0 0 0 0 0 0 0 0 0 0 0 0 0 0 0 0 0 0 0 0 0 0 0 0 0 0 0\n",
      "[NeMo I 2022-03-07 13:19:09 glue_benchmark_dataset:324] segment_ids: 0 0 0 0 0 0 0 0 0 0 0 0 0 0 0 0 0 0 0 0 0 0 0 0 0 0 0 0 0 0 0 0 0 0 0 0 0 0 0 0 0 0 0 0 0 0 0 0 0 0 0 0 0 0 0 0 0 0 0 0 0 0 0 0 0 0 0 0 0 0 0 0 0 0 0 0 0 0 0 0 0 0 0 0 0 0 0 0 0 0 0 0 0 0 0 0 0 0 0 0 0 0 0 0 0 0 0 0 0 0 0 0 0 0 0 0 0 0 0 0 0 0 0 0 0 0 0 0\n",
      "[NeMo I 2022-03-07 13:19:09 glue_benchmark_dataset:325] label: 3 (id = 3)\n",
      "[NeMo I 2022-03-07 13:19:09 glue_benchmark_dataset:319] *** Example ***\n",
      "[NeMo I 2022-03-07 13:19:09 glue_benchmark_dataset:320] guid: query-1-label-0\n",
      "[NeMo I 2022-03-07 13:19:09 glue_benchmark_dataset:321] tokens: [CLS] @ ray ##na ##ja ##ye baha ##ha ##ha ##ha ##ha ##ha ##ha ##ha [SEP]\n",
      "[NeMo I 2022-03-07 13:19:09 glue_benchmark_dataset:322] input_ids: 101 1030 4097 2532 3900 6672 13253 3270 3270 3270 3270 3270 3270 3270 102 0 0 0 0 0 0 0 0 0 0 0 0 0 0 0 0 0 0 0 0 0 0 0 0 0 0 0 0 0 0 0 0 0 0 0 0 0 0 0 0 0 0 0 0 0 0 0 0 0 0 0 0 0 0 0 0 0 0 0 0 0 0 0 0 0 0 0 0 0 0 0 0 0 0 0 0 0 0 0 0 0 0 0 0 0 0 0 0 0 0 0 0 0 0 0 0 0 0 0 0 0 0 0 0 0 0 0 0 0 0 0 0 0\n",
      "[NeMo I 2022-03-07 13:19:09 glue_benchmark_dataset:323] input_mask: 1 1 1 1 1 1 1 1 1 1 1 1 1 1 1 0 0 0 0 0 0 0 0 0 0 0 0 0 0 0 0 0 0 0 0 0 0 0 0 0 0 0 0 0 0 0 0 0 0 0 0 0 0 0 0 0 0 0 0 0 0 0 0 0 0 0 0 0 0 0 0 0 0 0 0 0 0 0 0 0 0 0 0 0 0 0 0 0 0 0 0 0 0 0 0 0 0 0 0 0 0 0 0 0 0 0 0 0 0 0 0 0 0 0 0 0 0 0 0 0 0 0 0 0 0 0 0 0\n",
      "[NeMo I 2022-03-07 13:19:09 glue_benchmark_dataset:324] segment_ids: 0 0 0 0 0 0 0 0 0 0 0 0 0 0 0 0 0 0 0 0 0 0 0 0 0 0 0 0 0 0 0 0 0 0 0 0 0 0 0 0 0 0 0 0 0 0 0 0 0 0 0 0 0 0 0 0 0 0 0 0 0 0 0 0 0 0 0 0 0 0 0 0 0 0 0 0 0 0 0 0 0 0 0 0 0 0 0 0 0 0 0 0 0 0 0 0 0 0 0 0 0 0 0 0 0 0 0 0 0 0 0 0 0 0 0 0 0 0 0 0 0 0 0 0 0 0 0 0\n",
      "[NeMo I 2022-03-07 13:19:09 glue_benchmark_dataset:325] label: 3 (id = 3)\n",
      "[NeMo I 2022-03-07 13:19:09 glue_benchmark_dataset:319] *** Example ***\n",
      "[NeMo I 2022-03-07 13:19:09 glue_benchmark_dataset:320] guid: query-2-label-0\n",
      "[NeMo I 2022-03-07 13:19:09 glue_benchmark_dataset:321] tokens: [CLS] @ mama ##s _ rip ##dad thank yu [UNK] [SEP]\n",
      "[NeMo I 2022-03-07 13:19:09 glue_benchmark_dataset:322] input_ids: 101 1030 9588 2015 1035 10973 14697 4067 9805 100 102 0 0 0 0 0 0 0 0 0 0 0 0 0 0 0 0 0 0 0 0 0 0 0 0 0 0 0 0 0 0 0 0 0 0 0 0 0 0 0 0 0 0 0 0 0 0 0 0 0 0 0 0 0 0 0 0 0 0 0 0 0 0 0 0 0 0 0 0 0 0 0 0 0 0 0 0 0 0 0 0 0 0 0 0 0 0 0 0 0 0 0 0 0 0 0 0 0 0 0 0 0 0 0 0 0 0 0 0 0 0 0 0 0 0 0 0 0\n",
      "[NeMo I 2022-03-07 13:19:09 glue_benchmark_dataset:323] input_mask: 1 1 1 1 1 1 1 1 1 1 1 0 0 0 0 0 0 0 0 0 0 0 0 0 0 0 0 0 0 0 0 0 0 0 0 0 0 0 0 0 0 0 0 0 0 0 0 0 0 0 0 0 0 0 0 0 0 0 0 0 0 0 0 0 0 0 0 0 0 0 0 0 0 0 0 0 0 0 0 0 0 0 0 0 0 0 0 0 0 0 0 0 0 0 0 0 0 0 0 0 0 0 0 0 0 0 0 0 0 0 0 0 0 0 0 0 0 0 0 0 0 0 0 0 0 0 0 0\n",
      "[NeMo I 2022-03-07 13:19:09 glue_benchmark_dataset:324] segment_ids: 0 0 0 0 0 0 0 0 0 0 0 0 0 0 0 0 0 0 0 0 0 0 0 0 0 0 0 0 0 0 0 0 0 0 0 0 0 0 0 0 0 0 0 0 0 0 0 0 0 0 0 0 0 0 0 0 0 0 0 0 0 0 0 0 0 0 0 0 0 0 0 0 0 0 0 0 0 0 0 0 0 0 0 0 0 0 0 0 0 0 0 0 0 0 0 0 0 0 0 0 0 0 0 0 0 0 0 0 0 0 0 0 0 0 0 0 0 0 0 0 0 0 0 0 0 0 0 0\n",
      "[NeMo I 2022-03-07 13:19:09 glue_benchmark_dataset:325] label: 3 (id = 3)\n",
      "[NeMo I 2022-03-07 13:19:09 glue_benchmark_dataset:319] *** Example ***\n",
      "[NeMo I 2022-03-07 13:19:09 glue_benchmark_dataset:320] guid: query-3-label-0\n",
      "[NeMo I 2022-03-07 13:19:09 glue_benchmark_dataset:321] tokens: [CLS] br ##uh do you wanna fight nah man it ' s problem [SEP]\n",
      "[NeMo I 2022-03-07 13:19:09 glue_benchmark_dataset:322] input_ids: 101 7987 27225 2079 2017 10587 2954 20976 2158 2009 1005 1055 3291 102 0 0 0 0 0 0 0 0 0 0 0 0 0 0 0 0 0 0 0 0 0 0 0 0 0 0 0 0 0 0 0 0 0 0 0 0 0 0 0 0 0 0 0 0 0 0 0 0 0 0 0 0 0 0 0 0 0 0 0 0 0 0 0 0 0 0 0 0 0 0 0 0 0 0 0 0 0 0 0 0 0 0 0 0 0 0 0 0 0 0 0 0 0 0 0 0 0 0 0 0 0 0 0 0 0 0 0 0 0 0 0 0 0 0\n",
      "[NeMo I 2022-03-07 13:19:09 glue_benchmark_dataset:323] input_mask: 1 1 1 1 1 1 1 1 1 1 1 1 1 1 0 0 0 0 0 0 0 0 0 0 0 0 0 0 0 0 0 0 0 0 0 0 0 0 0 0 0 0 0 0 0 0 0 0 0 0 0 0 0 0 0 0 0 0 0 0 0 0 0 0 0 0 0 0 0 0 0 0 0 0 0 0 0 0 0 0 0 0 0 0 0 0 0 0 0 0 0 0 0 0 0 0 0 0 0 0 0 0 0 0 0 0 0 0 0 0 0 0 0 0 0 0 0 0 0 0 0 0 0 0 0 0 0 0\n",
      "[NeMo I 2022-03-07 13:19:09 glue_benchmark_dataset:324] segment_ids: 0 0 0 0 0 0 0 0 0 0 0 0 0 0 0 0 0 0 0 0 0 0 0 0 0 0 0 0 0 0 0 0 0 0 0 0 0 0 0 0 0 0 0 0 0 0 0 0 0 0 0 0 0 0 0 0 0 0 0 0 0 0 0 0 0 0 0 0 0 0 0 0 0 0 0 0 0 0 0 0 0 0 0 0 0 0 0 0 0 0 0 0 0 0 0 0 0 0 0 0 0 0 0 0 0 0 0 0 0 0 0 0 0 0 0 0 0 0 0 0 0 0 0 0 0 0 0 0\n",
      "[NeMo I 2022-03-07 13:19:09 glue_benchmark_dataset:325] label: 3 (id = 3)\n",
      "[NeMo I 2022-03-07 13:19:09 glue_benchmark_dataset:319] *** Example ***\n",
      "[NeMo I 2022-03-07 13:19:09 glue_benchmark_dataset:320] guid: query-4-label-0\n",
      "[NeMo I 2022-03-07 13:19:09 glue_benchmark_dataset:321] tokens: [CLS] it has been a difficult transition . [SEP]\n",
      "[NeMo I 2022-03-07 13:19:09 glue_benchmark_dataset:322] input_ids: 101 2009 2038 2042 1037 3697 6653 1012 102 0 0 0 0 0 0 0 0 0 0 0 0 0 0 0 0 0 0 0 0 0 0 0 0 0 0 0 0 0 0 0 0 0 0 0 0 0 0 0 0 0 0 0 0 0 0 0 0 0 0 0 0 0 0 0 0 0 0 0 0 0 0 0 0 0 0 0 0 0 0 0 0 0 0 0 0 0 0 0 0 0 0 0 0 0 0 0 0 0 0 0 0 0 0 0 0 0 0 0 0 0 0 0 0 0 0 0 0 0 0 0 0 0 0 0 0 0 0 0\n",
      "[NeMo I 2022-03-07 13:19:09 glue_benchmark_dataset:323] input_mask: 1 1 1 1 1 1 1 1 1 0 0 0 0 0 0 0 0 0 0 0 0 0 0 0 0 0 0 0 0 0 0 0 0 0 0 0 0 0 0 0 0 0 0 0 0 0 0 0 0 0 0 0 0 0 0 0 0 0 0 0 0 0 0 0 0 0 0 0 0 0 0 0 0 0 0 0 0 0 0 0 0 0 0 0 0 0 0 0 0 0 0 0 0 0 0 0 0 0 0 0 0 0 0 0 0 0 0 0 0 0 0 0 0 0 0 0 0 0 0 0 0 0 0 0 0 0 0 0\n",
      "[NeMo I 2022-03-07 13:19:09 glue_benchmark_dataset:324] segment_ids: 0 0 0 0 0 0 0 0 0 0 0 0 0 0 0 0 0 0 0 0 0 0 0 0 0 0 0 0 0 0 0 0 0 0 0 0 0 0 0 0 0 0 0 0 0 0 0 0 0 0 0 0 0 0 0 0 0 0 0 0 0 0 0 0 0 0 0 0 0 0 0 0 0 0 0 0 0 0 0 0 0 0 0 0 0 0 0 0 0 0 0 0 0 0 0 0 0 0 0 0 0 0 0 0 0 0 0 0 0 0 0 0 0 0 0 0 0 0 0 0 0 0 0 0 0 0 0 0\n",
      "[NeMo I 2022-03-07 13:19:09 glue_benchmark_dataset:325] label: 3 (id = 3)\n",
      "[NeMo I 2022-03-07 13:19:15 glue_benchmark_dataset:237] Writing example 10000 of 38149\n",
      "[NeMo I 2022-03-07 13:19:22 glue_benchmark_dataset:237] Writing example 20000 of 38149\n",
      "[NeMo I 2022-03-07 13:19:29 glue_benchmark_dataset:237] Writing example 30000 of 38149\n"
     ]
    }
   ],
   "source": [
    "predictions = pretrained_model.predict(val_tweets, candidate_labels, batch_size=32, multi_label=True)"
   ]
  },
  {
   "cell_type": "code",
   "execution_count": 9,
   "id": "296cc505",
   "metadata": {},
   "outputs": [],
   "source": [
    "val_tweet_embs = np.concatenate(predictions, axis=0)"
   ]
  },
  {
   "cell_type": "code",
   "execution_count": 10,
   "id": "2ab4a49b",
   "metadata": {},
   "outputs": [],
   "source": [
    "index = faiss.IndexFlatL2(tr_tweet_embs.shape[1])"
   ]
  },
  {
   "cell_type": "code",
   "execution_count": 11,
   "id": "79e941b2",
   "metadata": {},
   "outputs": [
    {
     "name": "stdout",
     "output_type": "stream",
     "text": [
      "True\n"
     ]
    }
   ],
   "source": [
    "print(index.is_trained)"
   ]
  },
  {
   "cell_type": "code",
   "execution_count": 12,
   "id": "594a114d",
   "metadata": {},
   "outputs": [],
   "source": [
    "index.add(tr_tweet_embs)"
   ]
  },
  {
   "cell_type": "code",
   "execution_count": 13,
   "id": "31e55520",
   "metadata": {},
   "outputs": [
    {
     "data": {
      "text/plain": [
       "89004"
      ]
     },
     "execution_count": 13,
     "metadata": {},
     "output_type": "execute_result"
    }
   ],
   "source": [
    "index.ntotal"
   ]
  },
  {
   "cell_type": "code",
   "execution_count": 14,
   "id": "68e3e052",
   "metadata": {},
   "outputs": [],
   "source": [
    "val_tweets_not_none = df_val[df_val['drug'] != '-']\n",
    "val_tweets_none = df_val[df_val['drug'] == '-']"
   ]
  },
  {
   "cell_type": "code",
   "execution_count": 15,
   "id": "8ce08f4f",
   "metadata": {},
   "outputs": [],
   "source": [
    "val_tweets_not_none_sample_idx = val_tweets_not_none.index[np.random.randint(0, high=len(val_tweets_not_none), size=5)]\n",
    "val_tweets_none_sample_idx = val_tweets_none.index[np.random.randint(0, high=len(val_tweets_none), size=5)]"
   ]
  },
  {
   "cell_type": "code",
   "execution_count": 16,
   "id": "b7aa8928",
   "metadata": {
    "scrolled": true
   },
   "outputs": [
    {
     "data": {
      "text/html": [
       "<div>\n",
       "<style scoped>\n",
       "    .dataframe tbody tr th:only-of-type {\n",
       "        vertical-align: middle;\n",
       "    }\n",
       "\n",
       "    .dataframe tbody tr th {\n",
       "        vertical-align: top;\n",
       "    }\n",
       "\n",
       "    .dataframe thead th {\n",
       "        text-align: right;\n",
       "    }\n",
       "</style>\n",
       "<table border=\"1\" class=\"dataframe\">\n",
       "  <thead>\n",
       "    <tr style=\"text-align: right;\">\n",
       "      <th></th>\n",
       "      <th>tweet_id</th>\n",
       "      <th>user_id</th>\n",
       "      <th>created_at</th>\n",
       "      <th>text</th>\n",
       "      <th>start</th>\n",
       "      <th>end</th>\n",
       "      <th>span</th>\n",
       "      <th>drug</th>\n",
       "    </tr>\n",
       "  </thead>\n",
       "  <tbody>\n",
       "    <tr>\n",
       "      <th>36492</th>\n",
       "      <td>735212614989557760</td>\n",
       "      <td>431145629</td>\n",
       "      <td>2016-05-24</td>\n",
       "      <td>Oaklee's heartbeat was 142 today,and I have fi...</td>\n",
       "      <td>91</td>\n",
       "      <td>97</td>\n",
       "      <td>Zantac</td>\n",
       "      <td>zantac</td>\n",
       "    </tr>\n",
       "    <tr>\n",
       "      <th>5909</th>\n",
       "      <td>529668542036447232</td>\n",
       "      <td>2444385272</td>\n",
       "      <td>2014-11-04</td>\n",
       "      <td>Too bad I'm terrified of the epidural</td>\n",
       "      <td>29</td>\n",
       "      <td>37</td>\n",
       "      <td>epidural</td>\n",
       "      <td>epidural</td>\n",
       "    </tr>\n",
       "    <tr>\n",
       "      <th>30701</th>\n",
       "      <td>677248150524919808</td>\n",
       "      <td>1465089974</td>\n",
       "      <td>2015-12-16</td>\n",
       "      <td>@elizabeth81013 I hope I get orange, orange is...</td>\n",
       "      <td>114</td>\n",
       "      <td>122</td>\n",
       "      <td>epidural</td>\n",
       "      <td>epidural</td>\n",
       "    </tr>\n",
       "    <tr>\n",
       "      <th>20110</th>\n",
       "      <td>407452452133171200</td>\n",
       "      <td>1115191412</td>\n",
       "      <td>2013-12-02</td>\n",
       "      <td>@TSuntken I thought you were sleeping.. I can'...</td>\n",
       "      <td>76</td>\n",
       "      <td>93</td>\n",
       "      <td>sleeping medicine</td>\n",
       "      <td>sleeping medicine</td>\n",
       "    </tr>\n",
       "    <tr>\n",
       "      <th>25410</th>\n",
       "      <td>549455891331026944</td>\n",
       "      <td>1154971159</td>\n",
       "      <td>2014-12-29</td>\n",
       "      <td>Mommy caved &amp;amp; got dilaudid .... Happy time...</td>\n",
       "      <td>22</td>\n",
       "      <td>30</td>\n",
       "      <td>dilaudid</td>\n",
       "      <td>dilaudid</td>\n",
       "    </tr>\n",
       "    <tr>\n",
       "      <th>10993</th>\n",
       "      <td>754921420908535808</td>\n",
       "      <td>252235856</td>\n",
       "      <td>2016-07-18</td>\n",
       "      <td>Don't miss me when I'm gone, miss me before I ...</td>\n",
       "      <td>-</td>\n",
       "      <td>-</td>\n",
       "      <td>-</td>\n",
       "      <td>-</td>\n",
       "    </tr>\n",
       "    <tr>\n",
       "      <th>8798</th>\n",
       "      <td>752185087408545792</td>\n",
       "      <td>1959970807</td>\n",
       "      <td>2016-07-10</td>\n",
       "      <td>@Morgan_Shyann3 thanks Morg! you too homegirl,...</td>\n",
       "      <td>-</td>\n",
       "      <td>-</td>\n",
       "      <td>-</td>\n",
       "      <td>-</td>\n",
       "    </tr>\n",
       "    <tr>\n",
       "      <th>14557</th>\n",
       "      <td>758777720562147332</td>\n",
       "      <td>19546372</td>\n",
       "      <td>2016-07-28</td>\n",
       "      <td>Heavy D? Does that stand for heavily deranged?...</td>\n",
       "      <td>-</td>\n",
       "      <td>-</td>\n",
       "      <td>-</td>\n",
       "      <td>-</td>\n",
       "    </tr>\n",
       "    <tr>\n",
       "      <th>24607</th>\n",
       "      <td>841651781390237697</td>\n",
       "      <td>583610519</td>\n",
       "      <td>2017-03-14</td>\n",
       "      <td>All I can ask is for you to realize where you ...</td>\n",
       "      <td>-</td>\n",
       "      <td>-</td>\n",
       "      <td>-</td>\n",
       "      <td>-</td>\n",
       "    </tr>\n",
       "    <tr>\n",
       "      <th>23700</th>\n",
       "      <td>538832434134282240</td>\n",
       "      <td>475534141</td>\n",
       "      <td>2014-11-29</td>\n",
       "      <td>Greg P. Courtney Jacob http://t.co/XXpOEzFvtD</td>\n",
       "      <td>-</td>\n",
       "      <td>-</td>\n",
       "      <td>-</td>\n",
       "      <td>-</td>\n",
       "    </tr>\n",
       "  </tbody>\n",
       "</table>\n",
       "</div>"
      ],
      "text/plain": [
       "                 tweet_id     user_id  created_at  \\\n",
       "36492  735212614989557760   431145629  2016-05-24   \n",
       "5909   529668542036447232  2444385272  2014-11-04   \n",
       "30701  677248150524919808  1465089974  2015-12-16   \n",
       "20110  407452452133171200  1115191412  2013-12-02   \n",
       "25410  549455891331026944  1154971159  2014-12-29   \n",
       "10993  754921420908535808   252235856  2016-07-18   \n",
       "8798   752185087408545792  1959970807  2016-07-10   \n",
       "14557  758777720562147332    19546372  2016-07-28   \n",
       "24607  841651781390237697   583610519  2017-03-14   \n",
       "23700  538832434134282240   475534141  2014-11-29   \n",
       "\n",
       "                                                    text start  end  \\\n",
       "36492  Oaklee's heartbeat was 142 today,and I have fi...    91   97   \n",
       "5909               Too bad I'm terrified of the epidural    29   37   \n",
       "30701  @elizabeth81013 I hope I get orange, orange is...   114  122   \n",
       "20110  @TSuntken I thought you were sleeping.. I can'...    76   93   \n",
       "25410  Mommy caved &amp; got dilaudid .... Happy time...    22   30   \n",
       "10993  Don't miss me when I'm gone, miss me before I ...     -    -   \n",
       "8798   @Morgan_Shyann3 thanks Morg! you too homegirl,...     -    -   \n",
       "14557  Heavy D? Does that stand for heavily deranged?...     -    -   \n",
       "24607  All I can ask is for you to realize where you ...     -    -   \n",
       "23700      Greg P. Courtney Jacob http://t.co/XXpOEzFvtD     -    -   \n",
       "\n",
       "                    span               drug  \n",
       "36492             Zantac             zantac  \n",
       "5909            epidural           epidural  \n",
       "30701           epidural           epidural  \n",
       "20110  sleeping medicine  sleeping medicine  \n",
       "25410           dilaudid           dilaudid  \n",
       "10993                  -                  -  \n",
       "8798                   -                  -  \n",
       "14557                  -                  -  \n",
       "24607                  -                  -  \n",
       "23700                  -                  -  "
      ]
     },
     "execution_count": 16,
     "metadata": {},
     "output_type": "execute_result"
    }
   ],
   "source": [
    "df_val.iloc[list(val_tweets_not_none_sample_idx) + list(val_tweets_none_sample_idx)]"
   ]
  },
  {
   "cell_type": "code",
   "execution_count": 37,
   "id": "dcb5845d",
   "metadata": {},
   "outputs": [],
   "source": [
    "k = 5\n",
    "sample_list_idxs = list(val_tweets_not_none_sample_idx) + list(val_tweets_none_sample_idx)"
   ]
  },
  {
   "cell_type": "code",
   "execution_count": 29,
   "id": "18058a43",
   "metadata": {},
   "outputs": [],
   "source": [
    "D, I = index.search(val_tweet_embs[sample_list_idxs,:], k)"
   ]
  },
  {
   "cell_type": "code",
   "execution_count": 47,
   "id": "03a4a01f",
   "metadata": {
    "scrolled": false
   },
   "outputs": [
    {
     "name": "stdout",
     "output_type": "stream",
     "text": [
      "Original Text: Oaklee's heartbeat was 142 today,and I have finally managed to gain 3 pounds.Thank god for Zantac that keeps me from heartburn and puking😊💚; Drug: zantac\n",
      "------\n",
      "Retrieved Top-5\n",
      "------\n",
      "0: Text: @lilyfharris he couldn't poo, bless him. So he's having bowel flushes till we get the results back from his last test. He's ok though :) xx; Drug: -\n",
      "1: Text: I guess I'm lucky that iv got away with feeling fine from 14-38 weeks but I really feel crap now! Enough? #yesplease; Drug: -\n",
      "2: Text: I can go into labor next week &amp; my doctor said he will not stop me, meanwhile my hospital bags aren't packed😩; Drug: -\n",
      "3: Text: @MyMdamer9 haha I'm jk. Well I did order 80$ worth but I took orders from BC's work mates. They ordered a bunch. But I got myself 8 boxes 😂; Drug: -\n",
      "4: Text: Thank the lord for flexible working... 8 days left... 7 of those will be little days! #41daystilldday; Drug: -\n",
      "======\n",
      "Original Text: Too bad I'm terrified of the epidural; Drug: epidural\n",
      "------\n",
      "Retrieved Top-5\n",
      "------\n",
      "0: Text: I need food soooo bad; Drug: -\n",
      "1: Text: @bbeemerbill that's a threat; Drug: -\n",
      "2: Text: She is sickkkkkkk; Drug: -\n",
      "3: Text: sick to my stomach ☹️; Drug: -\n",
      "4: Text: @xtheyLOVEashxo Lmao you're annoying; Drug: -\n",
      "======\n",
      "Original Text: @elizabeth81013 I hope I get orange, orange is my fave flavor of anything lol &amp; Im not even worried about the epidural bc I kno ima want it!; Drug: epidural\n",
      "------\n",
      "Retrieved Top-5\n",
      "------\n",
      "0: Text: Has anyone had a lemonade from the carnival thingy? I just really want a st e lemonade &amp; funnel cakeeeee!; Drug: -\n",
      "1: Text: @ashstronge basically big oranges lol. She will be back in no time she never stays away long; Drug: -\n",
      "2: Text: Just brought this beauty in this morning! #ASCP #shabbychic @ Nic Nac Paddywac's http://t.co/JJXn8YR2; Drug: -\n",
      "3: Text: Did I really need to eat that second @Pinkboxdoughnut?!?!; Drug: -\n",
      "4: Text: @applebombbenita sounds like me ace!; Drug: -\n",
      "======\n",
      "Original Text: @TSuntken I thought you were sleeping.. I can't its not gonna happen I took sleeping medicine and everything.; Drug: sleeping medicine\n",
      "------\n",
      "Retrieved Top-5\n",
      "------\n",
      "0: Text: @Grace_Stoops HOW! I bought all the stuff to make it a couple weeks ago but then couldn't find the directions on how. Ugh. So I had S'mores.; Drug: -\n",
      "1: Text: @KyNaBoutique Got home about 10.30. Bit later than planned, had to wait for my anti-d. Just having food &amp; then bed!; Drug: -\n",
      "2: Text: @blankitaaa_ lol I imagine it sucking like reg but at least I would have you, rococo, and Susan!! lol I miss working 😭😭; Drug: -\n",
      "3: Text: @Tony_Losoya Well work gave me the ticket but didn't let me off in time, got there around the third or fourth &amp; had a raging migraine. lame.; Drug: -\n",
      "4: Text: 99% sure im gonna throw this up but i'll attempt to eat anyways. 🙃; Drug: -\n",
      "======\n",
      "Original Text: Mommy caved &amp; got dilaudid .... Happy times right now. 😃👍 Been in labor for nearly 5hrs now, still… http://t.co/7yxX52LVdM; Drug: dilaudid\n",
      "------\n",
      "Retrieved Top-5\n",
      "------\n",
      "0: Text: Toby &amp; I have had fluffy for almost 5 years now! He's now and outside cat and his coat needs some love but he's sti… https://t.co/SWPEP7bovQ; Drug: -\n",
      "1: Text: My baby make me so lazy &amp; tired. I can sleep for 12 hours &amp; still be tired. She takin all my energy 😩; Drug: -\n",
      "2: Text: @howetolove You still got lots of time! Baby just has lots of room to wiggle. Mine has finally settled into cephalic after bouncing around!!; Drug: -\n",
      "3: Text: the community midwives here are so fab. had a little concern and she just got me to pop down and she listened to baby. all is well :); Drug: -\n",
      "4: Text: Pretty proud 😆 1 week postpartum 😁 still have work to do but back down to pre pregnancy size and just need to tone… https://t.co/TRzctkoecp; Drug: -\n",
      "======\n",
      "Original Text: Don't miss me when I'm gone, miss me before I go... do us both a favor.; Drug: -\n",
      "------\n",
      "Retrieved Top-5\n",
      "------\n",
      "0: Text: I'm enjoying #StrangerThings. I hope it doesn't get shit.; Drug: -\n",
      "1: Text: My dads little hoe won't leave us alone. Like he's home with his family.... Go away.; Drug: -\n",
      "2: Text: @_mirandaakay pls tell me she isn't still talking shit.; Drug: -\n",
      "3: Text: I'm Not Gonna Sit Here Waiting .. &amp;&amp; Waiting ... &amp;&amp; Waiting . 👋; Drug: -\n",
      "4: Text: Don't overspend this holiday. Put a price on friendship with the Careculator. https://t.co/r1McySPd0J #SpendLessOnThePeopleYouLove; Drug: -\n",
      "======\n",
      "Original Text: @Morgan_Shyann3 thanks Morg! you too homegirl, miss ya!😽; Drug: -\n",
      "------\n",
      "Retrieved Top-5\n",
      "------\n",
      "0: Text: @hailey_grooms thanks girl 💗; Drug: -\n",
      "1: Text: @oliviaaa_gomez Thanks babes 💙💙💙; Drug: -\n",
      "2: Text: @MeganLynn_15 ☺️ thanks megs! ily girly ❤️; Drug: -\n",
      "3: Text: @taylormelzoni @Adkelhoffer thanks babe!!! 😍; Drug: -\n",
      "4: Text: @BigPapiMiller10 love you too home slice!😋; Drug: -\n",
      "======\n",
      "Original Text: Heavy D? Does that stand for heavily deranged?  #CelebrityBigBrother; Drug: -\n",
      "------\n",
      "Retrieved Top-5\n",
      "------\n",
      "0: Text: Seriously, do you have to be cartoonishly evil to work there? Are they all agents of COBRA?! #ComeTheFuckOn https://t.co/D5OUOljnmG; Drug: -\n",
      "1: Text: @SatanLibrarian class act.; Drug: -\n",
      "2: Text: @RoofcomeMissing @toujoours one bad motherfucker !!! 😈😍😋 https://t.co/NrSl6dWKhe; Drug: -\n",
      "3: Text: @RaynaJaye do you mean evil satan frog?; Drug: -\n",
      "4: Text: rft, nosey asses https://t.co/PDbV5WOWlm; Drug: -\n",
      "======\n",
      "Original Text: All I can ask is for you to realize where you made mistakes and learn from it. I'm glad I'm seeing that change in you. ❤; Drug: -\n",
      "------\n",
      "Retrieved Top-5\n",
      "------\n",
      "0: Text: The amount of love and support I've received today is unreal. Thank you. ❤️; Drug: -\n",
      "1: Text: I thank God every day for the wonderful things I have in my life. I'm one blessed young lady. 😊; Drug: -\n",
      "2: Text: @KyNaBoutique Parcel just arrived. Thank you. 😘😘😘; Drug: -\n",
      "3: Text: @RuthKim Appreciate it more than I can say, thank you! ❤️; Drug: -\n",
      "4: Text: @_ImYajaira7 thank you sweet pea, I appreciate it more than you know😘; Drug: -\n",
      "======\n",
      "Original Text: Greg P. Courtney Jacob http://t.co/XXpOEzFvtD; Drug: -\n",
      "------\n",
      "Retrieved Top-5\n",
      "------\n",
      "0: Text: Channing Tatum https://t.co/jOdkDyC1eP; Drug: -\n",
      "1: Text: Courtney Greg P. Savanna http://t.co/JCeKtRZnBj; Drug: -\n",
      "2: Text: Noah DeAnthony Navarro http://t.co/GePaE1khbG; Drug: -\n",
      "3: Text: Jay Menor Serrano 󾌴󾌴󾌴 https://t.co/0iD8KQFtKO; Drug: -\n",
      "4: Text: Lol Tiffani http://t.co/r0T5Jd1Mdm http://t.co/bLBiBXyqdf; Drug: -\n",
      "======\n"
     ]
    }
   ],
   "source": [
    "for i in range(len(sample_list_idxs)):\n",
    "    print('Original Text: {}; Drug: {}'.format(df_val.iloc[sample_list_idxs[i]]['text'],\n",
    "                                            df_val.iloc[sample_list_idxs[i]]['drug']))\n",
    "    print('------')\n",
    "    print('Retrieved Top-{}'.format(k))\n",
    "    print('------')\n",
    "    for j in range(k):\n",
    "        print('{}: Text: {}; Drug: {}'.format(j, df_tr.iloc[I[i,j]]['text'], df_tr.iloc[I[i,j]]['drug']))\n",
    "    print('======')"
   ]
  },
  {
   "cell_type": "code",
   "execution_count": null,
   "id": "af09dbae",
   "metadata": {},
   "outputs": [],
   "source": []
  }
 ],
 "metadata": {
  "kernelspec": {
   "display_name": "Python 3 (ipykernel)",
   "language": "python",
   "name": "python3"
  },
  "language_info": {
   "codemirror_mode": {
    "name": "ipython",
    "version": 3
   },
   "file_extension": ".py",
   "mimetype": "text/x-python",
   "name": "python",
   "nbconvert_exporter": "python",
   "pygments_lexer": "ipython3",
   "version": "3.8.12"
  }
 },
 "nbformat": 4,
 "nbformat_minor": 5
}
