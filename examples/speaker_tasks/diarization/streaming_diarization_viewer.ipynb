{
 "cells": [
  {
   "cell_type": "code",
   "execution_count": null,
   "id": "6a5d6996",
   "metadata": {},
   "outputs": [],
   "source": [
    "%%html\n",
    "<style>\n",
    ".output_wrapper .output {\n",
    "  overflow-y: visible;\n",
    "  height: fit-content;\n",
    "}\n",
    "</style>"
   ]
  },
  {
   "cell_type": "code",
   "execution_count": null,
   "id": "997a8e4a",
   "metadata": {
    "scrolled": true
   },
   "outputs": [],
   "source": [
    "from random import uniform\n",
    "import time\n",
    "from rich.jupyter import jprint\n",
    "import os\n",
    "from IPython.display import display, clear_output\n",
    "OUTPUT_DIR=\"./streaming_diar_output\"\n",
    "i=0\n",
    "while True:\n",
    "    clear_output(wait=True)\n",
    "    fp = open(f'{OUTPUT_DIR}/print_script.sh','r').read()\n",
    "    jprint(str(i)+'\\n'+fp)\n",
    "    time.sleep(0.2)\n",
    "    i += 1"
   ]
  },
  {
   "cell_type": "code",
   "execution_count": null,
   "id": "277c78cf",
   "metadata": {},
   "outputs": [],
   "source": []
  }
 ],
 "metadata": {
  "kernelspec": {
   "display_name": "Python 3",
   "language": "python",
   "name": "python3"
  },
  "language_info": {
   "codemirror_mode": {
    "name": "ipython",
    "version": 3
   },
   "file_extension": ".py",
   "mimetype": "text/x-python",
   "name": "python",
   "nbconvert_exporter": "python",
   "pygments_lexer": "ipython3",
   "version": "3.8.8"
  }
 },
 "nbformat": 4,
 "nbformat_minor": 5
}
