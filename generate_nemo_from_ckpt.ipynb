{
 "cells": [
  {
   "cell_type": "code",
   "execution_count": 5,
   "id": "6e31e0e1",
   "metadata": {},
   "outputs": [],
   "source": [
    "# imports\n",
    "# from nemo.collections.tts.models import FastPitchModel\n",
    "from nemo.collections.tts.models import HifiGanModel"
   ]
  },
  {
   "cell_type": "code",
   "execution_count": 6,
   "id": "75d1f901",
   "metadata": {},
   "outputs": [],
   "source": [
    "# input_model = \"/tmp/FastPitch--v_loss=0.7020-epoch=999-last.ckpt\"\n",
    "# output_path = \"/tmp/tts_de_fastpitch_align.nemo\"\n",
    "\n",
    "input_model = \"/tmp/HifiGan21--val_loss=0.3638-epoch=169.ckpt\"\n",
    "output_path = \"/tmp/tts_de_hifigan.nemo\""
   ]
  },
  {
   "cell_type": "code",
   "execution_count": 4,
   "id": "b6bad118",
   "metadata": {},
   "outputs": [
    {
     "name": "stdout",
     "output_type": "stream",
     "text": [
      "[NeMo I 2022-05-26 14:48:25 tokenize_and_classify:87] Creating ClassifyFst grammars. This might take some time...\n"
     ]
    },
    {
     "name": "stderr",
     "output_type": "stream",
     "text": [
      "[NeMo W 2022-05-26 14:48:40 modelPT:148] If you intend to do training or fine-tuning, please call the ModelPT.setup_training_data() method and provide a valid configuration file to setup the train data loader.\n",
      "    Train config : \n",
      "    dataset:\n",
      "      _target_: nemo.collections.tts.torch.data.TTSDataset\n",
      "      manifest_filepath: /Data/openslr-95-german-neutral-tts/thorsten-de/train_phonemes_manifest.json\n",
      "      sample_rate: 22050\n",
      "      sup_data_path: /Data/openslr-95-german-neutral-tts/thorsten-de/phonemes5/\n",
      "      sup_data_types:\n",
      "      - align_prior_matrix\n",
      "      - pitch\n",
      "      n_fft: 1024\n",
      "      win_length: 1024\n",
      "      hop_length: 256\n",
      "      window: hann\n",
      "      n_mels: 80\n",
      "      lowfreq: 0\n",
      "      highfreq: 8000\n",
      "      max_duration: 14\n",
      "      min_duration: 0.1\n",
      "      ignore_file: null\n",
      "      trim: false\n",
      "      pitch_fmin: 65.40639132514966\n",
      "      pitch_fmax: 2093.004522404789\n",
      "      pitch_norm: true\n",
      "      pitch_mean: 132.524658203125\n",
      "      pitch_std: 37.389366149902344\n",
      "    dataloader_params:\n",
      "      drop_last: false\n",
      "      shuffle: true\n",
      "      batch_size: 32\n",
      "      num_workers: 12\n",
      "    \n",
      "[NeMo W 2022-05-26 14:48:40 modelPT:155] If you intend to do validation, please call the ModelPT.setup_validation_data() or ModelPT.setup_multiple_validation_data() method and provide a valid configuration file to setup the validation data loader(s). \n",
      "    Validation config : \n",
      "    dataset:\n",
      "      _target_: nemo.collections.tts.torch.data.TTSDataset\n",
      "      manifest_filepath: /Data/openslr-95-german-neutral-tts/thorsten-de/val_phonemes_manifest.json\n",
      "      sample_rate: 22050\n",
      "      sup_data_path: /Data/openslr-95-german-neutral-tts/thorsten-de/phonemes5/\n",
      "      sup_data_types:\n",
      "      - align_prior_matrix\n",
      "      - pitch\n",
      "      n_fft: 1024\n",
      "      win_length: 1024\n",
      "      hop_length: 256\n",
      "      window: hann\n",
      "      n_mels: 80\n",
      "      lowfreq: 0\n",
      "      highfreq: 8000\n",
      "      max_duration: null\n",
      "      min_duration: 0.1\n",
      "      ignore_file: null\n",
      "      trim: false\n",
      "      pitch_fmin: 65.40639132514966\n",
      "      pitch_fmax: 2093.004522404789\n",
      "      pitch_norm: true\n",
      "      pitch_mean: 132.524658203125\n",
      "      pitch_std: 37.389366149902344\n",
      "    dataloader_params:\n",
      "      drop_last: false\n",
      "      shuffle: false\n",
      "      batch_size: 32\n",
      "      num_workers: 2\n",
      "    \n"
     ]
    },
    {
     "name": "stdout",
     "output_type": "stream",
     "text": [
      "[NeMo I 2022-05-26 14:48:40 features:259] PADDING: 1\n",
      "[NeMo I 2022-05-26 14:48:40 features:276] STFT using torch\n"
     ]
    }
   ],
   "source": [
    "model = FastPitchModel.load_from_checkpoint(input_model)\n",
    "model = FastPitchModel.load_from_checkpoint(input_model)\n",
    "model.eval().cuda()\n",
    "model.save_to(output_path)"
   ]
  },
  {
   "cell_type": "code",
   "execution_count": null,
   "id": "fb4685f5",
   "metadata": {},
   "outputs": [],
   "source": []
  }
 ],
 "metadata": {
  "kernelspec": {
   "display_name": "Python 3 (ipykernel)",
   "language": "python",
   "name": "python3"
  },
  "language_info": {
   "codemirror_mode": {
    "name": "ipython",
    "version": 3
   },
   "file_extension": ".py",
   "mimetype": "text/x-python",
   "name": "python",
   "nbconvert_exporter": "python",
   "pygments_lexer": "ipython3",
   "version": "3.8.12"
  }
 },
 "nbformat": 4,
 "nbformat_minor": 5
}
