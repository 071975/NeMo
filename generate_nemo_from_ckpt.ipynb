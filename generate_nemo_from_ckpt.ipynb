{
 "cells": [
  {
   "cell_type": "code",
   "execution_count": 5,
   "id": "5665cf7d",
   "metadata": {},
   "outputs": [],
   "source": [
    "# imports\n",
    "# from nemo.collections.tts.models import FastPitchModel\n",
    "from nemo.collections.tts.models import HifiGanModel"
   ]
  },
  {
   "cell_type": "code",
   "execution_count": 6,
   "id": "308684e5",
   "metadata": {},
   "outputs": [],
   "source": [
    "# input_model = \"/tmp/FastPitch--v_loss=0.7020-epoch=999-last.ckpt\"\n",
    "# output_path = \"/tmp/tts_de_fastpitch_align.nemo\"\n",
    "\n",
    "input_model = \"/tmp/HifiGan21--val_loss=0.3638-epoch=169.ckpt\"\n",
    "output_path = \"/tmp/tts_de_hifigan.nemo\""
   ]
  },
  {
   "cell_type": "code",
   "execution_count": 7,
   "id": "b44d4aef",
   "metadata": {},
   "outputs": [
    {
     "name": "stderr",
     "output_type": "stream",
     "text": [
      "[NeMo W 2022-05-26 14:49:53 modelPT:148] If you intend to do training or fine-tuning, please call the ModelPT.setup_training_data() method and provide a valid configuration file to setup the train data loader.\n",
      "    Train config : \n",
      "    dataset:\n",
      "      _target_: nemo.collections.tts.torch.data.VocoderDataset\n",
      "      manifest_filepath: /Data/openslr-95-german-neutral-tts/synmels_r5_999/hifigan_train_phonemes_ft.json\n",
      "      sample_rate: 22050\n",
      "      n_segments: 8192\n",
      "      max_duration: null\n",
      "      min_duration: 0.75\n",
      "      load_precomputed_mel: true\n",
      "      hop_length: 256\n",
      "    dataloader_params:\n",
      "      drop_last: false\n",
      "      shuffle: true\n",
      "      batch_size: 16\n",
      "      num_workers: 0\n",
      "    \n",
      "[NeMo W 2022-05-26 14:49:53 modelPT:155] If you intend to do validation, please call the ModelPT.setup_validation_data() or ModelPT.setup_multiple_validation_data() method and provide a valid configuration file to setup the validation data loader(s). \n",
      "    Validation config : \n",
      "    dataset:\n",
      "      _target_: nemo.collections.tts.torch.data.VocoderDataset\n",
      "      manifest_filepath: /Data/openslr-95-german-neutral-tts/synmels_r5_999/hifigan_val_phonemes_ft.json\n",
      "      sample_rate: 22050\n",
      "      n_segments: 66048\n",
      "      max_duration: null\n",
      "      min_duration: 3\n",
      "      load_precomputed_mel: true\n",
      "      hop_length: 256\n",
      "    dataloader_params:\n",
      "      drop_last: false\n",
      "      shuffle: false\n",
      "      batch_size: 16\n",
      "      num_workers: 0\n",
      "    \n"
     ]
    },
    {
     "name": "stdout",
     "output_type": "stream",
     "text": [
      "[NeMo I 2022-05-26 14:49:53 features:259] PADDING: 0\n",
      "[NeMo I 2022-05-26 14:49:53 features:276] STFT using torch\n",
      "[NeMo I 2022-05-26 14:49:53 features:278] STFT using exact pad\n",
      "[NeMo I 2022-05-26 14:49:53 features:259] PADDING: 0\n",
      "[NeMo I 2022-05-26 14:49:53 features:276] STFT using torch\n",
      "[NeMo I 2022-05-26 14:49:53 features:278] STFT using exact pad\n"
     ]
    }
   ],
   "source": [
    "model = HifiGanModel.load_from_checkpoint(input_model)\n",
    "# model = FastPitchModel.load_from_checkpoint(input_model)\n",
    "model.eval().cuda()\n",
    "model.save_to(output_path)"
   ]
  },
  {
   "cell_type": "code",
   "execution_count": null,
   "id": "636c5854",
   "metadata": {},
   "outputs": [],
   "source": []
  }
 ],
 "metadata": {
  "kernelspec": {
   "display_name": "Python 3 (ipykernel)",
   "language": "python",
   "name": "python3"
  },
  "language_info": {
   "codemirror_mode": {
    "name": "ipython",
    "version": 3
   },
   "file_extension": ".py",
   "mimetype": "text/x-python",
   "name": "python",
   "nbconvert_exporter": "python",
   "pygments_lexer": "ipython3",
   "version": "3.8.12"
  }
 },
 "nbformat": 4,
 "nbformat_minor": 5
}
