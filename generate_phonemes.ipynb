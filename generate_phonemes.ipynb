{
 "cells": [
  {
   "cell_type": "code",
   "execution_count": 1,
   "id": "fb624db6",
   "metadata": {},
   "outputs": [],
   "source": [
    "# imports\n",
    "from phonemizer.backend import EspeakBackend\n",
    "import json"
   ]
  },
  {
   "cell_type": "code",
   "execution_count": 2,
   "id": "b7910286",
   "metadata": {},
   "outputs": [],
   "source": [
    "backend = EspeakBackend('de')\n",
    "# docs: https://github.com/bootphon/phonemizer/blob/master/phonemizer/backend/espeak/espeak.py#L31 "
   ]
  },
  {
   "cell_type": "code",
   "execution_count": 19,
   "id": "86452d62",
   "metadata": {},
   "outputs": [],
   "source": [
    "input_manifest_filepath = \"/github/datasets/openslr-95-german-neutral-tts/thorsten-de/test_manifest.json\"\n",
    "output_manifest_filepath = \"/github/datasets/openslr-95-german-neutral-tts/thorsten-de/test_phonemes_manifest.json\"\n"
   ]
  },
  {
   "cell_type": "code",
   "execution_count": 20,
   "id": "f9f96a91-d15e-40b1-95c0-a143893c513e",
   "metadata": {},
   "outputs": [],
   "source": [
    "records = []\n",
    "n_text = []\n",
    "with open(input_manifest_filepath, \"r\") as f:\n",
    "    for i, line in enumerate(f):\n",
    "        d = json.loads(line)\n",
    "        records.append(d)\n",
    "        n_text.append(d['normalized_text'])"
   ]
  },
  {
   "cell_type": "code",
   "execution_count": 21,
   "id": "d7ecd35f-4fa7-489d-b10c-72e8ec1f32e9",
   "metadata": {},
   "outputs": [],
   "source": [
    "# existing = \"abcdefghijklmnopqrstuvwxyzäöüßʊʃŋɜːɛɾəɪçɔøɡœɑÜ„1Q̃ɒʒÄɹÖʌ\\xadXθà/ó̈ðéɐá\""
   ]
  },
  {
   "cell_type": "code",
   "execution_count": 22,
   "id": "038648de-c28d-4223-9cd4-967dbe423367",
   "metadata": {},
   "outputs": [],
   "source": [
    "# new_alphabets=[]"
   ]
  },
  {
   "cell_type": "code",
   "execution_count": 23,
   "id": "3900b339-b5fe-4a16-90e3-2e7b3f747af7",
   "metadata": {
    "tags": []
   },
   "outputs": [],
   "source": [
    "# for line in n_text:\n",
    "#     for char in line:\n",
    "#         if char not in existing:\n",
    "#             if char not in new_alphabets: \n",
    "#                 new_alphabets.append(char)        "
   ]
  },
  {
   "cell_type": "code",
   "execution_count": 24,
   "id": "352800f6-49c0-424a-849a-c6dea1ba3fd0",
   "metadata": {},
   "outputs": [],
   "source": [
    "# ''.join(new_alphabets)"
   ]
  },
  {
   "cell_type": "code",
   "execution_count": 25,
   "id": "025de8de-d5bb-486b-93bb-f6d9a8adaf2d",
   "metadata": {
    "tags": []
   },
   "outputs": [],
   "source": [
    "# n_text"
   ]
  },
  {
   "cell_type": "code",
   "execution_count": 26,
   "id": "e31c1d8b",
   "metadata": {},
   "outputs": [],
   "source": [
    "phonemized = backend.phonemize(n_text)\n",
    "# docs: https://github.com/bootphon/phonemizer/blob/master/phonemizer/backend/base.py#L137"
   ]
  },
  {
   "cell_type": "code",
   "execution_count": 27,
   "id": "9bb17a55",
   "metadata": {},
   "outputs": [],
   "source": [
    "new_records = []\n",
    "for i in range(len(records)):\n",
    "    records[i][\"phoneme\"] = 0\n",
    "    new_records.append(records[i])\n",
    "    phoneme_record = records[i].copy()\n",
    "    phoneme_record[\"normalized_text\"] = phonemized[i]\n",
    "    phoneme_record[\"phoneme\"] = 1\n",
    "    new_records.append(phoneme_record)"
   ]
  },
  {
   "cell_type": "code",
   "execution_count": 28,
   "id": "00cdea3f-f2d6-4ecb-8181-029281e6e1d1",
   "metadata": {},
   "outputs": [],
   "source": [
    "with open(output_manifest_filepath, \"w\") as f:\n",
    "    for r in new_records:\n",
    "        f.write(json.dumps(r) + '\\n')"
   ]
  },
  {
   "cell_type": "code",
   "execution_count": 8,
   "id": "9bbe3545",
   "metadata": {},
   "outputs": [],
   "source": [
    "# debug\n",
    "# print(len(new_records) == 2 * len(records))\n",
    "# print(new_records[:5])\n",
    "# print(records[:5])"
   ]
  },
  {
   "cell_type": "code",
   "execution_count": null,
   "id": "7cf9d0bd-1c81-4262-996c-e996077943f2",
   "metadata": {},
   "outputs": [],
   "source": []
  }
 ],
 "metadata": {
  "kernelspec": {
   "display_name": "Python 3 (ipykernel)",
   "language": "python",
   "name": "python3"
  },
  "language_info": {
   "codemirror_mode": {
    "name": "ipython",
    "version": 3
   },
   "file_extension": ".py",
   "mimetype": "text/x-python",
   "name": "python",
   "nbconvert_exporter": "python",
   "pygments_lexer": "ipython3",
   "version": "3.8.10"
  }
 },
 "nbformat": 4,
 "nbformat_minor": 5
}
