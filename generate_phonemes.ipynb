{
 "cells": [
  {
   "cell_type": "code",
   "execution_count": 1,
   "id": "e44596af",
   "metadata": {},
   "outputs": [
    {
     "ename": "ModuleNotFoundError",
     "evalue": "No module named 'phonemizer'",
     "output_type": "error",
     "traceback": [
      "\u001b[0;31m---------------------------------------------------------------------------\u001b[0m",
      "\u001b[0;31mModuleNotFoundError\u001b[0m                       Traceback (most recent call last)",
      "Input \u001b[0;32mIn [1]\u001b[0m, in \u001b[0;36m<cell line: 2>\u001b[0;34m()\u001b[0m\n\u001b[1;32m      1\u001b[0m \u001b[38;5;66;03m# imports\u001b[39;00m\n\u001b[0;32m----> 2\u001b[0m \u001b[38;5;28;01mfrom\u001b[39;00m \u001b[38;5;21;01mphonemizer\u001b[39;00m\u001b[38;5;21;01m.\u001b[39;00m\u001b[38;5;21;01mbackend\u001b[39;00m \u001b[38;5;28;01mimport\u001b[39;00m EspeakBackend\n\u001b[1;32m      3\u001b[0m \u001b[38;5;28;01mimport\u001b[39;00m \u001b[38;5;21;01mjson\u001b[39;00m\n",
      "\u001b[0;31mModuleNotFoundError\u001b[0m: No module named 'phonemizer'"
     ]
    }
   ],
   "source": [
    "# imports\n",
    "from phonemizer.backend import EspeakBackend\n",
    "import json"
   ]
  },
  {
   "cell_type": "code",
   "execution_count": 2,
   "id": "8a1c40f2",
   "metadata": {},
   "outputs": [],
   "source": [
    "import json"
   ]
  },
  {
   "cell_type": "code",
   "execution_count": 2,
   "id": "0cb75f7f",
   "metadata": {},
   "outputs": [],
   "source": [
    "backend = EspeakBackend('de')\n",
    "# docs: https://github.com/bootphon/phonemizer/blob/master/phonemizer/backend/espeak/espeak.py#L31 "
   ]
  },
  {
   "cell_type": "code",
   "execution_count": 14,
   "id": "92cb708f",
   "metadata": {},
   "outputs": [],
   "source": [
    "input_manifest_filepath = \"/github/datasets/openslr-95-german-neutral-tts/thorsten-de/train_manifest.json\"\n",
    "output_manifest_filepath = \"/github/datasets/openslr-95-german-neutral-tts/thorsten-de/train_phonemes_manifest.json\"\n"
   ]
  },
  {
   "cell_type": "code",
   "execution_count": 15,
   "id": "aaefe7bc",
   "metadata": {},
   "outputs": [],
   "source": [
    "records = []\n",
    "n_text = []\n",
    "max_duration = 0\n",
    "with open(input_manifest_filepath, \"r\") as f:\n",
    "    for i, line in enumerate(f):\n",
    "        d = json.loads(line)\n",
    "        records.append(d)\n",
    "        n_text.append(d['normalized_text'])\n",
    "        max_duration = max(d['duration'], max_duration)"
   ]
  },
  {
   "cell_type": "code",
   "execution_count": 16,
   "id": "09fd4d0d",
   "metadata": {},
   "outputs": [
    {
     "data": {
      "text/plain": [
       "13.510023"
      ]
     },
     "execution_count": 16,
     "metadata": {},
     "output_type": "execute_result"
    }
   ],
   "source": [
    "max_duration"
   ]
  },
  {
   "cell_type": "code",
   "execution_count": 21,
   "id": "354cec45",
   "metadata": {},
   "outputs": [],
   "source": [
    "# existing = \"abcdefghijklmnopqrstuvwxyzäöüßʊʃŋɜːɛɾəɪçɔøɡœɑÜ„1Q̃ɒʒÄɹÖʌ\\xadXθà/ó̈ðéɐá\""
   ]
  },
  {
   "cell_type": "code",
   "execution_count": 22,
   "id": "2b1d3d75",
   "metadata": {},
   "outputs": [],
   "source": [
    "# new_alphabets=[]"
   ]
  },
  {
   "cell_type": "code",
   "execution_count": 23,
   "id": "c5e8659b",
   "metadata": {
    "tags": []
   },
   "outputs": [],
   "source": [
    "# for line in n_text:\n",
    "#     for char in line:\n",
    "#         if char not in existing:\n",
    "#             if char not in new_alphabets: \n",
    "#                 new_alphabets.append(char)        "
   ]
  },
  {
   "cell_type": "code",
   "execution_count": 24,
   "id": "e276d699",
   "metadata": {},
   "outputs": [],
   "source": [
    "# ''.join(new_alphabets)"
   ]
  },
  {
   "cell_type": "code",
   "execution_count": 25,
   "id": "f9edf92a",
   "metadata": {
    "tags": []
   },
   "outputs": [],
   "source": [
    "# n_text"
   ]
  },
  {
   "cell_type": "code",
   "execution_count": 26,
   "id": "6e045da5",
   "metadata": {},
   "outputs": [],
   "source": [
    "phonemized = backend.phonemize(n_text)\n",
    "# docs: https://github.com/bootphon/phonemizer/blob/master/phonemizer/backend/base.py#L137"
   ]
  },
  {
   "cell_type": "code",
   "execution_count": 27,
   "id": "22c86bdf",
   "metadata": {},
   "outputs": [],
   "source": [
    "new_records = []\n",
    "for i in range(len(records)):\n",
    "    records[i][\"phoneme\"] = 0\n",
    "    new_records.append(records[i])\n",
    "    phoneme_record = records[i].copy()\n",
    "    phoneme_record[\"normalized_text\"] = phonemized[i]\n",
    "    phoneme_record[\"phoneme\"] = 1\n",
    "    new_records.append(phoneme_record)"
   ]
  },
  {
   "cell_type": "code",
   "execution_count": 28,
   "id": "f4f31b5a",
   "metadata": {},
   "outputs": [],
   "source": [
    "with open(output_manifest_filepath, \"w\") as f:\n",
    "    for r in new_records:\n",
    "        f.write(json.dumps(r) + '\\n')"
   ]
  },
  {
   "cell_type": "code",
   "execution_count": 8,
   "id": "6e3fbc06",
   "metadata": {},
   "outputs": [],
   "source": [
    "# debug\n",
    "# print(len(new_records) == 2 * len(records))\n",
    "# print(new_records[:5])\n",
    "# print(records[:5])"
   ]
  },
  {
   "cell_type": "code",
   "execution_count": null,
   "id": "219d5578",
   "metadata": {},
   "outputs": [],
   "source": []
  }
 ],
 "metadata": {
  "kernelspec": {
   "display_name": "Python 3 (ipykernel)",
   "language": "python",
   "name": "python3"
  },
  "language_info": {
   "codemirror_mode": {
    "name": "ipython",
    "version": 3
   },
   "file_extension": ".py",
   "mimetype": "text/x-python",
   "name": "python",
   "nbconvert_exporter": "python",
   "pygments_lexer": "ipython3",
   "version": "3.8.12"
  }
 },
 "nbformat": 4,
 "nbformat_minor": 5
}
