{
 "cells": [
  {
   "cell_type": "code",
   "execution_count": 2,
   "id": "7183efb8",
   "metadata": {},
   "outputs": [],
   "source": [
    "import json\n",
    "import numpy as np\n",
    "import torch\n",
    "import soundfile as sf\n",
    "import librosa\n",
    "\n",
    "from pathlib import Path\n",
    "\n",
    "from nemo.collections.tts.torch.helpers import BetaBinomialInterpolator"
   ]
  },
  {
   "cell_type": "code",
   "execution_count": 16,
   "id": "f417e3a5",
   "metadata": {},
   "outputs": [],
   "source": [
    "generate_mels = \"PREDICTED\" # or \"PREDICTED\", \"ORIGINAL\"\n",
    "# folder_name = \"synmels_r1_999_difflen\" # or \"orig_synmels\", \"synmels_r3_149_difflen\"\n",
    "# fastpitch_model_ckpt_path = \"/github/FastPitch--v_loss=0.6877-epoch=999-last.ckpt\"\n",
    "folder_name = \"synmels_r3_149_difflen\"\n",
    "fastpitch_model_ckpt_path = \"/github/FastPitch--v_loss=0.6679-epoch=149.ckpt\"\n",
    "dataset_part = \"test\" # or \"val\", \"train\", \"test\"\n",
    "dataset_base_path = \"/github/datasets/openslr-95-german-neutral-tts/\""
   ]
  },
  {
   "cell_type": "code",
   "execution_count": 4,
   "id": "7632814a",
   "metadata": {
    "collapsed": true,
    "jupyter": {
     "outputs_hidden": true
    }
   },
   "outputs": [
    {
     "name": "stdout",
     "output_type": "stream",
     "text": [
      "[NeMo I 2022-05-12 01:40:12 tokenize_and_classify:93] Creating ClassifyFst grammars.\n"
     ]
    },
    {
     "name": "stderr",
     "output_type": "stream",
     "text": [
      "[NeMo W 2022-05-12 01:40:43 g2ps:84] apply_to_oov_word=None, it means that some of words will remain unchanged if they are not handled by one of rule in self.parse_one_word(). It is useful when you use tokenizer with set of phonemes and chars together, otherwise it can be not.\n",
      "[NeMo W 2022-05-12 01:40:43 modelPT:148] If you intend to do training or fine-tuning, please call the ModelPT.setup_training_data() method and provide a valid configuration file to setup the train data loader.\n",
      "    Train config : \n",
      "    dataset:\n",
      "      _target_: nemo.collections.tts.torch.data.TTSDataset\n",
      "      manifest_filepath: /Data/openslr-95-german-neutral-tts/thorsten-de/train_manifest.json\n",
      "      sample_rate: 22050\n",
      "      sup_data_path: /Data/openslr-95-german-neutral-tts/thorsten-de/sup_data\n",
      "      sup_data_types:\n",
      "      - align_prior_matrix\n",
      "      - pitch\n",
      "      n_fft: 1024\n",
      "      win_length: 1024\n",
      "      hop_length: 256\n",
      "      window: hann\n",
      "      n_mels: 80\n",
      "      lowfreq: 0\n",
      "      highfreq: 8000\n",
      "      max_duration: null\n",
      "      min_duration: 0.1\n",
      "      ignore_file: null\n",
      "      trim: false\n",
      "      pitch_fmin: 65.40639132514966\n",
      "      pitch_fmax: 2093.004522404789\n",
      "      pitch_norm: true\n",
      "      pitch_mean: 132.5526885986328\n",
      "      pitch_std: 37.61381912231445\n",
      "      use_beta_binomial_interpolator: true\n",
      "    dataloader_params:\n",
      "      drop_last: false\n",
      "      shuffle: true\n",
      "      batch_size: 16\n",
      "      num_workers: 0\n",
      "    \n",
      "[NeMo W 2022-05-12 01:40:43 modelPT:155] If you intend to do validation, please call the ModelPT.setup_validation_data() or ModelPT.setup_multiple_validation_data() method and provide a valid configuration file to setup the validation data loader(s). \n",
      "    Validation config : \n",
      "    dataset:\n",
      "      _target_: nemo.collections.tts.torch.data.TTSDataset\n",
      "      manifest_filepath: /Data/openslr-95-german-neutral-tts/thorsten-de/val_manifest.json\n",
      "      sample_rate: 22050\n",
      "      sup_data_path: /Data/openslr-95-german-neutral-tts/thorsten-de/sup_data\n",
      "      sup_data_types:\n",
      "      - align_prior_matrix\n",
      "      - pitch\n",
      "      n_fft: 1024\n",
      "      win_length: 1024\n",
      "      hop_length: 256\n",
      "      window: hann\n",
      "      n_mels: 80\n",
      "      lowfreq: 0\n",
      "      highfreq: 8000\n",
      "      max_duration: null\n",
      "      min_duration: null\n",
      "      ignore_file: null\n",
      "      trim: false\n",
      "      pitch_fmin: 65.40639132514966\n",
      "      pitch_fmax: 2093.004522404789\n",
      "      pitch_norm: true\n",
      "      pitch_mean: 132.5526885986328\n",
      "      pitch_std: 37.61381912231445\n",
      "      use_beta_binomial_interpolator: true\n",
      "    dataloader_params:\n",
      "      drop_last: false\n",
      "      shuffle: false\n",
      "      batch_size: 16\n",
      "      num_workers: 0\n",
      "    \n"
     ]
    },
    {
     "name": "stdout",
     "output_type": "stream",
     "text": [
      "[NeMo I 2022-05-12 01:40:43 features:259] PADDING: 1\n",
      "[NeMo I 2022-05-12 01:40:43 features:276] STFT using torch\n"
     ]
    }
   ],
   "source": [
    "if generate_mels == \"PREDICTED\":\n",
    "    from nemo.collections.tts.models import FastPitchModel\n",
    "    spec_model = FastPitchModel.load_from_checkpoint(fastpitch_model_ckpt_path)\n",
    "    spec_model.eval().cuda()"
   ]
  },
  {
   "cell_type": "code",
   "execution_count": 5,
   "id": "b0f18312",
   "metadata": {},
   "outputs": [],
   "source": [
    "def infer(spec_gen_model, vocoder_model, str_input, speaker=None):\n",
    "    \"\"\"\n",
    "    Synthesizes spectrogram and audio from a text string given a spectrogram synthesis and vocoder model.\n",
    "    \n",
    "    Args:\n",
    "        spec_gen_model: Spectrogram generator model (FastPitch in our case)\n",
    "        vocoder_model: Vocoder model (HiFiGAN in our case)\n",
    "        str_input: Text input for the synthesis\n",
    "        speaker: Speaker ID\n",
    "    \n",
    "    Returns:\n",
    "        spectrogram and waveform of the synthesized audio.\n",
    "    \"\"\"\n",
    "    with torch.no_grad():\n",
    "        parsed = spec_gen_model.parse(str_input)\n",
    "        if speaker is not None:\n",
    "            speaker = torch.tensor([speaker]).long().to(device=spec_gen_model.device)\n",
    "        spectrogram = spec_gen_model.generate_spectrogram(tokens=parsed, speaker=speaker)\n",
    "        audio = vocoder_model.convert_spectrogram_to_audio(spec=spectrogram)\n",
    "        \n",
    "    if spectrogram is not None:\n",
    "        if isinstance(spectrogram, torch.Tensor):\n",
    "            spectrogram = spectrogram.to('cpu').numpy()\n",
    "        if len(spectrogram.shape) == 3:\n",
    "            spectrogram = spectrogram[0]\n",
    "    if isinstance(audio, torch.Tensor):\n",
    "        audio = audio.to('cpu').numpy()\n",
    "    return spectrogram, audio\n",
    "\n",
    "def get_best_ckpt_from_last_run(\n",
    "        base_dir, \n",
    "        new_speaker_id, \n",
    "        duration_mins, \n",
    "        mixing_enabled, \n",
    "        original_speaker_id, \n",
    "        model_name=\"FastPitch\"\n",
    "    ):    \n",
    "    mixing = \"no_mixing\" if not mixing_enabled else \"mixing\"\n",
    "    \n",
    "    d = f\"{original_speaker_id}_to_{new_speaker_id}_{mixing}_{duration_mins}_mins\"\n",
    "    \n",
    "    exp_dirs = list([i for i in (Path(base_dir) / d / model_name).iterdir() if i.is_dir()])\n",
    "    last_exp_dir = sorted(exp_dirs)[-1]\n",
    "    \n",
    "    last_checkpoint_dir = last_exp_dir / \"checkpoints\"\n",
    "    \n",
    "    last_ckpt = list(last_checkpoint_dir.glob('*-last.ckpt'))\n",
    "\n",
    "    if len(last_ckpt) == 0:\n",
    "        raise ValueError(f\"There is no last checkpoint in {last_checkpoint_dir}.\")\n",
    "    \n",
    "    return str(last_ckpt[0])"
   ]
  },
  {
   "cell_type": "code",
   "execution_count": 17,
   "id": "ffd64b29",
   "metadata": {},
   "outputs": [],
   "source": [
    "def load_wav(audio_file):\n",
    "    with sf.SoundFile(audio_file, 'r') as f:\n",
    "        samples = f.read(dtype='float32')\n",
    "    return samples.transpose()"
   ]
  },
  {
   "cell_type": "code",
   "execution_count": 18,
   "id": "98413e5e",
   "metadata": {},
   "outputs": [],
   "source": [
    "# Get records from the training manifest\n",
    "manifest_path = dataset_base_path+\"thorsten-de/\"+dataset_part+\"_manifest.json\"\n",
    "records = []\n",
    "with open(manifest_path, \"r\") as f:\n",
    "    for i, line in enumerate(f):\n",
    "        records.append(json.loads(line))"
   ]
  },
  {
   "cell_type": "code",
   "execution_count": 19,
   "id": "c63eda44",
   "metadata": {
    "collapsed": true,
    "jupyter": {
     "outputs_hidden": true
    }
   },
   "outputs": [
    {
     "name": "stdout",
     "output_type": "stream",
     "text": [
      "/github/datasets/openslr-95-german-neutral-tts/synmels_r3_149_difflen/test/mel_0.npy\n",
      "/github/datasets/openslr-95-german-neutral-tts/synmels_r3_149_difflen/test/mel_1.npy\n",
      "/github/datasets/openslr-95-german-neutral-tts/synmels_r3_149_difflen/test/mel_2.npy\n",
      "/github/datasets/openslr-95-german-neutral-tts/synmels_r3_149_difflen/test/mel_3.npy\n",
      "/github/datasets/openslr-95-german-neutral-tts/synmels_r3_149_difflen/test/mel_4.npy\n"
     ]
    },
    {
     "name": "stderr",
     "output_type": "stream",
     "text": [
      "[NeMo W 2022-05-12 01:52:12 tts_tokenizers:351] Text: [dieser PIH1LZ ist zwar nicht giftig, EY1BER0 ungenießBAA1R.] contains unknown char/phoneme: [ß]. Original text: [Dieser Pilz ist zwar nicht giftig, aber ungenießbar.]. Symbol will be skipped.\n"
     ]
    },
    {
     "name": "stdout",
     "output_type": "stream",
     "text": [
      "/github/datasets/openslr-95-german-neutral-tts/synmels_r3_149_difflen/test/mel_5.npy\n",
      "/github/datasets/openslr-95-german-neutral-tts/synmels_r3_149_difflen/test/mel_6.npy\n"
     ]
    },
    {
     "name": "stderr",
     "output_type": "stream",
     "text": [
      "[NeMo W 2022-05-12 01:52:13 tts_tokenizers:351] Text: [SEY1N fleißigen wichtel machten sich sofort daran.] contains unknown char/phoneme: [ß]. Original text: [Seine fleißigen Wichtel machten sich sofort daran.]. Symbol will be skipped.\n"
     ]
    },
    {
     "name": "stdout",
     "output_type": "stream",
     "text": [
      "/github/datasets/openslr-95-german-neutral-tts/synmels_r3_149_difflen/test/mel_7.npy\n",
      "/github/datasets/openslr-95-german-neutral-tts/synmels_r3_149_difflen/test/mel_8.npy\n",
      "/github/datasets/openslr-95-german-neutral-tts/synmels_r3_149_difflen/test/mel_9.npy\n",
      "/github/datasets/openslr-95-german-neutral-tts/synmels_r3_149_difflen/test/mel_10.npy\n"
     ]
    },
    {
     "name": "stderr",
     "output_type": "stream",
     "text": [
      "[NeMo W 2022-05-12 01:52:13 tts_tokenizers:351] Text: [anfassen heißTIY1 kaufen.] contains unknown char/phoneme: [ß]. Original text: [Anfassen heißt kaufen.]. Symbol will be skipped.\n"
     ]
    },
    {
     "name": "stdout",
     "output_type": "stream",
     "text": [
      "/github/datasets/openslr-95-german-neutral-tts/synmels_r3_149_difflen/test/mel_11.npy\n",
      "/github/datasets/openslr-95-german-neutral-tts/synmels_r3_149_difflen/test/mel_12.npy\n"
     ]
    },
    {
     "name": "stderr",
     "output_type": "stream",
     "text": [
      "[NeMo W 2022-05-12 01:52:13 tts_tokenizers:351] Text: [fließkommazahlen bieten NUH1R eine begrenzte genauigkeit.] contains unknown char/phoneme: [ß]. Original text: [Fließkommazahlen bieten nur eine begrenzte Genauigkeit.]. Symbol will be skipped.\n"
     ]
    },
    {
     "name": "stdout",
     "output_type": "stream",
     "text": [
      "/github/datasets/openslr-95-german-neutral-tts/synmels_r3_149_difflen/test/mel_13.npy\n",
      "/github/datasets/openslr-95-german-neutral-tts/synmels_r3_149_difflen/test/mel_14.npy\n",
      "/github/datasets/openslr-95-german-neutral-tts/synmels_r3_149_difflen/test/mel_15.npy\n",
      "/github/datasets/openslr-95-german-neutral-tts/synmels_r3_149_difflen/test/mel_16.npy\n",
      "/github/datasets/openslr-95-german-neutral-tts/synmels_r3_149_difflen/test/mel_17.npy\n",
      "/github/datasets/openslr-95-german-neutral-tts/synmels_r3_149_difflen/test/mel_18.npy\n",
      "/github/datasets/openslr-95-german-neutral-tts/synmels_r3_149_difflen/test/mel_19.npy\n",
      "/github/datasets/openslr-95-german-neutral-tts/synmels_r3_149_difflen/test/mel_20.npy\n"
     ]
    },
    {
     "name": "stderr",
     "output_type": "stream",
     "text": [
      "[NeMo W 2022-05-12 01:52:14 tts_tokenizers:351] Text: [AH1ND EH1S HHAE1T AO1CH DEH1N vorteil, DAE1S IH1CH praktisch „datensparsam\" LEH1BAH0N KAE1N, DEH1N EY1LZ, was SHAA1N einmal erhoben ist, muss DAE1N nicht WIY1DER0 VAO1N neuem erhoben WER1DAH0N.] contains unknown char/phoneme: [„]. Original text: [Und es hat auch den Vorteil, dass ich praktisch „datensparsam\" leben kann, denn alles, was schon einmal erhoben ist, muss dann nicht wieder von neuem erhoben werden.]. Symbol will be skipped.\n"
     ]
    },
    {
     "name": "stdout",
     "output_type": "stream",
     "text": [
      "/github/datasets/openslr-95-german-neutral-tts/synmels_r3_149_difflen/test/mel_21.npy\n",
      "/github/datasets/openslr-95-german-neutral-tts/synmels_r3_149_difflen/test/mel_22.npy\n",
      "/github/datasets/openslr-95-german-neutral-tts/synmels_r3_149_difflen/test/mel_23.npy\n",
      "/github/datasets/openslr-95-german-neutral-tts/synmels_r3_149_difflen/test/mel_24.npy\n",
      "/github/datasets/openslr-95-german-neutral-tts/synmels_r3_149_difflen/test/mel_25.npy\n",
      "/github/datasets/openslr-95-german-neutral-tts/synmels_r3_149_difflen/test/mel_26.npy\n",
      "/github/datasets/openslr-95-german-neutral-tts/synmels_r3_149_difflen/test/mel_27.npy\n",
      "/github/datasets/openslr-95-german-neutral-tts/synmels_r3_149_difflen/test/mel_28.npy\n",
      "/github/datasets/openslr-95-german-neutral-tts/synmels_r3_149_difflen/test/mel_29.npy\n"
     ]
    },
    {
     "name": "stderr",
     "output_type": "stream",
     "text": [
      "[NeMo W 2022-05-12 01:52:15 tts_tokenizers:351] Text: [EH1S ist bloß deine wahrnehmung, DAY1 dich tauscht.] contains unknown char/phoneme: [ß]. Original text: [Es ist bloß deine Wahrnehmung, die dich tauscht.]. Symbol will be skipped.\n",
      "[NeMo W 2022-05-12 01:52:15 tts_tokenizers:351] Text: [wir helfen YAA1 AO1CH DEH1N landern, indem wir AE1LZ BAH1ND DAY1 aufwuchse bei DEH1N OW1ßeruniversitaren forschungseinrichtungen VAA1L ubernehmen.] contains unknown char/phoneme: [ß]. Original text: [Wir helfen ja auch den Landern, indem wir als Bund die Aufwuchse bei den außeruniversitaren Forschungseinrichtungen voll ubernehmen.]. Symbol will be skipped.\n"
     ]
    },
    {
     "name": "stdout",
     "output_type": "stream",
     "text": [
      "/github/datasets/openslr-95-german-neutral-tts/synmels_r3_149_difflen/test/mel_30.npy\n",
      "/github/datasets/openslr-95-german-neutral-tts/synmels_r3_149_difflen/test/mel_31.npy\n",
      "/github/datasets/openslr-95-german-neutral-tts/synmels_r3_149_difflen/test/mel_32.npy\n",
      "/github/datasets/openslr-95-german-neutral-tts/synmels_r3_149_difflen/test/mel_33.npy\n",
      "/github/datasets/openslr-95-german-neutral-tts/synmels_r3_149_difflen/test/mel_34.npy\n"
     ]
    },
    {
     "name": "stderr",
     "output_type": "stream",
     "text": [
      "[NeMo W 2022-05-12 01:52:15 tts_tokenizers:351] Text: [rotwein, WEY1ßWIY1N AH1ND ROW1Z SIH1ND JHIY1 nach jahreszeit passend zu empfehlen.] contains unknown char/phoneme: [ß]. Original text: [Rotwein, Weißwein und Rose sind je nach Jahreszeit passend zu empfehlen.]. Symbol will be skipped.\n"
     ]
    },
    {
     "name": "stdout",
     "output_type": "stream",
     "text": [
      "/github/datasets/openslr-95-german-neutral-tts/synmels_r3_149_difflen/test/mel_35.npy\n",
      "/github/datasets/openslr-95-german-neutral-tts/synmels_r3_149_difflen/test/mel_36.npy\n",
      "/github/datasets/openslr-95-german-neutral-tts/synmels_r3_149_difflen/test/mel_37.npy\n",
      "/github/datasets/openslr-95-german-neutral-tts/synmels_r3_149_difflen/test/mel_38.npy\n",
      "/github/datasets/openslr-95-german-neutral-tts/synmels_r3_149_difflen/test/mel_39.npy\n",
      "/github/datasets/openslr-95-german-neutral-tts/synmels_r3_149_difflen/test/mel_40.npy\n",
      "/github/datasets/openslr-95-german-neutral-tts/synmels_r3_149_difflen/test/mel_41.npy\n",
      "/github/datasets/openslr-95-german-neutral-tts/synmels_r3_149_difflen/test/mel_42.npy\n",
      "/github/datasets/openslr-95-german-neutral-tts/synmels_r3_149_difflen/test/mel_43.npy\n",
      "/github/datasets/openslr-95-german-neutral-tts/synmels_r3_149_difflen/test/mel_44.npy\n",
      "/github/datasets/openslr-95-german-neutral-tts/synmels_r3_149_difflen/test/mel_45.npy\n",
      "/github/datasets/openslr-95-german-neutral-tts/synmels_r3_149_difflen/test/mel_46.npy\n",
      "/github/datasets/openslr-95-german-neutral-tts/synmels_r3_149_difflen/test/mel_47.npy\n",
      "/github/datasets/openslr-95-german-neutral-tts/synmels_r3_149_difflen/test/mel_48.npy\n",
      "/github/datasets/openslr-95-german-neutral-tts/synmels_r3_149_difflen/test/mel_49.npy\n",
      "/github/datasets/openslr-95-german-neutral-tts/synmels_r3_149_difflen/test/mel_50.npy\n",
      "/github/datasets/openslr-95-german-neutral-tts/synmels_r3_149_difflen/test/mel_51.npy\n",
      "/github/datasets/openslr-95-german-neutral-tts/synmels_r3_149_difflen/test/mel_52.npy\n",
      "/github/datasets/openslr-95-german-neutral-tts/synmels_r3_149_difflen/test/mel_53.npy\n",
      "/github/datasets/openslr-95-german-neutral-tts/synmels_r3_149_difflen/test/mel_54.npy\n",
      "/github/datasets/openslr-95-german-neutral-tts/synmels_r3_149_difflen/test/mel_55.npy\n",
      "/github/datasets/openslr-95-german-neutral-tts/synmels_r3_149_difflen/test/mel_56.npy\n",
      "/github/datasets/openslr-95-german-neutral-tts/synmels_r3_149_difflen/test/mel_57.npy\n",
      "/github/datasets/openslr-95-german-neutral-tts/synmels_r3_149_difflen/test/mel_58.npy\n",
      "/github/datasets/openslr-95-german-neutral-tts/synmels_r3_149_difflen/test/mel_59.npy\n",
      "/github/datasets/openslr-95-german-neutral-tts/synmels_r3_149_difflen/test/mel_60.npy\n",
      "/github/datasets/openslr-95-german-neutral-tts/synmels_r3_149_difflen/test/mel_61.npy\n",
      "/github/datasets/openslr-95-german-neutral-tts/synmels_r3_149_difflen/test/mel_62.npy\n"
     ]
    },
    {
     "name": "stderr",
     "output_type": "stream",
     "text": [
      "[NeMo W 2022-05-12 01:52:17 tts_tokenizers:351] Text: [auf DER1 nordseite ist AY1N GROW1ßEH1S LAA1K IH1M ZAO1N.] contains unknown char/phoneme: [ß]. Original text: [Auf der Nordseite ist ein großes Loch im Zaun.]. Symbol will be skipped.\n"
     ]
    },
    {
     "name": "stdout",
     "output_type": "stream",
     "text": [
      "/github/datasets/openslr-95-german-neutral-tts/synmels_r3_149_difflen/test/mel_63.npy\n",
      "/github/datasets/openslr-95-german-neutral-tts/synmels_r3_149_difflen/test/mel_64.npy\n",
      "/github/datasets/openslr-95-german-neutral-tts/synmels_r3_149_difflen/test/mel_65.npy\n",
      "/github/datasets/openslr-95-german-neutral-tts/synmels_r3_149_difflen/test/mel_66.npy\n",
      "/github/datasets/openslr-95-german-neutral-tts/synmels_r3_149_difflen/test/mel_67.npy\n",
      "/github/datasets/openslr-95-german-neutral-tts/synmels_r3_149_difflen/test/mel_68.npy\n"
     ]
    },
    {
     "name": "stderr",
     "output_type": "stream",
     "text": [
      "[NeMo W 2022-05-12 01:52:17 tts_tokenizers:351] Text: [DAY1 DIH1NGER0 heißEH1N nicht berliner, sondern krapfen.] contains unknown char/phoneme: [ß]. Original text: [Die Dinger heißen nicht Berliner, sondern Krapfen.]. Symbol will be skipped.\n"
     ]
    },
    {
     "name": "stdout",
     "output_type": "stream",
     "text": [
      "/github/datasets/openslr-95-german-neutral-tts/synmels_r3_149_difflen/test/mel_69.npy\n",
      "/github/datasets/openslr-95-german-neutral-tts/synmels_r3_149_difflen/test/mel_70.npy\n",
      "/github/datasets/openslr-95-german-neutral-tts/synmels_r3_149_difflen/test/mel_71.npy\n",
      "/github/datasets/openslr-95-german-neutral-tts/synmels_r3_149_difflen/test/mel_72.npy\n",
      "/github/datasets/openslr-95-german-neutral-tts/synmels_r3_149_difflen/test/mel_73.npy\n",
      "/github/datasets/openslr-95-german-neutral-tts/synmels_r3_149_difflen/test/mel_74.npy\n",
      "/github/datasets/openslr-95-german-neutral-tts/synmels_r3_149_difflen/test/mel_75.npy\n",
      "/github/datasets/openslr-95-german-neutral-tts/synmels_r3_149_difflen/test/mel_76.npy\n",
      "/github/datasets/openslr-95-german-neutral-tts/synmels_r3_149_difflen/test/mel_77.npy\n",
      "/github/datasets/openslr-95-german-neutral-tts/synmels_r3_149_difflen/test/mel_78.npy\n",
      "/github/datasets/openslr-95-german-neutral-tts/synmels_r3_149_difflen/test/mel_79.npy\n",
      "/github/datasets/openslr-95-german-neutral-tts/synmels_r3_149_difflen/test/mel_80.npy\n",
      "/github/datasets/openslr-95-german-neutral-tts/synmels_r3_149_difflen/test/mel_81.npy\n",
      "/github/datasets/openslr-95-german-neutral-tts/synmels_r3_149_difflen/test/mel_82.npy\n",
      "/github/datasets/openslr-95-german-neutral-tts/synmels_r3_149_difflen/test/mel_83.npy\n",
      "/github/datasets/openslr-95-german-neutral-tts/synmels_r3_149_difflen/test/mel_84.npy\n",
      "/github/datasets/openslr-95-german-neutral-tts/synmels_r3_149_difflen/test/mel_85.npy\n",
      "/github/datasets/openslr-95-german-neutral-tts/synmels_r3_149_difflen/test/mel_86.npy\n",
      "/github/datasets/openslr-95-german-neutral-tts/synmels_r3_149_difflen/test/mel_87.npy\n",
      "/github/datasets/openslr-95-german-neutral-tts/synmels_r3_149_difflen/test/mel_88.npy\n",
      "/github/datasets/openslr-95-german-neutral-tts/synmels_r3_149_difflen/test/mel_89.npy\n",
      "/github/datasets/openslr-95-german-neutral-tts/synmels_r3_149_difflen/test/mel_90.npy\n",
      "/github/datasets/openslr-95-german-neutral-tts/synmels_r3_149_difflen/test/mel_91.npy\n",
      "/github/datasets/openslr-95-german-neutral-tts/synmels_r3_149_difflen/test/mel_92.npy\n",
      "/github/datasets/openslr-95-german-neutral-tts/synmels_r3_149_difflen/test/mel_93.npy\n",
      "/github/datasets/openslr-95-german-neutral-tts/synmels_r3_149_difflen/test/mel_94.npy\n",
      "/github/datasets/openslr-95-german-neutral-tts/synmels_r3_149_difflen/test/mel_95.npy\n",
      "/github/datasets/openslr-95-german-neutral-tts/synmels_r3_149_difflen/test/mel_96.npy\n",
      "/github/datasets/openslr-95-german-neutral-tts/synmels_r3_149_difflen/test/mel_97.npy\n",
      "/github/datasets/openslr-95-german-neutral-tts/synmels_r3_149_difflen/test/mel_98.npy\n",
      "/github/datasets/openslr-95-german-neutral-tts/synmels_r3_149_difflen/test/mel_99.npy\n",
      "/github/datasets/openslr-95-german-neutral-tts/synmels_r3_149_difflen/test/mel_100.npy\n",
      "/github/datasets/openslr-95-german-neutral-tts/synmels_r3_149_difflen/test/mel_101.npy\n"
     ]
    },
    {
     "name": "stderr",
     "output_type": "stream",
     "text": [
      "[NeMo W 2022-05-12 01:52:18 tts_tokenizers:351] Text: [das wird ihm noch auf DAY1 FUW1ßIY1 FAA1LAH0N, GLAO1B MIH1R!] contains unknown char/phoneme: [ß]. Original text: [Das wird ihm noch auf die Fuße fallen, glaub mir!]. Symbol will be skipped.\n"
     ]
    },
    {
     "name": "stdout",
     "output_type": "stream",
     "text": [
      "/github/datasets/openslr-95-german-neutral-tts/synmels_r3_149_difflen/test/mel_102.npy\n",
      "/github/datasets/openslr-95-german-neutral-tts/synmels_r3_149_difflen/test/mel_103.npy\n",
      "/github/datasets/openslr-95-german-neutral-tts/synmels_r3_149_difflen/test/mel_104.npy\n",
      "/github/datasets/openslr-95-german-neutral-tts/synmels_r3_149_difflen/test/mel_105.npy\n",
      "/github/datasets/openslr-95-german-neutral-tts/synmels_r3_149_difflen/test/mel_106.npy\n",
      "/github/datasets/openslr-95-german-neutral-tts/synmels_r3_149_difflen/test/mel_107.npy\n",
      "/github/datasets/openslr-95-german-neutral-tts/synmels_r3_149_difflen/test/mel_108.npy\n",
      "/github/datasets/openslr-95-german-neutral-tts/synmels_r3_149_difflen/test/mel_109.npy\n",
      "/github/datasets/openslr-95-german-neutral-tts/synmels_r3_149_difflen/test/mel_110.npy\n",
      "/github/datasets/openslr-95-german-neutral-tts/synmels_r3_149_difflen/test/mel_111.npy\n",
      "/github/datasets/openslr-95-german-neutral-tts/synmels_r3_149_difflen/test/mel_112.npy\n",
      "/github/datasets/openslr-95-german-neutral-tts/synmels_r3_149_difflen/test/mel_113.npy\n",
      "/github/datasets/openslr-95-german-neutral-tts/synmels_r3_149_difflen/test/mel_114.npy\n",
      "/github/datasets/openslr-95-german-neutral-tts/synmels_r3_149_difflen/test/mel_115.npy\n",
      "/github/datasets/openslr-95-german-neutral-tts/synmels_r3_149_difflen/test/mel_116.npy\n",
      "/github/datasets/openslr-95-german-neutral-tts/synmels_r3_149_difflen/test/mel_117.npy\n",
      "/github/datasets/openslr-95-german-neutral-tts/synmels_r3_149_difflen/test/mel_118.npy\n",
      "/github/datasets/openslr-95-german-neutral-tts/synmels_r3_149_difflen/test/mel_119.npy\n",
      "/github/datasets/openslr-95-german-neutral-tts/synmels_r3_149_difflen/test/mel_120.npy\n",
      "/github/datasets/openslr-95-german-neutral-tts/synmels_r3_149_difflen/test/mel_121.npy\n",
      "/github/datasets/openslr-95-german-neutral-tts/synmels_r3_149_difflen/test/mel_122.npy\n",
      "/github/datasets/openslr-95-german-neutral-tts/synmels_r3_149_difflen/test/mel_123.npy\n",
      "/github/datasets/openslr-95-german-neutral-tts/synmels_r3_149_difflen/test/mel_124.npy\n",
      "/github/datasets/openslr-95-german-neutral-tts/synmels_r3_149_difflen/test/mel_125.npy\n",
      "/github/datasets/openslr-95-german-neutral-tts/synmels_r3_149_difflen/test/mel_126.npy\n",
      "/github/datasets/openslr-95-german-neutral-tts/synmels_r3_149_difflen/test/mel_127.npy\n"
     ]
    },
    {
     "name": "stderr",
     "output_type": "stream",
     "text": [
      "[NeMo W 2022-05-12 01:52:19 tts_tokenizers:351] Text: [ER0 wird mit einer GROW1ßEH1N wirtschaftsdelegation kommen, AH1ND in DER1 TAE1T wird sich DAY1 amerikanische leistungsstarke DAO1RT prasentieren.] contains unknown char/phoneme: [ß]. Original text: [Er wird mit einer großen Wirtschaftsdelegation kommen, und in der Tat wird sich die amerikanische Leistungsstarke dort prasentieren.]. Symbol will be skipped.\n"
     ]
    },
    {
     "name": "stdout",
     "output_type": "stream",
     "text": [
      "/github/datasets/openslr-95-german-neutral-tts/synmels_r3_149_difflen/test/mel_128.npy\n",
      "/github/datasets/openslr-95-german-neutral-tts/synmels_r3_149_difflen/test/mel_129.npy\n",
      "/github/datasets/openslr-95-german-neutral-tts/synmels_r3_149_difflen/test/mel_130.npy\n",
      "/github/datasets/openslr-95-german-neutral-tts/synmels_r3_149_difflen/test/mel_131.npy\n",
      "/github/datasets/openslr-95-german-neutral-tts/synmels_r3_149_difflen/test/mel_132.npy\n",
      "/github/datasets/openslr-95-german-neutral-tts/synmels_r3_149_difflen/test/mel_133.npy\n",
      "/github/datasets/openslr-95-german-neutral-tts/synmels_r3_149_difflen/test/mel_134.npy\n",
      "/github/datasets/openslr-95-german-neutral-tts/synmels_r3_149_difflen/test/mel_135.npy\n",
      "/github/datasets/openslr-95-german-neutral-tts/synmels_r3_149_difflen/test/mel_136.npy\n",
      "/github/datasets/openslr-95-german-neutral-tts/synmels_r3_149_difflen/test/mel_137.npy\n",
      "/github/datasets/openslr-95-german-neutral-tts/synmels_r3_149_difflen/test/mel_138.npy\n",
      "/github/datasets/openslr-95-german-neutral-tts/synmels_r3_149_difflen/test/mel_139.npy\n",
      "/github/datasets/openslr-95-german-neutral-tts/synmels_r3_149_difflen/test/mel_140.npy\n",
      "/github/datasets/openslr-95-german-neutral-tts/synmels_r3_149_difflen/test/mel_141.npy\n",
      "/github/datasets/openslr-95-german-neutral-tts/synmels_r3_149_difflen/test/mel_142.npy\n",
      "/github/datasets/openslr-95-german-neutral-tts/synmels_r3_149_difflen/test/mel_143.npy\n",
      "/github/datasets/openslr-95-german-neutral-tts/synmels_r3_149_difflen/test/mel_144.npy\n",
      "/github/datasets/openslr-95-german-neutral-tts/synmels_r3_149_difflen/test/mel_145.npy\n",
      "/github/datasets/openslr-95-german-neutral-tts/synmels_r3_149_difflen/test/mel_146.npy\n",
      "/github/datasets/openslr-95-german-neutral-tts/synmels_r3_149_difflen/test/mel_147.npy\n"
     ]
    },
    {
     "name": "stderr",
     "output_type": "stream",
     "text": [
      "[NeMo W 2022-05-12 01:52:20 tts_tokenizers:351] Text: [tschuß, BIH1S zum nachsen MAE1L!] contains unknown char/phoneme: [ß]. Original text: [Tschuß, bis zum nachsen mal!]. Symbol will be skipped.\n",
      "[NeMo W 2022-05-12 01:52:20 tts_tokenizers:351] Text: [bei dieser schriftart KAE1N MAE1N das KLAY1N EH1L LAY1KT mit einem GROW1ßEH1N AY1 verwechseln.] contains unknown char/phoneme: [ß]. Original text: [Bei dieser Schriftart kann man das kleine L leicht mit einem großen I verwechseln.]. Symbol will be skipped.\n"
     ]
    },
    {
     "name": "stdout",
     "output_type": "stream",
     "text": [
      "/github/datasets/openslr-95-german-neutral-tts/synmels_r3_149_difflen/test/mel_148.npy\n",
      "/github/datasets/openslr-95-german-neutral-tts/synmels_r3_149_difflen/test/mel_149.npy\n",
      "/github/datasets/openslr-95-german-neutral-tts/synmels_r3_149_difflen/test/mel_150.npy\n",
      "/github/datasets/openslr-95-german-neutral-tts/synmels_r3_149_difflen/test/mel_151.npy\n",
      "/github/datasets/openslr-95-german-neutral-tts/synmels_r3_149_difflen/test/mel_152.npy\n",
      "/github/datasets/openslr-95-german-neutral-tts/synmels_r3_149_difflen/test/mel_153.npy\n",
      "/github/datasets/openslr-95-german-neutral-tts/synmels_r3_149_difflen/test/mel_154.npy\n",
      "/github/datasets/openslr-95-german-neutral-tts/synmels_r3_149_difflen/test/mel_155.npy\n",
      "/github/datasets/openslr-95-german-neutral-tts/synmels_r3_149_difflen/test/mel_156.npy\n",
      "/github/datasets/openslr-95-german-neutral-tts/synmels_r3_149_difflen/test/mel_157.npy\n",
      "/github/datasets/openslr-95-german-neutral-tts/synmels_r3_149_difflen/test/mel_158.npy\n",
      "/github/datasets/openslr-95-german-neutral-tts/synmels_r3_149_difflen/test/mel_159.npy\n",
      "/github/datasets/openslr-95-german-neutral-tts/synmels_r3_149_difflen/test/mel_160.npy\n",
      "/github/datasets/openslr-95-german-neutral-tts/synmels_r3_149_difflen/test/mel_161.npy\n",
      "/github/datasets/openslr-95-german-neutral-tts/synmels_r3_149_difflen/test/mel_162.npy\n",
      "/github/datasets/openslr-95-german-neutral-tts/synmels_r3_149_difflen/test/mel_163.npy\n",
      "/github/datasets/openslr-95-german-neutral-tts/synmels_r3_149_difflen/test/mel_164.npy\n",
      "/github/datasets/openslr-95-german-neutral-tts/synmels_r3_149_difflen/test/mel_165.npy\n",
      "/github/datasets/openslr-95-german-neutral-tts/synmels_r3_149_difflen/test/mel_166.npy\n",
      "/github/datasets/openslr-95-german-neutral-tts/synmels_r3_149_difflen/test/mel_167.npy\n",
      "/github/datasets/openslr-95-german-neutral-tts/synmels_r3_149_difflen/test/mel_168.npy\n",
      "/github/datasets/openslr-95-german-neutral-tts/synmels_r3_149_difflen/test/mel_169.npy\n",
      "/github/datasets/openslr-95-german-neutral-tts/synmels_r3_149_difflen/test/mel_170.npy\n",
      "/github/datasets/openslr-95-german-neutral-tts/synmels_r3_149_difflen/test/mel_171.npy\n"
     ]
    },
    {
     "name": "stderr",
     "output_type": "stream",
     "text": [
      "[NeMo W 2022-05-12 01:52:21 tts_tokenizers:351] Text: [EH1S ist richtig: in frankreich, in GROW1ßbritannien ist DAY1 erinnerung an DEH1N ersten weltkrieg SEH1R VIY1L STAA1RKER0 offentlich ausgepragt.] contains unknown char/phoneme: [ß]. Original text: [Es ist richtig: In Frankreich, in Großbritannien ist die Erinnerung an den Ersten Weltkrieg sehr viel starker offentlich ausgepragt.]. Symbol will be skipped.\n",
      "[NeMo W 2022-05-12 01:52:21 tts_tokenizers:351] Text: [DAY1 AO1TOW0Z hielten an AH1ND LAY1ßEH1N SIY1 vorbei.] contains unknown char/phoneme: [ß]. Original text: [Die Autos hielten an und ließen sie vorbei.]. Symbol will be skipped.\n"
     ]
    },
    {
     "name": "stdout",
     "output_type": "stream",
     "text": [
      "/github/datasets/openslr-95-german-neutral-tts/synmels_r3_149_difflen/test/mel_172.npy\n",
      "/github/datasets/openslr-95-german-neutral-tts/synmels_r3_149_difflen/test/mel_173.npy\n",
      "/github/datasets/openslr-95-german-neutral-tts/synmels_r3_149_difflen/test/mel_174.npy\n",
      "/github/datasets/openslr-95-german-neutral-tts/synmels_r3_149_difflen/test/mel_175.npy\n",
      "/github/datasets/openslr-95-german-neutral-tts/synmels_r3_149_difflen/test/mel_176.npy\n",
      "/github/datasets/openslr-95-german-neutral-tts/synmels_r3_149_difflen/test/mel_177.npy\n",
      "/github/datasets/openslr-95-german-neutral-tts/synmels_r3_149_difflen/test/mel_178.npy\n",
      "/github/datasets/openslr-95-german-neutral-tts/synmels_r3_149_difflen/test/mel_179.npy\n",
      "/github/datasets/openslr-95-german-neutral-tts/synmels_r3_149_difflen/test/mel_180.npy\n",
      "/github/datasets/openslr-95-german-neutral-tts/synmels_r3_149_difflen/test/mel_181.npy\n",
      "/github/datasets/openslr-95-german-neutral-tts/synmels_r3_149_difflen/test/mel_182.npy\n",
      "/github/datasets/openslr-95-german-neutral-tts/synmels_r3_149_difflen/test/mel_183.npy\n",
      "/github/datasets/openslr-95-german-neutral-tts/synmels_r3_149_difflen/test/mel_184.npy\n",
      "/github/datasets/openslr-95-german-neutral-tts/synmels_r3_149_difflen/test/mel_185.npy\n",
      "/github/datasets/openslr-95-german-neutral-tts/synmels_r3_149_difflen/test/mel_186.npy\n",
      "/github/datasets/openslr-95-german-neutral-tts/synmels_r3_149_difflen/test/mel_187.npy\n",
      "/github/datasets/openslr-95-german-neutral-tts/synmels_r3_149_difflen/test/mel_188.npy\n",
      "/github/datasets/openslr-95-german-neutral-tts/synmels_r3_149_difflen/test/mel_189.npy\n",
      "/github/datasets/openslr-95-german-neutral-tts/synmels_r3_149_difflen/test/mel_190.npy\n"
     ]
    },
    {
     "name": "stderr",
     "output_type": "stream",
     "text": [
      "[NeMo W 2022-05-12 01:52:22 tts_tokenizers:351] Text: [antikweiß] contains unknown char/phoneme: [ß]. Original text: [antikweiß]. Symbol will be skipped.\n"
     ]
    },
    {
     "name": "stdout",
     "output_type": "stream",
     "text": [
      "/github/datasets/openslr-95-german-neutral-tts/synmels_r3_149_difflen/test/mel_191.npy\n",
      "/github/datasets/openslr-95-german-neutral-tts/synmels_r3_149_difflen/test/mel_192.npy\n",
      "/github/datasets/openslr-95-german-neutral-tts/synmels_r3_149_difflen/test/mel_193.npy\n",
      "/github/datasets/openslr-95-german-neutral-tts/synmels_r3_149_difflen/test/mel_194.npy\n",
      "/github/datasets/openslr-95-german-neutral-tts/synmels_r3_149_difflen/test/mel_195.npy\n",
      "/github/datasets/openslr-95-german-neutral-tts/synmels_r3_149_difflen/test/mel_196.npy\n",
      "/github/datasets/openslr-95-german-neutral-tts/synmels_r3_149_difflen/test/mel_197.npy\n",
      "/github/datasets/openslr-95-german-neutral-tts/synmels_r3_149_difflen/test/mel_198.npy\n",
      "/github/datasets/openslr-95-german-neutral-tts/synmels_r3_149_difflen/test/mel_199.npy\n",
      "/github/datasets/openslr-95-german-neutral-tts/synmels_r3_149_difflen/test/mel_200.npy\n",
      "/github/datasets/openslr-95-german-neutral-tts/synmels_r3_149_difflen/test/mel_201.npy\n",
      "/github/datasets/openslr-95-german-neutral-tts/synmels_r3_149_difflen/test/mel_202.npy\n",
      "/github/datasets/openslr-95-german-neutral-tts/synmels_r3_149_difflen/test/mel_203.npy\n",
      "/github/datasets/openslr-95-german-neutral-tts/synmels_r3_149_difflen/test/mel_204.npy\n",
      "/github/datasets/openslr-95-german-neutral-tts/synmels_r3_149_difflen/test/mel_205.npy\n",
      "/github/datasets/openslr-95-german-neutral-tts/synmels_r3_149_difflen/test/mel_206.npy\n",
      "/github/datasets/openslr-95-german-neutral-tts/synmels_r3_149_difflen/test/mel_207.npy\n",
      "/github/datasets/openslr-95-german-neutral-tts/synmels_r3_149_difflen/test/mel_208.npy\n",
      "/github/datasets/openslr-95-german-neutral-tts/synmels_r3_149_difflen/test/mel_209.npy\n",
      "/github/datasets/openslr-95-german-neutral-tts/synmels_r3_149_difflen/test/mel_210.npy\n",
      "/github/datasets/openslr-95-german-neutral-tts/synmels_r3_149_difflen/test/mel_211.npy\n",
      "/github/datasets/openslr-95-german-neutral-tts/synmels_r3_149_difflen/test/mel_212.npy\n",
      "/github/datasets/openslr-95-german-neutral-tts/synmels_r3_149_difflen/test/mel_213.npy\n",
      "/github/datasets/openslr-95-german-neutral-tts/synmels_r3_149_difflen/test/mel_214.npy\n",
      "/github/datasets/openslr-95-german-neutral-tts/synmels_r3_149_difflen/test/mel_215.npy\n",
      "/github/datasets/openslr-95-german-neutral-tts/synmels_r3_149_difflen/test/mel_216.npy\n",
      "/github/datasets/openslr-95-german-neutral-tts/synmels_r3_149_difflen/test/mel_217.npy\n",
      "/github/datasets/openslr-95-german-neutral-tts/synmels_r3_149_difflen/test/mel_218.npy\n",
      "/github/datasets/openslr-95-german-neutral-tts/synmels_r3_149_difflen/test/mel_219.npy\n",
      "/github/datasets/openslr-95-german-neutral-tts/synmels_r3_149_difflen/test/mel_220.npy\n",
      "/github/datasets/openslr-95-german-neutral-tts/synmels_r3_149_difflen/test/mel_221.npy\n",
      "/github/datasets/openslr-95-german-neutral-tts/synmels_r3_149_difflen/test/mel_222.npy\n",
      "/github/datasets/openslr-95-german-neutral-tts/synmels_r3_149_difflen/test/mel_223.npy\n",
      "/github/datasets/openslr-95-german-neutral-tts/synmels_r3_149_difflen/test/mel_224.npy\n",
      "/github/datasets/openslr-95-german-neutral-tts/synmels_r3_149_difflen/test/mel_225.npy\n",
      "/github/datasets/openslr-95-german-neutral-tts/synmels_r3_149_difflen/test/mel_226.npy\n",
      "/github/datasets/openslr-95-german-neutral-tts/synmels_r3_149_difflen/test/mel_227.npy\n",
      "/github/datasets/openslr-95-german-neutral-tts/synmels_r3_149_difflen/test/mel_228.npy\n",
      "/github/datasets/openslr-95-german-neutral-tts/synmels_r3_149_difflen/test/mel_229.npy\n",
      "/github/datasets/openslr-95-german-neutral-tts/synmels_r3_149_difflen/test/mel_230.npy\n",
      "/github/datasets/openslr-95-german-neutral-tts/synmels_r3_149_difflen/test/mel_231.npy\n",
      "/github/datasets/openslr-95-german-neutral-tts/synmels_r3_149_difflen/test/mel_232.npy\n",
      "/github/datasets/openslr-95-german-neutral-tts/synmels_r3_149_difflen/test/mel_233.npy\n",
      "/github/datasets/openslr-95-german-neutral-tts/synmels_r3_149_difflen/test/mel_234.npy\n",
      "/github/datasets/openslr-95-german-neutral-tts/synmels_r3_149_difflen/test/mel_235.npy\n",
      "/github/datasets/openslr-95-german-neutral-tts/synmels_r3_149_difflen/test/mel_236.npy\n",
      "/github/datasets/openslr-95-german-neutral-tts/synmels_r3_149_difflen/test/mel_237.npy\n",
      "/github/datasets/openslr-95-german-neutral-tts/synmels_r3_149_difflen/test/mel_238.npy\n",
      "/github/datasets/openslr-95-german-neutral-tts/synmels_r3_149_difflen/test/mel_239.npy\n",
      "/github/datasets/openslr-95-german-neutral-tts/synmels_r3_149_difflen/test/mel_240.npy\n",
      "/github/datasets/openslr-95-german-neutral-tts/synmels_r3_149_difflen/test/mel_241.npy\n",
      "/github/datasets/openslr-95-german-neutral-tts/synmels_r3_149_difflen/test/mel_242.npy\n",
      "/github/datasets/openslr-95-german-neutral-tts/synmels_r3_149_difflen/test/mel_243.npy\n",
      "/github/datasets/openslr-95-german-neutral-tts/synmels_r3_149_difflen/test/mel_244.npy\n",
      "/github/datasets/openslr-95-german-neutral-tts/synmels_r3_149_difflen/test/mel_245.npy\n"
     ]
    },
    {
     "name": "stderr",
     "output_type": "stream",
     "text": [
      "[NeMo W 2022-05-12 01:52:23 tts_tokenizers:351] Text: [zum SUW0FLEY1 gehort vanillesoßIY1.] contains unknown char/phoneme: [ß]. Original text: [Zum Souffle gehort Vanillesoße.]. Symbol will be skipped.\n"
     ]
    },
    {
     "name": "stdout",
     "output_type": "stream",
     "text": [
      "/github/datasets/openslr-95-german-neutral-tts/synmels_r3_149_difflen/test/mel_246.npy\n",
      "/github/datasets/openslr-95-german-neutral-tts/synmels_r3_149_difflen/test/mel_247.npy\n",
      "/github/datasets/openslr-95-german-neutral-tts/synmels_r3_149_difflen/test/mel_248.npy\n",
      "/github/datasets/openslr-95-german-neutral-tts/synmels_r3_149_difflen/test/mel_249.npy\n",
      "/github/datasets/openslr-95-german-neutral-tts/synmels_r3_149_difflen/test/mel_250.npy\n",
      "/github/datasets/openslr-95-german-neutral-tts/synmels_r3_149_difflen/test/mel_251.npy\n"
     ]
    },
    {
     "name": "stderr",
     "output_type": "stream",
     "text": [
      "[NeMo W 2022-05-12 01:52:24 tts_tokenizers:351] Text: [erst einmal KAE1N MAE1N SAE1GAH0N, DAE1S diese schwellenlander, DAY1 in DER1 TAE1T AY1N SEH1R GROW1ßEH1S wachstum haben, AO1CH VAO1N uns VIY1L lernen konnen.] contains unknown char/phoneme: [ß]. Original text: [Erst einmal kann man sagen, dass diese Schwellenlander, die in der Tat ein sehr großes Wachstum haben, auch von uns viel lernen konnen.]. Symbol will be skipped.\n"
     ]
    },
    {
     "name": "stdout",
     "output_type": "stream",
     "text": [
      "/github/datasets/openslr-95-german-neutral-tts/synmels_r3_149_difflen/test/mel_252.npy\n",
      "/github/datasets/openslr-95-german-neutral-tts/synmels_r3_149_difflen/test/mel_253.npy\n",
      "/github/datasets/openslr-95-german-neutral-tts/synmels_r3_149_difflen/test/mel_254.npy\n",
      "/github/datasets/openslr-95-german-neutral-tts/synmels_r3_149_difflen/test/mel_255.npy\n",
      "/github/datasets/openslr-95-german-neutral-tts/synmels_r3_149_difflen/test/mel_256.npy\n",
      "/github/datasets/openslr-95-german-neutral-tts/synmels_r3_149_difflen/test/mel_257.npy\n"
     ]
    },
    {
     "name": "stderr",
     "output_type": "stream",
     "text": [
      "[NeMo W 2022-05-12 01:52:24 tts_tokenizers:351] Text: [wer vom PRIY1Z auf DAY1 qualitat SHLIY1ßTIY1, SHLIY1ßTIY1 AO1CH VAO1N korrelation auf kausalitat.] contains unknown char/phoneme: [ß]. Original text: [Wer vom Preis auf die Qualitat schließt, schließt auch von Korrelation auf Kausalitat.]. Symbol will be skipped.\n",
      "[NeMo W 2022-05-12 01:52:24 tts_tokenizers:351] Text: [wer vom PRIY1Z auf DAY1 qualitat SHLIY1ßTIY1, SHLIY1ßTIY1 AO1CH VAO1N korrelation auf kausalitat.] contains unknown char/phoneme: [ß]. Original text: [Wer vom Preis auf die Qualitat schließt, schließt auch von Korrelation auf Kausalitat.]. Symbol will be skipped.\n"
     ]
    },
    {
     "name": "stdout",
     "output_type": "stream",
     "text": [
      "/github/datasets/openslr-95-german-neutral-tts/synmels_r3_149_difflen/test/mel_258.npy\n",
      "/github/datasets/openslr-95-german-neutral-tts/synmels_r3_149_difflen/test/mel_259.npy\n",
      "/github/datasets/openslr-95-german-neutral-tts/synmels_r3_149_difflen/test/mel_260.npy\n",
      "/github/datasets/openslr-95-german-neutral-tts/synmels_r3_149_difflen/test/mel_261.npy\n",
      "/github/datasets/openslr-95-german-neutral-tts/synmels_r3_149_difflen/test/mel_262.npy\n",
      "/github/datasets/openslr-95-german-neutral-tts/synmels_r3_149_difflen/test/mel_263.npy\n",
      "/github/datasets/openslr-95-german-neutral-tts/synmels_r3_149_difflen/test/mel_264.npy\n",
      "/github/datasets/openslr-95-german-neutral-tts/synmels_r3_149_difflen/test/mel_265.npy\n",
      "/github/datasets/openslr-95-german-neutral-tts/synmels_r3_149_difflen/test/mel_266.npy\n",
      "/github/datasets/openslr-95-german-neutral-tts/synmels_r3_149_difflen/test/mel_267.npy\n",
      "/github/datasets/openslr-95-german-neutral-tts/synmels_r3_149_difflen/test/mel_268.npy\n",
      "/github/datasets/openslr-95-german-neutral-tts/synmels_r3_149_difflen/test/mel_269.npy\n",
      "/github/datasets/openslr-95-german-neutral-tts/synmels_r3_149_difflen/test/mel_270.npy\n",
      "/github/datasets/openslr-95-german-neutral-tts/synmels_r3_149_difflen/test/mel_271.npy\n",
      "/github/datasets/openslr-95-german-neutral-tts/synmels_r3_149_difflen/test/mel_272.npy\n",
      "/github/datasets/openslr-95-german-neutral-tts/synmels_r3_149_difflen/test/mel_273.npy\n",
      "/github/datasets/openslr-95-german-neutral-tts/synmels_r3_149_difflen/test/mel_274.npy\n",
      "/github/datasets/openslr-95-german-neutral-tts/synmels_r3_149_difflen/test/mel_275.npy\n",
      "/github/datasets/openslr-95-german-neutral-tts/synmels_r3_149_difflen/test/mel_276.npy\n",
      "/github/datasets/openslr-95-german-neutral-tts/synmels_r3_149_difflen/test/mel_277.npy\n",
      "/github/datasets/openslr-95-german-neutral-tts/synmels_r3_149_difflen/test/mel_278.npy\n",
      "/github/datasets/openslr-95-german-neutral-tts/synmels_r3_149_difflen/test/mel_279.npy\n",
      "/github/datasets/openslr-95-german-neutral-tts/synmels_r3_149_difflen/test/mel_280.npy\n",
      "/github/datasets/openslr-95-german-neutral-tts/synmels_r3_149_difflen/test/mel_281.npy\n"
     ]
    },
    {
     "name": "stderr",
     "output_type": "stream",
     "text": [
      "[NeMo W 2022-05-12 01:52:25 tts_tokenizers:351] Text: [zwei stuhlkreise WER1DAH0N errichtet, einer nach innen AH1ND einer nach OW1ßEH1N gewandt.] contains unknown char/phoneme: [ß]. Original text: [Zwei Stuhlkreise werden errichtet, einer nach innen und einer nach außen gewandt.]. Symbol will be skipped.\n"
     ]
    },
    {
     "name": "stdout",
     "output_type": "stream",
     "text": [
      "/github/datasets/openslr-95-german-neutral-tts/synmels_r3_149_difflen/test/mel_282.npy\n",
      "/github/datasets/openslr-95-german-neutral-tts/synmels_r3_149_difflen/test/mel_283.npy\n",
      "/github/datasets/openslr-95-german-neutral-tts/synmels_r3_149_difflen/test/mel_284.npy\n",
      "/github/datasets/openslr-95-german-neutral-tts/synmels_r3_149_difflen/test/mel_285.npy\n",
      "/github/datasets/openslr-95-german-neutral-tts/synmels_r3_149_difflen/test/mel_286.npy\n",
      "/github/datasets/openslr-95-german-neutral-tts/synmels_r3_149_difflen/test/mel_287.npy\n",
      "/github/datasets/openslr-95-german-neutral-tts/synmels_r3_149_difflen/test/mel_288.npy\n",
      "/github/datasets/openslr-95-german-neutral-tts/synmels_r3_149_difflen/test/mel_289.npy\n",
      "/github/datasets/openslr-95-german-neutral-tts/synmels_r3_149_difflen/test/mel_290.npy\n",
      "/github/datasets/openslr-95-german-neutral-tts/synmels_r3_149_difflen/test/mel_291.npy\n"
     ]
    },
    {
     "name": "stderr",
     "output_type": "stream",
     "text": [
      "[NeMo W 2022-05-12 01:52:25 tts_tokenizers:351] Text: [vorsicht, jacqueline KAE1N AO1CH AW1Z GROW1ßER0 entfernung lippen lesen.] contains unknown char/phoneme: [ß]. Original text: [Vorsicht, Jacqueline kann auch aus großer Entfernung Lippen lesen.]. Symbol will be skipped.\n"
     ]
    },
    {
     "name": "stdout",
     "output_type": "stream",
     "text": [
      "/github/datasets/openslr-95-german-neutral-tts/synmels_r3_149_difflen/test/mel_292.npy\n",
      "/github/datasets/openslr-95-german-neutral-tts/synmels_r3_149_difflen/test/mel_293.npy\n",
      "/github/datasets/openslr-95-german-neutral-tts/synmels_r3_149_difflen/test/mel_294.npy\n",
      "/github/datasets/openslr-95-german-neutral-tts/synmels_r3_149_difflen/test/mel_295.npy\n",
      "/github/datasets/openslr-95-german-neutral-tts/synmels_r3_149_difflen/test/mel_296.npy\n",
      "/github/datasets/openslr-95-german-neutral-tts/synmels_r3_149_difflen/test/mel_297.npy\n",
      "/github/datasets/openslr-95-german-neutral-tts/synmels_r3_149_difflen/test/mel_298.npy\n",
      "/github/datasets/openslr-95-german-neutral-tts/synmels_r3_149_difflen/test/mel_299.npy\n",
      "/github/datasets/openslr-95-german-neutral-tts/synmels_r3_149_difflen/test/mel_300.npy\n",
      "/github/datasets/openslr-95-german-neutral-tts/synmels_r3_149_difflen/test/mel_301.npy\n",
      "/github/datasets/openslr-95-german-neutral-tts/synmels_r3_149_difflen/test/mel_302.npy\n",
      "/github/datasets/openslr-95-german-neutral-tts/synmels_r3_149_difflen/test/mel_303.npy\n",
      "/github/datasets/openslr-95-german-neutral-tts/synmels_r3_149_difflen/test/mel_304.npy\n",
      "/github/datasets/openslr-95-german-neutral-tts/synmels_r3_149_difflen/test/mel_305.npy\n",
      "/github/datasets/openslr-95-german-neutral-tts/synmels_r3_149_difflen/test/mel_306.npy\n",
      "/github/datasets/openslr-95-german-neutral-tts/synmels_r3_149_difflen/test/mel_307.npy\n",
      "/github/datasets/openslr-95-german-neutral-tts/synmels_r3_149_difflen/test/mel_308.npy\n",
      "/github/datasets/openslr-95-german-neutral-tts/synmels_r3_149_difflen/test/mel_309.npy\n",
      "/github/datasets/openslr-95-german-neutral-tts/synmels_r3_149_difflen/test/mel_310.npy\n",
      "/github/datasets/openslr-95-german-neutral-tts/synmels_r3_149_difflen/test/mel_311.npy\n",
      "/github/datasets/openslr-95-german-neutral-tts/synmels_r3_149_difflen/test/mel_312.npy\n",
      "/github/datasets/openslr-95-german-neutral-tts/synmels_r3_149_difflen/test/mel_313.npy\n",
      "/github/datasets/openslr-95-german-neutral-tts/synmels_r3_149_difflen/test/mel_314.npy\n",
      "/github/datasets/openslr-95-german-neutral-tts/synmels_r3_149_difflen/test/mel_315.npy\n",
      "/github/datasets/openslr-95-german-neutral-tts/synmels_r3_149_difflen/test/mel_316.npy\n",
      "/github/datasets/openslr-95-german-neutral-tts/synmels_r3_149_difflen/test/mel_317.npy\n",
      "/github/datasets/openslr-95-german-neutral-tts/synmels_r3_149_difflen/test/mel_318.npy\n",
      "/github/datasets/openslr-95-german-neutral-tts/synmels_r3_149_difflen/test/mel_319.npy\n"
     ]
    },
    {
     "name": "stderr",
     "output_type": "stream",
     "text": [
      "[NeMo W 2022-05-12 01:52:26 tts_tokenizers:351] Text: [genauso wie wir AO1FAH0N SIH1ND dafur, DAE1S chinesische unternehmen in DER1 ganzen europaischen YUW1NYAH0N – AH1ND AO1CH in DOY1CHLAE0ND – ihre investitionen platzieren.] contains unknown char/phoneme: [–]. Original text: [Genauso wie wir offen sind dafur, dass chinesische Unternehmen in der ganzen Europaischen Union – und auch in Deutschland – ihre Investitionen platzieren.]. Symbol will be skipped.\n",
      "[NeMo W 2022-05-12 01:52:26 tts_tokenizers:351] Text: [genauso wie wir AO1FAH0N SIH1ND dafur, DAE1S chinesische unternehmen in DER1 ganzen europaischen YUW1NYAH0N – AH1ND AO1CH in DOY1CHLAE0ND – ihre investitionen platzieren.] contains unknown char/phoneme: [–]. Original text: [Genauso wie wir offen sind dafur, dass chinesische Unternehmen in der ganzen Europaischen Union – und auch in Deutschland – ihre Investitionen platzieren.]. Symbol will be skipped.\n"
     ]
    },
    {
     "name": "stdout",
     "output_type": "stream",
     "text": [
      "/github/datasets/openslr-95-german-neutral-tts/synmels_r3_149_difflen/test/mel_320.npy\n",
      "/github/datasets/openslr-95-german-neutral-tts/synmels_r3_149_difflen/test/mel_321.npy\n",
      "/github/datasets/openslr-95-german-neutral-tts/synmels_r3_149_difflen/test/mel_322.npy\n",
      "/github/datasets/openslr-95-german-neutral-tts/synmels_r3_149_difflen/test/mel_323.npy\n",
      "/github/datasets/openslr-95-german-neutral-tts/synmels_r3_149_difflen/test/mel_324.npy\n",
      "/github/datasets/openslr-95-german-neutral-tts/synmels_r3_149_difflen/test/mel_325.npy\n",
      "/github/datasets/openslr-95-german-neutral-tts/synmels_r3_149_difflen/test/mel_326.npy\n",
      "/github/datasets/openslr-95-german-neutral-tts/synmels_r3_149_difflen/test/mel_327.npy\n",
      "/github/datasets/openslr-95-german-neutral-tts/synmels_r3_149_difflen/test/mel_328.npy\n",
      "/github/datasets/openslr-95-german-neutral-tts/synmels_r3_149_difflen/test/mel_329.npy\n",
      "/github/datasets/openslr-95-german-neutral-tts/synmels_r3_149_difflen/test/mel_330.npy\n",
      "/github/datasets/openslr-95-german-neutral-tts/synmels_r3_149_difflen/test/mel_331.npy\n",
      "/github/datasets/openslr-95-german-neutral-tts/synmels_r3_149_difflen/test/mel_332.npy\n",
      "/github/datasets/openslr-95-german-neutral-tts/synmels_r3_149_difflen/test/mel_333.npy\n",
      "/github/datasets/openslr-95-german-neutral-tts/synmels_r3_149_difflen/test/mel_334.npy\n"
     ]
    },
    {
     "name": "stderr",
     "output_type": "stream",
     "text": [
      "[NeMo W 2022-05-12 01:52:27 tts_tokenizers:351] Text: [DAY1 BAO1RS ist kein wettburo – eigentlich.] contains unknown char/phoneme: [–]. Original text: [Die Borse ist kein Wettburo – eigentlich.]. Symbol will be skipped.\n"
     ]
    },
    {
     "name": "stdout",
     "output_type": "stream",
     "text": [
      "/github/datasets/openslr-95-german-neutral-tts/synmels_r3_149_difflen/test/mel_335.npy\n",
      "/github/datasets/openslr-95-german-neutral-tts/synmels_r3_149_difflen/test/mel_336.npy\n",
      "/github/datasets/openslr-95-german-neutral-tts/synmels_r3_149_difflen/test/mel_337.npy\n",
      "/github/datasets/openslr-95-german-neutral-tts/synmels_r3_149_difflen/test/mel_338.npy\n",
      "/github/datasets/openslr-95-german-neutral-tts/synmels_r3_149_difflen/test/mel_339.npy\n",
      "/github/datasets/openslr-95-german-neutral-tts/synmels_r3_149_difflen/test/mel_340.npy\n",
      "/github/datasets/openslr-95-german-neutral-tts/synmels_r3_149_difflen/test/mel_341.npy\n",
      "/github/datasets/openslr-95-german-neutral-tts/synmels_r3_149_difflen/test/mel_342.npy\n",
      "/github/datasets/openslr-95-german-neutral-tts/synmels_r3_149_difflen/test/mel_343.npy\n",
      "/github/datasets/openslr-95-german-neutral-tts/synmels_r3_149_difflen/test/mel_344.npy\n"
     ]
    },
    {
     "name": "stderr",
     "output_type": "stream",
     "text": [
      "[NeMo W 2022-05-12 01:52:27 tts_tokenizers:351] Text: [virologen haben noch nicht abschließEH1ND untersucht, ob schlangenol DAY1 ausbreitung VAO1N VIH1RAH0N beeinflusst.] contains unknown char/phoneme: [ß]. Original text: [Virologen haben noch nicht abschließend untersucht, ob Schlangenol die Ausbreitung von Viren beeinflusst.]. Symbol will be skipped.\n"
     ]
    },
    {
     "name": "stdout",
     "output_type": "stream",
     "text": [
      "/github/datasets/openslr-95-german-neutral-tts/synmels_r3_149_difflen/test/mel_345.npy\n",
      "/github/datasets/openslr-95-german-neutral-tts/synmels_r3_149_difflen/test/mel_346.npy\n",
      "/github/datasets/openslr-95-german-neutral-tts/synmels_r3_149_difflen/test/mel_347.npy\n",
      "/github/datasets/openslr-95-german-neutral-tts/synmels_r3_149_difflen/test/mel_348.npy\n",
      "/github/datasets/openslr-95-german-neutral-tts/synmels_r3_149_difflen/test/mel_349.npy\n",
      "/github/datasets/openslr-95-german-neutral-tts/synmels_r3_149_difflen/test/mel_350.npy\n",
      "/github/datasets/openslr-95-german-neutral-tts/synmels_r3_149_difflen/test/mel_351.npy\n",
      "/github/datasets/openslr-95-german-neutral-tts/synmels_r3_149_difflen/test/mel_352.npy\n",
      "/github/datasets/openslr-95-german-neutral-tts/synmels_r3_149_difflen/test/mel_353.npy\n"
     ]
    },
    {
     "name": "stderr",
     "output_type": "stream",
     "text": [
      "[NeMo W 2022-05-12 01:52:27 tts_tokenizers:351] Text: [blutenweiß,] contains unknown char/phoneme: [ß]. Original text: [Blutenweiß,]. Symbol will be skipped.\n"
     ]
    },
    {
     "name": "stdout",
     "output_type": "stream",
     "text": [
      "/github/datasets/openslr-95-german-neutral-tts/synmels_r3_149_difflen/test/mel_354.npy\n",
      "/github/datasets/openslr-95-german-neutral-tts/synmels_r3_149_difflen/test/mel_355.npy\n",
      "/github/datasets/openslr-95-german-neutral-tts/synmels_r3_149_difflen/test/mel_356.npy\n",
      "/github/datasets/openslr-95-german-neutral-tts/synmels_r3_149_difflen/test/mel_357.npy\n",
      "/github/datasets/openslr-95-german-neutral-tts/synmels_r3_149_difflen/test/mel_358.npy\n",
      "/github/datasets/openslr-95-german-neutral-tts/synmels_r3_149_difflen/test/mel_359.npy\n",
      "/github/datasets/openslr-95-german-neutral-tts/synmels_r3_149_difflen/test/mel_360.npy\n",
      "/github/datasets/openslr-95-german-neutral-tts/synmels_r3_149_difflen/test/mel_361.npy\n",
      "/github/datasets/openslr-95-german-neutral-tts/synmels_r3_149_difflen/test/mel_362.npy\n",
      "/github/datasets/openslr-95-german-neutral-tts/synmels_r3_149_difflen/test/mel_363.npy\n",
      "/github/datasets/openslr-95-german-neutral-tts/synmels_r3_149_difflen/test/mel_364.npy\n",
      "/github/datasets/openslr-95-german-neutral-tts/synmels_r3_149_difflen/test/mel_365.npy\n",
      "/github/datasets/openslr-95-german-neutral-tts/synmels_r3_149_difflen/test/mel_366.npy\n",
      "/github/datasets/openslr-95-german-neutral-tts/synmels_r3_149_difflen/test/mel_367.npy\n",
      "/github/datasets/openslr-95-german-neutral-tts/synmels_r3_149_difflen/test/mel_368.npy\n",
      "/github/datasets/openslr-95-german-neutral-tts/synmels_r3_149_difflen/test/mel_369.npy\n",
      "/github/datasets/openslr-95-german-neutral-tts/synmels_r3_149_difflen/test/mel_370.npy\n",
      "/github/datasets/openslr-95-german-neutral-tts/synmels_r3_149_difflen/test/mel_371.npy\n",
      "/github/datasets/openslr-95-german-neutral-tts/synmels_r3_149_difflen/test/mel_372.npy\n",
      "/github/datasets/openslr-95-german-neutral-tts/synmels_r3_149_difflen/test/mel_373.npy\n",
      "/github/datasets/openslr-95-german-neutral-tts/synmels_r3_149_difflen/test/mel_374.npy\n",
      "/github/datasets/openslr-95-german-neutral-tts/synmels_r3_149_difflen/test/mel_375.npy\n",
      "/github/datasets/openslr-95-german-neutral-tts/synmels_r3_149_difflen/test/mel_376.npy\n",
      "/github/datasets/openslr-95-german-neutral-tts/synmels_r3_149_difflen/test/mel_377.npy\n",
      "/github/datasets/openslr-95-german-neutral-tts/synmels_r3_149_difflen/test/mel_378.npy\n",
      "/github/datasets/openslr-95-german-neutral-tts/synmels_r3_149_difflen/test/mel_379.npy\n",
      "/github/datasets/openslr-95-german-neutral-tts/synmels_r3_149_difflen/test/mel_380.npy\n",
      "/github/datasets/openslr-95-german-neutral-tts/synmels_r3_149_difflen/test/mel_381.npy\n",
      "/github/datasets/openslr-95-german-neutral-tts/synmels_r3_149_difflen/test/mel_382.npy\n",
      "/github/datasets/openslr-95-german-neutral-tts/synmels_r3_149_difflen/test/mel_383.npy\n",
      "/github/datasets/openslr-95-german-neutral-tts/synmels_r3_149_difflen/test/mel_384.npy\n",
      "/github/datasets/openslr-95-german-neutral-tts/synmels_r3_149_difflen/test/mel_385.npy\n",
      "/github/datasets/openslr-95-german-neutral-tts/synmels_r3_149_difflen/test/mel_386.npy\n",
      "/github/datasets/openslr-95-german-neutral-tts/synmels_r3_149_difflen/test/mel_387.npy\n",
      "/github/datasets/openslr-95-german-neutral-tts/synmels_r3_149_difflen/test/mel_388.npy\n",
      "/github/datasets/openslr-95-german-neutral-tts/synmels_r3_149_difflen/test/mel_389.npy\n",
      "/github/datasets/openslr-95-german-neutral-tts/synmels_r3_149_difflen/test/mel_390.npy\n",
      "/github/datasets/openslr-95-german-neutral-tts/synmels_r3_149_difflen/test/mel_391.npy\n",
      "/github/datasets/openslr-95-german-neutral-tts/synmels_r3_149_difflen/test/mel_392.npy\n",
      "/github/datasets/openslr-95-german-neutral-tts/synmels_r3_149_difflen/test/mel_393.npy\n",
      "/github/datasets/openslr-95-german-neutral-tts/synmels_r3_149_difflen/test/mel_394.npy\n",
      "/github/datasets/openslr-95-german-neutral-tts/synmels_r3_149_difflen/test/mel_395.npy\n",
      "/github/datasets/openslr-95-german-neutral-tts/synmels_r3_149_difflen/test/mel_396.npy\n",
      "/github/datasets/openslr-95-german-neutral-tts/synmels_r3_149_difflen/test/mel_397.npy\n",
      "/github/datasets/openslr-95-german-neutral-tts/synmels_r3_149_difflen/test/mel_398.npy\n",
      "/github/datasets/openslr-95-german-neutral-tts/synmels_r3_149_difflen/test/mel_399.npy\n",
      "/github/datasets/openslr-95-german-neutral-tts/synmels_r3_149_difflen/test/mel_400.npy\n"
     ]
    },
    {
     "name": "stderr",
     "output_type": "stream",
     "text": [
      "[NeMo W 2022-05-12 01:52:29 tts_tokenizers:351] Text: [NOW1KIY0 mit einer pesto-rahm-SOW1ßIY1 AH1ND krautern EH1S IH1CH furchtbar gern.] contains unknown char/phoneme: [ß]. Original text: [Gnocchi mit einer Pesto-Rahm-Soße und Krautern esse ich furchtbar gern.]. Symbol will be skipped.\n"
     ]
    },
    {
     "name": "stdout",
     "output_type": "stream",
     "text": [
      "/github/datasets/openslr-95-german-neutral-tts/synmels_r3_149_difflen/test/mel_401.npy\n",
      "/github/datasets/openslr-95-german-neutral-tts/synmels_r3_149_difflen/test/mel_402.npy\n",
      "/github/datasets/openslr-95-german-neutral-tts/synmels_r3_149_difflen/test/mel_403.npy\n",
      "/github/datasets/openslr-95-german-neutral-tts/synmels_r3_149_difflen/test/mel_404.npy\n",
      "/github/datasets/openslr-95-german-neutral-tts/synmels_r3_149_difflen/test/mel_405.npy\n",
      "/github/datasets/openslr-95-german-neutral-tts/synmels_r3_149_difflen/test/mel_406.npy\n",
      "/github/datasets/openslr-95-german-neutral-tts/synmels_r3_149_difflen/test/mel_407.npy\n",
      "/github/datasets/openslr-95-german-neutral-tts/synmels_r3_149_difflen/test/mel_408.npy\n",
      "/github/datasets/openslr-95-german-neutral-tts/synmels_r3_149_difflen/test/mel_409.npy\n",
      "/github/datasets/openslr-95-german-neutral-tts/synmels_r3_149_difflen/test/mel_410.npy\n",
      "/github/datasets/openslr-95-german-neutral-tts/synmels_r3_149_difflen/test/mel_411.npy\n",
      "/github/datasets/openslr-95-german-neutral-tts/synmels_r3_149_difflen/test/mel_412.npy\n",
      "/github/datasets/openslr-95-german-neutral-tts/synmels_r3_149_difflen/test/mel_413.npy\n",
      "/github/datasets/openslr-95-german-neutral-tts/synmels_r3_149_difflen/test/mel_414.npy\n",
      "/github/datasets/openslr-95-german-neutral-tts/synmels_r3_149_difflen/test/mel_415.npy\n",
      "/github/datasets/openslr-95-german-neutral-tts/synmels_r3_149_difflen/test/mel_416.npy\n",
      "/github/datasets/openslr-95-german-neutral-tts/synmels_r3_149_difflen/test/mel_417.npy\n",
      "/github/datasets/openslr-95-german-neutral-tts/synmels_r3_149_difflen/test/mel_418.npy\n",
      "/github/datasets/openslr-95-german-neutral-tts/synmels_r3_149_difflen/test/mel_419.npy\n"
     ]
    },
    {
     "name": "stderr",
     "output_type": "stream",
     "text": [
      "[NeMo W 2022-05-12 01:52:29 tts_tokenizers:351] Text: [ER0 muss allerdings SOW1 ausgestaltet WER1DAH0N, DAE1S europaische GROW1ßIY1 unternehmen noch chancen auf DEH1N weltmarkten haben, HHAY1ER0 globale spielfuhrer IH1M wettbewerb zu WER1DAH0N.] contains unknown char/phoneme: [ß]. Original text: [Er muss allerdings so ausgestaltet werden, dass europaische große Unternehmen noch Chancen auf den Weltmarkten haben, hier globale Spielfuhrer im Wettbewerb zu werden.]. Symbol will be skipped.\n"
     ]
    },
    {
     "name": "stdout",
     "output_type": "stream",
     "text": [
      "/github/datasets/openslr-95-german-neutral-tts/synmels_r3_149_difflen/test/mel_420.npy\n",
      "/github/datasets/openslr-95-german-neutral-tts/synmels_r3_149_difflen/test/mel_421.npy\n",
      "/github/datasets/openslr-95-german-neutral-tts/synmels_r3_149_difflen/test/mel_422.npy\n",
      "/github/datasets/openslr-95-german-neutral-tts/synmels_r3_149_difflen/test/mel_423.npy\n",
      "/github/datasets/openslr-95-german-neutral-tts/synmels_r3_149_difflen/test/mel_424.npy\n",
      "/github/datasets/openslr-95-german-neutral-tts/synmels_r3_149_difflen/test/mel_425.npy\n",
      "/github/datasets/openslr-95-german-neutral-tts/synmels_r3_149_difflen/test/mel_426.npy\n",
      "/github/datasets/openslr-95-german-neutral-tts/synmels_r3_149_difflen/test/mel_427.npy\n",
      "/github/datasets/openslr-95-german-neutral-tts/synmels_r3_149_difflen/test/mel_428.npy\n",
      "/github/datasets/openslr-95-german-neutral-tts/synmels_r3_149_difflen/test/mel_429.npy\n",
      "/github/datasets/openslr-95-german-neutral-tts/synmels_r3_149_difflen/test/mel_430.npy\n",
      "/github/datasets/openslr-95-german-neutral-tts/synmels_r3_149_difflen/test/mel_431.npy\n",
      "/github/datasets/openslr-95-german-neutral-tts/synmels_r3_149_difflen/test/mel_432.npy\n",
      "/github/datasets/openslr-95-german-neutral-tts/synmels_r3_149_difflen/test/mel_433.npy\n",
      "/github/datasets/openslr-95-german-neutral-tts/synmels_r3_149_difflen/test/mel_434.npy\n",
      "/github/datasets/openslr-95-german-neutral-tts/synmels_r3_149_difflen/test/mel_435.npy\n",
      "/github/datasets/openslr-95-german-neutral-tts/synmels_r3_149_difflen/test/mel_436.npy\n",
      "/github/datasets/openslr-95-german-neutral-tts/synmels_r3_149_difflen/test/mel_437.npy\n",
      "/github/datasets/openslr-95-german-neutral-tts/synmels_r3_149_difflen/test/mel_438.npy\n",
      "/github/datasets/openslr-95-german-neutral-tts/synmels_r3_149_difflen/test/mel_439.npy\n",
      "/github/datasets/openslr-95-german-neutral-tts/synmels_r3_149_difflen/test/mel_440.npy\n",
      "/github/datasets/openslr-95-german-neutral-tts/synmels_r3_149_difflen/test/mel_441.npy\n",
      "/github/datasets/openslr-95-german-neutral-tts/synmels_r3_149_difflen/test/mel_442.npy\n",
      "/github/datasets/openslr-95-german-neutral-tts/synmels_r3_149_difflen/test/mel_443.npy\n",
      "/github/datasets/openslr-95-german-neutral-tts/synmels_r3_149_difflen/test/mel_444.npy\n",
      "/github/datasets/openslr-95-german-neutral-tts/synmels_r3_149_difflen/test/mel_445.npy\n"
     ]
    },
    {
     "name": "stderr",
     "output_type": "stream",
     "text": [
      "[NeMo W 2022-05-12 01:52:30 tts_tokenizers:351] Text: [OW1ßerhalb VAO1N ballungsraumen ist DER1 empfang LAY1DER0 miserabel.] contains unknown char/phoneme: [ß]. Original text: [Außerhalb von Ballungsraumen ist der Empfang leider miserabel.]. Symbol will be skipped.\n"
     ]
    },
    {
     "name": "stdout",
     "output_type": "stream",
     "text": [
      "/github/datasets/openslr-95-german-neutral-tts/synmels_r3_149_difflen/test/mel_446.npy\n",
      "/github/datasets/openslr-95-german-neutral-tts/synmels_r3_149_difflen/test/mel_447.npy\n",
      "/github/datasets/openslr-95-german-neutral-tts/synmels_r3_149_difflen/test/mel_448.npy\n",
      "/github/datasets/openslr-95-german-neutral-tts/synmels_r3_149_difflen/test/mel_449.npy\n",
      "/github/datasets/openslr-95-german-neutral-tts/synmels_r3_149_difflen/test/mel_450.npy\n",
      "/github/datasets/openslr-95-german-neutral-tts/synmels_r3_149_difflen/test/mel_451.npy\n",
      "/github/datasets/openslr-95-german-neutral-tts/synmels_r3_149_difflen/test/mel_452.npy\n",
      "/github/datasets/openslr-95-german-neutral-tts/synmels_r3_149_difflen/test/mel_453.npy\n",
      "/github/datasets/openslr-95-german-neutral-tts/synmels_r3_149_difflen/test/mel_454.npy\n",
      "/github/datasets/openslr-95-german-neutral-tts/synmels_r3_149_difflen/test/mel_455.npy\n",
      "/github/datasets/openslr-95-german-neutral-tts/synmels_r3_149_difflen/test/mel_456.npy\n",
      "/github/datasets/openslr-95-german-neutral-tts/synmels_r3_149_difflen/test/mel_457.npy\n",
      "/github/datasets/openslr-95-german-neutral-tts/synmels_r3_149_difflen/test/mel_458.npy\n",
      "/github/datasets/openslr-95-german-neutral-tts/synmels_r3_149_difflen/test/mel_459.npy\n",
      "/github/datasets/openslr-95-german-neutral-tts/synmels_r3_149_difflen/test/mel_460.npy\n",
      "/github/datasets/openslr-95-german-neutral-tts/synmels_r3_149_difflen/test/mel_461.npy\n",
      "/github/datasets/openslr-95-german-neutral-tts/synmels_r3_149_difflen/test/mel_462.npy\n",
      "/github/datasets/openslr-95-german-neutral-tts/synmels_r3_149_difflen/test/mel_463.npy\n",
      "/github/datasets/openslr-95-german-neutral-tts/synmels_r3_149_difflen/test/mel_464.npy\n",
      "/github/datasets/openslr-95-german-neutral-tts/synmels_r3_149_difflen/test/mel_465.npy\n"
     ]
    },
    {
     "name": "stderr",
     "output_type": "stream",
     "text": [
      "[NeMo W 2022-05-12 01:52:30 tts_tokenizers:351] Text: [DER1 kuchenboden muss gleichmaßig ausgewalzt WER1DAH0N.] contains unknown char/phoneme: [ß]. Original text: [Der Kuchenboden muss gleichmaßig ausgewalzt werden.]. Symbol will be skipped.\n"
     ]
    },
    {
     "name": "stdout",
     "output_type": "stream",
     "text": [
      "/github/datasets/openslr-95-german-neutral-tts/synmels_r3_149_difflen/test/mel_466.npy\n",
      "/github/datasets/openslr-95-german-neutral-tts/synmels_r3_149_difflen/test/mel_467.npy\n",
      "/github/datasets/openslr-95-german-neutral-tts/synmels_r3_149_difflen/test/mel_468.npy\n",
      "/github/datasets/openslr-95-german-neutral-tts/synmels_r3_149_difflen/test/mel_469.npy\n",
      "/github/datasets/openslr-95-german-neutral-tts/synmels_r3_149_difflen/test/mel_470.npy\n",
      "/github/datasets/openslr-95-german-neutral-tts/synmels_r3_149_difflen/test/mel_471.npy\n",
      "/github/datasets/openslr-95-german-neutral-tts/synmels_r3_149_difflen/test/mel_472.npy\n",
      "/github/datasets/openslr-95-german-neutral-tts/synmels_r3_149_difflen/test/mel_473.npy\n",
      "/github/datasets/openslr-95-german-neutral-tts/synmels_r3_149_difflen/test/mel_474.npy\n"
     ]
    },
    {
     "name": "stderr",
     "output_type": "stream",
     "text": [
      "[NeMo W 2022-05-12 01:52:31 tts_tokenizers:351] Text: [OW1ßerdem HHAE1T EH1S DEH1N vorteil, DAE1S EH1S relativ pflegeleicht ist.] contains unknown char/phoneme: [ß]. Original text: [Außerdem hat es den Vorteil, dass es relativ pflegeleicht ist.]. Symbol will be skipped.\n"
     ]
    },
    {
     "name": "stdout",
     "output_type": "stream",
     "text": [
      "/github/datasets/openslr-95-german-neutral-tts/synmels_r3_149_difflen/test/mel_475.npy\n",
      "/github/datasets/openslr-95-german-neutral-tts/synmels_r3_149_difflen/test/mel_476.npy\n",
      "/github/datasets/openslr-95-german-neutral-tts/synmels_r3_149_difflen/test/mel_477.npy\n",
      "/github/datasets/openslr-95-german-neutral-tts/synmels_r3_149_difflen/test/mel_478.npy\n",
      "/github/datasets/openslr-95-german-neutral-tts/synmels_r3_149_difflen/test/mel_479.npy\n",
      "/github/datasets/openslr-95-german-neutral-tts/synmels_r3_149_difflen/test/mel_480.npy\n",
      "/github/datasets/openslr-95-german-neutral-tts/synmels_r3_149_difflen/test/mel_481.npy\n",
      "/github/datasets/openslr-95-german-neutral-tts/synmels_r3_149_difflen/test/mel_482.npy\n",
      "/github/datasets/openslr-95-german-neutral-tts/synmels_r3_149_difflen/test/mel_483.npy\n",
      "/github/datasets/openslr-95-german-neutral-tts/synmels_r3_149_difflen/test/mel_484.npy\n",
      "/github/datasets/openslr-95-german-neutral-tts/synmels_r3_149_difflen/test/mel_485.npy\n",
      "/github/datasets/openslr-95-german-neutral-tts/synmels_r3_149_difflen/test/mel_486.npy\n",
      "/github/datasets/openslr-95-german-neutral-tts/synmels_r3_149_difflen/test/mel_487.npy\n",
      "/github/datasets/openslr-95-german-neutral-tts/synmels_r3_149_difflen/test/mel_488.npy\n",
      "/github/datasets/openslr-95-german-neutral-tts/synmels_r3_149_difflen/test/mel_489.npy\n",
      "/github/datasets/openslr-95-german-neutral-tts/synmels_r3_149_difflen/test/mel_490.npy\n",
      "/github/datasets/openslr-95-german-neutral-tts/synmels_r3_149_difflen/test/mel_491.npy\n",
      "/github/datasets/openslr-95-german-neutral-tts/synmels_r3_149_difflen/test/mel_492.npy\n",
      "/github/datasets/openslr-95-german-neutral-tts/synmels_r3_149_difflen/test/mel_493.npy\n",
      "/github/datasets/openslr-95-german-neutral-tts/synmels_r3_149_difflen/test/mel_494.npy\n",
      "/github/datasets/openslr-95-german-neutral-tts/synmels_r3_149_difflen/test/mel_495.npy\n",
      "/github/datasets/openslr-95-german-neutral-tts/synmels_r3_149_difflen/test/mel_496.npy\n",
      "/github/datasets/openslr-95-german-neutral-tts/synmels_r3_149_difflen/test/mel_497.npy\n",
      "/github/datasets/openslr-95-german-neutral-tts/synmels_r3_149_difflen/test/mel_498.npy\n",
      "/github/datasets/openslr-95-german-neutral-tts/synmels_r3_149_difflen/test/mel_499.npy\n",
      "/github/datasets/openslr-95-german-neutral-tts/synmels_r3_149_difflen/test/mel_500.npy\n",
      "/github/datasets/openslr-95-german-neutral-tts/synmels_r3_149_difflen/test/mel_501.npy\n",
      "/github/datasets/openslr-95-german-neutral-tts/synmels_r3_149_difflen/test/mel_502.npy\n",
      "/github/datasets/openslr-95-german-neutral-tts/synmels_r3_149_difflen/test/mel_503.npy\n",
      "/github/datasets/openslr-95-german-neutral-tts/synmels_r3_149_difflen/test/mel_504.npy\n",
      "/github/datasets/openslr-95-german-neutral-tts/synmels_r3_149_difflen/test/mel_505.npy\n",
      "/github/datasets/openslr-95-german-neutral-tts/synmels_r3_149_difflen/test/mel_506.npy\n"
     ]
    },
    {
     "name": "stderr",
     "output_type": "stream",
     "text": [
      "[NeMo W 2022-05-12 01:52:32 tts_tokenizers:351] Text: [auf DER1 anderen straßenseite SAA1L AY1N NUW1IY0Z parkhaus entstehen.] contains unknown char/phoneme: [ß]. Original text: [Auf der anderen Straßenseite soll ein neues Parkhaus entstehen.]. Symbol will be skipped.\n"
     ]
    },
    {
     "name": "stdout",
     "output_type": "stream",
     "text": [
      "/github/datasets/openslr-95-german-neutral-tts/synmels_r3_149_difflen/test/mel_507.npy\n",
      "/github/datasets/openslr-95-german-neutral-tts/synmels_r3_149_difflen/test/mel_508.npy\n",
      "/github/datasets/openslr-95-german-neutral-tts/synmels_r3_149_difflen/test/mel_509.npy\n",
      "/github/datasets/openslr-95-german-neutral-tts/synmels_r3_149_difflen/test/mel_510.npy\n",
      "/github/datasets/openslr-95-german-neutral-tts/synmels_r3_149_difflen/test/mel_511.npy\n",
      "/github/datasets/openslr-95-german-neutral-tts/synmels_r3_149_difflen/test/mel_512.npy\n",
      "/github/datasets/openslr-95-german-neutral-tts/synmels_r3_149_difflen/test/mel_513.npy\n",
      "/github/datasets/openslr-95-german-neutral-tts/synmels_r3_149_difflen/test/mel_514.npy\n",
      "/github/datasets/openslr-95-german-neutral-tts/synmels_r3_149_difflen/test/mel_515.npy\n",
      "/github/datasets/openslr-95-german-neutral-tts/synmels_r3_149_difflen/test/mel_516.npy\n"
     ]
    },
    {
     "name": "stderr",
     "output_type": "stream",
     "text": [
      "[NeMo W 2022-05-12 01:52:32 tts_tokenizers:351] Text: [DAY1 straßenbauarbeiten WEH1RAH0N aufgrund DER1 witterung unterbrochen WER1DAH0N.] contains unknown char/phoneme: [ß]. Original text: [Die Straßenbauarbeiten waren aufgrund der Witterung unterbrochen worden.]. Symbol will be skipped.\n"
     ]
    },
    {
     "name": "stdout",
     "output_type": "stream",
     "text": [
      "/github/datasets/openslr-95-german-neutral-tts/synmels_r3_149_difflen/test/mel_517.npy\n",
      "/github/datasets/openslr-95-german-neutral-tts/synmels_r3_149_difflen/test/mel_518.npy\n",
      "/github/datasets/openslr-95-german-neutral-tts/synmels_r3_149_difflen/test/mel_519.npy\n",
      "/github/datasets/openslr-95-german-neutral-tts/synmels_r3_149_difflen/test/mel_520.npy\n",
      "/github/datasets/openslr-95-german-neutral-tts/synmels_r3_149_difflen/test/mel_521.npy\n",
      "/github/datasets/openslr-95-german-neutral-tts/synmels_r3_149_difflen/test/mel_522.npy\n",
      "/github/datasets/openslr-95-german-neutral-tts/synmels_r3_149_difflen/test/mel_523.npy\n",
      "/github/datasets/openslr-95-german-neutral-tts/synmels_r3_149_difflen/test/mel_524.npy\n",
      "/github/datasets/openslr-95-german-neutral-tts/synmels_r3_149_difflen/test/mel_525.npy\n",
      "/github/datasets/openslr-95-german-neutral-tts/synmels_r3_149_difflen/test/mel_526.npy\n",
      "/github/datasets/openslr-95-german-neutral-tts/synmels_r3_149_difflen/test/mel_527.npy\n",
      "/github/datasets/openslr-95-german-neutral-tts/synmels_r3_149_difflen/test/mel_528.npy\n",
      "/github/datasets/openslr-95-german-neutral-tts/synmels_r3_149_difflen/test/mel_529.npy\n",
      "/github/datasets/openslr-95-german-neutral-tts/synmels_r3_149_difflen/test/mel_530.npy\n",
      "/github/datasets/openslr-95-german-neutral-tts/synmels_r3_149_difflen/test/mel_531.npy\n"
     ]
    },
    {
     "name": "stderr",
     "output_type": "stream",
     "text": [
      "[NeMo W 2022-05-12 01:52:32 tts_tokenizers:351] Text: [das heißTIY1, eigentlich gibt EH1S vier davon.] contains unknown char/phoneme: [ß]. Original text: [Das heißt, eigentlich gibt es vier davon.]. Symbol will be skipped.\n",
      "[NeMo W 2022-05-12 01:52:32 tts_tokenizers:351] Text: [verstoßIY1 konnen mit ordnungsgeld OW1DER0 sogar HHAE1FT bestraft WER1DAH0N.] contains unknown char/phoneme: [ß]. Original text: [Verstoße konnen mit Ordnungsgeld oder sogar Haft bestraft werden.]. Symbol will be skipped.\n"
     ]
    },
    {
     "name": "stdout",
     "output_type": "stream",
     "text": [
      "/github/datasets/openslr-95-german-neutral-tts/synmels_r3_149_difflen/test/mel_532.npy\n",
      "/github/datasets/openslr-95-german-neutral-tts/synmels_r3_149_difflen/test/mel_533.npy\n",
      "/github/datasets/openslr-95-german-neutral-tts/synmels_r3_149_difflen/test/mel_534.npy\n",
      "/github/datasets/openslr-95-german-neutral-tts/synmels_r3_149_difflen/test/mel_535.npy\n",
      "/github/datasets/openslr-95-german-neutral-tts/synmels_r3_149_difflen/test/mel_536.npy\n",
      "/github/datasets/openslr-95-german-neutral-tts/synmels_r3_149_difflen/test/mel_537.npy\n"
     ]
    },
    {
     "name": "stderr",
     "output_type": "stream",
     "text": [
      "[NeMo W 2022-05-12 01:52:33 tts_tokenizers:351] Text: [eine besonders GROW1ßIY1 tute PAA1PKAO2RN, bitte!] contains unknown char/phoneme: [ß]. Original text: [Eine besonders große Tute Popcorn, bitte!]. Symbol will be skipped.\n"
     ]
    },
    {
     "name": "stdout",
     "output_type": "stream",
     "text": [
      "/github/datasets/openslr-95-german-neutral-tts/synmels_r3_149_difflen/test/mel_538.npy\n",
      "/github/datasets/openslr-95-german-neutral-tts/synmels_r3_149_difflen/test/mel_539.npy\n",
      "/github/datasets/openslr-95-german-neutral-tts/synmels_r3_149_difflen/test/mel_540.npy\n",
      "/github/datasets/openslr-95-german-neutral-tts/synmels_r3_149_difflen/test/mel_541.npy\n",
      "/github/datasets/openslr-95-german-neutral-tts/synmels_r3_149_difflen/test/mel_542.npy\n",
      "/github/datasets/openslr-95-german-neutral-tts/synmels_r3_149_difflen/test/mel_543.npy\n",
      "/github/datasets/openslr-95-german-neutral-tts/synmels_r3_149_difflen/test/mel_544.npy\n",
      "/github/datasets/openslr-95-german-neutral-tts/synmels_r3_149_difflen/test/mel_545.npy\n",
      "/github/datasets/openslr-95-german-neutral-tts/synmels_r3_149_difflen/test/mel_546.npy\n",
      "/github/datasets/openslr-95-german-neutral-tts/synmels_r3_149_difflen/test/mel_547.npy\n",
      "/github/datasets/openslr-95-german-neutral-tts/synmels_r3_149_difflen/test/mel_548.npy\n",
      "/github/datasets/openslr-95-german-neutral-tts/synmels_r3_149_difflen/test/mel_549.npy\n",
      "/github/datasets/openslr-95-german-neutral-tts/synmels_r3_149_difflen/test/mel_550.npy\n",
      "/github/datasets/openslr-95-german-neutral-tts/synmels_r3_149_difflen/test/mel_551.npy\n",
      "/github/datasets/openslr-95-german-neutral-tts/synmels_r3_149_difflen/test/mel_552.npy\n",
      "/github/datasets/openslr-95-german-neutral-tts/synmels_r3_149_difflen/test/mel_553.npy\n"
     ]
    },
    {
     "name": "stderr",
     "output_type": "stream",
     "text": [
      "[NeMo W 2022-05-12 01:52:34 tts_tokenizers:351] Text: [HHAY1ER0 WER1DAH0N wir in DEH1N nachsten jahren DEH1N rechtsanspruch auf einen betreuungsplatz AO1CH FER1 unter dreijahrige – gemeinsam mit DEH1N landern – umsetzen.] contains unknown char/phoneme: [–]. Original text: [Hier werden wir in den nachsten Jahren den Rechtsanspruch auf einen Betreuungsplatz auch fur unter Dreijahrige – gemeinsam mit den Landern – umsetzen.]. Symbol will be skipped.\n",
      "[NeMo W 2022-05-12 01:52:34 tts_tokenizers:351] Text: [HHAY1ER0 WER1DAH0N wir in DEH1N nachsten jahren DEH1N rechtsanspruch auf einen betreuungsplatz AO1CH FER1 unter dreijahrige – gemeinsam mit DEH1N landern – umsetzen.] contains unknown char/phoneme: [–]. Original text: [Hier werden wir in den nachsten Jahren den Rechtsanspruch auf einen Betreuungsplatz auch fur unter Dreijahrige – gemeinsam mit den Landern – umsetzen.]. Symbol will be skipped.\n"
     ]
    },
    {
     "name": "stdout",
     "output_type": "stream",
     "text": [
      "/github/datasets/openslr-95-german-neutral-tts/synmels_r3_149_difflen/test/mel_554.npy\n",
      "/github/datasets/openslr-95-german-neutral-tts/synmels_r3_149_difflen/test/mel_555.npy\n",
      "/github/datasets/openslr-95-german-neutral-tts/synmels_r3_149_difflen/test/mel_556.npy\n",
      "/github/datasets/openslr-95-german-neutral-tts/synmels_r3_149_difflen/test/mel_557.npy\n",
      "/github/datasets/openslr-95-german-neutral-tts/synmels_r3_149_difflen/test/mel_558.npy\n",
      "/github/datasets/openslr-95-german-neutral-tts/synmels_r3_149_difflen/test/mel_559.npy\n",
      "/github/datasets/openslr-95-german-neutral-tts/synmels_r3_149_difflen/test/mel_560.npy\n",
      "/github/datasets/openslr-95-german-neutral-tts/synmels_r3_149_difflen/test/mel_561.npy\n",
      "/github/datasets/openslr-95-german-neutral-tts/synmels_r3_149_difflen/test/mel_562.npy\n",
      "/github/datasets/openslr-95-german-neutral-tts/synmels_r3_149_difflen/test/mel_563.npy\n"
     ]
    },
    {
     "name": "stderr",
     "output_type": "stream",
     "text": [
      "[NeMo W 2022-05-12 01:52:34 tts_tokenizers:351] Text: [wenn MIY1N GROW1ßeltern auf sachsisch loslegen, versteht MAE1N kein wort.] contains unknown char/phoneme: [ß]. Original text: [Wenn meine Großeltern auf sachsisch loslegen, versteht man kein Wort.]. Symbol will be skipped.\n",
      "[NeMo W 2022-05-12 01:52:34 tts_tokenizers:351] Text: [ER0 heißTIY1 LIH1NDGREH0N, wie DAY1 schwedische kinderbuchautorin.] contains unknown char/phoneme: [ß]. Original text: [Er heißt Lindgren, wie die schwedische Kinderbuchautorin.]. Symbol will be skipped.\n"
     ]
    },
    {
     "name": "stdout",
     "output_type": "stream",
     "text": [
      "/github/datasets/openslr-95-german-neutral-tts/synmels_r3_149_difflen/test/mel_564.npy\n",
      "/github/datasets/openslr-95-german-neutral-tts/synmels_r3_149_difflen/test/mel_565.npy\n",
      "/github/datasets/openslr-95-german-neutral-tts/synmels_r3_149_difflen/test/mel_566.npy\n",
      "/github/datasets/openslr-95-german-neutral-tts/synmels_r3_149_difflen/test/mel_567.npy\n",
      "/github/datasets/openslr-95-german-neutral-tts/synmels_r3_149_difflen/test/mel_568.npy\n",
      "/github/datasets/openslr-95-german-neutral-tts/synmels_r3_149_difflen/test/mel_569.npy\n",
      "/github/datasets/openslr-95-german-neutral-tts/synmels_r3_149_difflen/test/mel_570.npy\n",
      "/github/datasets/openslr-95-german-neutral-tts/synmels_r3_149_difflen/test/mel_571.npy\n",
      "/github/datasets/openslr-95-german-neutral-tts/synmels_r3_149_difflen/test/mel_572.npy\n"
     ]
    },
    {
     "name": "stderr",
     "output_type": "stream",
     "text": [
      "[NeMo W 2022-05-12 01:52:34 tts_tokenizers:351] Text: [in DER1 lindenstraßIY1 wurde AY1N NOY1ER0 PEH1NIY0 eroffnet.] contains unknown char/phoneme: [ß]. Original text: [In der Lindenstraße wurde ein neuer Penny eroffnet.]. Symbol will be skipped.\n"
     ]
    },
    {
     "name": "stdout",
     "output_type": "stream",
     "text": [
      "/github/datasets/openslr-95-german-neutral-tts/synmels_r3_149_difflen/test/mel_573.npy\n",
      "/github/datasets/openslr-95-german-neutral-tts/synmels_r3_149_difflen/test/mel_574.npy\n",
      "/github/datasets/openslr-95-german-neutral-tts/synmels_r3_149_difflen/test/mel_575.npy\n",
      "/github/datasets/openslr-95-german-neutral-tts/synmels_r3_149_difflen/test/mel_576.npy\n",
      "/github/datasets/openslr-95-german-neutral-tts/synmels_r3_149_difflen/test/mel_577.npy\n",
      "/github/datasets/openslr-95-german-neutral-tts/synmels_r3_149_difflen/test/mel_578.npy\n",
      "/github/datasets/openslr-95-german-neutral-tts/synmels_r3_149_difflen/test/mel_579.npy\n",
      "/github/datasets/openslr-95-german-neutral-tts/synmels_r3_149_difflen/test/mel_580.npy\n",
      "/github/datasets/openslr-95-german-neutral-tts/synmels_r3_149_difflen/test/mel_581.npy\n",
      "/github/datasets/openslr-95-german-neutral-tts/synmels_r3_149_difflen/test/mel_582.npy\n"
     ]
    },
    {
     "name": "stderr",
     "output_type": "stream",
     "text": [
      "[NeMo W 2022-05-12 01:52:34 tts_tokenizers:351] Text: [EY1BER0 wir wissen: VIY1L haben noch nicht DAY1 gleichen chancen auf dem arbeitsmarkt, VIY1L haben nicht DEH1N gleichen zugang zu bildung – AH1ND das SAA1L sich andern.] contains unknown char/phoneme: [–]. Original text: [Aber wir wissen: Viele haben noch nicht die gleichen Chancen auf dem Arbeitsmarkt, viele haben nicht den gleichen Zugang zu Bildung – und das soll sich andern.]. Symbol will be skipped.\n"
     ]
    },
    {
     "name": "stdout",
     "output_type": "stream",
     "text": [
      "/github/datasets/openslr-95-german-neutral-tts/synmels_r3_149_difflen/test/mel_583.npy\n",
      "/github/datasets/openslr-95-german-neutral-tts/synmels_r3_149_difflen/test/mel_584.npy\n",
      "/github/datasets/openslr-95-german-neutral-tts/synmels_r3_149_difflen/test/mel_585.npy\n",
      "/github/datasets/openslr-95-german-neutral-tts/synmels_r3_149_difflen/test/mel_586.npy\n",
      "/github/datasets/openslr-95-german-neutral-tts/synmels_r3_149_difflen/test/mel_587.npy\n",
      "/github/datasets/openslr-95-german-neutral-tts/synmels_r3_149_difflen/test/mel_588.npy\n",
      "/github/datasets/openslr-95-german-neutral-tts/synmels_r3_149_difflen/test/mel_589.npy\n",
      "/github/datasets/openslr-95-german-neutral-tts/synmels_r3_149_difflen/test/mel_590.npy\n",
      "/github/datasets/openslr-95-german-neutral-tts/synmels_r3_149_difflen/test/mel_591.npy\n",
      "/github/datasets/openslr-95-german-neutral-tts/synmels_r3_149_difflen/test/mel_592.npy\n",
      "/github/datasets/openslr-95-german-neutral-tts/synmels_r3_149_difflen/test/mel_593.npy\n",
      "/github/datasets/openslr-95-german-neutral-tts/synmels_r3_149_difflen/test/mel_594.npy\n",
      "/github/datasets/openslr-95-german-neutral-tts/synmels_r3_149_difflen/test/mel_595.npy\n",
      "/github/datasets/openslr-95-german-neutral-tts/synmels_r3_149_difflen/test/mel_596.npy\n",
      "/github/datasets/openslr-95-german-neutral-tts/synmels_r3_149_difflen/test/mel_597.npy\n",
      "/github/datasets/openslr-95-german-neutral-tts/synmels_r3_149_difflen/test/mel_598.npy\n",
      "/github/datasets/openslr-95-german-neutral-tts/synmels_r3_149_difflen/test/mel_599.npy\n",
      "/github/datasets/openslr-95-german-neutral-tts/synmels_r3_149_difflen/test/mel_600.npy\n",
      "/github/datasets/openslr-95-german-neutral-tts/synmels_r3_149_difflen/test/mel_601.npy\n",
      "/github/datasets/openslr-95-german-neutral-tts/synmels_r3_149_difflen/test/mel_602.npy\n",
      "/github/datasets/openslr-95-german-neutral-tts/synmels_r3_149_difflen/test/mel_603.npy\n",
      "/github/datasets/openslr-95-german-neutral-tts/synmels_r3_149_difflen/test/mel_604.npy\n",
      "/github/datasets/openslr-95-german-neutral-tts/synmels_r3_149_difflen/test/mel_605.npy\n",
      "/github/datasets/openslr-95-german-neutral-tts/synmels_r3_149_difflen/test/mel_606.npy\n",
      "/github/datasets/openslr-95-german-neutral-tts/synmels_r3_149_difflen/test/mel_607.npy\n",
      "/github/datasets/openslr-95-german-neutral-tts/synmels_r3_149_difflen/test/mel_608.npy\n",
      "/github/datasets/openslr-95-german-neutral-tts/synmels_r3_149_difflen/test/mel_609.npy\n",
      "/github/datasets/openslr-95-german-neutral-tts/synmels_r3_149_difflen/test/mel_610.npy\n"
     ]
    },
    {
     "name": "stderr",
     "output_type": "stream",
     "text": [
      "[NeMo W 2022-05-12 01:52:35 tts_tokenizers:351] Text: [wer eine ballonfahrt erlebt HHAE1T, WEY1ß, DAE1S sich mit heißER0 LAH1FT VIY1L bewegen lasst.] contains unknown char/phoneme: [ß]. Original text: [Wer eine Ballonfahrt erlebt hat, weiß, dass sich mit heißer Luft viel bewegen lasst.]. Symbol will be skipped.\n",
      "[NeMo W 2022-05-12 01:52:35 tts_tokenizers:351] Text: [wer eine ballonfahrt erlebt HHAE1T, WEY1ß, DAE1S sich mit heißER0 LAH1FT VIY1L bewegen lasst.] contains unknown char/phoneme: [ß]. Original text: [Wer eine Ballonfahrt erlebt hat, weiß, dass sich mit heißer Luft viel bewegen lasst.]. Symbol will be skipped.\n",
      "[NeMo W 2022-05-12 01:52:35 tts_tokenizers:351] Text: [du WEY1ßTIY1 YAA1, wie das ist.] contains unknown char/phoneme: [ß]. Original text: [Du weißt ja, wie das ist.]. Symbol will be skipped.\n",
      "[NeMo W 2022-05-12 01:52:35 tts_tokenizers:351] Text: [deswegen mussen KAY1NDER0 eine gewisse mindestgroßIY1 haben.] contains unknown char/phoneme: [ß]. Original text: [Deswegen mussen Kinder eine gewisse Mindestgroße haben.]. Symbol will be skipped.\n"
     ]
    },
    {
     "name": "stdout",
     "output_type": "stream",
     "text": [
      "/github/datasets/openslr-95-german-neutral-tts/synmels_r3_149_difflen/test/mel_611.npy\n",
      "/github/datasets/openslr-95-german-neutral-tts/synmels_r3_149_difflen/test/mel_612.npy\n",
      "/github/datasets/openslr-95-german-neutral-tts/synmels_r3_149_difflen/test/mel_613.npy\n",
      "/github/datasets/openslr-95-german-neutral-tts/synmels_r3_149_difflen/test/mel_614.npy\n",
      "/github/datasets/openslr-95-german-neutral-tts/synmels_r3_149_difflen/test/mel_615.npy\n",
      "/github/datasets/openslr-95-german-neutral-tts/synmels_r3_149_difflen/test/mel_616.npy\n",
      "/github/datasets/openslr-95-german-neutral-tts/synmels_r3_149_difflen/test/mel_617.npy\n",
      "/github/datasets/openslr-95-german-neutral-tts/synmels_r3_149_difflen/test/mel_618.npy\n",
      "/github/datasets/openslr-95-german-neutral-tts/synmels_r3_149_difflen/test/mel_619.npy\n",
      "/github/datasets/openslr-95-german-neutral-tts/synmels_r3_149_difflen/test/mel_620.npy\n"
     ]
    },
    {
     "name": "stderr",
     "output_type": "stream",
     "text": [
      "[NeMo W 2022-05-12 01:52:35 tts_tokenizers:351] Text: [EY1BER0 diesmal lasst du DEH1N MAH1L anderer leut bitte auf DER1 straßIY1 liegen.] contains unknown char/phoneme: [ß]. Original text: [Aber diesmal lasst du den Mull anderer Leut bitte auf der Straße liegen.]. Symbol will be skipped.\n"
     ]
    },
    {
     "name": "stdout",
     "output_type": "stream",
     "text": [
      "/github/datasets/openslr-95-german-neutral-tts/synmels_r3_149_difflen/test/mel_621.npy\n",
      "/github/datasets/openslr-95-german-neutral-tts/synmels_r3_149_difflen/test/mel_622.npy\n",
      "/github/datasets/openslr-95-german-neutral-tts/synmels_r3_149_difflen/test/mel_623.npy\n",
      "/github/datasets/openslr-95-german-neutral-tts/synmels_r3_149_difflen/test/mel_624.npy\n",
      "/github/datasets/openslr-95-german-neutral-tts/synmels_r3_149_difflen/test/mel_625.npy\n",
      "/github/datasets/openslr-95-german-neutral-tts/synmels_r3_149_difflen/test/mel_626.npy\n",
      "/github/datasets/openslr-95-german-neutral-tts/synmels_r3_149_difflen/test/mel_627.npy\n",
      "/github/datasets/openslr-95-german-neutral-tts/synmels_r3_149_difflen/test/mel_628.npy\n"
     ]
    },
    {
     "name": "stderr",
     "output_type": "stream",
     "text": [
      "[NeMo W 2022-05-12 01:52:36 tts_tokenizers:351] Text: [KAH1L AH1ND DAH1NGKAH0L lagern, dabei nicht DAY1 gleichmaßAY1JH temperatur AW1Z DEH1N augen verlieren.] contains unknown char/phoneme: [ß]. Original text: [Kuhl und dunkel lagern, dabei nicht die gleichmaßige Temperatur aus den Augen verlieren.]. Symbol will be skipped.\n"
     ]
    },
    {
     "name": "stdout",
     "output_type": "stream",
     "text": [
      "/github/datasets/openslr-95-german-neutral-tts/synmels_r3_149_difflen/test/mel_629.npy\n",
      "/github/datasets/openslr-95-german-neutral-tts/synmels_r3_149_difflen/test/mel_630.npy\n",
      "/github/datasets/openslr-95-german-neutral-tts/synmels_r3_149_difflen/test/mel_631.npy\n",
      "/github/datasets/openslr-95-german-neutral-tts/synmels_r3_149_difflen/test/mel_632.npy\n",
      "/github/datasets/openslr-95-german-neutral-tts/synmels_r3_149_difflen/test/mel_633.npy\n",
      "/github/datasets/openslr-95-german-neutral-tts/synmels_r3_149_difflen/test/mel_634.npy\n",
      "/github/datasets/openslr-95-german-neutral-tts/synmels_r3_149_difflen/test/mel_635.npy\n",
      "/github/datasets/openslr-95-german-neutral-tts/synmels_r3_149_difflen/test/mel_636.npy\n",
      "/github/datasets/openslr-95-german-neutral-tts/synmels_r3_149_difflen/test/mel_637.npy\n"
     ]
    },
    {
     "name": "stderr",
     "output_type": "stream",
     "text": [
      "[NeMo W 2022-05-12 01:52:36 tts_tokenizers:351] Text: [immer GROW1ßEH1R teile des BOW1DAH0NZ WER1DAH0N DER1CH graupel bedeckt.] contains unknown char/phoneme: [ß]. Original text: [Immer großere Teile des Bodens werden durch Graupel bedeckt.]. Symbol will be skipped.\n"
     ]
    },
    {
     "name": "stdout",
     "output_type": "stream",
     "text": [
      "/github/datasets/openslr-95-german-neutral-tts/synmels_r3_149_difflen/test/mel_638.npy\n",
      "/github/datasets/openslr-95-german-neutral-tts/synmels_r3_149_difflen/test/mel_639.npy\n",
      "/github/datasets/openslr-95-german-neutral-tts/synmels_r3_149_difflen/test/mel_640.npy\n",
      "/github/datasets/openslr-95-german-neutral-tts/synmels_r3_149_difflen/test/mel_641.npy\n",
      "/github/datasets/openslr-95-german-neutral-tts/synmels_r3_149_difflen/test/mel_642.npy\n",
      "/github/datasets/openslr-95-german-neutral-tts/synmels_r3_149_difflen/test/mel_643.npy\n",
      "/github/datasets/openslr-95-german-neutral-tts/synmels_r3_149_difflen/test/mel_644.npy\n",
      "/github/datasets/openslr-95-german-neutral-tts/synmels_r3_149_difflen/test/mel_645.npy\n",
      "/github/datasets/openslr-95-german-neutral-tts/synmels_r3_149_difflen/test/mel_646.npy\n",
      "/github/datasets/openslr-95-german-neutral-tts/synmels_r3_149_difflen/test/mel_647.npy\n",
      "/github/datasets/openslr-95-german-neutral-tts/synmels_r3_149_difflen/test/mel_648.npy\n",
      "/github/datasets/openslr-95-german-neutral-tts/synmels_r3_149_difflen/test/mel_649.npy\n",
      "/github/datasets/openslr-95-german-neutral-tts/synmels_r3_149_difflen/test/mel_650.npy\n",
      "/github/datasets/openslr-95-german-neutral-tts/synmels_r3_149_difflen/test/mel_651.npy\n",
      "/github/datasets/openslr-95-german-neutral-tts/synmels_r3_149_difflen/test/mel_652.npy\n",
      "/github/datasets/openslr-95-german-neutral-tts/synmels_r3_149_difflen/test/mel_653.npy\n",
      "/github/datasets/openslr-95-german-neutral-tts/synmels_r3_149_difflen/test/mel_654.npy\n",
      "/github/datasets/openslr-95-german-neutral-tts/synmels_r3_149_difflen/test/mel_655.npy\n",
      "/github/datasets/openslr-95-german-neutral-tts/synmels_r3_149_difflen/test/mel_656.npy\n",
      "/github/datasets/openslr-95-german-neutral-tts/synmels_r3_149_difflen/test/mel_657.npy\n",
      "/github/datasets/openslr-95-german-neutral-tts/synmels_r3_149_difflen/test/mel_658.npy\n",
      "/github/datasets/openslr-95-german-neutral-tts/synmels_r3_149_difflen/test/mel_659.npy\n",
      "/github/datasets/openslr-95-german-neutral-tts/synmels_r3_149_difflen/test/mel_660.npy\n"
     ]
    },
    {
     "name": "stderr",
     "output_type": "stream",
     "text": [
      "[NeMo W 2022-05-12 01:52:36 tts_tokenizers:351] Text: [wir sehen, DAE1S angesichts VAO1N WEH1NIH0GER0 kirchensteuerzahlern zum beispiel AO1CH GROW1ßIY1 umstrukturierungen in DER1 evangelischen kirche stattfinden; AO1CH in DER1 katholischen kirche.] contains unknown char/phoneme: [ß]. Original text: [Wir sehen, dass angesichts von weniger Kirchensteuerzahlern zum Beispiel auch große Umstrukturierungen in der evangelischen Kirche stattfinden; auch in der katholischen Kirche.]. Symbol will be skipped.\n"
     ]
    },
    {
     "name": "stdout",
     "output_type": "stream",
     "text": [
      "/github/datasets/openslr-95-german-neutral-tts/synmels_r3_149_difflen/test/mel_661.npy\n",
      "/github/datasets/openslr-95-german-neutral-tts/synmels_r3_149_difflen/test/mel_662.npy\n",
      "/github/datasets/openslr-95-german-neutral-tts/synmels_r3_149_difflen/test/mel_663.npy\n",
      "/github/datasets/openslr-95-german-neutral-tts/synmels_r3_149_difflen/test/mel_664.npy\n",
      "/github/datasets/openslr-95-german-neutral-tts/synmels_r3_149_difflen/test/mel_665.npy\n",
      "/github/datasets/openslr-95-german-neutral-tts/synmels_r3_149_difflen/test/mel_666.npy\n",
      "/github/datasets/openslr-95-german-neutral-tts/synmels_r3_149_difflen/test/mel_667.npy\n",
      "/github/datasets/openslr-95-german-neutral-tts/synmels_r3_149_difflen/test/mel_668.npy\n",
      "/github/datasets/openslr-95-german-neutral-tts/synmels_r3_149_difflen/test/mel_669.npy\n",
      "/github/datasets/openslr-95-german-neutral-tts/synmels_r3_149_difflen/test/mel_670.npy\n",
      "/github/datasets/openslr-95-german-neutral-tts/synmels_r3_149_difflen/test/mel_671.npy\n",
      "/github/datasets/openslr-95-german-neutral-tts/synmels_r3_149_difflen/test/mel_672.npy\n",
      "/github/datasets/openslr-95-german-neutral-tts/synmels_r3_149_difflen/test/mel_673.npy\n",
      "/github/datasets/openslr-95-german-neutral-tts/synmels_r3_149_difflen/test/mel_674.npy\n",
      "/github/datasets/openslr-95-german-neutral-tts/synmels_r3_149_difflen/test/mel_675.npy\n",
      "/github/datasets/openslr-95-german-neutral-tts/synmels_r3_149_difflen/test/mel_676.npy\n",
      "/github/datasets/openslr-95-german-neutral-tts/synmels_r3_149_difflen/test/mel_677.npy\n",
      "/github/datasets/openslr-95-german-neutral-tts/synmels_r3_149_difflen/test/mel_678.npy\n",
      "/github/datasets/openslr-95-german-neutral-tts/synmels_r3_149_difflen/test/mel_679.npy\n",
      "/github/datasets/openslr-95-german-neutral-tts/synmels_r3_149_difflen/test/mel_680.npy\n",
      "/github/datasets/openslr-95-german-neutral-tts/synmels_r3_149_difflen/test/mel_681.npy\n",
      "/github/datasets/openslr-95-german-neutral-tts/synmels_r3_149_difflen/test/mel_682.npy\n",
      "/github/datasets/openslr-95-german-neutral-tts/synmels_r3_149_difflen/test/mel_683.npy\n",
      "/github/datasets/openslr-95-german-neutral-tts/synmels_r3_149_difflen/test/mel_684.npy\n",
      "/github/datasets/openslr-95-german-neutral-tts/synmels_r3_149_difflen/test/mel_685.npy\n",
      "/github/datasets/openslr-95-german-neutral-tts/synmels_r3_149_difflen/test/mel_686.npy\n",
      "/github/datasets/openslr-95-german-neutral-tts/synmels_r3_149_difflen/test/mel_687.npy\n",
      "/github/datasets/openslr-95-german-neutral-tts/synmels_r3_149_difflen/test/mel_688.npy\n",
      "/github/datasets/openslr-95-german-neutral-tts/synmels_r3_149_difflen/test/mel_689.npy\n",
      "/github/datasets/openslr-95-german-neutral-tts/synmels_r3_149_difflen/test/mel_690.npy\n",
      "/github/datasets/openslr-95-german-neutral-tts/synmels_r3_149_difflen/test/mel_691.npy\n",
      "/github/datasets/openslr-95-german-neutral-tts/synmels_r3_149_difflen/test/mel_692.npy\n",
      "/github/datasets/openslr-95-german-neutral-tts/synmels_r3_149_difflen/test/mel_693.npy\n",
      "/github/datasets/openslr-95-german-neutral-tts/synmels_r3_149_difflen/test/mel_694.npy\n",
      "/github/datasets/openslr-95-german-neutral-tts/synmels_r3_149_difflen/test/mel_695.npy\n",
      "/github/datasets/openslr-95-german-neutral-tts/synmels_r3_149_difflen/test/mel_696.npy\n",
      "/github/datasets/openslr-95-german-neutral-tts/synmels_r3_149_difflen/test/mel_697.npy\n"
     ]
    },
    {
     "name": "stderr",
     "output_type": "stream",
     "text": [
      "[NeMo W 2022-05-12 01:52:37 tts_tokenizers:351] Text: [AO1LTER0 SHWIY1D!, stieß FRAW1 KAH1NZ AW1Z.] contains unknown char/phoneme: [ß]. Original text: [Alter Schwede!, stieß Frau Kunze aus.]. Symbol will be skipped.\n",
      "[NeMo W 2022-05-12 01:52:37 tts_tokenizers:351] Text: [dieser gottesdienst GIH1LT AE1LZ AY1N gottesdienst DER1 aussohnung – nach jahrhundertelangen feindschaften zwischen unseren beiden landern.] contains unknown char/phoneme: [–]. Original text: [Dieser Gottesdienst gilt als ein Gottesdienst der Aussohnung – nach jahrhundertelangen Feindschaften zwischen unseren beiden Landern.]. Symbol will be skipped.\n"
     ]
    },
    {
     "name": "stdout",
     "output_type": "stream",
     "text": [
      "/github/datasets/openslr-95-german-neutral-tts/synmels_r3_149_difflen/test/mel_698.npy\n",
      "/github/datasets/openslr-95-german-neutral-tts/synmels_r3_149_difflen/test/mel_699.npy\n",
      "/github/datasets/openslr-95-german-neutral-tts/synmels_r3_149_difflen/test/mel_700.npy\n",
      "/github/datasets/openslr-95-german-neutral-tts/synmels_r3_149_difflen/test/mel_701.npy\n",
      "/github/datasets/openslr-95-german-neutral-tts/synmels_r3_149_difflen/test/mel_702.npy\n",
      "/github/datasets/openslr-95-german-neutral-tts/synmels_r3_149_difflen/test/mel_703.npy\n"
     ]
    },
    {
     "name": "stderr",
     "output_type": "stream",
     "text": [
      "[NeMo W 2022-05-12 01:52:38 tts_tokenizers:351] Text: [dazu sucht MAE1N sich eine WEH1NIH0G befahrene straßIY1 OW1DER0 einen GROW1ßEH1N parkplatz.] contains unknown char/phoneme: [ß]. Original text: [Dazu sucht man sich eine wenig befahrene Straße oder einen großen Parkplatz.]. Symbol will be skipped.\n",
      "[NeMo W 2022-05-12 01:52:38 tts_tokenizers:351] Text: [dazu sucht MAE1N sich eine WEH1NIH0G befahrene straßIY1 OW1DER0 einen GROW1ßEH1N parkplatz.] contains unknown char/phoneme: [ß]. Original text: [Dazu sucht man sich eine wenig befahrene Straße oder einen großen Parkplatz.]. Symbol will be skipped.\n"
     ]
    },
    {
     "name": "stdout",
     "output_type": "stream",
     "text": [
      "/github/datasets/openslr-95-german-neutral-tts/synmels_r3_149_difflen/test/mel_704.npy\n",
      "/github/datasets/openslr-95-german-neutral-tts/synmels_r3_149_difflen/test/mel_705.npy\n",
      "/github/datasets/openslr-95-german-neutral-tts/synmels_r3_149_difflen/test/mel_706.npy\n",
      "/github/datasets/openslr-95-german-neutral-tts/synmels_r3_149_difflen/test/mel_707.npy\n",
      "/github/datasets/openslr-95-german-neutral-tts/synmels_r3_149_difflen/test/mel_708.npy\n",
      "/github/datasets/openslr-95-german-neutral-tts/synmels_r3_149_difflen/test/mel_709.npy\n",
      "/github/datasets/openslr-95-german-neutral-tts/synmels_r3_149_difflen/test/mel_710.npy\n",
      "/github/datasets/openslr-95-german-neutral-tts/synmels_r3_149_difflen/test/mel_711.npy\n",
      "/github/datasets/openslr-95-german-neutral-tts/synmels_r3_149_difflen/test/mel_712.npy\n",
      "/github/datasets/openslr-95-german-neutral-tts/synmels_r3_149_difflen/test/mel_713.npy\n",
      "/github/datasets/openslr-95-german-neutral-tts/synmels_r3_149_difflen/test/mel_714.npy\n",
      "/github/datasets/openslr-95-german-neutral-tts/synmels_r3_149_difflen/test/mel_715.npy\n",
      "/github/datasets/openslr-95-german-neutral-tts/synmels_r3_149_difflen/test/mel_716.npy\n",
      "/github/datasets/openslr-95-german-neutral-tts/synmels_r3_149_difflen/test/mel_717.npy\n",
      "/github/datasets/openslr-95-german-neutral-tts/synmels_r3_149_difflen/test/mel_718.npy\n",
      "/github/datasets/openslr-95-german-neutral-tts/synmels_r3_149_difflen/test/mel_719.npy\n",
      "/github/datasets/openslr-95-german-neutral-tts/synmels_r3_149_difflen/test/mel_720.npy\n",
      "/github/datasets/openslr-95-german-neutral-tts/synmels_r3_149_difflen/test/mel_721.npy\n",
      "/github/datasets/openslr-95-german-neutral-tts/synmels_r3_149_difflen/test/mel_722.npy\n",
      "/github/datasets/openslr-95-german-neutral-tts/synmels_r3_149_difflen/test/mel_723.npy\n",
      "/github/datasets/openslr-95-german-neutral-tts/synmels_r3_149_difflen/test/mel_724.npy\n",
      "/github/datasets/openslr-95-german-neutral-tts/synmels_r3_149_difflen/test/mel_725.npy\n",
      "/github/datasets/openslr-95-german-neutral-tts/synmels_r3_149_difflen/test/mel_726.npy\n",
      "/github/datasets/openslr-95-german-neutral-tts/synmels_r3_149_difflen/test/mel_727.npy\n",
      "/github/datasets/openslr-95-german-neutral-tts/synmels_r3_149_difflen/test/mel_728.npy\n",
      "/github/datasets/openslr-95-german-neutral-tts/synmels_r3_149_difflen/test/mel_729.npy\n",
      "/github/datasets/openslr-95-german-neutral-tts/synmels_r3_149_difflen/test/mel_730.npy\n",
      "/github/datasets/openslr-95-german-neutral-tts/synmels_r3_149_difflen/test/mel_731.npy\n",
      "/github/datasets/openslr-95-german-neutral-tts/synmels_r3_149_difflen/test/mel_732.npy\n",
      "/github/datasets/openslr-95-german-neutral-tts/synmels_r3_149_difflen/test/mel_733.npy\n",
      "/github/datasets/openslr-95-german-neutral-tts/synmels_r3_149_difflen/test/mel_734.npy\n",
      "/github/datasets/openslr-95-german-neutral-tts/synmels_r3_149_difflen/test/mel_735.npy\n",
      "/github/datasets/openslr-95-german-neutral-tts/synmels_r3_149_difflen/test/mel_736.npy\n",
      "/github/datasets/openslr-95-german-neutral-tts/synmels_r3_149_difflen/test/mel_737.npy\n",
      "/github/datasets/openslr-95-german-neutral-tts/synmels_r3_149_difflen/test/mel_738.npy\n",
      "/github/datasets/openslr-95-german-neutral-tts/synmels_r3_149_difflen/test/mel_739.npy\n",
      "/github/datasets/openslr-95-german-neutral-tts/synmels_r3_149_difflen/test/mel_740.npy\n",
      "/github/datasets/openslr-95-german-neutral-tts/synmels_r3_149_difflen/test/mel_741.npy\n",
      "/github/datasets/openslr-95-german-neutral-tts/synmels_r3_149_difflen/test/mel_742.npy\n",
      "/github/datasets/openslr-95-german-neutral-tts/synmels_r3_149_difflen/test/mel_743.npy\n",
      "/github/datasets/openslr-95-german-neutral-tts/synmels_r3_149_difflen/test/mel_744.npy\n",
      "/github/datasets/openslr-95-german-neutral-tts/synmels_r3_149_difflen/test/mel_745.npy\n",
      "/github/datasets/openslr-95-german-neutral-tts/synmels_r3_149_difflen/test/mel_746.npy\n",
      "/github/datasets/openslr-95-german-neutral-tts/synmels_r3_149_difflen/test/mel_747.npy\n",
      "/github/datasets/openslr-95-german-neutral-tts/synmels_r3_149_difflen/test/mel_748.npy\n",
      "/github/datasets/openslr-95-german-neutral-tts/synmels_r3_149_difflen/test/mel_749.npy\n",
      "/github/datasets/openslr-95-german-neutral-tts/synmels_r3_149_difflen/test/mel_750.npy\n",
      "/github/datasets/openslr-95-german-neutral-tts/synmels_r3_149_difflen/test/mel_751.npy\n",
      "/github/datasets/openslr-95-german-neutral-tts/synmels_r3_149_difflen/test/mel_752.npy\n",
      "/github/datasets/openslr-95-german-neutral-tts/synmels_r3_149_difflen/test/mel_753.npy\n",
      "/github/datasets/openslr-95-german-neutral-tts/synmels_r3_149_difflen/test/mel_754.npy\n"
     ]
    },
    {
     "name": "stderr",
     "output_type": "stream",
     "text": [
      "[NeMo W 2022-05-12 01:52:39 tts_tokenizers:351] Text: [UW1BER0 dem eingang prangt in GROW1ßEH1N lettern DER1 NEY1M des geschafts.] contains unknown char/phoneme: [ß]. Original text: [Uber dem Eingang prangt in großen Lettern der Name des Geschafts.]. Symbol will be skipped.\n",
      "[NeMo W 2022-05-12 01:52:39 tts_tokenizers:351] Text: [wer WEY1ß?] contains unknown char/phoneme: [ß]. Original text: [Wer weiß?]. Symbol will be skipped.\n"
     ]
    },
    {
     "name": "stdout",
     "output_type": "stream",
     "text": [
      "/github/datasets/openslr-95-german-neutral-tts/synmels_r3_149_difflen/test/mel_755.npy\n",
      "/github/datasets/openslr-95-german-neutral-tts/synmels_r3_149_difflen/test/mel_756.npy\n",
      "/github/datasets/openslr-95-german-neutral-tts/synmels_r3_149_difflen/test/mel_757.npy\n",
      "/github/datasets/openslr-95-german-neutral-tts/synmels_r3_149_difflen/test/mel_758.npy\n",
      "/github/datasets/openslr-95-german-neutral-tts/synmels_r3_149_difflen/test/mel_759.npy\n",
      "/github/datasets/openslr-95-german-neutral-tts/synmels_r3_149_difflen/test/mel_760.npy\n",
      "/github/datasets/openslr-95-german-neutral-tts/synmels_r3_149_difflen/test/mel_761.npy\n",
      "/github/datasets/openslr-95-german-neutral-tts/synmels_r3_149_difflen/test/mel_762.npy\n",
      "/github/datasets/openslr-95-german-neutral-tts/synmels_r3_149_difflen/test/mel_763.npy\n",
      "/github/datasets/openslr-95-german-neutral-tts/synmels_r3_149_difflen/test/mel_764.npy\n",
      "/github/datasets/openslr-95-german-neutral-tts/synmels_r3_149_difflen/test/mel_765.npy\n",
      "/github/datasets/openslr-95-german-neutral-tts/synmels_r3_149_difflen/test/mel_766.npy\n",
      "/github/datasets/openslr-95-german-neutral-tts/synmels_r3_149_difflen/test/mel_767.npy\n",
      "/github/datasets/openslr-95-german-neutral-tts/synmels_r3_149_difflen/test/mel_768.npy\n",
      "/github/datasets/openslr-95-german-neutral-tts/synmels_r3_149_difflen/test/mel_769.npy\n",
      "/github/datasets/openslr-95-german-neutral-tts/synmels_r3_149_difflen/test/mel_770.npy\n",
      "/github/datasets/openslr-95-german-neutral-tts/synmels_r3_149_difflen/test/mel_771.npy\n"
     ]
    },
    {
     "name": "stderr",
     "output_type": "stream",
     "text": [
      "[NeMo W 2022-05-12 01:52:40 tts_tokenizers:351] Text: [DAY1 messwerte SIH1ND mit vorsicht zu JHIY1NIY0ßEH1N.] contains unknown char/phoneme: [ß]. Original text: [Die Messwerte sind mit Vorsicht zu genießen.]. Symbol will be skipped.\n"
     ]
    },
    {
     "name": "stdout",
     "output_type": "stream",
     "text": [
      "/github/datasets/openslr-95-german-neutral-tts/synmels_r3_149_difflen/test/mel_772.npy\n",
      "/github/datasets/openslr-95-german-neutral-tts/synmels_r3_149_difflen/test/mel_773.npy\n",
      "/github/datasets/openslr-95-german-neutral-tts/synmels_r3_149_difflen/test/mel_774.npy\n",
      "/github/datasets/openslr-95-german-neutral-tts/synmels_r3_149_difflen/test/mel_775.npy\n",
      "/github/datasets/openslr-95-german-neutral-tts/synmels_r3_149_difflen/test/mel_776.npy\n",
      "/github/datasets/openslr-95-german-neutral-tts/synmels_r3_149_difflen/test/mel_777.npy\n",
      "/github/datasets/openslr-95-german-neutral-tts/synmels_r3_149_difflen/test/mel_778.npy\n",
      "/github/datasets/openslr-95-german-neutral-tts/synmels_r3_149_difflen/test/mel_779.npy\n",
      "/github/datasets/openslr-95-german-neutral-tts/synmels_r3_149_difflen/test/mel_780.npy\n",
      "/github/datasets/openslr-95-german-neutral-tts/synmels_r3_149_difflen/test/mel_781.npy\n",
      "/github/datasets/openslr-95-german-neutral-tts/synmels_r3_149_difflen/test/mel_782.npy\n",
      "/github/datasets/openslr-95-german-neutral-tts/synmels_r3_149_difflen/test/mel_783.npy\n",
      "/github/datasets/openslr-95-german-neutral-tts/synmels_r3_149_difflen/test/mel_784.npy\n",
      "/github/datasets/openslr-95-german-neutral-tts/synmels_r3_149_difflen/test/mel_785.npy\n",
      "/github/datasets/openslr-95-german-neutral-tts/synmels_r3_149_difflen/test/mel_786.npy\n",
      "/github/datasets/openslr-95-german-neutral-tts/synmels_r3_149_difflen/test/mel_787.npy\n",
      "/github/datasets/openslr-95-german-neutral-tts/synmels_r3_149_difflen/test/mel_788.npy\n",
      "/github/datasets/openslr-95-german-neutral-tts/synmels_r3_149_difflen/test/mel_789.npy\n",
      "/github/datasets/openslr-95-german-neutral-tts/synmels_r3_149_difflen/test/mel_790.npy\n"
     ]
    },
    {
     "name": "stderr",
     "output_type": "stream",
     "text": [
      "[NeMo W 2022-05-12 01:52:40 tts_tokenizers:351] Text: [alle GROW1ßEH1N AW1Z HHAA1LIY0WUH2D WER1DAH0N dabei SAY1N.] contains unknown char/phoneme: [ß]. Original text: [Alle Großen aus Hollywood werden dabei sein.]. Symbol will be skipped.\n"
     ]
    },
    {
     "name": "stdout",
     "output_type": "stream",
     "text": [
      "/github/datasets/openslr-95-german-neutral-tts/synmels_r3_149_difflen/test/mel_791.npy\n",
      "/github/datasets/openslr-95-german-neutral-tts/synmels_r3_149_difflen/test/mel_792.npy\n",
      "/github/datasets/openslr-95-german-neutral-tts/synmels_r3_149_difflen/test/mel_793.npy\n",
      "/github/datasets/openslr-95-german-neutral-tts/synmels_r3_149_difflen/test/mel_794.npy\n",
      "/github/datasets/openslr-95-german-neutral-tts/synmels_r3_149_difflen/test/mel_795.npy\n",
      "/github/datasets/openslr-95-german-neutral-tts/synmels_r3_149_difflen/test/mel_796.npy\n",
      "/github/datasets/openslr-95-german-neutral-tts/synmels_r3_149_difflen/test/mel_797.npy\n",
      "/github/datasets/openslr-95-german-neutral-tts/synmels_r3_149_difflen/test/mel_798.npy\n",
      "/github/datasets/openslr-95-german-neutral-tts/synmels_r3_149_difflen/test/mel_799.npy\n",
      "/github/datasets/openslr-95-german-neutral-tts/synmels_r3_149_difflen/test/mel_800.npy\n"
     ]
    },
    {
     "name": "stderr",
     "output_type": "stream",
     "text": [
      "[NeMo W 2022-05-12 01:52:40 tts_tokenizers:351] Text: [SHLIY1ßLIH1CH gibt EH1S einige wenige, DAY1 das tier nicht bemerken OW1DER0 gleichgultig ignorieren.] contains unknown char/phoneme: [ß]. Original text: [Schließlich gibt es einige wenige, die das Tier nicht bemerken oder gleichgultig ignorieren.]. Symbol will be skipped.\n"
     ]
    },
    {
     "name": "stdout",
     "output_type": "stream",
     "text": [
      "/github/datasets/openslr-95-german-neutral-tts/synmels_r3_149_difflen/test/mel_801.npy\n",
      "/github/datasets/openslr-95-german-neutral-tts/synmels_r3_149_difflen/test/mel_802.npy\n",
      "/github/datasets/openslr-95-german-neutral-tts/synmels_r3_149_difflen/test/mel_803.npy\n",
      "/github/datasets/openslr-95-german-neutral-tts/synmels_r3_149_difflen/test/mel_804.npy\n",
      "/github/datasets/openslr-95-german-neutral-tts/synmels_r3_149_difflen/test/mel_805.npy\n",
      "/github/datasets/openslr-95-german-neutral-tts/synmels_r3_149_difflen/test/mel_806.npy\n",
      "/github/datasets/openslr-95-german-neutral-tts/synmels_r3_149_difflen/test/mel_807.npy\n",
      "/github/datasets/openslr-95-german-neutral-tts/synmels_r3_149_difflen/test/mel_808.npy\n",
      "/github/datasets/openslr-95-german-neutral-tts/synmels_r3_149_difflen/test/mel_809.npy\n",
      "/github/datasets/openslr-95-german-neutral-tts/synmels_r3_149_difflen/test/mel_810.npy\n",
      "/github/datasets/openslr-95-german-neutral-tts/synmels_r3_149_difflen/test/mel_811.npy\n"
     ]
    },
    {
     "name": "stderr",
     "output_type": "stream",
     "text": [
      "[NeMo W 2022-05-12 01:52:41 tts_tokenizers:351] Text: [nicht DAY1 flammen, sondern DAY1 GLAH1T SIH1ND das heißEH1STEY0 am FYUW1ER0.] contains unknown char/phoneme: [ß]. Original text: [Nicht die Flammen, sondern die Glut sind das Heißeste am Feuer.]. Symbol will be skipped.\n",
      "[NeMo W 2022-05-12 01:52:41 tts_tokenizers:351] Text: [zur KEY1-frage will sich KIY1NER0 OW1ßern.] contains unknown char/phoneme: [ß]. Original text: [Zur K-Frage will sich keiner außern.]. Symbol will be skipped.\n",
      "[NeMo W 2022-05-12 01:52:41 tts_tokenizers:351] Text: [YAA1, SHAA1N FAE1ST zwei jahre. IH1CH WEY1ß nicht woher.] contains unknown char/phoneme: [ß]. Original text: [Ja, schon fast zwei Jahre. Ich weiß nicht woher.]. Symbol will be skipped.\n"
     ]
    },
    {
     "name": "stdout",
     "output_type": "stream",
     "text": [
      "/github/datasets/openslr-95-german-neutral-tts/synmels_r3_149_difflen/test/mel_812.npy\n",
      "/github/datasets/openslr-95-german-neutral-tts/synmels_r3_149_difflen/test/mel_813.npy\n",
      "/github/datasets/openslr-95-german-neutral-tts/synmels_r3_149_difflen/test/mel_814.npy\n",
      "/github/datasets/openslr-95-german-neutral-tts/synmels_r3_149_difflen/test/mel_815.npy\n",
      "/github/datasets/openslr-95-german-neutral-tts/synmels_r3_149_difflen/test/mel_816.npy\n",
      "/github/datasets/openslr-95-german-neutral-tts/synmels_r3_149_difflen/test/mel_817.npy\n",
      "/github/datasets/openslr-95-german-neutral-tts/synmels_r3_149_difflen/test/mel_818.npy\n",
      "/github/datasets/openslr-95-german-neutral-tts/synmels_r3_149_difflen/test/mel_819.npy\n",
      "/github/datasets/openslr-95-german-neutral-tts/synmels_r3_149_difflen/test/mel_820.npy\n",
      "/github/datasets/openslr-95-german-neutral-tts/synmels_r3_149_difflen/test/mel_821.npy\n"
     ]
    },
    {
     "name": "stderr",
     "output_type": "stream",
     "text": [
      "[NeMo W 2022-05-12 01:52:41 tts_tokenizers:351] Text: [KLAY1N STER1N LEH1BAH0N LAE1NGER0 AE1LZ GROW1ßIY1.] contains unknown char/phoneme: [ß]. Original text: [Kleine Sterne leben langer als große.]. Symbol will be skipped.\n"
     ]
    },
    {
     "name": "stdout",
     "output_type": "stream",
     "text": [
      "/github/datasets/openslr-95-german-neutral-tts/synmels_r3_149_difflen/test/mel_822.npy\n",
      "/github/datasets/openslr-95-german-neutral-tts/synmels_r3_149_difflen/test/mel_823.npy\n",
      "/github/datasets/openslr-95-german-neutral-tts/synmels_r3_149_difflen/test/mel_824.npy\n",
      "/github/datasets/openslr-95-german-neutral-tts/synmels_r3_149_difflen/test/mel_825.npy\n",
      "/github/datasets/openslr-95-german-neutral-tts/synmels_r3_149_difflen/test/mel_826.npy\n",
      "/github/datasets/openslr-95-german-neutral-tts/synmels_r3_149_difflen/test/mel_827.npy\n",
      "/github/datasets/openslr-95-german-neutral-tts/synmels_r3_149_difflen/test/mel_828.npy\n",
      "/github/datasets/openslr-95-german-neutral-tts/synmels_r3_149_difflen/test/mel_829.npy\n",
      "/github/datasets/openslr-95-german-neutral-tts/synmels_r3_149_difflen/test/mel_830.npy\n",
      "/github/datasets/openslr-95-german-neutral-tts/synmels_r3_149_difflen/test/mel_831.npy\n",
      "/github/datasets/openslr-95-german-neutral-tts/synmels_r3_149_difflen/test/mel_832.npy\n",
      "/github/datasets/openslr-95-german-neutral-tts/synmels_r3_149_difflen/test/mel_833.npy\n",
      "/github/datasets/openslr-95-german-neutral-tts/synmels_r3_149_difflen/test/mel_834.npy\n",
      "/github/datasets/openslr-95-german-neutral-tts/synmels_r3_149_difflen/test/mel_835.npy\n",
      "/github/datasets/openslr-95-german-neutral-tts/synmels_r3_149_difflen/test/mel_836.npy\n",
      "/github/datasets/openslr-95-german-neutral-tts/synmels_r3_149_difflen/test/mel_837.npy\n",
      "/github/datasets/openslr-95-german-neutral-tts/synmels_r3_149_difflen/test/mel_838.npy\n",
      "/github/datasets/openslr-95-german-neutral-tts/synmels_r3_149_difflen/test/mel_839.npy\n",
      "/github/datasets/openslr-95-german-neutral-tts/synmels_r3_149_difflen/test/mel_840.npy\n",
      "/github/datasets/openslr-95-german-neutral-tts/synmels_r3_149_difflen/test/mel_841.npy\n",
      "/github/datasets/openslr-95-german-neutral-tts/synmels_r3_149_difflen/test/mel_842.npy\n",
      "/github/datasets/openslr-95-german-neutral-tts/synmels_r3_149_difflen/test/mel_843.npy\n",
      "/github/datasets/openslr-95-german-neutral-tts/synmels_r3_149_difflen/test/mel_844.npy\n",
      "/github/datasets/openslr-95-german-neutral-tts/synmels_r3_149_difflen/test/mel_845.npy\n",
      "/github/datasets/openslr-95-german-neutral-tts/synmels_r3_149_difflen/test/mel_846.npy\n",
      "/github/datasets/openslr-95-german-neutral-tts/synmels_r3_149_difflen/test/mel_847.npy\n",
      "/github/datasets/openslr-95-german-neutral-tts/synmels_r3_149_difflen/test/mel_848.npy\n",
      "/github/datasets/openslr-95-german-neutral-tts/synmels_r3_149_difflen/test/mel_849.npy\n",
      "/github/datasets/openslr-95-german-neutral-tts/synmels_r3_149_difflen/test/mel_850.npy\n",
      "/github/datasets/openslr-95-german-neutral-tts/synmels_r3_149_difflen/test/mel_851.npy\n",
      "/github/datasets/openslr-95-german-neutral-tts/synmels_r3_149_difflen/test/mel_852.npy\n",
      "/github/datasets/openslr-95-german-neutral-tts/synmels_r3_149_difflen/test/mel_853.npy\n",
      "/github/datasets/openslr-95-german-neutral-tts/synmels_r3_149_difflen/test/mel_854.npy\n",
      "/github/datasets/openslr-95-german-neutral-tts/synmels_r3_149_difflen/test/mel_855.npy\n",
      "/github/datasets/openslr-95-german-neutral-tts/synmels_r3_149_difflen/test/mel_856.npy\n",
      "/github/datasets/openslr-95-german-neutral-tts/synmels_r3_149_difflen/test/mel_857.npy\n",
      "/github/datasets/openslr-95-german-neutral-tts/synmels_r3_149_difflen/test/mel_858.npy\n",
      "/github/datasets/openslr-95-german-neutral-tts/synmels_r3_149_difflen/test/mel_859.npy\n",
      "/github/datasets/openslr-95-german-neutral-tts/synmels_r3_149_difflen/test/mel_860.npy\n",
      "/github/datasets/openslr-95-german-neutral-tts/synmels_r3_149_difflen/test/mel_861.npy\n",
      "/github/datasets/openslr-95-german-neutral-tts/synmels_r3_149_difflen/test/mel_862.npy\n",
      "/github/datasets/openslr-95-german-neutral-tts/synmels_r3_149_difflen/test/mel_863.npy\n",
      "/github/datasets/openslr-95-german-neutral-tts/synmels_r3_149_difflen/test/mel_864.npy\n",
      "/github/datasets/openslr-95-german-neutral-tts/synmels_r3_149_difflen/test/mel_865.npy\n",
      "/github/datasets/openslr-95-german-neutral-tts/synmels_r3_149_difflen/test/mel_866.npy\n",
      "/github/datasets/openslr-95-german-neutral-tts/synmels_r3_149_difflen/test/mel_867.npy\n",
      "/github/datasets/openslr-95-german-neutral-tts/synmels_r3_149_difflen/test/mel_868.npy\n",
      "/github/datasets/openslr-95-german-neutral-tts/synmels_r3_149_difflen/test/mel_869.npy\n",
      "/github/datasets/openslr-95-german-neutral-tts/synmels_r3_149_difflen/test/mel_870.npy\n",
      "/github/datasets/openslr-95-german-neutral-tts/synmels_r3_149_difflen/test/mel_871.npy\n",
      "/github/datasets/openslr-95-german-neutral-tts/synmels_r3_149_difflen/test/mel_872.npy\n",
      "/github/datasets/openslr-95-german-neutral-tts/synmels_r3_149_difflen/test/mel_873.npy\n",
      "/github/datasets/openslr-95-german-neutral-tts/synmels_r3_149_difflen/test/mel_874.npy\n",
      "/github/datasets/openslr-95-german-neutral-tts/synmels_r3_149_difflen/test/mel_875.npy\n",
      "/github/datasets/openslr-95-german-neutral-tts/synmels_r3_149_difflen/test/mel_876.npy\n",
      "/github/datasets/openslr-95-german-neutral-tts/synmels_r3_149_difflen/test/mel_877.npy\n",
      "/github/datasets/openslr-95-german-neutral-tts/synmels_r3_149_difflen/test/mel_878.npy\n",
      "/github/datasets/openslr-95-german-neutral-tts/synmels_r3_149_difflen/test/mel_879.npy\n"
     ]
    },
    {
     "name": "stderr",
     "output_type": "stream",
     "text": [
      "[NeMo W 2022-05-12 01:52:42 tts_tokenizers:351] Text: [SIY1 trug AY1N WEY1ßEH1S top.] contains unknown char/phoneme: [ß]. Original text: [Sie trug ein weißes Top.]. Symbol will be skipped.\n"
     ]
    },
    {
     "name": "stdout",
     "output_type": "stream",
     "text": [
      "/github/datasets/openslr-95-german-neutral-tts/synmels_r3_149_difflen/test/mel_880.npy\n",
      "/github/datasets/openslr-95-german-neutral-tts/synmels_r3_149_difflen/test/mel_881.npy\n",
      "/github/datasets/openslr-95-german-neutral-tts/synmels_r3_149_difflen/test/mel_882.npy\n",
      "/github/datasets/openslr-95-german-neutral-tts/synmels_r3_149_difflen/test/mel_883.npy\n",
      "/github/datasets/openslr-95-german-neutral-tts/synmels_r3_149_difflen/test/mel_884.npy\n",
      "/github/datasets/openslr-95-german-neutral-tts/synmels_r3_149_difflen/test/mel_885.npy\n",
      "/github/datasets/openslr-95-german-neutral-tts/synmels_r3_149_difflen/test/mel_886.npy\n",
      "/github/datasets/openslr-95-german-neutral-tts/synmels_r3_149_difflen/test/mel_887.npy\n",
      "/github/datasets/openslr-95-german-neutral-tts/synmels_r3_149_difflen/test/mel_888.npy\n",
      "/github/datasets/openslr-95-german-neutral-tts/synmels_r3_149_difflen/test/mel_889.npy\n",
      "/github/datasets/openslr-95-german-neutral-tts/synmels_r3_149_difflen/test/mel_890.npy\n",
      "/github/datasets/openslr-95-german-neutral-tts/synmels_r3_149_difflen/test/mel_891.npy\n",
      "/github/datasets/openslr-95-german-neutral-tts/synmels_r3_149_difflen/test/mel_892.npy\n",
      "/github/datasets/openslr-95-german-neutral-tts/synmels_r3_149_difflen/test/mel_893.npy\n",
      "/github/datasets/openslr-95-german-neutral-tts/synmels_r3_149_difflen/test/mel_894.npy\n",
      "/github/datasets/openslr-95-german-neutral-tts/synmels_r3_149_difflen/test/mel_895.npy\n",
      "/github/datasets/openslr-95-german-neutral-tts/synmels_r3_149_difflen/test/mel_896.npy\n",
      "/github/datasets/openslr-95-german-neutral-tts/synmels_r3_149_difflen/test/mel_897.npy\n",
      "/github/datasets/openslr-95-german-neutral-tts/synmels_r3_149_difflen/test/mel_898.npy\n"
     ]
    },
    {
     "name": "stderr",
     "output_type": "stream",
     "text": [
      "[NeMo W 2022-05-12 01:52:43 tts_tokenizers:351] Text: [SHOW1N grußIY1] contains unknown char/phoneme: [ß]. Original text: [schone Gruße]. Symbol will be skipped.\n"
     ]
    },
    {
     "name": "stdout",
     "output_type": "stream",
     "text": [
      "/github/datasets/openslr-95-german-neutral-tts/synmels_r3_149_difflen/test/mel_899.npy\n",
      "/github/datasets/openslr-95-german-neutral-tts/synmels_r3_149_difflen/test/mel_900.npy\n",
      "/github/datasets/openslr-95-german-neutral-tts/synmels_r3_149_difflen/test/mel_901.npy\n",
      "/github/datasets/openslr-95-german-neutral-tts/synmels_r3_149_difflen/test/mel_902.npy\n",
      "/github/datasets/openslr-95-german-neutral-tts/synmels_r3_149_difflen/test/mel_903.npy\n",
      "/github/datasets/openslr-95-german-neutral-tts/synmels_r3_149_difflen/test/mel_904.npy\n",
      "/github/datasets/openslr-95-german-neutral-tts/synmels_r3_149_difflen/test/mel_905.npy\n",
      "/github/datasets/openslr-95-german-neutral-tts/synmels_r3_149_difflen/test/mel_906.npy\n",
      "/github/datasets/openslr-95-german-neutral-tts/synmels_r3_149_difflen/test/mel_907.npy\n",
      "/github/datasets/openslr-95-german-neutral-tts/synmels_r3_149_difflen/test/mel_908.npy\n",
      "/github/datasets/openslr-95-german-neutral-tts/synmels_r3_149_difflen/test/mel_909.npy\n",
      "/github/datasets/openslr-95-german-neutral-tts/synmels_r3_149_difflen/test/mel_910.npy\n",
      "/github/datasets/openslr-95-german-neutral-tts/synmels_r3_149_difflen/test/mel_911.npy\n",
      "/github/datasets/openslr-95-german-neutral-tts/synmels_r3_149_difflen/test/mel_912.npy\n",
      "/github/datasets/openslr-95-german-neutral-tts/synmels_r3_149_difflen/test/mel_913.npy\n",
      "/github/datasets/openslr-95-german-neutral-tts/synmels_r3_149_difflen/test/mel_914.npy\n",
      "/github/datasets/openslr-95-german-neutral-tts/synmels_r3_149_difflen/test/mel_915.npy\n",
      "/github/datasets/openslr-95-german-neutral-tts/synmels_r3_149_difflen/test/mel_916.npy\n",
      "/github/datasets/openslr-95-german-neutral-tts/synmels_r3_149_difflen/test/mel_917.npy\n"
     ]
    },
    {
     "name": "stderr",
     "output_type": "stream",
     "text": [
      "[NeMo W 2022-05-12 01:52:43 tts_tokenizers:351] Text: [derlei lacherliche bußGEH1LDER0 an DAY1 hafenverwaltung zahlt DAY1 reederei AW1Z DER1 portokasse.] contains unknown char/phoneme: [ß]. Original text: [Derlei lacherliche Bußgelder an die Hafenverwaltung zahlt die Reederei aus der Portokasse.]. Symbol will be skipped.\n"
     ]
    },
    {
     "name": "stdout",
     "output_type": "stream",
     "text": [
      "/github/datasets/openslr-95-german-neutral-tts/synmels_r3_149_difflen/test/mel_918.npy\n",
      "/github/datasets/openslr-95-german-neutral-tts/synmels_r3_149_difflen/test/mel_919.npy\n",
      "/github/datasets/openslr-95-german-neutral-tts/synmels_r3_149_difflen/test/mel_920.npy\n",
      "/github/datasets/openslr-95-german-neutral-tts/synmels_r3_149_difflen/test/mel_921.npy\n",
      "/github/datasets/openslr-95-german-neutral-tts/synmels_r3_149_difflen/test/mel_922.npy\n",
      "/github/datasets/openslr-95-german-neutral-tts/synmels_r3_149_difflen/test/mel_923.npy\n",
      "/github/datasets/openslr-95-german-neutral-tts/synmels_r3_149_difflen/test/mel_924.npy\n",
      "/github/datasets/openslr-95-german-neutral-tts/synmels_r3_149_difflen/test/mel_925.npy\n",
      "/github/datasets/openslr-95-german-neutral-tts/synmels_r3_149_difflen/test/mel_926.npy\n",
      "/github/datasets/openslr-95-german-neutral-tts/synmels_r3_149_difflen/test/mel_927.npy\n",
      "/github/datasets/openslr-95-german-neutral-tts/synmels_r3_149_difflen/test/mel_928.npy\n",
      "/github/datasets/openslr-95-german-neutral-tts/synmels_r3_149_difflen/test/mel_929.npy\n",
      "/github/datasets/openslr-95-german-neutral-tts/synmels_r3_149_difflen/test/mel_930.npy\n",
      "/github/datasets/openslr-95-german-neutral-tts/synmels_r3_149_difflen/test/mel_931.npy\n",
      "/github/datasets/openslr-95-german-neutral-tts/synmels_r3_149_difflen/test/mel_932.npy\n",
      "/github/datasets/openslr-95-german-neutral-tts/synmels_r3_149_difflen/test/mel_933.npy\n",
      "/github/datasets/openslr-95-german-neutral-tts/synmels_r3_149_difflen/test/mel_934.npy\n",
      "/github/datasets/openslr-95-german-neutral-tts/synmels_r3_149_difflen/test/mel_935.npy\n",
      "/github/datasets/openslr-95-german-neutral-tts/synmels_r3_149_difflen/test/mel_936.npy\n",
      "/github/datasets/openslr-95-german-neutral-tts/synmels_r3_149_difflen/test/mel_937.npy\n",
      "/github/datasets/openslr-95-german-neutral-tts/synmels_r3_149_difflen/test/mel_938.npy\n",
      "/github/datasets/openslr-95-german-neutral-tts/synmels_r3_149_difflen/test/mel_939.npy\n",
      "/github/datasets/openslr-95-german-neutral-tts/synmels_r3_149_difflen/test/mel_940.npy\n",
      "/github/datasets/openslr-95-german-neutral-tts/synmels_r3_149_difflen/test/mel_941.npy\n",
      "/github/datasets/openslr-95-german-neutral-tts/synmels_r3_149_difflen/test/mel_942.npy\n",
      "/github/datasets/openslr-95-german-neutral-tts/synmels_r3_149_difflen/test/mel_943.npy\n",
      "/github/datasets/openslr-95-german-neutral-tts/synmels_r3_149_difflen/test/mel_944.npy\n",
      "/github/datasets/openslr-95-german-neutral-tts/synmels_r3_149_difflen/test/mel_945.npy\n",
      "/github/datasets/openslr-95-german-neutral-tts/synmels_r3_149_difflen/test/mel_946.npy\n",
      "/github/datasets/openslr-95-german-neutral-tts/synmels_r3_149_difflen/test/mel_947.npy\n",
      "/github/datasets/openslr-95-german-neutral-tts/synmels_r3_149_difflen/test/mel_948.npy\n",
      "/github/datasets/openslr-95-german-neutral-tts/synmels_r3_149_difflen/test/mel_949.npy\n",
      "/github/datasets/openslr-95-german-neutral-tts/synmels_r3_149_difflen/test/mel_950.npy\n",
      "/github/datasets/openslr-95-german-neutral-tts/synmels_r3_149_difflen/test/mel_951.npy\n",
      "/github/datasets/openslr-95-german-neutral-tts/synmels_r3_149_difflen/test/mel_952.npy\n",
      "/github/datasets/openslr-95-german-neutral-tts/synmels_r3_149_difflen/test/mel_953.npy\n",
      "/github/datasets/openslr-95-german-neutral-tts/synmels_r3_149_difflen/test/mel_954.npy\n",
      "/github/datasets/openslr-95-german-neutral-tts/synmels_r3_149_difflen/test/mel_955.npy\n",
      "/github/datasets/openslr-95-german-neutral-tts/synmels_r3_149_difflen/test/mel_956.npy\n"
     ]
    },
    {
     "name": "stderr",
     "output_type": "stream",
     "text": [
      "[NeMo W 2022-05-12 01:52:44 tts_tokenizers:351] Text: [SIY1 haben bei DER1 eheschließAH1NG, wahrend DER1 ehe AH1ND bei DIH1RAH0N auflosung gleiche rechte.] contains unknown char/phoneme: [ß]. Original text: [Sie haben bei der Eheschließung, wahrend der Ehe und bei deren Auflosung gleiche Rechte.]. Symbol will be skipped.\n"
     ]
    },
    {
     "name": "stdout",
     "output_type": "stream",
     "text": [
      "/github/datasets/openslr-95-german-neutral-tts/synmels_r3_149_difflen/test/mel_957.npy\n",
      "/github/datasets/openslr-95-german-neutral-tts/synmels_r3_149_difflen/test/mel_958.npy\n",
      "/github/datasets/openslr-95-german-neutral-tts/synmels_r3_149_difflen/test/mel_959.npy\n",
      "/github/datasets/openslr-95-german-neutral-tts/synmels_r3_149_difflen/test/mel_960.npy\n",
      "/github/datasets/openslr-95-german-neutral-tts/synmels_r3_149_difflen/test/mel_961.npy\n",
      "/github/datasets/openslr-95-german-neutral-tts/synmels_r3_149_difflen/test/mel_962.npy\n",
      "/github/datasets/openslr-95-german-neutral-tts/synmels_r3_149_difflen/test/mel_963.npy\n",
      "/github/datasets/openslr-95-german-neutral-tts/synmels_r3_149_difflen/test/mel_964.npy\n",
      "/github/datasets/openslr-95-german-neutral-tts/synmels_r3_149_difflen/test/mel_965.npy\n",
      "/github/datasets/openslr-95-german-neutral-tts/synmels_r3_149_difflen/test/mel_966.npy\n",
      "/github/datasets/openslr-95-german-neutral-tts/synmels_r3_149_difflen/test/mel_967.npy\n",
      "/github/datasets/openslr-95-german-neutral-tts/synmels_r3_149_difflen/test/mel_968.npy\n",
      "/github/datasets/openslr-95-german-neutral-tts/synmels_r3_149_difflen/test/mel_969.npy\n",
      "/github/datasets/openslr-95-german-neutral-tts/synmels_r3_149_difflen/test/mel_970.npy\n",
      "/github/datasets/openslr-95-german-neutral-tts/synmels_r3_149_difflen/test/mel_971.npy\n",
      "/github/datasets/openslr-95-german-neutral-tts/synmels_r3_149_difflen/test/mel_972.npy\n",
      "/github/datasets/openslr-95-german-neutral-tts/synmels_r3_149_difflen/test/mel_973.npy\n",
      "/github/datasets/openslr-95-german-neutral-tts/synmels_r3_149_difflen/test/mel_974.npy\n",
      "/github/datasets/openslr-95-german-neutral-tts/synmels_r3_149_difflen/test/mel_975.npy\n",
      "/github/datasets/openslr-95-german-neutral-tts/synmels_r3_149_difflen/test/mel_976.npy\n",
      "/github/datasets/openslr-95-german-neutral-tts/synmels_r3_149_difflen/test/mel_977.npy\n",
      "/github/datasets/openslr-95-german-neutral-tts/synmels_r3_149_difflen/test/mel_978.npy\n"
     ]
    },
    {
     "name": "stderr",
     "output_type": "stream",
     "text": [
      "[NeMo W 2022-05-12 01:52:44 tts_tokenizers:351] Text: [wie konnen SIY1 diesen traumtanzer AO1CH noch willkommen heißEH1N?] contains unknown char/phoneme: [ß]. Original text: [Wie konnen Sie diesen Traumtanzer auch noch willkommen heißen?]. Symbol will be skipped.\n",
      "[NeMo W 2022-05-12 01:52:44 tts_tokenizers:351] Text: [letzten SAH1MER0 WAO1R sigrun auf dem DAA1Rß.] contains unknown char/phoneme: [ß]. Original text: [Letzten Sommer war Sigrun auf dem Darß.]. Symbol will be skipped.\n"
     ]
    },
    {
     "name": "stdout",
     "output_type": "stream",
     "text": [
      "/github/datasets/openslr-95-german-neutral-tts/synmels_r3_149_difflen/test/mel_979.npy\n",
      "/github/datasets/openslr-95-german-neutral-tts/synmels_r3_149_difflen/test/mel_980.npy\n",
      "/github/datasets/openslr-95-german-neutral-tts/synmels_r3_149_difflen/test/mel_981.npy\n",
      "/github/datasets/openslr-95-german-neutral-tts/synmels_r3_149_difflen/test/mel_982.npy\n",
      "/github/datasets/openslr-95-german-neutral-tts/synmels_r3_149_difflen/test/mel_983.npy\n",
      "/github/datasets/openslr-95-german-neutral-tts/synmels_r3_149_difflen/test/mel_984.npy\n",
      "/github/datasets/openslr-95-german-neutral-tts/synmels_r3_149_difflen/test/mel_985.npy\n",
      "/github/datasets/openslr-95-german-neutral-tts/synmels_r3_149_difflen/test/mel_986.npy\n",
      "/github/datasets/openslr-95-german-neutral-tts/synmels_r3_149_difflen/test/mel_987.npy\n",
      "/github/datasets/openslr-95-german-neutral-tts/synmels_r3_149_difflen/test/mel_988.npy\n"
     ]
    },
    {
     "name": "stderr",
     "output_type": "stream",
     "text": [
      "[NeMo W 2022-05-12 01:52:45 tts_tokenizers:351] Text: [soweit IH1CH WEY1ß, ist sterbehilfe in DOY1CHLAE0ND VER0BOW1TAH0N.] contains unknown char/phoneme: [ß]. Original text: [Soweit ich weiß, ist Sterbehilfe in Deutschland verboten.]. Symbol will be skipped.\n",
      "[NeMo W 2022-05-12 01:52:45 tts_tokenizers:351] Text: [solche GROW1ßEH1N SIH1ND SHWER1 zu quantifizieren.] contains unknown char/phoneme: [ß]. Original text: [Solche Großen sind schwer zu quantifizieren.]. Symbol will be skipped.\n"
     ]
    },
    {
     "name": "stdout",
     "output_type": "stream",
     "text": [
      "/github/datasets/openslr-95-german-neutral-tts/synmels_r3_149_difflen/test/mel_989.npy\n",
      "/github/datasets/openslr-95-german-neutral-tts/synmels_r3_149_difflen/test/mel_990.npy\n",
      "/github/datasets/openslr-95-german-neutral-tts/synmels_r3_149_difflen/test/mel_991.npy\n",
      "/github/datasets/openslr-95-german-neutral-tts/synmels_r3_149_difflen/test/mel_992.npy\n",
      "/github/datasets/openslr-95-german-neutral-tts/synmels_r3_149_difflen/test/mel_993.npy\n",
      "/github/datasets/openslr-95-german-neutral-tts/synmels_r3_149_difflen/test/mel_994.npy\n",
      "/github/datasets/openslr-95-german-neutral-tts/synmels_r3_149_difflen/test/mel_995.npy\n",
      "/github/datasets/openslr-95-german-neutral-tts/synmels_r3_149_difflen/test/mel_996.npy\n",
      "/github/datasets/openslr-95-german-neutral-tts/synmels_r3_149_difflen/test/mel_997.npy\n",
      "/github/datasets/openslr-95-german-neutral-tts/synmels_r3_149_difflen/test/mel_998.npy\n",
      "/github/datasets/openslr-95-german-neutral-tts/synmels_r3_149_difflen/test/mel_999.npy\n",
      "/github/datasets/openslr-95-german-neutral-tts/synmels_r3_149_difflen/test/mel_1000.npy\n",
      "/github/datasets/openslr-95-german-neutral-tts/synmels_r3_149_difflen/test/mel_1001.npy\n",
      "/github/datasets/openslr-95-german-neutral-tts/synmels_r3_149_difflen/test/mel_1002.npy\n",
      "/github/datasets/openslr-95-german-neutral-tts/synmels_r3_149_difflen/test/mel_1003.npy\n",
      "/github/datasets/openslr-95-german-neutral-tts/synmels_r3_149_difflen/test/mel_1004.npy\n",
      "/github/datasets/openslr-95-german-neutral-tts/synmels_r3_149_difflen/test/mel_1005.npy\n",
      "/github/datasets/openslr-95-german-neutral-tts/synmels_r3_149_difflen/test/mel_1006.npy\n",
      "/github/datasets/openslr-95-german-neutral-tts/synmels_r3_149_difflen/test/mel_1007.npy\n",
      "/github/datasets/openslr-95-german-neutral-tts/synmels_r3_149_difflen/test/mel_1008.npy\n",
      "/github/datasets/openslr-95-german-neutral-tts/synmels_r3_149_difflen/test/mel_1009.npy\n",
      "/github/datasets/openslr-95-german-neutral-tts/synmels_r3_149_difflen/test/mel_1010.npy\n",
      "/github/datasets/openslr-95-german-neutral-tts/synmels_r3_149_difflen/test/mel_1011.npy\n",
      "/github/datasets/openslr-95-german-neutral-tts/synmels_r3_149_difflen/test/mel_1012.npy\n",
      "/github/datasets/openslr-95-german-neutral-tts/synmels_r3_149_difflen/test/mel_1013.npy\n",
      "/github/datasets/openslr-95-german-neutral-tts/synmels_r3_149_difflen/test/mel_1014.npy\n",
      "/github/datasets/openslr-95-german-neutral-tts/synmels_r3_149_difflen/test/mel_1015.npy\n",
      "/github/datasets/openslr-95-german-neutral-tts/synmels_r3_149_difflen/test/mel_1016.npy\n",
      "/github/datasets/openslr-95-german-neutral-tts/synmels_r3_149_difflen/test/mel_1017.npy\n",
      "/github/datasets/openslr-95-german-neutral-tts/synmels_r3_149_difflen/test/mel_1018.npy\n",
      "/github/datasets/openslr-95-german-neutral-tts/synmels_r3_149_difflen/test/mel_1019.npy\n",
      "/github/datasets/openslr-95-german-neutral-tts/synmels_r3_149_difflen/test/mel_1020.npy\n",
      "/github/datasets/openslr-95-german-neutral-tts/synmels_r3_149_difflen/test/mel_1021.npy\n",
      "/github/datasets/openslr-95-german-neutral-tts/synmels_r3_149_difflen/test/mel_1022.npy\n",
      "/github/datasets/openslr-95-german-neutral-tts/synmels_r3_149_difflen/test/mel_1023.npy\n",
      "/github/datasets/openslr-95-german-neutral-tts/synmels_r3_149_difflen/test/mel_1024.npy\n",
      "/github/datasets/openslr-95-german-neutral-tts/synmels_r3_149_difflen/test/mel_1025.npy\n",
      "/github/datasets/openslr-95-german-neutral-tts/synmels_r3_149_difflen/test/mel_1026.npy\n",
      "/github/datasets/openslr-95-german-neutral-tts/synmels_r3_149_difflen/test/mel_1027.npy\n",
      "/github/datasets/openslr-95-german-neutral-tts/synmels_r3_149_difflen/test/mel_1028.npy\n",
      "/github/datasets/openslr-95-german-neutral-tts/synmels_r3_149_difflen/test/mel_1029.npy\n",
      "/github/datasets/openslr-95-german-neutral-tts/synmels_r3_149_difflen/test/mel_1030.npy\n",
      "/github/datasets/openslr-95-german-neutral-tts/synmels_r3_149_difflen/test/mel_1031.npy\n"
     ]
    },
    {
     "name": "stderr",
     "output_type": "stream",
     "text": [
      "[NeMo W 2022-05-12 01:52:45 tts_tokenizers:351] Text: [EH1S wird behandelt wie AY1N DAH1M­MIY1­JHAH1N­JHEH1N­STRAY1K.] contains unknown char/phoneme: [­]. Original text: [Es wird behandelt wie ein Dum­me­jun­gen­streich.]. Symbol will be skipped.\n",
      "[NeMo W 2022-05-12 01:52:45 tts_tokenizers:351] Text: [EH1S wird behandelt wie AY1N DAH1M­MIY1­JHAH1N­JHEH1N­STRAY1K.] contains unknown char/phoneme: [­]. Original text: [Es wird behandelt wie ein Dum­me­jun­gen­streich.]. Symbol will be skipped.\n",
      "[NeMo W 2022-05-12 01:52:45 tts_tokenizers:351] Text: [EH1S wird behandelt wie AY1N DAH1M­MIY1­JHAH1N­JHEH1N­STRAY1K.] contains unknown char/phoneme: [­]. Original text: [Es wird behandelt wie ein Dum­me­jun­gen­streich.]. Symbol will be skipped.\n",
      "[NeMo W 2022-05-12 01:52:45 tts_tokenizers:351] Text: [EH1S wird behandelt wie AY1N DAH1M­MIY1­JHAH1N­JHEH1N­STRAY1K.] contains unknown char/phoneme: [­]. Original text: [Es wird behandelt wie ein Dum­me­jun­gen­streich.]. Symbol will be skipped.\n"
     ]
    },
    {
     "name": "stdout",
     "output_type": "stream",
     "text": [
      "/github/datasets/openslr-95-german-neutral-tts/synmels_r3_149_difflen/test/mel_1032.npy\n",
      "/github/datasets/openslr-95-german-neutral-tts/synmels_r3_149_difflen/test/mel_1033.npy\n",
      "/github/datasets/openslr-95-german-neutral-tts/synmels_r3_149_difflen/test/mel_1034.npy\n",
      "/github/datasets/openslr-95-german-neutral-tts/synmels_r3_149_difflen/test/mel_1035.npy\n",
      "/github/datasets/openslr-95-german-neutral-tts/synmels_r3_149_difflen/test/mel_1036.npy\n",
      "/github/datasets/openslr-95-german-neutral-tts/synmels_r3_149_difflen/test/mel_1037.npy\n",
      "/github/datasets/openslr-95-german-neutral-tts/synmels_r3_149_difflen/test/mel_1038.npy\n",
      "/github/datasets/openslr-95-german-neutral-tts/synmels_r3_149_difflen/test/mel_1039.npy\n",
      "/github/datasets/openslr-95-german-neutral-tts/synmels_r3_149_difflen/test/mel_1040.npy\n",
      "/github/datasets/openslr-95-german-neutral-tts/synmels_r3_149_difflen/test/mel_1041.npy\n"
     ]
    },
    {
     "name": "stderr",
     "output_type": "stream",
     "text": [
      "[NeMo W 2022-05-12 01:52:46 tts_tokenizers:351] Text: [BAY1M abgießEH1N DAY1 kulinarischen spezialitaten aussortieren.] contains unknown char/phoneme: [ß]. Original text: [Beim Abgießen die kulinarischen Spezialitaten aussortieren.]. Symbol will be skipped.\n"
     ]
    },
    {
     "name": "stdout",
     "output_type": "stream",
     "text": [
      "/github/datasets/openslr-95-german-neutral-tts/synmels_r3_149_difflen/test/mel_1042.npy\n",
      "/github/datasets/openslr-95-german-neutral-tts/synmels_r3_149_difflen/test/mel_1043.npy\n",
      "/github/datasets/openslr-95-german-neutral-tts/synmels_r3_149_difflen/test/mel_1044.npy\n",
      "/github/datasets/openslr-95-german-neutral-tts/synmels_r3_149_difflen/test/mel_1045.npy\n",
      "/github/datasets/openslr-95-german-neutral-tts/synmels_r3_149_difflen/test/mel_1046.npy\n",
      "/github/datasets/openslr-95-german-neutral-tts/synmels_r3_149_difflen/test/mel_1047.npy\n",
      "/github/datasets/openslr-95-german-neutral-tts/synmels_r3_149_difflen/test/mel_1048.npy\n",
      "/github/datasets/openslr-95-german-neutral-tts/synmels_r3_149_difflen/test/mel_1049.npy\n",
      "/github/datasets/openslr-95-german-neutral-tts/synmels_r3_149_difflen/test/mel_1050.npy\n",
      "/github/datasets/openslr-95-german-neutral-tts/synmels_r3_149_difflen/test/mel_1051.npy\n"
     ]
    },
    {
     "name": "stderr",
     "output_type": "stream",
     "text": [
      "[NeMo W 2022-05-12 01:52:46 tts_tokenizers:351] Text: [manche studenten muss IH1CH NUH1R einmal KER1Z angucken AH1ND WEY1ß sofort, was SIY1 studieren.] contains unknown char/phoneme: [ß]. Original text: [Manche Studenten muss ich nur einmal kurz angucken und weiß sofort, was sie studieren.]. Symbol will be skipped.\n"
     ]
    },
    {
     "name": "stdout",
     "output_type": "stream",
     "text": [
      "/github/datasets/openslr-95-german-neutral-tts/synmels_r3_149_difflen/test/mel_1052.npy\n",
      "/github/datasets/openslr-95-german-neutral-tts/synmels_r3_149_difflen/test/mel_1053.npy\n",
      "/github/datasets/openslr-95-german-neutral-tts/synmels_r3_149_difflen/test/mel_1054.npy\n",
      "/github/datasets/openslr-95-german-neutral-tts/synmels_r3_149_difflen/test/mel_1055.npy\n",
      "/github/datasets/openslr-95-german-neutral-tts/synmels_r3_149_difflen/test/mel_1056.npy\n",
      "/github/datasets/openslr-95-german-neutral-tts/synmels_r3_149_difflen/test/mel_1057.npy\n",
      "/github/datasets/openslr-95-german-neutral-tts/synmels_r3_149_difflen/test/mel_1058.npy\n",
      "/github/datasets/openslr-95-german-neutral-tts/synmels_r3_149_difflen/test/mel_1059.npy\n",
      "/github/datasets/openslr-95-german-neutral-tts/synmels_r3_149_difflen/test/mel_1060.npy\n",
      "/github/datasets/openslr-95-german-neutral-tts/synmels_r3_149_difflen/test/mel_1061.npy\n"
     ]
    },
    {
     "name": "stderr",
     "output_type": "stream",
     "text": [
      "[NeMo W 2022-05-12 01:52:46 tts_tokenizers:351] Text: [beamte braucht MAE1N zur durchsetzung hoheitlicher MAA1ßnahmen.] contains unknown char/phoneme: [ß]. Original text: [Beamte braucht man zur Durchsetzung hoheitlicher Maßnahmen.]. Symbol will be skipped.\n"
     ]
    },
    {
     "name": "stdout",
     "output_type": "stream",
     "text": [
      "/github/datasets/openslr-95-german-neutral-tts/synmels_r3_149_difflen/test/mel_1062.npy\n",
      "/github/datasets/openslr-95-german-neutral-tts/synmels_r3_149_difflen/test/mel_1063.npy\n",
      "/github/datasets/openslr-95-german-neutral-tts/synmels_r3_149_difflen/test/mel_1064.npy\n",
      "/github/datasets/openslr-95-german-neutral-tts/synmels_r3_149_difflen/test/mel_1065.npy\n",
      "/github/datasets/openslr-95-german-neutral-tts/synmels_r3_149_difflen/test/mel_1066.npy\n",
      "/github/datasets/openslr-95-german-neutral-tts/synmels_r3_149_difflen/test/mel_1067.npy\n",
      "/github/datasets/openslr-95-german-neutral-tts/synmels_r3_149_difflen/test/mel_1068.npy\n",
      "/github/datasets/openslr-95-german-neutral-tts/synmels_r3_149_difflen/test/mel_1069.npy\n",
      "/github/datasets/openslr-95-german-neutral-tts/synmels_r3_149_difflen/test/mel_1070.npy\n",
      "/github/datasets/openslr-95-german-neutral-tts/synmels_r3_149_difflen/test/mel_1071.npy\n",
      "/github/datasets/openslr-95-german-neutral-tts/synmels_r3_149_difflen/test/mel_1072.npy\n",
      "/github/datasets/openslr-95-german-neutral-tts/synmels_r3_149_difflen/test/mel_1073.npy\n",
      "/github/datasets/openslr-95-german-neutral-tts/synmels_r3_149_difflen/test/mel_1074.npy\n",
      "/github/datasets/openslr-95-german-neutral-tts/synmels_r3_149_difflen/test/mel_1075.npy\n",
      "/github/datasets/openslr-95-german-neutral-tts/synmels_r3_149_difflen/test/mel_1076.npy\n",
      "/github/datasets/openslr-95-german-neutral-tts/synmels_r3_149_difflen/test/mel_1077.npy\n",
      "/github/datasets/openslr-95-german-neutral-tts/synmels_r3_149_difflen/test/mel_1078.npy\n",
      "/github/datasets/openslr-95-german-neutral-tts/synmels_r3_149_difflen/test/mel_1079.npy\n",
      "/github/datasets/openslr-95-german-neutral-tts/synmels_r3_149_difflen/test/mel_1080.npy\n",
      "/github/datasets/openslr-95-german-neutral-tts/synmels_r3_149_difflen/test/mel_1081.npy\n",
      "/github/datasets/openslr-95-german-neutral-tts/synmels_r3_149_difflen/test/mel_1082.npy\n",
      "/github/datasets/openslr-95-german-neutral-tts/synmels_r3_149_difflen/test/mel_1083.npy\n",
      "/github/datasets/openslr-95-german-neutral-tts/synmels_r3_149_difflen/test/mel_1084.npy\n",
      "/github/datasets/openslr-95-german-neutral-tts/synmels_r3_149_difflen/test/mel_1085.npy\n",
      "/github/datasets/openslr-95-german-neutral-tts/synmels_r3_149_difflen/test/mel_1086.npy\n",
      "/github/datasets/openslr-95-german-neutral-tts/synmels_r3_149_difflen/test/mel_1087.npy\n",
      "/github/datasets/openslr-95-german-neutral-tts/synmels_r3_149_difflen/test/mel_1088.npy\n",
      "/github/datasets/openslr-95-german-neutral-tts/synmels_r3_149_difflen/test/mel_1089.npy\n",
      "/github/datasets/openslr-95-german-neutral-tts/synmels_r3_149_difflen/test/mel_1090.npy\n",
      "/github/datasets/openslr-95-german-neutral-tts/synmels_r3_149_difflen/test/mel_1091.npy\n",
      "/github/datasets/openslr-95-german-neutral-tts/synmels_r3_149_difflen/test/mel_1092.npy\n",
      "/github/datasets/openslr-95-german-neutral-tts/synmels_r3_149_difflen/test/mel_1093.npy\n",
      "/github/datasets/openslr-95-german-neutral-tts/synmels_r3_149_difflen/test/mel_1094.npy\n",
      "/github/datasets/openslr-95-german-neutral-tts/synmels_r3_149_difflen/test/mel_1095.npy\n",
      "/github/datasets/openslr-95-german-neutral-tts/synmels_r3_149_difflen/test/mel_1096.npy\n",
      "/github/datasets/openslr-95-german-neutral-tts/synmels_r3_149_difflen/test/mel_1097.npy\n"
     ]
    },
    {
     "name": "stderr",
     "output_type": "stream",
     "text": [
      "[NeMo W 2022-05-12 01:52:47 tts_tokenizers:351] Text: [MAE1N konnte MAY1NAH0N in DER1 bauordnung WEH1RAH0N WEY1ßIY1 HHAW1ZER0 vorgeschrieben gewesen.] contains unknown char/phoneme: [ß]. Original text: [Man konnte meinen in der Bauordnung waren weiße Hauser vorgeschrieben gewesen.]. Symbol will be skipped.\n"
     ]
    },
    {
     "name": "stdout",
     "output_type": "stream",
     "text": [
      "/github/datasets/openslr-95-german-neutral-tts/synmels_r3_149_difflen/test/mel_1098.npy\n",
      "/github/datasets/openslr-95-german-neutral-tts/synmels_r3_149_difflen/test/mel_1099.npy\n",
      "/github/datasets/openslr-95-german-neutral-tts/synmels_r3_149_difflen/test/mel_1100.npy\n",
      "/github/datasets/openslr-95-german-neutral-tts/synmels_r3_149_difflen/test/mel_1101.npy\n",
      "/github/datasets/openslr-95-german-neutral-tts/synmels_r3_149_difflen/test/mel_1102.npy\n",
      "/github/datasets/openslr-95-german-neutral-tts/synmels_r3_149_difflen/test/mel_1103.npy\n",
      "/github/datasets/openslr-95-german-neutral-tts/synmels_r3_149_difflen/test/mel_1104.npy\n",
      "/github/datasets/openslr-95-german-neutral-tts/synmels_r3_149_difflen/test/mel_1105.npy\n",
      "/github/datasets/openslr-95-german-neutral-tts/synmels_r3_149_difflen/test/mel_1106.npy\n",
      "/github/datasets/openslr-95-german-neutral-tts/synmels_r3_149_difflen/test/mel_1107.npy\n",
      "/github/datasets/openslr-95-german-neutral-tts/synmels_r3_149_difflen/test/mel_1108.npy\n",
      "/github/datasets/openslr-95-german-neutral-tts/synmels_r3_149_difflen/test/mel_1109.npy\n",
      "/github/datasets/openslr-95-german-neutral-tts/synmels_r3_149_difflen/test/mel_1110.npy\n",
      "/github/datasets/openslr-95-german-neutral-tts/synmels_r3_149_difflen/test/mel_1111.npy\n",
      "/github/datasets/openslr-95-german-neutral-tts/synmels_r3_149_difflen/test/mel_1112.npy\n",
      "/github/datasets/openslr-95-german-neutral-tts/synmels_r3_149_difflen/test/mel_1113.npy\n",
      "/github/datasets/openslr-95-german-neutral-tts/synmels_r3_149_difflen/test/mel_1114.npy\n",
      "/github/datasets/openslr-95-german-neutral-tts/synmels_r3_149_difflen/test/mel_1115.npy\n",
      "/github/datasets/openslr-95-german-neutral-tts/synmels_r3_149_difflen/test/mel_1116.npy\n",
      "/github/datasets/openslr-95-german-neutral-tts/synmels_r3_149_difflen/test/mel_1117.npy\n",
      "/github/datasets/openslr-95-german-neutral-tts/synmels_r3_149_difflen/test/mel_1118.npy\n",
      "/github/datasets/openslr-95-german-neutral-tts/synmels_r3_149_difflen/test/mel_1119.npy\n",
      "/github/datasets/openslr-95-german-neutral-tts/synmels_r3_149_difflen/test/mel_1120.npy\n",
      "/github/datasets/openslr-95-german-neutral-tts/synmels_r3_149_difflen/test/mel_1121.npy\n",
      "/github/datasets/openslr-95-german-neutral-tts/synmels_r3_149_difflen/test/mel_1122.npy\n",
      "/github/datasets/openslr-95-german-neutral-tts/synmels_r3_149_difflen/test/mel_1123.npy\n",
      "/github/datasets/openslr-95-german-neutral-tts/synmels_r3_149_difflen/test/mel_1124.npy\n",
      "/github/datasets/openslr-95-german-neutral-tts/synmels_r3_149_difflen/test/mel_1125.npy\n",
      "/github/datasets/openslr-95-german-neutral-tts/synmels_r3_149_difflen/test/mel_1126.npy\n",
      "/github/datasets/openslr-95-german-neutral-tts/synmels_r3_149_difflen/test/mel_1127.npy\n",
      "/github/datasets/openslr-95-german-neutral-tts/synmels_r3_149_difflen/test/mel_1128.npy\n",
      "/github/datasets/openslr-95-german-neutral-tts/synmels_r3_149_difflen/test/mel_1129.npy\n",
      "/github/datasets/openslr-95-german-neutral-tts/synmels_r3_149_difflen/test/mel_1130.npy\n",
      "/github/datasets/openslr-95-german-neutral-tts/synmels_r3_149_difflen/test/mel_1131.npy\n",
      "/github/datasets/openslr-95-german-neutral-tts/synmels_r3_149_difflen/test/mel_1132.npy\n",
      "/github/datasets/openslr-95-german-neutral-tts/synmels_r3_149_difflen/test/mel_1133.npy\n",
      "/github/datasets/openslr-95-german-neutral-tts/synmels_r3_149_difflen/test/mel_1134.npy\n",
      "/github/datasets/openslr-95-german-neutral-tts/synmels_r3_149_difflen/test/mel_1135.npy\n",
      "/github/datasets/openslr-95-german-neutral-tts/synmels_r3_149_difflen/test/mel_1136.npy\n",
      "/github/datasets/openslr-95-german-neutral-tts/synmels_r3_149_difflen/test/mel_1137.npy\n"
     ]
    },
    {
     "name": "stderr",
     "output_type": "stream",
     "text": [
      "[NeMo W 2022-05-12 01:52:48 tts_tokenizers:351] Text: [das ist zu WEH1NIH0G backpapier FER1 das GROW1ßIY1 backblech.] contains unknown char/phoneme: [ß]. Original text: [Das ist zu wenig Backpapier fur das große Backblech.]. Symbol will be skipped.\n"
     ]
    },
    {
     "name": "stdout",
     "output_type": "stream",
     "text": [
      "/github/datasets/openslr-95-german-neutral-tts/synmels_r3_149_difflen/test/mel_1138.npy\n",
      "/github/datasets/openslr-95-german-neutral-tts/synmels_r3_149_difflen/test/mel_1139.npy\n",
      "/github/datasets/openslr-95-german-neutral-tts/synmels_r3_149_difflen/test/mel_1140.npy\n",
      "/github/datasets/openslr-95-german-neutral-tts/synmels_r3_149_difflen/test/mel_1141.npy\n",
      "/github/datasets/openslr-95-german-neutral-tts/synmels_r3_149_difflen/test/mel_1142.npy\n",
      "/github/datasets/openslr-95-german-neutral-tts/synmels_r3_149_difflen/test/mel_1143.npy\n",
      "/github/datasets/openslr-95-german-neutral-tts/synmels_r3_149_difflen/test/mel_1144.npy\n",
      "/github/datasets/openslr-95-german-neutral-tts/synmels_r3_149_difflen/test/mel_1145.npy\n",
      "/github/datasets/openslr-95-german-neutral-tts/synmels_r3_149_difflen/test/mel_1146.npy\n",
      "/github/datasets/openslr-95-german-neutral-tts/synmels_r3_149_difflen/test/mel_1147.npy\n",
      "/github/datasets/openslr-95-german-neutral-tts/synmels_r3_149_difflen/test/mel_1148.npy\n",
      "/github/datasets/openslr-95-german-neutral-tts/synmels_r3_149_difflen/test/mel_1149.npy\n",
      "/github/datasets/openslr-95-german-neutral-tts/synmels_r3_149_difflen/test/mel_1150.npy\n",
      "/github/datasets/openslr-95-german-neutral-tts/synmels_r3_149_difflen/test/mel_1151.npy\n",
      "/github/datasets/openslr-95-german-neutral-tts/synmels_r3_149_difflen/test/mel_1152.npy\n",
      "/github/datasets/openslr-95-german-neutral-tts/synmels_r3_149_difflen/test/mel_1153.npy\n",
      "/github/datasets/openslr-95-german-neutral-tts/synmels_r3_149_difflen/test/mel_1154.npy\n",
      "/github/datasets/openslr-95-german-neutral-tts/synmels_r3_149_difflen/test/mel_1155.npy\n",
      "/github/datasets/openslr-95-german-neutral-tts/synmels_r3_149_difflen/test/mel_1156.npy\n",
      "/github/datasets/openslr-95-german-neutral-tts/synmels_r3_149_difflen/test/mel_1157.npy\n",
      "/github/datasets/openslr-95-german-neutral-tts/synmels_r3_149_difflen/test/mel_1158.npy\n"
     ]
    },
    {
     "name": "stderr",
     "output_type": "stream",
     "text": [
      "[NeMo W 2022-05-12 01:52:48 tts_tokenizers:351] Text: [zu DEH1N intellektuellen herausforderungen des autofahrens gehoren vorfahrtsrecht, reißverschlussverfahren AH1ND DAY1 bildung einer rettungsgasse.] contains unknown char/phoneme: [ß]. Original text: [Zu den intellektuellen Herausforderungen des Autofahrens gehoren Vorfahrtsrecht, Reißverschlussverfahren und die Bildung einer Rettungsgasse.]. Symbol will be skipped.\n"
     ]
    },
    {
     "name": "stdout",
     "output_type": "stream",
     "text": [
      "/github/datasets/openslr-95-german-neutral-tts/synmels_r3_149_difflen/test/mel_1159.npy\n",
      "/github/datasets/openslr-95-german-neutral-tts/synmels_r3_149_difflen/test/mel_1160.npy\n",
      "/github/datasets/openslr-95-german-neutral-tts/synmels_r3_149_difflen/test/mel_1161.npy\n",
      "/github/datasets/openslr-95-german-neutral-tts/synmels_r3_149_difflen/test/mel_1162.npy\n",
      "/github/datasets/openslr-95-german-neutral-tts/synmels_r3_149_difflen/test/mel_1163.npy\n",
      "/github/datasets/openslr-95-german-neutral-tts/synmels_r3_149_difflen/test/mel_1164.npy\n",
      "/github/datasets/openslr-95-german-neutral-tts/synmels_r3_149_difflen/test/mel_1165.npy\n",
      "/github/datasets/openslr-95-german-neutral-tts/synmels_r3_149_difflen/test/mel_1166.npy\n",
      "/github/datasets/openslr-95-german-neutral-tts/synmels_r3_149_difflen/test/mel_1167.npy\n",
      "/github/datasets/openslr-95-german-neutral-tts/synmels_r3_149_difflen/test/mel_1168.npy\n",
      "/github/datasets/openslr-95-german-neutral-tts/synmels_r3_149_difflen/test/mel_1169.npy\n"
     ]
    },
    {
     "name": "stderr",
     "output_type": "stream",
     "text": [
      "[NeMo W 2022-05-12 01:52:48 tts_tokenizers:351] Text: [AH1ND RAH1MZ, VAA1L auf DAY1 stoßSTAE1NJH!] contains unknown char/phoneme: [ß]. Original text: [Und rums, voll auf die Stoßstange!]. Symbol will be skipped.\n"
     ]
    },
    {
     "name": "stdout",
     "output_type": "stream",
     "text": [
      "/github/datasets/openslr-95-german-neutral-tts/synmels_r3_149_difflen/test/mel_1170.npy\n",
      "/github/datasets/openslr-95-german-neutral-tts/synmels_r3_149_difflen/test/mel_1171.npy\n",
      "/github/datasets/openslr-95-german-neutral-tts/synmels_r3_149_difflen/test/mel_1172.npy\n",
      "/github/datasets/openslr-95-german-neutral-tts/synmels_r3_149_difflen/test/mel_1173.npy\n",
      "/github/datasets/openslr-95-german-neutral-tts/synmels_r3_149_difflen/test/mel_1174.npy\n",
      "/github/datasets/openslr-95-german-neutral-tts/synmels_r3_149_difflen/test/mel_1175.npy\n",
      "/github/datasets/openslr-95-german-neutral-tts/synmels_r3_149_difflen/test/mel_1176.npy\n",
      "/github/datasets/openslr-95-german-neutral-tts/synmels_r3_149_difflen/test/mel_1177.npy\n",
      "/github/datasets/openslr-95-german-neutral-tts/synmels_r3_149_difflen/test/mel_1178.npy\n",
      "/github/datasets/openslr-95-german-neutral-tts/synmels_r3_149_difflen/test/mel_1179.npy\n",
      "/github/datasets/openslr-95-german-neutral-tts/synmels_r3_149_difflen/test/mel_1180.npy\n",
      "/github/datasets/openslr-95-german-neutral-tts/synmels_r3_149_difflen/test/mel_1181.npy\n",
      "/github/datasets/openslr-95-german-neutral-tts/synmels_r3_149_difflen/test/mel_1182.npy\n",
      "/github/datasets/openslr-95-german-neutral-tts/synmels_r3_149_difflen/test/mel_1183.npy\n",
      "/github/datasets/openslr-95-german-neutral-tts/synmels_r3_149_difflen/test/mel_1184.npy\n",
      "/github/datasets/openslr-95-german-neutral-tts/synmels_r3_149_difflen/test/mel_1185.npy\n",
      "/github/datasets/openslr-95-german-neutral-tts/synmels_r3_149_difflen/test/mel_1186.npy\n",
      "/github/datasets/openslr-95-german-neutral-tts/synmels_r3_149_difflen/test/mel_1187.npy\n",
      "/github/datasets/openslr-95-german-neutral-tts/synmels_r3_149_difflen/test/mel_1188.npy\n",
      "/github/datasets/openslr-95-german-neutral-tts/synmels_r3_149_difflen/test/mel_1189.npy\n"
     ]
    },
    {
     "name": "stderr",
     "output_type": "stream",
     "text": [
      "[NeMo W 2022-05-12 01:52:49 tts_tokenizers:351] Text: [solches verhalten konnte AE1LZ anstoßig angesehen WER1DAH0N.] contains unknown char/phoneme: [ß]. Original text: [Solches Verhalten konnte als anstoßig angesehen werden.]. Symbol will be skipped.\n"
     ]
    },
    {
     "name": "stdout",
     "output_type": "stream",
     "text": [
      "/github/datasets/openslr-95-german-neutral-tts/synmels_r3_149_difflen/test/mel_1190.npy\n",
      "/github/datasets/openslr-95-german-neutral-tts/synmels_r3_149_difflen/test/mel_1191.npy\n",
      "/github/datasets/openslr-95-german-neutral-tts/synmels_r3_149_difflen/test/mel_1192.npy\n",
      "/github/datasets/openslr-95-german-neutral-tts/synmels_r3_149_difflen/test/mel_1193.npy\n",
      "/github/datasets/openslr-95-german-neutral-tts/synmels_r3_149_difflen/test/mel_1194.npy\n",
      "/github/datasets/openslr-95-german-neutral-tts/synmels_r3_149_difflen/test/mel_1195.npy\n",
      "/github/datasets/openslr-95-german-neutral-tts/synmels_r3_149_difflen/test/mel_1196.npy\n",
      "/github/datasets/openslr-95-german-neutral-tts/synmels_r3_149_difflen/test/mel_1197.npy\n",
      "/github/datasets/openslr-95-german-neutral-tts/synmels_r3_149_difflen/test/mel_1198.npy\n"
     ]
    },
    {
     "name": "stderr",
     "output_type": "stream",
     "text": [
      "[NeMo W 2022-05-12 01:52:49 tts_tokenizers:351] Text: [wie ist das barfußlaufen AW1Z orthopadischer sicht zu beurteilen?] contains unknown char/phoneme: [ß]. Original text: [Wie ist das Barfußlaufen aus orthopadischer Sicht zu beurteilen?]. Symbol will be skipped.\n"
     ]
    },
    {
     "name": "stdout",
     "output_type": "stream",
     "text": [
      "/github/datasets/openslr-95-german-neutral-tts/synmels_r3_149_difflen/test/mel_1199.npy\n",
      "/github/datasets/openslr-95-german-neutral-tts/synmels_r3_149_difflen/test/mel_1200.npy\n",
      "/github/datasets/openslr-95-german-neutral-tts/synmels_r3_149_difflen/test/mel_1201.npy\n",
      "/github/datasets/openslr-95-german-neutral-tts/synmels_r3_149_difflen/test/mel_1202.npy\n",
      "/github/datasets/openslr-95-german-neutral-tts/synmels_r3_149_difflen/test/mel_1203.npy\n",
      "/github/datasets/openslr-95-german-neutral-tts/synmels_r3_149_difflen/test/mel_1204.npy\n",
      "/github/datasets/openslr-95-german-neutral-tts/synmels_r3_149_difflen/test/mel_1205.npy\n",
      "/github/datasets/openslr-95-german-neutral-tts/synmels_r3_149_difflen/test/mel_1206.npy\n",
      "/github/datasets/openslr-95-german-neutral-tts/synmels_r3_149_difflen/test/mel_1207.npy\n",
      "/github/datasets/openslr-95-german-neutral-tts/synmels_r3_149_difflen/test/mel_1208.npy\n"
     ]
    },
    {
     "name": "stderr",
     "output_type": "stream",
     "text": [
      "[NeMo W 2022-05-12 01:52:49 tts_tokenizers:351] Text: [bekanntermaßEH1N ist das in horrorfilmen immer eine gute idee.] contains unknown char/phoneme: [ß]. Original text: [Bekanntermaßen ist das in Horrorfilmen immer eine gute Idee.]. Symbol will be skipped.\n"
     ]
    },
    {
     "name": "stdout",
     "output_type": "stream",
     "text": [
      "/github/datasets/openslr-95-german-neutral-tts/synmels_r3_149_difflen/test/mel_1209.npy\n",
      "/github/datasets/openslr-95-german-neutral-tts/synmels_r3_149_difflen/test/mel_1210.npy\n",
      "/github/datasets/openslr-95-german-neutral-tts/synmels_r3_149_difflen/test/mel_1211.npy\n",
      "/github/datasets/openslr-95-german-neutral-tts/synmels_r3_149_difflen/test/mel_1212.npy\n",
      "/github/datasets/openslr-95-german-neutral-tts/synmels_r3_149_difflen/test/mel_1213.npy\n",
      "/github/datasets/openslr-95-german-neutral-tts/synmels_r3_149_difflen/test/mel_1214.npy\n",
      "/github/datasets/openslr-95-german-neutral-tts/synmels_r3_149_difflen/test/mel_1215.npy\n",
      "/github/datasets/openslr-95-german-neutral-tts/synmels_r3_149_difflen/test/mel_1216.npy\n",
      "/github/datasets/openslr-95-german-neutral-tts/synmels_r3_149_difflen/test/mel_1217.npy\n",
      "/github/datasets/openslr-95-german-neutral-tts/synmels_r3_149_difflen/test/mel_1218.npy\n"
     ]
    },
    {
     "name": "stderr",
     "output_type": "stream",
     "text": [
      "[NeMo W 2022-05-12 01:52:49 tts_tokenizers:351] Text: [bei DER1 BAE1N KAE1N MAE1N SAY1N LEH1BAH0N in vollen zugen JHIY1NIY0ßEH1N.] contains unknown char/phoneme: [ß]. Original text: [Bei der Bahn kann man sein Leben in vollen Zugen genießen.]. Symbol will be skipped.\n"
     ]
    },
    {
     "name": "stdout",
     "output_type": "stream",
     "text": [
      "/github/datasets/openslr-95-german-neutral-tts/synmels_r3_149_difflen/test/mel_1219.npy\n",
      "/github/datasets/openslr-95-german-neutral-tts/synmels_r3_149_difflen/test/mel_1220.npy\n",
      "/github/datasets/openslr-95-german-neutral-tts/synmels_r3_149_difflen/test/mel_1221.npy\n",
      "/github/datasets/openslr-95-german-neutral-tts/synmels_r3_149_difflen/test/mel_1222.npy\n",
      "/github/datasets/openslr-95-german-neutral-tts/synmels_r3_149_difflen/test/mel_1223.npy\n",
      "/github/datasets/openslr-95-german-neutral-tts/synmels_r3_149_difflen/test/mel_1224.npy\n"
     ]
    },
    {
     "name": "stderr",
     "output_type": "stream",
     "text": [
      "[NeMo W 2022-05-12 01:52:50 tts_tokenizers:351] Text: [DAY1 muritz ist DER1 GROW1ßTIY1 binnensee in MEH1KLAH0NBER0G vorpommern.] contains unknown char/phoneme: [ß]. Original text: [Die Muritz ist der großte Binnensee in Mecklenburg Vorpommern.]. Symbol will be skipped.\n"
     ]
    },
    {
     "name": "stdout",
     "output_type": "stream",
     "text": [
      "/github/datasets/openslr-95-german-neutral-tts/synmels_r3_149_difflen/test/mel_1225.npy\n",
      "/github/datasets/openslr-95-german-neutral-tts/synmels_r3_149_difflen/test/mel_1226.npy\n",
      "/github/datasets/openslr-95-german-neutral-tts/synmels_r3_149_difflen/test/mel_1227.npy\n",
      "/github/datasets/openslr-95-german-neutral-tts/synmels_r3_149_difflen/test/mel_1228.npy\n",
      "/github/datasets/openslr-95-german-neutral-tts/synmels_r3_149_difflen/test/mel_1229.npy\n",
      "/github/datasets/openslr-95-german-neutral-tts/synmels_r3_149_difflen/test/mel_1230.npy\n",
      "/github/datasets/openslr-95-german-neutral-tts/synmels_r3_149_difflen/test/mel_1231.npy\n",
      "/github/datasets/openslr-95-german-neutral-tts/synmels_r3_149_difflen/test/mel_1232.npy\n",
      "/github/datasets/openslr-95-german-neutral-tts/synmels_r3_149_difflen/test/mel_1233.npy\n",
      "/github/datasets/openslr-95-german-neutral-tts/synmels_r3_149_difflen/test/mel_1234.npy\n",
      "/github/datasets/openslr-95-german-neutral-tts/synmels_r3_149_difflen/test/mel_1235.npy\n",
      "/github/datasets/openslr-95-german-neutral-tts/synmels_r3_149_difflen/test/mel_1236.npy\n",
      "/github/datasets/openslr-95-german-neutral-tts/synmels_r3_149_difflen/test/mel_1237.npy\n",
      "/github/datasets/openslr-95-german-neutral-tts/synmels_r3_149_difflen/test/mel_1238.npy\n",
      "/github/datasets/openslr-95-german-neutral-tts/synmels_r3_149_difflen/test/mel_1239.npy\n",
      "/github/datasets/openslr-95-german-neutral-tts/synmels_r3_149_difflen/test/mel_1240.npy\n",
      "/github/datasets/openslr-95-german-neutral-tts/synmels_r3_149_difflen/test/mel_1241.npy\n",
      "/github/datasets/openslr-95-german-neutral-tts/synmels_r3_149_difflen/test/mel_1242.npy\n",
      "/github/datasets/openslr-95-german-neutral-tts/synmels_r3_149_difflen/test/mel_1243.npy\n",
      "/github/datasets/openslr-95-german-neutral-tts/synmels_r3_149_difflen/test/mel_1244.npy\n",
      "/github/datasets/openslr-95-german-neutral-tts/synmels_r3_149_difflen/test/mel_1245.npy\n",
      "/github/datasets/openslr-95-german-neutral-tts/synmels_r3_149_difflen/test/mel_1246.npy\n",
      "/github/datasets/openslr-95-german-neutral-tts/synmels_r3_149_difflen/test/mel_1247.npy\n",
      "/github/datasets/openslr-95-german-neutral-tts/synmels_r3_149_difflen/test/mel_1248.npy\n",
      "/github/datasets/openslr-95-german-neutral-tts/synmels_r3_149_difflen/test/mel_1249.npy\n",
      "/github/datasets/openslr-95-german-neutral-tts/synmels_r3_149_difflen/test/mel_1250.npy\n",
      "/github/datasets/openslr-95-german-neutral-tts/synmels_r3_149_difflen/test/mel_1251.npy\n",
      "/github/datasets/openslr-95-german-neutral-tts/synmels_r3_149_difflen/test/mel_1252.npy\n",
      "/github/datasets/openslr-95-german-neutral-tts/synmels_r3_149_difflen/test/mel_1253.npy\n",
      "/github/datasets/openslr-95-german-neutral-tts/synmels_r3_149_difflen/test/mel_1254.npy\n",
      "/github/datasets/openslr-95-german-neutral-tts/synmels_r3_149_difflen/test/mel_1255.npy\n",
      "/github/datasets/openslr-95-german-neutral-tts/synmels_r3_149_difflen/test/mel_1256.npy\n",
      "/github/datasets/openslr-95-german-neutral-tts/synmels_r3_149_difflen/test/mel_1257.npy\n",
      "/github/datasets/openslr-95-german-neutral-tts/synmels_r3_149_difflen/test/mel_1258.npy\n",
      "/github/datasets/openslr-95-german-neutral-tts/synmels_r3_149_difflen/test/mel_1259.npy\n",
      "/github/datasets/openslr-95-german-neutral-tts/synmels_r3_149_difflen/test/mel_1260.npy\n",
      "/github/datasets/openslr-95-german-neutral-tts/synmels_r3_149_difflen/test/mel_1261.npy\n",
      "/github/datasets/openslr-95-german-neutral-tts/synmels_r3_149_difflen/test/mel_1262.npy\n",
      "/github/datasets/openslr-95-german-neutral-tts/synmels_r3_149_difflen/test/mel_1263.npy\n",
      "/github/datasets/openslr-95-german-neutral-tts/synmels_r3_149_difflen/test/mel_1264.npy\n",
      "/github/datasets/openslr-95-german-neutral-tts/synmels_r3_149_difflen/test/mel_1265.npy\n",
      "/github/datasets/openslr-95-german-neutral-tts/synmels_r3_149_difflen/test/mel_1266.npy\n",
      "/github/datasets/openslr-95-german-neutral-tts/synmels_r3_149_difflen/test/mel_1267.npy\n",
      "/github/datasets/openslr-95-german-neutral-tts/synmels_r3_149_difflen/test/mel_1268.npy\n",
      "/github/datasets/openslr-95-german-neutral-tts/synmels_r3_149_difflen/test/mel_1269.npy\n",
      "/github/datasets/openslr-95-german-neutral-tts/synmels_r3_149_difflen/test/mel_1270.npy\n",
      "/github/datasets/openslr-95-german-neutral-tts/synmels_r3_149_difflen/test/mel_1271.npy\n",
      "/github/datasets/openslr-95-german-neutral-tts/synmels_r3_149_difflen/test/mel_1272.npy\n",
      "/github/datasets/openslr-95-german-neutral-tts/synmels_r3_149_difflen/test/mel_1273.npy\n",
      "/github/datasets/openslr-95-german-neutral-tts/synmels_r3_149_difflen/test/mel_1274.npy\n",
      "/github/datasets/openslr-95-german-neutral-tts/synmels_r3_149_difflen/test/mel_1275.npy\n",
      "/github/datasets/openslr-95-german-neutral-tts/synmels_r3_149_difflen/test/mel_1276.npy\n",
      "/github/datasets/openslr-95-german-neutral-tts/synmels_r3_149_difflen/test/mel_1277.npy\n",
      "/github/datasets/openslr-95-german-neutral-tts/synmels_r3_149_difflen/test/mel_1278.npy\n",
      "/github/datasets/openslr-95-german-neutral-tts/synmels_r3_149_difflen/test/mel_1279.npy\n",
      "/github/datasets/openslr-95-german-neutral-tts/synmels_r3_149_difflen/test/mel_1280.npy\n",
      "/github/datasets/openslr-95-german-neutral-tts/synmels_r3_149_difflen/test/mel_1281.npy\n",
      "/github/datasets/openslr-95-german-neutral-tts/synmels_r3_149_difflen/test/mel_1282.npy\n",
      "/github/datasets/openslr-95-german-neutral-tts/synmels_r3_149_difflen/test/mel_1283.npy\n",
      "/github/datasets/openslr-95-german-neutral-tts/synmels_r3_149_difflen/test/mel_1284.npy\n",
      "/github/datasets/openslr-95-german-neutral-tts/synmels_r3_149_difflen/test/mel_1285.npy\n"
     ]
    },
    {
     "name": "stderr",
     "output_type": "stream",
     "text": [
      "[NeMo W 2022-05-12 01:52:51 tts_tokenizers:351] Text: [OW1ßerdem WAO1R auffallig, DAE1S eine komplette zahnreihe fehlte.] contains unknown char/phoneme: [ß]. Original text: [Außerdem war auffallig, dass eine komplette Zahnreihe fehlte.]. Symbol will be skipped.\n",
      "[NeMo W 2022-05-12 01:52:51 tts_tokenizers:351] Text: [AO1CH unbegrundet – ohne frage – ist HHAY1ER0 DAY1 unterlassungsklage.] contains unknown char/phoneme: [–]. Original text: [Auch unbegrundet – ohne Frage – ist hier die Unterlassungsklage.]. Symbol will be skipped.\n",
      "[NeMo W 2022-05-12 01:52:51 tts_tokenizers:351] Text: [AO1CH unbegrundet – ohne frage – ist HHAY1ER0 DAY1 unterlassungsklage.] contains unknown char/phoneme: [–]. Original text: [Auch unbegrundet – ohne Frage – ist hier die Unterlassungsklage.]. Symbol will be skipped.\n"
     ]
    },
    {
     "name": "stdout",
     "output_type": "stream",
     "text": [
      "/github/datasets/openslr-95-german-neutral-tts/synmels_r3_149_difflen/test/mel_1286.npy\n",
      "/github/datasets/openslr-95-german-neutral-tts/synmels_r3_149_difflen/test/mel_1287.npy\n",
      "/github/datasets/openslr-95-german-neutral-tts/synmels_r3_149_difflen/test/mel_1288.npy\n",
      "/github/datasets/openslr-95-german-neutral-tts/synmels_r3_149_difflen/test/mel_1289.npy\n",
      "/github/datasets/openslr-95-german-neutral-tts/synmels_r3_149_difflen/test/mel_1290.npy\n",
      "/github/datasets/openslr-95-german-neutral-tts/synmels_r3_149_difflen/test/mel_1291.npy\n",
      "/github/datasets/openslr-95-german-neutral-tts/synmels_r3_149_difflen/test/mel_1292.npy\n",
      "/github/datasets/openslr-95-german-neutral-tts/synmels_r3_149_difflen/test/mel_1293.npy\n",
      "/github/datasets/openslr-95-german-neutral-tts/synmels_r3_149_difflen/test/mel_1294.npy\n",
      "/github/datasets/openslr-95-german-neutral-tts/synmels_r3_149_difflen/test/mel_1295.npy\n",
      "/github/datasets/openslr-95-german-neutral-tts/synmels_r3_149_difflen/test/mel_1296.npy\n",
      "/github/datasets/openslr-95-german-neutral-tts/synmels_r3_149_difflen/test/mel_1297.npy\n",
      "/github/datasets/openslr-95-german-neutral-tts/synmels_r3_149_difflen/test/mel_1298.npy\n",
      "/github/datasets/openslr-95-german-neutral-tts/synmels_r3_149_difflen/test/mel_1299.npy\n",
      "/github/datasets/openslr-95-german-neutral-tts/synmels_r3_149_difflen/test/mel_1300.npy\n",
      "/github/datasets/openslr-95-german-neutral-tts/synmels_r3_149_difflen/test/mel_1301.npy\n",
      "/github/datasets/openslr-95-german-neutral-tts/synmels_r3_149_difflen/test/mel_1302.npy\n",
      "/github/datasets/openslr-95-german-neutral-tts/synmels_r3_149_difflen/test/mel_1303.npy\n",
      "/github/datasets/openslr-95-german-neutral-tts/synmels_r3_149_difflen/test/mel_1304.npy\n"
     ]
    },
    {
     "name": "stderr",
     "output_type": "stream",
     "text": [
      "[NeMo W 2022-05-12 01:52:52 tts_tokenizers:351] Text: [kontrollierst du regelmaßig deine kontoauszuge?] contains unknown char/phoneme: [ß]. Original text: [Kontrollierst du regelmaßig deine Kontoauszuge?]. Symbol will be skipped.\n"
     ]
    },
    {
     "name": "stdout",
     "output_type": "stream",
     "text": [
      "/github/datasets/openslr-95-german-neutral-tts/synmels_r3_149_difflen/test/mel_1305.npy\n",
      "/github/datasets/openslr-95-german-neutral-tts/synmels_r3_149_difflen/test/mel_1306.npy\n",
      "/github/datasets/openslr-95-german-neutral-tts/synmels_r3_149_difflen/test/mel_1307.npy\n",
      "/github/datasets/openslr-95-german-neutral-tts/synmels_r3_149_difflen/test/mel_1308.npy\n",
      "/github/datasets/openslr-95-german-neutral-tts/synmels_r3_149_difflen/test/mel_1309.npy\n",
      "/github/datasets/openslr-95-german-neutral-tts/synmels_r3_149_difflen/test/mel_1310.npy\n",
      "/github/datasets/openslr-95-german-neutral-tts/synmels_r3_149_difflen/test/mel_1311.npy\n",
      "/github/datasets/openslr-95-german-neutral-tts/synmels_r3_149_difflen/test/mel_1312.npy\n",
      "/github/datasets/openslr-95-german-neutral-tts/synmels_r3_149_difflen/test/mel_1313.npy\n",
      "/github/datasets/openslr-95-german-neutral-tts/synmels_r3_149_difflen/test/mel_1314.npy\n"
     ]
    },
    {
     "name": "stderr",
     "output_type": "stream",
     "text": [
      "[NeMo W 2022-05-12 01:52:52 tts_tokenizers:351] Text: [DOY1CHLAE0ND arbeitet daran GAE1NZ intensiv mit, AH1ND das wird AO1CH einen GROW1ßEH1N teil unserer gesprache mit dem turkischen ministerprasidenten einnehmen.] contains unknown char/phoneme: [ß]. Original text: [Deutschland arbeitet daran ganz intensiv mit, und das wird auch einen großen Teil unserer Gesprache mit dem turkischen Ministerprasidenten einnehmen.]. Symbol will be skipped.\n"
     ]
    },
    {
     "name": "stdout",
     "output_type": "stream",
     "text": [
      "/github/datasets/openslr-95-german-neutral-tts/synmels_r3_149_difflen/test/mel_1315.npy\n",
      "/github/datasets/openslr-95-german-neutral-tts/synmels_r3_149_difflen/test/mel_1316.npy\n",
      "/github/datasets/openslr-95-german-neutral-tts/synmels_r3_149_difflen/test/mel_1317.npy\n",
      "/github/datasets/openslr-95-german-neutral-tts/synmels_r3_149_difflen/test/mel_1318.npy\n",
      "/github/datasets/openslr-95-german-neutral-tts/synmels_r3_149_difflen/test/mel_1319.npy\n",
      "/github/datasets/openslr-95-german-neutral-tts/synmels_r3_149_difflen/test/mel_1320.npy\n",
      "/github/datasets/openslr-95-german-neutral-tts/synmels_r3_149_difflen/test/mel_1321.npy\n",
      "/github/datasets/openslr-95-german-neutral-tts/synmels_r3_149_difflen/test/mel_1322.npy\n"
     ]
    },
    {
     "name": "stderr",
     "output_type": "stream",
     "text": [
      "[NeMo W 2022-05-12 01:52:52 tts_tokenizers:351] Text: [kaurismakis filme thematisieren haufig schicksale VAO1N gesellschaftlichen OW1ßenseitern in stadtischen zentren wie HHEH1LSIH0NGKIY0.] contains unknown char/phoneme: [ß]. Original text: [Kaurismakis Filme thematisieren haufig Schicksale von gesellschaftlichen Außenseitern in stadtischen Zentren wie Helsinki.]. Symbol will be skipped.\n",
      "[NeMo W 2022-05-12 01:52:52 tts_tokenizers:351] Text: [OW1ßerdem mochte IH1CH alle autoren BIH1TAH0N, wenigstens eine automatische rechtschreibprufung zu benutzen.] contains unknown char/phoneme: [ß]. Original text: [Außerdem mochte ich alle Autoren bitten, wenigstens eine automatische Rechtschreibprufung zu benutzen.]. Symbol will be skipped.\n"
     ]
    },
    {
     "name": "stdout",
     "output_type": "stream",
     "text": [
      "/github/datasets/openslr-95-german-neutral-tts/synmels_r3_149_difflen/test/mel_1323.npy\n",
      "/github/datasets/openslr-95-german-neutral-tts/synmels_r3_149_difflen/test/mel_1324.npy\n",
      "/github/datasets/openslr-95-german-neutral-tts/synmels_r3_149_difflen/test/mel_1325.npy\n",
      "/github/datasets/openslr-95-german-neutral-tts/synmels_r3_149_difflen/test/mel_1326.npy\n",
      "/github/datasets/openslr-95-german-neutral-tts/synmels_r3_149_difflen/test/mel_1327.npy\n",
      "/github/datasets/openslr-95-german-neutral-tts/synmels_r3_149_difflen/test/mel_1328.npy\n",
      "/github/datasets/openslr-95-german-neutral-tts/synmels_r3_149_difflen/test/mel_1329.npy\n",
      "/github/datasets/openslr-95-german-neutral-tts/synmels_r3_149_difflen/test/mel_1330.npy\n",
      "/github/datasets/openslr-95-german-neutral-tts/synmels_r3_149_difflen/test/mel_1331.npy\n",
      "/github/datasets/openslr-95-german-neutral-tts/synmels_r3_149_difflen/test/mel_1332.npy\n"
     ]
    },
    {
     "name": "stderr",
     "output_type": "stream",
     "text": [
      "[NeMo W 2022-05-12 01:52:52 tts_tokenizers:351] Text: [in SOW1ßIY1 zerdruckt OW1DER0 AE1LZ PYUH0REY1 schmecken ihm kartoffeln am besten.] contains unknown char/phoneme: [ß]. Original text: [In Soße zerdruckt oder als Puree schmecken ihm Kartoffeln am besten.]. Symbol will be skipped.\n"
     ]
    },
    {
     "name": "stdout",
     "output_type": "stream",
     "text": [
      "/github/datasets/openslr-95-german-neutral-tts/synmels_r3_149_difflen/test/mel_1333.npy\n",
      "/github/datasets/openslr-95-german-neutral-tts/synmels_r3_149_difflen/test/mel_1334.npy\n",
      "/github/datasets/openslr-95-german-neutral-tts/synmels_r3_149_difflen/test/mel_1335.npy\n",
      "/github/datasets/openslr-95-german-neutral-tts/synmels_r3_149_difflen/test/mel_1336.npy\n",
      "/github/datasets/openslr-95-german-neutral-tts/synmels_r3_149_difflen/test/mel_1337.npy\n",
      "/github/datasets/openslr-95-german-neutral-tts/synmels_r3_149_difflen/test/mel_1338.npy\n",
      "/github/datasets/openslr-95-german-neutral-tts/synmels_r3_149_difflen/test/mel_1339.npy\n",
      "/github/datasets/openslr-95-german-neutral-tts/synmels_r3_149_difflen/test/mel_1340.npy\n",
      "/github/datasets/openslr-95-german-neutral-tts/synmels_r3_149_difflen/test/mel_1341.npy\n",
      "/github/datasets/openslr-95-german-neutral-tts/synmels_r3_149_difflen/test/mel_1342.npy\n",
      "/github/datasets/openslr-95-german-neutral-tts/synmels_r3_149_difflen/test/mel_1343.npy\n"
     ]
    },
    {
     "name": "stderr",
     "output_type": "stream",
     "text": [
      "[NeMo W 2022-05-12 01:52:52 tts_tokenizers:351] Text: [birgit HHAE1T bestimmt WIY1DER0 heißIY1 ware dabei.] contains unknown char/phoneme: [ß]. Original text: [Birgit hat bestimmt wieder heiße Ware dabei.]. Symbol will be skipped.\n"
     ]
    },
    {
     "name": "stdout",
     "output_type": "stream",
     "text": [
      "/github/datasets/openslr-95-german-neutral-tts/synmels_r3_149_difflen/test/mel_1344.npy\n",
      "/github/datasets/openslr-95-german-neutral-tts/synmels_r3_149_difflen/test/mel_1345.npy\n",
      "/github/datasets/openslr-95-german-neutral-tts/synmels_r3_149_difflen/test/mel_1346.npy\n",
      "/github/datasets/openslr-95-german-neutral-tts/synmels_r3_149_difflen/test/mel_1347.npy\n",
      "/github/datasets/openslr-95-german-neutral-tts/synmels_r3_149_difflen/test/mel_1348.npy\n",
      "/github/datasets/openslr-95-german-neutral-tts/synmels_r3_149_difflen/test/mel_1349.npy\n",
      "/github/datasets/openslr-95-german-neutral-tts/synmels_r3_149_difflen/test/mel_1350.npy\n",
      "/github/datasets/openslr-95-german-neutral-tts/synmels_r3_149_difflen/test/mel_1351.npy\n",
      "/github/datasets/openslr-95-german-neutral-tts/synmels_r3_149_difflen/test/mel_1352.npy\n",
      "/github/datasets/openslr-95-german-neutral-tts/synmels_r3_149_difflen/test/mel_1353.npy\n"
     ]
    },
    {
     "name": "stderr",
     "output_type": "stream",
     "text": [
      "[NeMo W 2022-05-12 01:52:53 tts_tokenizers:351] Text: [singen MAE1CHT MIH1R GROW1ßEH1N SPAA1ß.] contains unknown char/phoneme: [ß]. Original text: [Singen macht mir großen Spaß.]. Symbol will be skipped.\n",
      "[NeMo W 2022-05-12 01:52:53 tts_tokenizers:351] Text: [singen MAE1CHT MIH1R GROW1ßEH1N SPAA1ß.] contains unknown char/phoneme: [ß]. Original text: [Singen macht mir großen Spaß.]. Symbol will be skipped.\n",
      "[NeMo W 2022-05-12 01:52:53 tts_tokenizers:351] Text: [einige DER1 akteure SIH1ND HHAO1LT OW1ßerst storrisch.] contains unknown char/phoneme: [ß]. Original text: [Einige der Akteure sind halt außerst storrisch.]. Symbol will be skipped.\n"
     ]
    },
    {
     "name": "stdout",
     "output_type": "stream",
     "text": [
      "/github/datasets/openslr-95-german-neutral-tts/synmels_r3_149_difflen/test/mel_1354.npy\n",
      "/github/datasets/openslr-95-german-neutral-tts/synmels_r3_149_difflen/test/mel_1355.npy\n",
      "/github/datasets/openslr-95-german-neutral-tts/synmels_r3_149_difflen/test/mel_1356.npy\n",
      "/github/datasets/openslr-95-german-neutral-tts/synmels_r3_149_difflen/test/mel_1357.npy\n",
      "/github/datasets/openslr-95-german-neutral-tts/synmels_r3_149_difflen/test/mel_1358.npy\n",
      "/github/datasets/openslr-95-german-neutral-tts/synmels_r3_149_difflen/test/mel_1359.npy\n",
      "/github/datasets/openslr-95-german-neutral-tts/synmels_r3_149_difflen/test/mel_1360.npy\n",
      "/github/datasets/openslr-95-german-neutral-tts/synmels_r3_149_difflen/test/mel_1361.npy\n",
      "/github/datasets/openslr-95-german-neutral-tts/synmels_r3_149_difflen/test/mel_1362.npy\n",
      "/github/datasets/openslr-95-german-neutral-tts/synmels_r3_149_difflen/test/mel_1363.npy\n",
      "/github/datasets/openslr-95-german-neutral-tts/synmels_r3_149_difflen/test/mel_1364.npy\n",
      "/github/datasets/openslr-95-german-neutral-tts/synmels_r3_149_difflen/test/mel_1365.npy\n",
      "/github/datasets/openslr-95-german-neutral-tts/synmels_r3_149_difflen/test/mel_1366.npy\n",
      "/github/datasets/openslr-95-german-neutral-tts/synmels_r3_149_difflen/test/mel_1367.npy\n",
      "/github/datasets/openslr-95-german-neutral-tts/synmels_r3_149_difflen/test/mel_1368.npy\n",
      "/github/datasets/openslr-95-german-neutral-tts/synmels_r3_149_difflen/test/mel_1369.npy\n",
      "/github/datasets/openslr-95-german-neutral-tts/synmels_r3_149_difflen/test/mel_1370.npy\n",
      "/github/datasets/openslr-95-german-neutral-tts/synmels_r3_149_difflen/test/mel_1371.npy\n",
      "/github/datasets/openslr-95-german-neutral-tts/synmels_r3_149_difflen/test/mel_1372.npy\n",
      "/github/datasets/openslr-95-german-neutral-tts/synmels_r3_149_difflen/test/mel_1373.npy\n",
      "/github/datasets/openslr-95-german-neutral-tts/synmels_r3_149_difflen/test/mel_1374.npy\n",
      "/github/datasets/openslr-95-german-neutral-tts/synmels_r3_149_difflen/test/mel_1375.npy\n",
      "/github/datasets/openslr-95-german-neutral-tts/synmels_r3_149_difflen/test/mel_1376.npy\n",
      "/github/datasets/openslr-95-german-neutral-tts/synmels_r3_149_difflen/test/mel_1377.npy\n",
      "/github/datasets/openslr-95-german-neutral-tts/synmels_r3_149_difflen/test/mel_1378.npy\n",
      "/github/datasets/openslr-95-german-neutral-tts/synmels_r3_149_difflen/test/mel_1379.npy\n",
      "/github/datasets/openslr-95-german-neutral-tts/synmels_r3_149_difflen/test/mel_1380.npy\n",
      "/github/datasets/openslr-95-german-neutral-tts/synmels_r3_149_difflen/test/mel_1381.npy\n",
      "/github/datasets/openslr-95-german-neutral-tts/synmels_r3_149_difflen/test/mel_1382.npy\n",
      "/github/datasets/openslr-95-german-neutral-tts/synmels_r3_149_difflen/test/mel_1383.npy\n",
      "/github/datasets/openslr-95-german-neutral-tts/synmels_r3_149_difflen/test/mel_1384.npy\n",
      "/github/datasets/openslr-95-german-neutral-tts/synmels_r3_149_difflen/test/mel_1385.npy\n",
      "/github/datasets/openslr-95-german-neutral-tts/synmels_r3_149_difflen/test/mel_1386.npy\n",
      "/github/datasets/openslr-95-german-neutral-tts/synmels_r3_149_difflen/test/mel_1387.npy\n",
      "/github/datasets/openslr-95-german-neutral-tts/synmels_r3_149_difflen/test/mel_1388.npy\n",
      "/github/datasets/openslr-95-german-neutral-tts/synmels_r3_149_difflen/test/mel_1389.npy\n",
      "/github/datasets/openslr-95-german-neutral-tts/synmels_r3_149_difflen/test/mel_1390.npy\n",
      "/github/datasets/openslr-95-german-neutral-tts/synmels_r3_149_difflen/test/mel_1391.npy\n",
      "/github/datasets/openslr-95-german-neutral-tts/synmels_r3_149_difflen/test/mel_1392.npy\n"
     ]
    },
    {
     "name": "stderr",
     "output_type": "stream",
     "text": [
      "[NeMo W 2022-05-12 01:52:53 tts_tokenizers:351] Text: [damals hießEH1N SIY1 noch nicht TIY1NIY0Z sondern einfach jugendliche.] contains unknown char/phoneme: [ß]. Original text: [Damals hießen sie noch nicht Teenies sondern einfach Jugendliche.]. Symbol will be skipped.\n"
     ]
    },
    {
     "name": "stdout",
     "output_type": "stream",
     "text": [
      "/github/datasets/openslr-95-german-neutral-tts/synmels_r3_149_difflen/test/mel_1393.npy\n",
      "/github/datasets/openslr-95-german-neutral-tts/synmels_r3_149_difflen/test/mel_1394.npy\n",
      "/github/datasets/openslr-95-german-neutral-tts/synmels_r3_149_difflen/test/mel_1395.npy\n",
      "/github/datasets/openslr-95-german-neutral-tts/synmels_r3_149_difflen/test/mel_1396.npy\n",
      "/github/datasets/openslr-95-german-neutral-tts/synmels_r3_149_difflen/test/mel_1397.npy\n",
      "/github/datasets/openslr-95-german-neutral-tts/synmels_r3_149_difflen/test/mel_1398.npy\n",
      "/github/datasets/openslr-95-german-neutral-tts/synmels_r3_149_difflen/test/mel_1399.npy\n",
      "/github/datasets/openslr-95-german-neutral-tts/synmels_r3_149_difflen/test/mel_1400.npy\n",
      "/github/datasets/openslr-95-german-neutral-tts/synmels_r3_149_difflen/test/mel_1401.npy\n",
      "/github/datasets/openslr-95-german-neutral-tts/synmels_r3_149_difflen/test/mel_1402.npy\n"
     ]
    },
    {
     "name": "stderr",
     "output_type": "stream",
     "text": [
      "[NeMo W 2022-05-12 01:52:54 tts_tokenizers:351] Text: [wenn du MIH1CH SOW1 anblickst, WEY1ß IH1CH genau, DAE1S du WIY1DER0 etwas angestellt HHAE1ST.] contains unknown char/phoneme: [ß]. Original text: [Wenn du mich so anblickst, weiß ich genau, dass du wieder etwas angestellt hast.]. Symbol will be skipped.\n"
     ]
    },
    {
     "name": "stdout",
     "output_type": "stream",
     "text": [
      "/github/datasets/openslr-95-german-neutral-tts/synmels_r3_149_difflen/test/mel_1403.npy\n",
      "/github/datasets/openslr-95-german-neutral-tts/synmels_r3_149_difflen/test/mel_1404.npy\n",
      "/github/datasets/openslr-95-german-neutral-tts/synmels_r3_149_difflen/test/mel_1405.npy\n",
      "/github/datasets/openslr-95-german-neutral-tts/synmels_r3_149_difflen/test/mel_1406.npy\n",
      "/github/datasets/openslr-95-german-neutral-tts/synmels_r3_149_difflen/test/mel_1407.npy\n",
      "/github/datasets/openslr-95-german-neutral-tts/synmels_r3_149_difflen/test/mel_1408.npy\n",
      "/github/datasets/openslr-95-german-neutral-tts/synmels_r3_149_difflen/test/mel_1409.npy\n",
      "/github/datasets/openslr-95-german-neutral-tts/synmels_r3_149_difflen/test/mel_1410.npy\n",
      "/github/datasets/openslr-95-german-neutral-tts/synmels_r3_149_difflen/test/mel_1411.npy\n",
      "/github/datasets/openslr-95-german-neutral-tts/synmels_r3_149_difflen/test/mel_1412.npy\n",
      "/github/datasets/openslr-95-german-neutral-tts/synmels_r3_149_difflen/test/mel_1413.npy\n"
     ]
    },
    {
     "name": "stderr",
     "output_type": "stream",
     "text": [
      "[NeMo W 2022-05-12 01:52:54 tts_tokenizers:351] Text: [ER0 HHAE1T eine GROW1ßIY1 zukunft in DER1 kameradschaft!] contains unknown char/phoneme: [ß]. Original text: [Er hat eine große Zukunft in der Kameradschaft!]. Symbol will be skipped.\n",
      "[NeMo W 2022-05-12 01:52:54 tts_tokenizers:351] Text: [denen wenden wir uns jetzt zu, das heißTIY1, wir setzen auf DEH1N anfanglichen abbau VAO1N burokratie IH1M bereich DER1 informationspflichten jetzt AY1N umfassenderes konzept.] contains unknown char/phoneme: [ß]. Original text: [Denen wenden wir uns jetzt zu, das heißt, wir setzen auf den anfanglichen Abbau von Burokratie im Bereich der Informationspflichten jetzt ein umfassenderes Konzept.]. Symbol will be skipped.\n"
     ]
    },
    {
     "name": "stdout",
     "output_type": "stream",
     "text": [
      "/github/datasets/openslr-95-german-neutral-tts/synmels_r3_149_difflen/test/mel_1414.npy\n",
      "/github/datasets/openslr-95-german-neutral-tts/synmels_r3_149_difflen/test/mel_1415.npy\n",
      "/github/datasets/openslr-95-german-neutral-tts/synmels_r3_149_difflen/test/mel_1416.npy\n",
      "/github/datasets/openslr-95-german-neutral-tts/synmels_r3_149_difflen/test/mel_1417.npy\n",
      "/github/datasets/openslr-95-german-neutral-tts/synmels_r3_149_difflen/test/mel_1418.npy\n",
      "/github/datasets/openslr-95-german-neutral-tts/synmels_r3_149_difflen/test/mel_1419.npy\n",
      "/github/datasets/openslr-95-german-neutral-tts/synmels_r3_149_difflen/test/mel_1420.npy\n",
      "/github/datasets/openslr-95-german-neutral-tts/synmels_r3_149_difflen/test/mel_1421.npy\n",
      "/github/datasets/openslr-95-german-neutral-tts/synmels_r3_149_difflen/test/mel_1422.npy\n",
      "/github/datasets/openslr-95-german-neutral-tts/synmels_r3_149_difflen/test/mel_1423.npy\n",
      "/github/datasets/openslr-95-german-neutral-tts/synmels_r3_149_difflen/test/mel_1424.npy\n",
      "/github/datasets/openslr-95-german-neutral-tts/synmels_r3_149_difflen/test/mel_1425.npy\n",
      "/github/datasets/openslr-95-german-neutral-tts/synmels_r3_149_difflen/test/mel_1426.npy\n",
      "/github/datasets/openslr-95-german-neutral-tts/synmels_r3_149_difflen/test/mel_1427.npy\n",
      "/github/datasets/openslr-95-german-neutral-tts/synmels_r3_149_difflen/test/mel_1428.npy\n",
      "/github/datasets/openslr-95-german-neutral-tts/synmels_r3_149_difflen/test/mel_1429.npy\n",
      "/github/datasets/openslr-95-german-neutral-tts/synmels_r3_149_difflen/test/mel_1430.npy\n",
      "/github/datasets/openslr-95-german-neutral-tts/synmels_r3_149_difflen/test/mel_1431.npy\n",
      "/github/datasets/openslr-95-german-neutral-tts/synmels_r3_149_difflen/test/mel_1432.npy\n",
      "/github/datasets/openslr-95-german-neutral-tts/synmels_r3_149_difflen/test/mel_1433.npy\n"
     ]
    },
    {
     "name": "stderr",
     "output_type": "stream",
     "text": [
      "[NeMo W 2022-05-12 01:52:55 tts_tokenizers:351] Text: [heiß] contains unknown char/phoneme: [ß]. Original text: [heiß]. Symbol will be skipped.\n"
     ]
    },
    {
     "name": "stdout",
     "output_type": "stream",
     "text": [
      "/github/datasets/openslr-95-german-neutral-tts/synmels_r3_149_difflen/test/mel_1434.npy\n",
      "/github/datasets/openslr-95-german-neutral-tts/synmels_r3_149_difflen/test/mel_1435.npy\n",
      "/github/datasets/openslr-95-german-neutral-tts/synmels_r3_149_difflen/test/mel_1436.npy\n",
      "/github/datasets/openslr-95-german-neutral-tts/synmels_r3_149_difflen/test/mel_1437.npy\n",
      "/github/datasets/openslr-95-german-neutral-tts/synmels_r3_149_difflen/test/mel_1438.npy\n",
      "/github/datasets/openslr-95-german-neutral-tts/synmels_r3_149_difflen/test/mel_1439.npy\n",
      "/github/datasets/openslr-95-german-neutral-tts/synmels_r3_149_difflen/test/mel_1440.npy\n",
      "/github/datasets/openslr-95-german-neutral-tts/synmels_r3_149_difflen/test/mel_1441.npy\n",
      "/github/datasets/openslr-95-german-neutral-tts/synmels_r3_149_difflen/test/mel_1442.npy\n",
      "/github/datasets/openslr-95-german-neutral-tts/synmels_r3_149_difflen/test/mel_1443.npy\n",
      "/github/datasets/openslr-95-german-neutral-tts/synmels_r3_149_difflen/test/mel_1444.npy\n",
      "/github/datasets/openslr-95-german-neutral-tts/synmels_r3_149_difflen/test/mel_1445.npy\n",
      "/github/datasets/openslr-95-german-neutral-tts/synmels_r3_149_difflen/test/mel_1446.npy\n",
      "/github/datasets/openslr-95-german-neutral-tts/synmels_r3_149_difflen/test/mel_1447.npy\n",
      "/github/datasets/openslr-95-german-neutral-tts/synmels_r3_149_difflen/test/mel_1448.npy\n",
      "/github/datasets/openslr-95-german-neutral-tts/synmels_r3_149_difflen/test/mel_1449.npy\n",
      "/github/datasets/openslr-95-german-neutral-tts/synmels_r3_149_difflen/test/mel_1450.npy\n",
      "/github/datasets/openslr-95-german-neutral-tts/synmels_r3_149_difflen/test/mel_1451.npy\n",
      "/github/datasets/openslr-95-german-neutral-tts/synmels_r3_149_difflen/test/mel_1452.npy\n",
      "/github/datasets/openslr-95-german-neutral-tts/synmels_r3_149_difflen/test/mel_1453.npy\n"
     ]
    },
    {
     "name": "stderr",
     "output_type": "stream",
     "text": [
      "[NeMo W 2022-05-12 01:52:55 tts_tokenizers:351] Text: [warum kennst du dich SOW1 GAH1T mit preußEH1N AW1Z?] contains unknown char/phoneme: [ß]. Original text: [Warum kennst du dich so gut mit Preußen aus?]. Symbol will be skipped.\n",
      "[NeMo W 2022-05-12 01:52:55 tts_tokenizers:351] Text: [DAY1 erkenntnis ist in DER1 TAE1T nicht NOY1, AH1ND deshalb haben wir AO1CH SHAA1N VIY1L einzelne MAA1ßnahmen ergriffen.] contains unknown char/phoneme: [ß]. Original text: [Die Erkenntnis ist in der Tat nicht neu, und deshalb haben wir auch schon viele einzelne Maßnahmen ergriffen.]. Symbol will be skipped.\n",
      "[NeMo W 2022-05-12 01:52:55 tts_tokenizers:351] Text: [zweitausendfunfzig wird AY1N TIY1M AW1Z robotern DAY1 menschlichen FUW1ßballweltmeister schlagen.] contains unknown char/phoneme: [ß]. Original text: [Zweitausendfunfzig wird ein Team aus Robotern die menschlichen Fußballweltmeister schlagen.]. Symbol will be skipped.\n"
     ]
    },
    {
     "name": "stdout",
     "output_type": "stream",
     "text": [
      "/github/datasets/openslr-95-german-neutral-tts/synmels_r3_149_difflen/test/mel_1454.npy\n",
      "/github/datasets/openslr-95-german-neutral-tts/synmels_r3_149_difflen/test/mel_1455.npy\n",
      "/github/datasets/openslr-95-german-neutral-tts/synmels_r3_149_difflen/test/mel_1456.npy\n",
      "/github/datasets/openslr-95-german-neutral-tts/synmels_r3_149_difflen/test/mel_1457.npy\n",
      "/github/datasets/openslr-95-german-neutral-tts/synmels_r3_149_difflen/test/mel_1458.npy\n",
      "/github/datasets/openslr-95-german-neutral-tts/synmels_r3_149_difflen/test/mel_1459.npy\n",
      "/github/datasets/openslr-95-german-neutral-tts/synmels_r3_149_difflen/test/mel_1460.npy\n",
      "/github/datasets/openslr-95-german-neutral-tts/synmels_r3_149_difflen/test/mel_1461.npy\n",
      "/github/datasets/openslr-95-german-neutral-tts/synmels_r3_149_difflen/test/mel_1462.npy\n"
     ]
    },
    {
     "name": "stderr",
     "output_type": "stream",
     "text": [
      "[NeMo W 2022-05-12 01:52:55 tts_tokenizers:351] Text: [seit jeher postulieren SIY1 AY1N gewisses MAA1ß an selbstlosigkeit.] contains unknown char/phoneme: [ß]. Original text: [Seit jeher postulieren sie ein gewisses Maß an Selbstlosigkeit.]. Symbol will be skipped.\n"
     ]
    },
    {
     "name": "stdout",
     "output_type": "stream",
     "text": [
      "/github/datasets/openslr-95-german-neutral-tts/synmels_r3_149_difflen/test/mel_1463.npy\n",
      "/github/datasets/openslr-95-german-neutral-tts/synmels_r3_149_difflen/test/mel_1464.npy\n",
      "/github/datasets/openslr-95-german-neutral-tts/synmels_r3_149_difflen/test/mel_1465.npy\n",
      "/github/datasets/openslr-95-german-neutral-tts/synmels_r3_149_difflen/test/mel_1466.npy\n",
      "/github/datasets/openslr-95-german-neutral-tts/synmels_r3_149_difflen/test/mel_1467.npy\n",
      "/github/datasets/openslr-95-german-neutral-tts/synmels_r3_149_difflen/test/mel_1468.npy\n",
      "/github/datasets/openslr-95-german-neutral-tts/synmels_r3_149_difflen/test/mel_1469.npy\n",
      "/github/datasets/openslr-95-german-neutral-tts/synmels_r3_149_difflen/test/mel_1470.npy\n",
      "/github/datasets/openslr-95-german-neutral-tts/synmels_r3_149_difflen/test/mel_1471.npy\n",
      "/github/datasets/openslr-95-german-neutral-tts/synmels_r3_149_difflen/test/mel_1472.npy\n"
     ]
    },
    {
     "name": "stderr",
     "output_type": "stream",
     "text": [
      "[NeMo W 2022-05-12 01:52:55 tts_tokenizers:351] Text: [kohlekraftwerke SIH1ND IH1M wesentlichen GROW1ßIY1 dampfmaschinen.] contains unknown char/phoneme: [ß]. Original text: [Kohlekraftwerke sind im Wesentlichen große Dampfmaschinen.]. Symbol will be skipped.\n"
     ]
    },
    {
     "name": "stdout",
     "output_type": "stream",
     "text": [
      "/github/datasets/openslr-95-german-neutral-tts/synmels_r3_149_difflen/test/mel_1473.npy\n",
      "/github/datasets/openslr-95-german-neutral-tts/synmels_r3_149_difflen/test/mel_1474.npy\n",
      "/github/datasets/openslr-95-german-neutral-tts/synmels_r3_149_difflen/test/mel_1475.npy\n",
      "/github/datasets/openslr-95-german-neutral-tts/synmels_r3_149_difflen/test/mel_1476.npy\n",
      "/github/datasets/openslr-95-german-neutral-tts/synmels_r3_149_difflen/test/mel_1477.npy\n",
      "/github/datasets/openslr-95-german-neutral-tts/synmels_r3_149_difflen/test/mel_1478.npy\n",
      "/github/datasets/openslr-95-german-neutral-tts/synmels_r3_149_difflen/test/mel_1479.npy\n",
      "/github/datasets/openslr-95-german-neutral-tts/synmels_r3_149_difflen/test/mel_1480.npy\n",
      "/github/datasets/openslr-95-german-neutral-tts/synmels_r3_149_difflen/test/mel_1481.npy\n"
     ]
    },
    {
     "name": "stderr",
     "output_type": "stream",
     "text": [
      "[NeMo W 2022-05-12 01:52:56 tts_tokenizers:351] Text: [EH1S ist das gleiche BIH1LD, NUH1R mit anderem WEY1ßabgleich.] contains unknown char/phoneme: [ß]. Original text: [Es ist das gleiche Bild, nur mit anderem Weißabgleich.]. Symbol will be skipped.\n"
     ]
    },
    {
     "name": "stdout",
     "output_type": "stream",
     "text": [
      "/github/datasets/openslr-95-german-neutral-tts/synmels_r3_149_difflen/test/mel_1482.npy\n",
      "/github/datasets/openslr-95-german-neutral-tts/synmels_r3_149_difflen/test/mel_1483.npy\n",
      "/github/datasets/openslr-95-german-neutral-tts/synmels_r3_149_difflen/test/mel_1484.npy\n",
      "/github/datasets/openslr-95-german-neutral-tts/synmels_r3_149_difflen/test/mel_1485.npy\n",
      "/github/datasets/openslr-95-german-neutral-tts/synmels_r3_149_difflen/test/mel_1486.npy\n",
      "/github/datasets/openslr-95-german-neutral-tts/synmels_r3_149_difflen/test/mel_1487.npy\n",
      "/github/datasets/openslr-95-german-neutral-tts/synmels_r3_149_difflen/test/mel_1488.npy\n",
      "/github/datasets/openslr-95-german-neutral-tts/synmels_r3_149_difflen/test/mel_1489.npy\n",
      "/github/datasets/openslr-95-german-neutral-tts/synmels_r3_149_difflen/test/mel_1490.npy\n",
      "/github/datasets/openslr-95-german-neutral-tts/synmels_r3_149_difflen/test/mel_1491.npy\n",
      "/github/datasets/openslr-95-german-neutral-tts/synmels_r3_149_difflen/test/mel_1492.npy\n",
      "/github/datasets/openslr-95-german-neutral-tts/synmels_r3_149_difflen/test/mel_1493.npy\n",
      "/github/datasets/openslr-95-german-neutral-tts/synmels_r3_149_difflen/test/mel_1494.npy\n",
      "/github/datasets/openslr-95-german-neutral-tts/synmels_r3_149_difflen/test/mel_1495.npy\n",
      "/github/datasets/openslr-95-german-neutral-tts/synmels_r3_149_difflen/test/mel_1496.npy\n",
      "/github/datasets/openslr-95-german-neutral-tts/synmels_r3_149_difflen/test/mel_1497.npy\n",
      "/github/datasets/openslr-95-german-neutral-tts/synmels_r3_149_difflen/test/mel_1498.npy\n",
      "/github/datasets/openslr-95-german-neutral-tts/synmels_r3_149_difflen/test/mel_1499.npy\n"
     ]
    },
    {
     "name": "stderr",
     "output_type": "stream",
     "text": [
      "[NeMo W 2022-05-12 01:52:56 tts_tokenizers:351] Text: [SIY1 musste DAY1 DOW1S SHNEH1L WIY1DER0 verschließEH1N, EY1BER0 SIY1 konnte DEH1N deckel nicht sehen.] contains unknown char/phoneme: [ß]. Original text: [Sie musste die Dose schnell wieder verschließen, aber sie konnte den Deckel nicht sehen.]. Symbol will be skipped.\n"
     ]
    },
    {
     "name": "stdout",
     "output_type": "stream",
     "text": [
      "/github/datasets/openslr-95-german-neutral-tts/synmels_r3_149_difflen/test/mel_1500.npy\n",
      "/github/datasets/openslr-95-german-neutral-tts/synmels_r3_149_difflen/test/mel_1501.npy\n",
      "/github/datasets/openslr-95-german-neutral-tts/synmels_r3_149_difflen/test/mel_1502.npy\n",
      "/github/datasets/openslr-95-german-neutral-tts/synmels_r3_149_difflen/test/mel_1503.npy\n",
      "/github/datasets/openslr-95-german-neutral-tts/synmels_r3_149_difflen/test/mel_1504.npy\n",
      "/github/datasets/openslr-95-german-neutral-tts/synmels_r3_149_difflen/test/mel_1505.npy\n",
      "/github/datasets/openslr-95-german-neutral-tts/synmels_r3_149_difflen/test/mel_1506.npy\n",
      "/github/datasets/openslr-95-german-neutral-tts/synmels_r3_149_difflen/test/mel_1507.npy\n",
      "/github/datasets/openslr-95-german-neutral-tts/synmels_r3_149_difflen/test/mel_1508.npy\n",
      "/github/datasets/openslr-95-german-neutral-tts/synmels_r3_149_difflen/test/mel_1509.npy\n",
      "/github/datasets/openslr-95-german-neutral-tts/synmels_r3_149_difflen/test/mel_1510.npy\n",
      "/github/datasets/openslr-95-german-neutral-tts/synmels_r3_149_difflen/test/mel_1511.npy\n",
      "/github/datasets/openslr-95-german-neutral-tts/synmels_r3_149_difflen/test/mel_1512.npy\n",
      "/github/datasets/openslr-95-german-neutral-tts/synmels_r3_149_difflen/test/mel_1513.npy\n",
      "/github/datasets/openslr-95-german-neutral-tts/synmels_r3_149_difflen/test/mel_1514.npy\n",
      "/github/datasets/openslr-95-german-neutral-tts/synmels_r3_149_difflen/test/mel_1515.npy\n",
      "/github/datasets/openslr-95-german-neutral-tts/synmels_r3_149_difflen/test/mel_1516.npy\n",
      "/github/datasets/openslr-95-german-neutral-tts/synmels_r3_149_difflen/test/mel_1517.npy\n",
      "/github/datasets/openslr-95-german-neutral-tts/synmels_r3_149_difflen/test/mel_1518.npy\n",
      "/github/datasets/openslr-95-german-neutral-tts/synmels_r3_149_difflen/test/mel_1519.npy\n",
      "/github/datasets/openslr-95-german-neutral-tts/synmels_r3_149_difflen/test/mel_1520.npy\n",
      "/github/datasets/openslr-95-german-neutral-tts/synmels_r3_149_difflen/test/mel_1521.npy\n",
      "/github/datasets/openslr-95-german-neutral-tts/synmels_r3_149_difflen/test/mel_1522.npy\n",
      "/github/datasets/openslr-95-german-neutral-tts/synmels_r3_149_difflen/test/mel_1523.npy\n",
      "/github/datasets/openslr-95-german-neutral-tts/synmels_r3_149_difflen/test/mel_1524.npy\n",
      "/github/datasets/openslr-95-german-neutral-tts/synmels_r3_149_difflen/test/mel_1525.npy\n",
      "/github/datasets/openslr-95-german-neutral-tts/synmels_r3_149_difflen/test/mel_1526.npy\n",
      "/github/datasets/openslr-95-german-neutral-tts/synmels_r3_149_difflen/test/mel_1527.npy\n",
      "/github/datasets/openslr-95-german-neutral-tts/synmels_r3_149_difflen/test/mel_1528.npy\n",
      "/github/datasets/openslr-95-german-neutral-tts/synmels_r3_149_difflen/test/mel_1529.npy\n"
     ]
    },
    {
     "name": "stderr",
     "output_type": "stream",
     "text": [
      "[NeMo W 2022-05-12 01:52:57 tts_tokenizers:351] Text: [wir haben DAY1 straßeninvestitionen in dieser legislaturperiode deutlich erhoht AH1M vier milliarden euro , AH1ND wir investieren in DEH1N ausbau des breitbandnetzes.] contains unknown char/phoneme: [ß]. Original text: [Wir haben die Straßeninvestitionen in dieser Legislaturperiode deutlich erhoht um vier Milliarden Euro , und wir investieren in den Ausbau des Breitbandnetzes.]. Symbol will be skipped.\n"
     ]
    },
    {
     "name": "stdout",
     "output_type": "stream",
     "text": [
      "/github/datasets/openslr-95-german-neutral-tts/synmels_r3_149_difflen/test/mel_1530.npy\n",
      "/github/datasets/openslr-95-german-neutral-tts/synmels_r3_149_difflen/test/mel_1531.npy\n",
      "/github/datasets/openslr-95-german-neutral-tts/synmels_r3_149_difflen/test/mel_1532.npy\n",
      "/github/datasets/openslr-95-german-neutral-tts/synmels_r3_149_difflen/test/mel_1533.npy\n",
      "/github/datasets/openslr-95-german-neutral-tts/synmels_r3_149_difflen/test/mel_1534.npy\n",
      "/github/datasets/openslr-95-german-neutral-tts/synmels_r3_149_difflen/test/mel_1535.npy\n",
      "/github/datasets/openslr-95-german-neutral-tts/synmels_r3_149_difflen/test/mel_1536.npy\n",
      "/github/datasets/openslr-95-german-neutral-tts/synmels_r3_149_difflen/test/mel_1537.npy\n",
      "/github/datasets/openslr-95-german-neutral-tts/synmels_r3_149_difflen/test/mel_1538.npy\n",
      "/github/datasets/openslr-95-german-neutral-tts/synmels_r3_149_difflen/test/mel_1539.npy\n",
      "/github/datasets/openslr-95-german-neutral-tts/synmels_r3_149_difflen/test/mel_1540.npy\n",
      "/github/datasets/openslr-95-german-neutral-tts/synmels_r3_149_difflen/test/mel_1541.npy\n",
      "/github/datasets/openslr-95-german-neutral-tts/synmels_r3_149_difflen/test/mel_1542.npy\n",
      "/github/datasets/openslr-95-german-neutral-tts/synmels_r3_149_difflen/test/mel_1543.npy\n",
      "/github/datasets/openslr-95-german-neutral-tts/synmels_r3_149_difflen/test/mel_1544.npy\n",
      "/github/datasets/openslr-95-german-neutral-tts/synmels_r3_149_difflen/test/mel_1545.npy\n",
      "/github/datasets/openslr-95-german-neutral-tts/synmels_r3_149_difflen/test/mel_1546.npy\n",
      "/github/datasets/openslr-95-german-neutral-tts/synmels_r3_149_difflen/test/mel_1547.npy\n",
      "/github/datasets/openslr-95-german-neutral-tts/synmels_r3_149_difflen/test/mel_1548.npy\n",
      "/github/datasets/openslr-95-german-neutral-tts/synmels_r3_149_difflen/test/mel_1549.npy\n",
      "/github/datasets/openslr-95-german-neutral-tts/synmels_r3_149_difflen/test/mel_1550.npy\n",
      "/github/datasets/openslr-95-german-neutral-tts/synmels_r3_149_difflen/test/mel_1551.npy\n",
      "/github/datasets/openslr-95-german-neutral-tts/synmels_r3_149_difflen/test/mel_1552.npy\n",
      "/github/datasets/openslr-95-german-neutral-tts/synmels_r3_149_difflen/test/mel_1553.npy\n",
      "/github/datasets/openslr-95-german-neutral-tts/synmels_r3_149_difflen/test/mel_1554.npy\n",
      "/github/datasets/openslr-95-german-neutral-tts/synmels_r3_149_difflen/test/mel_1555.npy\n",
      "/github/datasets/openslr-95-german-neutral-tts/synmels_r3_149_difflen/test/mel_1556.npy\n",
      "/github/datasets/openslr-95-german-neutral-tts/synmels_r3_149_difflen/test/mel_1557.npy\n",
      "/github/datasets/openslr-95-german-neutral-tts/synmels_r3_149_difflen/test/mel_1558.npy\n",
      "/github/datasets/openslr-95-german-neutral-tts/synmels_r3_149_difflen/test/mel_1559.npy\n",
      "/github/datasets/openslr-95-german-neutral-tts/synmels_r3_149_difflen/test/mel_1560.npy\n"
     ]
    },
    {
     "name": "stderr",
     "output_type": "stream",
     "text": [
      "[NeMo W 2022-05-12 01:52:57 tts_tokenizers:351] Text: [das heißTIY1, wir konnen nicht einfach SAE1GAH0N: weil wir eine schwere aufgabe haben, spielt jetzt DER1 ausgeglichene haushalt OW1DER0 DAY1 frage DER1 verschuldung uberhaupt keine ROW1L MEH1R.] contains unknown char/phoneme: [ß]. Original text: [Das heißt, wir konnen nicht einfach sagen: Weil wir eine schwere Aufgabe haben, spielt jetzt der ausgeglichene Haushalt oder die Frage der Verschuldung uberhaupt keine Rolle mehr.]. Symbol will be skipped.\n"
     ]
    },
    {
     "name": "stdout",
     "output_type": "stream",
     "text": [
      "/github/datasets/openslr-95-german-neutral-tts/synmels_r3_149_difflen/test/mel_1561.npy\n",
      "/github/datasets/openslr-95-german-neutral-tts/synmels_r3_149_difflen/test/mel_1562.npy\n",
      "/github/datasets/openslr-95-german-neutral-tts/synmels_r3_149_difflen/test/mel_1563.npy\n",
      "/github/datasets/openslr-95-german-neutral-tts/synmels_r3_149_difflen/test/mel_1564.npy\n",
      "/github/datasets/openslr-95-german-neutral-tts/synmels_r3_149_difflen/test/mel_1565.npy\n",
      "/github/datasets/openslr-95-german-neutral-tts/synmels_r3_149_difflen/test/mel_1566.npy\n",
      "/github/datasets/openslr-95-german-neutral-tts/synmels_r3_149_difflen/test/mel_1567.npy\n",
      "/github/datasets/openslr-95-german-neutral-tts/synmels_r3_149_difflen/test/mel_1568.npy\n",
      "/github/datasets/openslr-95-german-neutral-tts/synmels_r3_149_difflen/test/mel_1569.npy\n",
      "/github/datasets/openslr-95-german-neutral-tts/synmels_r3_149_difflen/test/mel_1570.npy\n",
      "/github/datasets/openslr-95-german-neutral-tts/synmels_r3_149_difflen/test/mel_1571.npy\n",
      "/github/datasets/openslr-95-german-neutral-tts/synmels_r3_149_difflen/test/mel_1572.npy\n",
      "/github/datasets/openslr-95-german-neutral-tts/synmels_r3_149_difflen/test/mel_1573.npy\n",
      "/github/datasets/openslr-95-german-neutral-tts/synmels_r3_149_difflen/test/mel_1574.npy\n",
      "/github/datasets/openslr-95-german-neutral-tts/synmels_r3_149_difflen/test/mel_1575.npy\n",
      "/github/datasets/openslr-95-german-neutral-tts/synmels_r3_149_difflen/test/mel_1576.npy\n",
      "/github/datasets/openslr-95-german-neutral-tts/synmels_r3_149_difflen/test/mel_1577.npy\n",
      "/github/datasets/openslr-95-german-neutral-tts/synmels_r3_149_difflen/test/mel_1578.npy\n",
      "/github/datasets/openslr-95-german-neutral-tts/synmels_r3_149_difflen/test/mel_1579.npy\n",
      "/github/datasets/openslr-95-german-neutral-tts/synmels_r3_149_difflen/test/mel_1580.npy\n",
      "/github/datasets/openslr-95-german-neutral-tts/synmels_r3_149_difflen/test/mel_1581.npy\n"
     ]
    },
    {
     "name": "stderr",
     "output_type": "stream",
     "text": [
      "[NeMo W 2022-05-12 01:52:58 tts_tokenizers:351] Text: [beiß nicht in DAY1 HHAE1ND, DAY1 dich futtert.] contains unknown char/phoneme: [ß]. Original text: [Beiß nicht in die Hand, die dich futtert.]. Symbol will be skipped.\n"
     ]
    },
    {
     "name": "stdout",
     "output_type": "stream",
     "text": [
      "/github/datasets/openslr-95-german-neutral-tts/synmels_r3_149_difflen/test/mel_1582.npy\n",
      "/github/datasets/openslr-95-german-neutral-tts/synmels_r3_149_difflen/test/mel_1583.npy\n",
      "/github/datasets/openslr-95-german-neutral-tts/synmels_r3_149_difflen/test/mel_1584.npy\n",
      "/github/datasets/openslr-95-german-neutral-tts/synmels_r3_149_difflen/test/mel_1585.npy\n",
      "/github/datasets/openslr-95-german-neutral-tts/synmels_r3_149_difflen/test/mel_1586.npy\n",
      "/github/datasets/openslr-95-german-neutral-tts/synmels_r3_149_difflen/test/mel_1587.npy\n"
     ]
    },
    {
     "name": "stderr",
     "output_type": "stream",
     "text": [
      "[NeMo W 2022-05-12 01:52:58 tts_tokenizers:351] Text: [SIY1 stellen FER1 uns DAY1 legitimation OW1DER0 eine DER1 moglichen legitimationen DAA1R, AH1ND da spielen DAY1 vereinten nationen eine GROW1ßIY1 ROW1L.] contains unknown char/phoneme: [ß]. Original text: [Sie stellen fur uns die Legitimation oder eine der moglichen Legitimationen dar, und da spielen die Vereinten Nationen eine große Rolle.]. Symbol will be skipped.\n"
     ]
    },
    {
     "name": "stdout",
     "output_type": "stream",
     "text": [
      "/github/datasets/openslr-95-german-neutral-tts/synmels_r3_149_difflen/test/mel_1588.npy\n",
      "/github/datasets/openslr-95-german-neutral-tts/synmels_r3_149_difflen/test/mel_1589.npy\n",
      "/github/datasets/openslr-95-german-neutral-tts/synmels_r3_149_difflen/test/mel_1590.npy\n",
      "/github/datasets/openslr-95-german-neutral-tts/synmels_r3_149_difflen/test/mel_1591.npy\n",
      "/github/datasets/openslr-95-german-neutral-tts/synmels_r3_149_difflen/test/mel_1592.npy\n",
      "/github/datasets/openslr-95-german-neutral-tts/synmels_r3_149_difflen/test/mel_1593.npy\n",
      "/github/datasets/openslr-95-german-neutral-tts/synmels_r3_149_difflen/test/mel_1594.npy\n",
      "/github/datasets/openslr-95-german-neutral-tts/synmels_r3_149_difflen/test/mel_1595.npy\n",
      "/github/datasets/openslr-95-german-neutral-tts/synmels_r3_149_difflen/test/mel_1596.npy\n",
      "/github/datasets/openslr-95-german-neutral-tts/synmels_r3_149_difflen/test/mel_1597.npy\n",
      "/github/datasets/openslr-95-german-neutral-tts/synmels_r3_149_difflen/test/mel_1598.npy\n",
      "/github/datasets/openslr-95-german-neutral-tts/synmels_r3_149_difflen/test/mel_1599.npy\n",
      "/github/datasets/openslr-95-german-neutral-tts/synmels_r3_149_difflen/test/mel_1600.npy\n",
      "/github/datasets/openslr-95-german-neutral-tts/synmels_r3_149_difflen/test/mel_1601.npy\n",
      "/github/datasets/openslr-95-german-neutral-tts/synmels_r3_149_difflen/test/mel_1602.npy\n",
      "/github/datasets/openslr-95-german-neutral-tts/synmels_r3_149_difflen/test/mel_1603.npy\n",
      "/github/datasets/openslr-95-german-neutral-tts/synmels_r3_149_difflen/test/mel_1604.npy\n",
      "/github/datasets/openslr-95-german-neutral-tts/synmels_r3_149_difflen/test/mel_1605.npy\n",
      "/github/datasets/openslr-95-german-neutral-tts/synmels_r3_149_difflen/test/mel_1606.npy\n",
      "/github/datasets/openslr-95-german-neutral-tts/synmels_r3_149_difflen/test/mel_1607.npy\n",
      "/github/datasets/openslr-95-german-neutral-tts/synmels_r3_149_difflen/test/mel_1608.npy\n",
      "/github/datasets/openslr-95-german-neutral-tts/synmels_r3_149_difflen/test/mel_1609.npy\n",
      "/github/datasets/openslr-95-german-neutral-tts/synmels_r3_149_difflen/test/mel_1610.npy\n",
      "/github/datasets/openslr-95-german-neutral-tts/synmels_r3_149_difflen/test/mel_1611.npy\n",
      "/github/datasets/openslr-95-german-neutral-tts/synmels_r3_149_difflen/test/mel_1612.npy\n",
      "/github/datasets/openslr-95-german-neutral-tts/synmels_r3_149_difflen/test/mel_1613.npy\n",
      "/github/datasets/openslr-95-german-neutral-tts/synmels_r3_149_difflen/test/mel_1614.npy\n",
      "/github/datasets/openslr-95-german-neutral-tts/synmels_r3_149_difflen/test/mel_1615.npy\n",
      "/github/datasets/openslr-95-german-neutral-tts/synmels_r3_149_difflen/test/mel_1616.npy\n",
      "/github/datasets/openslr-95-german-neutral-tts/synmels_r3_149_difflen/test/mel_1617.npy\n",
      "/github/datasets/openslr-95-german-neutral-tts/synmels_r3_149_difflen/test/mel_1618.npy\n",
      "/github/datasets/openslr-95-german-neutral-tts/synmels_r3_149_difflen/test/mel_1619.npy\n",
      "/github/datasets/openslr-95-german-neutral-tts/synmels_r3_149_difflen/test/mel_1620.npy\n",
      "/github/datasets/openslr-95-german-neutral-tts/synmels_r3_149_difflen/test/mel_1621.npy\n",
      "/github/datasets/openslr-95-german-neutral-tts/synmels_r3_149_difflen/test/mel_1622.npy\n",
      "/github/datasets/openslr-95-german-neutral-tts/synmels_r3_149_difflen/test/mel_1623.npy\n",
      "/github/datasets/openslr-95-german-neutral-tts/synmels_r3_149_difflen/test/mel_1624.npy\n",
      "/github/datasets/openslr-95-german-neutral-tts/synmels_r3_149_difflen/test/mel_1625.npy\n",
      "/github/datasets/openslr-95-german-neutral-tts/synmels_r3_149_difflen/test/mel_1626.npy\n",
      "/github/datasets/openslr-95-german-neutral-tts/synmels_r3_149_difflen/test/mel_1627.npy\n",
      "/github/datasets/openslr-95-german-neutral-tts/synmels_r3_149_difflen/test/mel_1628.npy\n",
      "/github/datasets/openslr-95-german-neutral-tts/synmels_r3_149_difflen/test/mel_1629.npy\n",
      "/github/datasets/openslr-95-german-neutral-tts/synmels_r3_149_difflen/test/mel_1630.npy\n",
      "/github/datasets/openslr-95-german-neutral-tts/synmels_r3_149_difflen/test/mel_1631.npy\n",
      "/github/datasets/openslr-95-german-neutral-tts/synmels_r3_149_difflen/test/mel_1632.npy\n",
      "/github/datasets/openslr-95-german-neutral-tts/synmels_r3_149_difflen/test/mel_1633.npy\n",
      "/github/datasets/openslr-95-german-neutral-tts/synmels_r3_149_difflen/test/mel_1634.npy\n",
      "/github/datasets/openslr-95-german-neutral-tts/synmels_r3_149_difflen/test/mel_1635.npy\n",
      "/github/datasets/openslr-95-german-neutral-tts/synmels_r3_149_difflen/test/mel_1636.npy\n",
      "/github/datasets/openslr-95-german-neutral-tts/synmels_r3_149_difflen/test/mel_1637.npy\n",
      "/github/datasets/openslr-95-german-neutral-tts/synmels_r3_149_difflen/test/mel_1638.npy\n",
      "/github/datasets/openslr-95-german-neutral-tts/synmels_r3_149_difflen/test/mel_1639.npy\n",
      "/github/datasets/openslr-95-german-neutral-tts/synmels_r3_149_difflen/test/mel_1640.npy\n",
      "/github/datasets/openslr-95-german-neutral-tts/synmels_r3_149_difflen/test/mel_1641.npy\n",
      "/github/datasets/openslr-95-german-neutral-tts/synmels_r3_149_difflen/test/mel_1642.npy\n",
      "/github/datasets/openslr-95-german-neutral-tts/synmels_r3_149_difflen/test/mel_1643.npy\n",
      "/github/datasets/openslr-95-german-neutral-tts/synmels_r3_149_difflen/test/mel_1644.npy\n",
      "/github/datasets/openslr-95-german-neutral-tts/synmels_r3_149_difflen/test/mel_1645.npy\n",
      "/github/datasets/openslr-95-german-neutral-tts/synmels_r3_149_difflen/test/mel_1646.npy\n",
      "/github/datasets/openslr-95-german-neutral-tts/synmels_r3_149_difflen/test/mel_1647.npy\n",
      "/github/datasets/openslr-95-german-neutral-tts/synmels_r3_149_difflen/test/mel_1648.npy\n"
     ]
    },
    {
     "name": "stderr",
     "output_type": "stream",
     "text": [
      "[NeMo W 2022-05-12 01:53:00 tts_tokenizers:351] Text: [LIY1BER0 zehn schuldige auf freiem FUW1ß AE1LZ AY1N unschuldiger hinter gittern.] contains unknown char/phoneme: [ß]. Original text: [Lieber zehn Schuldige auf freiem Fuß als ein Unschuldiger hinter Gittern.]. Symbol will be skipped.\n"
     ]
    },
    {
     "name": "stdout",
     "output_type": "stream",
     "text": [
      "/github/datasets/openslr-95-german-neutral-tts/synmels_r3_149_difflen/test/mel_1649.npy\n",
      "/github/datasets/openslr-95-german-neutral-tts/synmels_r3_149_difflen/test/mel_1650.npy\n",
      "/github/datasets/openslr-95-german-neutral-tts/synmels_r3_149_difflen/test/mel_1651.npy\n",
      "/github/datasets/openslr-95-german-neutral-tts/synmels_r3_149_difflen/test/mel_1652.npy\n",
      "/github/datasets/openslr-95-german-neutral-tts/synmels_r3_149_difflen/test/mel_1653.npy\n",
      "/github/datasets/openslr-95-german-neutral-tts/synmels_r3_149_difflen/test/mel_1654.npy\n",
      "/github/datasets/openslr-95-german-neutral-tts/synmels_r3_149_difflen/test/mel_1655.npy\n",
      "/github/datasets/openslr-95-german-neutral-tts/synmels_r3_149_difflen/test/mel_1656.npy\n",
      "/github/datasets/openslr-95-german-neutral-tts/synmels_r3_149_difflen/test/mel_1657.npy\n",
      "/github/datasets/openslr-95-german-neutral-tts/synmels_r3_149_difflen/test/mel_1658.npy\n",
      "/github/datasets/openslr-95-german-neutral-tts/synmels_r3_149_difflen/test/mel_1659.npy\n",
      "/github/datasets/openslr-95-german-neutral-tts/synmels_r3_149_difflen/test/mel_1660.npy\n",
      "/github/datasets/openslr-95-german-neutral-tts/synmels_r3_149_difflen/test/mel_1661.npy\n",
      "/github/datasets/openslr-95-german-neutral-tts/synmels_r3_149_difflen/test/mel_1662.npy\n",
      "/github/datasets/openslr-95-german-neutral-tts/synmels_r3_149_difflen/test/mel_1663.npy\n",
      "/github/datasets/openslr-95-german-neutral-tts/synmels_r3_149_difflen/test/mel_1664.npy\n",
      "/github/datasets/openslr-95-german-neutral-tts/synmels_r3_149_difflen/test/mel_1665.npy\n",
      "/github/datasets/openslr-95-german-neutral-tts/synmels_r3_149_difflen/test/mel_1666.npy\n",
      "/github/datasets/openslr-95-german-neutral-tts/synmels_r3_149_difflen/test/mel_1667.npy\n",
      "/github/datasets/openslr-95-german-neutral-tts/synmels_r3_149_difflen/test/mel_1668.npy\n",
      "/github/datasets/openslr-95-german-neutral-tts/synmels_r3_149_difflen/test/mel_1669.npy\n",
      "/github/datasets/openslr-95-german-neutral-tts/synmels_r3_149_difflen/test/mel_1670.npy\n"
     ]
    },
    {
     "name": "stderr",
     "output_type": "stream",
     "text": [
      "[NeMo W 2022-05-12 01:53:00 tts_tokenizers:351] Text: [AO1CH wenn mozartkugeln etwas edles SIH1ND, schmecken SIY1 SHOY1ßLIH1CH.] contains unknown char/phoneme: [ß]. Original text: [Auch wenn Mozartkugeln etwas Edles sind, schmecken sie scheußlich.]. Symbol will be skipped.\n"
     ]
    },
    {
     "name": "stdout",
     "output_type": "stream",
     "text": [
      "/github/datasets/openslr-95-german-neutral-tts/synmels_r3_149_difflen/test/mel_1671.npy\n",
      "/github/datasets/openslr-95-german-neutral-tts/synmels_r3_149_difflen/test/mel_1672.npy\n",
      "/github/datasets/openslr-95-german-neutral-tts/synmels_r3_149_difflen/test/mel_1673.npy\n",
      "/github/datasets/openslr-95-german-neutral-tts/synmels_r3_149_difflen/test/mel_1674.npy\n",
      "/github/datasets/openslr-95-german-neutral-tts/synmels_r3_149_difflen/test/mel_1675.npy\n",
      "/github/datasets/openslr-95-german-neutral-tts/synmels_r3_149_difflen/test/mel_1676.npy\n",
      "/github/datasets/openslr-95-german-neutral-tts/synmels_r3_149_difflen/test/mel_1677.npy\n",
      "/github/datasets/openslr-95-german-neutral-tts/synmels_r3_149_difflen/test/mel_1678.npy\n",
      "/github/datasets/openslr-95-german-neutral-tts/synmels_r3_149_difflen/test/mel_1679.npy\n",
      "/github/datasets/openslr-95-german-neutral-tts/synmels_r3_149_difflen/test/mel_1680.npy\n"
     ]
    },
    {
     "name": "stderr",
     "output_type": "stream",
     "text": [
      "[NeMo W 2022-05-12 01:53:00 tts_tokenizers:351] Text: [willst du dich wirklich mit DER1 rechtsabteilung eines GROW1ßkonzerns anlegen?] contains unknown char/phoneme: [ß]. Original text: [Willst du dich wirklich mit der Rechtsabteilung eines Großkonzerns anlegen?]. Symbol will be skipped.\n"
     ]
    },
    {
     "name": "stdout",
     "output_type": "stream",
     "text": [
      "/github/datasets/openslr-95-german-neutral-tts/synmels_r3_149_difflen/test/mel_1681.npy\n",
      "/github/datasets/openslr-95-german-neutral-tts/synmels_r3_149_difflen/test/mel_1682.npy\n",
      "/github/datasets/openslr-95-german-neutral-tts/synmels_r3_149_difflen/test/mel_1683.npy\n",
      "/github/datasets/openslr-95-german-neutral-tts/synmels_r3_149_difflen/test/mel_1684.npy\n",
      "/github/datasets/openslr-95-german-neutral-tts/synmels_r3_149_difflen/test/mel_1685.npy\n",
      "/github/datasets/openslr-95-german-neutral-tts/synmels_r3_149_difflen/test/mel_1686.npy\n",
      "/github/datasets/openslr-95-german-neutral-tts/synmels_r3_149_difflen/test/mel_1687.npy\n",
      "/github/datasets/openslr-95-german-neutral-tts/synmels_r3_149_difflen/test/mel_1688.npy\n",
      "/github/datasets/openslr-95-german-neutral-tts/synmels_r3_149_difflen/test/mel_1689.npy\n",
      "/github/datasets/openslr-95-german-neutral-tts/synmels_r3_149_difflen/test/mel_1690.npy\n",
      "/github/datasets/openslr-95-german-neutral-tts/synmels_r3_149_difflen/test/mel_1691.npy\n"
     ]
    },
    {
     "name": "stderr",
     "output_type": "stream",
     "text": [
      "[NeMo W 2022-05-12 01:53:00 tts_tokenizers:351] Text: [AH1M strommasten IH1M gebirge HHAA1K zu bekommen, braucht MAE1N OW1ßergewohnlich potente hubschrauber.] contains unknown char/phoneme: [ß]. Original text: [Um Strommasten im Gebirge hoch zu bekommen, braucht man außergewohnlich potente Hubschrauber.]. Symbol will be skipped.\n",
      "[NeMo W 2022-05-12 01:53:01 tts_tokenizers:351] Text: [rechenleistung ist manchmal DER1CH nichts zu ersetzen, OW1ßER0 DER1CH noch MEH1R rechenleistung.] contains unknown char/phoneme: [ß]. Original text: [Rechenleistung ist manchmal durch nichts zu ersetzen, außer durch noch mehr Rechenleistung.]. Symbol will be skipped.\n"
     ]
    },
    {
     "name": "stdout",
     "output_type": "stream",
     "text": [
      "/github/datasets/openslr-95-german-neutral-tts/synmels_r3_149_difflen/test/mel_1692.npy\n",
      "/github/datasets/openslr-95-german-neutral-tts/synmels_r3_149_difflen/test/mel_1693.npy\n",
      "/github/datasets/openslr-95-german-neutral-tts/synmels_r3_149_difflen/test/mel_1694.npy\n",
      "/github/datasets/openslr-95-german-neutral-tts/synmels_r3_149_difflen/test/mel_1695.npy\n",
      "/github/datasets/openslr-95-german-neutral-tts/synmels_r3_149_difflen/test/mel_1696.npy\n",
      "/github/datasets/openslr-95-german-neutral-tts/synmels_r3_149_difflen/test/mel_1697.npy\n",
      "/github/datasets/openslr-95-german-neutral-tts/synmels_r3_149_difflen/test/mel_1698.npy\n",
      "/github/datasets/openslr-95-german-neutral-tts/synmels_r3_149_difflen/test/mel_1699.npy\n",
      "/github/datasets/openslr-95-german-neutral-tts/synmels_r3_149_difflen/test/mel_1700.npy\n",
      "/github/datasets/openslr-95-german-neutral-tts/synmels_r3_149_difflen/test/mel_1701.npy\n",
      "/github/datasets/openslr-95-german-neutral-tts/synmels_r3_149_difflen/test/mel_1702.npy\n",
      "/github/datasets/openslr-95-german-neutral-tts/synmels_r3_149_difflen/test/mel_1703.npy\n",
      "/github/datasets/openslr-95-german-neutral-tts/synmels_r3_149_difflen/test/mel_1704.npy\n",
      "/github/datasets/openslr-95-german-neutral-tts/synmels_r3_149_difflen/test/mel_1705.npy\n",
      "/github/datasets/openslr-95-german-neutral-tts/synmels_r3_149_difflen/test/mel_1706.npy\n",
      "/github/datasets/openslr-95-german-neutral-tts/synmels_r3_149_difflen/test/mel_1707.npy\n",
      "/github/datasets/openslr-95-german-neutral-tts/synmels_r3_149_difflen/test/mel_1708.npy\n",
      "/github/datasets/openslr-95-german-neutral-tts/synmels_r3_149_difflen/test/mel_1709.npy\n",
      "/github/datasets/openslr-95-german-neutral-tts/synmels_r3_149_difflen/test/mel_1710.npy\n",
      "/github/datasets/openslr-95-german-neutral-tts/synmels_r3_149_difflen/test/mel_1711.npy\n",
      "/github/datasets/openslr-95-german-neutral-tts/synmels_r3_149_difflen/test/mel_1712.npy\n",
      "/github/datasets/openslr-95-german-neutral-tts/synmels_r3_149_difflen/test/mel_1713.npy\n",
      "/github/datasets/openslr-95-german-neutral-tts/synmels_r3_149_difflen/test/mel_1714.npy\n",
      "/github/datasets/openslr-95-german-neutral-tts/synmels_r3_149_difflen/test/mel_1715.npy\n",
      "/github/datasets/openslr-95-german-neutral-tts/synmels_r3_149_difflen/test/mel_1716.npy\n",
      "/github/datasets/openslr-95-german-neutral-tts/synmels_r3_149_difflen/test/mel_1717.npy\n",
      "/github/datasets/openslr-95-german-neutral-tts/synmels_r3_149_difflen/test/mel_1718.npy\n",
      "/github/datasets/openslr-95-german-neutral-tts/synmels_r3_149_difflen/test/mel_1719.npy\n",
      "/github/datasets/openslr-95-german-neutral-tts/synmels_r3_149_difflen/test/mel_1720.npy\n",
      "/github/datasets/openslr-95-german-neutral-tts/synmels_r3_149_difflen/test/mel_1721.npy\n",
      "/github/datasets/openslr-95-german-neutral-tts/synmels_r3_149_difflen/test/mel_1722.npy\n",
      "/github/datasets/openslr-95-german-neutral-tts/synmels_r3_149_difflen/test/mel_1723.npy\n",
      "/github/datasets/openslr-95-german-neutral-tts/synmels_r3_149_difflen/test/mel_1724.npy\n",
      "/github/datasets/openslr-95-german-neutral-tts/synmels_r3_149_difflen/test/mel_1725.npy\n",
      "/github/datasets/openslr-95-german-neutral-tts/synmels_r3_149_difflen/test/mel_1726.npy\n",
      "/github/datasets/openslr-95-german-neutral-tts/synmels_r3_149_difflen/test/mel_1727.npy\n",
      "/github/datasets/openslr-95-german-neutral-tts/synmels_r3_149_difflen/test/mel_1728.npy\n",
      "/github/datasets/openslr-95-german-neutral-tts/synmels_r3_149_difflen/test/mel_1729.npy\n"
     ]
    },
    {
     "name": "stderr",
     "output_type": "stream",
     "text": [
      "[NeMo W 2022-05-12 01:53:01 tts_tokenizers:351] Text: [nun ist EH1S GAE1NZ SHAA1N STIH1L, ausgenommen DER1 STER1M, DER1 draußEH1N tobt.] contains unknown char/phoneme: [ß]. Original text: [Nun ist es ganz schon still, ausgenommen der Sturm, der draußen tobt.]. Symbol will be skipped.\n"
     ]
    },
    {
     "name": "stdout",
     "output_type": "stream",
     "text": [
      "/github/datasets/openslr-95-german-neutral-tts/synmels_r3_149_difflen/test/mel_1730.npy\n",
      "/github/datasets/openslr-95-german-neutral-tts/synmels_r3_149_difflen/test/mel_1731.npy\n",
      "/github/datasets/openslr-95-german-neutral-tts/synmels_r3_149_difflen/test/mel_1732.npy\n",
      "/github/datasets/openslr-95-german-neutral-tts/synmels_r3_149_difflen/test/mel_1733.npy\n",
      "/github/datasets/openslr-95-german-neutral-tts/synmels_r3_149_difflen/test/mel_1734.npy\n",
      "/github/datasets/openslr-95-german-neutral-tts/synmels_r3_149_difflen/test/mel_1735.npy\n",
      "/github/datasets/openslr-95-german-neutral-tts/synmels_r3_149_difflen/test/mel_1736.npy\n",
      "/github/datasets/openslr-95-german-neutral-tts/synmels_r3_149_difflen/test/mel_1737.npy\n",
      "/github/datasets/openslr-95-german-neutral-tts/synmels_r3_149_difflen/test/mel_1738.npy\n",
      "/github/datasets/openslr-95-german-neutral-tts/synmels_r3_149_difflen/test/mel_1739.npy\n",
      "/github/datasets/openslr-95-german-neutral-tts/synmels_r3_149_difflen/test/mel_1740.npy\n"
     ]
    },
    {
     "name": "stderr",
     "output_type": "stream",
     "text": [
      "[NeMo W 2022-05-12 01:53:02 tts_tokenizers:351] Text: [kosten senken heißTIY1 mitarbeiter feuern.] contains unknown char/phoneme: [ß]. Original text: [Kosten senken heißt Mitarbeiter feuern.]. Symbol will be skipped.\n",
      "[NeMo W 2022-05-12 01:53:02 tts_tokenizers:351] Text: [das heißTIY1, wir mussen heute unsere FRAY1HHAY2T gegen terroristische bedrohungen verteidigen, AH1ND da mussen wir AO1CH entschlossen SAY1N.] contains unknown char/phoneme: [ß]. Original text: [Das heißt, wir mussen heute unsere Freiheit gegen terroristische Bedrohungen verteidigen, und da mussen wir auch entschlossen sein.]. Symbol will be skipped.\n"
     ]
    },
    {
     "name": "stdout",
     "output_type": "stream",
     "text": [
      "/github/datasets/openslr-95-german-neutral-tts/synmels_r3_149_difflen/test/mel_1741.npy\n",
      "/github/datasets/openslr-95-german-neutral-tts/synmels_r3_149_difflen/test/mel_1742.npy\n",
      "/github/datasets/openslr-95-german-neutral-tts/synmels_r3_149_difflen/test/mel_1743.npy\n",
      "/github/datasets/openslr-95-german-neutral-tts/synmels_r3_149_difflen/test/mel_1744.npy\n",
      "/github/datasets/openslr-95-german-neutral-tts/synmels_r3_149_difflen/test/mel_1745.npy\n",
      "/github/datasets/openslr-95-german-neutral-tts/synmels_r3_149_difflen/test/mel_1746.npy\n",
      "/github/datasets/openslr-95-german-neutral-tts/synmels_r3_149_difflen/test/mel_1747.npy\n",
      "/github/datasets/openslr-95-german-neutral-tts/synmels_r3_149_difflen/test/mel_1748.npy\n",
      "/github/datasets/openslr-95-german-neutral-tts/synmels_r3_149_difflen/test/mel_1749.npy\n",
      "/github/datasets/openslr-95-german-neutral-tts/synmels_r3_149_difflen/test/mel_1750.npy\n",
      "/github/datasets/openslr-95-german-neutral-tts/synmels_r3_149_difflen/test/mel_1751.npy\n",
      "/github/datasets/openslr-95-german-neutral-tts/synmels_r3_149_difflen/test/mel_1752.npy\n",
      "/github/datasets/openslr-95-german-neutral-tts/synmels_r3_149_difflen/test/mel_1753.npy\n",
      "/github/datasets/openslr-95-german-neutral-tts/synmels_r3_149_difflen/test/mel_1754.npy\n",
      "/github/datasets/openslr-95-german-neutral-tts/synmels_r3_149_difflen/test/mel_1755.npy\n",
      "/github/datasets/openslr-95-german-neutral-tts/synmels_r3_149_difflen/test/mel_1756.npy\n",
      "/github/datasets/openslr-95-german-neutral-tts/synmels_r3_149_difflen/test/mel_1757.npy\n",
      "/github/datasets/openslr-95-german-neutral-tts/synmels_r3_149_difflen/test/mel_1758.npy\n",
      "/github/datasets/openslr-95-german-neutral-tts/synmels_r3_149_difflen/test/mel_1759.npy\n",
      "/github/datasets/openslr-95-german-neutral-tts/synmels_r3_149_difflen/test/mel_1760.npy\n",
      "/github/datasets/openslr-95-german-neutral-tts/synmels_r3_149_difflen/test/mel_1761.npy\n",
      "/github/datasets/openslr-95-german-neutral-tts/synmels_r3_149_difflen/test/mel_1762.npy\n",
      "/github/datasets/openslr-95-german-neutral-tts/synmels_r3_149_difflen/test/mel_1763.npy\n",
      "/github/datasets/openslr-95-german-neutral-tts/synmels_r3_149_difflen/test/mel_1764.npy\n",
      "/github/datasets/openslr-95-german-neutral-tts/synmels_r3_149_difflen/test/mel_1765.npy\n",
      "/github/datasets/openslr-95-german-neutral-tts/synmels_r3_149_difflen/test/mel_1766.npy\n"
     ]
    },
    {
     "name": "stderr",
     "output_type": "stream",
     "text": [
      "[NeMo W 2022-05-12 01:53:02 tts_tokenizers:351] Text: [AH1ND DAY1 eltern stehen erfreut daneben AH1ND schießEH1N sogar fotos!] contains unknown char/phoneme: [ß]. Original text: [Und die Eltern stehen erfreut daneben und schießen sogar Fotos!]. Symbol will be skipped.\n"
     ]
    },
    {
     "name": "stdout",
     "output_type": "stream",
     "text": [
      "/github/datasets/openslr-95-german-neutral-tts/synmels_r3_149_difflen/test/mel_1767.npy\n",
      "/github/datasets/openslr-95-german-neutral-tts/synmels_r3_149_difflen/test/mel_1768.npy\n",
      "/github/datasets/openslr-95-german-neutral-tts/synmels_r3_149_difflen/test/mel_1769.npy\n",
      "/github/datasets/openslr-95-german-neutral-tts/synmels_r3_149_difflen/test/mel_1770.npy\n",
      "/github/datasets/openslr-95-german-neutral-tts/synmels_r3_149_difflen/test/mel_1771.npy\n",
      "/github/datasets/openslr-95-german-neutral-tts/synmels_r3_149_difflen/test/mel_1772.npy\n",
      "/github/datasets/openslr-95-german-neutral-tts/synmels_r3_149_difflen/test/mel_1773.npy\n"
     ]
    },
    {
     "name": "stderr",
     "output_type": "stream",
     "text": [
      "[NeMo W 2022-05-12 01:53:03 tts_tokenizers:351] Text: [LAO1RAH0 VOW1ß HHAE1T ihre lehren daraus gezogen.] contains unknown char/phoneme: [ß]. Original text: [Lora Voß hat ihre Lehren daraus gezogen.]. Symbol will be skipped.\n"
     ]
    },
    {
     "name": "stdout",
     "output_type": "stream",
     "text": [
      "/github/datasets/openslr-95-german-neutral-tts/synmels_r3_149_difflen/test/mel_1774.npy\n",
      "/github/datasets/openslr-95-german-neutral-tts/synmels_r3_149_difflen/test/mel_1775.npy\n",
      "/github/datasets/openslr-95-german-neutral-tts/synmels_r3_149_difflen/test/mel_1776.npy\n",
      "/github/datasets/openslr-95-german-neutral-tts/synmels_r3_149_difflen/test/mel_1777.npy\n",
      "/github/datasets/openslr-95-german-neutral-tts/synmels_r3_149_difflen/test/mel_1778.npy\n",
      "/github/datasets/openslr-95-german-neutral-tts/synmels_r3_149_difflen/test/mel_1779.npy\n",
      "/github/datasets/openslr-95-german-neutral-tts/synmels_r3_149_difflen/test/mel_1780.npy\n",
      "/github/datasets/openslr-95-german-neutral-tts/synmels_r3_149_difflen/test/mel_1781.npy\n",
      "/github/datasets/openslr-95-german-neutral-tts/synmels_r3_149_difflen/test/mel_1782.npy\n",
      "/github/datasets/openslr-95-german-neutral-tts/synmels_r3_149_difflen/test/mel_1783.npy\n",
      "/github/datasets/openslr-95-german-neutral-tts/synmels_r3_149_difflen/test/mel_1784.npy\n",
      "/github/datasets/openslr-95-german-neutral-tts/synmels_r3_149_difflen/test/mel_1785.npy\n",
      "/github/datasets/openslr-95-german-neutral-tts/synmels_r3_149_difflen/test/mel_1786.npy\n",
      "/github/datasets/openslr-95-german-neutral-tts/synmels_r3_149_difflen/test/mel_1787.npy\n",
      "/github/datasets/openslr-95-german-neutral-tts/synmels_r3_149_difflen/test/mel_1788.npy\n",
      "/github/datasets/openslr-95-german-neutral-tts/synmels_r3_149_difflen/test/mel_1789.npy\n"
     ]
    },
    {
     "name": "stderr",
     "output_type": "stream",
     "text": [
      "[NeMo W 2022-05-12 01:53:03 tts_tokenizers:351] Text: [AO1CH mit jungen leuten zusammen zu treffen AH1ND IH1NAH0N darzulegen, welche berufschancen SIY1 haben, wenn SIY1 technische berufe – insbesondere IH1M maschinen- AH1ND anlagenbau – ergreifen.] contains unknown char/phoneme: [–]. Original text: [auch mit jungen Leuten zusammen zu treffen und ihnen darzulegen, welche Berufschancen sie haben, wenn sie technische Berufe – insbesondere im Maschinen- und Anlagenbau – ergreifen.]. Symbol will be skipped.\n",
      "[NeMo W 2022-05-12 01:53:03 tts_tokenizers:351] Text: [AO1CH mit jungen leuten zusammen zu treffen AH1ND IH1NAH0N darzulegen, welche berufschancen SIY1 haben, wenn SIY1 technische berufe – insbesondere IH1M maschinen- AH1ND anlagenbau – ergreifen.] contains unknown char/phoneme: [–]. Original text: [auch mit jungen Leuten zusammen zu treffen und ihnen darzulegen, welche Berufschancen sie haben, wenn sie technische Berufe – insbesondere im Maschinen- und Anlagenbau – ergreifen.]. Symbol will be skipped.\n"
     ]
    },
    {
     "name": "stdout",
     "output_type": "stream",
     "text": [
      "/github/datasets/openslr-95-german-neutral-tts/synmels_r3_149_difflen/test/mel_1790.npy\n",
      "/github/datasets/openslr-95-german-neutral-tts/synmels_r3_149_difflen/test/mel_1791.npy\n",
      "/github/datasets/openslr-95-german-neutral-tts/synmels_r3_149_difflen/test/mel_1792.npy\n",
      "/github/datasets/openslr-95-german-neutral-tts/synmels_r3_149_difflen/test/mel_1793.npy\n",
      "/github/datasets/openslr-95-german-neutral-tts/synmels_r3_149_difflen/test/mel_1794.npy\n",
      "/github/datasets/openslr-95-german-neutral-tts/synmels_r3_149_difflen/test/mel_1795.npy\n",
      "/github/datasets/openslr-95-german-neutral-tts/synmels_r3_149_difflen/test/mel_1796.npy\n"
     ]
    },
    {
     "name": "stderr",
     "output_type": "stream",
     "text": [
      "[NeMo W 2022-05-12 01:53:03 tts_tokenizers:351] Text: [wir WER1DAH0N UW1BER0 DAY1 wirtschaftlichen kontakte sprechen, wir WER1DAH0N UW1BER0 DAY1 verkehrsanbindungen sprechen zum beispiel WER1DAH0N wir AY1N wasserstraßenabkommen verabschieden.] contains unknown char/phoneme: [ß]. Original text: [Wir werden uber die wirtschaftlichen Kontakte sprechen, wir werden uber die Verkehrsanbindungen sprechen zum Beispiel werden wir ein WasserstraßenAbkommen verabschieden.]. Symbol will be skipped.\n"
     ]
    },
    {
     "name": "stdout",
     "output_type": "stream",
     "text": [
      "/github/datasets/openslr-95-german-neutral-tts/synmels_r3_149_difflen/test/mel_1797.npy\n",
      "/github/datasets/openslr-95-german-neutral-tts/synmels_r3_149_difflen/test/mel_1798.npy\n",
      "/github/datasets/openslr-95-german-neutral-tts/synmels_r3_149_difflen/test/mel_1799.npy\n",
      "/github/datasets/openslr-95-german-neutral-tts/synmels_r3_149_difflen/test/mel_1800.npy\n",
      "/github/datasets/openslr-95-german-neutral-tts/synmels_r3_149_difflen/test/mel_1801.npy\n",
      "/github/datasets/openslr-95-german-neutral-tts/synmels_r3_149_difflen/test/mel_1802.npy\n",
      "/github/datasets/openslr-95-german-neutral-tts/synmels_r3_149_difflen/test/mel_1803.npy\n",
      "/github/datasets/openslr-95-german-neutral-tts/synmels_r3_149_difflen/test/mel_1804.npy\n",
      "/github/datasets/openslr-95-german-neutral-tts/synmels_r3_149_difflen/test/mel_1805.npy\n",
      "/github/datasets/openslr-95-german-neutral-tts/synmels_r3_149_difflen/test/mel_1806.npy\n",
      "/github/datasets/openslr-95-german-neutral-tts/synmels_r3_149_difflen/test/mel_1807.npy\n",
      "/github/datasets/openslr-95-german-neutral-tts/synmels_r3_149_difflen/test/mel_1808.npy\n",
      "/github/datasets/openslr-95-german-neutral-tts/synmels_r3_149_difflen/test/mel_1809.npy\n",
      "/github/datasets/openslr-95-german-neutral-tts/synmels_r3_149_difflen/test/mel_1810.npy\n",
      "/github/datasets/openslr-95-german-neutral-tts/synmels_r3_149_difflen/test/mel_1811.npy\n",
      "/github/datasets/openslr-95-german-neutral-tts/synmels_r3_149_difflen/test/mel_1812.npy\n",
      "/github/datasets/openslr-95-german-neutral-tts/synmels_r3_149_difflen/test/mel_1813.npy\n",
      "/github/datasets/openslr-95-german-neutral-tts/synmels_r3_149_difflen/test/mel_1814.npy\n",
      "/github/datasets/openslr-95-german-neutral-tts/synmels_r3_149_difflen/test/mel_1815.npy\n",
      "/github/datasets/openslr-95-german-neutral-tts/synmels_r3_149_difflen/test/mel_1816.npy\n",
      "/github/datasets/openslr-95-german-neutral-tts/synmels_r3_149_difflen/test/mel_1817.npy\n",
      "/github/datasets/openslr-95-german-neutral-tts/synmels_r3_149_difflen/test/mel_1818.npy\n",
      "/github/datasets/openslr-95-german-neutral-tts/synmels_r3_149_difflen/test/mel_1819.npy\n",
      "/github/datasets/openslr-95-german-neutral-tts/synmels_r3_149_difflen/test/mel_1820.npy\n",
      "/github/datasets/openslr-95-german-neutral-tts/synmels_r3_149_difflen/test/mel_1821.npy\n",
      "/github/datasets/openslr-95-german-neutral-tts/synmels_r3_149_difflen/test/mel_1822.npy\n",
      "/github/datasets/openslr-95-german-neutral-tts/synmels_r3_149_difflen/test/mel_1823.npy\n",
      "/github/datasets/openslr-95-german-neutral-tts/synmels_r3_149_difflen/test/mel_1824.npy\n",
      "/github/datasets/openslr-95-german-neutral-tts/synmels_r3_149_difflen/test/mel_1825.npy\n",
      "/github/datasets/openslr-95-german-neutral-tts/synmels_r3_149_difflen/test/mel_1826.npy\n",
      "/github/datasets/openslr-95-german-neutral-tts/synmels_r3_149_difflen/test/mel_1827.npy\n",
      "/github/datasets/openslr-95-german-neutral-tts/synmels_r3_149_difflen/test/mel_1828.npy\n",
      "/github/datasets/openslr-95-german-neutral-tts/synmels_r3_149_difflen/test/mel_1829.npy\n",
      "/github/datasets/openslr-95-german-neutral-tts/synmels_r3_149_difflen/test/mel_1830.npy\n",
      "/github/datasets/openslr-95-german-neutral-tts/synmels_r3_149_difflen/test/mel_1831.npy\n",
      "/github/datasets/openslr-95-german-neutral-tts/synmels_r3_149_difflen/test/mel_1832.npy\n",
      "/github/datasets/openslr-95-german-neutral-tts/synmels_r3_149_difflen/test/mel_1833.npy\n",
      "/github/datasets/openslr-95-german-neutral-tts/synmels_r3_149_difflen/test/mel_1834.npy\n",
      "/github/datasets/openslr-95-german-neutral-tts/synmels_r3_149_difflen/test/mel_1835.npy\n"
     ]
    },
    {
     "name": "stderr",
     "output_type": "stream",
     "text": [
      "[NeMo W 2022-05-12 01:53:04 tts_tokenizers:351] Text: [IH1CH WEY1ß nicht woher, EY1BER0 irgendwie habe IH1CH einen steifen nacken.] contains unknown char/phoneme: [ß]. Original text: [Ich weiß nicht woher, aber irgendwie habe ich einen steifen Nacken.]. Symbol will be skipped.\n"
     ]
    },
    {
     "name": "stdout",
     "output_type": "stream",
     "text": [
      "/github/datasets/openslr-95-german-neutral-tts/synmels_r3_149_difflen/test/mel_1836.npy\n",
      "/github/datasets/openslr-95-german-neutral-tts/synmels_r3_149_difflen/test/mel_1837.npy\n",
      "/github/datasets/openslr-95-german-neutral-tts/synmels_r3_149_difflen/test/mel_1838.npy\n",
      "/github/datasets/openslr-95-german-neutral-tts/synmels_r3_149_difflen/test/mel_1839.npy\n",
      "/github/datasets/openslr-95-german-neutral-tts/synmels_r3_149_difflen/test/mel_1840.npy\n",
      "/github/datasets/openslr-95-german-neutral-tts/synmels_r3_149_difflen/test/mel_1841.npy\n",
      "/github/datasets/openslr-95-german-neutral-tts/synmels_r3_149_difflen/test/mel_1842.npy\n",
      "/github/datasets/openslr-95-german-neutral-tts/synmels_r3_149_difflen/test/mel_1843.npy\n",
      "/github/datasets/openslr-95-german-neutral-tts/synmels_r3_149_difflen/test/mel_1844.npy\n",
      "/github/datasets/openslr-95-german-neutral-tts/synmels_r3_149_difflen/test/mel_1845.npy\n",
      "/github/datasets/openslr-95-german-neutral-tts/synmels_r3_149_difflen/test/mel_1846.npy\n",
      "/github/datasets/openslr-95-german-neutral-tts/synmels_r3_149_difflen/test/mel_1847.npy\n",
      "/github/datasets/openslr-95-german-neutral-tts/synmels_r3_149_difflen/test/mel_1848.npy\n",
      "/github/datasets/openslr-95-german-neutral-tts/synmels_r3_149_difflen/test/mel_1849.npy\n",
      "/github/datasets/openslr-95-german-neutral-tts/synmels_r3_149_difflen/test/mel_1850.npy\n",
      "/github/datasets/openslr-95-german-neutral-tts/synmels_r3_149_difflen/test/mel_1851.npy\n",
      "/github/datasets/openslr-95-german-neutral-tts/synmels_r3_149_difflen/test/mel_1852.npy\n",
      "/github/datasets/openslr-95-german-neutral-tts/synmels_r3_149_difflen/test/mel_1853.npy\n"
     ]
    },
    {
     "name": "stderr",
     "output_type": "stream",
     "text": [
      "[NeMo W 2022-05-12 01:53:05 tts_tokenizers:351] Text: [IH1CH spreche heute zu IH1NAH0N, weil IH1CH MIH1R DEH1N GROW1ßEH1N ZEH1 gestoßEH1N habe.] contains unknown char/phoneme: [ß]. Original text: [Ich spreche heute zu Ihnen, weil ich mir den großen Zeh gestoßen habe.]. Symbol will be skipped.\n",
      "[NeMo W 2022-05-12 01:53:05 tts_tokenizers:351] Text: [IH1CH spreche heute zu IH1NAH0N, weil IH1CH MIH1R DEH1N GROW1ßEH1N ZEH1 gestoßEH1N habe.] contains unknown char/phoneme: [ß]. Original text: [Ich spreche heute zu Ihnen, weil ich mir den großen Zeh gestoßen habe.]. Symbol will be skipped.\n"
     ]
    },
    {
     "name": "stdout",
     "output_type": "stream",
     "text": [
      "/github/datasets/openslr-95-german-neutral-tts/synmels_r3_149_difflen/test/mel_1854.npy\n",
      "/github/datasets/openslr-95-german-neutral-tts/synmels_r3_149_difflen/test/mel_1855.npy\n",
      "/github/datasets/openslr-95-german-neutral-tts/synmels_r3_149_difflen/test/mel_1856.npy\n",
      "/github/datasets/openslr-95-german-neutral-tts/synmels_r3_149_difflen/test/mel_1857.npy\n",
      "/github/datasets/openslr-95-german-neutral-tts/synmels_r3_149_difflen/test/mel_1858.npy\n",
      "/github/datasets/openslr-95-german-neutral-tts/synmels_r3_149_difflen/test/mel_1859.npy\n",
      "/github/datasets/openslr-95-german-neutral-tts/synmels_r3_149_difflen/test/mel_1860.npy\n",
      "/github/datasets/openslr-95-german-neutral-tts/synmels_r3_149_difflen/test/mel_1861.npy\n",
      "/github/datasets/openslr-95-german-neutral-tts/synmels_r3_149_difflen/test/mel_1862.npy\n",
      "/github/datasets/openslr-95-german-neutral-tts/synmels_r3_149_difflen/test/mel_1863.npy\n",
      "/github/datasets/openslr-95-german-neutral-tts/synmels_r3_149_difflen/test/mel_1864.npy\n",
      "/github/datasets/openslr-95-german-neutral-tts/synmels_r3_149_difflen/test/mel_1865.npy\n",
      "/github/datasets/openslr-95-german-neutral-tts/synmels_r3_149_difflen/test/mel_1866.npy\n",
      "/github/datasets/openslr-95-german-neutral-tts/synmels_r3_149_difflen/test/mel_1867.npy\n",
      "/github/datasets/openslr-95-german-neutral-tts/synmels_r3_149_difflen/test/mel_1868.npy\n",
      "/github/datasets/openslr-95-german-neutral-tts/synmels_r3_149_difflen/test/mel_1869.npy\n",
      "/github/datasets/openslr-95-german-neutral-tts/synmels_r3_149_difflen/test/mel_1870.npy\n",
      "/github/datasets/openslr-95-german-neutral-tts/synmels_r3_149_difflen/test/mel_1871.npy\n",
      "/github/datasets/openslr-95-german-neutral-tts/synmels_r3_149_difflen/test/mel_1872.npy\n",
      "/github/datasets/openslr-95-german-neutral-tts/synmels_r3_149_difflen/test/mel_1873.npy\n"
     ]
    },
    {
     "name": "stderr",
     "output_type": "stream",
     "text": [
      "[NeMo W 2022-05-12 01:53:05 tts_tokenizers:351] Text: [alle mogen KAE1TZAH0N. OW1ßER0 KLAW1S, DEH1N DER1 MAE1G DAY1 MAO1Z.] contains unknown char/phoneme: [ß]. Original text: [Alle mogen Katzen. Außer Klaus, denn der mag die Maus.]. Symbol will be skipped.\n"
     ]
    },
    {
     "name": "stdout",
     "output_type": "stream",
     "text": [
      "/github/datasets/openslr-95-german-neutral-tts/synmels_r3_149_difflen/test/mel_1874.npy\n",
      "/github/datasets/openslr-95-german-neutral-tts/synmels_r3_149_difflen/test/mel_1875.npy\n",
      "/github/datasets/openslr-95-german-neutral-tts/synmels_r3_149_difflen/test/mel_1876.npy\n",
      "/github/datasets/openslr-95-german-neutral-tts/synmels_r3_149_difflen/test/mel_1877.npy\n",
      "/github/datasets/openslr-95-german-neutral-tts/synmels_r3_149_difflen/test/mel_1878.npy\n",
      "/github/datasets/openslr-95-german-neutral-tts/synmels_r3_149_difflen/test/mel_1879.npy\n",
      "/github/datasets/openslr-95-german-neutral-tts/synmels_r3_149_difflen/test/mel_1880.npy\n",
      "/github/datasets/openslr-95-german-neutral-tts/synmels_r3_149_difflen/test/mel_1881.npy\n",
      "/github/datasets/openslr-95-german-neutral-tts/synmels_r3_149_difflen/test/mel_1882.npy\n",
      "/github/datasets/openslr-95-german-neutral-tts/synmels_r3_149_difflen/test/mel_1883.npy\n",
      "/github/datasets/openslr-95-german-neutral-tts/synmels_r3_149_difflen/test/mel_1884.npy\n",
      "/github/datasets/openslr-95-german-neutral-tts/synmels_r3_149_difflen/test/mel_1885.npy\n",
      "/github/datasets/openslr-95-german-neutral-tts/synmels_r3_149_difflen/test/mel_1886.npy\n",
      "/github/datasets/openslr-95-german-neutral-tts/synmels_r3_149_difflen/test/mel_1887.npy\n",
      "/github/datasets/openslr-95-german-neutral-tts/synmels_r3_149_difflen/test/mel_1888.npy\n",
      "/github/datasets/openslr-95-german-neutral-tts/synmels_r3_149_difflen/test/mel_1889.npy\n",
      "/github/datasets/openslr-95-german-neutral-tts/synmels_r3_149_difflen/test/mel_1890.npy\n",
      "/github/datasets/openslr-95-german-neutral-tts/synmels_r3_149_difflen/test/mel_1891.npy\n",
      "/github/datasets/openslr-95-german-neutral-tts/synmels_r3_149_difflen/test/mel_1892.npy\n",
      "/github/datasets/openslr-95-german-neutral-tts/synmels_r3_149_difflen/test/mel_1893.npy\n",
      "/github/datasets/openslr-95-german-neutral-tts/synmels_r3_149_difflen/test/mel_1894.npy\n",
      "/github/datasets/openslr-95-german-neutral-tts/synmels_r3_149_difflen/test/mel_1895.npy\n",
      "/github/datasets/openslr-95-german-neutral-tts/synmels_r3_149_difflen/test/mel_1896.npy\n",
      "/github/datasets/openslr-95-german-neutral-tts/synmels_r3_149_difflen/test/mel_1897.npy\n",
      "/github/datasets/openslr-95-german-neutral-tts/synmels_r3_149_difflen/test/mel_1898.npy\n",
      "/github/datasets/openslr-95-german-neutral-tts/synmels_r3_149_difflen/test/mel_1899.npy\n",
      "/github/datasets/openslr-95-german-neutral-tts/synmels_r3_149_difflen/test/mel_1900.npy\n",
      "/github/datasets/openslr-95-german-neutral-tts/synmels_r3_149_difflen/test/mel_1901.npy\n",
      "/github/datasets/openslr-95-german-neutral-tts/synmels_r3_149_difflen/test/mel_1902.npy\n",
      "/github/datasets/openslr-95-german-neutral-tts/synmels_r3_149_difflen/test/mel_1903.npy\n"
     ]
    },
    {
     "name": "stderr",
     "output_type": "stream",
     "text": [
      "[NeMo W 2022-05-12 01:53:06 tts_tokenizers:351] Text: [NAA1, du WEY1ßTIY1 SHAA1N!] contains unknown char/phoneme: [ß]. Original text: [Na, du weißt schon!]. Symbol will be skipped.\n"
     ]
    },
    {
     "name": "stdout",
     "output_type": "stream",
     "text": [
      "/github/datasets/openslr-95-german-neutral-tts/synmels_r3_149_difflen/test/mel_1904.npy\n",
      "/github/datasets/openslr-95-german-neutral-tts/synmels_r3_149_difflen/test/mel_1905.npy\n",
      "/github/datasets/openslr-95-german-neutral-tts/synmels_r3_149_difflen/test/mel_1906.npy\n",
      "/github/datasets/openslr-95-german-neutral-tts/synmels_r3_149_difflen/test/mel_1907.npy\n",
      "/github/datasets/openslr-95-german-neutral-tts/synmels_r3_149_difflen/test/mel_1908.npy\n",
      "/github/datasets/openslr-95-german-neutral-tts/synmels_r3_149_difflen/test/mel_1909.npy\n",
      "/github/datasets/openslr-95-german-neutral-tts/synmels_r3_149_difflen/test/mel_1910.npy\n",
      "/github/datasets/openslr-95-german-neutral-tts/synmels_r3_149_difflen/test/mel_1911.npy\n",
      "/github/datasets/openslr-95-german-neutral-tts/synmels_r3_149_difflen/test/mel_1912.npy\n",
      "/github/datasets/openslr-95-german-neutral-tts/synmels_r3_149_difflen/test/mel_1913.npy\n"
     ]
    },
    {
     "name": "stderr",
     "output_type": "stream",
     "text": [
      "[NeMo W 2022-05-12 01:53:06 tts_tokenizers:351] Text: [dem ersten informanten ist DAY1 sache zu heiß geworden.] contains unknown char/phoneme: [ß]. Original text: [Dem ersten Informanten ist die Sache zu heiß geworden.]. Symbol will be skipped.\n",
      "[NeMo W 2022-05-12 01:53:06 tts_tokenizers:351] Text: [AO1LSOW0, erst einmal steht DAY1 ganze frage DER1 bildung AH1ND vor AE1LAH0N dingen DER1 arbeitsplatze, das heißTIY1, einem elementaren bereich DER1 teilhabe, auf DER1 tagesordnung.] contains unknown char/phoneme: [ß]. Original text: [Also, erst einmal steht die ganze Frage der Bildung und vor allen Dingen der Arbeitsplatze, das heißt, einem elementaren Bereich der Teilhabe, auf der Tagesordnung.]. Symbol will be skipped.\n"
     ]
    },
    {
     "name": "stdout",
     "output_type": "stream",
     "text": [
      "/github/datasets/openslr-95-german-neutral-tts/synmels_r3_149_difflen/test/mel_1914.npy\n",
      "/github/datasets/openslr-95-german-neutral-tts/synmels_r3_149_difflen/test/mel_1915.npy\n",
      "/github/datasets/openslr-95-german-neutral-tts/synmels_r3_149_difflen/test/mel_1916.npy\n",
      "/github/datasets/openslr-95-german-neutral-tts/synmels_r3_149_difflen/test/mel_1917.npy\n",
      "/github/datasets/openslr-95-german-neutral-tts/synmels_r3_149_difflen/test/mel_1918.npy\n",
      "/github/datasets/openslr-95-german-neutral-tts/synmels_r3_149_difflen/test/mel_1919.npy\n",
      "/github/datasets/openslr-95-german-neutral-tts/synmels_r3_149_difflen/test/mel_1920.npy\n",
      "/github/datasets/openslr-95-german-neutral-tts/synmels_r3_149_difflen/test/mel_1921.npy\n",
      "/github/datasets/openslr-95-german-neutral-tts/synmels_r3_149_difflen/test/mel_1922.npy\n",
      "/github/datasets/openslr-95-german-neutral-tts/synmels_r3_149_difflen/test/mel_1923.npy\n",
      "/github/datasets/openslr-95-german-neutral-tts/synmels_r3_149_difflen/test/mel_1924.npy\n",
      "/github/datasets/openslr-95-german-neutral-tts/synmels_r3_149_difflen/test/mel_1925.npy\n",
      "/github/datasets/openslr-95-german-neutral-tts/synmels_r3_149_difflen/test/mel_1926.npy\n"
     ]
    },
    {
     "name": "stderr",
     "output_type": "stream",
     "text": [
      "[NeMo W 2022-05-12 01:53:06 tts_tokenizers:351] Text: [AY1N \"FUW1ßballfan\" DER1 kategorie a, BIY1 OW1DER0 SIY1?] contains unknown char/phoneme: [ß]. Original text: [Ein \"Fußballfan\" der Kategorie A, B oder C?]. Symbol will be skipped.\n"
     ]
    },
    {
     "name": "stdout",
     "output_type": "stream",
     "text": [
      "/github/datasets/openslr-95-german-neutral-tts/synmels_r3_149_difflen/test/mel_1927.npy\n",
      "/github/datasets/openslr-95-german-neutral-tts/synmels_r3_149_difflen/test/mel_1928.npy\n",
      "/github/datasets/openslr-95-german-neutral-tts/synmels_r3_149_difflen/test/mel_1929.npy\n",
      "/github/datasets/openslr-95-german-neutral-tts/synmels_r3_149_difflen/test/mel_1930.npy\n",
      "/github/datasets/openslr-95-german-neutral-tts/synmels_r3_149_difflen/test/mel_1931.npy\n",
      "/github/datasets/openslr-95-german-neutral-tts/synmels_r3_149_difflen/test/mel_1932.npy\n",
      "/github/datasets/openslr-95-german-neutral-tts/synmels_r3_149_difflen/test/mel_1933.npy\n",
      "/github/datasets/openslr-95-german-neutral-tts/synmels_r3_149_difflen/test/mel_1934.npy\n",
      "/github/datasets/openslr-95-german-neutral-tts/synmels_r3_149_difflen/test/mel_1935.npy\n",
      "/github/datasets/openslr-95-german-neutral-tts/synmels_r3_149_difflen/test/mel_1936.npy\n",
      "/github/datasets/openslr-95-german-neutral-tts/synmels_r3_149_difflen/test/mel_1937.npy\n",
      "/github/datasets/openslr-95-german-neutral-tts/synmels_r3_149_difflen/test/mel_1938.npy\n",
      "/github/datasets/openslr-95-german-neutral-tts/synmels_r3_149_difflen/test/mel_1939.npy\n",
      "/github/datasets/openslr-95-german-neutral-tts/synmels_r3_149_difflen/test/mel_1940.npy\n",
      "/github/datasets/openslr-95-german-neutral-tts/synmels_r3_149_difflen/test/mel_1941.npy\n",
      "/github/datasets/openslr-95-german-neutral-tts/synmels_r3_149_difflen/test/mel_1942.npy\n",
      "/github/datasets/openslr-95-german-neutral-tts/synmels_r3_149_difflen/test/mel_1943.npy\n",
      "/github/datasets/openslr-95-german-neutral-tts/synmels_r3_149_difflen/test/mel_1944.npy\n",
      "/github/datasets/openslr-95-german-neutral-tts/synmels_r3_149_difflen/test/mel_1945.npy\n"
     ]
    },
    {
     "name": "stderr",
     "output_type": "stream",
     "text": [
      "[NeMo W 2022-05-12 01:53:07 tts_tokenizers:351] Text: [BRIH1NG bloß keine ordnung in MIY1N KEY1AA0S!] contains unknown char/phoneme: [ß]. Original text: [Bring bloß keine Ordnung in mein Chaos!]. Symbol will be skipped.\n"
     ]
    },
    {
     "name": "stdout",
     "output_type": "stream",
     "text": [
      "/github/datasets/openslr-95-german-neutral-tts/synmels_r3_149_difflen/test/mel_1946.npy\n",
      "/github/datasets/openslr-95-german-neutral-tts/synmels_r3_149_difflen/test/mel_1947.npy\n",
      "/github/datasets/openslr-95-german-neutral-tts/synmels_r3_149_difflen/test/mel_1948.npy\n",
      "/github/datasets/openslr-95-german-neutral-tts/synmels_r3_149_difflen/test/mel_1949.npy\n",
      "/github/datasets/openslr-95-german-neutral-tts/synmels_r3_149_difflen/test/mel_1950.npy\n",
      "/github/datasets/openslr-95-german-neutral-tts/synmels_r3_149_difflen/test/mel_1951.npy\n",
      "/github/datasets/openslr-95-german-neutral-tts/synmels_r3_149_difflen/test/mel_1952.npy\n",
      "/github/datasets/openslr-95-german-neutral-tts/synmels_r3_149_difflen/test/mel_1953.npy\n",
      "/github/datasets/openslr-95-german-neutral-tts/synmels_r3_149_difflen/test/mel_1954.npy\n",
      "/github/datasets/openslr-95-german-neutral-tts/synmels_r3_149_difflen/test/mel_1955.npy\n",
      "/github/datasets/openslr-95-german-neutral-tts/synmels_r3_149_difflen/test/mel_1956.npy\n",
      "/github/datasets/openslr-95-german-neutral-tts/synmels_r3_149_difflen/test/mel_1957.npy\n",
      "/github/datasets/openslr-95-german-neutral-tts/synmels_r3_149_difflen/test/mel_1958.npy\n",
      "/github/datasets/openslr-95-german-neutral-tts/synmels_r3_149_difflen/test/mel_1959.npy\n",
      "/github/datasets/openslr-95-german-neutral-tts/synmels_r3_149_difflen/test/mel_1960.npy\n",
      "/github/datasets/openslr-95-german-neutral-tts/synmels_r3_149_difflen/test/mel_1961.npy\n",
      "/github/datasets/openslr-95-german-neutral-tts/synmels_r3_149_difflen/test/mel_1962.npy\n",
      "/github/datasets/openslr-95-german-neutral-tts/synmels_r3_149_difflen/test/mel_1963.npy\n",
      "/github/datasets/openslr-95-german-neutral-tts/synmels_r3_149_difflen/test/mel_1964.npy\n",
      "/github/datasets/openslr-95-german-neutral-tts/synmels_r3_149_difflen/test/mel_1965.npy\n",
      "/github/datasets/openslr-95-german-neutral-tts/synmels_r3_149_difflen/test/mel_1966.npy\n",
      "/github/datasets/openslr-95-german-neutral-tts/synmels_r3_149_difflen/test/mel_1967.npy\n",
      "/github/datasets/openslr-95-german-neutral-tts/synmels_r3_149_difflen/test/mel_1968.npy\n",
      "/github/datasets/openslr-95-german-neutral-tts/synmels_r3_149_difflen/test/mel_1969.npy\n",
      "/github/datasets/openslr-95-german-neutral-tts/synmels_r3_149_difflen/test/mel_1970.npy\n",
      "/github/datasets/openslr-95-german-neutral-tts/synmels_r3_149_difflen/test/mel_1971.npy\n",
      "/github/datasets/openslr-95-german-neutral-tts/synmels_r3_149_difflen/test/mel_1972.npy\n",
      "/github/datasets/openslr-95-german-neutral-tts/synmels_r3_149_difflen/test/mel_1973.npy\n",
      "/github/datasets/openslr-95-german-neutral-tts/synmels_r3_149_difflen/test/mel_1974.npy\n",
      "/github/datasets/openslr-95-german-neutral-tts/synmels_r3_149_difflen/test/mel_1975.npy\n",
      "/github/datasets/openslr-95-german-neutral-tts/synmels_r3_149_difflen/test/mel_1976.npy\n",
      "/github/datasets/openslr-95-german-neutral-tts/synmels_r3_149_difflen/test/mel_1977.npy\n"
     ]
    },
    {
     "name": "stderr",
     "output_type": "stream",
     "text": [
      "[NeMo W 2022-05-12 01:53:08 tts_tokenizers:351] Text: [DER1 arme rechnet dem reichen DAY1 GROW1ßmut niemals AE1LZ tugend an.] contains unknown char/phoneme: [ß]. Original text: [Der Arme rechnet dem Reichen die Großmut niemals als Tugend an.]. Symbol will be skipped.\n"
     ]
    },
    {
     "name": "stdout",
     "output_type": "stream",
     "text": [
      "/github/datasets/openslr-95-german-neutral-tts/synmels_r3_149_difflen/test/mel_1978.npy\n",
      "/github/datasets/openslr-95-german-neutral-tts/synmels_r3_149_difflen/test/mel_1979.npy\n",
      "/github/datasets/openslr-95-german-neutral-tts/synmels_r3_149_difflen/test/mel_1980.npy\n",
      "/github/datasets/openslr-95-german-neutral-tts/synmels_r3_149_difflen/test/mel_1981.npy\n",
      "/github/datasets/openslr-95-german-neutral-tts/synmels_r3_149_difflen/test/mel_1982.npy\n",
      "/github/datasets/openslr-95-german-neutral-tts/synmels_r3_149_difflen/test/mel_1983.npy\n",
      "/github/datasets/openslr-95-german-neutral-tts/synmels_r3_149_difflen/test/mel_1984.npy\n",
      "/github/datasets/openslr-95-german-neutral-tts/synmels_r3_149_difflen/test/mel_1985.npy\n",
      "/github/datasets/openslr-95-german-neutral-tts/synmels_r3_149_difflen/test/mel_1986.npy\n",
      "/github/datasets/openslr-95-german-neutral-tts/synmels_r3_149_difflen/test/mel_1987.npy\n",
      "/github/datasets/openslr-95-german-neutral-tts/synmels_r3_149_difflen/test/mel_1988.npy\n",
      "/github/datasets/openslr-95-german-neutral-tts/synmels_r3_149_difflen/test/mel_1989.npy\n",
      "/github/datasets/openslr-95-german-neutral-tts/synmels_r3_149_difflen/test/mel_1990.npy\n",
      "/github/datasets/openslr-95-german-neutral-tts/synmels_r3_149_difflen/test/mel_1991.npy\n",
      "/github/datasets/openslr-95-german-neutral-tts/synmels_r3_149_difflen/test/mel_1992.npy\n",
      "/github/datasets/openslr-95-german-neutral-tts/synmels_r3_149_difflen/test/mel_1993.npy\n",
      "/github/datasets/openslr-95-german-neutral-tts/synmels_r3_149_difflen/test/mel_1994.npy\n",
      "/github/datasets/openslr-95-german-neutral-tts/synmels_r3_149_difflen/test/mel_1995.npy\n",
      "/github/datasets/openslr-95-german-neutral-tts/synmels_r3_149_difflen/test/mel_1996.npy\n",
      "/github/datasets/openslr-95-german-neutral-tts/synmels_r3_149_difflen/test/mel_1997.npy\n",
      "/github/datasets/openslr-95-german-neutral-tts/synmels_r3_149_difflen/test/mel_1998.npy\n"
     ]
    },
    {
     "name": "stderr",
     "output_type": "stream",
     "text": [
      "[NeMo W 2022-05-12 01:53:08 tts_tokenizers:351] Text: [IH1CH WEY1ß YAA1 nicht, womit du AE1LZ nachstes AH1M DAY1 ecke kommst.] contains unknown char/phoneme: [ß]. Original text: [Ich weiß ja nicht, womit du als Nachstes um die Ecke kommst.]. Symbol will be skipped.\n",
      "[NeMo W 2022-05-12 01:53:08 tts_tokenizers:351] Text: [DIH0MIY1TRIY0 HHEY1GAH0N LAY1ß sich EY1LZ noch MAE1L DER1CH DEH1N KAO1PF gehen.] contains unknown char/phoneme: [ß]. Original text: [Dimitri Hagen ließ sich alles noch mal durch den Kopf gehen.]. Symbol will be skipped.\n"
     ]
    },
    {
     "name": "stdout",
     "output_type": "stream",
     "text": [
      "/github/datasets/openslr-95-german-neutral-tts/synmels_r3_149_difflen/test/mel_1999.npy\n",
      "/github/datasets/openslr-95-german-neutral-tts/synmels_r3_149_difflen/test/mel_2000.npy\n",
      "/github/datasets/openslr-95-german-neutral-tts/synmels_r3_149_difflen/test/mel_2001.npy\n",
      "/github/datasets/openslr-95-german-neutral-tts/synmels_r3_149_difflen/test/mel_2002.npy\n",
      "/github/datasets/openslr-95-german-neutral-tts/synmels_r3_149_difflen/test/mel_2003.npy\n",
      "/github/datasets/openslr-95-german-neutral-tts/synmels_r3_149_difflen/test/mel_2004.npy\n",
      "/github/datasets/openslr-95-german-neutral-tts/synmels_r3_149_difflen/test/mel_2005.npy\n",
      "/github/datasets/openslr-95-german-neutral-tts/synmels_r3_149_difflen/test/mel_2006.npy\n",
      "/github/datasets/openslr-95-german-neutral-tts/synmels_r3_149_difflen/test/mel_2007.npy\n",
      "/github/datasets/openslr-95-german-neutral-tts/synmels_r3_149_difflen/test/mel_2008.npy\n",
      "/github/datasets/openslr-95-german-neutral-tts/synmels_r3_149_difflen/test/mel_2009.npy\n",
      "/github/datasets/openslr-95-german-neutral-tts/synmels_r3_149_difflen/test/mel_2010.npy\n",
      "/github/datasets/openslr-95-german-neutral-tts/synmels_r3_149_difflen/test/mel_2011.npy\n",
      "/github/datasets/openslr-95-german-neutral-tts/synmels_r3_149_difflen/test/mel_2012.npy\n",
      "/github/datasets/openslr-95-german-neutral-tts/synmels_r3_149_difflen/test/mel_2013.npy\n",
      "/github/datasets/openslr-95-german-neutral-tts/synmels_r3_149_difflen/test/mel_2014.npy\n",
      "/github/datasets/openslr-95-german-neutral-tts/synmels_r3_149_difflen/test/mel_2015.npy\n",
      "/github/datasets/openslr-95-german-neutral-tts/synmels_r3_149_difflen/test/mel_2016.npy\n",
      "/github/datasets/openslr-95-german-neutral-tts/synmels_r3_149_difflen/test/mel_2017.npy\n",
      "/github/datasets/openslr-95-german-neutral-tts/synmels_r3_149_difflen/test/mel_2018.npy\n",
      "/github/datasets/openslr-95-german-neutral-tts/synmels_r3_149_difflen/test/mel_2019.npy\n",
      "/github/datasets/openslr-95-german-neutral-tts/synmels_r3_149_difflen/test/mel_2020.npy\n",
      "/github/datasets/openslr-95-german-neutral-tts/synmels_r3_149_difflen/test/mel_2021.npy\n",
      "/github/datasets/openslr-95-german-neutral-tts/synmels_r3_149_difflen/test/mel_2022.npy\n",
      "/github/datasets/openslr-95-german-neutral-tts/synmels_r3_149_difflen/test/mel_2023.npy\n",
      "/github/datasets/openslr-95-german-neutral-tts/synmels_r3_149_difflen/test/mel_2024.npy\n",
      "/github/datasets/openslr-95-german-neutral-tts/synmels_r3_149_difflen/test/mel_2025.npy\n",
      "/github/datasets/openslr-95-german-neutral-tts/synmels_r3_149_difflen/test/mel_2026.npy\n",
      "/github/datasets/openslr-95-german-neutral-tts/synmels_r3_149_difflen/test/mel_2027.npy\n",
      "/github/datasets/openslr-95-german-neutral-tts/synmels_r3_149_difflen/test/mel_2028.npy\n"
     ]
    },
    {
     "name": "stderr",
     "output_type": "stream",
     "text": [
      "[NeMo W 2022-05-12 01:53:09 tts_tokenizers:351] Text: [SOW1 heißTIY1 das doch jetzt, OW1DER0?] contains unknown char/phoneme: [ß]. Original text: [So heißt das doch jetzt, oder?]. Symbol will be skipped.\n"
     ]
    },
    {
     "name": "stdout",
     "output_type": "stream",
     "text": [
      "/github/datasets/openslr-95-german-neutral-tts/synmels_r3_149_difflen/test/mel_2029.npy\n",
      "/github/datasets/openslr-95-german-neutral-tts/synmels_r3_149_difflen/test/mel_2030.npy\n",
      "/github/datasets/openslr-95-german-neutral-tts/synmels_r3_149_difflen/test/mel_2031.npy\n",
      "/github/datasets/openslr-95-german-neutral-tts/synmels_r3_149_difflen/test/mel_2032.npy\n",
      "/github/datasets/openslr-95-german-neutral-tts/synmels_r3_149_difflen/test/mel_2033.npy\n",
      "/github/datasets/openslr-95-german-neutral-tts/synmels_r3_149_difflen/test/mel_2034.npy\n",
      "/github/datasets/openslr-95-german-neutral-tts/synmels_r3_149_difflen/test/mel_2035.npy\n",
      "/github/datasets/openslr-95-german-neutral-tts/synmels_r3_149_difflen/test/mel_2036.npy\n",
      "/github/datasets/openslr-95-german-neutral-tts/synmels_r3_149_difflen/test/mel_2037.npy\n"
     ]
    },
    {
     "name": "stderr",
     "output_type": "stream",
     "text": [
      "[NeMo W 2022-05-12 01:53:09 tts_tokenizers:351] Text: [was FER1 DAY1 betriebe wichtig ist, ist, DAE1S DAY1 bundesagentur AO1CH spezielle vorbereitungsmaßnahmen, sprachkurse anbietet, DAY1 UW1BER0 DEH1N integrationskurs des bamf hinausgehen.] contains unknown char/phoneme: [ß]. Original text: [Was fur die Betriebe wichtig ist, ist, dass die Bundesagentur auch spezielle Vorbereitungsmaßnahmen, Sprachkurse anbietet, die uber den Integrationskurs des BAMF hinausgehen.]. Symbol will be skipped.\n"
     ]
    },
    {
     "name": "stdout",
     "output_type": "stream",
     "text": [
      "/github/datasets/openslr-95-german-neutral-tts/synmels_r3_149_difflen/test/mel_2038.npy\n"
     ]
    },
    {
     "name": "stderr",
     "output_type": "stream",
     "text": [
      "[NeMo W 2022-05-12 01:53:09 tts_tokenizers:351] Text: [mit einer GROW1ßEH1N sammellinse fokussieren SIY1 DAY1 sonnenstrahlen.] contains unknown char/phoneme: [ß]. Original text: [Mit einer großen Sammellinse fokussieren sie die Sonnenstrahlen.]. Symbol will be skipped.\n"
     ]
    },
    {
     "name": "stdout",
     "output_type": "stream",
     "text": [
      "/github/datasets/openslr-95-german-neutral-tts/synmels_r3_149_difflen/test/mel_2039.npy\n",
      "/github/datasets/openslr-95-german-neutral-tts/synmels_r3_149_difflen/test/mel_2040.npy\n",
      "/github/datasets/openslr-95-german-neutral-tts/synmels_r3_149_difflen/test/mel_2041.npy\n",
      "/github/datasets/openslr-95-german-neutral-tts/synmels_r3_149_difflen/test/mel_2042.npy\n",
      "/github/datasets/openslr-95-german-neutral-tts/synmels_r3_149_difflen/test/mel_2043.npy\n",
      "/github/datasets/openslr-95-german-neutral-tts/synmels_r3_149_difflen/test/mel_2044.npy\n",
      "/github/datasets/openslr-95-german-neutral-tts/synmels_r3_149_difflen/test/mel_2045.npy\n",
      "/github/datasets/openslr-95-german-neutral-tts/synmels_r3_149_difflen/test/mel_2046.npy\n",
      "/github/datasets/openslr-95-german-neutral-tts/synmels_r3_149_difflen/test/mel_2047.npy\n",
      "/github/datasets/openslr-95-german-neutral-tts/synmels_r3_149_difflen/test/mel_2048.npy\n",
      "/github/datasets/openslr-95-german-neutral-tts/synmels_r3_149_difflen/test/mel_2049.npy\n"
     ]
    },
    {
     "name": "stderr",
     "output_type": "stream",
     "text": [
      "[NeMo W 2022-05-12 01:53:09 tts_tokenizers:351] Text: [wiederum wenn EH1S besonders betont wird, DAE1N wird MAE1L GROW1ß geschrieben.] contains unknown char/phoneme: [ß]. Original text: [Wiederum wenn es besonders betont wird, dann wird Mal groß geschrieben.]. Symbol will be skipped.\n"
     ]
    },
    {
     "name": "stdout",
     "output_type": "stream",
     "text": [
      "/github/datasets/openslr-95-german-neutral-tts/synmels_r3_149_difflen/test/mel_2050.npy\n",
      "/github/datasets/openslr-95-german-neutral-tts/synmels_r3_149_difflen/test/mel_2051.npy\n",
      "/github/datasets/openslr-95-german-neutral-tts/synmels_r3_149_difflen/test/mel_2052.npy\n",
      "/github/datasets/openslr-95-german-neutral-tts/synmels_r3_149_difflen/test/mel_2053.npy\n",
      "/github/datasets/openslr-95-german-neutral-tts/synmels_r3_149_difflen/test/mel_2054.npy\n",
      "/github/datasets/openslr-95-german-neutral-tts/synmels_r3_149_difflen/test/mel_2055.npy\n",
      "/github/datasets/openslr-95-german-neutral-tts/synmels_r3_149_difflen/test/mel_2056.npy\n",
      "/github/datasets/openslr-95-german-neutral-tts/synmels_r3_149_difflen/test/mel_2057.npy\n",
      "/github/datasets/openslr-95-german-neutral-tts/synmels_r3_149_difflen/test/mel_2058.npy\n",
      "/github/datasets/openslr-95-german-neutral-tts/synmels_r3_149_difflen/test/mel_2059.npy\n",
      "/github/datasets/openslr-95-german-neutral-tts/synmels_r3_149_difflen/test/mel_2060.npy\n"
     ]
    },
    {
     "name": "stderr",
     "output_type": "stream",
     "text": [
      "[NeMo W 2022-05-12 01:53:10 tts_tokenizers:351] Text: [damals WAO1R MOW1ER0Z noch unter preußischer verwaltung.] contains unknown char/phoneme: [ß]. Original text: [Damals war Moers noch unter preußischer Verwaltung.]. Symbol will be skipped.\n"
     ]
    },
    {
     "name": "stdout",
     "output_type": "stream",
     "text": [
      "/github/datasets/openslr-95-german-neutral-tts/synmels_r3_149_difflen/test/mel_2061.npy\n",
      "/github/datasets/openslr-95-german-neutral-tts/synmels_r3_149_difflen/test/mel_2062.npy\n",
      "/github/datasets/openslr-95-german-neutral-tts/synmels_r3_149_difflen/test/mel_2063.npy\n",
      "/github/datasets/openslr-95-german-neutral-tts/synmels_r3_149_difflen/test/mel_2064.npy\n",
      "/github/datasets/openslr-95-german-neutral-tts/synmels_r3_149_difflen/test/mel_2065.npy\n",
      "/github/datasets/openslr-95-german-neutral-tts/synmels_r3_149_difflen/test/mel_2066.npy\n",
      "/github/datasets/openslr-95-german-neutral-tts/synmels_r3_149_difflen/test/mel_2067.npy\n",
      "/github/datasets/openslr-95-german-neutral-tts/synmels_r3_149_difflen/test/mel_2068.npy\n",
      "/github/datasets/openslr-95-german-neutral-tts/synmels_r3_149_difflen/test/mel_2069.npy\n",
      "/github/datasets/openslr-95-german-neutral-tts/synmels_r3_149_difflen/test/mel_2070.npy\n",
      "/github/datasets/openslr-95-german-neutral-tts/synmels_r3_149_difflen/test/mel_2071.npy\n",
      "/github/datasets/openslr-95-german-neutral-tts/synmels_r3_149_difflen/test/mel_2072.npy\n",
      "/github/datasets/openslr-95-german-neutral-tts/synmels_r3_149_difflen/test/mel_2073.npy\n",
      "/github/datasets/openslr-95-german-neutral-tts/synmels_r3_149_difflen/test/mel_2074.npy\n",
      "/github/datasets/openslr-95-german-neutral-tts/synmels_r3_149_difflen/test/mel_2075.npy\n",
      "/github/datasets/openslr-95-german-neutral-tts/synmels_r3_149_difflen/test/mel_2076.npy\n",
      "/github/datasets/openslr-95-german-neutral-tts/synmels_r3_149_difflen/test/mel_2077.npy\n",
      "/github/datasets/openslr-95-german-neutral-tts/synmels_r3_149_difflen/test/mel_2078.npy\n"
     ]
    },
    {
     "name": "stderr",
     "output_type": "stream",
     "text": [
      "[NeMo W 2022-05-12 01:53:10 tts_tokenizers:351] Text: [OW2KEY1, sicher. HHAY1ER0 ist eine GROW1ßIY1 auswahl AW1Z MAY1NER0 bibliothek.] contains unknown char/phoneme: [ß]. Original text: [Okay, sicher. Hier ist eine große Auswahl aus meiner Bibliothek.]. Symbol will be skipped.\n"
     ]
    },
    {
     "name": "stdout",
     "output_type": "stream",
     "text": [
      "/github/datasets/openslr-95-german-neutral-tts/synmels_r3_149_difflen/test/mel_2079.npy\n",
      "/github/datasets/openslr-95-german-neutral-tts/synmels_r3_149_difflen/test/mel_2080.npy\n",
      "/github/datasets/openslr-95-german-neutral-tts/synmels_r3_149_difflen/test/mel_2081.npy\n",
      "/github/datasets/openslr-95-german-neutral-tts/synmels_r3_149_difflen/test/mel_2082.npy\n",
      "/github/datasets/openslr-95-german-neutral-tts/synmels_r3_149_difflen/test/mel_2083.npy\n",
      "/github/datasets/openslr-95-german-neutral-tts/synmels_r3_149_difflen/test/mel_2084.npy\n",
      "/github/datasets/openslr-95-german-neutral-tts/synmels_r3_149_difflen/test/mel_2085.npy\n",
      "/github/datasets/openslr-95-german-neutral-tts/synmels_r3_149_difflen/test/mel_2086.npy\n",
      "/github/datasets/openslr-95-german-neutral-tts/synmels_r3_149_difflen/test/mel_2087.npy\n",
      "/github/datasets/openslr-95-german-neutral-tts/synmels_r3_149_difflen/test/mel_2088.npy\n",
      "/github/datasets/openslr-95-german-neutral-tts/synmels_r3_149_difflen/test/mel_2089.npy\n"
     ]
    },
    {
     "name": "stderr",
     "output_type": "stream",
     "text": [
      "[NeMo W 2022-05-12 01:53:10 tts_tokenizers:351] Text: [das heißTIY1, AY1N gewisser zugang zum KAH0MPYUW1TER0, gewisse programmierfahigkeiten WER1DAH0N heute sicherlich auf VIY1L breiterer basis erwartet.] contains unknown char/phoneme: [ß]. Original text: [Das heißt, ein gewisser Zugang zum Computer, gewisse Programmierfahigkeiten werden heute sicherlich auf viel breiterer Basis erwartet.]. Symbol will be skipped.\n"
     ]
    },
    {
     "name": "stdout",
     "output_type": "stream",
     "text": [
      "/github/datasets/openslr-95-german-neutral-tts/synmels_r3_149_difflen/test/mel_2090.npy\n",
      "/github/datasets/openslr-95-german-neutral-tts/synmels_r3_149_difflen/test/mel_2091.npy\n",
      "/github/datasets/openslr-95-german-neutral-tts/synmels_r3_149_difflen/test/mel_2092.npy\n",
      "/github/datasets/openslr-95-german-neutral-tts/synmels_r3_149_difflen/test/mel_2093.npy\n",
      "/github/datasets/openslr-95-german-neutral-tts/synmels_r3_149_difflen/test/mel_2094.npy\n",
      "/github/datasets/openslr-95-german-neutral-tts/synmels_r3_149_difflen/test/mel_2095.npy\n",
      "/github/datasets/openslr-95-german-neutral-tts/synmels_r3_149_difflen/test/mel_2096.npy\n",
      "/github/datasets/openslr-95-german-neutral-tts/synmels_r3_149_difflen/test/mel_2097.npy\n",
      "/github/datasets/openslr-95-german-neutral-tts/synmels_r3_149_difflen/test/mel_2098.npy\n",
      "/github/datasets/openslr-95-german-neutral-tts/synmels_r3_149_difflen/test/mel_2099.npy\n",
      "/github/datasets/openslr-95-german-neutral-tts/synmels_r3_149_difflen/test/mel_2100.npy\n",
      "/github/datasets/openslr-95-german-neutral-tts/synmels_r3_149_difflen/test/mel_2101.npy\n",
      "/github/datasets/openslr-95-german-neutral-tts/synmels_r3_149_difflen/test/mel_2102.npy\n",
      "/github/datasets/openslr-95-german-neutral-tts/synmels_r3_149_difflen/test/mel_2103.npy\n",
      "/github/datasets/openslr-95-german-neutral-tts/synmels_r3_149_difflen/test/mel_2104.npy\n",
      "/github/datasets/openslr-95-german-neutral-tts/synmels_r3_149_difflen/test/mel_2105.npy\n",
      "/github/datasets/openslr-95-german-neutral-tts/synmels_r3_149_difflen/test/mel_2106.npy\n",
      "/github/datasets/openslr-95-german-neutral-tts/synmels_r3_149_difflen/test/mel_2107.npy\n",
      "/github/datasets/openslr-95-german-neutral-tts/synmels_r3_149_difflen/test/mel_2108.npy\n",
      "/github/datasets/openslr-95-german-neutral-tts/synmels_r3_149_difflen/test/mel_2109.npy\n"
     ]
    },
    {
     "name": "stderr",
     "output_type": "stream",
     "text": [
      "[NeMo W 2022-05-12 01:53:11 tts_tokenizers:351] Text: [AH1ND HHAY1ER0 wird AO1CH DAY1 ganze bundesregierung vom finanzminister UW1BER0 DEH1N wirtschaftsminister BIH1S zum OW1ßEH1N- AH1ND entwicklungsminister AH1ND MIH1R naturlich gemeinsam agieren.] contains unknown char/phoneme: [ß]. Original text: [Und hier wird auch die ganze Bundesregierung vom Finanzminister uber den Wirtschaftsminister bis zum Außen- und Entwicklungsminister und mir naturlich gemeinsam agieren.]. Symbol will be skipped.\n"
     ]
    },
    {
     "name": "stdout",
     "output_type": "stream",
     "text": [
      "/github/datasets/openslr-95-german-neutral-tts/synmels_r3_149_difflen/test/mel_2110.npy\n",
      "/github/datasets/openslr-95-german-neutral-tts/synmels_r3_149_difflen/test/mel_2111.npy\n",
      "/github/datasets/openslr-95-german-neutral-tts/synmels_r3_149_difflen/test/mel_2112.npy\n",
      "/github/datasets/openslr-95-german-neutral-tts/synmels_r3_149_difflen/test/mel_2113.npy\n",
      "/github/datasets/openslr-95-german-neutral-tts/synmels_r3_149_difflen/test/mel_2114.npy\n",
      "/github/datasets/openslr-95-german-neutral-tts/synmels_r3_149_difflen/test/mel_2115.npy\n",
      "/github/datasets/openslr-95-german-neutral-tts/synmels_r3_149_difflen/test/mel_2116.npy\n",
      "/github/datasets/openslr-95-german-neutral-tts/synmels_r3_149_difflen/test/mel_2117.npy\n",
      "/github/datasets/openslr-95-german-neutral-tts/synmels_r3_149_difflen/test/mel_2118.npy\n",
      "/github/datasets/openslr-95-german-neutral-tts/synmels_r3_149_difflen/test/mel_2119.npy\n"
     ]
    },
    {
     "name": "stderr",
     "output_type": "stream",
     "text": [
      "[NeMo W 2022-05-12 01:53:11 tts_tokenizers:351] Text: [eine GROW1ßMAH1TER0 ohne kaffeemuhle ist keine richtige GROW1ßMAH1TER0.] contains unknown char/phoneme: [ß]. Original text: [Eine Großmutter ohne Kaffeemuhle ist keine richtige Großmutter.]. Symbol will be skipped.\n",
      "[NeMo W 2022-05-12 01:53:11 tts_tokenizers:351] Text: [eine GROW1ßMAH1TER0 ohne kaffeemuhle ist keine richtige GROW1ßMAH1TER0.] contains unknown char/phoneme: [ß]. Original text: [Eine Großmutter ohne Kaffeemuhle ist keine richtige Großmutter.]. Symbol will be skipped.\n"
     ]
    },
    {
     "name": "stdout",
     "output_type": "stream",
     "text": [
      "/github/datasets/openslr-95-german-neutral-tts/synmels_r3_149_difflen/test/mel_2120.npy\n",
      "/github/datasets/openslr-95-german-neutral-tts/synmels_r3_149_difflen/test/mel_2121.npy\n",
      "/github/datasets/openslr-95-german-neutral-tts/synmels_r3_149_difflen/test/mel_2122.npy\n",
      "/github/datasets/openslr-95-german-neutral-tts/synmels_r3_149_difflen/test/mel_2123.npy\n",
      "/github/datasets/openslr-95-german-neutral-tts/synmels_r3_149_difflen/test/mel_2124.npy\n",
      "/github/datasets/openslr-95-german-neutral-tts/synmels_r3_149_difflen/test/mel_2125.npy\n",
      "/github/datasets/openslr-95-german-neutral-tts/synmels_r3_149_difflen/test/mel_2126.npy\n",
      "/github/datasets/openslr-95-german-neutral-tts/synmels_r3_149_difflen/test/mel_2127.npy\n",
      "/github/datasets/openslr-95-german-neutral-tts/synmels_r3_149_difflen/test/mel_2128.npy\n",
      "/github/datasets/openslr-95-german-neutral-tts/synmels_r3_149_difflen/test/mel_2129.npy\n",
      "/github/datasets/openslr-95-german-neutral-tts/synmels_r3_149_difflen/test/mel_2130.npy\n"
     ]
    },
    {
     "name": "stderr",
     "output_type": "stream",
     "text": [
      "[NeMo W 2022-05-12 01:53:11 tts_tokenizers:351] Text: [sowohl DER1 israelische premierminister AE1LZ AO1CH DER1 palastinensische prasident – HHEH1R OW0LMER0T AH1ND HHEH1R AH0BAA1S – WER1DAH0N an dem pariser gipfel teilnehmen.] contains unknown char/phoneme: [–]. Original text: [Sowohl der israelische Premierminister als auch der palastinensische Prasident – Herr Olmert und Herr Abbas – werden an dem Pariser Gipfel teilnehmen.]. Symbol will be skipped.\n",
      "[NeMo W 2022-05-12 01:53:11 tts_tokenizers:351] Text: [sowohl DER1 israelische premierminister AE1LZ AO1CH DER1 palastinensische prasident – HHEH1R OW0LMER0T AH1ND HHEH1R AH0BAA1S – WER1DAH0N an dem pariser gipfel teilnehmen.] contains unknown char/phoneme: [–]. Original text: [Sowohl der israelische Premierminister als auch der palastinensische Prasident – Herr Olmert und Herr Abbas – werden an dem Pariser Gipfel teilnehmen.]. Symbol will be skipped.\n"
     ]
    },
    {
     "name": "stdout",
     "output_type": "stream",
     "text": [
      "/github/datasets/openslr-95-german-neutral-tts/synmels_r3_149_difflen/test/mel_2131.npy\n",
      "/github/datasets/openslr-95-german-neutral-tts/synmels_r3_149_difflen/test/mel_2132.npy\n",
      "/github/datasets/openslr-95-german-neutral-tts/synmels_r3_149_difflen/test/mel_2133.npy\n",
      "/github/datasets/openslr-95-german-neutral-tts/synmels_r3_149_difflen/test/mel_2134.npy\n",
      "/github/datasets/openslr-95-german-neutral-tts/synmels_r3_149_difflen/test/mel_2135.npy\n",
      "/github/datasets/openslr-95-german-neutral-tts/synmels_r3_149_difflen/test/mel_2136.npy\n",
      "/github/datasets/openslr-95-german-neutral-tts/synmels_r3_149_difflen/test/mel_2137.npy\n",
      "/github/datasets/openslr-95-german-neutral-tts/synmels_r3_149_difflen/test/mel_2138.npy\n",
      "/github/datasets/openslr-95-german-neutral-tts/synmels_r3_149_difflen/test/mel_2139.npy\n"
     ]
    },
    {
     "name": "stderr",
     "output_type": "stream",
     "text": [
      "[NeMo W 2022-05-12 01:53:11 tts_tokenizers:351] Text: [FER1 entstehung AH1ND auspragung DER1 dammerungsfarben ist DER1 vertikale aufbau DER1 atmosphare MAA1ßgeblich.] contains unknown char/phoneme: [ß]. Original text: [Fur Entstehung und Auspragung der Dammerungsfarben ist der vertikale Aufbau der Atmosphare maßgeblich.]. Symbol will be skipped.\n",
      "[NeMo W 2022-05-12 01:53:11 tts_tokenizers:351] Text: [EY1BER0 EH1S braucht AO1CH immer WIY1DER0 hauptamtliche krafte, das heißTIY1, das ehrenamt darf keine sparbuchse SAY1N.] contains unknown char/phoneme: [ß]. Original text: [Aber es braucht auch immer wieder hauptamtliche Krafte, das heißt, das Ehrenamt darf keine Sparbuchse sein.]. Symbol will be skipped.\n",
      "[NeMo W 2022-05-12 01:53:12 tts_tokenizers:351] Text: [AH1M vor blitzern gewarnt zu SAY1N, klemmt MAE1N sich an DAY1 stoßSTAE1NJH eines anderen.] contains unknown char/phoneme: [ß]. Original text: [Um vor Blitzern gewarnt zu sein, klemmt man sich an die Stoßstange eines anderen.]. Symbol will be skipped.\n"
     ]
    },
    {
     "name": "stdout",
     "output_type": "stream",
     "text": [
      "/github/datasets/openslr-95-german-neutral-tts/synmels_r3_149_difflen/test/mel_2140.npy\n",
      "/github/datasets/openslr-95-german-neutral-tts/synmels_r3_149_difflen/test/mel_2141.npy\n",
      "/github/datasets/openslr-95-german-neutral-tts/synmels_r3_149_difflen/test/mel_2142.npy\n",
      "/github/datasets/openslr-95-german-neutral-tts/synmels_r3_149_difflen/test/mel_2143.npy\n",
      "/github/datasets/openslr-95-german-neutral-tts/synmels_r3_149_difflen/test/mel_2144.npy\n",
      "/github/datasets/openslr-95-german-neutral-tts/synmels_r3_149_difflen/test/mel_2145.npy\n",
      "/github/datasets/openslr-95-german-neutral-tts/synmels_r3_149_difflen/test/mel_2146.npy\n",
      "/github/datasets/openslr-95-german-neutral-tts/synmels_r3_149_difflen/test/mel_2147.npy\n",
      "/github/datasets/openslr-95-german-neutral-tts/synmels_r3_149_difflen/test/mel_2148.npy\n",
      "/github/datasets/openslr-95-german-neutral-tts/synmels_r3_149_difflen/test/mel_2149.npy\n"
     ]
    },
    {
     "name": "stderr",
     "output_type": "stream",
     "text": [
      "[NeMo W 2022-05-12 01:53:12 tts_tokenizers:351] Text: [wird MAE1N dabei geblitzt, muss MAE1N das bußgeld nicht zahlen.] contains unknown char/phoneme: [ß]. Original text: [Wird man dabei geblitzt, muss man das Bußgeld nicht zahlen.]. Symbol will be skipped.\n",
      "[NeMo W 2022-05-12 01:53:12 tts_tokenizers:351] Text: [OW1ßerdem muss DER1 eingriff verhaltnismaßig SAY1N.] contains unknown char/phoneme: [ß]. Original text: [Außerdem muss der Eingriff verhaltnismaßig sein.]. Symbol will be skipped.\n",
      "[NeMo W 2022-05-12 01:53:12 tts_tokenizers:351] Text: [OW1ßerdem muss DER1 eingriff verhaltnismaßig SAY1N.] contains unknown char/phoneme: [ß]. Original text: [Außerdem muss der Eingriff verhaltnismaßig sein.]. Symbol will be skipped.\n"
     ]
    },
    {
     "name": "stdout",
     "output_type": "stream",
     "text": [
      "/github/datasets/openslr-95-german-neutral-tts/synmels_r3_149_difflen/test/mel_2150.npy\n",
      "/github/datasets/openslr-95-german-neutral-tts/synmels_r3_149_difflen/test/mel_2151.npy\n",
      "/github/datasets/openslr-95-german-neutral-tts/synmels_r3_149_difflen/test/mel_2152.npy\n",
      "/github/datasets/openslr-95-german-neutral-tts/synmels_r3_149_difflen/test/mel_2153.npy\n",
      "/github/datasets/openslr-95-german-neutral-tts/synmels_r3_149_difflen/test/mel_2154.npy\n",
      "/github/datasets/openslr-95-german-neutral-tts/synmels_r3_149_difflen/test/mel_2155.npy\n",
      "/github/datasets/openslr-95-german-neutral-tts/synmels_r3_149_difflen/test/mel_2156.npy\n",
      "/github/datasets/openslr-95-german-neutral-tts/synmels_r3_149_difflen/test/mel_2157.npy\n",
      "/github/datasets/openslr-95-german-neutral-tts/synmels_r3_149_difflen/test/mel_2158.npy\n",
      "/github/datasets/openslr-95-german-neutral-tts/synmels_r3_149_difflen/test/mel_2159.npy\n",
      "/github/datasets/openslr-95-german-neutral-tts/synmels_r3_149_difflen/test/mel_2160.npy\n",
      "/github/datasets/openslr-95-german-neutral-tts/synmels_r3_149_difflen/test/mel_2161.npy\n",
      "/github/datasets/openslr-95-german-neutral-tts/synmels_r3_149_difflen/test/mel_2162.npy\n",
      "/github/datasets/openslr-95-german-neutral-tts/synmels_r3_149_difflen/test/mel_2163.npy\n",
      "/github/datasets/openslr-95-german-neutral-tts/synmels_r3_149_difflen/test/mel_2164.npy\n",
      "/github/datasets/openslr-95-german-neutral-tts/synmels_r3_149_difflen/test/mel_2165.npy\n",
      "/github/datasets/openslr-95-german-neutral-tts/synmels_r3_149_difflen/test/mel_2166.npy\n",
      "/github/datasets/openslr-95-german-neutral-tts/synmels_r3_149_difflen/test/mel_2167.npy\n",
      "/github/datasets/openslr-95-german-neutral-tts/synmels_r3_149_difflen/test/mel_2168.npy\n",
      "/github/datasets/openslr-95-german-neutral-tts/synmels_r3_149_difflen/test/mel_2169.npy\n",
      "/github/datasets/openslr-95-german-neutral-tts/synmels_r3_149_difflen/test/mel_2170.npy\n"
     ]
    },
    {
     "name": "stderr",
     "output_type": "stream",
     "text": [
      "[NeMo W 2022-05-12 01:53:12 tts_tokenizers:351] Text: [SOW1 SAA1ß SIY1 da, schlurfte ihren kaffee AH1ND beobachtete DAY1 leute.] contains unknown char/phoneme: [ß]. Original text: [So saß sie da, schlurfte ihren Kaffee und beobachtete die Leute.]. Symbol will be skipped.\n"
     ]
    },
    {
     "name": "stdout",
     "output_type": "stream",
     "text": [
      "/github/datasets/openslr-95-german-neutral-tts/synmels_r3_149_difflen/test/mel_2171.npy\n",
      "/github/datasets/openslr-95-german-neutral-tts/synmels_r3_149_difflen/test/mel_2172.npy\n",
      "/github/datasets/openslr-95-german-neutral-tts/synmels_r3_149_difflen/test/mel_2173.npy\n",
      "/github/datasets/openslr-95-german-neutral-tts/synmels_r3_149_difflen/test/mel_2174.npy\n",
      "/github/datasets/openslr-95-german-neutral-tts/synmels_r3_149_difflen/test/mel_2175.npy\n",
      "/github/datasets/openslr-95-german-neutral-tts/synmels_r3_149_difflen/test/mel_2176.npy\n",
      "/github/datasets/openslr-95-german-neutral-tts/synmels_r3_149_difflen/test/mel_2177.npy\n",
      "/github/datasets/openslr-95-german-neutral-tts/synmels_r3_149_difflen/test/mel_2178.npy\n",
      "/github/datasets/openslr-95-german-neutral-tts/synmels_r3_149_difflen/test/mel_2179.npy\n",
      "/github/datasets/openslr-95-german-neutral-tts/synmels_r3_149_difflen/test/mel_2180.npy\n",
      "/github/datasets/openslr-95-german-neutral-tts/synmels_r3_149_difflen/test/mel_2181.npy\n"
     ]
    },
    {
     "name": "stderr",
     "output_type": "stream",
     "text": [
      "[NeMo W 2022-05-12 01:53:12 tts_tokenizers:351] Text: [baume in aquatornahe haben DEH1N GROW1ßTEH1N effekt auf DAY1 atmosphare.] contains unknown char/phoneme: [ß]. Original text: [Baume in Aquatornahe haben den großten Effekt auf die Atmosphare.]. Symbol will be skipped.\n"
     ]
    },
    {
     "name": "stdout",
     "output_type": "stream",
     "text": [
      "/github/datasets/openslr-95-german-neutral-tts/synmels_r3_149_difflen/test/mel_2182.npy\n",
      "/github/datasets/openslr-95-german-neutral-tts/synmels_r3_149_difflen/test/mel_2183.npy\n",
      "/github/datasets/openslr-95-german-neutral-tts/synmels_r3_149_difflen/test/mel_2184.npy\n",
      "/github/datasets/openslr-95-german-neutral-tts/synmels_r3_149_difflen/test/mel_2185.npy\n",
      "/github/datasets/openslr-95-german-neutral-tts/synmels_r3_149_difflen/test/mel_2186.npy\n",
      "/github/datasets/openslr-95-german-neutral-tts/synmels_r3_149_difflen/test/mel_2187.npy\n",
      "/github/datasets/openslr-95-german-neutral-tts/synmels_r3_149_difflen/test/mel_2188.npy\n",
      "/github/datasets/openslr-95-german-neutral-tts/synmels_r3_149_difflen/test/mel_2189.npy\n",
      "/github/datasets/openslr-95-german-neutral-tts/synmels_r3_149_difflen/test/mel_2190.npy\n",
      "/github/datasets/openslr-95-german-neutral-tts/synmels_r3_149_difflen/test/mel_2191.npy\n",
      "/github/datasets/openslr-95-german-neutral-tts/synmels_r3_149_difflen/test/mel_2192.npy\n",
      "/github/datasets/openslr-95-german-neutral-tts/synmels_r3_149_difflen/test/mel_2193.npy\n",
      "/github/datasets/openslr-95-german-neutral-tts/synmels_r3_149_difflen/test/mel_2194.npy\n",
      "/github/datasets/openslr-95-german-neutral-tts/synmels_r3_149_difflen/test/mel_2195.npy\n",
      "/github/datasets/openslr-95-german-neutral-tts/synmels_r3_149_difflen/test/mel_2196.npy\n",
      "/github/datasets/openslr-95-german-neutral-tts/synmels_r3_149_difflen/test/mel_2197.npy\n",
      "/github/datasets/openslr-95-german-neutral-tts/synmels_r3_149_difflen/test/mel_2198.npy\n",
      "/github/datasets/openslr-95-german-neutral-tts/synmels_r3_149_difflen/test/mel_2199.npy\n",
      "/github/datasets/openslr-95-german-neutral-tts/synmels_r3_149_difflen/test/mel_2200.npy\n",
      "/github/datasets/openslr-95-german-neutral-tts/synmels_r3_149_difflen/test/mel_2201.npy\n",
      "/github/datasets/openslr-95-german-neutral-tts/synmels_r3_149_difflen/test/mel_2202.npy\n"
     ]
    },
    {
     "name": "stderr",
     "output_type": "stream",
     "text": [
      "[NeMo W 2022-05-12 01:53:13 tts_tokenizers:351] Text: [das heißTIY1 AO1LSOW0, das WER1DAH0N unsere schwerpunkte SAY1N, neben dem klassischen thema wirtschaftswachstum AH1ND damit AO1CH MEH1R chancen FER1 arbeitsplatze FER1 DAY1 menschen auf dieser WEH1LT.] contains unknown char/phoneme: [ß]. Original text: [Das heißt also, das werden unsere Schwerpunkte sein, neben dem klassischen Thema Wirtschaftswachstum und damit auch mehr Chancen fur Arbeitsplatze fur die Menschen auf dieser Welt.]. Symbol will be skipped.\n"
     ]
    },
    {
     "name": "stdout",
     "output_type": "stream",
     "text": [
      "/github/datasets/openslr-95-german-neutral-tts/synmels_r3_149_difflen/test/mel_2203.npy\n",
      "/github/datasets/openslr-95-german-neutral-tts/synmels_r3_149_difflen/test/mel_2204.npy\n",
      "/github/datasets/openslr-95-german-neutral-tts/synmels_r3_149_difflen/test/mel_2205.npy\n",
      "/github/datasets/openslr-95-german-neutral-tts/synmels_r3_149_difflen/test/mel_2206.npy\n",
      "/github/datasets/openslr-95-german-neutral-tts/synmels_r3_149_difflen/test/mel_2207.npy\n",
      "/github/datasets/openslr-95-german-neutral-tts/synmels_r3_149_difflen/test/mel_2208.npy\n",
      "/github/datasets/openslr-95-german-neutral-tts/synmels_r3_149_difflen/test/mel_2209.npy\n",
      "/github/datasets/openslr-95-german-neutral-tts/synmels_r3_149_difflen/test/mel_2210.npy\n",
      "/github/datasets/openslr-95-german-neutral-tts/synmels_r3_149_difflen/test/mel_2211.npy\n",
      "/github/datasets/openslr-95-german-neutral-tts/synmels_r3_149_difflen/test/mel_2212.npy\n",
      "/github/datasets/openslr-95-german-neutral-tts/synmels_r3_149_difflen/test/mel_2213.npy\n",
      "/github/datasets/openslr-95-german-neutral-tts/synmels_r3_149_difflen/test/mel_2214.npy\n",
      "/github/datasets/openslr-95-german-neutral-tts/synmels_r3_149_difflen/test/mel_2215.npy\n",
      "/github/datasets/openslr-95-german-neutral-tts/synmels_r3_149_difflen/test/mel_2216.npy\n",
      "/github/datasets/openslr-95-german-neutral-tts/synmels_r3_149_difflen/test/mel_2217.npy\n",
      "/github/datasets/openslr-95-german-neutral-tts/synmels_r3_149_difflen/test/mel_2218.npy\n",
      "/github/datasets/openslr-95-german-neutral-tts/synmels_r3_149_difflen/test/mel_2219.npy\n",
      "/github/datasets/openslr-95-german-neutral-tts/synmels_r3_149_difflen/test/mel_2220.npy\n",
      "/github/datasets/openslr-95-german-neutral-tts/synmels_r3_149_difflen/test/mel_2221.npy\n",
      "/github/datasets/openslr-95-german-neutral-tts/synmels_r3_149_difflen/test/mel_2222.npy\n",
      "/github/datasets/openslr-95-german-neutral-tts/synmels_r3_149_difflen/test/mel_2223.npy\n",
      "/github/datasets/openslr-95-german-neutral-tts/synmels_r3_149_difflen/test/mel_2224.npy\n",
      "/github/datasets/openslr-95-german-neutral-tts/synmels_r3_149_difflen/test/mel_2225.npy\n",
      "/github/datasets/openslr-95-german-neutral-tts/synmels_r3_149_difflen/test/mel_2226.npy\n",
      "/github/datasets/openslr-95-german-neutral-tts/synmels_r3_149_difflen/test/mel_2227.npy\n",
      "/github/datasets/openslr-95-german-neutral-tts/synmels_r3_149_difflen/test/mel_2228.npy\n",
      "/github/datasets/openslr-95-german-neutral-tts/synmels_r3_149_difflen/test/mel_2229.npy\n",
      "/github/datasets/openslr-95-german-neutral-tts/synmels_r3_149_difflen/test/mel_2230.npy\n",
      "/github/datasets/openslr-95-german-neutral-tts/synmels_r3_149_difflen/test/mel_2231.npy\n",
      "/github/datasets/openslr-95-german-neutral-tts/synmels_r3_149_difflen/test/mel_2232.npy\n",
      "/github/datasets/openslr-95-german-neutral-tts/synmels_r3_149_difflen/test/mel_2233.npy\n",
      "/github/datasets/openslr-95-german-neutral-tts/synmels_r3_149_difflen/test/mel_2234.npy\n"
     ]
    },
    {
     "name": "stderr",
     "output_type": "stream",
     "text": [
      "[NeMo W 2022-05-12 01:53:13 tts_tokenizers:351] Text: [unterm strich muss DAY1 professionelle textilreinigung einbußEH1N hinnehmen.] contains unknown char/phoneme: [ß]. Original text: [Unterm Strich muss die professionelle Textilreinigung Einbußen hinnehmen.]. Symbol will be skipped.\n"
     ]
    },
    {
     "name": "stdout",
     "output_type": "stream",
     "text": [
      "/github/datasets/openslr-95-german-neutral-tts/synmels_r3_149_difflen/test/mel_2235.npy\n",
      "/github/datasets/openslr-95-german-neutral-tts/synmels_r3_149_difflen/test/mel_2236.npy\n",
      "/github/datasets/openslr-95-german-neutral-tts/synmels_r3_149_difflen/test/mel_2237.npy\n",
      "/github/datasets/openslr-95-german-neutral-tts/synmels_r3_149_difflen/test/mel_2238.npy\n",
      "/github/datasets/openslr-95-german-neutral-tts/synmels_r3_149_difflen/test/mel_2239.npy\n",
      "/github/datasets/openslr-95-german-neutral-tts/synmels_r3_149_difflen/test/mel_2240.npy\n",
      "/github/datasets/openslr-95-german-neutral-tts/synmels_r3_149_difflen/test/mel_2241.npy\n",
      "/github/datasets/openslr-95-german-neutral-tts/synmels_r3_149_difflen/test/mel_2242.npy\n",
      "/github/datasets/openslr-95-german-neutral-tts/synmels_r3_149_difflen/test/mel_2243.npy\n",
      "/github/datasets/openslr-95-german-neutral-tts/synmels_r3_149_difflen/test/mel_2244.npy\n",
      "/github/datasets/openslr-95-german-neutral-tts/synmels_r3_149_difflen/test/mel_2245.npy\n"
     ]
    },
    {
     "name": "stderr",
     "output_type": "stream",
     "text": [
      "[NeMo W 2022-05-12 01:53:14 tts_tokenizers:351] Text: [vermeintlich „leichte\" verletzungen WER1DAH0N VAO1N dem betroffenen ebenso wie vom behandelnden AA1RZT AO1FT unterschatzt.] contains unknown char/phoneme: [„]. Original text: [Vermeintlich „leichte\" Verletzungen werden von dem Betroffenen ebenso wie vom behandelnden Arzt oft unterschatzt.]. Symbol will be skipped.\n"
     ]
    },
    {
     "name": "stdout",
     "output_type": "stream",
     "text": [
      "/github/datasets/openslr-95-german-neutral-tts/synmels_r3_149_difflen/test/mel_2246.npy\n",
      "/github/datasets/openslr-95-german-neutral-tts/synmels_r3_149_difflen/test/mel_2247.npy\n",
      "/github/datasets/openslr-95-german-neutral-tts/synmels_r3_149_difflen/test/mel_2248.npy\n",
      "/github/datasets/openslr-95-german-neutral-tts/synmels_r3_149_difflen/test/mel_2249.npy\n",
      "/github/datasets/openslr-95-german-neutral-tts/synmels_r3_149_difflen/test/mel_2250.npy\n",
      "/github/datasets/openslr-95-german-neutral-tts/synmels_r3_149_difflen/test/mel_2251.npy\n",
      "/github/datasets/openslr-95-german-neutral-tts/synmels_r3_149_difflen/test/mel_2252.npy\n",
      "/github/datasets/openslr-95-german-neutral-tts/synmels_r3_149_difflen/test/mel_2253.npy\n",
      "/github/datasets/openslr-95-german-neutral-tts/synmels_r3_149_difflen/test/mel_2254.npy\n",
      "/github/datasets/openslr-95-german-neutral-tts/synmels_r3_149_difflen/test/mel_2255.npy\n",
      "/github/datasets/openslr-95-german-neutral-tts/synmels_r3_149_difflen/test/mel_2256.npy\n",
      "/github/datasets/openslr-95-german-neutral-tts/synmels_r3_149_difflen/test/mel_2257.npy\n",
      "/github/datasets/openslr-95-german-neutral-tts/synmels_r3_149_difflen/test/mel_2258.npy\n",
      "/github/datasets/openslr-95-german-neutral-tts/synmels_r3_149_difflen/test/mel_2259.npy\n",
      "/github/datasets/openslr-95-german-neutral-tts/synmels_r3_149_difflen/test/mel_2260.npy\n",
      "/github/datasets/openslr-95-german-neutral-tts/synmels_r3_149_difflen/test/mel_2261.npy\n",
      "/github/datasets/openslr-95-german-neutral-tts/synmels_r3_149_difflen/test/mel_2262.npy\n",
      "/github/datasets/openslr-95-german-neutral-tts/synmels_r3_149_difflen/test/mel_2263.npy\n",
      "/github/datasets/openslr-95-german-neutral-tts/synmels_r3_149_difflen/test/mel_2264.npy\n",
      "/github/datasets/openslr-95-german-neutral-tts/synmels_r3_149_difflen/test/mel_2265.npy\n",
      "/github/datasets/openslr-95-german-neutral-tts/synmels_r3_149_difflen/test/mel_2266.npy\n",
      "/github/datasets/openslr-95-german-neutral-tts/synmels_r3_149_difflen/test/mel_2267.npy\n",
      "/github/datasets/openslr-95-german-neutral-tts/synmels_r3_149_difflen/test/mel_2268.npy\n",
      "/github/datasets/openslr-95-german-neutral-tts/synmels_r3_149_difflen/test/mel_2269.npy\n",
      "/github/datasets/openslr-95-german-neutral-tts/synmels_r3_149_difflen/test/mel_2270.npy\n",
      "/github/datasets/openslr-95-german-neutral-tts/synmels_r3_149_difflen/test/mel_2271.npy\n",
      "/github/datasets/openslr-95-german-neutral-tts/synmels_r3_149_difflen/test/mel_2272.npy\n",
      "/github/datasets/openslr-95-german-neutral-tts/synmels_r3_149_difflen/test/mel_2273.npy\n",
      "/github/datasets/openslr-95-german-neutral-tts/synmels_r3_149_difflen/test/mel_2274.npy\n",
      "/github/datasets/openslr-95-german-neutral-tts/synmels_r3_149_difflen/test/mel_2275.npy\n",
      "/github/datasets/openslr-95-german-neutral-tts/synmels_r3_149_difflen/test/mel_2276.npy\n",
      "/github/datasets/openslr-95-german-neutral-tts/synmels_r3_149_difflen/test/mel_2277.npy\n"
     ]
    },
    {
     "name": "stderr",
     "output_type": "stream",
     "text": [
      "[NeMo W 2022-05-12 01:53:14 tts_tokenizers:351] Text: [das eine ist: eine frage bei DER1 frage „wie WAA1LAH0N wir zusammenleben?\" WAO1R AO1CH SOW1 AY1N bisschen: wie sehen eigentlich DAY1 menschen OW1ßerhalb DOY1CHLAE0NDZ auf DOY1CHLAE0ND?] contains unknown char/phoneme: [„]. Original text: [Das eine ist: Eine Frage bei der Frage „Wie wollen wir zusammenleben?\" war auch so ein bisschen: Wie sehen eigentlich die Menschen außerhalb Deutschlands auf Deutschland?]. Symbol will be skipped.\n",
      "[NeMo W 2022-05-12 01:53:14 tts_tokenizers:351] Text: [das eine ist: eine frage bei DER1 frage „wie WAA1LAH0N wir zusammenleben?\" WAO1R AO1CH SOW1 AY1N bisschen: wie sehen eigentlich DAY1 menschen OW1ßerhalb DOY1CHLAE0NDZ auf DOY1CHLAE0ND?] contains unknown char/phoneme: [ß]. Original text: [Das eine ist: Eine Frage bei der Frage „Wie wollen wir zusammenleben?\" war auch so ein bisschen: Wie sehen eigentlich die Menschen außerhalb Deutschlands auf Deutschland?]. Symbol will be skipped.\n"
     ]
    },
    {
     "name": "stdout",
     "output_type": "stream",
     "text": [
      "/github/datasets/openslr-95-german-neutral-tts/synmels_r3_149_difflen/test/mel_2278.npy\n",
      "/github/datasets/openslr-95-german-neutral-tts/synmels_r3_149_difflen/test/mel_2279.npy\n",
      "/github/datasets/openslr-95-german-neutral-tts/synmels_r3_149_difflen/test/mel_2280.npy\n",
      "/github/datasets/openslr-95-german-neutral-tts/synmels_r3_149_difflen/test/mel_2281.npy\n",
      "/github/datasets/openslr-95-german-neutral-tts/synmels_r3_149_difflen/test/mel_2282.npy\n",
      "/github/datasets/openslr-95-german-neutral-tts/synmels_r3_149_difflen/test/mel_2283.npy\n",
      "/github/datasets/openslr-95-german-neutral-tts/synmels_r3_149_difflen/test/mel_2284.npy\n",
      "/github/datasets/openslr-95-german-neutral-tts/synmels_r3_149_difflen/test/mel_2285.npy\n",
      "/github/datasets/openslr-95-german-neutral-tts/synmels_r3_149_difflen/test/mel_2286.npy\n",
      "/github/datasets/openslr-95-german-neutral-tts/synmels_r3_149_difflen/test/mel_2287.npy\n",
      "/github/datasets/openslr-95-german-neutral-tts/synmels_r3_149_difflen/test/mel_2288.npy\n"
     ]
    },
    {
     "name": "stderr",
     "output_type": "stream",
     "text": [
      "[NeMo W 2022-05-12 01:53:14 tts_tokenizers:351] Text: [du fahrst, IH1CH schießIY1!] contains unknown char/phoneme: [ß]. Original text: [Du fahrst, ich schieße!]. Symbol will be skipped.\n"
     ]
    },
    {
     "name": "stdout",
     "output_type": "stream",
     "text": [
      "/github/datasets/openslr-95-german-neutral-tts/synmels_r3_149_difflen/test/mel_2289.npy\n",
      "/github/datasets/openslr-95-german-neutral-tts/synmels_r3_149_difflen/test/mel_2290.npy\n",
      "/github/datasets/openslr-95-german-neutral-tts/synmels_r3_149_difflen/test/mel_2291.npy\n",
      "/github/datasets/openslr-95-german-neutral-tts/synmels_r3_149_difflen/test/mel_2292.npy\n",
      "/github/datasets/openslr-95-german-neutral-tts/synmels_r3_149_difflen/test/mel_2293.npy\n",
      "/github/datasets/openslr-95-german-neutral-tts/synmels_r3_149_difflen/test/mel_2294.npy\n",
      "/github/datasets/openslr-95-german-neutral-tts/synmels_r3_149_difflen/test/mel_2295.npy\n",
      "/github/datasets/openslr-95-german-neutral-tts/synmels_r3_149_difflen/test/mel_2296.npy\n",
      "/github/datasets/openslr-95-german-neutral-tts/synmels_r3_149_difflen/test/mel_2297.npy\n",
      "/github/datasets/openslr-95-german-neutral-tts/synmels_r3_149_difflen/test/mel_2298.npy\n"
     ]
    },
    {
     "name": "stderr",
     "output_type": "stream",
     "text": [
      "[NeMo W 2022-05-12 01:53:15 tts_tokenizers:351] Text: [FER1 das versicherungsgeschaft wurde zusammen mit DER1 sparkasse gießEH1N DAY1 tochtergesellschaft „EH1S-versicherungsservice mittelhessen\" gegrundet.] contains unknown char/phoneme: [ß]. Original text: [Fur das Versicherungsgeschaft wurde zusammen mit der Sparkasse Gießen die Tochtergesellschaft „S-Versicherungsservice Mittelhessen\" gegrundet.]. Symbol will be skipped.\n",
      "[NeMo W 2022-05-12 01:53:15 tts_tokenizers:351] Text: [FER1 das versicherungsgeschaft wurde zusammen mit DER1 sparkasse gießEH1N DAY1 tochtergesellschaft „EH1S-versicherungsservice mittelhessen\" gegrundet.] contains unknown char/phoneme: [„]. Original text: [Fur das Versicherungsgeschaft wurde zusammen mit der Sparkasse Gießen die Tochtergesellschaft „S-Versicherungsservice Mittelhessen\" gegrundet.]. Symbol will be skipped.\n"
     ]
    },
    {
     "name": "stdout",
     "output_type": "stream",
     "text": [
      "/github/datasets/openslr-95-german-neutral-tts/synmels_r3_149_difflen/test/mel_2299.npy\n",
      "/github/datasets/openslr-95-german-neutral-tts/synmels_r3_149_difflen/test/mel_2300.npy\n",
      "/github/datasets/openslr-95-german-neutral-tts/synmels_r3_149_difflen/test/mel_2301.npy\n",
      "/github/datasets/openslr-95-german-neutral-tts/synmels_r3_149_difflen/test/mel_2302.npy\n",
      "/github/datasets/openslr-95-german-neutral-tts/synmels_r3_149_difflen/test/mel_2303.npy\n",
      "/github/datasets/openslr-95-german-neutral-tts/synmels_r3_149_difflen/test/mel_2304.npy\n",
      "/github/datasets/openslr-95-german-neutral-tts/synmels_r3_149_difflen/test/mel_2305.npy\n"
     ]
    },
    {
     "name": "stderr",
     "output_type": "stream",
     "text": [
      "[NeMo W 2022-05-12 01:53:15 tts_tokenizers:351] Text: [DER1 BAH1S biegt VAO1N DER1 ulmenstraßIY1 AE1B in DAY1 kastanienallee.] contains unknown char/phoneme: [ß]. Original text: [Der Bus biegt von der Ulmenstraße ab in die Kastanienallee.]. Symbol will be skipped.\n"
     ]
    },
    {
     "name": "stdout",
     "output_type": "stream",
     "text": [
      "/github/datasets/openslr-95-german-neutral-tts/synmels_r3_149_difflen/test/mel_2306.npy\n",
      "/github/datasets/openslr-95-german-neutral-tts/synmels_r3_149_difflen/test/mel_2307.npy\n",
      "/github/datasets/openslr-95-german-neutral-tts/synmels_r3_149_difflen/test/mel_2308.npy\n",
      "/github/datasets/openslr-95-german-neutral-tts/synmels_r3_149_difflen/test/mel_2309.npy\n",
      "/github/datasets/openslr-95-german-neutral-tts/synmels_r3_149_difflen/test/mel_2310.npy\n",
      "/github/datasets/openslr-95-german-neutral-tts/synmels_r3_149_difflen/test/mel_2311.npy\n",
      "/github/datasets/openslr-95-german-neutral-tts/synmels_r3_149_difflen/test/mel_2312.npy\n",
      "/github/datasets/openslr-95-german-neutral-tts/synmels_r3_149_difflen/test/mel_2313.npy\n",
      "/github/datasets/openslr-95-german-neutral-tts/synmels_r3_149_difflen/test/mel_2314.npy\n",
      "/github/datasets/openslr-95-german-neutral-tts/synmels_r3_149_difflen/test/mel_2315.npy\n"
     ]
    },
    {
     "name": "stderr",
     "output_type": "stream",
     "text": [
      "[NeMo W 2022-05-12 01:53:15 tts_tokenizers:351] Text: [DEH1N zu uberreden ist keine GROW1ßIY1 KAH1NST!] contains unknown char/phoneme: [ß]. Original text: [Den zu uberreden ist keine große Kunst!]. Symbol will be skipped.\n"
     ]
    },
    {
     "name": "stdout",
     "output_type": "stream",
     "text": [
      "/github/datasets/openslr-95-german-neutral-tts/synmels_r3_149_difflen/test/mel_2316.npy\n",
      "/github/datasets/openslr-95-german-neutral-tts/synmels_r3_149_difflen/test/mel_2317.npy\n",
      "/github/datasets/openslr-95-german-neutral-tts/synmels_r3_149_difflen/test/mel_2318.npy\n",
      "/github/datasets/openslr-95-german-neutral-tts/synmels_r3_149_difflen/test/mel_2319.npy\n",
      "/github/datasets/openslr-95-german-neutral-tts/synmels_r3_149_difflen/test/mel_2320.npy\n",
      "/github/datasets/openslr-95-german-neutral-tts/synmels_r3_149_difflen/test/mel_2321.npy\n",
      "/github/datasets/openslr-95-german-neutral-tts/synmels_r3_149_difflen/test/mel_2322.npy\n",
      "/github/datasets/openslr-95-german-neutral-tts/synmels_r3_149_difflen/test/mel_2323.npy\n",
      "/github/datasets/openslr-95-german-neutral-tts/synmels_r3_149_difflen/test/mel_2324.npy\n"
     ]
    },
    {
     "name": "stderr",
     "output_type": "stream",
     "text": [
      "[NeMo W 2022-05-12 01:53:15 tts_tokenizers:351] Text: [IH1CH brauche kein MAA1ßBAE1ND, AH1M zu sehen, DAE1S das MEH1R AE1LZ hundertzehn zentimeter SIH1ND.] contains unknown char/phoneme: [ß]. Original text: [Ich brauche kein Maßband, um zu sehen, dass das mehr als hundertzehn Zentimeter sind.]. Symbol will be skipped.\n"
     ]
    },
    {
     "name": "stdout",
     "output_type": "stream",
     "text": [
      "/github/datasets/openslr-95-german-neutral-tts/synmels_r3_149_difflen/test/mel_2325.npy\n",
      "/github/datasets/openslr-95-german-neutral-tts/synmels_r3_149_difflen/test/mel_2326.npy\n",
      "/github/datasets/openslr-95-german-neutral-tts/synmels_r3_149_difflen/test/mel_2327.npy\n",
      "/github/datasets/openslr-95-german-neutral-tts/synmels_r3_149_difflen/test/mel_2328.npy\n",
      "/github/datasets/openslr-95-german-neutral-tts/synmels_r3_149_difflen/test/mel_2329.npy\n",
      "/github/datasets/openslr-95-german-neutral-tts/synmels_r3_149_difflen/test/mel_2330.npy\n",
      "/github/datasets/openslr-95-german-neutral-tts/synmels_r3_149_difflen/test/mel_2331.npy\n",
      "/github/datasets/openslr-95-german-neutral-tts/synmels_r3_149_difflen/test/mel_2332.npy\n",
      "/github/datasets/openslr-95-german-neutral-tts/synmels_r3_149_difflen/test/mel_2333.npy\n",
      "/github/datasets/openslr-95-german-neutral-tts/synmels_r3_149_difflen/test/mel_2334.npy\n",
      "/github/datasets/openslr-95-german-neutral-tts/synmels_r3_149_difflen/test/mel_2335.npy\n",
      "/github/datasets/openslr-95-german-neutral-tts/synmels_r3_149_difflen/test/mel_2336.npy\n",
      "/github/datasets/openslr-95-german-neutral-tts/synmels_r3_149_difflen/test/mel_2337.npy\n",
      "/github/datasets/openslr-95-german-neutral-tts/synmels_r3_149_difflen/test/mel_2338.npy\n",
      "/github/datasets/openslr-95-german-neutral-tts/synmels_r3_149_difflen/test/mel_2339.npy\n"
     ]
    },
    {
     "name": "stderr",
     "output_type": "stream",
     "text": [
      "[NeMo W 2022-05-12 01:53:16 tts_tokenizers:351] Text: [zum beispiel bei DEH1N ferien auf dem bauernhof – etwas VAO1N DER1 schonheit DER1 natur, VAO1N DER1 arbeit DER1 landwirte AH1ND VAO1N DER1 kulturlandschaft in unserem LAE1ND erfahren.] contains unknown char/phoneme: [–]. Original text: [zum Beispiel bei den Ferien auf dem Bauernhof – etwas von der Schonheit der Natur, von der Arbeit der Landwirte und von der Kulturlandschaft in unserem Lande erfahren.]. Symbol will be skipped.\n"
     ]
    },
    {
     "name": "stdout",
     "output_type": "stream",
     "text": [
      "/github/datasets/openslr-95-german-neutral-tts/synmels_r3_149_difflen/test/mel_2340.npy\n",
      "/github/datasets/openslr-95-german-neutral-tts/synmels_r3_149_difflen/test/mel_2341.npy\n",
      "/github/datasets/openslr-95-german-neutral-tts/synmels_r3_149_difflen/test/mel_2342.npy\n",
      "/github/datasets/openslr-95-german-neutral-tts/synmels_r3_149_difflen/test/mel_2343.npy\n",
      "/github/datasets/openslr-95-german-neutral-tts/synmels_r3_149_difflen/test/mel_2344.npy\n",
      "/github/datasets/openslr-95-german-neutral-tts/synmels_r3_149_difflen/test/mel_2345.npy\n",
      "/github/datasets/openslr-95-german-neutral-tts/synmels_r3_149_difflen/test/mel_2346.npy\n",
      "/github/datasets/openslr-95-german-neutral-tts/synmels_r3_149_difflen/test/mel_2347.npy\n",
      "/github/datasets/openslr-95-german-neutral-tts/synmels_r3_149_difflen/test/mel_2348.npy\n",
      "/github/datasets/openslr-95-german-neutral-tts/synmels_r3_149_difflen/test/mel_2349.npy\n",
      "/github/datasets/openslr-95-german-neutral-tts/synmels_r3_149_difflen/test/mel_2350.npy\n",
      "/github/datasets/openslr-95-german-neutral-tts/synmels_r3_149_difflen/test/mel_2351.npy\n"
     ]
    },
    {
     "name": "stderr",
     "output_type": "stream",
     "text": [
      "[NeMo W 2022-05-12 01:53:16 tts_tokenizers:351] Text: [IH1CH BIH1N uberzeugt: richtig angepackt ist AO1CH DAY1 heutige GROW1ßIY1 aufgabe des zuzugs AH1ND DER1 integration SOW1 vieler menschen eine CHAE1NS VAO1N MAO1RGAH0N.] contains unknown char/phoneme: [ß]. Original text: [Ich bin uberzeugt: Richtig angepackt ist auch die heutige große Aufgabe des Zuzugs und der Integration so vieler Menschen eine Chance von morgen.]. Symbol will be skipped.\n"
     ]
    },
    {
     "name": "stdout",
     "output_type": "stream",
     "text": [
      "/github/datasets/openslr-95-german-neutral-tts/synmels_r3_149_difflen/test/mel_2352.npy\n",
      "/github/datasets/openslr-95-german-neutral-tts/synmels_r3_149_difflen/test/mel_2353.npy\n",
      "/github/datasets/openslr-95-german-neutral-tts/synmels_r3_149_difflen/test/mel_2354.npy\n",
      "/github/datasets/openslr-95-german-neutral-tts/synmels_r3_149_difflen/test/mel_2355.npy\n",
      "/github/datasets/openslr-95-german-neutral-tts/synmels_r3_149_difflen/test/mel_2356.npy\n",
      "/github/datasets/openslr-95-german-neutral-tts/synmels_r3_149_difflen/test/mel_2357.npy\n",
      "/github/datasets/openslr-95-german-neutral-tts/synmels_r3_149_difflen/test/mel_2358.npy\n",
      "/github/datasets/openslr-95-german-neutral-tts/synmels_r3_149_difflen/test/mel_2359.npy\n",
      "/github/datasets/openslr-95-german-neutral-tts/synmels_r3_149_difflen/test/mel_2360.npy\n",
      "/github/datasets/openslr-95-german-neutral-tts/synmels_r3_149_difflen/test/mel_2361.npy\n"
     ]
    },
    {
     "name": "stderr",
     "output_type": "stream",
     "text": [
      "[NeMo W 2022-05-12 01:53:16 tts_tokenizers:351] Text: [wissen SIY1 uberhaupt, was exponentiell heißTIY1?] contains unknown char/phoneme: [ß]. Original text: [Wissen Sie uberhaupt, was exponentiell heißt?]. Symbol will be skipped.\n",
      "[NeMo W 2022-05-12 01:53:16 tts_tokenizers:351] Text: [DER1 salzgehalt ist ausschließLIH1CH auf naturliches natriumvorkommen zuruckzufuhren.] contains unknown char/phoneme: [ß]. Original text: [Der Salzgehalt ist ausschließlich auf naturliches Natriumvorkommen zuruckzufuhren.]. Symbol will be skipped.\n"
     ]
    },
    {
     "name": "stdout",
     "output_type": "stream",
     "text": [
      "/github/datasets/openslr-95-german-neutral-tts/synmels_r3_149_difflen/test/mel_2362.npy\n",
      "/github/datasets/openslr-95-german-neutral-tts/synmels_r3_149_difflen/test/mel_2363.npy\n",
      "/github/datasets/openslr-95-german-neutral-tts/synmels_r3_149_difflen/test/mel_2364.npy\n",
      "/github/datasets/openslr-95-german-neutral-tts/synmels_r3_149_difflen/test/mel_2365.npy\n",
      "/github/datasets/openslr-95-german-neutral-tts/synmels_r3_149_difflen/test/mel_2366.npy\n",
      "/github/datasets/openslr-95-german-neutral-tts/synmels_r3_149_difflen/test/mel_2367.npy\n",
      "/github/datasets/openslr-95-german-neutral-tts/synmels_r3_149_difflen/test/mel_2368.npy\n",
      "/github/datasets/openslr-95-german-neutral-tts/synmels_r3_149_difflen/test/mel_2369.npy\n",
      "/github/datasets/openslr-95-german-neutral-tts/synmels_r3_149_difflen/test/mel_2370.npy\n"
     ]
    },
    {
     "name": "stderr",
     "output_type": "stream",
     "text": [
      "[NeMo W 2022-05-12 01:53:16 tts_tokenizers:351] Text: [das zauberwort heißTIY1 interoperabilitat.] contains unknown char/phoneme: [ß]. Original text: [Das Zauberwort heißt Interoperabilitat.]. Symbol will be skipped.\n",
      "[NeMo W 2022-05-12 01:53:17 tts_tokenizers:351] Text: [vom OW1ßeren erscheinungsbild HHER1 sagt MIH1R das KLAO1STER0 SEH1R zu.] contains unknown char/phoneme: [ß]. Original text: [Vom außeren Erscheinungsbild her sagt mir das Kloster sehr zu.]. Symbol will be skipped.\n"
     ]
    },
    {
     "name": "stdout",
     "output_type": "stream",
     "text": [
      "/github/datasets/openslr-95-german-neutral-tts/synmels_r3_149_difflen/test/mel_2371.npy\n",
      "/github/datasets/openslr-95-german-neutral-tts/synmels_r3_149_difflen/test/mel_2372.npy\n",
      "/github/datasets/openslr-95-german-neutral-tts/synmels_r3_149_difflen/test/mel_2373.npy\n",
      "/github/datasets/openslr-95-german-neutral-tts/synmels_r3_149_difflen/test/mel_2374.npy\n",
      "/github/datasets/openslr-95-german-neutral-tts/synmels_r3_149_difflen/test/mel_2375.npy\n",
      "/github/datasets/openslr-95-german-neutral-tts/synmels_r3_149_difflen/test/mel_2376.npy\n",
      "/github/datasets/openslr-95-german-neutral-tts/synmels_r3_149_difflen/test/mel_2377.npy\n",
      "/github/datasets/openslr-95-german-neutral-tts/synmels_r3_149_difflen/test/mel_2378.npy\n",
      "/github/datasets/openslr-95-german-neutral-tts/synmels_r3_149_difflen/test/mel_2379.npy\n",
      "/github/datasets/openslr-95-german-neutral-tts/synmels_r3_149_difflen/test/mel_2380.npy\n",
      "/github/datasets/openslr-95-german-neutral-tts/synmels_r3_149_difflen/test/mel_2381.npy\n",
      "/github/datasets/openslr-95-german-neutral-tts/synmels_r3_149_difflen/test/mel_2382.npy\n",
      "/github/datasets/openslr-95-german-neutral-tts/synmels_r3_149_difflen/test/mel_2383.npy\n",
      "/github/datasets/openslr-95-german-neutral-tts/synmels_r3_149_difflen/test/mel_2384.npy\n",
      "/github/datasets/openslr-95-german-neutral-tts/synmels_r3_149_difflen/test/mel_2385.npy\n",
      "/github/datasets/openslr-95-german-neutral-tts/synmels_r3_149_difflen/test/mel_2386.npy\n",
      "/github/datasets/openslr-95-german-neutral-tts/synmels_r3_149_difflen/test/mel_2387.npy\n",
      "/github/datasets/openslr-95-german-neutral-tts/synmels_r3_149_difflen/test/mel_2388.npy\n",
      "/github/datasets/openslr-95-german-neutral-tts/synmels_r3_149_difflen/test/mel_2389.npy\n",
      "/github/datasets/openslr-95-german-neutral-tts/synmels_r3_149_difflen/test/mel_2390.npy\n"
     ]
    },
    {
     "name": "stderr",
     "output_type": "stream",
     "text": [
      "[NeMo W 2022-05-12 01:53:17 tts_tokenizers:351] Text: [FRAW1 MEY1ßner fand BAO1LD einen job in WIH1NTER0THER0.] contains unknown char/phoneme: [ß]. Original text: [Frau Meißner fand bald einen Job in Winterthur.]. Symbol will be skipped.\n"
     ]
    },
    {
     "name": "stdout",
     "output_type": "stream",
     "text": [
      "/github/datasets/openslr-95-german-neutral-tts/synmels_r3_149_difflen/test/mel_2391.npy\n",
      "/github/datasets/openslr-95-german-neutral-tts/synmels_r3_149_difflen/test/mel_2392.npy\n",
      "/github/datasets/openslr-95-german-neutral-tts/synmels_r3_149_difflen/test/mel_2393.npy\n",
      "/github/datasets/openslr-95-german-neutral-tts/synmels_r3_149_difflen/test/mel_2394.npy\n",
      "/github/datasets/openslr-95-german-neutral-tts/synmels_r3_149_difflen/test/mel_2395.npy\n",
      "/github/datasets/openslr-95-german-neutral-tts/synmels_r3_149_difflen/test/mel_2396.npy\n",
      "/github/datasets/openslr-95-german-neutral-tts/synmels_r3_149_difflen/test/mel_2397.npy\n",
      "/github/datasets/openslr-95-german-neutral-tts/synmels_r3_149_difflen/test/mel_2398.npy\n",
      "/github/datasets/openslr-95-german-neutral-tts/synmels_r3_149_difflen/test/mel_2399.npy\n",
      "/github/datasets/openslr-95-german-neutral-tts/synmels_r3_149_difflen/test/mel_2400.npy\n"
     ]
    },
    {
     "name": "stderr",
     "output_type": "stream",
     "text": [
      "[NeMo W 2022-05-12 01:53:17 tts_tokenizers:351] Text: [DAY1 tute ist PRAO1L gefullt mit SUW1ßigkeiten.] contains unknown char/phoneme: [ß]. Original text: [Die Tute ist prall gefullt mit Sußigkeiten.]. Symbol will be skipped.\n"
     ]
    },
    {
     "name": "stdout",
     "output_type": "stream",
     "text": [
      "/github/datasets/openslr-95-german-neutral-tts/synmels_r3_149_difflen/test/mel_2401.npy\n",
      "/github/datasets/openslr-95-german-neutral-tts/synmels_r3_149_difflen/test/mel_2402.npy\n",
      "/github/datasets/openslr-95-german-neutral-tts/synmels_r3_149_difflen/test/mel_2403.npy\n",
      "/github/datasets/openslr-95-german-neutral-tts/synmels_r3_149_difflen/test/mel_2404.npy\n",
      "/github/datasets/openslr-95-german-neutral-tts/synmels_r3_149_difflen/test/mel_2405.npy\n",
      "/github/datasets/openslr-95-german-neutral-tts/synmels_r3_149_difflen/test/mel_2406.npy\n",
      "/github/datasets/openslr-95-german-neutral-tts/synmels_r3_149_difflen/test/mel_2407.npy\n",
      "/github/datasets/openslr-95-german-neutral-tts/synmels_r3_149_difflen/test/mel_2408.npy\n",
      "/github/datasets/openslr-95-german-neutral-tts/synmels_r3_149_difflen/test/mel_2409.npy\n"
     ]
    },
    {
     "name": "stderr",
     "output_type": "stream",
     "text": [
      "[NeMo W 2022-05-12 01:53:17 tts_tokenizers:351] Text: [PER1SAH0N a WEY1ß nicht, was SIY1 PER1SAH0N BIY1 SHEH1NGKAH0N SAA1L.] contains unknown char/phoneme: [ß]. Original text: [Person A weiß nicht, was sie Person B schenken soll.]. Symbol will be skipped.\n"
     ]
    },
    {
     "name": "stdout",
     "output_type": "stream",
     "text": [
      "/github/datasets/openslr-95-german-neutral-tts/synmels_r3_149_difflen/test/mel_2410.npy\n",
      "/github/datasets/openslr-95-german-neutral-tts/synmels_r3_149_difflen/test/mel_2411.npy\n",
      "/github/datasets/openslr-95-german-neutral-tts/synmels_r3_149_difflen/test/mel_2412.npy\n",
      "/github/datasets/openslr-95-german-neutral-tts/synmels_r3_149_difflen/test/mel_2413.npy\n",
      "/github/datasets/openslr-95-german-neutral-tts/synmels_r3_149_difflen/test/mel_2414.npy\n",
      "/github/datasets/openslr-95-german-neutral-tts/synmels_r3_149_difflen/test/mel_2415.npy\n",
      "/github/datasets/openslr-95-german-neutral-tts/synmels_r3_149_difflen/test/mel_2416.npy\n",
      "/github/datasets/openslr-95-german-neutral-tts/synmels_r3_149_difflen/test/mel_2417.npy\n",
      "/github/datasets/openslr-95-german-neutral-tts/synmels_r3_149_difflen/test/mel_2418.npy\n",
      "/github/datasets/openslr-95-german-neutral-tts/synmels_r3_149_difflen/test/mel_2419.npy\n"
     ]
    },
    {
     "name": "stderr",
     "output_type": "stream",
     "text": [
      "[NeMo W 2022-05-12 01:53:17 tts_tokenizers:351] Text: [EH1S gibt nicht NUH1R SHWAO1RTS AH1ND WEY1ß, AO1CH nicht NUH1R GAH1T AH1ND BOW1Z.] contains unknown char/phoneme: [ß]. Original text: [Es gibt nicht nur Schwarz und Weiß, auch nicht nur Gut und Bose.]. Symbol will be skipped.\n",
      "[NeMo W 2022-05-12 01:53:17 tts_tokenizers:351] Text: [wenn DAY1 spionage auffliegt, wurde das noch MEH1R ol ins FYUW1ER0 gießEH1N.] contains unknown char/phoneme: [ß]. Original text: [Wenn die Spionage auffliegt, wurde das noch mehr Ol ins Feuer gießen.]. Symbol will be skipped.\n"
     ]
    },
    {
     "name": "stdout",
     "output_type": "stream",
     "text": [
      "/github/datasets/openslr-95-german-neutral-tts/synmels_r3_149_difflen/test/mel_2420.npy\n",
      "/github/datasets/openslr-95-german-neutral-tts/synmels_r3_149_difflen/test/mel_2421.npy\n",
      "/github/datasets/openslr-95-german-neutral-tts/synmels_r3_149_difflen/test/mel_2422.npy\n",
      "/github/datasets/openslr-95-german-neutral-tts/synmels_r3_149_difflen/test/mel_2423.npy\n",
      "/github/datasets/openslr-95-german-neutral-tts/synmels_r3_149_difflen/test/mel_2424.npy\n",
      "/github/datasets/openslr-95-german-neutral-tts/synmels_r3_149_difflen/test/mel_2425.npy\n",
      "/github/datasets/openslr-95-german-neutral-tts/synmels_r3_149_difflen/test/mel_2426.npy\n",
      "/github/datasets/openslr-95-german-neutral-tts/synmels_r3_149_difflen/test/mel_2427.npy\n",
      "/github/datasets/openslr-95-german-neutral-tts/synmels_r3_149_difflen/test/mel_2428.npy\n",
      "/github/datasets/openslr-95-german-neutral-tts/synmels_r3_149_difflen/test/mel_2429.npy\n",
      "/github/datasets/openslr-95-german-neutral-tts/synmels_r3_149_difflen/test/mel_2430.npy\n",
      "/github/datasets/openslr-95-german-neutral-tts/synmels_r3_149_difflen/test/mel_2431.npy\n",
      "/github/datasets/openslr-95-german-neutral-tts/synmels_r3_149_difflen/test/mel_2432.npy\n",
      "/github/datasets/openslr-95-german-neutral-tts/synmels_r3_149_difflen/test/mel_2433.npy\n",
      "/github/datasets/openslr-95-german-neutral-tts/synmels_r3_149_difflen/test/mel_2434.npy\n",
      "/github/datasets/openslr-95-german-neutral-tts/synmels_r3_149_difflen/test/mel_2435.npy\n",
      "/github/datasets/openslr-95-german-neutral-tts/synmels_r3_149_difflen/test/mel_2436.npy\n",
      "/github/datasets/openslr-95-german-neutral-tts/synmels_r3_149_difflen/test/mel_2437.npy\n",
      "/github/datasets/openslr-95-german-neutral-tts/synmels_r3_149_difflen/test/mel_2438.npy\n",
      "/github/datasets/openslr-95-german-neutral-tts/synmels_r3_149_difflen/test/mel_2439.npy\n",
      "/github/datasets/openslr-95-german-neutral-tts/synmels_r3_149_difflen/test/mel_2440.npy\n",
      "/github/datasets/openslr-95-german-neutral-tts/synmels_r3_149_difflen/test/mel_2441.npy\n"
     ]
    },
    {
     "name": "stderr",
     "output_type": "stream",
     "text": [
      "[NeMo W 2022-05-12 01:53:18 tts_tokenizers:351] Text: [nachts ist EH1S KAO1LTER0 AE1LZ draußEH1N.] contains unknown char/phoneme: [ß]. Original text: [Nachts ist es kalter als draußen.]. Symbol will be skipped.\n"
     ]
    },
    {
     "name": "stdout",
     "output_type": "stream",
     "text": [
      "/github/datasets/openslr-95-german-neutral-tts/synmels_r3_149_difflen/test/mel_2442.npy\n",
      "/github/datasets/openslr-95-german-neutral-tts/synmels_r3_149_difflen/test/mel_2443.npy\n",
      "/github/datasets/openslr-95-german-neutral-tts/synmels_r3_149_difflen/test/mel_2444.npy\n",
      "/github/datasets/openslr-95-german-neutral-tts/synmels_r3_149_difflen/test/mel_2445.npy\n",
      "/github/datasets/openslr-95-german-neutral-tts/synmels_r3_149_difflen/test/mel_2446.npy\n",
      "/github/datasets/openslr-95-german-neutral-tts/synmels_r3_149_difflen/test/mel_2447.npy\n",
      "/github/datasets/openslr-95-german-neutral-tts/synmels_r3_149_difflen/test/mel_2448.npy\n",
      "/github/datasets/openslr-95-german-neutral-tts/synmels_r3_149_difflen/test/mel_2449.npy\n",
      "/github/datasets/openslr-95-german-neutral-tts/synmels_r3_149_difflen/test/mel_2450.npy\n",
      "/github/datasets/openslr-95-german-neutral-tts/synmels_r3_149_difflen/test/mel_2451.npy\n",
      "/github/datasets/openslr-95-german-neutral-tts/synmels_r3_149_difflen/test/mel_2452.npy\n"
     ]
    },
    {
     "name": "stderr",
     "output_type": "stream",
     "text": [
      "[NeMo W 2022-05-12 01:53:18 tts_tokenizers:351] Text: [trotzdem sollte MAE1N solche inneren konflikte nicht nach OW1ßEH1N tragen.] contains unknown char/phoneme: [ß]. Original text: [Trotzdem sollte man solche inneren Konflikte nicht nach außen tragen.]. Symbol will be skipped.\n",
      "[NeMo W 2022-05-12 01:53:18 tts_tokenizers:351] Text: [kalle will EY1LZ hinschmeißEH1N AH1ND noch MAE1L VAO1N vorn beginnen.] contains unknown char/phoneme: [ß]. Original text: [Kalle will alles hinschmeißen und noch mal von vorn beginnen.]. Symbol will be skipped.\n"
     ]
    },
    {
     "name": "stdout",
     "output_type": "stream",
     "text": [
      "/github/datasets/openslr-95-german-neutral-tts/synmels_r3_149_difflen/test/mel_2453.npy\n",
      "/github/datasets/openslr-95-german-neutral-tts/synmels_r3_149_difflen/test/mel_2454.npy\n",
      "/github/datasets/openslr-95-german-neutral-tts/synmels_r3_149_difflen/test/mel_2455.npy\n",
      "/github/datasets/openslr-95-german-neutral-tts/synmels_r3_149_difflen/test/mel_2456.npy\n",
      "/github/datasets/openslr-95-german-neutral-tts/synmels_r3_149_difflen/test/mel_2457.npy\n",
      "/github/datasets/openslr-95-german-neutral-tts/synmels_r3_149_difflen/test/mel_2458.npy\n",
      "/github/datasets/openslr-95-german-neutral-tts/synmels_r3_149_difflen/test/mel_2459.npy\n",
      "/github/datasets/openslr-95-german-neutral-tts/synmels_r3_149_difflen/test/mel_2460.npy\n",
      "/github/datasets/openslr-95-german-neutral-tts/synmels_r3_149_difflen/test/mel_2461.npy\n",
      "/github/datasets/openslr-95-german-neutral-tts/synmels_r3_149_difflen/test/mel_2462.npy\n",
      "/github/datasets/openslr-95-german-neutral-tts/synmels_r3_149_difflen/test/mel_2463.npy\n",
      "/github/datasets/openslr-95-german-neutral-tts/synmels_r3_149_difflen/test/mel_2464.npy\n",
      "/github/datasets/openslr-95-german-neutral-tts/synmels_r3_149_difflen/test/mel_2465.npy\n",
      "/github/datasets/openslr-95-german-neutral-tts/synmels_r3_149_difflen/test/mel_2466.npy\n",
      "/github/datasets/openslr-95-german-neutral-tts/synmels_r3_149_difflen/test/mel_2467.npy\n",
      "/github/datasets/openslr-95-german-neutral-tts/synmels_r3_149_difflen/test/mel_2468.npy\n",
      "/github/datasets/openslr-95-german-neutral-tts/synmels_r3_149_difflen/test/mel_2469.npy\n",
      "/github/datasets/openslr-95-german-neutral-tts/synmels_r3_149_difflen/test/mel_2470.npy\n",
      "/github/datasets/openslr-95-german-neutral-tts/synmels_r3_149_difflen/test/mel_2471.npy\n",
      "/github/datasets/openslr-95-german-neutral-tts/synmels_r3_149_difflen/test/mel_2472.npy\n",
      "/github/datasets/openslr-95-german-neutral-tts/synmels_r3_149_difflen/test/mel_2473.npy\n"
     ]
    },
    {
     "name": "stderr",
     "output_type": "stream",
     "text": [
      "[NeMo W 2022-05-12 01:53:18 tts_tokenizers:351] Text: [IH1CH mochte – weil „wohlstand FER1 alle\" heute heißTIY1: „bildung FER1 alle\" –, DAE1S AW1Z DOY1CHLAE0ND eine bildungsrepublik wird.] contains unknown char/phoneme: [–]. Original text: [Ich mochte – weil „Wohlstand fur alle\" heute heißt: „Bildung fur alle\" –, dass aus Deutschland eine Bildungsrepublik wird.]. Symbol will be skipped.\n",
      "[NeMo W 2022-05-12 01:53:18 tts_tokenizers:351] Text: [IH1CH mochte – weil „wohlstand FER1 alle\" heute heißTIY1: „bildung FER1 alle\" –, DAE1S AW1Z DOY1CHLAE0ND eine bildungsrepublik wird.] contains unknown char/phoneme: [„]. Original text: [Ich mochte – weil „Wohlstand fur alle\" heute heißt: „Bildung fur alle\" –, dass aus Deutschland eine Bildungsrepublik wird.]. Symbol will be skipped.\n",
      "[NeMo W 2022-05-12 01:53:18 tts_tokenizers:351] Text: [IH1CH mochte – weil „wohlstand FER1 alle\" heute heißTIY1: „bildung FER1 alle\" –, DAE1S AW1Z DOY1CHLAE0ND eine bildungsrepublik wird.] contains unknown char/phoneme: [ß]. Original text: [Ich mochte – weil „Wohlstand fur alle\" heute heißt: „Bildung fur alle\" –, dass aus Deutschland eine Bildungsrepublik wird.]. Symbol will be skipped.\n",
      "[NeMo W 2022-05-12 01:53:18 tts_tokenizers:351] Text: [IH1CH mochte – weil „wohlstand FER1 alle\" heute heißTIY1: „bildung FER1 alle\" –, DAE1S AW1Z DOY1CHLAE0ND eine bildungsrepublik wird.] contains unknown char/phoneme: [„]. Original text: [Ich mochte – weil „Wohlstand fur alle\" heute heißt: „Bildung fur alle\" –, dass aus Deutschland eine Bildungsrepublik wird.]. Symbol will be skipped.\n",
      "[NeMo W 2022-05-12 01:53:18 tts_tokenizers:351] Text: [IH1CH mochte – weil „wohlstand FER1 alle\" heute heißTIY1: „bildung FER1 alle\" –, DAE1S AW1Z DOY1CHLAE0ND eine bildungsrepublik wird.] contains unknown char/phoneme: [–]. Original text: [Ich mochte – weil „Wohlstand fur alle\" heute heißt: „Bildung fur alle\" –, dass aus Deutschland eine Bildungsrepublik wird.]. Symbol will be skipped.\n",
      "[NeMo W 2022-05-12 01:53:19 tts_tokenizers:351] Text: [EY1BER0 IH1CH glaube, DAE1S wir an SOW1 einem TAE1G wie heute erst einmal SAE1GAH0N konnen: DAY1 ubergroßIY1 mehrzahl DER1 soldatinnen AH1ND soldaten leistet einen unschatzbaren DIY1NST FER1 AH1NSER0 LAE1ND.] contains unknown char/phoneme: [ß]. Original text: [Aber ich glaube, dass wir an so einem Tag wie heute erst einmal sagen konnen: Die ubergroße Mehrzahl der Soldatinnen und Soldaten leistet einen unschatzbaren Dienst fur unser Land.]. Symbol will be skipped.\n",
      "[NeMo W 2022-05-12 01:53:19 tts_tokenizers:351] Text: [wir mussen schauen: DAY1 BEH1ST zukunftsvorsorge ware klarheit UW1BER0 DAY1 ziele FER1 DAY1 nachsten jahre, das heißTIY1, AY1N erfolgreicher abschluss DER1 pariser konferenz.] contains unknown char/phoneme: [ß]. Original text: [Wir mussen schauen: Die beste Zukunftsvorsorge ware Klarheit uber die Ziele fur die nachsten Jahre, das heißt, ein erfolgreicher Abschluss der Pariser Konferenz.]. Symbol will be skipped.\n"
     ]
    },
    {
     "name": "stdout",
     "output_type": "stream",
     "text": [
      "/github/datasets/openslr-95-german-neutral-tts/synmels_r3_149_difflen/test/mel_2474.npy\n",
      "/github/datasets/openslr-95-german-neutral-tts/synmels_r3_149_difflen/test/mel_2475.npy\n",
      "/github/datasets/openslr-95-german-neutral-tts/synmels_r3_149_difflen/test/mel_2476.npy\n",
      "/github/datasets/openslr-95-german-neutral-tts/synmels_r3_149_difflen/test/mel_2477.npy\n",
      "/github/datasets/openslr-95-german-neutral-tts/synmels_r3_149_difflen/test/mel_2478.npy\n",
      "/github/datasets/openslr-95-german-neutral-tts/synmels_r3_149_difflen/test/mel_2479.npy\n",
      "/github/datasets/openslr-95-german-neutral-tts/synmels_r3_149_difflen/test/mel_2480.npy\n",
      "/github/datasets/openslr-95-german-neutral-tts/synmels_r3_149_difflen/test/mel_2481.npy\n",
      "/github/datasets/openslr-95-german-neutral-tts/synmels_r3_149_difflen/test/mel_2482.npy\n"
     ]
    },
    {
     "name": "stderr",
     "output_type": "stream",
     "text": [
      "[NeMo W 2022-05-12 01:53:19 tts_tokenizers:351] Text: [IH1CH WEY1ß AW1Z vielen diskussionen in schulen UW1BER0 DAY1 frage „wie WAA1LAH0N wir zusammen LEH1BAH0N, wie WAA1LAH0N wir lernen\", DAE1S schulerinnen AH1ND SHUW1LER0 SEH1R KLEH1R vorstellungen haben.] contains unknown char/phoneme: [ß]. Original text: [Ich weiß aus vielen Diskussionen in Schulen uber die Frage „Wie wollen wir zusammen leben, wie wollen wir lernen\", dass Schulerinnen und Schuler sehr klare Vorstellungen haben.]. Symbol will be skipped.\n",
      "[NeMo W 2022-05-12 01:53:19 tts_tokenizers:351] Text: [IH1CH WEY1ß AW1Z vielen diskussionen in schulen UW1BER0 DAY1 frage „wie WAA1LAH0N wir zusammen LEH1BAH0N, wie WAA1LAH0N wir lernen\", DAE1S schulerinnen AH1ND SHUW1LER0 SEH1R KLEH1R vorstellungen haben.] contains unknown char/phoneme: [„]. Original text: [Ich weiß aus vielen Diskussionen in Schulen uber die Frage „Wie wollen wir zusammen leben, wie wollen wir lernen\", dass Schulerinnen und Schuler sehr klare Vorstellungen haben.]. Symbol will be skipped.\n"
     ]
    },
    {
     "name": "stdout",
     "output_type": "stream",
     "text": [
      "/github/datasets/openslr-95-german-neutral-tts/synmels_r3_149_difflen/test/mel_2483.npy\n",
      "/github/datasets/openslr-95-german-neutral-tts/synmels_r3_149_difflen/test/mel_2484.npy\n",
      "/github/datasets/openslr-95-german-neutral-tts/synmels_r3_149_difflen/test/mel_2485.npy\n",
      "/github/datasets/openslr-95-german-neutral-tts/synmels_r3_149_difflen/test/mel_2486.npy\n",
      "/github/datasets/openslr-95-german-neutral-tts/synmels_r3_149_difflen/test/mel_2487.npy\n",
      "/github/datasets/openslr-95-german-neutral-tts/synmels_r3_149_difflen/test/mel_2488.npy\n",
      "/github/datasets/openslr-95-german-neutral-tts/synmels_r3_149_difflen/test/mel_2489.npy\n",
      "/github/datasets/openslr-95-german-neutral-tts/synmels_r3_149_difflen/test/mel_2490.npy\n",
      "/github/datasets/openslr-95-german-neutral-tts/synmels_r3_149_difflen/test/mel_2491.npy\n",
      "/github/datasets/openslr-95-german-neutral-tts/synmels_r3_149_difflen/test/mel_2492.npy\n"
     ]
    },
    {
     "name": "stderr",
     "output_type": "stream",
     "text": [
      "[NeMo W 2022-05-12 01:53:19 tts_tokenizers:351] Text: [DAY1 sauerei heißTIY1 nachgeburt AH1ND gehort nun MAE1L dazu.] contains unknown char/phoneme: [ß]. Original text: [Die Sauerei heißt Nachgeburt und gehort nun mal dazu.]. Symbol will be skipped.\n"
     ]
    },
    {
     "name": "stdout",
     "output_type": "stream",
     "text": [
      "/github/datasets/openslr-95-german-neutral-tts/synmels_r3_149_difflen/test/mel_2493.npy\n",
      "/github/datasets/openslr-95-german-neutral-tts/synmels_r3_149_difflen/test/mel_2494.npy\n",
      "/github/datasets/openslr-95-german-neutral-tts/synmels_r3_149_difflen/test/mel_2495.npy\n",
      "/github/datasets/openslr-95-german-neutral-tts/synmels_r3_149_difflen/test/mel_2496.npy\n",
      "/github/datasets/openslr-95-german-neutral-tts/synmels_r3_149_difflen/test/mel_2497.npy\n",
      "/github/datasets/openslr-95-german-neutral-tts/synmels_r3_149_difflen/test/mel_2498.npy\n",
      "/github/datasets/openslr-95-german-neutral-tts/synmels_r3_149_difflen/test/mel_2499.npy\n",
      "/github/datasets/openslr-95-german-neutral-tts/synmels_r3_149_difflen/test/mel_2500.npy\n",
      "/github/datasets/openslr-95-german-neutral-tts/synmels_r3_149_difflen/test/mel_2501.npy\n"
     ]
    },
    {
     "name": "stderr",
     "output_type": "stream",
     "text": [
      "[NeMo W 2022-05-12 01:53:19 tts_tokenizers:351] Text: [wenn wir uns AY1N bisschen zusammen reißEH1N, SIH1ND wir ruckzuck DER1CH.] contains unknown char/phoneme: [ß]. Original text: [Wenn wir uns ein bisschen zusammen reißen, sind wir ruckzuck durch.]. Symbol will be skipped.\n"
     ]
    },
    {
     "name": "stdout",
     "output_type": "stream",
     "text": [
      "/github/datasets/openslr-95-german-neutral-tts/synmels_r3_149_difflen/test/mel_2502.npy\n",
      "/github/datasets/openslr-95-german-neutral-tts/synmels_r3_149_difflen/test/mel_2503.npy\n",
      "/github/datasets/openslr-95-german-neutral-tts/synmels_r3_149_difflen/test/mel_2504.npy\n",
      "/github/datasets/openslr-95-german-neutral-tts/synmels_r3_149_difflen/test/mel_2505.npy\n",
      "/github/datasets/openslr-95-german-neutral-tts/synmels_r3_149_difflen/test/mel_2506.npy\n",
      "/github/datasets/openslr-95-german-neutral-tts/synmels_r3_149_difflen/test/mel_2507.npy\n",
      "/github/datasets/openslr-95-german-neutral-tts/synmels_r3_149_difflen/test/mel_2508.npy\n",
      "/github/datasets/openslr-95-german-neutral-tts/synmels_r3_149_difflen/test/mel_2509.npy\n",
      "/github/datasets/openslr-95-german-neutral-tts/synmels_r3_149_difflen/test/mel_2510.npy\n",
      "/github/datasets/openslr-95-german-neutral-tts/synmels_r3_149_difflen/test/mel_2511.npy\n",
      "/github/datasets/openslr-95-german-neutral-tts/synmels_r3_149_difflen/test/mel_2512.npy\n"
     ]
    },
    {
     "name": "stderr",
     "output_type": "stream",
     "text": [
      "[NeMo W 2022-05-12 01:53:19 tts_tokenizers:351] Text: [AH1ND deshalb haben wir uns IH1M vergangenen JHAA1R SHAA1N mit dem thema „innovation\" AH1ND AO1CH mit fragen DER1 lebensqualitat beschaftigt AH1ND uns informiert, wie andere damit umgehen.] contains unknown char/phoneme: [„]. Original text: [Und deshalb haben wir uns im vergangenen Jahr schon mit dem Thema „Innovation\" und auch mit Fragen der Lebensqualitat beschaftigt und uns informiert, wie andere damit umgehen.]. Symbol will be skipped.\n"
     ]
    },
    {
     "name": "stdout",
     "output_type": "stream",
     "text": [
      "/github/datasets/openslr-95-german-neutral-tts/synmels_r3_149_difflen/test/mel_2513.npy\n",
      "/github/datasets/openslr-95-german-neutral-tts/synmels_r3_149_difflen/test/mel_2514.npy\n",
      "/github/datasets/openslr-95-german-neutral-tts/synmels_r3_149_difflen/test/mel_2515.npy\n",
      "/github/datasets/openslr-95-german-neutral-tts/synmels_r3_149_difflen/test/mel_2516.npy\n",
      "/github/datasets/openslr-95-german-neutral-tts/synmels_r3_149_difflen/test/mel_2517.npy\n",
      "/github/datasets/openslr-95-german-neutral-tts/synmels_r3_149_difflen/test/mel_2518.npy\n",
      "/github/datasets/openslr-95-german-neutral-tts/synmels_r3_149_difflen/test/mel_2519.npy\n",
      "/github/datasets/openslr-95-german-neutral-tts/synmels_r3_149_difflen/test/mel_2520.npy\n",
      "/github/datasets/openslr-95-german-neutral-tts/synmels_r3_149_difflen/test/mel_2521.npy\n",
      "/github/datasets/openslr-95-german-neutral-tts/synmels_r3_149_difflen/test/mel_2522.npy\n"
     ]
    },
    {
     "name": "stderr",
     "output_type": "stream",
     "text": [
      "[NeMo W 2022-05-12 01:53:20 tts_tokenizers:351] Text: [fuhrt DAY1 bundesstraßIY1 BIY1-sechsundneunzig DER1CH neustrelitz?] contains unknown char/phoneme: [ß]. Original text: [Fuhrt die Bundesstraße B-sechsundneunzig durch Neustrelitz?]. Symbol will be skipped.\n"
     ]
    },
    {
     "name": "stdout",
     "output_type": "stream",
     "text": [
      "/github/datasets/openslr-95-german-neutral-tts/synmels_r3_149_difflen/test/mel_2523.npy\n",
      "/github/datasets/openslr-95-german-neutral-tts/synmels_r3_149_difflen/test/mel_2524.npy\n",
      "/github/datasets/openslr-95-german-neutral-tts/synmels_r3_149_difflen/test/mel_2525.npy\n",
      "/github/datasets/openslr-95-german-neutral-tts/synmels_r3_149_difflen/test/mel_2526.npy\n",
      "/github/datasets/openslr-95-german-neutral-tts/synmels_r3_149_difflen/test/mel_2527.npy\n",
      "/github/datasets/openslr-95-german-neutral-tts/synmels_r3_149_difflen/test/mel_2528.npy\n",
      "/github/datasets/openslr-95-german-neutral-tts/synmels_r3_149_difflen/test/mel_2529.npy\n",
      "/github/datasets/openslr-95-german-neutral-tts/synmels_r3_149_difflen/test/mel_2530.npy\n",
      "/github/datasets/openslr-95-german-neutral-tts/synmels_r3_149_difflen/test/mel_2531.npy\n",
      "/github/datasets/openslr-95-german-neutral-tts/synmels_r3_149_difflen/test/mel_2532.npy\n",
      "/github/datasets/openslr-95-german-neutral-tts/synmels_r3_149_difflen/test/mel_2533.npy\n",
      "/github/datasets/openslr-95-german-neutral-tts/synmels_r3_149_difflen/test/mel_2534.npy\n",
      "/github/datasets/openslr-95-german-neutral-tts/synmels_r3_149_difflen/test/mel_2535.npy\n",
      "/github/datasets/openslr-95-german-neutral-tts/synmels_r3_149_difflen/test/mel_2536.npy\n",
      "/github/datasets/openslr-95-german-neutral-tts/synmels_r3_149_difflen/test/mel_2537.npy\n",
      "/github/datasets/openslr-95-german-neutral-tts/synmels_r3_149_difflen/test/mel_2538.npy\n",
      "/github/datasets/openslr-95-german-neutral-tts/synmels_r3_149_difflen/test/mel_2539.npy\n",
      "/github/datasets/openslr-95-german-neutral-tts/synmels_r3_149_difflen/test/mel_2540.npy\n",
      "/github/datasets/openslr-95-german-neutral-tts/synmels_r3_149_difflen/test/mel_2541.npy\n",
      "/github/datasets/openslr-95-german-neutral-tts/synmels_r3_149_difflen/test/mel_2542.npy\n",
      "/github/datasets/openslr-95-german-neutral-tts/synmels_r3_149_difflen/test/mel_2543.npy\n",
      "/github/datasets/openslr-95-german-neutral-tts/synmels_r3_149_difflen/test/mel_2544.npy\n",
      "/github/datasets/openslr-95-german-neutral-tts/synmels_r3_149_difflen/test/mel_2545.npy\n",
      "/github/datasets/openslr-95-german-neutral-tts/synmels_r3_149_difflen/test/mel_2546.npy\n",
      "/github/datasets/openslr-95-german-neutral-tts/synmels_r3_149_difflen/test/mel_2547.npy\n",
      "/github/datasets/openslr-95-german-neutral-tts/synmels_r3_149_difflen/test/mel_2548.npy\n",
      "/github/datasets/openslr-95-german-neutral-tts/synmels_r3_149_difflen/test/mel_2549.npy\n",
      "/github/datasets/openslr-95-german-neutral-tts/synmels_r3_149_difflen/test/mel_2550.npy\n",
      "/github/datasets/openslr-95-german-neutral-tts/synmels_r3_149_difflen/test/mel_2551.npy\n",
      "/github/datasets/openslr-95-german-neutral-tts/synmels_r3_149_difflen/test/mel_2552.npy\n",
      "/github/datasets/openslr-95-german-neutral-tts/synmels_r3_149_difflen/test/mel_2553.npy\n",
      "/github/datasets/openslr-95-german-neutral-tts/synmels_r3_149_difflen/test/mel_2554.npy\n",
      "/github/datasets/openslr-95-german-neutral-tts/synmels_r3_149_difflen/test/mel_2555.npy\n"
     ]
    },
    {
     "name": "stderr",
     "output_type": "stream",
     "text": [
      "[NeMo W 2022-05-12 01:53:20 tts_tokenizers:351] Text: [wie AO1FT muss MAE1N DAY1 blumen gießEH1N?] contains unknown char/phoneme: [ß]. Original text: [Wie oft muss man die Blumen gießen?]. Symbol will be skipped.\n"
     ]
    },
    {
     "name": "stdout",
     "output_type": "stream",
     "text": [
      "/github/datasets/openslr-95-german-neutral-tts/synmels_r3_149_difflen/test/mel_2556.npy\n",
      "/github/datasets/openslr-95-german-neutral-tts/synmels_r3_149_difflen/test/mel_2557.npy\n",
      "/github/datasets/openslr-95-german-neutral-tts/synmels_r3_149_difflen/test/mel_2558.npy\n",
      "/github/datasets/openslr-95-german-neutral-tts/synmels_r3_149_difflen/test/mel_2559.npy\n",
      "/github/datasets/openslr-95-german-neutral-tts/synmels_r3_149_difflen/test/mel_2560.npy\n",
      "/github/datasets/openslr-95-german-neutral-tts/synmels_r3_149_difflen/test/mel_2561.npy\n",
      "/github/datasets/openslr-95-german-neutral-tts/synmels_r3_149_difflen/test/mel_2562.npy\n",
      "/github/datasets/openslr-95-german-neutral-tts/synmels_r3_149_difflen/test/mel_2563.npy\n",
      "/github/datasets/openslr-95-german-neutral-tts/synmels_r3_149_difflen/test/mel_2564.npy\n",
      "/github/datasets/openslr-95-german-neutral-tts/synmels_r3_149_difflen/test/mel_2565.npy\n"
     ]
    },
    {
     "name": "stderr",
     "output_type": "stream",
     "text": [
      "[NeMo W 2022-05-12 01:53:21 tts_tokenizers:351] Text: [OW1ßerdem mochten wir DAY1 vergleichbarkeit erhalten.] contains unknown char/phoneme: [ß]. Original text: [Außerdem mochten wir die Vergleichbarkeit erhalten.]. Symbol will be skipped.\n"
     ]
    },
    {
     "name": "stdout",
     "output_type": "stream",
     "text": [
      "/github/datasets/openslr-95-german-neutral-tts/synmels_r3_149_difflen/test/mel_2566.npy\n",
      "/github/datasets/openslr-95-german-neutral-tts/synmels_r3_149_difflen/test/mel_2567.npy\n",
      "/github/datasets/openslr-95-german-neutral-tts/synmels_r3_149_difflen/test/mel_2568.npy\n",
      "/github/datasets/openslr-95-german-neutral-tts/synmels_r3_149_difflen/test/mel_2569.npy\n",
      "/github/datasets/openslr-95-german-neutral-tts/synmels_r3_149_difflen/test/mel_2570.npy\n",
      "/github/datasets/openslr-95-german-neutral-tts/synmels_r3_149_difflen/test/mel_2571.npy\n",
      "/github/datasets/openslr-95-german-neutral-tts/synmels_r3_149_difflen/test/mel_2572.npy\n",
      "/github/datasets/openslr-95-german-neutral-tts/synmels_r3_149_difflen/test/mel_2573.npy\n",
      "/github/datasets/openslr-95-german-neutral-tts/synmels_r3_149_difflen/test/mel_2574.npy\n",
      "/github/datasets/openslr-95-german-neutral-tts/synmels_r3_149_difflen/test/mel_2575.npy\n"
     ]
    },
    {
     "name": "stderr",
     "output_type": "stream",
     "text": [
      "[NeMo W 2022-05-12 01:53:21 tts_tokenizers:351] Text: [mit dieser sisyphusarbeit ist DAY1 kanzlei FER1 DAY1 nachsten wochen OW1ßER0 gefecht gesetzt.] contains unknown char/phoneme: [ß]. Original text: [Mit dieser Sisyphusarbeit ist die Kanzlei fur die nachsten Wochen außer Gefecht gesetzt.]. Symbol will be skipped.\n"
     ]
    },
    {
     "name": "stdout",
     "output_type": "stream",
     "text": [
      "/github/datasets/openslr-95-german-neutral-tts/synmels_r3_149_difflen/test/mel_2576.npy\n",
      "/github/datasets/openslr-95-german-neutral-tts/synmels_r3_149_difflen/test/mel_2577.npy\n",
      "/github/datasets/openslr-95-german-neutral-tts/synmels_r3_149_difflen/test/mel_2578.npy\n",
      "/github/datasets/openslr-95-german-neutral-tts/synmels_r3_149_difflen/test/mel_2579.npy\n",
      "/github/datasets/openslr-95-german-neutral-tts/synmels_r3_149_difflen/test/mel_2580.npy\n",
      "/github/datasets/openslr-95-german-neutral-tts/synmels_r3_149_difflen/test/mel_2581.npy\n",
      "/github/datasets/openslr-95-german-neutral-tts/synmels_r3_149_difflen/test/mel_2582.npy\n",
      "/github/datasets/openslr-95-german-neutral-tts/synmels_r3_149_difflen/test/mel_2583.npy\n",
      "/github/datasets/openslr-95-german-neutral-tts/synmels_r3_149_difflen/test/mel_2584.npy\n",
      "/github/datasets/openslr-95-german-neutral-tts/synmels_r3_149_difflen/test/mel_2585.npy\n",
      "/github/datasets/openslr-95-german-neutral-tts/synmels_r3_149_difflen/test/mel_2586.npy\n",
      "/github/datasets/openslr-95-german-neutral-tts/synmels_r3_149_difflen/test/mel_2587.npy\n",
      "/github/datasets/openslr-95-german-neutral-tts/synmels_r3_149_difflen/test/mel_2588.npy\n",
      "/github/datasets/openslr-95-german-neutral-tts/synmels_r3_149_difflen/test/mel_2589.npy\n",
      "/github/datasets/openslr-95-german-neutral-tts/synmels_r3_149_difflen/test/mel_2590.npy\n",
      "/github/datasets/openslr-95-german-neutral-tts/synmels_r3_149_difflen/test/mel_2591.npy\n",
      "/github/datasets/openslr-95-german-neutral-tts/synmels_r3_149_difflen/test/mel_2592.npy\n",
      "/github/datasets/openslr-95-german-neutral-tts/synmels_r3_149_difflen/test/mel_2593.npy\n",
      "/github/datasets/openslr-95-german-neutral-tts/synmels_r3_149_difflen/test/mel_2594.npy\n"
     ]
    },
    {
     "name": "stderr",
     "output_type": "stream",
     "text": [
      "[NeMo W 2022-05-12 01:53:21 tts_tokenizers:351] Text: [DAY1 konnen SHLIY1ßLIH1CH AO1CH nicht gehackt WER1DAH0N.] contains unknown char/phoneme: [ß]. Original text: [Die konnen schließlich auch nicht gehackt werden.]. Symbol will be skipped.\n"
     ]
    },
    {
     "name": "stdout",
     "output_type": "stream",
     "text": [
      "/github/datasets/openslr-95-german-neutral-tts/synmels_r3_149_difflen/test/mel_2595.npy\n",
      "/github/datasets/openslr-95-german-neutral-tts/synmels_r3_149_difflen/test/mel_2596.npy\n",
      "/github/datasets/openslr-95-german-neutral-tts/synmels_r3_149_difflen/test/mel_2597.npy\n",
      "/github/datasets/openslr-95-german-neutral-tts/synmels_r3_149_difflen/test/mel_2598.npy\n",
      "/github/datasets/openslr-95-german-neutral-tts/synmels_r3_149_difflen/test/mel_2599.npy\n",
      "/github/datasets/openslr-95-german-neutral-tts/synmels_r3_149_difflen/test/mel_2600.npy\n",
      "/github/datasets/openslr-95-german-neutral-tts/synmels_r3_149_difflen/test/mel_2601.npy\n",
      "/github/datasets/openslr-95-german-neutral-tts/synmels_r3_149_difflen/test/mel_2602.npy\n",
      "/github/datasets/openslr-95-german-neutral-tts/synmels_r3_149_difflen/test/mel_2603.npy\n",
      "/github/datasets/openslr-95-german-neutral-tts/synmels_r3_149_difflen/test/mel_2604.npy\n",
      "/github/datasets/openslr-95-german-neutral-tts/synmels_r3_149_difflen/test/mel_2605.npy\n",
      "/github/datasets/openslr-95-german-neutral-tts/synmels_r3_149_difflen/test/mel_2606.npy\n"
     ]
    },
    {
     "name": "stderr",
     "output_type": "stream",
     "text": [
      "[NeMo W 2022-05-12 01:53:21 tts_tokenizers:351] Text: [das kronecker-DEH1LTAH0 SAA1L bloß DAY1 rechnung vereinfachen.] contains unknown char/phoneme: [ß]. Original text: [Das Kronecker-Delta soll bloß die Rechnung vereinfachen.]. Symbol will be skipped.\n"
     ]
    },
    {
     "name": "stdout",
     "output_type": "stream",
     "text": [
      "/github/datasets/openslr-95-german-neutral-tts/synmels_r3_149_difflen/test/mel_2607.npy\n",
      "/github/datasets/openslr-95-german-neutral-tts/synmels_r3_149_difflen/test/mel_2608.npy\n",
      "/github/datasets/openslr-95-german-neutral-tts/synmels_r3_149_difflen/test/mel_2609.npy\n",
      "/github/datasets/openslr-95-german-neutral-tts/synmels_r3_149_difflen/test/mel_2610.npy\n",
      "/github/datasets/openslr-95-german-neutral-tts/synmels_r3_149_difflen/test/mel_2611.npy\n",
      "/github/datasets/openslr-95-german-neutral-tts/synmels_r3_149_difflen/test/mel_2612.npy\n",
      "/github/datasets/openslr-95-german-neutral-tts/synmels_r3_149_difflen/test/mel_2613.npy\n",
      "/github/datasets/openslr-95-german-neutral-tts/synmels_r3_149_difflen/test/mel_2614.npy\n",
      "/github/datasets/openslr-95-german-neutral-tts/synmels_r3_149_difflen/test/mel_2615.npy\n"
     ]
    },
    {
     "name": "stderr",
     "output_type": "stream",
     "text": [
      "[NeMo W 2022-05-12 01:53:22 tts_tokenizers:351] Text: [DER1 straßenbauer WAO1R mit aufwendigen pflasterarbeiten beschaftigt.] contains unknown char/phoneme: [ß]. Original text: [Der Straßenbauer war mit aufwendigen Pflasterarbeiten beschaftigt.]. Symbol will be skipped.\n"
     ]
    },
    {
     "name": "stdout",
     "output_type": "stream",
     "text": [
      "/github/datasets/openslr-95-german-neutral-tts/synmels_r3_149_difflen/test/mel_2616.npy\n",
      "/github/datasets/openslr-95-german-neutral-tts/synmels_r3_149_difflen/test/mel_2617.npy\n",
      "/github/datasets/openslr-95-german-neutral-tts/synmels_r3_149_difflen/test/mel_2618.npy\n",
      "/github/datasets/openslr-95-german-neutral-tts/synmels_r3_149_difflen/test/mel_2619.npy\n",
      "/github/datasets/openslr-95-german-neutral-tts/synmels_r3_149_difflen/test/mel_2620.npy\n",
      "/github/datasets/openslr-95-german-neutral-tts/synmels_r3_149_difflen/test/mel_2621.npy\n",
      "/github/datasets/openslr-95-german-neutral-tts/synmels_r3_149_difflen/test/mel_2622.npy\n",
      "/github/datasets/openslr-95-german-neutral-tts/synmels_r3_149_difflen/test/mel_2623.npy\n",
      "/github/datasets/openslr-95-german-neutral-tts/synmels_r3_149_difflen/test/mel_2624.npy\n",
      "/github/datasets/openslr-95-german-neutral-tts/synmels_r3_149_difflen/test/mel_2625.npy\n",
      "/github/datasets/openslr-95-german-neutral-tts/synmels_r3_149_difflen/test/mel_2626.npy\n",
      "/github/datasets/openslr-95-german-neutral-tts/synmels_r3_149_difflen/test/mel_2627.npy\n",
      "/github/datasets/openslr-95-german-neutral-tts/synmels_r3_149_difflen/test/mel_2628.npy\n",
      "/github/datasets/openslr-95-german-neutral-tts/synmels_r3_149_difflen/test/mel_2629.npy\n",
      "/github/datasets/openslr-95-german-neutral-tts/synmels_r3_149_difflen/test/mel_2630.npy\n",
      "/github/datasets/openslr-95-german-neutral-tts/synmels_r3_149_difflen/test/mel_2631.npy\n",
      "/github/datasets/openslr-95-german-neutral-tts/synmels_r3_149_difflen/test/mel_2632.npy\n",
      "/github/datasets/openslr-95-german-neutral-tts/synmels_r3_149_difflen/test/mel_2633.npy\n",
      "/github/datasets/openslr-95-german-neutral-tts/synmels_r3_149_difflen/test/mel_2634.npy\n",
      "/github/datasets/openslr-95-german-neutral-tts/synmels_r3_149_difflen/test/mel_2635.npy\n"
     ]
    },
    {
     "name": "stderr",
     "output_type": "stream",
     "text": [
      "[NeMo W 2022-05-12 01:53:22 tts_tokenizers:351] Text: [DAY1 zahnarztin traumt VAO1N einem GROW1ßEH1N, schmerzhaften BAO1RER0 mit kreischendem SAW1ND.] contains unknown char/phoneme: [ß]. Original text: [Die Zahnarztin traumt von einem großen, schmerzhaften Bohrer mit kreischendem Sound.]. Symbol will be skipped.\n",
      "[NeMo W 2022-05-12 01:53:22 tts_tokenizers:351] Text: [FER1 MAY1NAH0N zahnarzt BIH1N IH1CH eine echte arbeitsbeschaffungsmaßnahme.] contains unknown char/phoneme: [ß]. Original text: [Fur meinen Zahnarzt bin ich eine echte Arbeitsbeschaffungsmaßnahme.]. Symbol will be skipped.\n",
      "[NeMo W 2022-05-12 01:53:22 tts_tokenizers:351] Text: [sanitatsoffiziere SIH1ND AE1LZ einheitsfuhrer disziplinarvorgesetzte DER1 IH1NAH0N truppendienstlich unterstellten soldaten gemaß wehrdisziplinarordnung.] contains unknown char/phoneme: [ß]. Original text: [Sanitatsoffiziere sind als Einheitsfuhrer Disziplinarvorgesetzte der ihnen truppendienstlich unterstellten Soldaten gemaß Wehrdisziplinarordnung.]. Symbol will be skipped.\n"
     ]
    },
    {
     "name": "stdout",
     "output_type": "stream",
     "text": [
      "/github/datasets/openslr-95-german-neutral-tts/synmels_r3_149_difflen/test/mel_2636.npy\n",
      "/github/datasets/openslr-95-german-neutral-tts/synmels_r3_149_difflen/test/mel_2637.npy\n",
      "/github/datasets/openslr-95-german-neutral-tts/synmels_r3_149_difflen/test/mel_2638.npy\n",
      "/github/datasets/openslr-95-german-neutral-tts/synmels_r3_149_difflen/test/mel_2639.npy\n",
      "/github/datasets/openslr-95-german-neutral-tts/synmels_r3_149_difflen/test/mel_2640.npy\n",
      "/github/datasets/openslr-95-german-neutral-tts/synmels_r3_149_difflen/test/mel_2641.npy\n",
      "/github/datasets/openslr-95-german-neutral-tts/synmels_r3_149_difflen/test/mel_2642.npy\n",
      "/github/datasets/openslr-95-german-neutral-tts/synmels_r3_149_difflen/test/mel_2643.npy\n",
      "/github/datasets/openslr-95-german-neutral-tts/synmels_r3_149_difflen/test/mel_2644.npy\n",
      "/github/datasets/openslr-95-german-neutral-tts/synmels_r3_149_difflen/test/mel_2645.npy\n",
      "/github/datasets/openslr-95-german-neutral-tts/synmels_r3_149_difflen/test/mel_2646.npy\n",
      "/github/datasets/openslr-95-german-neutral-tts/synmels_r3_149_difflen/test/mel_2647.npy\n",
      "/github/datasets/openslr-95-german-neutral-tts/synmels_r3_149_difflen/test/mel_2648.npy\n",
      "/github/datasets/openslr-95-german-neutral-tts/synmels_r3_149_difflen/test/mel_2649.npy\n",
      "/github/datasets/openslr-95-german-neutral-tts/synmels_r3_149_difflen/test/mel_2650.npy\n",
      "/github/datasets/openslr-95-german-neutral-tts/synmels_r3_149_difflen/test/mel_2651.npy\n",
      "/github/datasets/openslr-95-german-neutral-tts/synmels_r3_149_difflen/test/mel_2652.npy\n",
      "/github/datasets/openslr-95-german-neutral-tts/synmels_r3_149_difflen/test/mel_2653.npy\n"
     ]
    },
    {
     "name": "stderr",
     "output_type": "stream",
     "text": [
      "[NeMo W 2022-05-12 01:53:22 tts_tokenizers:351] Text: [HHER1SH heiß IH1CH nicht.] contains unknown char/phoneme: [ß]. Original text: [Hirsch heiß ich nicht.]. Symbol will be skipped.\n"
     ]
    },
    {
     "name": "stdout",
     "output_type": "stream",
     "text": [
      "/github/datasets/openslr-95-german-neutral-tts/synmels_r3_149_difflen/test/mel_2654.npy\n",
      "/github/datasets/openslr-95-german-neutral-tts/synmels_r3_149_difflen/test/mel_2655.npy\n",
      "/github/datasets/openslr-95-german-neutral-tts/synmels_r3_149_difflen/test/mel_2656.npy\n",
      "/github/datasets/openslr-95-german-neutral-tts/synmels_r3_149_difflen/test/mel_2657.npy\n",
      "/github/datasets/openslr-95-german-neutral-tts/synmels_r3_149_difflen/test/mel_2658.npy\n",
      "/github/datasets/openslr-95-german-neutral-tts/synmels_r3_149_difflen/test/mel_2659.npy\n",
      "/github/datasets/openslr-95-german-neutral-tts/synmels_r3_149_difflen/test/mel_2660.npy\n",
      "/github/datasets/openslr-95-german-neutral-tts/synmels_r3_149_difflen/test/mel_2661.npy\n",
      "/github/datasets/openslr-95-german-neutral-tts/synmels_r3_149_difflen/test/mel_2662.npy\n",
      "/github/datasets/openslr-95-german-neutral-tts/synmels_r3_149_difflen/test/mel_2663.npy\n",
      "/github/datasets/openslr-95-german-neutral-tts/synmels_r3_149_difflen/test/mel_2664.npy\n",
      "/github/datasets/openslr-95-german-neutral-tts/synmels_r3_149_difflen/test/mel_2665.npy\n",
      "/github/datasets/openslr-95-german-neutral-tts/synmels_r3_149_difflen/test/mel_2666.npy\n",
      "/github/datasets/openslr-95-german-neutral-tts/synmels_r3_149_difflen/test/mel_2667.npy\n",
      "/github/datasets/openslr-95-german-neutral-tts/synmels_r3_149_difflen/test/mel_2668.npy\n",
      "/github/datasets/openslr-95-german-neutral-tts/synmels_r3_149_difflen/test/mel_2669.npy\n",
      "/github/datasets/openslr-95-german-neutral-tts/synmels_r3_149_difflen/test/mel_2670.npy\n",
      "/github/datasets/openslr-95-german-neutral-tts/synmels_r3_149_difflen/test/mel_2671.npy\n",
      "/github/datasets/openslr-95-german-neutral-tts/synmels_r3_149_difflen/test/mel_2672.npy\n",
      "/github/datasets/openslr-95-german-neutral-tts/synmels_r3_149_difflen/test/mel_2673.npy\n",
      "/github/datasets/openslr-95-german-neutral-tts/synmels_r3_149_difflen/test/mel_2674.npy\n",
      "/github/datasets/openslr-95-german-neutral-tts/synmels_r3_149_difflen/test/mel_2675.npy\n",
      "/github/datasets/openslr-95-german-neutral-tts/synmels_r3_149_difflen/test/mel_2676.npy\n",
      "/github/datasets/openslr-95-german-neutral-tts/synmels_r3_149_difflen/test/mel_2677.npy\n",
      "/github/datasets/openslr-95-german-neutral-tts/synmels_r3_149_difflen/test/mel_2678.npy\n",
      "/github/datasets/openslr-95-german-neutral-tts/synmels_r3_149_difflen/test/mel_2679.npy\n",
      "/github/datasets/openslr-95-german-neutral-tts/synmels_r3_149_difflen/test/mel_2680.npy\n",
      "/github/datasets/openslr-95-german-neutral-tts/synmels_r3_149_difflen/test/mel_2681.npy\n",
      "/github/datasets/openslr-95-german-neutral-tts/synmels_r3_149_difflen/test/mel_2682.npy\n",
      "/github/datasets/openslr-95-german-neutral-tts/synmels_r3_149_difflen/test/mel_2683.npy\n",
      "/github/datasets/openslr-95-german-neutral-tts/synmels_r3_149_difflen/test/mel_2684.npy\n",
      "/github/datasets/openslr-95-german-neutral-tts/synmels_r3_149_difflen/test/mel_2685.npy\n",
      "/github/datasets/openslr-95-german-neutral-tts/synmels_r3_149_difflen/test/mel_2686.npy\n"
     ]
    },
    {
     "name": "stderr",
     "output_type": "stream",
     "text": [
      "[NeMo W 2022-05-12 01:53:23 tts_tokenizers:351] Text: [das heißTIY1: AH1M einen selbsttragenden wirtschaftlichen aufschwung zu ermoglichen, mussen wir noch besondere forderinvestitionen tatigen.] contains unknown char/phoneme: [ß]. Original text: [Das heißt: Um einen selbsttragenden wirtschaftlichen Aufschwung zu ermoglichen, mussen wir noch besondere Forderinvestitionen tatigen.]. Symbol will be skipped.\n"
     ]
    },
    {
     "name": "stdout",
     "output_type": "stream",
     "text": [
      "/github/datasets/openslr-95-german-neutral-tts/synmels_r3_149_difflen/test/mel_2687.npy\n",
      "/github/datasets/openslr-95-german-neutral-tts/synmels_r3_149_difflen/test/mel_2688.npy\n",
      "/github/datasets/openslr-95-german-neutral-tts/synmels_r3_149_difflen/test/mel_2689.npy\n",
      "/github/datasets/openslr-95-german-neutral-tts/synmels_r3_149_difflen/test/mel_2690.npy\n",
      "/github/datasets/openslr-95-german-neutral-tts/synmels_r3_149_difflen/test/mel_2691.npy\n",
      "/github/datasets/openslr-95-german-neutral-tts/synmels_r3_149_difflen/test/mel_2692.npy\n",
      "/github/datasets/openslr-95-german-neutral-tts/synmels_r3_149_difflen/test/mel_2693.npy\n",
      "/github/datasets/openslr-95-german-neutral-tts/synmels_r3_149_difflen/test/mel_2694.npy\n",
      "/github/datasets/openslr-95-german-neutral-tts/synmels_r3_149_difflen/test/mel_2695.npy\n",
      "/github/datasets/openslr-95-german-neutral-tts/synmels_r3_149_difflen/test/mel_2696.npy\n",
      "/github/datasets/openslr-95-german-neutral-tts/synmels_r3_149_difflen/test/mel_2697.npy\n",
      "/github/datasets/openslr-95-german-neutral-tts/synmels_r3_149_difflen/test/mel_2698.npy\n",
      "/github/datasets/openslr-95-german-neutral-tts/synmels_r3_149_difflen/test/mel_2699.npy\n",
      "/github/datasets/openslr-95-german-neutral-tts/synmels_r3_149_difflen/test/mel_2700.npy\n",
      "/github/datasets/openslr-95-german-neutral-tts/synmels_r3_149_difflen/test/mel_2701.npy\n",
      "/github/datasets/openslr-95-german-neutral-tts/synmels_r3_149_difflen/test/mel_2702.npy\n",
      "/github/datasets/openslr-95-german-neutral-tts/synmels_r3_149_difflen/test/mel_2703.npy\n",
      "/github/datasets/openslr-95-german-neutral-tts/synmels_r3_149_difflen/test/mel_2704.npy\n",
      "/github/datasets/openslr-95-german-neutral-tts/synmels_r3_149_difflen/test/mel_2705.npy\n",
      "/github/datasets/openslr-95-german-neutral-tts/synmels_r3_149_difflen/test/mel_2706.npy\n",
      "/github/datasets/openslr-95-german-neutral-tts/synmels_r3_149_difflen/test/mel_2707.npy\n",
      "/github/datasets/openslr-95-german-neutral-tts/synmels_r3_149_difflen/test/mel_2708.npy\n",
      "/github/datasets/openslr-95-german-neutral-tts/synmels_r3_149_difflen/test/mel_2709.npy\n",
      "/github/datasets/openslr-95-german-neutral-tts/synmels_r3_149_difflen/test/mel_2710.npy\n",
      "/github/datasets/openslr-95-german-neutral-tts/synmels_r3_149_difflen/test/mel_2711.npy\n",
      "/github/datasets/openslr-95-german-neutral-tts/synmels_r3_149_difflen/test/mel_2712.npy\n",
      "/github/datasets/openslr-95-german-neutral-tts/synmels_r3_149_difflen/test/mel_2713.npy\n",
      "/github/datasets/openslr-95-german-neutral-tts/synmels_r3_149_difflen/test/mel_2714.npy\n",
      "/github/datasets/openslr-95-german-neutral-tts/synmels_r3_149_difflen/test/mel_2715.npy\n",
      "/github/datasets/openslr-95-german-neutral-tts/synmels_r3_149_difflen/test/mel_2716.npy\n",
      "/github/datasets/openslr-95-german-neutral-tts/synmels_r3_149_difflen/test/mel_2717.npy\n",
      "/github/datasets/openslr-95-german-neutral-tts/synmels_r3_149_difflen/test/mel_2718.npy\n"
     ]
    },
    {
     "name": "stderr",
     "output_type": "stream",
     "text": [
      "[NeMo W 2022-05-12 01:53:24 tts_tokenizers:351] Text: [DER1 angeklagte mochte sich zu DER1 sache nicht OW1ßern.] contains unknown char/phoneme: [ß]. Original text: [Der Angeklagte mochte sich zu der Sache nicht außern.]. Symbol will be skipped.\n",
      "[NeMo W 2022-05-12 01:53:24 tts_tokenizers:351] Text: [inzwischen SIH1ND DAY1 DIH1NGER0 WIY1DER0 GROW1ßER0 AE1LZ DAY1 AW1Z DEH1N neunzigern.] contains unknown char/phoneme: [ß]. Original text: [Inzwischen sind die Dinger wieder großer als die aus den Neunzigern.]. Symbol will be skipped.\n",
      "[NeMo W 2022-05-12 01:53:24 tts_tokenizers:351] Text: [IH1CH habe FER1 funfzehn UH1R dreißig MAO1RGAH0N eine erinnerung gesetzt] contains unknown char/phoneme: [ß]. Original text: [Ich habe fur funfzehn uhr dreißig morgen eine Erinnerung gesetzt]. Symbol will be skipped.\n"
     ]
    },
    {
     "name": "stdout",
     "output_type": "stream",
     "text": [
      "/github/datasets/openslr-95-german-neutral-tts/synmels_r3_149_difflen/test/mel_2719.npy\n",
      "/github/datasets/openslr-95-german-neutral-tts/synmels_r3_149_difflen/test/mel_2720.npy\n",
      "/github/datasets/openslr-95-german-neutral-tts/synmels_r3_149_difflen/test/mel_2721.npy\n",
      "/github/datasets/openslr-95-german-neutral-tts/synmels_r3_149_difflen/test/mel_2722.npy\n",
      "/github/datasets/openslr-95-german-neutral-tts/synmels_r3_149_difflen/test/mel_2723.npy\n",
      "/github/datasets/openslr-95-german-neutral-tts/synmels_r3_149_difflen/test/mel_2724.npy\n",
      "/github/datasets/openslr-95-german-neutral-tts/synmels_r3_149_difflen/test/mel_2725.npy\n",
      "/github/datasets/openslr-95-german-neutral-tts/synmels_r3_149_difflen/test/mel_2726.npy\n",
      "/github/datasets/openslr-95-german-neutral-tts/synmels_r3_149_difflen/test/mel_2727.npy\n",
      "/github/datasets/openslr-95-german-neutral-tts/synmels_r3_149_difflen/test/mel_2728.npy\n",
      "/github/datasets/openslr-95-german-neutral-tts/synmels_r3_149_difflen/test/mel_2729.npy\n",
      "/github/datasets/openslr-95-german-neutral-tts/synmels_r3_149_difflen/test/mel_2730.npy\n",
      "/github/datasets/openslr-95-german-neutral-tts/synmels_r3_149_difflen/test/mel_2731.npy\n",
      "/github/datasets/openslr-95-german-neutral-tts/synmels_r3_149_difflen/test/mel_2732.npy\n",
      "/github/datasets/openslr-95-german-neutral-tts/synmels_r3_149_difflen/test/mel_2733.npy\n",
      "/github/datasets/openslr-95-german-neutral-tts/synmels_r3_149_difflen/test/mel_2734.npy\n",
      "/github/datasets/openslr-95-german-neutral-tts/synmels_r3_149_difflen/test/mel_2735.npy\n",
      "/github/datasets/openslr-95-german-neutral-tts/synmels_r3_149_difflen/test/mel_2736.npy\n",
      "/github/datasets/openslr-95-german-neutral-tts/synmels_r3_149_difflen/test/mel_2737.npy\n",
      "/github/datasets/openslr-95-german-neutral-tts/synmels_r3_149_difflen/test/mel_2738.npy\n",
      "/github/datasets/openslr-95-german-neutral-tts/synmels_r3_149_difflen/test/mel_2739.npy\n",
      "/github/datasets/openslr-95-german-neutral-tts/synmels_r3_149_difflen/test/mel_2740.npy\n",
      "/github/datasets/openslr-95-german-neutral-tts/synmels_r3_149_difflen/test/mel_2741.npy\n",
      "/github/datasets/openslr-95-german-neutral-tts/synmels_r3_149_difflen/test/mel_2742.npy\n",
      "/github/datasets/openslr-95-german-neutral-tts/synmels_r3_149_difflen/test/mel_2743.npy\n",
      "/github/datasets/openslr-95-german-neutral-tts/synmels_r3_149_difflen/test/mel_2744.npy\n",
      "/github/datasets/openslr-95-german-neutral-tts/synmels_r3_149_difflen/test/mel_2745.npy\n",
      "/github/datasets/openslr-95-german-neutral-tts/synmels_r3_149_difflen/test/mel_2746.npy\n",
      "/github/datasets/openslr-95-german-neutral-tts/synmels_r3_149_difflen/test/mel_2747.npy\n",
      "/github/datasets/openslr-95-german-neutral-tts/synmels_r3_149_difflen/test/mel_2748.npy\n"
     ]
    },
    {
     "name": "stderr",
     "output_type": "stream",
     "text": [
      "[NeMo W 2022-05-12 01:53:24 tts_tokenizers:351] Text: [beilagen SIH1ND manchmal ungenießBAA1R.] contains unknown char/phoneme: [ß]. Original text: [Beilagen sind manchmal ungenießbar.]. Symbol will be skipped.\n",
      "[NeMo W 2022-05-12 01:53:24 tts_tokenizers:351] Text: [AH1ND da LAY1ß mariechen mariechen MAE1L riechen.] contains unknown char/phoneme: [ß]. Original text: [Und da ließ Mariechen Mariechen mal riechen.]. Symbol will be skipped.\n"
     ]
    },
    {
     "name": "stdout",
     "output_type": "stream",
     "text": [
      "/github/datasets/openslr-95-german-neutral-tts/synmels_r3_149_difflen/test/mel_2749.npy\n",
      "/github/datasets/openslr-95-german-neutral-tts/synmels_r3_149_difflen/test/mel_2750.npy\n",
      "/github/datasets/openslr-95-german-neutral-tts/synmels_r3_149_difflen/test/mel_2751.npy\n",
      "/github/datasets/openslr-95-german-neutral-tts/synmels_r3_149_difflen/test/mel_2752.npy\n",
      "/github/datasets/openslr-95-german-neutral-tts/synmels_r3_149_difflen/test/mel_2753.npy\n",
      "/github/datasets/openslr-95-german-neutral-tts/synmels_r3_149_difflen/test/mel_2754.npy\n",
      "/github/datasets/openslr-95-german-neutral-tts/synmels_r3_149_difflen/test/mel_2755.npy\n",
      "/github/datasets/openslr-95-german-neutral-tts/synmels_r3_149_difflen/test/mel_2756.npy\n",
      "/github/datasets/openslr-95-german-neutral-tts/synmels_r3_149_difflen/test/mel_2757.npy\n",
      "/github/datasets/openslr-95-german-neutral-tts/synmels_r3_149_difflen/test/mel_2758.npy\n",
      "/github/datasets/openslr-95-german-neutral-tts/synmels_r3_149_difflen/test/mel_2759.npy\n"
     ]
    },
    {
     "name": "stderr",
     "output_type": "stream",
     "text": [
      "[NeMo W 2022-05-12 01:53:25 tts_tokenizers:351] Text: [SEH1R, SEH1R VIY1L ressorts MAE1KAH0N PROW1GRAE2M, AH1ND damit ist DER1 RAO1M, DEH1N wir FER1 DAY1 zusammenarbeit nutzen, VIY1L GROW1ßER0 geworden.] contains unknown char/phoneme: [ß]. Original text: [Sehr, sehr viele Ressorts machen Programme, und damit ist der Raum, den wir fur die Zusammenarbeit nutzen, viel großer geworden.]. Symbol will be skipped.\n"
     ]
    },
    {
     "name": "stdout",
     "output_type": "stream",
     "text": [
      "/github/datasets/openslr-95-german-neutral-tts/synmels_r3_149_difflen/test/mel_2760.npy\n",
      "/github/datasets/openslr-95-german-neutral-tts/synmels_r3_149_difflen/test/mel_2761.npy\n",
      "/github/datasets/openslr-95-german-neutral-tts/synmels_r3_149_difflen/test/mel_2762.npy\n",
      "/github/datasets/openslr-95-german-neutral-tts/synmels_r3_149_difflen/test/mel_2763.npy\n",
      "/github/datasets/openslr-95-german-neutral-tts/synmels_r3_149_difflen/test/mel_2764.npy\n",
      "/github/datasets/openslr-95-german-neutral-tts/synmels_r3_149_difflen/test/mel_2765.npy\n",
      "/github/datasets/openslr-95-german-neutral-tts/synmels_r3_149_difflen/test/mel_2766.npy\n",
      "/github/datasets/openslr-95-german-neutral-tts/synmels_r3_149_difflen/test/mel_2767.npy\n",
      "/github/datasets/openslr-95-german-neutral-tts/synmels_r3_149_difflen/test/mel_2768.npy\n",
      "/github/datasets/openslr-95-german-neutral-tts/synmels_r3_149_difflen/test/mel_2769.npy\n",
      "/github/datasets/openslr-95-german-neutral-tts/synmels_r3_149_difflen/test/mel_2770.npy\n",
      "/github/datasets/openslr-95-german-neutral-tts/synmels_r3_149_difflen/test/mel_2771.npy\n",
      "/github/datasets/openslr-95-german-neutral-tts/synmels_r3_149_difflen/test/mel_2772.npy\n",
      "/github/datasets/openslr-95-german-neutral-tts/synmels_r3_149_difflen/test/mel_2773.npy\n",
      "/github/datasets/openslr-95-german-neutral-tts/synmels_r3_149_difflen/test/mel_2774.npy\n",
      "/github/datasets/openslr-95-german-neutral-tts/synmels_r3_149_difflen/test/mel_2775.npy\n",
      "/github/datasets/openslr-95-german-neutral-tts/synmels_r3_149_difflen/test/mel_2776.npy\n",
      "/github/datasets/openslr-95-german-neutral-tts/synmels_r3_149_difflen/test/mel_2777.npy\n",
      "/github/datasets/openslr-95-german-neutral-tts/synmels_r3_149_difflen/test/mel_2778.npy\n",
      "/github/datasets/openslr-95-german-neutral-tts/synmels_r3_149_difflen/test/mel_2779.npy\n",
      "/github/datasets/openslr-95-german-neutral-tts/synmels_r3_149_difflen/test/mel_2780.npy\n",
      "/github/datasets/openslr-95-german-neutral-tts/synmels_r3_149_difflen/test/mel_2781.npy\n",
      "/github/datasets/openslr-95-german-neutral-tts/synmels_r3_149_difflen/test/mel_2782.npy\n",
      "/github/datasets/openslr-95-german-neutral-tts/synmels_r3_149_difflen/test/mel_2783.npy\n",
      "/github/datasets/openslr-95-german-neutral-tts/synmels_r3_149_difflen/test/mel_2784.npy\n",
      "/github/datasets/openslr-95-german-neutral-tts/synmels_r3_149_difflen/test/mel_2785.npy\n",
      "/github/datasets/openslr-95-german-neutral-tts/synmels_r3_149_difflen/test/mel_2786.npy\n",
      "/github/datasets/openslr-95-german-neutral-tts/synmels_r3_149_difflen/test/mel_2787.npy\n",
      "/github/datasets/openslr-95-german-neutral-tts/synmels_r3_149_difflen/test/mel_2788.npy\n",
      "/github/datasets/openslr-95-german-neutral-tts/synmels_r3_149_difflen/test/mel_2789.npy\n",
      "/github/datasets/openslr-95-german-neutral-tts/synmels_r3_149_difflen/test/mel_2790.npy\n",
      "/github/datasets/openslr-95-german-neutral-tts/synmels_r3_149_difflen/test/mel_2791.npy\n",
      "/github/datasets/openslr-95-german-neutral-tts/synmels_r3_149_difflen/test/mel_2792.npy\n",
      "/github/datasets/openslr-95-german-neutral-tts/synmels_r3_149_difflen/test/mel_2793.npy\n",
      "/github/datasets/openslr-95-german-neutral-tts/synmels_r3_149_difflen/test/mel_2794.npy\n",
      "/github/datasets/openslr-95-german-neutral-tts/synmels_r3_149_difflen/test/mel_2795.npy\n",
      "/github/datasets/openslr-95-german-neutral-tts/synmels_r3_149_difflen/test/mel_2796.npy\n",
      "/github/datasets/openslr-95-german-neutral-tts/synmels_r3_149_difflen/test/mel_2797.npy\n",
      "/github/datasets/openslr-95-german-neutral-tts/synmels_r3_149_difflen/test/mel_2798.npy\n",
      "/github/datasets/openslr-95-german-neutral-tts/synmels_r3_149_difflen/test/mel_2799.npy\n",
      "/github/datasets/openslr-95-german-neutral-tts/synmels_r3_149_difflen/test/mel_2800.npy\n",
      "/github/datasets/openslr-95-german-neutral-tts/synmels_r3_149_difflen/test/mel_2801.npy\n",
      "/github/datasets/openslr-95-german-neutral-tts/synmels_r3_149_difflen/test/mel_2802.npy\n",
      "/github/datasets/openslr-95-german-neutral-tts/synmels_r3_149_difflen/test/mel_2803.npy\n"
     ]
    },
    {
     "name": "stderr",
     "output_type": "stream",
     "text": [
      "[NeMo W 2022-05-12 01:53:25 tts_tokenizers:351] Text: [SOW1 uberließ ER0 EH1S DER1 schwester.] contains unknown char/phoneme: [ß]. Original text: [So uberließ er es der Schwester.]. Symbol will be skipped.\n",
      "[NeMo W 2022-05-12 01:53:26 tts_tokenizers:351] Text: [mit NOY1ER0 signaltechnik LAY1ßIY1 sich DER1 takt noch weiter verdichten.] contains unknown char/phoneme: [ß]. Original text: [Mit neuer Signaltechnik ließe sich der Takt noch weiter verdichten.]. Symbol will be skipped.\n"
     ]
    },
    {
     "name": "stdout",
     "output_type": "stream",
     "text": [
      "/github/datasets/openslr-95-german-neutral-tts/synmels_r3_149_difflen/test/mel_2804.npy\n",
      "/github/datasets/openslr-95-german-neutral-tts/synmels_r3_149_difflen/test/mel_2805.npy\n",
      "/github/datasets/openslr-95-german-neutral-tts/synmels_r3_149_difflen/test/mel_2806.npy\n",
      "/github/datasets/openslr-95-german-neutral-tts/synmels_r3_149_difflen/test/mel_2807.npy\n",
      "/github/datasets/openslr-95-german-neutral-tts/synmels_r3_149_difflen/test/mel_2808.npy\n",
      "/github/datasets/openslr-95-german-neutral-tts/synmels_r3_149_difflen/test/mel_2809.npy\n",
      "/github/datasets/openslr-95-german-neutral-tts/synmels_r3_149_difflen/test/mel_2810.npy\n",
      "/github/datasets/openslr-95-german-neutral-tts/synmels_r3_149_difflen/test/mel_2811.npy\n",
      "/github/datasets/openslr-95-german-neutral-tts/synmels_r3_149_difflen/test/mel_2812.npy\n",
      "/github/datasets/openslr-95-german-neutral-tts/synmels_r3_149_difflen/test/mel_2813.npy\n",
      "/github/datasets/openslr-95-german-neutral-tts/synmels_r3_149_difflen/test/mel_2814.npy\n",
      "/github/datasets/openslr-95-german-neutral-tts/synmels_r3_149_difflen/test/mel_2815.npy\n",
      "/github/datasets/openslr-95-german-neutral-tts/synmels_r3_149_difflen/test/mel_2816.npy\n",
      "/github/datasets/openslr-95-german-neutral-tts/synmels_r3_149_difflen/test/mel_2817.npy\n",
      "/github/datasets/openslr-95-german-neutral-tts/synmels_r3_149_difflen/test/mel_2818.npy\n",
      "/github/datasets/openslr-95-german-neutral-tts/synmels_r3_149_difflen/test/mel_2819.npy\n",
      "/github/datasets/openslr-95-german-neutral-tts/synmels_r3_149_difflen/test/mel_2820.npy\n",
      "/github/datasets/openslr-95-german-neutral-tts/synmels_r3_149_difflen/test/mel_2821.npy\n",
      "/github/datasets/openslr-95-german-neutral-tts/synmels_r3_149_difflen/test/mel_2822.npy\n",
      "/github/datasets/openslr-95-german-neutral-tts/synmels_r3_149_difflen/test/mel_2823.npy\n",
      "/github/datasets/openslr-95-german-neutral-tts/synmels_r3_149_difflen/test/mel_2824.npy\n",
      "/github/datasets/openslr-95-german-neutral-tts/synmels_r3_149_difflen/test/mel_2825.npy\n",
      "/github/datasets/openslr-95-german-neutral-tts/synmels_r3_149_difflen/test/mel_2826.npy\n",
      "/github/datasets/openslr-95-german-neutral-tts/synmels_r3_149_difflen/test/mel_2827.npy\n",
      "/github/datasets/openslr-95-german-neutral-tts/synmels_r3_149_difflen/test/mel_2828.npy\n",
      "/github/datasets/openslr-95-german-neutral-tts/synmels_r3_149_difflen/test/mel_2829.npy\n",
      "/github/datasets/openslr-95-german-neutral-tts/synmels_r3_149_difflen/test/mel_2830.npy\n",
      "/github/datasets/openslr-95-german-neutral-tts/synmels_r3_149_difflen/test/mel_2831.npy\n"
     ]
    },
    {
     "name": "stderr",
     "output_type": "stream",
     "text": [
      "[NeMo W 2022-05-12 01:53:26 tts_tokenizers:351] Text: [IH1M brutkasten ist EH1S mollige siebenunddreißig GRAE1D WAO1RM.] contains unknown char/phoneme: [ß]. Original text: [Im Brutkasten ist es mollige siebenunddreißig Grad warm.]. Symbol will be skipped.\n",
      "[NeMo W 2022-05-12 01:53:26 tts_tokenizers:351] Text: [soweit IH1CH WEY1ß, ist ER0 auf latein.] contains unknown char/phoneme: [ß]. Original text: [Soweit ich weiß, ist er auf Latein.]. Symbol will be skipped.\n"
     ]
    },
    {
     "name": "stdout",
     "output_type": "stream",
     "text": [
      "/github/datasets/openslr-95-german-neutral-tts/synmels_r3_149_difflen/test/mel_2832.npy\n",
      "/github/datasets/openslr-95-german-neutral-tts/synmels_r3_149_difflen/test/mel_2833.npy\n",
      "/github/datasets/openslr-95-german-neutral-tts/synmels_r3_149_difflen/test/mel_2834.npy\n",
      "/github/datasets/openslr-95-german-neutral-tts/synmels_r3_149_difflen/test/mel_2835.npy\n",
      "/github/datasets/openslr-95-german-neutral-tts/synmels_r3_149_difflen/test/mel_2836.npy\n",
      "/github/datasets/openslr-95-german-neutral-tts/synmels_r3_149_difflen/test/mel_2837.npy\n",
      "/github/datasets/openslr-95-german-neutral-tts/synmels_r3_149_difflen/test/mel_2838.npy\n",
      "/github/datasets/openslr-95-german-neutral-tts/synmels_r3_149_difflen/test/mel_2839.npy\n",
      "/github/datasets/openslr-95-german-neutral-tts/synmels_r3_149_difflen/test/mel_2840.npy\n",
      "/github/datasets/openslr-95-german-neutral-tts/synmels_r3_149_difflen/test/mel_2841.npy\n",
      "/github/datasets/openslr-95-german-neutral-tts/synmels_r3_149_difflen/test/mel_2842.npy\n",
      "/github/datasets/openslr-95-german-neutral-tts/synmels_r3_149_difflen/test/mel_2843.npy\n",
      "/github/datasets/openslr-95-german-neutral-tts/synmels_r3_149_difflen/test/mel_2844.npy\n",
      "/github/datasets/openslr-95-german-neutral-tts/synmels_r3_149_difflen/test/mel_2845.npy\n",
      "/github/datasets/openslr-95-german-neutral-tts/synmels_r3_149_difflen/test/mel_2846.npy\n",
      "/github/datasets/openslr-95-german-neutral-tts/synmels_r3_149_difflen/test/mel_2847.npy\n",
      "/github/datasets/openslr-95-german-neutral-tts/synmels_r3_149_difflen/test/mel_2848.npy\n"
     ]
    },
    {
     "name": "stderr",
     "output_type": "stream",
     "text": [
      "[NeMo W 2022-05-12 01:53:27 tts_tokenizers:351] Text: [konnen wir etwas SUW1ßIY1 rausnehmen?] contains unknown char/phoneme: [ß]. Original text: [Konnen wir etwas Suße rausnehmen?]. Symbol will be skipped.\n"
     ]
    },
    {
     "name": "stdout",
     "output_type": "stream",
     "text": [
      "/github/datasets/openslr-95-german-neutral-tts/synmels_r3_149_difflen/test/mel_2849.npy\n",
      "/github/datasets/openslr-95-german-neutral-tts/synmels_r3_149_difflen/test/mel_2850.npy\n",
      "/github/datasets/openslr-95-german-neutral-tts/synmels_r3_149_difflen/test/mel_2851.npy\n",
      "/github/datasets/openslr-95-german-neutral-tts/synmels_r3_149_difflen/test/mel_2852.npy\n",
      "/github/datasets/openslr-95-german-neutral-tts/synmels_r3_149_difflen/test/mel_2853.npy\n",
      "/github/datasets/openslr-95-german-neutral-tts/synmels_r3_149_difflen/test/mel_2854.npy\n",
      "/github/datasets/openslr-95-german-neutral-tts/synmels_r3_149_difflen/test/mel_2855.npy\n",
      "/github/datasets/openslr-95-german-neutral-tts/synmels_r3_149_difflen/test/mel_2856.npy\n",
      "/github/datasets/openslr-95-german-neutral-tts/synmels_r3_149_difflen/test/mel_2857.npy\n"
     ]
    },
    {
     "name": "stderr",
     "output_type": "stream",
     "text": [
      "[NeMo W 2022-05-12 01:53:27 tts_tokenizers:351] Text: [davon WEY1ß HHEH1R kuchler naturlich nichts.] contains unknown char/phoneme: [ß]. Original text: [Davon weiß Herr Kuchler naturlich nichts.]. Symbol will be skipped.\n"
     ]
    },
    {
     "name": "stdout",
     "output_type": "stream",
     "text": [
      "/github/datasets/openslr-95-german-neutral-tts/synmels_r3_149_difflen/test/mel_2858.npy\n",
      "/github/datasets/openslr-95-german-neutral-tts/synmels_r3_149_difflen/test/mel_2859.npy\n",
      "/github/datasets/openslr-95-german-neutral-tts/synmels_r3_149_difflen/test/mel_2860.npy\n",
      "/github/datasets/openslr-95-german-neutral-tts/synmels_r3_149_difflen/test/mel_2861.npy\n",
      "/github/datasets/openslr-95-german-neutral-tts/synmels_r3_149_difflen/test/mel_2862.npy\n",
      "/github/datasets/openslr-95-german-neutral-tts/synmels_r3_149_difflen/test/mel_2863.npy\n",
      "/github/datasets/openslr-95-german-neutral-tts/synmels_r3_149_difflen/test/mel_2864.npy\n",
      "/github/datasets/openslr-95-german-neutral-tts/synmels_r3_149_difflen/test/mel_2865.npy\n",
      "/github/datasets/openslr-95-german-neutral-tts/synmels_r3_149_difflen/test/mel_2866.npy\n",
      "/github/datasets/openslr-95-german-neutral-tts/synmels_r3_149_difflen/test/mel_2867.npy\n",
      "/github/datasets/openslr-95-german-neutral-tts/synmels_r3_149_difflen/test/mel_2868.npy\n"
     ]
    },
    {
     "name": "stderr",
     "output_type": "stream",
     "text": [
      "[NeMo W 2022-05-12 01:53:27 tts_tokenizers:351] Text: [wir suchen jemanden, DER1 uns betonstutzen gießTIY1.] contains unknown char/phoneme: [ß]. Original text: [Wir suchen jemanden, der uns Betonstutzen gießt.]. Symbol will be skipped.\n"
     ]
    },
    {
     "name": "stdout",
     "output_type": "stream",
     "text": [
      "/github/datasets/openslr-95-german-neutral-tts/synmels_r3_149_difflen/test/mel_2869.npy\n",
      "/github/datasets/openslr-95-german-neutral-tts/synmels_r3_149_difflen/test/mel_2870.npy\n",
      "/github/datasets/openslr-95-german-neutral-tts/synmels_r3_149_difflen/test/mel_2871.npy\n",
      "/github/datasets/openslr-95-german-neutral-tts/synmels_r3_149_difflen/test/mel_2872.npy\n",
      "/github/datasets/openslr-95-german-neutral-tts/synmels_r3_149_difflen/test/mel_2873.npy\n",
      "/github/datasets/openslr-95-german-neutral-tts/synmels_r3_149_difflen/test/mel_2874.npy\n",
      "/github/datasets/openslr-95-german-neutral-tts/synmels_r3_149_difflen/test/mel_2875.npy\n",
      "/github/datasets/openslr-95-german-neutral-tts/synmels_r3_149_difflen/test/mel_2876.npy\n",
      "/github/datasets/openslr-95-german-neutral-tts/synmels_r3_149_difflen/test/mel_2877.npy\n",
      "/github/datasets/openslr-95-german-neutral-tts/synmels_r3_149_difflen/test/mel_2878.npy\n",
      "/github/datasets/openslr-95-german-neutral-tts/synmels_r3_149_difflen/test/mel_2879.npy\n",
      "/github/datasets/openslr-95-german-neutral-tts/synmels_r3_149_difflen/test/mel_2880.npy\n",
      "/github/datasets/openslr-95-german-neutral-tts/synmels_r3_149_difflen/test/mel_2881.npy\n",
      "/github/datasets/openslr-95-german-neutral-tts/synmels_r3_149_difflen/test/mel_2882.npy\n",
      "/github/datasets/openslr-95-german-neutral-tts/synmels_r3_149_difflen/test/mel_2883.npy\n",
      "/github/datasets/openslr-95-german-neutral-tts/synmels_r3_149_difflen/test/mel_2884.npy\n",
      "/github/datasets/openslr-95-german-neutral-tts/synmels_r3_149_difflen/test/mel_2885.npy\n",
      "/github/datasets/openslr-95-german-neutral-tts/synmels_r3_149_difflen/test/mel_2886.npy\n",
      "/github/datasets/openslr-95-german-neutral-tts/synmels_r3_149_difflen/test/mel_2887.npy\n"
     ]
    },
    {
     "name": "stderr",
     "output_type": "stream",
     "text": [
      "[NeMo W 2022-05-12 01:53:27 tts_tokenizers:351] Text: [IH1M augenblick ist in DOY1CHLAE0ND DAY1 berechenbarkeit was kriege IH1CH in DER1 OW1ßeruniversitaren forschung an zusagen, AO1CH FER1 geld?] contains unknown char/phoneme: [ß]. Original text: [Im Augenblick ist in Deutschland die Berechenbarkeit was kriege ich in der außeruniversitaren Forschung an Zusagen, auch fur Geld?]. Symbol will be skipped.\n"
     ]
    },
    {
     "name": "stdout",
     "output_type": "stream",
     "text": [
      "/github/datasets/openslr-95-german-neutral-tts/synmels_r3_149_difflen/test/mel_2888.npy\n",
      "/github/datasets/openslr-95-german-neutral-tts/synmels_r3_149_difflen/test/mel_2889.npy\n",
      "/github/datasets/openslr-95-german-neutral-tts/synmels_r3_149_difflen/test/mel_2890.npy\n",
      "/github/datasets/openslr-95-german-neutral-tts/synmels_r3_149_difflen/test/mel_2891.npy\n",
      "/github/datasets/openslr-95-german-neutral-tts/synmels_r3_149_difflen/test/mel_2892.npy\n",
      "/github/datasets/openslr-95-german-neutral-tts/synmels_r3_149_difflen/test/mel_2893.npy\n",
      "/github/datasets/openslr-95-german-neutral-tts/synmels_r3_149_difflen/test/mel_2894.npy\n",
      "/github/datasets/openslr-95-german-neutral-tts/synmels_r3_149_difflen/test/mel_2895.npy\n",
      "/github/datasets/openslr-95-german-neutral-tts/synmels_r3_149_difflen/test/mel_2896.npy\n",
      "/github/datasets/openslr-95-german-neutral-tts/synmels_r3_149_difflen/test/mel_2897.npy\n",
      "/github/datasets/openslr-95-german-neutral-tts/synmels_r3_149_difflen/test/mel_2898.npy\n",
      "/github/datasets/openslr-95-german-neutral-tts/synmels_r3_149_difflen/test/mel_2899.npy\n",
      "/github/datasets/openslr-95-german-neutral-tts/synmels_r3_149_difflen/test/mel_2900.npy\n",
      "/github/datasets/openslr-95-german-neutral-tts/synmels_r3_149_difflen/test/mel_2901.npy\n",
      "/github/datasets/openslr-95-german-neutral-tts/synmels_r3_149_difflen/test/mel_2902.npy\n",
      "/github/datasets/openslr-95-german-neutral-tts/synmels_r3_149_difflen/test/mel_2903.npy\n",
      "/github/datasets/openslr-95-german-neutral-tts/synmels_r3_149_difflen/test/mel_2904.npy\n",
      "/github/datasets/openslr-95-german-neutral-tts/synmels_r3_149_difflen/test/mel_2905.npy\n",
      "/github/datasets/openslr-95-german-neutral-tts/synmels_r3_149_difflen/test/mel_2906.npy\n",
      "/github/datasets/openslr-95-german-neutral-tts/synmels_r3_149_difflen/test/mel_2907.npy\n",
      "/github/datasets/openslr-95-german-neutral-tts/synmels_r3_149_difflen/test/mel_2908.npy\n",
      "/github/datasets/openslr-95-german-neutral-tts/synmels_r3_149_difflen/test/mel_2909.npy\n",
      "/github/datasets/openslr-95-german-neutral-tts/synmels_r3_149_difflen/test/mel_2910.npy\n",
      "/github/datasets/openslr-95-german-neutral-tts/synmels_r3_149_difflen/test/mel_2911.npy\n"
     ]
    },
    {
     "name": "stderr",
     "output_type": "stream",
     "text": [
      "[NeMo W 2022-05-12 01:53:28 tts_tokenizers:351] Text: [EH1S genugt nicht DAY1 RAY1K tante, SIY1 sollte AO1CH GROW1ßzugig SAY1N.] contains unknown char/phoneme: [ß]. Original text: [Es genugt nicht die reiche Tante, sie sollte auch großzugig sein.]. Symbol will be skipped.\n"
     ]
    },
    {
     "name": "stdout",
     "output_type": "stream",
     "text": [
      "/github/datasets/openslr-95-german-neutral-tts/synmels_r3_149_difflen/test/mel_2912.npy\n",
      "/github/datasets/openslr-95-german-neutral-tts/synmels_r3_149_difflen/test/mel_2913.npy\n",
      "/github/datasets/openslr-95-german-neutral-tts/synmels_r3_149_difflen/test/mel_2914.npy\n",
      "/github/datasets/openslr-95-german-neutral-tts/synmels_r3_149_difflen/test/mel_2915.npy\n",
      "/github/datasets/openslr-95-german-neutral-tts/synmels_r3_149_difflen/test/mel_2916.npy\n",
      "/github/datasets/openslr-95-german-neutral-tts/synmels_r3_149_difflen/test/mel_2917.npy\n",
      "/github/datasets/openslr-95-german-neutral-tts/synmels_r3_149_difflen/test/mel_2918.npy\n",
      "/github/datasets/openslr-95-german-neutral-tts/synmels_r3_149_difflen/test/mel_2919.npy\n",
      "/github/datasets/openslr-95-german-neutral-tts/synmels_r3_149_difflen/test/mel_2920.npy\n",
      "/github/datasets/openslr-95-german-neutral-tts/synmels_r3_149_difflen/test/mel_2921.npy\n",
      "/github/datasets/openslr-95-german-neutral-tts/synmels_r3_149_difflen/test/mel_2922.npy\n",
      "/github/datasets/openslr-95-german-neutral-tts/synmels_r3_149_difflen/test/mel_2923.npy\n",
      "/github/datasets/openslr-95-german-neutral-tts/synmels_r3_149_difflen/test/mel_2924.npy\n",
      "/github/datasets/openslr-95-german-neutral-tts/synmels_r3_149_difflen/test/mel_2925.npy\n",
      "/github/datasets/openslr-95-german-neutral-tts/synmels_r3_149_difflen/test/mel_2926.npy\n",
      "/github/datasets/openslr-95-german-neutral-tts/synmels_r3_149_difflen/test/mel_2927.npy\n",
      "/github/datasets/openslr-95-german-neutral-tts/synmels_r3_149_difflen/test/mel_2928.npy\n",
      "/github/datasets/openslr-95-german-neutral-tts/synmels_r3_149_difflen/test/mel_2929.npy\n",
      "/github/datasets/openslr-95-german-neutral-tts/synmels_r3_149_difflen/test/mel_2930.npy\n",
      "/github/datasets/openslr-95-german-neutral-tts/synmels_r3_149_difflen/test/mel_2931.npy\n",
      "/github/datasets/openslr-95-german-neutral-tts/synmels_r3_149_difflen/test/mel_2932.npy\n",
      "/github/datasets/openslr-95-german-neutral-tts/synmels_r3_149_difflen/test/mel_2933.npy\n"
     ]
    },
    {
     "name": "stderr",
     "output_type": "stream",
     "text": [
      "[NeMo W 2022-05-12 01:53:28 tts_tokenizers:351] Text: [DAY1 verwaltungsgemeinschaft ist sowohl DAY1 bevolkerungsreichste AE1LZ AO1CH flachengroßTIY1 verwaltungsgemeinschaft des landkreises WEY1ßenburg-gunzenhausen.] contains unknown char/phoneme: [ß]. Original text: [Die Verwaltungsgemeinschaft ist sowohl die bevolkerungsreichste als auch flachengroßte Verwaltungsgemeinschaft des Landkreises Weißenburg-Gunzenhausen.]. Symbol will be skipped.\n",
      "[NeMo W 2022-05-12 01:53:28 tts_tokenizers:351] Text: [DAY1 verwaltungsgemeinschaft ist sowohl DAY1 bevolkerungsreichste AE1LZ AO1CH flachengroßTIY1 verwaltungsgemeinschaft des landkreises WEY1ßenburg-gunzenhausen.] contains unknown char/phoneme: [ß]. Original text: [Die Verwaltungsgemeinschaft ist sowohl die bevolkerungsreichste als auch flachengroßte Verwaltungsgemeinschaft des Landkreises Weißenburg-Gunzenhausen.]. Symbol will be skipped.\n"
     ]
    },
    {
     "name": "stdout",
     "output_type": "stream",
     "text": [
      "/github/datasets/openslr-95-german-neutral-tts/synmels_r3_149_difflen/test/mel_2934.npy\n",
      "/github/datasets/openslr-95-german-neutral-tts/synmels_r3_149_difflen/test/mel_2935.npy\n",
      "/github/datasets/openslr-95-german-neutral-tts/synmels_r3_149_difflen/test/mel_2936.npy\n",
      "/github/datasets/openslr-95-german-neutral-tts/synmels_r3_149_difflen/test/mel_2937.npy\n",
      "/github/datasets/openslr-95-german-neutral-tts/synmels_r3_149_difflen/test/mel_2938.npy\n",
      "/github/datasets/openslr-95-german-neutral-tts/synmels_r3_149_difflen/test/mel_2939.npy\n",
      "/github/datasets/openslr-95-german-neutral-tts/synmels_r3_149_difflen/test/mel_2940.npy\n",
      "/github/datasets/openslr-95-german-neutral-tts/synmels_r3_149_difflen/test/mel_2941.npy\n",
      "/github/datasets/openslr-95-german-neutral-tts/synmels_r3_149_difflen/test/mel_2942.npy\n",
      "/github/datasets/openslr-95-german-neutral-tts/synmels_r3_149_difflen/test/mel_2943.npy\n",
      "/github/datasets/openslr-95-german-neutral-tts/synmels_r3_149_difflen/test/mel_2944.npy\n",
      "/github/datasets/openslr-95-german-neutral-tts/synmels_r3_149_difflen/test/mel_2945.npy\n",
      "/github/datasets/openslr-95-german-neutral-tts/synmels_r3_149_difflen/test/mel_2946.npy\n",
      "/github/datasets/openslr-95-german-neutral-tts/synmels_r3_149_difflen/test/mel_2947.npy\n",
      "/github/datasets/openslr-95-german-neutral-tts/synmels_r3_149_difflen/test/mel_2948.npy\n",
      "/github/datasets/openslr-95-german-neutral-tts/synmels_r3_149_difflen/test/mel_2949.npy\n",
      "/github/datasets/openslr-95-german-neutral-tts/synmels_r3_149_difflen/test/mel_2950.npy\n",
      "/github/datasets/openslr-95-german-neutral-tts/synmels_r3_149_difflen/test/mel_2951.npy\n",
      "/github/datasets/openslr-95-german-neutral-tts/synmels_r3_149_difflen/test/mel_2952.npy\n",
      "/github/datasets/openslr-95-german-neutral-tts/synmels_r3_149_difflen/test/mel_2953.npy\n",
      "/github/datasets/openslr-95-german-neutral-tts/synmels_r3_149_difflen/test/mel_2954.npy\n",
      "/github/datasets/openslr-95-german-neutral-tts/synmels_r3_149_difflen/test/mel_2955.npy\n",
      "/github/datasets/openslr-95-german-neutral-tts/synmels_r3_149_difflen/test/mel_2956.npy\n",
      "/github/datasets/openslr-95-german-neutral-tts/synmels_r3_149_difflen/test/mel_2957.npy\n",
      "/github/datasets/openslr-95-german-neutral-tts/synmels_r3_149_difflen/test/mel_2958.npy\n",
      "/github/datasets/openslr-95-german-neutral-tts/synmels_r3_149_difflen/test/mel_2959.npy\n",
      "/github/datasets/openslr-95-german-neutral-tts/synmels_r3_149_difflen/test/mel_2960.npy\n",
      "/github/datasets/openslr-95-german-neutral-tts/synmels_r3_149_difflen/test/mel_2961.npy\n",
      "/github/datasets/openslr-95-german-neutral-tts/synmels_r3_149_difflen/test/mel_2962.npy\n",
      "/github/datasets/openslr-95-german-neutral-tts/synmels_r3_149_difflen/test/mel_2963.npy\n",
      "/github/datasets/openslr-95-german-neutral-tts/synmels_r3_149_difflen/test/mel_2964.npy\n",
      "/github/datasets/openslr-95-german-neutral-tts/synmels_r3_149_difflen/test/mel_2965.npy\n"
     ]
    },
    {
     "name": "stderr",
     "output_type": "stream",
     "text": [
      "[NeMo W 2022-05-12 01:53:29 tts_tokenizers:351] Text: [MAE1N WEY1ß YAA1 nie.] contains unknown char/phoneme: [ß]. Original text: [Man weiß ja nie.]. Symbol will be skipped.\n"
     ]
    },
    {
     "name": "stdout",
     "output_type": "stream",
     "text": [
      "/github/datasets/openslr-95-german-neutral-tts/synmels_r3_149_difflen/test/mel_2966.npy\n",
      "/github/datasets/openslr-95-german-neutral-tts/synmels_r3_149_difflen/test/mel_2967.npy\n",
      "/github/datasets/openslr-95-german-neutral-tts/synmels_r3_149_difflen/test/mel_2968.npy\n",
      "/github/datasets/openslr-95-german-neutral-tts/synmels_r3_149_difflen/test/mel_2969.npy\n",
      "/github/datasets/openslr-95-german-neutral-tts/synmels_r3_149_difflen/test/mel_2970.npy\n",
      "/github/datasets/openslr-95-german-neutral-tts/synmels_r3_149_difflen/test/mel_2971.npy\n",
      "/github/datasets/openslr-95-german-neutral-tts/synmels_r3_149_difflen/test/mel_2972.npy\n",
      "/github/datasets/openslr-95-german-neutral-tts/synmels_r3_149_difflen/test/mel_2973.npy\n",
      "/github/datasets/openslr-95-german-neutral-tts/synmels_r3_149_difflen/test/mel_2974.npy\n",
      "/github/datasets/openslr-95-german-neutral-tts/synmels_r3_149_difflen/test/mel_2975.npy\n",
      "/github/datasets/openslr-95-german-neutral-tts/synmels_r3_149_difflen/test/mel_2976.npy\n",
      "/github/datasets/openslr-95-german-neutral-tts/synmels_r3_149_difflen/test/mel_2977.npy\n",
      "/github/datasets/openslr-95-german-neutral-tts/synmels_r3_149_difflen/test/mel_2978.npy\n",
      "/github/datasets/openslr-95-german-neutral-tts/synmels_r3_149_difflen/test/mel_2979.npy\n",
      "/github/datasets/openslr-95-german-neutral-tts/synmels_r3_149_difflen/test/mel_2980.npy\n",
      "/github/datasets/openslr-95-german-neutral-tts/synmels_r3_149_difflen/test/mel_2981.npy\n",
      "/github/datasets/openslr-95-german-neutral-tts/synmels_r3_149_difflen/test/mel_2982.npy\n",
      "/github/datasets/openslr-95-german-neutral-tts/synmels_r3_149_difflen/test/mel_2983.npy\n",
      "/github/datasets/openslr-95-german-neutral-tts/synmels_r3_149_difflen/test/mel_2984.npy\n",
      "/github/datasets/openslr-95-german-neutral-tts/synmels_r3_149_difflen/test/mel_2985.npy\n",
      "/github/datasets/openslr-95-german-neutral-tts/synmels_r3_149_difflen/test/mel_2986.npy\n",
      "/github/datasets/openslr-95-german-neutral-tts/synmels_r3_149_difflen/test/mel_2987.npy\n",
      "/github/datasets/openslr-95-german-neutral-tts/synmels_r3_149_difflen/test/mel_2988.npy\n",
      "/github/datasets/openslr-95-german-neutral-tts/synmels_r3_149_difflen/test/mel_2989.npy\n",
      "/github/datasets/openslr-95-german-neutral-tts/synmels_r3_149_difflen/test/mel_2990.npy\n"
     ]
    },
    {
     "name": "stderr",
     "output_type": "stream",
     "text": [
      "[NeMo W 2022-05-12 01:53:30 tts_tokenizers:351] Text: [diese korpermaßIY1 sehen SHAA1N nicht MEH1R gesund AW1Z.] contains unknown char/phoneme: [ß]. Original text: [Diese Korpermaße sehen schon nicht mehr gesund aus.]. Symbol will be skipped.\n",
      "[NeMo W 2022-05-12 01:53:30 tts_tokenizers:351] Text: [das habe IH1CH zu FUW1ß einmal quer DER1CH DAY1 luneburger HHAY1D gezogen.] contains unknown char/phoneme: [ß]. Original text: [Das habe ich zu Fuß einmal quer durch die Luneburger Heide gezogen.]. Symbol will be skipped.\n"
     ]
    },
    {
     "name": "stdout",
     "output_type": "stream",
     "text": [
      "/github/datasets/openslr-95-german-neutral-tts/synmels_r3_149_difflen/test/mel_2991.npy\n",
      "/github/datasets/openslr-95-german-neutral-tts/synmels_r3_149_difflen/test/mel_2992.npy\n",
      "/github/datasets/openslr-95-german-neutral-tts/synmels_r3_149_difflen/test/mel_2993.npy\n",
      "/github/datasets/openslr-95-german-neutral-tts/synmels_r3_149_difflen/test/mel_2994.npy\n",
      "/github/datasets/openslr-95-german-neutral-tts/synmels_r3_149_difflen/test/mel_2995.npy\n",
      "/github/datasets/openslr-95-german-neutral-tts/synmels_r3_149_difflen/test/mel_2996.npy\n",
      "/github/datasets/openslr-95-german-neutral-tts/synmels_r3_149_difflen/test/mel_2997.npy\n",
      "/github/datasets/openslr-95-german-neutral-tts/synmels_r3_149_difflen/test/mel_2998.npy\n",
      "/github/datasets/openslr-95-german-neutral-tts/synmels_r3_149_difflen/test/mel_2999.npy\n",
      "/github/datasets/openslr-95-german-neutral-tts/synmels_r3_149_difflen/test/mel_3000.npy\n",
      "/github/datasets/openslr-95-german-neutral-tts/synmels_r3_149_difflen/test/mel_3001.npy\n",
      "/github/datasets/openslr-95-german-neutral-tts/synmels_r3_149_difflen/test/mel_3002.npy\n",
      "/github/datasets/openslr-95-german-neutral-tts/synmels_r3_149_difflen/test/mel_3003.npy\n",
      "/github/datasets/openslr-95-german-neutral-tts/synmels_r3_149_difflen/test/mel_3004.npy\n",
      "/github/datasets/openslr-95-german-neutral-tts/synmels_r3_149_difflen/test/mel_3005.npy\n",
      "/github/datasets/openslr-95-german-neutral-tts/synmels_r3_149_difflen/test/mel_3006.npy\n",
      "/github/datasets/openslr-95-german-neutral-tts/synmels_r3_149_difflen/test/mel_3007.npy\n",
      "/github/datasets/openslr-95-german-neutral-tts/synmels_r3_149_difflen/test/mel_3008.npy\n",
      "/github/datasets/openslr-95-german-neutral-tts/synmels_r3_149_difflen/test/mel_3009.npy\n",
      "/github/datasets/openslr-95-german-neutral-tts/synmels_r3_149_difflen/test/mel_3010.npy\n",
      "/github/datasets/openslr-95-german-neutral-tts/synmels_r3_149_difflen/test/mel_3011.npy\n",
      "/github/datasets/openslr-95-german-neutral-tts/synmels_r3_149_difflen/test/mel_3012.npy\n"
     ]
    },
    {
     "name": "stderr",
     "output_type": "stream",
     "text": [
      "[NeMo W 2022-05-12 01:53:30 tts_tokenizers:351] Text: [da SAA1ß AO1LSOW0 dieser JHAH1NG mutterseelenallein auf einem STAY1N.] contains unknown char/phoneme: [ß]. Original text: [Da saß also dieser Junge mutterseelenallein auf einem Stein.]. Symbol will be skipped.\n"
     ]
    },
    {
     "name": "stdout",
     "output_type": "stream",
     "text": [
      "/github/datasets/openslr-95-german-neutral-tts/synmels_r3_149_difflen/test/mel_3013.npy\n",
      "/github/datasets/openslr-95-german-neutral-tts/synmels_r3_149_difflen/test/mel_3014.npy\n",
      "/github/datasets/openslr-95-german-neutral-tts/synmels_r3_149_difflen/test/mel_3015.npy\n",
      "/github/datasets/openslr-95-german-neutral-tts/synmels_r3_149_difflen/test/mel_3016.npy\n",
      "/github/datasets/openslr-95-german-neutral-tts/synmels_r3_149_difflen/test/mel_3017.npy\n",
      "/github/datasets/openslr-95-german-neutral-tts/synmels_r3_149_difflen/test/mel_3018.npy\n",
      "/github/datasets/openslr-95-german-neutral-tts/synmels_r3_149_difflen/test/mel_3019.npy\n",
      "/github/datasets/openslr-95-german-neutral-tts/synmels_r3_149_difflen/test/mel_3020.npy\n",
      "/github/datasets/openslr-95-german-neutral-tts/synmels_r3_149_difflen/test/mel_3021.npy\n",
      "/github/datasets/openslr-95-german-neutral-tts/synmels_r3_149_difflen/test/mel_3022.npy\n"
     ]
    },
    {
     "name": "stderr",
     "output_type": "stream",
     "text": [
      "[NeMo W 2022-05-12 01:53:30 tts_tokenizers:351] Text: [MAE1N KAE1N einem VOW1LK VAO1N OW1ßEH1N keine demokratie aufzwingen.] contains unknown char/phoneme: [ß]. Original text: [Man kann einem Volk von außen keine Demokratie aufzwingen.]. Symbol will be skipped.\n"
     ]
    },
    {
     "name": "stdout",
     "output_type": "stream",
     "text": [
      "/github/datasets/openslr-95-german-neutral-tts/synmels_r3_149_difflen/test/mel_3023.npy\n",
      "/github/datasets/openslr-95-german-neutral-tts/synmels_r3_149_difflen/test/mel_3024.npy\n",
      "/github/datasets/openslr-95-german-neutral-tts/synmels_r3_149_difflen/test/mel_3025.npy\n",
      "/github/datasets/openslr-95-german-neutral-tts/synmels_r3_149_difflen/test/mel_3026.npy\n",
      "/github/datasets/openslr-95-german-neutral-tts/synmels_r3_149_difflen/test/mel_3027.npy\n",
      "/github/datasets/openslr-95-german-neutral-tts/synmels_r3_149_difflen/test/mel_3028.npy\n",
      "/github/datasets/openslr-95-german-neutral-tts/synmels_r3_149_difflen/test/mel_3029.npy\n",
      "/github/datasets/openslr-95-german-neutral-tts/synmels_r3_149_difflen/test/mel_3030.npy\n",
      "/github/datasets/openslr-95-german-neutral-tts/synmels_r3_149_difflen/test/mel_3031.npy\n",
      "/github/datasets/openslr-95-german-neutral-tts/synmels_r3_149_difflen/test/mel_3032.npy\n"
     ]
    },
    {
     "name": "stderr",
     "output_type": "stream",
     "text": [
      "[NeMo W 2022-05-12 01:53:31 tts_tokenizers:351] Text: [das heißTIY1, AO1CH HHAY1ER0 nehmen wir DAY1 interessen SEH1R WOW1L auf, HHAO1RAH0N hin AH1ND LAE1SAH0N uns AO1CH daruber informieren, was EY1LZ an missbrauch betrieben wird.] contains unknown char/phoneme: [ß]. Original text: [Das heißt, auch hier nehmen wir die Interessen sehr wohl auf, horen hin und lassen uns auch daruber informieren, was alles an Missbrauch betrieben wird.]. Symbol will be skipped.\n"
     ]
    },
    {
     "name": "stdout",
     "output_type": "stream",
     "text": [
      "/github/datasets/openslr-95-german-neutral-tts/synmels_r3_149_difflen/test/mel_3033.npy\n",
      "/github/datasets/openslr-95-german-neutral-tts/synmels_r3_149_difflen/test/mel_3034.npy\n",
      "/github/datasets/openslr-95-german-neutral-tts/synmels_r3_149_difflen/test/mel_3035.npy\n",
      "/github/datasets/openslr-95-german-neutral-tts/synmels_r3_149_difflen/test/mel_3036.npy\n",
      "/github/datasets/openslr-95-german-neutral-tts/synmels_r3_149_difflen/test/mel_3037.npy\n",
      "/github/datasets/openslr-95-german-neutral-tts/synmels_r3_149_difflen/test/mel_3038.npy\n",
      "/github/datasets/openslr-95-german-neutral-tts/synmels_r3_149_difflen/test/mel_3039.npy\n",
      "/github/datasets/openslr-95-german-neutral-tts/synmels_r3_149_difflen/test/mel_3040.npy\n",
      "/github/datasets/openslr-95-german-neutral-tts/synmels_r3_149_difflen/test/mel_3041.npy\n"
     ]
    },
    {
     "name": "stderr",
     "output_type": "stream",
     "text": [
      "[NeMo W 2022-05-12 01:53:31 tts_tokenizers:351] Text: [das heißTIY1 AO1LSOW0, wir WER1DAH0N mit frankreich daruber sprechen, wie wir AY1N hohes MAA1ß an datenschutz aufrechterhalten konnen.] contains unknown char/phoneme: [ß]. Original text: [Das heißt also, wir werden mit Frankreich daruber sprechen, wie wir ein hohes Maß an Datenschutz aufrechterhalten konnen.]. Symbol will be skipped.\n",
      "[NeMo W 2022-05-12 01:53:31 tts_tokenizers:351] Text: [das heißTIY1 AO1LSOW0, wir WER1DAH0N mit frankreich daruber sprechen, wie wir AY1N hohes MAA1ß an datenschutz aufrechterhalten konnen.] contains unknown char/phoneme: [ß]. Original text: [Das heißt also, wir werden mit Frankreich daruber sprechen, wie wir ein hohes Maß an Datenschutz aufrechterhalten konnen.]. Symbol will be skipped.\n",
      "[NeMo W 2022-05-12 01:53:31 tts_tokenizers:351] Text: [SOW1 heißTIY1 kalium beispielsweise IH1M englischen AH1ND franzosischen \"PAH0TAE1SIY0AH0M\" AH1ND IH1M italienischen \"potassio\".] contains unknown char/phoneme: [ß]. Original text: [So heißt Kalium beispielsweise im Englischen und Franzosischen \"potassium\" und im Italienischen \"potassio\".]. Symbol will be skipped.\n",
      "[NeMo W 2022-05-12 01:53:31 tts_tokenizers:351] Text: [spatestens AE1B diesem punkt LAY1ß sich DAY1 niederlage nicht MEH1R abwenden.] contains unknown char/phoneme: [ß]. Original text: [Spatestens ab diesem Punkt ließ sich die Niederlage nicht mehr abwenden.]. Symbol will be skipped.\n"
     ]
    },
    {
     "name": "stdout",
     "output_type": "stream",
     "text": [
      "/github/datasets/openslr-95-german-neutral-tts/synmels_r3_149_difflen/test/mel_3042.npy\n",
      "/github/datasets/openslr-95-german-neutral-tts/synmels_r3_149_difflen/test/mel_3043.npy\n",
      "/github/datasets/openslr-95-german-neutral-tts/synmels_r3_149_difflen/test/mel_3044.npy\n",
      "/github/datasets/openslr-95-german-neutral-tts/synmels_r3_149_difflen/test/mel_3045.npy\n",
      "/github/datasets/openslr-95-german-neutral-tts/synmels_r3_149_difflen/test/mel_3046.npy\n",
      "/github/datasets/openslr-95-german-neutral-tts/synmels_r3_149_difflen/test/mel_3047.npy\n",
      "/github/datasets/openslr-95-german-neutral-tts/synmels_r3_149_difflen/test/mel_3048.npy\n",
      "/github/datasets/openslr-95-german-neutral-tts/synmels_r3_149_difflen/test/mel_3049.npy\n",
      "/github/datasets/openslr-95-german-neutral-tts/synmels_r3_149_difflen/test/mel_3050.npy\n",
      "/github/datasets/openslr-95-german-neutral-tts/synmels_r3_149_difflen/test/mel_3051.npy\n",
      "/github/datasets/openslr-95-german-neutral-tts/synmels_r3_149_difflen/test/mel_3052.npy\n",
      "/github/datasets/openslr-95-german-neutral-tts/synmels_r3_149_difflen/test/mel_3053.npy\n",
      "/github/datasets/openslr-95-german-neutral-tts/synmels_r3_149_difflen/test/mel_3054.npy\n",
      "/github/datasets/openslr-95-german-neutral-tts/synmels_r3_149_difflen/test/mel_3055.npy\n",
      "/github/datasets/openslr-95-german-neutral-tts/synmels_r3_149_difflen/test/mel_3056.npy\n",
      "/github/datasets/openslr-95-german-neutral-tts/synmels_r3_149_difflen/test/mel_3057.npy\n",
      "/github/datasets/openslr-95-german-neutral-tts/synmels_r3_149_difflen/test/mel_3058.npy\n",
      "/github/datasets/openslr-95-german-neutral-tts/synmels_r3_149_difflen/test/mel_3059.npy\n",
      "/github/datasets/openslr-95-german-neutral-tts/synmels_r3_149_difflen/test/mel_3060.npy\n",
      "/github/datasets/openslr-95-german-neutral-tts/synmels_r3_149_difflen/test/mel_3061.npy\n"
     ]
    },
    {
     "name": "stderr",
     "output_type": "stream",
     "text": [
      "[NeMo W 2022-05-12 01:53:31 tts_tokenizers:351] Text: [zu MAY1NER0 verteidigung muss IH1CH SAE1GAH0N, DAE1S DER1 ofen SEH1R ungleichmaßig heizt.] contains unknown char/phoneme: [ß]. Original text: [Zu meiner Verteidigung muss ich sagen, dass der Ofen sehr ungleichmaßig heizt.]. Symbol will be skipped.\n",
      "[NeMo W 2022-05-12 01:53:31 tts_tokenizers:351] Text: [IH1CH furchte, das WEY1ß IH1CH nicht] contains unknown char/phoneme: [ß]. Original text: [Ich furchte, das weiß ich nicht]. Symbol will be skipped.\n",
      "[NeMo W 2022-05-12 01:53:31 tts_tokenizers:351] Text: [FER1 JHUW1LYAH0S VOW1ß gibt EH1S NUH1R eine richtung.] contains unknown char/phoneme: [ß]. Original text: [Fur Julius Voß gibt es nur eine Richtung.]. Symbol will be skipped.\n",
      "[NeMo W 2022-05-12 01:53:31 tts_tokenizers:351] Text: [gibt EH1S einen finalen satzerausschmeißER0 HHAY1ER0?] contains unknown char/phoneme: [ß]. Original text: [Gibt es einen finalen Satzerausschmeißer hier?]. Symbol will be skipped.\n"
     ]
    },
    {
     "name": "stdout",
     "output_type": "stream",
     "text": [
      "/github/datasets/openslr-95-german-neutral-tts/synmels_r3_149_difflen/test/mel_3062.npy\n",
      "/github/datasets/openslr-95-german-neutral-tts/synmels_r3_149_difflen/test/mel_3063.npy\n",
      "/github/datasets/openslr-95-german-neutral-tts/synmels_r3_149_difflen/test/mel_3064.npy\n",
      "/github/datasets/openslr-95-german-neutral-tts/synmels_r3_149_difflen/test/mel_3065.npy\n",
      "/github/datasets/openslr-95-german-neutral-tts/synmels_r3_149_difflen/test/mel_3066.npy\n",
      "/github/datasets/openslr-95-german-neutral-tts/synmels_r3_149_difflen/test/mel_3067.npy\n",
      "/github/datasets/openslr-95-german-neutral-tts/synmels_r3_149_difflen/test/mel_3068.npy\n",
      "/github/datasets/openslr-95-german-neutral-tts/synmels_r3_149_difflen/test/mel_3069.npy\n",
      "/github/datasets/openslr-95-german-neutral-tts/synmels_r3_149_difflen/test/mel_3070.npy\n",
      "/github/datasets/openslr-95-german-neutral-tts/synmels_r3_149_difflen/test/mel_3071.npy\n",
      "/github/datasets/openslr-95-german-neutral-tts/synmels_r3_149_difflen/test/mel_3072.npy\n"
     ]
    },
    {
     "name": "stderr",
     "output_type": "stream",
     "text": [
      "[NeMo W 2022-05-12 01:53:31 tts_tokenizers:351] Text: [MAH0NTAE1G wird EH1S dreiunddreißig GRAE1D WAO1RM WER1DAH0N] contains unknown char/phoneme: [ß]. Original text: [Montag wird es dreiunddreißig Grad warm werden]. Symbol will be skipped.\n",
      "[NeMo W 2022-05-12 01:53:31 tts_tokenizers:351] Text: [IH1M grunde huldigen SIY1 bloß einer GROW1ßEH1N geschichtenerzahlerin.] contains unknown char/phoneme: [ß]. Original text: [Im Grunde huldigen sie bloß einer großen Geschichtenerzahlerin.]. Symbol will be skipped.\n",
      "[NeMo W 2022-05-12 01:53:31 tts_tokenizers:351] Text: [IH1M grunde huldigen SIY1 bloß einer GROW1ßEH1N geschichtenerzahlerin.] contains unknown char/phoneme: [ß]. Original text: [Im Grunde huldigen sie bloß einer großen Geschichtenerzahlerin.]. Symbol will be skipped.\n"
     ]
    },
    {
     "name": "stdout",
     "output_type": "stream",
     "text": [
      "/github/datasets/openslr-95-german-neutral-tts/synmels_r3_149_difflen/test/mel_3073.npy\n",
      "/github/datasets/openslr-95-german-neutral-tts/synmels_r3_149_difflen/test/mel_3074.npy\n",
      "/github/datasets/openslr-95-german-neutral-tts/synmels_r3_149_difflen/test/mel_3075.npy\n",
      "/github/datasets/openslr-95-german-neutral-tts/synmels_r3_149_difflen/test/mel_3076.npy\n",
      "/github/datasets/openslr-95-german-neutral-tts/synmels_r3_149_difflen/test/mel_3077.npy\n",
      "/github/datasets/openslr-95-german-neutral-tts/synmels_r3_149_difflen/test/mel_3078.npy\n",
      "/github/datasets/openslr-95-german-neutral-tts/synmels_r3_149_difflen/test/mel_3079.npy\n",
      "/github/datasets/openslr-95-german-neutral-tts/synmels_r3_149_difflen/test/mel_3080.npy\n",
      "/github/datasets/openslr-95-german-neutral-tts/synmels_r3_149_difflen/test/mel_3081.npy\n",
      "/github/datasets/openslr-95-german-neutral-tts/synmels_r3_149_difflen/test/mel_3082.npy\n",
      "/github/datasets/openslr-95-german-neutral-tts/synmels_r3_149_difflen/test/mel_3083.npy\n",
      "/github/datasets/openslr-95-german-neutral-tts/synmels_r3_149_difflen/test/mel_3084.npy\n",
      "/github/datasets/openslr-95-german-neutral-tts/synmels_r3_149_difflen/test/mel_3085.npy\n",
      "/github/datasets/openslr-95-german-neutral-tts/synmels_r3_149_difflen/test/mel_3086.npy\n",
      "/github/datasets/openslr-95-german-neutral-tts/synmels_r3_149_difflen/test/mel_3087.npy\n",
      "/github/datasets/openslr-95-german-neutral-tts/synmels_r3_149_difflen/test/mel_3088.npy\n",
      "/github/datasets/openslr-95-german-neutral-tts/synmels_r3_149_difflen/test/mel_3089.npy\n",
      "/github/datasets/openslr-95-german-neutral-tts/synmels_r3_149_difflen/test/mel_3090.npy\n",
      "/github/datasets/openslr-95-german-neutral-tts/synmels_r3_149_difflen/test/mel_3091.npy\n",
      "/github/datasets/openslr-95-german-neutral-tts/synmels_r3_149_difflen/test/mel_3092.npy\n",
      "/github/datasets/openslr-95-german-neutral-tts/synmels_r3_149_difflen/test/mel_3093.npy\n",
      "/github/datasets/openslr-95-german-neutral-tts/synmels_r3_149_difflen/test/mel_3094.npy\n",
      "/github/datasets/openslr-95-german-neutral-tts/synmels_r3_149_difflen/test/mel_3095.npy\n",
      "/github/datasets/openslr-95-german-neutral-tts/synmels_r3_149_difflen/test/mel_3096.npy\n",
      "/github/datasets/openslr-95-german-neutral-tts/synmels_r3_149_difflen/test/mel_3097.npy\n",
      "/github/datasets/openslr-95-german-neutral-tts/synmels_r3_149_difflen/test/mel_3098.npy\n",
      "/github/datasets/openslr-95-german-neutral-tts/synmels_r3_149_difflen/test/mel_3099.npy\n",
      "/github/datasets/openslr-95-german-neutral-tts/synmels_r3_149_difflen/test/mel_3100.npy\n",
      "/github/datasets/openslr-95-german-neutral-tts/synmels_r3_149_difflen/test/mel_3101.npy\n",
      "/github/datasets/openslr-95-german-neutral-tts/synmels_r3_149_difflen/test/mel_3102.npy\n",
      "/github/datasets/openslr-95-german-neutral-tts/synmels_r3_149_difflen/test/mel_3103.npy\n",
      "/github/datasets/openslr-95-german-neutral-tts/synmels_r3_149_difflen/test/mel_3104.npy\n"
     ]
    },
    {
     "name": "stderr",
     "output_type": "stream",
     "text": [
      "[NeMo W 2022-05-12 01:53:32 tts_tokenizers:351] Text: [SHEY1D, DAE1S das GROW1ßTIY1 vermittlungsportal kommerzialisiert wurde.] contains unknown char/phoneme: [ß]. Original text: [Schade, dass das großte Vermittlungsportal kommerzialisiert wurde.]. Symbol will be skipped.\n",
      "[NeMo W 2022-05-12 01:53:32 tts_tokenizers:351] Text: [panzertape heißTIY1 panzertape, weil DAY1 BAH1NDAH0SWEH2R damit ihre kaputten PAE1NZER0 repariert.] contains unknown char/phoneme: [ß]. Original text: [Panzertape heißt Panzertape, weil die Bundeswehr damit ihre kaputten Panzer repariert.]. Symbol will be skipped.\n"
     ]
    },
    {
     "name": "stdout",
     "output_type": "stream",
     "text": [
      "/github/datasets/openslr-95-german-neutral-tts/synmels_r3_149_difflen/test/mel_3105.npy\n",
      "/github/datasets/openslr-95-german-neutral-tts/synmels_r3_149_difflen/test/mel_3106.npy\n",
      "/github/datasets/openslr-95-german-neutral-tts/synmels_r3_149_difflen/test/mel_3107.npy\n",
      "/github/datasets/openslr-95-german-neutral-tts/synmels_r3_149_difflen/test/mel_3108.npy\n",
      "/github/datasets/openslr-95-german-neutral-tts/synmels_r3_149_difflen/test/mel_3109.npy\n",
      "/github/datasets/openslr-95-german-neutral-tts/synmels_r3_149_difflen/test/mel_3110.npy\n",
      "/github/datasets/openslr-95-german-neutral-tts/synmels_r3_149_difflen/test/mel_3111.npy\n",
      "/github/datasets/openslr-95-german-neutral-tts/synmels_r3_149_difflen/test/mel_3112.npy\n",
      "/github/datasets/openslr-95-german-neutral-tts/synmels_r3_149_difflen/test/mel_3113.npy\n"
     ]
    },
    {
     "name": "stderr",
     "output_type": "stream",
     "text": [
      "[NeMo W 2022-05-12 01:53:32 tts_tokenizers:351] Text: [am HHIH1MAH0L KAE1N MAE1N DAY1 GROW1ßTEH1N teile des satelliten vergluhen sehen.] contains unknown char/phoneme: [ß]. Original text: [Am Himmel kann man die großten Teile des Satelliten vergluhen sehen.]. Symbol will be skipped.\n"
     ]
    },
    {
     "name": "stdout",
     "output_type": "stream",
     "text": [
      "/github/datasets/openslr-95-german-neutral-tts/synmels_r3_149_difflen/test/mel_3114.npy\n",
      "/github/datasets/openslr-95-german-neutral-tts/synmels_r3_149_difflen/test/mel_3115.npy\n",
      "/github/datasets/openslr-95-german-neutral-tts/synmels_r3_149_difflen/test/mel_3116.npy\n",
      "/github/datasets/openslr-95-german-neutral-tts/synmels_r3_149_difflen/test/mel_3117.npy\n",
      "/github/datasets/openslr-95-german-neutral-tts/synmels_r3_149_difflen/test/mel_3118.npy\n",
      "/github/datasets/openslr-95-german-neutral-tts/synmels_r3_149_difflen/test/mel_3119.npy\n",
      "/github/datasets/openslr-95-german-neutral-tts/synmels_r3_149_difflen/test/mel_3120.npy\n",
      "/github/datasets/openslr-95-german-neutral-tts/synmels_r3_149_difflen/test/mel_3121.npy\n",
      "/github/datasets/openslr-95-german-neutral-tts/synmels_r3_149_difflen/test/mel_3122.npy\n",
      "/github/datasets/openslr-95-german-neutral-tts/synmels_r3_149_difflen/test/mel_3123.npy\n"
     ]
    },
    {
     "name": "stderr",
     "output_type": "stream",
     "text": [
      "[NeMo W 2022-05-12 01:53:33 tts_tokenizers:351] Text: [echte kerle hacken mit nacktem oberkorper HHOW1LZ AH1ND stoßEH1N dabei laute schreie AW1Z.] contains unknown char/phoneme: [ß]. Original text: [Echte Kerle hacken mit nacktem Oberkorper Holz und stoßen dabei laute Schreie aus.]. Symbol will be skipped.\n"
     ]
    },
    {
     "name": "stdout",
     "output_type": "stream",
     "text": [
      "/github/datasets/openslr-95-german-neutral-tts/synmels_r3_149_difflen/test/mel_3124.npy\n",
      "/github/datasets/openslr-95-german-neutral-tts/synmels_r3_149_difflen/test/mel_3125.npy\n",
      "/github/datasets/openslr-95-german-neutral-tts/synmels_r3_149_difflen/test/mel_3126.npy\n",
      "/github/datasets/openslr-95-german-neutral-tts/synmels_r3_149_difflen/test/mel_3127.npy\n",
      "/github/datasets/openslr-95-german-neutral-tts/synmels_r3_149_difflen/test/mel_3128.npy\n",
      "/github/datasets/openslr-95-german-neutral-tts/synmels_r3_149_difflen/test/mel_3129.npy\n",
      "/github/datasets/openslr-95-german-neutral-tts/synmels_r3_149_difflen/test/mel_3130.npy\n",
      "/github/datasets/openslr-95-german-neutral-tts/synmels_r3_149_difflen/test/mel_3131.npy\n",
      "/github/datasets/openslr-95-german-neutral-tts/synmels_r3_149_difflen/test/mel_3132.npy\n",
      "/github/datasets/openslr-95-german-neutral-tts/synmels_r3_149_difflen/test/mel_3133.npy\n",
      "/github/datasets/openslr-95-german-neutral-tts/synmels_r3_149_difflen/test/mel_3134.npy\n"
     ]
    },
    {
     "name": "stderr",
     "output_type": "stream",
     "text": [
      "[NeMo W 2022-05-12 01:53:33 tts_tokenizers:351] Text: [WEY1ßEH1S rauschen lasst sich zur umgebungslarmkompensation einsetzen.] contains unknown char/phoneme: [ß]. Original text: [Weißes Rauschen lasst sich zur Umgebungslarmkompensation einsetzen.]. Symbol will be skipped.\n"
     ]
    },
    {
     "name": "stdout",
     "output_type": "stream",
     "text": [
      "/github/datasets/openslr-95-german-neutral-tts/synmels_r3_149_difflen/test/mel_3135.npy\n",
      "/github/datasets/openslr-95-german-neutral-tts/synmels_r3_149_difflen/test/mel_3136.npy\n",
      "/github/datasets/openslr-95-german-neutral-tts/synmels_r3_149_difflen/test/mel_3137.npy\n",
      "/github/datasets/openslr-95-german-neutral-tts/synmels_r3_149_difflen/test/mel_3138.npy\n",
      "/github/datasets/openslr-95-german-neutral-tts/synmels_r3_149_difflen/test/mel_3139.npy\n",
      "/github/datasets/openslr-95-german-neutral-tts/synmels_r3_149_difflen/test/mel_3140.npy\n"
     ]
    },
    {
     "name": "stderr",
     "output_type": "stream",
     "text": [
      "[NeMo W 2022-05-12 01:53:33 tts_tokenizers:351] Text: [DAY1 GROW1ßIY1 koalition HHAE1T am MAH0NTAE1G beschlossen, DAY1 pflegeversicherung zu reformieren AH1ND DAY1 leistungen DER1 pflegeversicherung anzuheben.] contains unknown char/phoneme: [ß]. Original text: [Die große Koalition hat am Montag beschlossen, die Pflegeversicherung zu reformieren und die Leistungen der Pflegeversicherung anzuheben.]. Symbol will be skipped.\n"
     ]
    },
    {
     "name": "stdout",
     "output_type": "stream",
     "text": [
      "/github/datasets/openslr-95-german-neutral-tts/synmels_r3_149_difflen/test/mel_3141.npy\n",
      "/github/datasets/openslr-95-german-neutral-tts/synmels_r3_149_difflen/test/mel_3142.npy\n",
      "/github/datasets/openslr-95-german-neutral-tts/synmels_r3_149_difflen/test/mel_3143.npy\n",
      "/github/datasets/openslr-95-german-neutral-tts/synmels_r3_149_difflen/test/mel_3144.npy\n",
      "/github/datasets/openslr-95-german-neutral-tts/synmels_r3_149_difflen/test/mel_3145.npy\n",
      "/github/datasets/openslr-95-german-neutral-tts/synmels_r3_149_difflen/test/mel_3146.npy\n",
      "/github/datasets/openslr-95-german-neutral-tts/synmels_r3_149_difflen/test/mel_3147.npy\n",
      "/github/datasets/openslr-95-german-neutral-tts/synmels_r3_149_difflen/test/mel_3148.npy\n",
      "/github/datasets/openslr-95-german-neutral-tts/synmels_r3_149_difflen/test/mel_3149.npy\n",
      "/github/datasets/openslr-95-german-neutral-tts/synmels_r3_149_difflen/test/mel_3150.npy\n",
      "/github/datasets/openslr-95-german-neutral-tts/synmels_r3_149_difflen/test/mel_3151.npy\n",
      "/github/datasets/openslr-95-german-neutral-tts/synmels_r3_149_difflen/test/mel_3152.npy\n",
      "/github/datasets/openslr-95-german-neutral-tts/synmels_r3_149_difflen/test/mel_3153.npy\n",
      "/github/datasets/openslr-95-german-neutral-tts/synmels_r3_149_difflen/test/mel_3154.npy\n",
      "/github/datasets/openslr-95-german-neutral-tts/synmels_r3_149_difflen/test/mel_3155.npy\n",
      "/github/datasets/openslr-95-german-neutral-tts/synmels_r3_149_difflen/test/mel_3156.npy\n",
      "/github/datasets/openslr-95-german-neutral-tts/synmels_r3_149_difflen/test/mel_3157.npy\n",
      "/github/datasets/openslr-95-german-neutral-tts/synmels_r3_149_difflen/test/mel_3158.npy\n",
      "/github/datasets/openslr-95-german-neutral-tts/synmels_r3_149_difflen/test/mel_3159.npy\n",
      "/github/datasets/openslr-95-german-neutral-tts/synmels_r3_149_difflen/test/mel_3160.npy\n",
      "/github/datasets/openslr-95-german-neutral-tts/synmels_r3_149_difflen/test/mel_3161.npy\n",
      "/github/datasets/openslr-95-german-neutral-tts/synmels_r3_149_difflen/test/mel_3162.npy\n",
      "/github/datasets/openslr-95-german-neutral-tts/synmels_r3_149_difflen/test/mel_3163.npy\n",
      "/github/datasets/openslr-95-german-neutral-tts/synmels_r3_149_difflen/test/mel_3164.npy\n"
     ]
    },
    {
     "name": "stderr",
     "output_type": "stream",
     "text": [
      "[NeMo W 2022-05-12 01:53:34 tts_tokenizers:351] Text: [nach DER1 kastration heißTIY1 AY1N mannliches RAY1ND ochse.] contains unknown char/phoneme: [ß]. Original text: [Nach der Kastration heißt ein mannliches Rind Ochse.]. Symbol will be skipped.\n"
     ]
    },
    {
     "name": "stdout",
     "output_type": "stream",
     "text": [
      "/github/datasets/openslr-95-german-neutral-tts/synmels_r3_149_difflen/test/mel_3165.npy\n",
      "/github/datasets/openslr-95-german-neutral-tts/synmels_r3_149_difflen/test/mel_3166.npy\n",
      "/github/datasets/openslr-95-german-neutral-tts/synmels_r3_149_difflen/test/mel_3167.npy\n",
      "/github/datasets/openslr-95-german-neutral-tts/synmels_r3_149_difflen/test/mel_3168.npy\n",
      "/github/datasets/openslr-95-german-neutral-tts/synmels_r3_149_difflen/test/mel_3169.npy\n",
      "/github/datasets/openslr-95-german-neutral-tts/synmels_r3_149_difflen/test/mel_3170.npy\n",
      "/github/datasets/openslr-95-german-neutral-tts/synmels_r3_149_difflen/test/mel_3171.npy\n",
      "/github/datasets/openslr-95-german-neutral-tts/synmels_r3_149_difflen/test/mel_3172.npy\n",
      "/github/datasets/openslr-95-german-neutral-tts/synmels_r3_149_difflen/test/mel_3173.npy\n",
      "/github/datasets/openslr-95-german-neutral-tts/synmels_r3_149_difflen/test/mel_3174.npy\n",
      "/github/datasets/openslr-95-german-neutral-tts/synmels_r3_149_difflen/test/mel_3175.npy\n"
     ]
    },
    {
     "name": "stderr",
     "output_type": "stream",
     "text": [
      "[NeMo W 2022-05-12 01:53:34 tts_tokenizers:351] Text: [nach dieser schlacht wird das blutvergießEH1N AY1N EH1ND haben!] contains unknown char/phoneme: [ß]. Original text: [Nach dieser Schlacht wird das Blutvergießen ein Ende haben!]. Symbol will be skipped.\n"
     ]
    },
    {
     "name": "stdout",
     "output_type": "stream",
     "text": [
      "/github/datasets/openslr-95-german-neutral-tts/synmels_r3_149_difflen/test/mel_3176.npy\n",
      "/github/datasets/openslr-95-german-neutral-tts/synmels_r3_149_difflen/test/mel_3177.npy\n",
      "/github/datasets/openslr-95-german-neutral-tts/synmels_r3_149_difflen/test/mel_3178.npy\n",
      "/github/datasets/openslr-95-german-neutral-tts/synmels_r3_149_difflen/test/mel_3179.npy\n",
      "/github/datasets/openslr-95-german-neutral-tts/synmels_r3_149_difflen/test/mel_3180.npy\n",
      "/github/datasets/openslr-95-german-neutral-tts/synmels_r3_149_difflen/test/mel_3181.npy\n",
      "/github/datasets/openslr-95-german-neutral-tts/synmels_r3_149_difflen/test/mel_3182.npy\n",
      "/github/datasets/openslr-95-german-neutral-tts/synmels_r3_149_difflen/test/mel_3183.npy\n",
      "/github/datasets/openslr-95-german-neutral-tts/synmels_r3_149_difflen/test/mel_3184.npy\n",
      "/github/datasets/openslr-95-german-neutral-tts/synmels_r3_149_difflen/test/mel_3185.npy\n",
      "/github/datasets/openslr-95-german-neutral-tts/synmels_r3_149_difflen/test/mel_3186.npy\n",
      "/github/datasets/openslr-95-german-neutral-tts/synmels_r3_149_difflen/test/mel_3187.npy\n",
      "/github/datasets/openslr-95-german-neutral-tts/synmels_r3_149_difflen/test/mel_3188.npy\n",
      "/github/datasets/openslr-95-german-neutral-tts/synmels_r3_149_difflen/test/mel_3189.npy\n",
      "/github/datasets/openslr-95-german-neutral-tts/synmels_r3_149_difflen/test/mel_3190.npy\n",
      "/github/datasets/openslr-95-german-neutral-tts/synmels_r3_149_difflen/test/mel_3191.npy\n",
      "/github/datasets/openslr-95-german-neutral-tts/synmels_r3_149_difflen/test/mel_3192.npy\n",
      "/github/datasets/openslr-95-german-neutral-tts/synmels_r3_149_difflen/test/mel_3193.npy\n",
      "/github/datasets/openslr-95-german-neutral-tts/synmels_r3_149_difflen/test/mel_3194.npy\n",
      "/github/datasets/openslr-95-german-neutral-tts/synmels_r3_149_difflen/test/mel_3195.npy\n",
      "/github/datasets/openslr-95-german-neutral-tts/synmels_r3_149_difflen/test/mel_3196.npy\n",
      "/github/datasets/openslr-95-german-neutral-tts/synmels_r3_149_difflen/test/mel_3197.npy\n",
      "/github/datasets/openslr-95-german-neutral-tts/synmels_r3_149_difflen/test/mel_3198.npy\n",
      "/github/datasets/openslr-95-german-neutral-tts/synmels_r3_149_difflen/test/mel_3199.npy\n",
      "/github/datasets/openslr-95-german-neutral-tts/synmels_r3_149_difflen/test/mel_3200.npy\n",
      "/github/datasets/openslr-95-german-neutral-tts/synmels_r3_149_difflen/test/mel_3201.npy\n",
      "/github/datasets/openslr-95-german-neutral-tts/synmels_r3_149_difflen/test/mel_3202.npy\n",
      "/github/datasets/openslr-95-german-neutral-tts/synmels_r3_149_difflen/test/mel_3203.npy\n",
      "/github/datasets/openslr-95-german-neutral-tts/synmels_r3_149_difflen/test/mel_3204.npy\n",
      "/github/datasets/openslr-95-german-neutral-tts/synmels_r3_149_difflen/test/mel_3205.npy\n",
      "/github/datasets/openslr-95-german-neutral-tts/synmels_r3_149_difflen/test/mel_3206.npy\n",
      "/github/datasets/openslr-95-german-neutral-tts/synmels_r3_149_difflen/test/mel_3207.npy\n",
      "/github/datasets/openslr-95-german-neutral-tts/synmels_r3_149_difflen/test/mel_3208.npy\n",
      "/github/datasets/openslr-95-german-neutral-tts/synmels_r3_149_difflen/test/mel_3209.npy\n",
      "/github/datasets/openslr-95-german-neutral-tts/synmels_r3_149_difflen/test/mel_3210.npy\n"
     ]
    },
    {
     "name": "stderr",
     "output_type": "stream",
     "text": [
      "[NeMo W 2022-05-12 01:53:35 tts_tokenizers:351] Text: [wasserwerfer, tranengas, SOW1 MAE1CHT DAY1 DEH1MOW0 richtig SPAA1ß!] contains unknown char/phoneme: [ß]. Original text: [Wasserwerfer, Tranengas, so macht die Demo richtig Spaß!]. Symbol will be skipped.\n"
     ]
    },
    {
     "name": "stdout",
     "output_type": "stream",
     "text": [
      "/github/datasets/openslr-95-german-neutral-tts/synmels_r3_149_difflen/test/mel_3211.npy\n",
      "/github/datasets/openslr-95-german-neutral-tts/synmels_r3_149_difflen/test/mel_3212.npy\n",
      "/github/datasets/openslr-95-german-neutral-tts/synmels_r3_149_difflen/test/mel_3213.npy\n",
      "/github/datasets/openslr-95-german-neutral-tts/synmels_r3_149_difflen/test/mel_3214.npy\n",
      "/github/datasets/openslr-95-german-neutral-tts/synmels_r3_149_difflen/test/mel_3215.npy\n",
      "/github/datasets/openslr-95-german-neutral-tts/synmels_r3_149_difflen/test/mel_3216.npy\n",
      "/github/datasets/openslr-95-german-neutral-tts/synmels_r3_149_difflen/test/mel_3217.npy\n",
      "/github/datasets/openslr-95-german-neutral-tts/synmels_r3_149_difflen/test/mel_3218.npy\n",
      "/github/datasets/openslr-95-german-neutral-tts/synmels_r3_149_difflen/test/mel_3219.npy\n",
      "/github/datasets/openslr-95-german-neutral-tts/synmels_r3_149_difflen/test/mel_3220.npy\n",
      "/github/datasets/openslr-95-german-neutral-tts/synmels_r3_149_difflen/test/mel_3221.npy\n",
      "/github/datasets/openslr-95-german-neutral-tts/synmels_r3_149_difflen/test/mel_3222.npy\n"
     ]
    },
    {
     "name": "stderr",
     "output_type": "stream",
     "text": [
      "[NeMo W 2022-05-12 01:53:35 tts_tokenizers:351] Text: [DER1 klimawandel ist das GROW1ßTIY1 PRAA1BLAH0M unserer ZAY1T.] contains unknown char/phoneme: [ß]. Original text: [Der Klimawandel ist das großte Problem unserer Zeit.]. Symbol will be skipped.\n"
     ]
    },
    {
     "name": "stdout",
     "output_type": "stream",
     "text": [
      "/github/datasets/openslr-95-german-neutral-tts/synmels_r3_149_difflen/test/mel_3223.npy\n",
      "/github/datasets/openslr-95-german-neutral-tts/synmels_r3_149_difflen/test/mel_3224.npy\n",
      "/github/datasets/openslr-95-german-neutral-tts/synmels_r3_149_difflen/test/mel_3225.npy\n",
      "/github/datasets/openslr-95-german-neutral-tts/synmels_r3_149_difflen/test/mel_3226.npy\n",
      "/github/datasets/openslr-95-german-neutral-tts/synmels_r3_149_difflen/test/mel_3227.npy\n",
      "/github/datasets/openslr-95-german-neutral-tts/synmels_r3_149_difflen/test/mel_3228.npy\n",
      "/github/datasets/openslr-95-german-neutral-tts/synmels_r3_149_difflen/test/mel_3229.npy\n",
      "/github/datasets/openslr-95-german-neutral-tts/synmels_r3_149_difflen/test/mel_3230.npy\n"
     ]
    },
    {
     "name": "stderr",
     "output_type": "stream",
     "text": [
      "[NeMo W 2022-05-12 01:53:35 tts_tokenizers:351] Text: [EY1BER0 wir AE1LZ europaer haben AO1CH gesagt: EH1S ist GAH1T, AY1N eigenes SIH1STAH0M zu haben – zumal AY1N noch praziseres – AH1ND nicht allein VAO1N einem amerikanischen SIH1STAH0M abzuhangen.] contains unknown char/phoneme: [–]. Original text: [Aber wir als Europaer haben auch gesagt: Es ist gut, ein eigenes System zu haben – zumal ein noch praziseres – und nicht allein von einem amerikanischen System abzuhangen.]. Symbol will be skipped.\n",
      "[NeMo W 2022-05-12 01:53:35 tts_tokenizers:351] Text: [EY1BER0 wir AE1LZ europaer haben AO1CH gesagt: EH1S ist GAH1T, AY1N eigenes SIH1STAH0M zu haben – zumal AY1N noch praziseres – AH1ND nicht allein VAO1N einem amerikanischen SIH1STAH0M abzuhangen.] contains unknown char/phoneme: [–]. Original text: [Aber wir als Europaer haben auch gesagt: Es ist gut, ein eigenes System zu haben – zumal ein noch praziseres – und nicht allein von einem amerikanischen System abzuhangen.]. Symbol will be skipped.\n"
     ]
    },
    {
     "name": "stdout",
     "output_type": "stream",
     "text": [
      "/github/datasets/openslr-95-german-neutral-tts/synmels_r3_149_difflen/test/mel_3231.npy\n",
      "/github/datasets/openslr-95-german-neutral-tts/synmels_r3_149_difflen/test/mel_3232.npy\n",
      "/github/datasets/openslr-95-german-neutral-tts/synmels_r3_149_difflen/test/mel_3233.npy\n",
      "/github/datasets/openslr-95-german-neutral-tts/synmels_r3_149_difflen/test/mel_3234.npy\n",
      "/github/datasets/openslr-95-german-neutral-tts/synmels_r3_149_difflen/test/mel_3235.npy\n",
      "/github/datasets/openslr-95-german-neutral-tts/synmels_r3_149_difflen/test/mel_3236.npy\n",
      "/github/datasets/openslr-95-german-neutral-tts/synmels_r3_149_difflen/test/mel_3237.npy\n",
      "/github/datasets/openslr-95-german-neutral-tts/synmels_r3_149_difflen/test/mel_3238.npy\n",
      "/github/datasets/openslr-95-german-neutral-tts/synmels_r3_149_difflen/test/mel_3239.npy\n",
      "/github/datasets/openslr-95-german-neutral-tts/synmels_r3_149_difflen/test/mel_3240.npy\n",
      "/github/datasets/openslr-95-german-neutral-tts/synmels_r3_149_difflen/test/mel_3241.npy\n"
     ]
    },
    {
     "name": "stderr",
     "output_type": "stream",
     "text": [
      "[NeMo W 2022-05-12 01:53:35 tts_tokenizers:351] Text: [was wiederum AE1LZ verschleißteil zahlt, ist auslegungssache.] contains unknown char/phoneme: [ß]. Original text: [Was wiederum als Verschleißteil zahlt, ist Auslegungssache.]. Symbol will be skipped.\n"
     ]
    },
    {
     "name": "stdout",
     "output_type": "stream",
     "text": [
      "/github/datasets/openslr-95-german-neutral-tts/synmels_r3_149_difflen/test/mel_3242.npy\n",
      "/github/datasets/openslr-95-german-neutral-tts/synmels_r3_149_difflen/test/mel_3243.npy\n",
      "/github/datasets/openslr-95-german-neutral-tts/synmels_r3_149_difflen/test/mel_3244.npy\n",
      "/github/datasets/openslr-95-german-neutral-tts/synmels_r3_149_difflen/test/mel_3245.npy\n",
      "/github/datasets/openslr-95-german-neutral-tts/synmels_r3_149_difflen/test/mel_3246.npy\n",
      "/github/datasets/openslr-95-german-neutral-tts/synmels_r3_149_difflen/test/mel_3247.npy\n",
      "/github/datasets/openslr-95-german-neutral-tts/synmels_r3_149_difflen/test/mel_3248.npy\n",
      "/github/datasets/openslr-95-german-neutral-tts/synmels_r3_149_difflen/test/mel_3249.npy\n",
      "/github/datasets/openslr-95-german-neutral-tts/synmels_r3_149_difflen/test/mel_3250.npy\n",
      "/github/datasets/openslr-95-german-neutral-tts/synmels_r3_149_difflen/test/mel_3251.npy\n",
      "/github/datasets/openslr-95-german-neutral-tts/synmels_r3_149_difflen/test/mel_3252.npy\n",
      "/github/datasets/openslr-95-german-neutral-tts/synmels_r3_149_difflen/test/mel_3253.npy\n",
      "/github/datasets/openslr-95-german-neutral-tts/synmels_r3_149_difflen/test/mel_3254.npy\n",
      "/github/datasets/openslr-95-german-neutral-tts/synmels_r3_149_difflen/test/mel_3255.npy\n",
      "/github/datasets/openslr-95-german-neutral-tts/synmels_r3_149_difflen/test/mel_3256.npy\n",
      "/github/datasets/openslr-95-german-neutral-tts/synmels_r3_149_difflen/test/mel_3257.npy\n",
      "/github/datasets/openslr-95-german-neutral-tts/synmels_r3_149_difflen/test/mel_3258.npy\n"
     ]
    },
    {
     "name": "stderr",
     "output_type": "stream",
     "text": [
      "[NeMo W 2022-05-12 01:53:36 tts_tokenizers:351] Text: [in diesen tiefen ist DER1 meeresgrund GROW1ßtenteils unerforscht.] contains unknown char/phoneme: [ß]. Original text: [In diesen Tiefen ist der Meeresgrund großtenteils unerforscht.]. Symbol will be skipped.\n"
     ]
    },
    {
     "name": "stdout",
     "output_type": "stream",
     "text": [
      "/github/datasets/openslr-95-german-neutral-tts/synmels_r3_149_difflen/test/mel_3259.npy\n",
      "/github/datasets/openslr-95-german-neutral-tts/synmels_r3_149_difflen/test/mel_3260.npy\n",
      "/github/datasets/openslr-95-german-neutral-tts/synmels_r3_149_difflen/test/mel_3261.npy\n",
      "/github/datasets/openslr-95-german-neutral-tts/synmels_r3_149_difflen/test/mel_3262.npy\n",
      "/github/datasets/openslr-95-german-neutral-tts/synmels_r3_149_difflen/test/mel_3263.npy\n"
     ]
    },
    {
     "name": "stderr",
     "output_type": "stream",
     "text": [
      "[NeMo W 2022-05-12 01:53:36 tts_tokenizers:351] Text: [das SAA1L keine drohung SAY1N, bloß eine warnung.] contains unknown char/phoneme: [ß]. Original text: [Das soll keine Drohung sein, bloß eine Warnung.]. Symbol will be skipped.\n"
     ]
    },
    {
     "name": "stdout",
     "output_type": "stream",
     "text": [
      "/github/datasets/openslr-95-german-neutral-tts/synmels_r3_149_difflen/test/mel_3264.npy\n",
      "/github/datasets/openslr-95-german-neutral-tts/synmels_r3_149_difflen/test/mel_3265.npy\n",
      "/github/datasets/openslr-95-german-neutral-tts/synmels_r3_149_difflen/test/mel_3266.npy\n",
      "/github/datasets/openslr-95-german-neutral-tts/synmels_r3_149_difflen/test/mel_3267.npy\n",
      "/github/datasets/openslr-95-german-neutral-tts/synmels_r3_149_difflen/test/mel_3268.npy\n",
      "/github/datasets/openslr-95-german-neutral-tts/synmels_r3_149_difflen/test/mel_3269.npy\n",
      "/github/datasets/openslr-95-german-neutral-tts/synmels_r3_149_difflen/test/mel_3270.npy\n",
      "/github/datasets/openslr-95-german-neutral-tts/synmels_r3_149_difflen/test/mel_3271.npy\n",
      "/github/datasets/openslr-95-german-neutral-tts/synmels_r3_149_difflen/test/mel_3272.npy\n",
      "/github/datasets/openslr-95-german-neutral-tts/synmels_r3_149_difflen/test/mel_3273.npy\n",
      "/github/datasets/openslr-95-german-neutral-tts/synmels_r3_149_difflen/test/mel_3274.npy\n",
      "/github/datasets/openslr-95-german-neutral-tts/synmels_r3_149_difflen/test/mel_3275.npy\n",
      "/github/datasets/openslr-95-german-neutral-tts/synmels_r3_149_difflen/test/mel_3276.npy\n",
      "/github/datasets/openslr-95-german-neutral-tts/synmels_r3_149_difflen/test/mel_3277.npy\n",
      "/github/datasets/openslr-95-german-neutral-tts/synmels_r3_149_difflen/test/mel_3278.npy\n",
      "/github/datasets/openslr-95-german-neutral-tts/synmels_r3_149_difflen/test/mel_3279.npy\n",
      "/github/datasets/openslr-95-german-neutral-tts/synmels_r3_149_difflen/test/mel_3280.npy\n",
      "/github/datasets/openslr-95-german-neutral-tts/synmels_r3_149_difflen/test/mel_3281.npy\n",
      "/github/datasets/openslr-95-german-neutral-tts/synmels_r3_149_difflen/test/mel_3282.npy\n",
      "/github/datasets/openslr-95-german-neutral-tts/synmels_r3_149_difflen/test/mel_3283.npy\n",
      "/github/datasets/openslr-95-german-neutral-tts/synmels_r3_149_difflen/test/mel_3284.npy\n",
      "/github/datasets/openslr-95-german-neutral-tts/synmels_r3_149_difflen/test/mel_3285.npy\n",
      "/github/datasets/openslr-95-german-neutral-tts/synmels_r3_149_difflen/test/mel_3286.npy\n",
      "/github/datasets/openslr-95-german-neutral-tts/synmels_r3_149_difflen/test/mel_3287.npy\n",
      "/github/datasets/openslr-95-german-neutral-tts/synmels_r3_149_difflen/test/mel_3288.npy\n",
      "/github/datasets/openslr-95-german-neutral-tts/synmels_r3_149_difflen/test/mel_3289.npy\n",
      "/github/datasets/openslr-95-german-neutral-tts/synmels_r3_149_difflen/test/mel_3290.npy\n",
      "/github/datasets/openslr-95-german-neutral-tts/synmels_r3_149_difflen/test/mel_3291.npy\n",
      "/github/datasets/openslr-95-german-neutral-tts/synmels_r3_149_difflen/test/mel_3292.npy\n"
     ]
    },
    {
     "name": "stderr",
     "output_type": "stream",
     "text": [
      "[NeMo W 2022-05-12 01:53:36 tts_tokenizers:351] Text: [AH1ND was, wenn ER0 DAY1 leine einfach durchbeißTIY1?] contains unknown char/phoneme: [ß]. Original text: [Und was, wenn er die Leine einfach durchbeißt?]. Symbol will be skipped.\n"
     ]
    },
    {
     "name": "stdout",
     "output_type": "stream",
     "text": [
      "/github/datasets/openslr-95-german-neutral-tts/synmels_r3_149_difflen/test/mel_3293.npy\n",
      "/github/datasets/openslr-95-german-neutral-tts/synmels_r3_149_difflen/test/mel_3294.npy\n",
      "/github/datasets/openslr-95-german-neutral-tts/synmels_r3_149_difflen/test/mel_3295.npy\n",
      "/github/datasets/openslr-95-german-neutral-tts/synmels_r3_149_difflen/test/mel_3296.npy\n",
      "/github/datasets/openslr-95-german-neutral-tts/synmels_r3_149_difflen/test/mel_3297.npy\n",
      "/github/datasets/openslr-95-german-neutral-tts/synmels_r3_149_difflen/test/mel_3298.npy\n",
      "/github/datasets/openslr-95-german-neutral-tts/synmels_r3_149_difflen/test/mel_3299.npy\n",
      "/github/datasets/openslr-95-german-neutral-tts/synmels_r3_149_difflen/test/mel_3300.npy\n",
      "/github/datasets/openslr-95-german-neutral-tts/synmels_r3_149_difflen/test/mel_3301.npy\n",
      "/github/datasets/openslr-95-german-neutral-tts/synmels_r3_149_difflen/test/mel_3302.npy\n",
      "/github/datasets/openslr-95-german-neutral-tts/synmels_r3_149_difflen/test/mel_3303.npy\n",
      "/github/datasets/openslr-95-german-neutral-tts/synmels_r3_149_difflen/test/mel_3304.npy\n",
      "/github/datasets/openslr-95-german-neutral-tts/synmels_r3_149_difflen/test/mel_3305.npy\n",
      "/github/datasets/openslr-95-german-neutral-tts/synmels_r3_149_difflen/test/mel_3306.npy\n",
      "/github/datasets/openslr-95-german-neutral-tts/synmels_r3_149_difflen/test/mel_3307.npy\n",
      "/github/datasets/openslr-95-german-neutral-tts/synmels_r3_149_difflen/test/mel_3308.npy\n",
      "/github/datasets/openslr-95-german-neutral-tts/synmels_r3_149_difflen/test/mel_3309.npy\n",
      "/github/datasets/openslr-95-german-neutral-tts/synmels_r3_149_difflen/test/mel_3310.npy\n",
      "/github/datasets/openslr-95-german-neutral-tts/synmels_r3_149_difflen/test/mel_3311.npy\n",
      "/github/datasets/openslr-95-german-neutral-tts/synmels_r3_149_difflen/test/mel_3312.npy\n",
      "/github/datasets/openslr-95-german-neutral-tts/synmels_r3_149_difflen/test/mel_3313.npy\n"
     ]
    },
    {
     "name": "stderr",
     "output_type": "stream",
     "text": [
      "[NeMo W 2022-05-12 01:53:37 tts_tokenizers:351] Text: [STEH1L dir eine halbleiter-DAY1OW2D vor wie eine einbahnstraßIY1 FER1 ladungstrager.] contains unknown char/phoneme: [ß]. Original text: [Stell dir eine Halbleiter-Diode vor wie eine Einbahnstraße fur Ladungstrager.]. Symbol will be skipped.\n",
      "[NeMo W 2022-05-12 01:53:37 tts_tokenizers:351] Text: [NUH1R weil EH1S tuv-gepruft ist, heißTIY1 EH1S nicht, DAE1S EH1S sicher ist.] contains unknown char/phoneme: [ß]. Original text: [Nur weil es TUV-gepruft ist, heißt es nicht, dass es sicher ist.]. Symbol will be skipped.\n"
     ]
    },
    {
     "name": "stdout",
     "output_type": "stream",
     "text": [
      "/github/datasets/openslr-95-german-neutral-tts/synmels_r3_149_difflen/test/mel_3314.npy\n",
      "/github/datasets/openslr-95-german-neutral-tts/synmels_r3_149_difflen/test/mel_3315.npy\n",
      "/github/datasets/openslr-95-german-neutral-tts/synmels_r3_149_difflen/test/mel_3316.npy\n",
      "/github/datasets/openslr-95-german-neutral-tts/synmels_r3_149_difflen/test/mel_3317.npy\n",
      "/github/datasets/openslr-95-german-neutral-tts/synmels_r3_149_difflen/test/mel_3318.npy\n",
      "/github/datasets/openslr-95-german-neutral-tts/synmels_r3_149_difflen/test/mel_3319.npy\n",
      "/github/datasets/openslr-95-german-neutral-tts/synmels_r3_149_difflen/test/mel_3320.npy\n",
      "/github/datasets/openslr-95-german-neutral-tts/synmels_r3_149_difflen/test/mel_3321.npy\n",
      "/github/datasets/openslr-95-german-neutral-tts/synmels_r3_149_difflen/test/mel_3322.npy\n",
      "/github/datasets/openslr-95-german-neutral-tts/synmels_r3_149_difflen/test/mel_3323.npy\n",
      "/github/datasets/openslr-95-german-neutral-tts/synmels_r3_149_difflen/test/mel_3324.npy\n",
      "/github/datasets/openslr-95-german-neutral-tts/synmels_r3_149_difflen/test/mel_3325.npy\n",
      "/github/datasets/openslr-95-german-neutral-tts/synmels_r3_149_difflen/test/mel_3326.npy\n",
      "/github/datasets/openslr-95-german-neutral-tts/synmels_r3_149_difflen/test/mel_3327.npy\n",
      "/github/datasets/openslr-95-german-neutral-tts/synmels_r3_149_difflen/test/mel_3328.npy\n",
      "/github/datasets/openslr-95-german-neutral-tts/synmels_r3_149_difflen/test/mel_3329.npy\n",
      "/github/datasets/openslr-95-german-neutral-tts/synmels_r3_149_difflen/test/mel_3330.npy\n",
      "/github/datasets/openslr-95-german-neutral-tts/synmels_r3_149_difflen/test/mel_3331.npy\n",
      "/github/datasets/openslr-95-german-neutral-tts/synmels_r3_149_difflen/test/mel_3332.npy\n",
      "/github/datasets/openslr-95-german-neutral-tts/synmels_r3_149_difflen/test/mel_3333.npy\n",
      "/github/datasets/openslr-95-german-neutral-tts/synmels_r3_149_difflen/test/mel_3334.npy\n"
     ]
    },
    {
     "name": "stderr",
     "output_type": "stream",
     "text": [
      "[NeMo W 2022-05-12 01:53:37 tts_tokenizers:351] Text: [EH1S ware GROW1ßER0 ZUW1FAH0L, ihn in dem getummel wiederzufinden.] contains unknown char/phoneme: [ß]. Original text: [Es ware großer Zufall, ihn in dem Getummel wiederzufinden.]. Symbol will be skipped.\n"
     ]
    },
    {
     "name": "stdout",
     "output_type": "stream",
     "text": [
      "/github/datasets/openslr-95-german-neutral-tts/synmels_r3_149_difflen/test/mel_3335.npy\n",
      "/github/datasets/openslr-95-german-neutral-tts/synmels_r3_149_difflen/test/mel_3336.npy\n",
      "/github/datasets/openslr-95-german-neutral-tts/synmels_r3_149_difflen/test/mel_3337.npy\n",
      "/github/datasets/openslr-95-german-neutral-tts/synmels_r3_149_difflen/test/mel_3338.npy\n",
      "/github/datasets/openslr-95-german-neutral-tts/synmels_r3_149_difflen/test/mel_3339.npy\n",
      "/github/datasets/openslr-95-german-neutral-tts/synmels_r3_149_difflen/test/mel_3340.npy\n",
      "/github/datasets/openslr-95-german-neutral-tts/synmels_r3_149_difflen/test/mel_3341.npy\n",
      "/github/datasets/openslr-95-german-neutral-tts/synmels_r3_149_difflen/test/mel_3342.npy\n",
      "/github/datasets/openslr-95-german-neutral-tts/synmels_r3_149_difflen/test/mel_3343.npy\n",
      "/github/datasets/openslr-95-german-neutral-tts/synmels_r3_149_difflen/test/mel_3344.npy\n"
     ]
    },
    {
     "name": "stderr",
     "output_type": "stream",
     "text": [
      "[NeMo W 2022-05-12 01:53:37 tts_tokenizers:351] Text: [AY1N bundel an MAA1ßnahmen SAA1L EH1S richten.] contains unknown char/phoneme: [ß]. Original text: [Ein Bundel an Maßnahmen soll es richten.]. Symbol will be skipped.\n",
      "[NeMo W 2022-05-12 01:53:38 tts_tokenizers:351] Text: [cornflakes SIH1ND meistens gesußTIY1 AH1ND DAA1ER0 ungesunder bestandteil VAO1N muslis.] contains unknown char/phoneme: [ß]. Original text: [Cornflakes sind meistens gesußt und daher ungesunder Bestandteil von Muslis.]. Symbol will be skipped.\n"
     ]
    },
    {
     "name": "stdout",
     "output_type": "stream",
     "text": [
      "/github/datasets/openslr-95-german-neutral-tts/synmels_r3_149_difflen/test/mel_3345.npy\n",
      "/github/datasets/openslr-95-german-neutral-tts/synmels_r3_149_difflen/test/mel_3346.npy\n",
      "/github/datasets/openslr-95-german-neutral-tts/synmels_r3_149_difflen/test/mel_3347.npy\n",
      "/github/datasets/openslr-95-german-neutral-tts/synmels_r3_149_difflen/test/mel_3348.npy\n",
      "/github/datasets/openslr-95-german-neutral-tts/synmels_r3_149_difflen/test/mel_3349.npy\n",
      "/github/datasets/openslr-95-german-neutral-tts/synmels_r3_149_difflen/test/mel_3350.npy\n",
      "/github/datasets/openslr-95-german-neutral-tts/synmels_r3_149_difflen/test/mel_3351.npy\n",
      "/github/datasets/openslr-95-german-neutral-tts/synmels_r3_149_difflen/test/mel_3352.npy\n",
      "/github/datasets/openslr-95-german-neutral-tts/synmels_r3_149_difflen/test/mel_3353.npy\n",
      "/github/datasets/openslr-95-german-neutral-tts/synmels_r3_149_difflen/test/mel_3354.npy\n",
      "/github/datasets/openslr-95-german-neutral-tts/synmels_r3_149_difflen/test/mel_3355.npy\n",
      "/github/datasets/openslr-95-german-neutral-tts/synmels_r3_149_difflen/test/mel_3356.npy\n",
      "/github/datasets/openslr-95-german-neutral-tts/synmels_r3_149_difflen/test/mel_3357.npy\n",
      "/github/datasets/openslr-95-german-neutral-tts/synmels_r3_149_difflen/test/mel_3358.npy\n",
      "/github/datasets/openslr-95-german-neutral-tts/synmels_r3_149_difflen/test/mel_3359.npy\n",
      "/github/datasets/openslr-95-german-neutral-tts/synmels_r3_149_difflen/test/mel_3360.npy\n",
      "/github/datasets/openslr-95-german-neutral-tts/synmels_r3_149_difflen/test/mel_3361.npy\n",
      "/github/datasets/openslr-95-german-neutral-tts/synmels_r3_149_difflen/test/mel_3362.npy\n"
     ]
    },
    {
     "name": "stderr",
     "output_type": "stream",
     "text": [
      "[NeMo W 2022-05-12 01:53:38 tts_tokenizers:351] Text: [EH1S MAE1CHT SPAA1ß, euch zuzuhoren.] contains unknown char/phoneme: [ß]. Original text: [Es macht Spaß, euch zuzuhoren.]. Symbol will be skipped.\n"
     ]
    },
    {
     "name": "stdout",
     "output_type": "stream",
     "text": [
      "/github/datasets/openslr-95-german-neutral-tts/synmels_r3_149_difflen/test/mel_3363.npy\n",
      "/github/datasets/openslr-95-german-neutral-tts/synmels_r3_149_difflen/test/mel_3364.npy\n",
      "/github/datasets/openslr-95-german-neutral-tts/synmels_r3_149_difflen/test/mel_3365.npy\n",
      "/github/datasets/openslr-95-german-neutral-tts/synmels_r3_149_difflen/test/mel_3366.npy\n",
      "/github/datasets/openslr-95-german-neutral-tts/synmels_r3_149_difflen/test/mel_3367.npy\n",
      "/github/datasets/openslr-95-german-neutral-tts/synmels_r3_149_difflen/test/mel_3368.npy\n",
      "/github/datasets/openslr-95-german-neutral-tts/synmels_r3_149_difflen/test/mel_3369.npy\n",
      "/github/datasets/openslr-95-german-neutral-tts/synmels_r3_149_difflen/test/mel_3370.npy\n",
      "/github/datasets/openslr-95-german-neutral-tts/synmels_r3_149_difflen/test/mel_3371.npy\n",
      "/github/datasets/openslr-95-german-neutral-tts/synmels_r3_149_difflen/test/mel_3372.npy\n",
      "/github/datasets/openslr-95-german-neutral-tts/synmels_r3_149_difflen/test/mel_3373.npy\n",
      "/github/datasets/openslr-95-german-neutral-tts/synmels_r3_149_difflen/test/mel_3374.npy\n",
      "/github/datasets/openslr-95-german-neutral-tts/synmels_r3_149_difflen/test/mel_3375.npy\n",
      "/github/datasets/openslr-95-german-neutral-tts/synmels_r3_149_difflen/test/mel_3376.npy\n",
      "/github/datasets/openslr-95-german-neutral-tts/synmels_r3_149_difflen/test/mel_3377.npy\n",
      "/github/datasets/openslr-95-german-neutral-tts/synmels_r3_149_difflen/test/mel_3378.npy\n",
      "/github/datasets/openslr-95-german-neutral-tts/synmels_r3_149_difflen/test/mel_3379.npy\n",
      "/github/datasets/openslr-95-german-neutral-tts/synmels_r3_149_difflen/test/mel_3380.npy\n",
      "/github/datasets/openslr-95-german-neutral-tts/synmels_r3_149_difflen/test/mel_3381.npy\n",
      "/github/datasets/openslr-95-german-neutral-tts/synmels_r3_149_difflen/test/mel_3382.npy\n",
      "/github/datasets/openslr-95-german-neutral-tts/synmels_r3_149_difflen/test/mel_3383.npy\n",
      "/github/datasets/openslr-95-german-neutral-tts/synmels_r3_149_difflen/test/mel_3384.npy\n",
      "/github/datasets/openslr-95-german-neutral-tts/synmels_r3_149_difflen/test/mel_3385.npy\n",
      "/github/datasets/openslr-95-german-neutral-tts/synmels_r3_149_difflen/test/mel_3386.npy\n",
      "/github/datasets/openslr-95-german-neutral-tts/synmels_r3_149_difflen/test/mel_3387.npy\n",
      "/github/datasets/openslr-95-german-neutral-tts/synmels_r3_149_difflen/test/mel_3388.npy\n",
      "/github/datasets/openslr-95-german-neutral-tts/synmels_r3_149_difflen/test/mel_3389.npy\n",
      "/github/datasets/openslr-95-german-neutral-tts/synmels_r3_149_difflen/test/mel_3390.npy\n",
      "/github/datasets/openslr-95-german-neutral-tts/synmels_r3_149_difflen/test/mel_3391.npy\n",
      "/github/datasets/openslr-95-german-neutral-tts/synmels_r3_149_difflen/test/mel_3392.npy\n"
     ]
    },
    {
     "name": "stderr",
     "output_type": "stream",
     "text": [
      "[NeMo W 2022-05-12 01:53:39 tts_tokenizers:351] Text: [dafur SIH1ND DAY1 drei noch nicht GROW1ß genug.] contains unknown char/phoneme: [ß]. Original text: [Dafur sind die drei noch nicht groß genug.]. Symbol will be skipped.\n",
      "[NeMo W 2022-05-12 01:53:39 tts_tokenizers:351] Text: [letztes MAE1L WAO1R ER0 echt SUW1ß. nicht MEH1R SOW1 krumpelig.] contains unknown char/phoneme: [ß]. Original text: [Letztes mal war er echt suß. Nicht mehr so krumpelig.]. Symbol will be skipped.\n"
     ]
    },
    {
     "name": "stdout",
     "output_type": "stream",
     "text": [
      "/github/datasets/openslr-95-german-neutral-tts/synmels_r3_149_difflen/test/mel_3393.npy\n",
      "/github/datasets/openslr-95-german-neutral-tts/synmels_r3_149_difflen/test/mel_3394.npy\n",
      "/github/datasets/openslr-95-german-neutral-tts/synmels_r3_149_difflen/test/mel_3395.npy\n",
      "/github/datasets/openslr-95-german-neutral-tts/synmels_r3_149_difflen/test/mel_3396.npy\n",
      "/github/datasets/openslr-95-german-neutral-tts/synmels_r3_149_difflen/test/mel_3397.npy\n",
      "/github/datasets/openslr-95-german-neutral-tts/synmels_r3_149_difflen/test/mel_3398.npy\n",
      "/github/datasets/openslr-95-german-neutral-tts/synmels_r3_149_difflen/test/mel_3399.npy\n",
      "/github/datasets/openslr-95-german-neutral-tts/synmels_r3_149_difflen/test/mel_3400.npy\n",
      "/github/datasets/openslr-95-german-neutral-tts/synmels_r3_149_difflen/test/mel_3401.npy\n",
      "/github/datasets/openslr-95-german-neutral-tts/synmels_r3_149_difflen/test/mel_3402.npy\n",
      "/github/datasets/openslr-95-german-neutral-tts/synmels_r3_149_difflen/test/mel_3403.npy\n",
      "/github/datasets/openslr-95-german-neutral-tts/synmels_r3_149_difflen/test/mel_3404.npy\n",
      "/github/datasets/openslr-95-german-neutral-tts/synmels_r3_149_difflen/test/mel_3405.npy\n",
      "/github/datasets/openslr-95-german-neutral-tts/synmels_r3_149_difflen/test/mel_3406.npy\n",
      "/github/datasets/openslr-95-german-neutral-tts/synmels_r3_149_difflen/test/mel_3407.npy\n",
      "/github/datasets/openslr-95-german-neutral-tts/synmels_r3_149_difflen/test/mel_3408.npy\n",
      "/github/datasets/openslr-95-german-neutral-tts/synmels_r3_149_difflen/test/mel_3409.npy\n",
      "/github/datasets/openslr-95-german-neutral-tts/synmels_r3_149_difflen/test/mel_3410.npy\n",
      "/github/datasets/openslr-95-german-neutral-tts/synmels_r3_149_difflen/test/mel_3411.npy\n",
      "/github/datasets/openslr-95-german-neutral-tts/synmels_r3_149_difflen/test/mel_3412.npy\n"
     ]
    },
    {
     "name": "stderr",
     "output_type": "stream",
     "text": [
      "[NeMo W 2022-05-12 01:53:39 tts_tokenizers:351] Text: [diese wissenslucke GIH1LT EH1S zu SHLIY1ßEH1N.] contains unknown char/phoneme: [ß]. Original text: [Diese Wissenslucke gilt es zu schließen.]. Symbol will be skipped.\n"
     ]
    },
    {
     "name": "stdout",
     "output_type": "stream",
     "text": [
      "/github/datasets/openslr-95-german-neutral-tts/synmels_r3_149_difflen/test/mel_3413.npy\n",
      "/github/datasets/openslr-95-german-neutral-tts/synmels_r3_149_difflen/test/mel_3414.npy\n",
      "/github/datasets/openslr-95-german-neutral-tts/synmels_r3_149_difflen/test/mel_3415.npy\n",
      "/github/datasets/openslr-95-german-neutral-tts/synmels_r3_149_difflen/test/mel_3416.npy\n",
      "/github/datasets/openslr-95-german-neutral-tts/synmels_r3_149_difflen/test/mel_3417.npy\n",
      "/github/datasets/openslr-95-german-neutral-tts/synmels_r3_149_difflen/test/mel_3418.npy\n",
      "/github/datasets/openslr-95-german-neutral-tts/synmels_r3_149_difflen/test/mel_3419.npy\n",
      "/github/datasets/openslr-95-german-neutral-tts/synmels_r3_149_difflen/test/mel_3420.npy\n",
      "/github/datasets/openslr-95-german-neutral-tts/synmels_r3_149_difflen/test/mel_3421.npy\n",
      "/github/datasets/openslr-95-german-neutral-tts/synmels_r3_149_difflen/test/mel_3422.npy\n",
      "/github/datasets/openslr-95-german-neutral-tts/synmels_r3_149_difflen/test/mel_3423.npy\n",
      "/github/datasets/openslr-95-german-neutral-tts/synmels_r3_149_difflen/test/mel_3424.npy\n",
      "/github/datasets/openslr-95-german-neutral-tts/synmels_r3_149_difflen/test/mel_3425.npy\n",
      "/github/datasets/openslr-95-german-neutral-tts/synmels_r3_149_difflen/test/mel_3426.npy\n",
      "/github/datasets/openslr-95-german-neutral-tts/synmels_r3_149_difflen/test/mel_3427.npy\n",
      "/github/datasets/openslr-95-german-neutral-tts/synmels_r3_149_difflen/test/mel_3428.npy\n",
      "/github/datasets/openslr-95-german-neutral-tts/synmels_r3_149_difflen/test/mel_3429.npy\n",
      "/github/datasets/openslr-95-german-neutral-tts/synmels_r3_149_difflen/test/mel_3430.npy\n",
      "/github/datasets/openslr-95-german-neutral-tts/synmels_r3_149_difflen/test/mel_3431.npy\n",
      "/github/datasets/openslr-95-german-neutral-tts/synmels_r3_149_difflen/test/mel_3432.npy\n"
     ]
    },
    {
     "name": "stderr",
     "output_type": "stream",
     "text": [
      "[NeMo W 2022-05-12 01:53:39 tts_tokenizers:351] Text: [dieser ansatz zeigt noch einmal DEH1N GROW1ßTEH1N vorwurf gegenuber DER1 „politique des auteurs\" auf.] contains unknown char/phoneme: [ß]. Original text: [Dieser Ansatz zeigt noch einmal den großten Vorwurf gegenuber der „politique des auteurs\" auf.]. Symbol will be skipped.\n",
      "[NeMo W 2022-05-12 01:53:39 tts_tokenizers:351] Text: [dieser ansatz zeigt noch einmal DEH1N GROW1ßTEH1N vorwurf gegenuber DER1 „politique des auteurs\" auf.] contains unknown char/phoneme: [„]. Original text: [Dieser Ansatz zeigt noch einmal den großten Vorwurf gegenuber der „politique des auteurs\" auf.]. Symbol will be skipped.\n"
     ]
    },
    {
     "name": "stdout",
     "output_type": "stream",
     "text": [
      "/github/datasets/openslr-95-german-neutral-tts/synmels_r3_149_difflen/test/mel_3433.npy\n",
      "/github/datasets/openslr-95-german-neutral-tts/synmels_r3_149_difflen/test/mel_3434.npy\n",
      "/github/datasets/openslr-95-german-neutral-tts/synmels_r3_149_difflen/test/mel_3435.npy\n",
      "/github/datasets/openslr-95-german-neutral-tts/synmels_r3_149_difflen/test/mel_3436.npy\n",
      "/github/datasets/openslr-95-german-neutral-tts/synmels_r3_149_difflen/test/mel_3437.npy\n",
      "/github/datasets/openslr-95-german-neutral-tts/synmels_r3_149_difflen/test/mel_3438.npy\n",
      "/github/datasets/openslr-95-german-neutral-tts/synmels_r3_149_difflen/test/mel_3439.npy\n",
      "/github/datasets/openslr-95-german-neutral-tts/synmels_r3_149_difflen/test/mel_3440.npy\n",
      "/github/datasets/openslr-95-german-neutral-tts/synmels_r3_149_difflen/test/mel_3441.npy\n",
      "/github/datasets/openslr-95-german-neutral-tts/synmels_r3_149_difflen/test/mel_3442.npy\n"
     ]
    },
    {
     "name": "stderr",
     "output_type": "stream",
     "text": [
      "[NeMo W 2022-05-12 01:53:40 tts_tokenizers:351] Text: [OW1ßerdem produziert ER0 warme, was EY1BER0 lokal nicht zu einem temperaturanstieg fuhrt.] contains unknown char/phoneme: [ß]. Original text: [Außerdem produziert er Warme, was aber lokal nicht zu einem Temperaturanstieg fuhrt.]. Symbol will be skipped.\n"
     ]
    },
    {
     "name": "stdout",
     "output_type": "stream",
     "text": [
      "/github/datasets/openslr-95-german-neutral-tts/synmels_r3_149_difflen/test/mel_3443.npy\n",
      "/github/datasets/openslr-95-german-neutral-tts/synmels_r3_149_difflen/test/mel_3444.npy\n",
      "/github/datasets/openslr-95-german-neutral-tts/synmels_r3_149_difflen/test/mel_3445.npy\n",
      "/github/datasets/openslr-95-german-neutral-tts/synmels_r3_149_difflen/test/mel_3446.npy\n",
      "/github/datasets/openslr-95-german-neutral-tts/synmels_r3_149_difflen/test/mel_3447.npy\n",
      "/github/datasets/openslr-95-german-neutral-tts/synmels_r3_149_difflen/test/mel_3448.npy\n",
      "/github/datasets/openslr-95-german-neutral-tts/synmels_r3_149_difflen/test/mel_3449.npy\n",
      "/github/datasets/openslr-95-german-neutral-tts/synmels_r3_149_difflen/test/mel_3450.npy\n",
      "/github/datasets/openslr-95-german-neutral-tts/synmels_r3_149_difflen/test/mel_3451.npy\n",
      "/github/datasets/openslr-95-german-neutral-tts/synmels_r3_149_difflen/test/mel_3452.npy\n",
      "/github/datasets/openslr-95-german-neutral-tts/synmels_r3_149_difflen/test/mel_3453.npy\n",
      "/github/datasets/openslr-95-german-neutral-tts/synmels_r3_149_difflen/test/mel_3454.npy\n",
      "/github/datasets/openslr-95-german-neutral-tts/synmels_r3_149_difflen/test/mel_3455.npy\n",
      "/github/datasets/openslr-95-german-neutral-tts/synmels_r3_149_difflen/test/mel_3456.npy\n",
      "/github/datasets/openslr-95-german-neutral-tts/synmels_r3_149_difflen/test/mel_3457.npy\n",
      "/github/datasets/openslr-95-german-neutral-tts/synmels_r3_149_difflen/test/mel_3458.npy\n",
      "/github/datasets/openslr-95-german-neutral-tts/synmels_r3_149_difflen/test/mel_3459.npy\n",
      "/github/datasets/openslr-95-german-neutral-tts/synmels_r3_149_difflen/test/mel_3460.npy\n",
      "/github/datasets/openslr-95-german-neutral-tts/synmels_r3_149_difflen/test/mel_3461.npy\n",
      "/github/datasets/openslr-95-german-neutral-tts/synmels_r3_149_difflen/test/mel_3462.npy\n",
      "/github/datasets/openslr-95-german-neutral-tts/synmels_r3_149_difflen/test/mel_3463.npy\n",
      "/github/datasets/openslr-95-german-neutral-tts/synmels_r3_149_difflen/test/mel_3464.npy\n",
      "/github/datasets/openslr-95-german-neutral-tts/synmels_r3_149_difflen/test/mel_3465.npy\n",
      "/github/datasets/openslr-95-german-neutral-tts/synmels_r3_149_difflen/test/mel_3466.npy\n",
      "/github/datasets/openslr-95-german-neutral-tts/synmels_r3_149_difflen/test/mel_3467.npy\n",
      "/github/datasets/openslr-95-german-neutral-tts/synmels_r3_149_difflen/test/mel_3468.npy\n",
      "/github/datasets/openslr-95-german-neutral-tts/synmels_r3_149_difflen/test/mel_3469.npy\n",
      "/github/datasets/openslr-95-german-neutral-tts/synmels_r3_149_difflen/test/mel_3470.npy\n",
      "/github/datasets/openslr-95-german-neutral-tts/synmels_r3_149_difflen/test/mel_3471.npy\n"
     ]
    },
    {
     "name": "stderr",
     "output_type": "stream",
     "text": [
      "[NeMo W 2022-05-12 01:53:40 tts_tokenizers:351] Text: [EH1S steht vollig OW1ßER0 frage, DAE1S wir sicherheit in YUH0ROW1PAH0 gemeinsam mit russland WAA1LAH0N, nicht gegen russland.] contains unknown char/phoneme: [ß]. Original text: [Es steht vollig außer Frage, dass wir Sicherheit in Europa gemeinsam mit Russland wollen, nicht gegen Russland.]. Symbol will be skipped.\n"
     ]
    },
    {
     "name": "stdout",
     "output_type": "stream",
     "text": [
      "/github/datasets/openslr-95-german-neutral-tts/synmels_r3_149_difflen/test/mel_3472.npy\n",
      "/github/datasets/openslr-95-german-neutral-tts/synmels_r3_149_difflen/test/mel_3473.npy\n",
      "/github/datasets/openslr-95-german-neutral-tts/synmels_r3_149_difflen/test/mel_3474.npy\n",
      "/github/datasets/openslr-95-german-neutral-tts/synmels_r3_149_difflen/test/mel_3475.npy\n",
      "/github/datasets/openslr-95-german-neutral-tts/synmels_r3_149_difflen/test/mel_3476.npy\n",
      "/github/datasets/openslr-95-german-neutral-tts/synmels_r3_149_difflen/test/mel_3477.npy\n",
      "/github/datasets/openslr-95-german-neutral-tts/synmels_r3_149_difflen/test/mel_3478.npy\n",
      "/github/datasets/openslr-95-german-neutral-tts/synmels_r3_149_difflen/test/mel_3479.npy\n",
      "/github/datasets/openslr-95-german-neutral-tts/synmels_r3_149_difflen/test/mel_3480.npy\n"
     ]
    },
    {
     "name": "stderr",
     "output_type": "stream",
     "text": [
      "[NeMo W 2022-05-12 01:53:40 tts_tokenizers:351] Text: [da muss IH1CH WOW1L in DEH1N sauren AE1PFAH0L beißEH1N.] contains unknown char/phoneme: [ß]. Original text: [Da muss ich wohl in den sauren Apfel beißen.]. Symbol will be skipped.\n",
      "[NeMo W 2022-05-12 01:53:41 tts_tokenizers:351] Text: [DER1 heilige gral ist bloß AY1N bedeutungsloser KEH1LCH.] contains unknown char/phoneme: [ß]. Original text: [Der heilige Gral ist bloß ein bedeutungsloser Kelch.]. Symbol will be skipped.\n"
     ]
    },
    {
     "name": "stdout",
     "output_type": "stream",
     "text": [
      "/github/datasets/openslr-95-german-neutral-tts/synmels_r3_149_difflen/test/mel_3481.npy\n",
      "/github/datasets/openslr-95-german-neutral-tts/synmels_r3_149_difflen/test/mel_3482.npy\n",
      "/github/datasets/openslr-95-german-neutral-tts/synmels_r3_149_difflen/test/mel_3483.npy\n",
      "/github/datasets/openslr-95-german-neutral-tts/synmels_r3_149_difflen/test/mel_3484.npy\n",
      "/github/datasets/openslr-95-german-neutral-tts/synmels_r3_149_difflen/test/mel_3485.npy\n",
      "/github/datasets/openslr-95-german-neutral-tts/synmels_r3_149_difflen/test/mel_3486.npy\n",
      "/github/datasets/openslr-95-german-neutral-tts/synmels_r3_149_difflen/test/mel_3487.npy\n",
      "/github/datasets/openslr-95-german-neutral-tts/synmels_r3_149_difflen/test/mel_3488.npy\n",
      "/github/datasets/openslr-95-german-neutral-tts/synmels_r3_149_difflen/test/mel_3489.npy\n",
      "/github/datasets/openslr-95-german-neutral-tts/synmels_r3_149_difflen/test/mel_3490.npy\n",
      "/github/datasets/openslr-95-german-neutral-tts/synmels_r3_149_difflen/test/mel_3491.npy\n",
      "/github/datasets/openslr-95-german-neutral-tts/synmels_r3_149_difflen/test/mel_3492.npy\n",
      "/github/datasets/openslr-95-german-neutral-tts/synmels_r3_149_difflen/test/mel_3493.npy\n",
      "/github/datasets/openslr-95-german-neutral-tts/synmels_r3_149_difflen/test/mel_3494.npy\n",
      "/github/datasets/openslr-95-german-neutral-tts/synmels_r3_149_difflen/test/mel_3495.npy\n",
      "/github/datasets/openslr-95-german-neutral-tts/synmels_r3_149_difflen/test/mel_3496.npy\n",
      "/github/datasets/openslr-95-german-neutral-tts/synmels_r3_149_difflen/test/mel_3497.npy\n"
     ]
    },
    {
     "name": "stderr",
     "output_type": "stream",
     "text": [
      "[NeMo W 2022-05-12 01:53:41 tts_tokenizers:351] Text: [EY1BER0 WEY1ßTIY1 du, wer DEH1N STAY1N wirklich ins RAO1LAH0N gebracht HHAE1T?] contains unknown char/phoneme: [ß]. Original text: [Aber weißt du, wer den Stein wirklich ins Rollen gebracht hat?]. Symbol will be skipped.\n"
     ]
    },
    {
     "name": "stdout",
     "output_type": "stream",
     "text": [
      "/github/datasets/openslr-95-german-neutral-tts/synmels_r3_149_difflen/test/mel_3498.npy\n",
      "/github/datasets/openslr-95-german-neutral-tts/synmels_r3_149_difflen/test/mel_3499.npy\n",
      "/github/datasets/openslr-95-german-neutral-tts/synmels_r3_149_difflen/test/mel_3500.npy\n",
      "/github/datasets/openslr-95-german-neutral-tts/synmels_r3_149_difflen/test/mel_3501.npy\n",
      "/github/datasets/openslr-95-german-neutral-tts/synmels_r3_149_difflen/test/mel_3502.npy\n",
      "/github/datasets/openslr-95-german-neutral-tts/synmels_r3_149_difflen/test/mel_3503.npy\n",
      "/github/datasets/openslr-95-german-neutral-tts/synmels_r3_149_difflen/test/mel_3504.npy\n",
      "/github/datasets/openslr-95-german-neutral-tts/synmels_r3_149_difflen/test/mel_3505.npy\n",
      "/github/datasets/openslr-95-german-neutral-tts/synmels_r3_149_difflen/test/mel_3506.npy\n",
      "/github/datasets/openslr-95-german-neutral-tts/synmels_r3_149_difflen/test/mel_3507.npy\n",
      "/github/datasets/openslr-95-german-neutral-tts/synmels_r3_149_difflen/test/mel_3508.npy\n"
     ]
    },
    {
     "name": "stderr",
     "output_type": "stream",
     "text": [
      "[NeMo W 2022-05-12 01:53:41 tts_tokenizers:351] Text: [IH1CH habe gerade SPAA1ß am schreiben.] contains unknown char/phoneme: [ß]. Original text: [Ich habe gerade Spaß am Schreiben.]. Symbol will be skipped.\n",
      "[NeMo W 2022-05-12 01:53:41 tts_tokenizers:351] Text: [IH1CH finde, daruber haben wir uns bereits in ausreichendem MAA1ßIY1 DEH1N KAO1PF zerbrochen.] contains unknown char/phoneme: [ß]. Original text: [Ich finde, daruber haben wir uns bereits in ausreichendem Maße den Kopf zerbrochen.]. Symbol will be skipped.\n",
      "[NeMo W 2022-05-12 01:53:41 tts_tokenizers:351] Text: [nach dem zusammenstoß LAY1ß DER1 FAA1RER0 SAY1N moped genau SOW1 stehen.] contains unknown char/phoneme: [ß]. Original text: [Nach dem Zusammenstoß ließ der Fahrer sein Moped genau so stehen.]. Symbol will be skipped.\n",
      "[NeMo W 2022-05-12 01:53:41 tts_tokenizers:351] Text: [nach dem zusammenstoß LAY1ß DER1 FAA1RER0 SAY1N moped genau SOW1 stehen.] contains unknown char/phoneme: [ß]. Original text: [Nach dem Zusammenstoß ließ der Fahrer sein Moped genau so stehen.]. Symbol will be skipped.\n"
     ]
    },
    {
     "name": "stdout",
     "output_type": "stream",
     "text": [
      "/github/datasets/openslr-95-german-neutral-tts/synmels_r3_149_difflen/test/mel_3509.npy\n",
      "/github/datasets/openslr-95-german-neutral-tts/synmels_r3_149_difflen/test/mel_3510.npy\n",
      "/github/datasets/openslr-95-german-neutral-tts/synmels_r3_149_difflen/test/mel_3511.npy\n",
      "/github/datasets/openslr-95-german-neutral-tts/synmels_r3_149_difflen/test/mel_3512.npy\n",
      "/github/datasets/openslr-95-german-neutral-tts/synmels_r3_149_difflen/test/mel_3513.npy\n",
      "/github/datasets/openslr-95-german-neutral-tts/synmels_r3_149_difflen/test/mel_3514.npy\n",
      "/github/datasets/openslr-95-german-neutral-tts/synmels_r3_149_difflen/test/mel_3515.npy\n",
      "/github/datasets/openslr-95-german-neutral-tts/synmels_r3_149_difflen/test/mel_3516.npy\n",
      "/github/datasets/openslr-95-german-neutral-tts/synmels_r3_149_difflen/test/mel_3517.npy\n"
     ]
    },
    {
     "name": "stderr",
     "output_type": "stream",
     "text": [
      "[NeMo W 2022-05-12 01:53:41 tts_tokenizers:351] Text: [wenn sich ihre miezekatze noch einmal in MAY1NAH0N GAA1RTAH0N verirrt, werde IH1CH SIY1 erschießEH1N!] contains unknown char/phoneme: [ß]. Original text: [Wenn sich Ihre Miezekatze noch einmal in meinen Garten verirrt, werde ich sie erschießen!]. Symbol will be skipped.\n"
     ]
    },
    {
     "name": "stdout",
     "output_type": "stream",
     "text": [
      "/github/datasets/openslr-95-german-neutral-tts/synmels_r3_149_difflen/test/mel_3518.npy\n",
      "/github/datasets/openslr-95-german-neutral-tts/synmels_r3_149_difflen/test/mel_3519.npy\n",
      "/github/datasets/openslr-95-german-neutral-tts/synmels_r3_149_difflen/test/mel_3520.npy\n",
      "/github/datasets/openslr-95-german-neutral-tts/synmels_r3_149_difflen/test/mel_3521.npy\n",
      "/github/datasets/openslr-95-german-neutral-tts/synmels_r3_149_difflen/test/mel_3522.npy\n",
      "/github/datasets/openslr-95-german-neutral-tts/synmels_r3_149_difflen/test/mel_3523.npy\n",
      "/github/datasets/openslr-95-german-neutral-tts/synmels_r3_149_difflen/test/mel_3524.npy\n",
      "/github/datasets/openslr-95-german-neutral-tts/synmels_r3_149_difflen/test/mel_3525.npy\n",
      "/github/datasets/openslr-95-german-neutral-tts/synmels_r3_149_difflen/test/mel_3526.npy\n",
      "/github/datasets/openslr-95-german-neutral-tts/synmels_r3_149_difflen/test/mel_3527.npy\n",
      "/github/datasets/openslr-95-german-neutral-tts/synmels_r3_149_difflen/test/mel_3528.npy\n"
     ]
    },
    {
     "name": "stderr",
     "output_type": "stream",
     "text": [
      "[NeMo W 2022-05-12 01:53:42 tts_tokenizers:351] Text: [wie heißTIY1 DAY1 musik DER1 kronungzeremonie, wer komponierte SIY1 AH1ND wo wurde ER0 geboren?] contains unknown char/phoneme: [ß]. Original text: [Wie heißt die Musik der Kronungzeremonie, wer komponierte sie und wo wurde er geboren?]. Symbol will be skipped.\n",
      "[NeMo W 2022-05-12 01:53:42 tts_tokenizers:351] Text: [MAE1N WEY1ß nie hundertprozentig, ob MAE1N DEH1N anderen noch MAE1L sieht.] contains unknown char/phoneme: [ß]. Original text: [Man weiß nie hundertprozentig, ob man den anderen noch mal sieht.]. Symbol will be skipped.\n"
     ]
    },
    {
     "name": "stdout",
     "output_type": "stream",
     "text": [
      "/github/datasets/openslr-95-german-neutral-tts/synmels_r3_149_difflen/test/mel_3529.npy\n",
      "/github/datasets/openslr-95-german-neutral-tts/synmels_r3_149_difflen/test/mel_3530.npy\n",
      "/github/datasets/openslr-95-german-neutral-tts/synmels_r3_149_difflen/test/mel_3531.npy\n",
      "/github/datasets/openslr-95-german-neutral-tts/synmels_r3_149_difflen/test/mel_3532.npy\n",
      "/github/datasets/openslr-95-german-neutral-tts/synmels_r3_149_difflen/test/mel_3533.npy\n",
      "/github/datasets/openslr-95-german-neutral-tts/synmels_r3_149_difflen/test/mel_3534.npy\n",
      "/github/datasets/openslr-95-german-neutral-tts/synmels_r3_149_difflen/test/mel_3535.npy\n",
      "/github/datasets/openslr-95-german-neutral-tts/synmels_r3_149_difflen/test/mel_3536.npy\n",
      "/github/datasets/openslr-95-german-neutral-tts/synmels_r3_149_difflen/test/mel_3537.npy\n",
      "/github/datasets/openslr-95-german-neutral-tts/synmels_r3_149_difflen/test/mel_3538.npy\n"
     ]
    },
    {
     "name": "stderr",
     "output_type": "stream",
     "text": [
      "[NeMo W 2022-05-12 01:53:42 tts_tokenizers:351] Text: [SOW1 heißTIY1 das IH1M juristen-JHAA1RGAH0N.] contains unknown char/phoneme: [ß]. Original text: [So heißt das im Juristen-Jargon.]. Symbol will be skipped.\n",
      "[NeMo W 2022-05-12 01:53:42 tts_tokenizers:351] Text: [AE1LZ beamtin HHAE1T SIY1 OW1ßerdem einen SEH1R sicheren arbeitsplatz.] contains unknown char/phoneme: [ß]. Original text: [Als Beamtin hat sie außerdem einen sehr sicheren Arbeitsplatz.]. Symbol will be skipped.\n"
     ]
    },
    {
     "name": "stdout",
     "output_type": "stream",
     "text": [
      "/github/datasets/openslr-95-german-neutral-tts/synmels_r3_149_difflen/test/mel_3539.npy\n",
      "/github/datasets/openslr-95-german-neutral-tts/synmels_r3_149_difflen/test/mel_3540.npy\n",
      "/github/datasets/openslr-95-german-neutral-tts/synmels_r3_149_difflen/test/mel_3541.npy\n",
      "/github/datasets/openslr-95-german-neutral-tts/synmels_r3_149_difflen/test/mel_3542.npy\n",
      "/github/datasets/openslr-95-german-neutral-tts/synmels_r3_149_difflen/test/mel_3543.npy\n",
      "/github/datasets/openslr-95-german-neutral-tts/synmels_r3_149_difflen/test/mel_3544.npy\n",
      "/github/datasets/openslr-95-german-neutral-tts/synmels_r3_149_difflen/test/mel_3545.npy\n",
      "/github/datasets/openslr-95-german-neutral-tts/synmels_r3_149_difflen/test/mel_3546.npy\n",
      "/github/datasets/openslr-95-german-neutral-tts/synmels_r3_149_difflen/test/mel_3547.npy\n",
      "/github/datasets/openslr-95-german-neutral-tts/synmels_r3_149_difflen/test/mel_3548.npy\n"
     ]
    },
    {
     "name": "stderr",
     "output_type": "stream",
     "text": [
      "[NeMo W 2022-05-12 01:53:42 tts_tokenizers:351] Text: [wenn das ROW1T FAE1S nicht explodiert, wenn IH1CH darauf schießIY1, BIH1N IH1CH enttauscht.] contains unknown char/phoneme: [ß]. Original text: [Wenn das rote Fass nicht explodiert, wenn ich darauf schieße, bin ich enttauscht.]. Symbol will be skipped.\n"
     ]
    },
    {
     "name": "stdout",
     "output_type": "stream",
     "text": [
      "/github/datasets/openslr-95-german-neutral-tts/synmels_r3_149_difflen/test/mel_3549.npy\n",
      "/github/datasets/openslr-95-german-neutral-tts/synmels_r3_149_difflen/test/mel_3550.npy\n",
      "/github/datasets/openslr-95-german-neutral-tts/synmels_r3_149_difflen/test/mel_3551.npy\n",
      "/github/datasets/openslr-95-german-neutral-tts/synmels_r3_149_difflen/test/mel_3552.npy\n",
      "/github/datasets/openslr-95-german-neutral-tts/synmels_r3_149_difflen/test/mel_3553.npy\n",
      "/github/datasets/openslr-95-german-neutral-tts/synmels_r3_149_difflen/test/mel_3554.npy\n",
      "/github/datasets/openslr-95-german-neutral-tts/synmels_r3_149_difflen/test/mel_3555.npy\n",
      "/github/datasets/openslr-95-german-neutral-tts/synmels_r3_149_difflen/test/mel_3556.npy\n",
      "/github/datasets/openslr-95-german-neutral-tts/synmels_r3_149_difflen/test/mel_3557.npy\n",
      "/github/datasets/openslr-95-german-neutral-tts/synmels_r3_149_difflen/test/mel_3558.npy\n",
      "/github/datasets/openslr-95-german-neutral-tts/synmels_r3_149_difflen/test/mel_3559.npy\n",
      "/github/datasets/openslr-95-german-neutral-tts/synmels_r3_149_difflen/test/mel_3560.npy\n",
      "/github/datasets/openslr-95-german-neutral-tts/synmels_r3_149_difflen/test/mel_3561.npy\n",
      "/github/datasets/openslr-95-german-neutral-tts/synmels_r3_149_difflen/test/mel_3562.npy\n",
      "/github/datasets/openslr-95-german-neutral-tts/synmels_r3_149_difflen/test/mel_3563.npy\n",
      "/github/datasets/openslr-95-german-neutral-tts/synmels_r3_149_difflen/test/mel_3564.npy\n",
      "/github/datasets/openslr-95-german-neutral-tts/synmels_r3_149_difflen/test/mel_3565.npy\n",
      "/github/datasets/openslr-95-german-neutral-tts/synmels_r3_149_difflen/test/mel_3566.npy\n",
      "/github/datasets/openslr-95-german-neutral-tts/synmels_r3_149_difflen/test/mel_3567.npy\n",
      "/github/datasets/openslr-95-german-neutral-tts/synmels_r3_149_difflen/test/mel_3568.npy\n"
     ]
    },
    {
     "name": "stderr",
     "output_type": "stream",
     "text": [
      "[NeMo W 2022-05-12 01:53:42 tts_tokenizers:351] Text: [da kriegst du kein gehalt, bloß eine aufwandsentschadigung.] contains unknown char/phoneme: [ß]. Original text: [Da kriegst du kein Gehalt, bloß eine Aufwandsentschadigung.]. Symbol will be skipped.\n"
     ]
    },
    {
     "name": "stdout",
     "output_type": "stream",
     "text": [
      "/github/datasets/openslr-95-german-neutral-tts/synmels_r3_149_difflen/test/mel_3569.npy\n",
      "/github/datasets/openslr-95-german-neutral-tts/synmels_r3_149_difflen/test/mel_3570.npy\n",
      "/github/datasets/openslr-95-german-neutral-tts/synmels_r3_149_difflen/test/mel_3571.npy\n",
      "/github/datasets/openslr-95-german-neutral-tts/synmels_r3_149_difflen/test/mel_3572.npy\n",
      "/github/datasets/openslr-95-german-neutral-tts/synmels_r3_149_difflen/test/mel_3573.npy\n",
      "/github/datasets/openslr-95-german-neutral-tts/synmels_r3_149_difflen/test/mel_3574.npy\n",
      "/github/datasets/openslr-95-german-neutral-tts/synmels_r3_149_difflen/test/mel_3575.npy\n",
      "/github/datasets/openslr-95-german-neutral-tts/synmels_r3_149_difflen/test/mel_3576.npy\n",
      "/github/datasets/openslr-95-german-neutral-tts/synmels_r3_149_difflen/test/mel_3577.npy\n",
      "/github/datasets/openslr-95-german-neutral-tts/synmels_r3_149_difflen/test/mel_3578.npy\n"
     ]
    },
    {
     "name": "stderr",
     "output_type": "stream",
     "text": [
      "[NeMo W 2022-05-12 01:53:43 tts_tokenizers:351] Text: [DER1 SHLIY1ßzylinder ist definitiv kaputt AH1ND muss getauscht WER1DAH0N.] contains unknown char/phoneme: [ß]. Original text: [Der Schließzylinder ist definitiv kaputt und muss getauscht werden.]. Symbol will be skipped.\n",
      "[NeMo W 2022-05-12 01:53:43 tts_tokenizers:351] Text: [IH1CH WEY1ß, ihr habt bereits alle hande VAA1L zu tun.] contains unknown char/phoneme: [ß]. Original text: [Ich weiß, ihr habt bereits alle Hande voll zu tun.]. Symbol will be skipped.\n"
     ]
    },
    {
     "name": "stdout",
     "output_type": "stream",
     "text": [
      "/github/datasets/openslr-95-german-neutral-tts/synmels_r3_149_difflen/test/mel_3579.npy\n",
      "/github/datasets/openslr-95-german-neutral-tts/synmels_r3_149_difflen/test/mel_3580.npy\n",
      "/github/datasets/openslr-95-german-neutral-tts/synmels_r3_149_difflen/test/mel_3581.npy\n",
      "/github/datasets/openslr-95-german-neutral-tts/synmels_r3_149_difflen/test/mel_3582.npy\n",
      "/github/datasets/openslr-95-german-neutral-tts/synmels_r3_149_difflen/test/mel_3583.npy\n",
      "/github/datasets/openslr-95-german-neutral-tts/synmels_r3_149_difflen/test/mel_3584.npy\n",
      "/github/datasets/openslr-95-german-neutral-tts/synmels_r3_149_difflen/test/mel_3585.npy\n",
      "/github/datasets/openslr-95-german-neutral-tts/synmels_r3_149_difflen/test/mel_3586.npy\n",
      "/github/datasets/openslr-95-german-neutral-tts/synmels_r3_149_difflen/test/mel_3587.npy\n"
     ]
    },
    {
     "name": "stderr",
     "output_type": "stream",
     "text": [
      "[NeMo W 2022-05-12 01:53:43 tts_tokenizers:351] Text: [dadurch wird DAY1 linie VAO1N finanzmarktprodukt AH1ND direkter vermarktung durchbrochen AH1ND EH1S entsteht DAY1 – VAO1N MIH1R SHAA1N genannte – hohere transparenz.] contains unknown char/phoneme: [–]. Original text: [Dadurch wird die Linie von Finanzmarktprodukt und direkter Vermarktung durchbrochen und es entsteht die – von mir schon genannte – hohere Transparenz.]. Symbol will be skipped.\n",
      "[NeMo W 2022-05-12 01:53:43 tts_tokenizers:351] Text: [dadurch wird DAY1 linie VAO1N finanzmarktprodukt AH1ND direkter vermarktung durchbrochen AH1ND EH1S entsteht DAY1 – VAO1N MIH1R SHAA1N genannte – hohere transparenz.] contains unknown char/phoneme: [–]. Original text: [Dadurch wird die Linie von Finanzmarktprodukt und direkter Vermarktung durchbrochen und es entsteht die – von mir schon genannte – hohere Transparenz.]. Symbol will be skipped.\n",
      "[NeMo W 2022-05-12 01:53:43 tts_tokenizers:351] Text: [in DER1 anleitung heißTIY1 EH1S GAE1NZ lapidar, MAE1N SAA1L ihn mit einer zange herausziehen.] contains unknown char/phoneme: [ß]. Original text: [In der Anleitung heißt es ganz lapidar, man soll ihn mit einer Zange herausziehen.]. Symbol will be skipped.\n",
      "[NeMo W 2022-05-12 01:53:43 tts_tokenizers:351] Text: [MAE1N sieht, DAE1S eine MEH1NJH fleiß vonnoten WAO1R, AH1ND das sollte MAE1N honorieren.] contains unknown char/phoneme: [ß]. Original text: [Man sieht, dass eine Menge Fleiß vonnoten war, und das sollte man honorieren.]. Symbol will be skipped.\n",
      "[NeMo W 2022-05-12 01:53:43 tts_tokenizers:351] Text: [seitdem HHAE1T AH1NSER0 bufdi regelmaßig mit angstzustanden zu kampfen.] contains unknown char/phoneme: [ß]. Original text: [Seitdem hat unser Bufdi regelmaßig mit Angstzustanden zu kampfen.]. Symbol will be skipped.\n"
     ]
    },
    {
     "name": "stdout",
     "output_type": "stream",
     "text": [
      "/github/datasets/openslr-95-german-neutral-tts/synmels_r3_149_difflen/test/mel_3588.npy\n",
      "/github/datasets/openslr-95-german-neutral-tts/synmels_r3_149_difflen/test/mel_3589.npy\n",
      "/github/datasets/openslr-95-german-neutral-tts/synmels_r3_149_difflen/test/mel_3590.npy\n",
      "/github/datasets/openslr-95-german-neutral-tts/synmels_r3_149_difflen/test/mel_3591.npy\n",
      "/github/datasets/openslr-95-german-neutral-tts/synmels_r3_149_difflen/test/mel_3592.npy\n",
      "/github/datasets/openslr-95-german-neutral-tts/synmels_r3_149_difflen/test/mel_3593.npy\n",
      "/github/datasets/openslr-95-german-neutral-tts/synmels_r3_149_difflen/test/mel_3594.npy\n",
      "/github/datasets/openslr-95-german-neutral-tts/synmels_r3_149_difflen/test/mel_3595.npy\n"
     ]
    },
    {
     "name": "stderr",
     "output_type": "stream",
     "text": [
      "[NeMo W 2022-05-12 01:53:43 tts_tokenizers:351] Text: [wie konnen wir dafur SAO1RJH tragen, DAE1S jeder JHAH1NG MEH1NSH AO1CH wirklich eine ausbildungschance HHAE1T – AO1CH DAY1, DAY1 heute seit mehreren jahren danach suchen?] contains unknown char/phoneme: [–]. Original text: [Wie konnen wir dafur Sorge tragen, dass jeder junge Mensch auch wirklich eine Ausbildungschance hat – auch die, die heute seit mehreren Jahren danach suchen?]. Symbol will be skipped.\n"
     ]
    },
    {
     "name": "stdout",
     "output_type": "stream",
     "text": [
      "/github/datasets/openslr-95-german-neutral-tts/synmels_r3_149_difflen/test/mel_3596.npy\n",
      "/github/datasets/openslr-95-german-neutral-tts/synmels_r3_149_difflen/test/mel_3597.npy\n",
      "/github/datasets/openslr-95-german-neutral-tts/synmels_r3_149_difflen/test/mel_3598.npy\n",
      "/github/datasets/openslr-95-german-neutral-tts/synmels_r3_149_difflen/test/mel_3599.npy\n",
      "/github/datasets/openslr-95-german-neutral-tts/synmels_r3_149_difflen/test/mel_3600.npy\n",
      "/github/datasets/openslr-95-german-neutral-tts/synmels_r3_149_difflen/test/mel_3601.npy\n",
      "/github/datasets/openslr-95-german-neutral-tts/synmels_r3_149_difflen/test/mel_3602.npy\n",
      "/github/datasets/openslr-95-german-neutral-tts/synmels_r3_149_difflen/test/mel_3603.npy\n",
      "/github/datasets/openslr-95-german-neutral-tts/synmels_r3_149_difflen/test/mel_3604.npy\n",
      "/github/datasets/openslr-95-german-neutral-tts/synmels_r3_149_difflen/test/mel_3605.npy\n"
     ]
    },
    {
     "name": "stderr",
     "output_type": "stream",
     "text": [
      "[NeMo W 2022-05-12 01:53:43 tts_tokenizers:351] Text: [AY1N luftdurchlassiger untergrund, wie etwa AY1N GIH1TER0, KAE1N solche unglucke ganzlich ausschließEH1N.] contains unknown char/phoneme: [ß]. Original text: [Ein luftdurchlassiger Untergrund, wie etwa ein Gitter, kann solche Unglucke ganzlich ausschließen.]. Symbol will be skipped.\n"
     ]
    },
    {
     "name": "stdout",
     "output_type": "stream",
     "text": [
      "/github/datasets/openslr-95-german-neutral-tts/synmels_r3_149_difflen/test/mel_3606.npy\n",
      "/github/datasets/openslr-95-german-neutral-tts/synmels_r3_149_difflen/test/mel_3607.npy\n",
      "/github/datasets/openslr-95-german-neutral-tts/synmels_r3_149_difflen/test/mel_3608.npy\n",
      "/github/datasets/openslr-95-german-neutral-tts/synmels_r3_149_difflen/test/mel_3609.npy\n",
      "/github/datasets/openslr-95-german-neutral-tts/synmels_r3_149_difflen/test/mel_3610.npy\n",
      "/github/datasets/openslr-95-german-neutral-tts/synmels_r3_149_difflen/test/mel_3611.npy\n",
      "/github/datasets/openslr-95-german-neutral-tts/synmels_r3_149_difflen/test/mel_3612.npy\n",
      "/github/datasets/openslr-95-german-neutral-tts/synmels_r3_149_difflen/test/mel_3613.npy\n",
      "/github/datasets/openslr-95-german-neutral-tts/synmels_r3_149_difflen/test/mel_3614.npy\n",
      "/github/datasets/openslr-95-german-neutral-tts/synmels_r3_149_difflen/test/mel_3615.npy\n"
     ]
    },
    {
     "name": "stderr",
     "output_type": "stream",
     "text": [
      "[NeMo W 2022-05-12 01:53:44 tts_tokenizers:351] Text: [SHOW1 MAE1L, wie SHIH1K DEH1NIH0S kießLIH1NG IH1M sakko aussieht!] contains unknown char/phoneme: [ß]. Original text: [Schau mal, wie schick Dennis Kießling im Sakko aussieht!]. Symbol will be skipped.\n"
     ]
    },
    {
     "name": "stdout",
     "output_type": "stream",
     "text": [
      "/github/datasets/openslr-95-german-neutral-tts/synmels_r3_149_difflen/test/mel_3616.npy\n",
      "/github/datasets/openslr-95-german-neutral-tts/synmels_r3_149_difflen/test/mel_3617.npy\n",
      "/github/datasets/openslr-95-german-neutral-tts/synmels_r3_149_difflen/test/mel_3618.npy\n",
      "/github/datasets/openslr-95-german-neutral-tts/synmels_r3_149_difflen/test/mel_3619.npy\n",
      "/github/datasets/openslr-95-german-neutral-tts/synmels_r3_149_difflen/test/mel_3620.npy\n",
      "/github/datasets/openslr-95-german-neutral-tts/synmels_r3_149_difflen/test/mel_3621.npy\n",
      "/github/datasets/openslr-95-german-neutral-tts/synmels_r3_149_difflen/test/mel_3622.npy\n",
      "/github/datasets/openslr-95-german-neutral-tts/synmels_r3_149_difflen/test/mel_3623.npy\n",
      "/github/datasets/openslr-95-german-neutral-tts/synmels_r3_149_difflen/test/mel_3624.npy\n",
      "/github/datasets/openslr-95-german-neutral-tts/synmels_r3_149_difflen/test/mel_3625.npy\n"
     ]
    },
    {
     "name": "stderr",
     "output_type": "stream",
     "text": [
      "[NeMo W 2022-05-12 01:53:44 tts_tokenizers:351] Text: [AH1ND deshalb wunsche IH1CH MIH1R, DAE1S wir EH1S schaffen, IH1M rahmen unserer BIH1L­ dungsoffensive vielen jungen menschen DAY1 neugierde beizubringen, SIY1 zu erhalten AH1ND SIY1 zu entwickeln.] contains unknown char/phoneme: [­]. Original text: [Und deshalb wunsche ich mir, dass wir es schaffen, im Rahmen unserer Bil­ dungsoffensive vielen jungen Menschen die Neugierde beizubringen, sie zu erhalten und sie zu entwickeln.]. Symbol will be skipped.\n"
     ]
    },
    {
     "name": "stdout",
     "output_type": "stream",
     "text": [
      "/github/datasets/openslr-95-german-neutral-tts/synmels_r3_149_difflen/test/mel_3626.npy\n",
      "/github/datasets/openslr-95-german-neutral-tts/synmels_r3_149_difflen/test/mel_3627.npy\n",
      "/github/datasets/openslr-95-german-neutral-tts/synmels_r3_149_difflen/test/mel_3628.npy\n",
      "/github/datasets/openslr-95-german-neutral-tts/synmels_r3_149_difflen/test/mel_3629.npy\n",
      "/github/datasets/openslr-95-german-neutral-tts/synmels_r3_149_difflen/test/mel_3630.npy\n",
      "/github/datasets/openslr-95-german-neutral-tts/synmels_r3_149_difflen/test/mel_3631.npy\n",
      "/github/datasets/openslr-95-german-neutral-tts/synmels_r3_149_difflen/test/mel_3632.npy\n",
      "/github/datasets/openslr-95-german-neutral-tts/synmels_r3_149_difflen/test/mel_3633.npy\n",
      "/github/datasets/openslr-95-german-neutral-tts/synmels_r3_149_difflen/test/mel_3634.npy\n"
     ]
    },
    {
     "name": "stderr",
     "output_type": "stream",
     "text": [
      "[NeMo W 2022-05-12 01:53:44 tts_tokenizers:351] Text: [EY1BER0 nun wunsche IH1CH IH1NAH0N erst einmal gute stunden zu HHAW1S – etwas entspannung AH1ND RUW1HH AH1ND besinnliche gesprache mit ihren freunden, bekannten AH1ND angehorigen in DER1 familie.] contains unknown char/phoneme: [–]. Original text: [Aber nun wunsche ich Ihnen erst einmal gute Stunden zu Hause – etwas Entspannung und Ruhe und besinnliche Gesprache mit ihren Freunden, Bekannten und Angehorigen in der Familie.]. Symbol will be skipped.\n"
     ]
    },
    {
     "name": "stdout",
     "output_type": "stream",
     "text": [
      "/github/datasets/openslr-95-german-neutral-tts/synmels_r3_149_difflen/test/mel_3635.npy\n",
      "/github/datasets/openslr-95-german-neutral-tts/synmels_r3_149_difflen/test/mel_3636.npy\n",
      "/github/datasets/openslr-95-german-neutral-tts/synmels_r3_149_difflen/test/mel_3637.npy\n",
      "/github/datasets/openslr-95-german-neutral-tts/synmels_r3_149_difflen/test/mel_3638.npy\n",
      "/github/datasets/openslr-95-german-neutral-tts/synmels_r3_149_difflen/test/mel_3639.npy\n",
      "/github/datasets/openslr-95-german-neutral-tts/synmels_r3_149_difflen/test/mel_3640.npy\n",
      "/github/datasets/openslr-95-german-neutral-tts/synmels_r3_149_difflen/test/mel_3641.npy\n",
      "/github/datasets/openslr-95-german-neutral-tts/synmels_r3_149_difflen/test/mel_3642.npy\n",
      "/github/datasets/openslr-95-german-neutral-tts/synmels_r3_149_difflen/test/mel_3643.npy\n",
      "/github/datasets/openslr-95-german-neutral-tts/synmels_r3_149_difflen/test/mel_3644.npy\n",
      "/github/datasets/openslr-95-german-neutral-tts/synmels_r3_149_difflen/test/mel_3645.npy\n",
      "/github/datasets/openslr-95-german-neutral-tts/synmels_r3_149_difflen/test/mel_3646.npy\n",
      "/github/datasets/openslr-95-german-neutral-tts/synmels_r3_149_difflen/test/mel_3647.npy\n",
      "/github/datasets/openslr-95-german-neutral-tts/synmels_r3_149_difflen/test/mel_3648.npy\n",
      "/github/datasets/openslr-95-german-neutral-tts/synmels_r3_149_difflen/test/mel_3649.npy\n",
      "/github/datasets/openslr-95-german-neutral-tts/synmels_r3_149_difflen/test/mel_3650.npy\n",
      "/github/datasets/openslr-95-german-neutral-tts/synmels_r3_149_difflen/test/mel_3651.npy\n",
      "/github/datasets/openslr-95-german-neutral-tts/synmels_r3_149_difflen/test/mel_3652.npy\n",
      "/github/datasets/openslr-95-german-neutral-tts/synmels_r3_149_difflen/test/mel_3653.npy\n",
      "/github/datasets/openslr-95-german-neutral-tts/synmels_r3_149_difflen/test/mel_3654.npy\n",
      "/github/datasets/openslr-95-german-neutral-tts/synmels_r3_149_difflen/test/mel_3655.npy\n",
      "/github/datasets/openslr-95-german-neutral-tts/synmels_r3_149_difflen/test/mel_3656.npy\n",
      "/github/datasets/openslr-95-german-neutral-tts/synmels_r3_149_difflen/test/mel_3657.npy\n",
      "/github/datasets/openslr-95-german-neutral-tts/synmels_r3_149_difflen/test/mel_3658.npy\n",
      "/github/datasets/openslr-95-german-neutral-tts/synmels_r3_149_difflen/test/mel_3659.npy\n",
      "/github/datasets/openslr-95-german-neutral-tts/synmels_r3_149_difflen/test/mel_3660.npy\n",
      "/github/datasets/openslr-95-german-neutral-tts/synmels_r3_149_difflen/test/mel_3661.npy\n",
      "/github/datasets/openslr-95-german-neutral-tts/synmels_r3_149_difflen/test/mel_3662.npy\n",
      "/github/datasets/openslr-95-german-neutral-tts/synmels_r3_149_difflen/test/mel_3663.npy\n",
      "/github/datasets/openslr-95-german-neutral-tts/synmels_r3_149_difflen/test/mel_3664.npy\n",
      "/github/datasets/openslr-95-german-neutral-tts/synmels_r3_149_difflen/test/mel_3665.npy\n",
      "/github/datasets/openslr-95-german-neutral-tts/synmels_r3_149_difflen/test/mel_3666.npy\n",
      "/github/datasets/openslr-95-german-neutral-tts/synmels_r3_149_difflen/test/mel_3667.npy\n",
      "/github/datasets/openslr-95-german-neutral-tts/synmels_r3_149_difflen/test/mel_3668.npy\n",
      "/github/datasets/openslr-95-german-neutral-tts/synmels_r3_149_difflen/test/mel_3669.npy\n",
      "/github/datasets/openslr-95-german-neutral-tts/synmels_r3_149_difflen/test/mel_3670.npy\n",
      "/github/datasets/openslr-95-german-neutral-tts/synmels_r3_149_difflen/test/mel_3671.npy\n",
      "/github/datasets/openslr-95-german-neutral-tts/synmels_r3_149_difflen/test/mel_3672.npy\n",
      "/github/datasets/openslr-95-german-neutral-tts/synmels_r3_149_difflen/test/mel_3673.npy\n"
     ]
    },
    {
     "name": "stderr",
     "output_type": "stream",
     "text": [
      "[NeMo W 2022-05-12 01:53:45 tts_tokenizers:351] Text: [DAY1 lokalpresse WEY1ß sowieso nicht, woruber SIY1 berichten SAA1L.] contains unknown char/phoneme: [ß]. Original text: [Die Lokalpresse weiß sowieso nicht, woruber sie berichten soll.]. Symbol will be skipped.\n",
      "[NeMo W 2022-05-12 01:53:45 tts_tokenizers:351] Text: [bei DEH1N anderen WEY1ß DAY1 LIH1NGK HHAE1ND nicht, was DAY1 rechte TAH1T.] contains unknown char/phoneme: [ß]. Original text: [Bei den anderen weiß die linke Hand nicht, was die rechte tut.]. Symbol will be skipped.\n",
      "[NeMo W 2022-05-12 01:53:45 tts_tokenizers:351] Text: [danach in etwa GLAY1K GROW1ßIY1 STAH1K teilen AH1ND auf dem TEH1LER0 anrichten.] contains unknown char/phoneme: [ß]. Original text: [Danach in etwa gleich große Stucke teilen und auf dem Teller anrichten.]. Symbol will be skipped.\n"
     ]
    },
    {
     "name": "stdout",
     "output_type": "stream",
     "text": [
      "/github/datasets/openslr-95-german-neutral-tts/synmels_r3_149_difflen/test/mel_3674.npy\n",
      "/github/datasets/openslr-95-german-neutral-tts/synmels_r3_149_difflen/test/mel_3675.npy\n",
      "/github/datasets/openslr-95-german-neutral-tts/synmels_r3_149_difflen/test/mel_3676.npy\n",
      "/github/datasets/openslr-95-german-neutral-tts/synmels_r3_149_difflen/test/mel_3677.npy\n",
      "/github/datasets/openslr-95-german-neutral-tts/synmels_r3_149_difflen/test/mel_3678.npy\n",
      "/github/datasets/openslr-95-german-neutral-tts/synmels_r3_149_difflen/test/mel_3679.npy\n",
      "/github/datasets/openslr-95-german-neutral-tts/synmels_r3_149_difflen/test/mel_3680.npy\n",
      "/github/datasets/openslr-95-german-neutral-tts/synmels_r3_149_difflen/test/mel_3681.npy\n",
      "/github/datasets/openslr-95-german-neutral-tts/synmels_r3_149_difflen/test/mel_3682.npy\n",
      "/github/datasets/openslr-95-german-neutral-tts/synmels_r3_149_difflen/test/mel_3683.npy\n",
      "/github/datasets/openslr-95-german-neutral-tts/synmels_r3_149_difflen/test/mel_3684.npy\n",
      "/github/datasets/openslr-95-german-neutral-tts/synmels_r3_149_difflen/test/mel_3685.npy\n",
      "/github/datasets/openslr-95-german-neutral-tts/synmels_r3_149_difflen/test/mel_3686.npy\n",
      "/github/datasets/openslr-95-german-neutral-tts/synmels_r3_149_difflen/test/mel_3687.npy\n",
      "/github/datasets/openslr-95-german-neutral-tts/synmels_r3_149_difflen/test/mel_3688.npy\n",
      "/github/datasets/openslr-95-german-neutral-tts/synmels_r3_149_difflen/test/mel_3689.npy\n",
      "/github/datasets/openslr-95-german-neutral-tts/synmels_r3_149_difflen/test/mel_3690.npy\n",
      "/github/datasets/openslr-95-german-neutral-tts/synmels_r3_149_difflen/test/mel_3691.npy\n",
      "/github/datasets/openslr-95-german-neutral-tts/synmels_r3_149_difflen/test/mel_3692.npy\n",
      "/github/datasets/openslr-95-german-neutral-tts/synmels_r3_149_difflen/test/mel_3693.npy\n",
      "/github/datasets/openslr-95-german-neutral-tts/synmels_r3_149_difflen/test/mel_3694.npy\n",
      "/github/datasets/openslr-95-german-neutral-tts/synmels_r3_149_difflen/test/mel_3695.npy\n",
      "/github/datasets/openslr-95-german-neutral-tts/synmels_r3_149_difflen/test/mel_3696.npy\n",
      "/github/datasets/openslr-95-german-neutral-tts/synmels_r3_149_difflen/test/mel_3697.npy\n"
     ]
    },
    {
     "name": "stderr",
     "output_type": "stream",
     "text": [
      "[NeMo W 2022-05-12 01:53:45 tts_tokenizers:351] Text: [DAY1 STEY1BIH0L seitenlage gehort zu DEH1N lebensrettenden sofortmaßnahmen, DAY1 jeder beherrschen sollte.] contains unknown char/phoneme: [ß]. Original text: [Die stabile Seitenlage gehort zu den lebensrettenden Sofortmaßnahmen, die jeder beherrschen sollte.]. Symbol will be skipped.\n",
      "[NeMo W 2022-05-12 01:53:45 tts_tokenizers:351] Text: [das heißTIY1, wir wachsen AO1CH in dem sinne, DAE1S wir BEH1SER0 mit unseren naturlichen AH1ND mit unseren haushaltsressourcen umgehen.] contains unknown char/phoneme: [ß]. Original text: [Das heißt, wir wachsen auch in dem Sinne, dass wir besser mit unseren naturlichen und mit unseren Haushaltsressourcen umgehen.]. Symbol will be skipped.\n"
     ]
    },
    {
     "name": "stdout",
     "output_type": "stream",
     "text": [
      "/github/datasets/openslr-95-german-neutral-tts/synmels_r3_149_difflen/test/mel_3698.npy\n",
      "/github/datasets/openslr-95-german-neutral-tts/synmels_r3_149_difflen/test/mel_3699.npy\n",
      "/github/datasets/openslr-95-german-neutral-tts/synmels_r3_149_difflen/test/mel_3700.npy\n",
      "/github/datasets/openslr-95-german-neutral-tts/synmels_r3_149_difflen/test/mel_3701.npy\n",
      "/github/datasets/openslr-95-german-neutral-tts/synmels_r3_149_difflen/test/mel_3702.npy\n",
      "/github/datasets/openslr-95-german-neutral-tts/synmels_r3_149_difflen/test/mel_3703.npy\n",
      "/github/datasets/openslr-95-german-neutral-tts/synmels_r3_149_difflen/test/mel_3704.npy\n",
      "/github/datasets/openslr-95-german-neutral-tts/synmels_r3_149_difflen/test/mel_3705.npy\n",
      "/github/datasets/openslr-95-german-neutral-tts/synmels_r3_149_difflen/test/mel_3706.npy\n",
      "/github/datasets/openslr-95-german-neutral-tts/synmels_r3_149_difflen/test/mel_3707.npy\n",
      "/github/datasets/openslr-95-german-neutral-tts/synmels_r3_149_difflen/test/mel_3708.npy\n"
     ]
    },
    {
     "name": "stderr",
     "output_type": "stream",
     "text": [
      "[NeMo W 2022-05-12 01:53:45 tts_tokenizers:351] Text: [DAY1 strukturreformen – obwohl SIY1 schmerzlich SIH1ND – beginnen in DEH1N einzelnen landern zu wirken, zum beispiel in irland, in PAO1RCHAH0GAH0L, EY1BER0 AO1CH in griechenland AH1ND spanien.] contains unknown char/phoneme: [–]. Original text: [Die Strukturreformen – obwohl sie schmerzlich sind – beginnen in den einzelnen Landern zu wirken, zum Beispiel in Irland, in Portugal, aber auch in Griechenland und Spanien.]. Symbol will be skipped.\n",
      "[NeMo W 2022-05-12 01:53:45 tts_tokenizers:351] Text: [DAY1 strukturreformen – obwohl SIY1 schmerzlich SIH1ND – beginnen in DEH1N einzelnen landern zu wirken, zum beispiel in irland, in PAO1RCHAH0GAH0L, EY1BER0 AO1CH in griechenland AH1ND spanien.] contains unknown char/phoneme: [–]. Original text: [Die Strukturreformen – obwohl sie schmerzlich sind – beginnen in den einzelnen Landern zu wirken, zum Beispiel in Irland, in Portugal, aber auch in Griechenland und Spanien.]. Symbol will be skipped.\n"
     ]
    },
    {
     "name": "stdout",
     "output_type": "stream",
     "text": [
      "/github/datasets/openslr-95-german-neutral-tts/synmels_r3_149_difflen/test/mel_3709.npy\n",
      "/github/datasets/openslr-95-german-neutral-tts/synmels_r3_149_difflen/test/mel_3710.npy\n",
      "/github/datasets/openslr-95-german-neutral-tts/synmels_r3_149_difflen/test/mel_3711.npy\n",
      "/github/datasets/openslr-95-german-neutral-tts/synmels_r3_149_difflen/test/mel_3712.npy\n",
      "/github/datasets/openslr-95-german-neutral-tts/synmels_r3_149_difflen/test/mel_3713.npy\n",
      "/github/datasets/openslr-95-german-neutral-tts/synmels_r3_149_difflen/test/mel_3714.npy\n",
      "/github/datasets/openslr-95-german-neutral-tts/synmels_r3_149_difflen/test/mel_3715.npy\n",
      "/github/datasets/openslr-95-german-neutral-tts/synmels_r3_149_difflen/test/mel_3716.npy\n",
      "/github/datasets/openslr-95-german-neutral-tts/synmels_r3_149_difflen/test/mel_3717.npy\n"
     ]
    },
    {
     "name": "stderr",
     "output_type": "stream",
     "text": [
      "[NeMo W 2022-05-12 01:53:46 tts_tokenizers:351] Text: [bloß davon lauft DAY1 ZAY1T HHAO1LT AO1CH nicht ruckwarts.] contains unknown char/phoneme: [ß]. Original text: [Bloß davon lauft die Zeit halt auch nicht ruckwarts.]. Symbol will be skipped.\n"
     ]
    },
    {
     "name": "stdout",
     "output_type": "stream",
     "text": [
      "/github/datasets/openslr-95-german-neutral-tts/synmels_r3_149_difflen/test/mel_3718.npy\n",
      "/github/datasets/openslr-95-german-neutral-tts/synmels_r3_149_difflen/test/mel_3719.npy\n",
      "/github/datasets/openslr-95-german-neutral-tts/synmels_r3_149_difflen/test/mel_3720.npy\n",
      "/github/datasets/openslr-95-german-neutral-tts/synmels_r3_149_difflen/test/mel_3721.npy\n",
      "/github/datasets/openslr-95-german-neutral-tts/synmels_r3_149_difflen/test/mel_3722.npy\n",
      "/github/datasets/openslr-95-german-neutral-tts/synmels_r3_149_difflen/test/mel_3723.npy\n",
      "/github/datasets/openslr-95-german-neutral-tts/synmels_r3_149_difflen/test/mel_3724.npy\n",
      "/github/datasets/openslr-95-german-neutral-tts/synmels_r3_149_difflen/test/mel_3725.npy\n",
      "/github/datasets/openslr-95-german-neutral-tts/synmels_r3_149_difflen/test/mel_3726.npy\n",
      "/github/datasets/openslr-95-german-neutral-tts/synmels_r3_149_difflen/test/mel_3727.npy\n",
      "/github/datasets/openslr-95-german-neutral-tts/synmels_r3_149_difflen/test/mel_3728.npy\n",
      "/github/datasets/openslr-95-german-neutral-tts/synmels_r3_149_difflen/test/mel_3729.npy\n",
      "/github/datasets/openslr-95-german-neutral-tts/synmels_r3_149_difflen/test/mel_3730.npy\n",
      "/github/datasets/openslr-95-german-neutral-tts/synmels_r3_149_difflen/test/mel_3731.npy\n",
      "/github/datasets/openslr-95-german-neutral-tts/synmels_r3_149_difflen/test/mel_3732.npy\n",
      "/github/datasets/openslr-95-german-neutral-tts/synmels_r3_149_difflen/test/mel_3733.npy\n",
      "/github/datasets/openslr-95-german-neutral-tts/synmels_r3_149_difflen/test/mel_3734.npy\n",
      "/github/datasets/openslr-95-german-neutral-tts/synmels_r3_149_difflen/test/mel_3735.npy\n",
      "/github/datasets/openslr-95-german-neutral-tts/synmels_r3_149_difflen/test/mel_3736.npy\n",
      "/github/datasets/openslr-95-german-neutral-tts/synmels_r3_149_difflen/test/mel_3737.npy\n",
      "/github/datasets/openslr-95-german-neutral-tts/synmels_r3_149_difflen/test/mel_3738.npy\n",
      "/github/datasets/openslr-95-german-neutral-tts/synmels_r3_149_difflen/test/mel_3739.npy\n",
      "/github/datasets/openslr-95-german-neutral-tts/synmels_r3_149_difflen/test/mel_3740.npy\n",
      "/github/datasets/openslr-95-german-neutral-tts/synmels_r3_149_difflen/test/mel_3741.npy\n",
      "/github/datasets/openslr-95-german-neutral-tts/synmels_r3_149_difflen/test/mel_3742.npy\n",
      "/github/datasets/openslr-95-german-neutral-tts/synmels_r3_149_difflen/test/mel_3743.npy\n",
      "/github/datasets/openslr-95-german-neutral-tts/synmels_r3_149_difflen/test/mel_3744.npy\n",
      "/github/datasets/openslr-95-german-neutral-tts/synmels_r3_149_difflen/test/mel_3745.npy\n",
      "/github/datasets/openslr-95-german-neutral-tts/synmels_r3_149_difflen/test/mel_3746.npy\n",
      "/github/datasets/openslr-95-german-neutral-tts/synmels_r3_149_difflen/test/mel_3747.npy\n",
      "/github/datasets/openslr-95-german-neutral-tts/synmels_r3_149_difflen/test/mel_3748.npy\n",
      "/github/datasets/openslr-95-german-neutral-tts/synmels_r3_149_difflen/test/mel_3749.npy\n",
      "/github/datasets/openslr-95-german-neutral-tts/synmels_r3_149_difflen/test/mel_3750.npy\n",
      "/github/datasets/openslr-95-german-neutral-tts/synmels_r3_149_difflen/test/mel_3751.npy\n",
      "/github/datasets/openslr-95-german-neutral-tts/synmels_r3_149_difflen/test/mel_3752.npy\n",
      "/github/datasets/openslr-95-german-neutral-tts/synmels_r3_149_difflen/test/mel_3753.npy\n",
      "/github/datasets/openslr-95-german-neutral-tts/synmels_r3_149_difflen/test/mel_3754.npy\n"
     ]
    },
    {
     "name": "stderr",
     "output_type": "stream",
     "text": [
      "[NeMo W 2022-05-12 01:53:47 tts_tokenizers:351] Text: [DAY1 SPRIY1 durchfließTIY1 BER0LIH1N.] contains unknown char/phoneme: [ß]. Original text: [Die Spree durchfließt Berlin.]. Symbol will be skipped.\n",
      "[NeMo W 2022-05-12 01:53:47 tts_tokenizers:351] Text: [VIY1L grußIY1 AW1Z dem nicht GAE1NZ SOW1 anonymen IH1NTER0NEH2T.] contains unknown char/phoneme: [ß]. Original text: [Viele Gruße aus dem nicht ganz so anonymen Internet.]. Symbol will be skipped.\n"
     ]
    },
    {
     "name": "stdout",
     "output_type": "stream",
     "text": [
      "/github/datasets/openslr-95-german-neutral-tts/synmels_r3_149_difflen/test/mel_3755.npy\n",
      "/github/datasets/openslr-95-german-neutral-tts/synmels_r3_149_difflen/test/mel_3756.npy\n",
      "/github/datasets/openslr-95-german-neutral-tts/synmels_r3_149_difflen/test/mel_3757.npy\n",
      "/github/datasets/openslr-95-german-neutral-tts/synmels_r3_149_difflen/test/mel_3758.npy\n",
      "/github/datasets/openslr-95-german-neutral-tts/synmels_r3_149_difflen/test/mel_3759.npy\n",
      "/github/datasets/openslr-95-german-neutral-tts/synmels_r3_149_difflen/test/mel_3760.npy\n",
      "/github/datasets/openslr-95-german-neutral-tts/synmels_r3_149_difflen/test/mel_3761.npy\n",
      "/github/datasets/openslr-95-german-neutral-tts/synmels_r3_149_difflen/test/mel_3762.npy\n",
      "/github/datasets/openslr-95-german-neutral-tts/synmels_r3_149_difflen/test/mel_3763.npy\n",
      "/github/datasets/openslr-95-german-neutral-tts/synmels_r3_149_difflen/test/mel_3764.npy\n",
      "/github/datasets/openslr-95-german-neutral-tts/synmels_r3_149_difflen/test/mel_3765.npy\n",
      "/github/datasets/openslr-95-german-neutral-tts/synmels_r3_149_difflen/test/mel_3766.npy\n",
      "/github/datasets/openslr-95-german-neutral-tts/synmels_r3_149_difflen/test/mel_3767.npy\n",
      "/github/datasets/openslr-95-german-neutral-tts/synmels_r3_149_difflen/test/mel_3768.npy\n",
      "/github/datasets/openslr-95-german-neutral-tts/synmels_r3_149_difflen/test/mel_3769.npy\n"
     ]
    },
    {
     "name": "stderr",
     "output_type": "stream",
     "text": [
      "[NeMo W 2022-05-12 01:53:47 tts_tokenizers:351] Text: [das heißTIY1, EH1S WER1DAH0N MEH1R anglizismen verwendet, DAY1 geschwindigkeit DER1 ubernahme HHAE1T EY1BER0 abgenommen.] contains unknown char/phoneme: [ß]. Original text: [Das heißt, es werden mehr Anglizismen verwendet, die Geschwindigkeit der Ubernahme hat aber abgenommen.]. Symbol will be skipped.\n"
     ]
    },
    {
     "name": "stdout",
     "output_type": "stream",
     "text": [
      "/github/datasets/openslr-95-german-neutral-tts/synmels_r3_149_difflen/test/mel_3770.npy\n",
      "/github/datasets/openslr-95-german-neutral-tts/synmels_r3_149_difflen/test/mel_3771.npy\n",
      "/github/datasets/openslr-95-german-neutral-tts/synmels_r3_149_difflen/test/mel_3772.npy\n",
      "/github/datasets/openslr-95-german-neutral-tts/synmels_r3_149_difflen/test/mel_3773.npy\n",
      "/github/datasets/openslr-95-german-neutral-tts/synmels_r3_149_difflen/test/mel_3774.npy\n",
      "/github/datasets/openslr-95-german-neutral-tts/synmels_r3_149_difflen/test/mel_3775.npy\n",
      "/github/datasets/openslr-95-german-neutral-tts/synmels_r3_149_difflen/test/mel_3776.npy\n",
      "/github/datasets/openslr-95-german-neutral-tts/synmels_r3_149_difflen/test/mel_3777.npy\n",
      "/github/datasets/openslr-95-german-neutral-tts/synmels_r3_149_difflen/test/mel_3778.npy\n",
      "/github/datasets/openslr-95-german-neutral-tts/synmels_r3_149_difflen/test/mel_3779.npy\n",
      "/github/datasets/openslr-95-german-neutral-tts/synmels_r3_149_difflen/test/mel_3780.npy\n",
      "/github/datasets/openslr-95-german-neutral-tts/synmels_r3_149_difflen/test/mel_3781.npy\n",
      "/github/datasets/openslr-95-german-neutral-tts/synmels_r3_149_difflen/test/mel_3782.npy\n",
      "/github/datasets/openslr-95-german-neutral-tts/synmels_r3_149_difflen/test/mel_3783.npy\n",
      "/github/datasets/openslr-95-german-neutral-tts/synmels_r3_149_difflen/test/mel_3784.npy\n",
      "/github/datasets/openslr-95-german-neutral-tts/synmels_r3_149_difflen/test/mel_3785.npy\n",
      "/github/datasets/openslr-95-german-neutral-tts/synmels_r3_149_difflen/test/mel_3786.npy\n",
      "/github/datasets/openslr-95-german-neutral-tts/synmels_r3_149_difflen/test/mel_3787.npy\n",
      "/github/datasets/openslr-95-german-neutral-tts/synmels_r3_149_difflen/test/mel_3788.npy\n",
      "/github/datasets/openslr-95-german-neutral-tts/synmels_r3_149_difflen/test/mel_3789.npy\n",
      "/github/datasets/openslr-95-german-neutral-tts/synmels_r3_149_difflen/test/mel_3790.npy\n",
      "/github/datasets/openslr-95-german-neutral-tts/synmels_r3_149_difflen/test/mel_3791.npy\n",
      "/github/datasets/openslr-95-german-neutral-tts/synmels_r3_149_difflen/test/mel_3792.npy\n",
      "/github/datasets/openslr-95-german-neutral-tts/synmels_r3_149_difflen/test/mel_3793.npy\n",
      "/github/datasets/openslr-95-german-neutral-tts/synmels_r3_149_difflen/test/mel_3794.npy\n",
      "/github/datasets/openslr-95-german-neutral-tts/synmels_r3_149_difflen/test/mel_3795.npy\n",
      "/github/datasets/openslr-95-german-neutral-tts/synmels_r3_149_difflen/test/mel_3796.npy\n",
      "/github/datasets/openslr-95-german-neutral-tts/synmels_r3_149_difflen/test/mel_3797.npy\n",
      "/github/datasets/openslr-95-german-neutral-tts/synmels_r3_149_difflen/test/mel_3798.npy\n",
      "/github/datasets/openslr-95-german-neutral-tts/synmels_r3_149_difflen/test/mel_3799.npy\n",
      "/github/datasets/openslr-95-german-neutral-tts/synmels_r3_149_difflen/test/mel_3800.npy\n",
      "/github/datasets/openslr-95-german-neutral-tts/synmels_r3_149_difflen/test/mel_3801.npy\n"
     ]
    },
    {
     "name": "stderr",
     "output_type": "stream",
     "text": [
      "[NeMo W 2022-05-12 01:53:48 tts_tokenizers:351] Text: [MIY1N uberaus serioser zwischenhandler VAO1N DER1 straßIY1 berichtete MIH1R vom arger mit dem ZAA1L.] contains unknown char/phoneme: [ß]. Original text: [Mein uberaus serioser Zwischenhandler von der Straße berichtete mir vom Arger mit dem Zoll.]. Symbol will be skipped.\n"
     ]
    },
    {
     "name": "stdout",
     "output_type": "stream",
     "text": [
      "/github/datasets/openslr-95-german-neutral-tts/synmels_r3_149_difflen/test/mel_3802.npy\n",
      "/github/datasets/openslr-95-german-neutral-tts/synmels_r3_149_difflen/test/mel_3803.npy\n",
      "/github/datasets/openslr-95-german-neutral-tts/synmels_r3_149_difflen/test/mel_3804.npy\n",
      "/github/datasets/openslr-95-german-neutral-tts/synmels_r3_149_difflen/test/mel_3805.npy\n",
      "/github/datasets/openslr-95-german-neutral-tts/synmels_r3_149_difflen/test/mel_3806.npy\n",
      "/github/datasets/openslr-95-german-neutral-tts/synmels_r3_149_difflen/test/mel_3807.npy\n",
      "/github/datasets/openslr-95-german-neutral-tts/synmels_r3_149_difflen/test/mel_3808.npy\n"
     ]
    },
    {
     "name": "stderr",
     "output_type": "stream",
     "text": [
      "[NeMo W 2022-05-12 01:53:48 tts_tokenizers:351] Text: [AO1CH FUW1ßGAE1NGER0 zahlen meist nicht gerade zu DEH1N umsichtigsten verkehrsteilnehmern.] contains unknown char/phoneme: [ß]. Original text: [Auch Fußganger zahlen meist nicht gerade zu den umsichtigsten Verkehrsteilnehmern.]. Symbol will be skipped.\n"
     ]
    },
    {
     "name": "stdout",
     "output_type": "stream",
     "text": [
      "/github/datasets/openslr-95-german-neutral-tts/synmels_r3_149_difflen/test/mel_3809.npy\n",
      "/github/datasets/openslr-95-german-neutral-tts/synmels_r3_149_difflen/test/mel_3810.npy\n",
      "/github/datasets/openslr-95-german-neutral-tts/synmels_r3_149_difflen/test/mel_3811.npy\n",
      "/github/datasets/openslr-95-german-neutral-tts/synmels_r3_149_difflen/test/mel_3812.npy\n",
      "/github/datasets/openslr-95-german-neutral-tts/synmels_r3_149_difflen/test/mel_3813.npy\n",
      "/github/datasets/openslr-95-german-neutral-tts/synmels_r3_149_difflen/test/mel_3814.npy\n",
      "/github/datasets/openslr-95-german-neutral-tts/synmels_r3_149_difflen/test/mel_3815.npy\n",
      "/github/datasets/openslr-95-german-neutral-tts/synmels_r3_149_difflen/test/mel_3816.npy\n"
     ]
    },
    {
     "name": "stderr",
     "output_type": "stream",
     "text": [
      "[NeMo W 2022-05-12 01:53:48 tts_tokenizers:351] Text: [OW1ßerdem konnte EH1S HHAY1ER0 AH1ND da AY1N PAA1R graupelschauer geben.] contains unknown char/phoneme: [ß]. Original text: [Außerdem konnte es hier und da ein paar Graupelschauer geben.]. Symbol will be skipped.\n"
     ]
    },
    {
     "name": "stdout",
     "output_type": "stream",
     "text": [
      "/github/datasets/openslr-95-german-neutral-tts/synmels_r3_149_difflen/test/mel_3817.npy\n",
      "/github/datasets/openslr-95-german-neutral-tts/synmels_r3_149_difflen/test/mel_3818.npy\n",
      "/github/datasets/openslr-95-german-neutral-tts/synmels_r3_149_difflen/test/mel_3819.npy\n",
      "/github/datasets/openslr-95-german-neutral-tts/synmels_r3_149_difflen/test/mel_3820.npy\n",
      "/github/datasets/openslr-95-german-neutral-tts/synmels_r3_149_difflen/test/mel_3821.npy\n",
      "/github/datasets/openslr-95-german-neutral-tts/synmels_r3_149_difflen/test/mel_3822.npy\n",
      "/github/datasets/openslr-95-german-neutral-tts/synmels_r3_149_difflen/test/mel_3823.npy\n",
      "/github/datasets/openslr-95-german-neutral-tts/synmels_r3_149_difflen/test/mel_3824.npy\n",
      "/github/datasets/openslr-95-german-neutral-tts/synmels_r3_149_difflen/test/mel_3825.npy\n",
      "/github/datasets/openslr-95-german-neutral-tts/synmels_r3_149_difflen/test/mel_3826.npy\n",
      "/github/datasets/openslr-95-german-neutral-tts/synmels_r3_149_difflen/test/mel_3827.npy\n",
      "/github/datasets/openslr-95-german-neutral-tts/synmels_r3_149_difflen/test/mel_3828.npy\n",
      "/github/datasets/openslr-95-german-neutral-tts/synmels_r3_149_difflen/test/mel_3829.npy\n",
      "/github/datasets/openslr-95-german-neutral-tts/synmels_r3_149_difflen/test/mel_3830.npy\n",
      "/github/datasets/openslr-95-german-neutral-tts/synmels_r3_149_difflen/test/mel_3831.npy\n",
      "/github/datasets/openslr-95-german-neutral-tts/synmels_r3_149_difflen/test/mel_3832.npy\n",
      "/github/datasets/openslr-95-german-neutral-tts/synmels_r3_149_difflen/test/mel_3833.npy\n",
      "/github/datasets/openslr-95-german-neutral-tts/synmels_r3_149_difflen/test/mel_3834.npy\n",
      "/github/datasets/openslr-95-german-neutral-tts/synmels_r3_149_difflen/test/mel_3835.npy\n",
      "/github/datasets/openslr-95-german-neutral-tts/synmels_r3_149_difflen/test/mel_3836.npy\n",
      "/github/datasets/openslr-95-german-neutral-tts/synmels_r3_149_difflen/test/mel_3837.npy\n",
      "/github/datasets/openslr-95-german-neutral-tts/synmels_r3_149_difflen/test/mel_3838.npy\n",
      "/github/datasets/openslr-95-german-neutral-tts/synmels_r3_149_difflen/test/mel_3839.npy\n",
      "/github/datasets/openslr-95-german-neutral-tts/synmels_r3_149_difflen/test/mel_3840.npy\n",
      "/github/datasets/openslr-95-german-neutral-tts/synmels_r3_149_difflen/test/mel_3841.npy\n",
      "/github/datasets/openslr-95-german-neutral-tts/synmels_r3_149_difflen/test/mel_3842.npy\n",
      "/github/datasets/openslr-95-german-neutral-tts/synmels_r3_149_difflen/test/mel_3843.npy\n"
     ]
    },
    {
     "name": "stderr",
     "output_type": "stream",
     "text": [
      "[NeMo W 2022-05-12 01:53:49 tts_tokenizers:351] Text: [das ist vielleicht das GROW1ßTIY1 kompliment, das MAE1N unserem LAE1ND MAE1KAH0N KAE1N: DAE1S DAY1 KAY1NDER0 verfolgter HHAY1ER0 ohne furcht GROW1ß WER1DAH0N konnen.] contains unknown char/phoneme: [ß]. Original text: [Das ist vielleicht das großte Kompliment, das man unserem Land machen kann: dass die Kinder Verfolgter hier ohne Furcht groß werden konnen.]. Symbol will be skipped.\n",
      "[NeMo W 2022-05-12 01:53:49 tts_tokenizers:351] Text: [das ist vielleicht das GROW1ßTIY1 kompliment, das MAE1N unserem LAE1ND MAE1KAH0N KAE1N: DAE1S DAY1 KAY1NDER0 verfolgter HHAY1ER0 ohne furcht GROW1ß WER1DAH0N konnen.] contains unknown char/phoneme: [ß]. Original text: [Das ist vielleicht das großte Kompliment, das man unserem Land machen kann: dass die Kinder Verfolgter hier ohne Furcht groß werden konnen.]. Symbol will be skipped.\n",
      "[NeMo W 2022-05-12 01:53:49 tts_tokenizers:351] Text: [SAY1N konterfei wurde sogar in DAY1 MAW1ER0 des parteigebaudes gemeißelt.] contains unknown char/phoneme: [ß]. Original text: [Sein Konterfei wurde sogar in die Mauer des Parteigebaudes gemeißelt.]. Symbol will be skipped.\n"
     ]
    },
    {
     "name": "stdout",
     "output_type": "stream",
     "text": [
      "/github/datasets/openslr-95-german-neutral-tts/synmels_r3_149_difflen/test/mel_3844.npy\n",
      "/github/datasets/openslr-95-german-neutral-tts/synmels_r3_149_difflen/test/mel_3845.npy\n",
      "/github/datasets/openslr-95-german-neutral-tts/synmels_r3_149_difflen/test/mel_3846.npy\n",
      "/github/datasets/openslr-95-german-neutral-tts/synmels_r3_149_difflen/test/mel_3847.npy\n",
      "/github/datasets/openslr-95-german-neutral-tts/synmels_r3_149_difflen/test/mel_3848.npy\n",
      "/github/datasets/openslr-95-german-neutral-tts/synmels_r3_149_difflen/test/mel_3849.npy\n",
      "/github/datasets/openslr-95-german-neutral-tts/synmels_r3_149_difflen/test/mel_3850.npy\n",
      "/github/datasets/openslr-95-german-neutral-tts/synmels_r3_149_difflen/test/mel_3851.npy\n"
     ]
    },
    {
     "name": "stderr",
     "output_type": "stream",
     "text": [
      "[NeMo W 2022-05-12 01:53:49 tts_tokenizers:351] Text: [normalerweise ist ER0 kein angsthase, EY1BER0 AY1N KER1L dieser gestalt FLOW1ßTIY1 ihm respekt AY1N.] contains unknown char/phoneme: [ß]. Original text: [Normalerweise ist er kein Angsthase, aber ein Kerl dieser Gestalt floßte ihm Respekt ein.]. Symbol will be skipped.\n",
      "[NeMo W 2022-05-12 01:53:49 tts_tokenizers:351] Text: [WEY1ßTIY1 du wo MIY1N schlussel ist?] contains unknown char/phoneme: [ß]. Original text: [Weißt du wo mein Schlussel ist?]. Symbol will be skipped.\n"
     ]
    },
    {
     "name": "stdout",
     "output_type": "stream",
     "text": [
      "/github/datasets/openslr-95-german-neutral-tts/synmels_r3_149_difflen/test/mel_3852.npy\n",
      "/github/datasets/openslr-95-german-neutral-tts/synmels_r3_149_difflen/test/mel_3853.npy\n",
      "/github/datasets/openslr-95-german-neutral-tts/synmels_r3_149_difflen/test/mel_3854.npy\n",
      "/github/datasets/openslr-95-german-neutral-tts/synmels_r3_149_difflen/test/mel_3855.npy\n",
      "/github/datasets/openslr-95-german-neutral-tts/synmels_r3_149_difflen/test/mel_3856.npy\n",
      "/github/datasets/openslr-95-german-neutral-tts/synmels_r3_149_difflen/test/mel_3857.npy\n",
      "/github/datasets/openslr-95-german-neutral-tts/synmels_r3_149_difflen/test/mel_3858.npy\n",
      "/github/datasets/openslr-95-german-neutral-tts/synmels_r3_149_difflen/test/mel_3859.npy\n",
      "/github/datasets/openslr-95-german-neutral-tts/synmels_r3_149_difflen/test/mel_3860.npy\n"
     ]
    },
    {
     "name": "stderr",
     "output_type": "stream",
     "text": [
      "[NeMo W 2022-05-12 01:53:49 tts_tokenizers:351] Text: [VAA2LEH0NTIY1NAH0 WEY1ß jetzt, wie SIY1 alle ihre probleme losen wird.] contains unknown char/phoneme: [ß]. Original text: [Valentina weiß jetzt, wie sie alle ihre Probleme losen wird.]. Symbol will be skipped.\n"
     ]
    },
    {
     "name": "stdout",
     "output_type": "stream",
     "text": [
      "/github/datasets/openslr-95-german-neutral-tts/synmels_r3_149_difflen/test/mel_3861.npy\n",
      "/github/datasets/openslr-95-german-neutral-tts/synmels_r3_149_difflen/test/mel_3862.npy\n",
      "/github/datasets/openslr-95-german-neutral-tts/synmels_r3_149_difflen/test/mel_3863.npy\n",
      "/github/datasets/openslr-95-german-neutral-tts/synmels_r3_149_difflen/test/mel_3864.npy\n",
      "/github/datasets/openslr-95-german-neutral-tts/synmels_r3_149_difflen/test/mel_3865.npy\n",
      "/github/datasets/openslr-95-german-neutral-tts/synmels_r3_149_difflen/test/mel_3866.npy\n",
      "/github/datasets/openslr-95-german-neutral-tts/synmels_r3_149_difflen/test/mel_3867.npy\n",
      "/github/datasets/openslr-95-german-neutral-tts/synmels_r3_149_difflen/test/mel_3868.npy\n",
      "/github/datasets/openslr-95-german-neutral-tts/synmels_r3_149_difflen/test/mel_3869.npy\n",
      "/github/datasets/openslr-95-german-neutral-tts/synmels_r3_149_difflen/test/mel_3870.npy\n"
     ]
    },
    {
     "name": "stderr",
     "output_type": "stream",
     "text": [
      "[NeMo W 2022-05-12 01:53:50 tts_tokenizers:351] Text: [KIY1NER0 HHAE1T damit gerechnet, DAE1S DER1 aktienkurs SOW1 DER1CH DAY1 decke schießTIY1.] contains unknown char/phoneme: [ß]. Original text: [Keiner hat damit gerechnet, dass der Aktienkurs so durch die Decke schießt.]. Symbol will be skipped.\n"
     ]
    },
    {
     "name": "stdout",
     "output_type": "stream",
     "text": [
      "/github/datasets/openslr-95-german-neutral-tts/synmels_r3_149_difflen/test/mel_3871.npy\n",
      "/github/datasets/openslr-95-german-neutral-tts/synmels_r3_149_difflen/test/mel_3872.npy\n",
      "/github/datasets/openslr-95-german-neutral-tts/synmels_r3_149_difflen/test/mel_3873.npy\n",
      "/github/datasets/openslr-95-german-neutral-tts/synmels_r3_149_difflen/test/mel_3874.npy\n",
      "/github/datasets/openslr-95-german-neutral-tts/synmels_r3_149_difflen/test/mel_3875.npy\n",
      "/github/datasets/openslr-95-german-neutral-tts/synmels_r3_149_difflen/test/mel_3876.npy\n",
      "/github/datasets/openslr-95-german-neutral-tts/synmels_r3_149_difflen/test/mel_3877.npy\n",
      "/github/datasets/openslr-95-german-neutral-tts/synmels_r3_149_difflen/test/mel_3878.npy\n",
      "/github/datasets/openslr-95-german-neutral-tts/synmels_r3_149_difflen/test/mel_3879.npy\n"
     ]
    },
    {
     "name": "stderr",
     "output_type": "stream",
     "text": [
      "[NeMo W 2022-05-12 01:53:50 tts_tokenizers:351] Text: [DAY1ZIH0Z projekt WAO1R zur zusammenarbeit lateinamerikanischer nationalisten, geheimdienstler AH1ND antisemiten mit rechtsextremer stoßrichtung bestimmt.] contains unknown char/phoneme: [ß]. Original text: [Dieses Projekt war zur Zusammenarbeit lateinamerikanischer Nationalisten, Geheimdienstler und Antisemiten mit rechtsextremer Stoßrichtung bestimmt.]. Symbol will be skipped.\n"
     ]
    },
    {
     "name": "stdout",
     "output_type": "stream",
     "text": [
      "/github/datasets/openslr-95-german-neutral-tts/synmels_r3_149_difflen/test/mel_3880.npy\n",
      "/github/datasets/openslr-95-german-neutral-tts/synmels_r3_149_difflen/test/mel_3881.npy\n",
      "/github/datasets/openslr-95-german-neutral-tts/synmels_r3_149_difflen/test/mel_3882.npy\n",
      "/github/datasets/openslr-95-german-neutral-tts/synmels_r3_149_difflen/test/mel_3883.npy\n",
      "/github/datasets/openslr-95-german-neutral-tts/synmels_r3_149_difflen/test/mel_3884.npy\n",
      "/github/datasets/openslr-95-german-neutral-tts/synmels_r3_149_difflen/test/mel_3885.npy\n",
      "/github/datasets/openslr-95-german-neutral-tts/synmels_r3_149_difflen/test/mel_3886.npy\n",
      "/github/datasets/openslr-95-german-neutral-tts/synmels_r3_149_difflen/test/mel_3887.npy\n",
      "/github/datasets/openslr-95-german-neutral-tts/synmels_r3_149_difflen/test/mel_3888.npy\n",
      "/github/datasets/openslr-95-german-neutral-tts/synmels_r3_149_difflen/test/mel_3889.npy\n",
      "/github/datasets/openslr-95-german-neutral-tts/synmels_r3_149_difflen/test/mel_3890.npy\n",
      "/github/datasets/openslr-95-german-neutral-tts/synmels_r3_149_difflen/test/mel_3891.npy\n",
      "/github/datasets/openslr-95-german-neutral-tts/synmels_r3_149_difflen/test/mel_3892.npy\n",
      "/github/datasets/openslr-95-german-neutral-tts/synmels_r3_149_difflen/test/mel_3893.npy\n",
      "/github/datasets/openslr-95-german-neutral-tts/synmels_r3_149_difflen/test/mel_3894.npy\n",
      "/github/datasets/openslr-95-german-neutral-tts/synmels_r3_149_difflen/test/mel_3895.npy\n",
      "/github/datasets/openslr-95-german-neutral-tts/synmels_r3_149_difflen/test/mel_3896.npy\n",
      "/github/datasets/openslr-95-german-neutral-tts/synmels_r3_149_difflen/test/mel_3897.npy\n",
      "/github/datasets/openslr-95-german-neutral-tts/synmels_r3_149_difflen/test/mel_3898.npy\n",
      "/github/datasets/openslr-95-german-neutral-tts/synmels_r3_149_difflen/test/mel_3899.npy\n",
      "/github/datasets/openslr-95-german-neutral-tts/synmels_r3_149_difflen/test/mel_3900.npy\n",
      "/github/datasets/openslr-95-german-neutral-tts/synmels_r3_149_difflen/test/mel_3901.npy\n",
      "/github/datasets/openslr-95-german-neutral-tts/synmels_r3_149_difflen/test/mel_3902.npy\n",
      "/github/datasets/openslr-95-german-neutral-tts/synmels_r3_149_difflen/test/mel_3903.npy\n",
      "/github/datasets/openslr-95-german-neutral-tts/synmels_r3_149_difflen/test/mel_3904.npy\n",
      "/github/datasets/openslr-95-german-neutral-tts/synmels_r3_149_difflen/test/mel_3905.npy\n",
      "/github/datasets/openslr-95-german-neutral-tts/synmels_r3_149_difflen/test/mel_3906.npy\n",
      "/github/datasets/openslr-95-german-neutral-tts/synmels_r3_149_difflen/test/mel_3907.npy\n",
      "/github/datasets/openslr-95-german-neutral-tts/synmels_r3_149_difflen/test/mel_3908.npy\n"
     ]
    },
    {
     "name": "stderr",
     "output_type": "stream",
     "text": [
      "[NeMo W 2022-05-12 01:53:50 tts_tokenizers:351] Text: [offenbar wird DER1 veranstaltung GROW1ßIY1 wichtigkeit beigemessen.] contains unknown char/phoneme: [ß]. Original text: [Offenbar wird der Veranstaltung große Wichtigkeit beigemessen.]. Symbol will be skipped.\n"
     ]
    },
    {
     "name": "stdout",
     "output_type": "stream",
     "text": [
      "/github/datasets/openslr-95-german-neutral-tts/synmels_r3_149_difflen/test/mel_3909.npy\n",
      "/github/datasets/openslr-95-german-neutral-tts/synmels_r3_149_difflen/test/mel_3910.npy\n",
      "/github/datasets/openslr-95-german-neutral-tts/synmels_r3_149_difflen/test/mel_3911.npy\n",
      "/github/datasets/openslr-95-german-neutral-tts/synmels_r3_149_difflen/test/mel_3912.npy\n",
      "/github/datasets/openslr-95-german-neutral-tts/synmels_r3_149_difflen/test/mel_3913.npy\n",
      "/github/datasets/openslr-95-german-neutral-tts/synmels_r3_149_difflen/test/mel_3914.npy\n",
      "/github/datasets/openslr-95-german-neutral-tts/synmels_r3_149_difflen/test/mel_3915.npy\n",
      "/github/datasets/openslr-95-german-neutral-tts/synmels_r3_149_difflen/test/mel_3916.npy\n",
      "/github/datasets/openslr-95-german-neutral-tts/synmels_r3_149_difflen/test/mel_3917.npy\n",
      "/github/datasets/openslr-95-german-neutral-tts/synmels_r3_149_difflen/test/mel_3918.npy\n",
      "/github/datasets/openslr-95-german-neutral-tts/synmels_r3_149_difflen/test/mel_3919.npy\n"
     ]
    },
    {
     "name": "stderr",
     "output_type": "stream",
     "text": [
      "[NeMo W 2022-05-12 01:53:51 tts_tokenizers:351] Text: [bei jedem szenenwechsel SHLIY1ßTIY1 sich DER1 vorhang AH1ND dahinter wird hektisch umgebaut.] contains unknown char/phoneme: [ß]. Original text: [Bei jedem Szenenwechsel schließt sich der Vorhang und dahinter wird hektisch umgebaut.]. Symbol will be skipped.\n"
     ]
    },
    {
     "name": "stdout",
     "output_type": "stream",
     "text": [
      "/github/datasets/openslr-95-german-neutral-tts/synmels_r3_149_difflen/test/mel_3920.npy\n",
      "/github/datasets/openslr-95-german-neutral-tts/synmels_r3_149_difflen/test/mel_3921.npy\n",
      "/github/datasets/openslr-95-german-neutral-tts/synmels_r3_149_difflen/test/mel_3922.npy\n",
      "/github/datasets/openslr-95-german-neutral-tts/synmels_r3_149_difflen/test/mel_3923.npy\n",
      "/github/datasets/openslr-95-german-neutral-tts/synmels_r3_149_difflen/test/mel_3924.npy\n",
      "/github/datasets/openslr-95-german-neutral-tts/synmels_r3_149_difflen/test/mel_3925.npy\n",
      "/github/datasets/openslr-95-german-neutral-tts/synmels_r3_149_difflen/test/mel_3926.npy\n",
      "/github/datasets/openslr-95-german-neutral-tts/synmels_r3_149_difflen/test/mel_3927.npy\n",
      "/github/datasets/openslr-95-german-neutral-tts/synmels_r3_149_difflen/test/mel_3928.npy\n"
     ]
    },
    {
     "name": "stderr",
     "output_type": "stream",
     "text": [
      "[NeMo W 2022-05-12 01:53:51 tts_tokenizers:351] Text: [FEH1ST stampfte ER0 mit dem FUW1ß auf DEH1N BOW1DAH0N.] contains unknown char/phoneme: [ß]. Original text: [Fest stampfte er mit dem Fuß auf den Boden.]. Symbol will be skipped.\n"
     ]
    },
    {
     "name": "stdout",
     "output_type": "stream",
     "text": [
      "/github/datasets/openslr-95-german-neutral-tts/synmels_r3_149_difflen/test/mel_3929.npy\n",
      "/github/datasets/openslr-95-german-neutral-tts/synmels_r3_149_difflen/test/mel_3930.npy\n",
      "/github/datasets/openslr-95-german-neutral-tts/synmels_r3_149_difflen/test/mel_3931.npy\n",
      "/github/datasets/openslr-95-german-neutral-tts/synmels_r3_149_difflen/test/mel_3932.npy\n",
      "/github/datasets/openslr-95-german-neutral-tts/synmels_r3_149_difflen/test/mel_3933.npy\n",
      "/github/datasets/openslr-95-german-neutral-tts/synmels_r3_149_difflen/test/mel_3934.npy\n",
      "/github/datasets/openslr-95-german-neutral-tts/synmels_r3_149_difflen/test/mel_3935.npy\n",
      "/github/datasets/openslr-95-german-neutral-tts/synmels_r3_149_difflen/test/mel_3936.npy\n",
      "/github/datasets/openslr-95-german-neutral-tts/synmels_r3_149_difflen/test/mel_3937.npy\n",
      "/github/datasets/openslr-95-german-neutral-tts/synmels_r3_149_difflen/test/mel_3938.npy\n",
      "/github/datasets/openslr-95-german-neutral-tts/synmels_r3_149_difflen/test/mel_3939.npy\n",
      "/github/datasets/openslr-95-german-neutral-tts/synmels_r3_149_difflen/test/mel_3940.npy\n",
      "/github/datasets/openslr-95-german-neutral-tts/synmels_r3_149_difflen/test/mel_3941.npy\n",
      "/github/datasets/openslr-95-german-neutral-tts/synmels_r3_149_difflen/test/mel_3942.npy\n",
      "/github/datasets/openslr-95-german-neutral-tts/synmels_r3_149_difflen/test/mel_3943.npy\n",
      "/github/datasets/openslr-95-german-neutral-tts/synmels_r3_149_difflen/test/mel_3944.npy\n",
      "/github/datasets/openslr-95-german-neutral-tts/synmels_r3_149_difflen/test/mel_3945.npy\n",
      "/github/datasets/openslr-95-german-neutral-tts/synmels_r3_149_difflen/test/mel_3946.npy\n",
      "/github/datasets/openslr-95-german-neutral-tts/synmels_r3_149_difflen/test/mel_3947.npy\n",
      "/github/datasets/openslr-95-german-neutral-tts/synmels_r3_149_difflen/test/mel_3948.npy\n"
     ]
    },
    {
     "name": "stderr",
     "output_type": "stream",
     "text": [
      "[NeMo W 2022-05-12 01:53:51 tts_tokenizers:351] Text: [WEY1ß RAA2FAY0EH1L VAO1N dem geheimnis?] contains unknown char/phoneme: [ß]. Original text: [Weiß Rafael von dem Geheimnis?]. Symbol will be skipped.\n"
     ]
    },
    {
     "name": "stdout",
     "output_type": "stream",
     "text": [
      "/github/datasets/openslr-95-german-neutral-tts/synmels_r3_149_difflen/test/mel_3949.npy\n",
      "/github/datasets/openslr-95-german-neutral-tts/synmels_r3_149_difflen/test/mel_3950.npy\n",
      "/github/datasets/openslr-95-german-neutral-tts/synmels_r3_149_difflen/test/mel_3951.npy\n",
      "/github/datasets/openslr-95-german-neutral-tts/synmels_r3_149_difflen/test/mel_3952.npy\n",
      "/github/datasets/openslr-95-german-neutral-tts/synmels_r3_149_difflen/test/mel_3953.npy\n",
      "/github/datasets/openslr-95-german-neutral-tts/synmels_r3_149_difflen/test/mel_3954.npy\n",
      "/github/datasets/openslr-95-german-neutral-tts/synmels_r3_149_difflen/test/mel_3955.npy\n",
      "/github/datasets/openslr-95-german-neutral-tts/synmels_r3_149_difflen/test/mel_3956.npy\n",
      "/github/datasets/openslr-95-german-neutral-tts/synmels_r3_149_difflen/test/mel_3957.npy\n",
      "/github/datasets/openslr-95-german-neutral-tts/synmels_r3_149_difflen/test/mel_3958.npy\n",
      "/github/datasets/openslr-95-german-neutral-tts/synmels_r3_149_difflen/test/mel_3959.npy\n"
     ]
    },
    {
     "name": "stderr",
     "output_type": "stream",
     "text": [
      "[NeMo W 2022-05-12 01:53:51 tts_tokenizers:351] Text: [schweißgebadet wachte SIY1 auf.] contains unknown char/phoneme: [ß]. Original text: [Schweißgebadet wachte sie auf.]. Symbol will be skipped.\n"
     ]
    },
    {
     "name": "stdout",
     "output_type": "stream",
     "text": [
      "/github/datasets/openslr-95-german-neutral-tts/synmels_r3_149_difflen/test/mel_3960.npy\n",
      "/github/datasets/openslr-95-german-neutral-tts/synmels_r3_149_difflen/test/mel_3961.npy\n",
      "/github/datasets/openslr-95-german-neutral-tts/synmels_r3_149_difflen/test/mel_3962.npy\n",
      "/github/datasets/openslr-95-german-neutral-tts/synmels_r3_149_difflen/test/mel_3963.npy\n",
      "/github/datasets/openslr-95-german-neutral-tts/synmels_r3_149_difflen/test/mel_3964.npy\n",
      "/github/datasets/openslr-95-german-neutral-tts/synmels_r3_149_difflen/test/mel_3965.npy\n",
      "/github/datasets/openslr-95-german-neutral-tts/synmels_r3_149_difflen/test/mel_3966.npy\n",
      "/github/datasets/openslr-95-german-neutral-tts/synmels_r3_149_difflen/test/mel_3967.npy\n",
      "/github/datasets/openslr-95-german-neutral-tts/synmels_r3_149_difflen/test/mel_3968.npy\n",
      "/github/datasets/openslr-95-german-neutral-tts/synmels_r3_149_difflen/test/mel_3969.npy\n",
      "/github/datasets/openslr-95-german-neutral-tts/synmels_r3_149_difflen/test/mel_3970.npy\n",
      "/github/datasets/openslr-95-german-neutral-tts/synmels_r3_149_difflen/test/mel_3971.npy\n",
      "/github/datasets/openslr-95-german-neutral-tts/synmels_r3_149_difflen/test/mel_3972.npy\n",
      "/github/datasets/openslr-95-german-neutral-tts/synmels_r3_149_difflen/test/mel_3973.npy\n",
      "/github/datasets/openslr-95-german-neutral-tts/synmels_r3_149_difflen/test/mel_3974.npy\n",
      "/github/datasets/openslr-95-german-neutral-tts/synmels_r3_149_difflen/test/mel_3975.npy\n",
      "/github/datasets/openslr-95-german-neutral-tts/synmels_r3_149_difflen/test/mel_3976.npy\n",
      "/github/datasets/openslr-95-german-neutral-tts/synmels_r3_149_difflen/test/mel_3977.npy\n",
      "/github/datasets/openslr-95-german-neutral-tts/synmels_r3_149_difflen/test/mel_3978.npy\n",
      "/github/datasets/openslr-95-german-neutral-tts/synmels_r3_149_difflen/test/mel_3979.npy\n",
      "/github/datasets/openslr-95-german-neutral-tts/synmels_r3_149_difflen/test/mel_3980.npy\n",
      "/github/datasets/openslr-95-german-neutral-tts/synmels_r3_149_difflen/test/mel_3981.npy\n",
      "/github/datasets/openslr-95-german-neutral-tts/synmels_r3_149_difflen/test/mel_3982.npy\n",
      "/github/datasets/openslr-95-german-neutral-tts/synmels_r3_149_difflen/test/mel_3983.npy\n",
      "/github/datasets/openslr-95-german-neutral-tts/synmels_r3_149_difflen/test/mel_3984.npy\n",
      "/github/datasets/openslr-95-german-neutral-tts/synmels_r3_149_difflen/test/mel_3985.npy\n",
      "/github/datasets/openslr-95-german-neutral-tts/synmels_r3_149_difflen/test/mel_3986.npy\n",
      "/github/datasets/openslr-95-german-neutral-tts/synmels_r3_149_difflen/test/mel_3987.npy\n",
      "/github/datasets/openslr-95-german-neutral-tts/synmels_r3_149_difflen/test/mel_3988.npy\n",
      "/github/datasets/openslr-95-german-neutral-tts/synmels_r3_149_difflen/test/mel_3989.npy\n",
      "/github/datasets/openslr-95-german-neutral-tts/synmels_r3_149_difflen/test/mel_3990.npy\n",
      "/github/datasets/openslr-95-german-neutral-tts/synmels_r3_149_difflen/test/mel_3991.npy\n",
      "/github/datasets/openslr-95-german-neutral-tts/synmels_r3_149_difflen/test/mel_3992.npy\n",
      "/github/datasets/openslr-95-german-neutral-tts/synmels_r3_149_difflen/test/mel_3993.npy\n",
      "/github/datasets/openslr-95-german-neutral-tts/synmels_r3_149_difflen/test/mel_3994.npy\n",
      "/github/datasets/openslr-95-german-neutral-tts/synmels_r3_149_difflen/test/mel_3995.npy\n",
      "/github/datasets/openslr-95-german-neutral-tts/synmels_r3_149_difflen/test/mel_3996.npy\n",
      "/github/datasets/openslr-95-german-neutral-tts/synmels_r3_149_difflen/test/mel_3997.npy\n",
      "/github/datasets/openslr-95-german-neutral-tts/synmels_r3_149_difflen/test/mel_3998.npy\n",
      "/github/datasets/openslr-95-german-neutral-tts/synmels_r3_149_difflen/test/mel_3999.npy\n",
      "/github/datasets/openslr-95-german-neutral-tts/synmels_r3_149_difflen/test/mel_4000.npy\n",
      "/github/datasets/openslr-95-german-neutral-tts/synmels_r3_149_difflen/test/mel_4001.npy\n",
      "/github/datasets/openslr-95-german-neutral-tts/synmels_r3_149_difflen/test/mel_4002.npy\n",
      "/github/datasets/openslr-95-german-neutral-tts/synmels_r3_149_difflen/test/mel_4003.npy\n"
     ]
    },
    {
     "name": "stderr",
     "output_type": "stream",
     "text": [
      "[NeMo W 2022-05-12 01:53:53 tts_tokenizers:351] Text: [wer mit nachnamen rakete heißTIY1, sollte SEY1N tochter EH2RIY0AE1N nennen.] contains unknown char/phoneme: [ß]. Original text: [Wer mit Nachnamen Rakete heißt, sollte seine Tochter Ariane nennen.]. Symbol will be skipped.\n",
      "[NeMo W 2022-05-12 01:53:53 tts_tokenizers:351] Text: [WEY1ß,] contains unknown char/phoneme: [ß]. Original text: [weiß,]. Symbol will be skipped.\n",
      "[NeMo W 2022-05-12 01:53:53 tts_tokenizers:351] Text: [wie heißTIY1 DER1 bogenschutze mit DEH1N LAE1NGAH0N blonden haaren?] contains unknown char/phoneme: [ß]. Original text: [Wie heißt der Bogenschutze mit den langen blonden Haaren?]. Symbol will be skipped.\n"
     ]
    },
    {
     "name": "stdout",
     "output_type": "stream",
     "text": [
      "/github/datasets/openslr-95-german-neutral-tts/synmels_r3_149_difflen/test/mel_4004.npy\n",
      "/github/datasets/openslr-95-german-neutral-tts/synmels_r3_149_difflen/test/mel_4005.npy\n",
      "/github/datasets/openslr-95-german-neutral-tts/synmels_r3_149_difflen/test/mel_4006.npy\n",
      "/github/datasets/openslr-95-german-neutral-tts/synmels_r3_149_difflen/test/mel_4007.npy\n",
      "/github/datasets/openslr-95-german-neutral-tts/synmels_r3_149_difflen/test/mel_4008.npy\n",
      "/github/datasets/openslr-95-german-neutral-tts/synmels_r3_149_difflen/test/mel_4009.npy\n",
      "/github/datasets/openslr-95-german-neutral-tts/synmels_r3_149_difflen/test/mel_4010.npy\n",
      "/github/datasets/openslr-95-german-neutral-tts/synmels_r3_149_difflen/test/mel_4011.npy\n",
      "/github/datasets/openslr-95-german-neutral-tts/synmels_r3_149_difflen/test/mel_4012.npy\n",
      "/github/datasets/openslr-95-german-neutral-tts/synmels_r3_149_difflen/test/mel_4013.npy\n"
     ]
    },
    {
     "name": "stderr",
     "output_type": "stream",
     "text": [
      "[NeMo W 2022-05-12 01:53:53 tts_tokenizers:351] Text: [genaueres WEY1ß IH1CH dazu nicht.] contains unknown char/phoneme: [ß]. Original text: [Genaueres weiß ich dazu nicht.]. Symbol will be skipped.\n"
     ]
    },
    {
     "name": "stdout",
     "output_type": "stream",
     "text": [
      "/github/datasets/openslr-95-german-neutral-tts/synmels_r3_149_difflen/test/mel_4014.npy\n",
      "/github/datasets/openslr-95-german-neutral-tts/synmels_r3_149_difflen/test/mel_4015.npy\n",
      "/github/datasets/openslr-95-german-neutral-tts/synmels_r3_149_difflen/test/mel_4016.npy\n",
      "/github/datasets/openslr-95-german-neutral-tts/synmels_r3_149_difflen/test/mel_4017.npy\n",
      "/github/datasets/openslr-95-german-neutral-tts/synmels_r3_149_difflen/test/mel_4018.npy\n",
      "/github/datasets/openslr-95-german-neutral-tts/synmels_r3_149_difflen/test/mel_4019.npy\n",
      "/github/datasets/openslr-95-german-neutral-tts/synmels_r3_149_difflen/test/mel_4020.npy\n",
      "/github/datasets/openslr-95-german-neutral-tts/synmels_r3_149_difflen/test/mel_4021.npy\n",
      "/github/datasets/openslr-95-german-neutral-tts/synmels_r3_149_difflen/test/mel_4022.npy\n",
      "/github/datasets/openslr-95-german-neutral-tts/synmels_r3_149_difflen/test/mel_4023.npy\n",
      "/github/datasets/openslr-95-german-neutral-tts/synmels_r3_149_difflen/test/mel_4024.npy\n"
     ]
    },
    {
     "name": "stderr",
     "output_type": "stream",
     "text": [
      "[NeMo W 2022-05-12 01:53:53 tts_tokenizers:351] Text: [de­TEH1K­TAO1R] contains unknown char/phoneme: [­]. Original text: [De­tek­tor]. Symbol will be skipped.\n",
      "[NeMo W 2022-05-12 01:53:53 tts_tokenizers:351] Text: [de­TEH1K­TAO1R] contains unknown char/phoneme: [­]. Original text: [De­tek­tor]. Symbol will be skipped.\n"
     ]
    },
    {
     "name": "stdout",
     "output_type": "stream",
     "text": [
      "/github/datasets/openslr-95-german-neutral-tts/synmels_r3_149_difflen/test/mel_4025.npy\n",
      "/github/datasets/openslr-95-german-neutral-tts/synmels_r3_149_difflen/test/mel_4026.npy\n",
      "/github/datasets/openslr-95-german-neutral-tts/synmels_r3_149_difflen/test/mel_4027.npy\n",
      "/github/datasets/openslr-95-german-neutral-tts/synmels_r3_149_difflen/test/mel_4028.npy\n",
      "/github/datasets/openslr-95-german-neutral-tts/synmels_r3_149_difflen/test/mel_4029.npy\n",
      "/github/datasets/openslr-95-german-neutral-tts/synmels_r3_149_difflen/test/mel_4030.npy\n",
      "/github/datasets/openslr-95-german-neutral-tts/synmels_r3_149_difflen/test/mel_4031.npy\n",
      "/github/datasets/openslr-95-german-neutral-tts/synmels_r3_149_difflen/test/mel_4032.npy\n",
      "/github/datasets/openslr-95-german-neutral-tts/synmels_r3_149_difflen/test/mel_4033.npy\n",
      "/github/datasets/openslr-95-german-neutral-tts/synmels_r3_149_difflen/test/mel_4034.npy\n",
      "/github/datasets/openslr-95-german-neutral-tts/synmels_r3_149_difflen/test/mel_4035.npy\n",
      "/github/datasets/openslr-95-german-neutral-tts/synmels_r3_149_difflen/test/mel_4036.npy\n",
      "/github/datasets/openslr-95-german-neutral-tts/synmels_r3_149_difflen/test/mel_4037.npy\n",
      "/github/datasets/openslr-95-german-neutral-tts/synmels_r3_149_difflen/test/mel_4038.npy\n",
      "/github/datasets/openslr-95-german-neutral-tts/synmels_r3_149_difflen/test/mel_4039.npy\n",
      "/github/datasets/openslr-95-german-neutral-tts/synmels_r3_149_difflen/test/mel_4040.npy\n",
      "/github/datasets/openslr-95-german-neutral-tts/synmels_r3_149_difflen/test/mel_4041.npy\n",
      "/github/datasets/openslr-95-german-neutral-tts/synmels_r3_149_difflen/test/mel_4042.npy\n",
      "/github/datasets/openslr-95-german-neutral-tts/synmels_r3_149_difflen/test/mel_4043.npy\n",
      "/github/datasets/openslr-95-german-neutral-tts/synmels_r3_149_difflen/test/mel_4044.npy\n",
      "/github/datasets/openslr-95-german-neutral-tts/synmels_r3_149_difflen/test/mel_4045.npy\n",
      "/github/datasets/openslr-95-german-neutral-tts/synmels_r3_149_difflen/test/mel_4046.npy\n",
      "/github/datasets/openslr-95-german-neutral-tts/synmels_r3_149_difflen/test/mel_4047.npy\n",
      "/github/datasets/openslr-95-german-neutral-tts/synmels_r3_149_difflen/test/mel_4048.npy\n",
      "/github/datasets/openslr-95-german-neutral-tts/synmels_r3_149_difflen/test/mel_4049.npy\n",
      "/github/datasets/openslr-95-german-neutral-tts/synmels_r3_149_difflen/test/mel_4050.npy\n",
      "/github/datasets/openslr-95-german-neutral-tts/synmels_r3_149_difflen/test/mel_4051.npy\n",
      "/github/datasets/openslr-95-german-neutral-tts/synmels_r3_149_difflen/test/mel_4052.npy\n",
      "/github/datasets/openslr-95-german-neutral-tts/synmels_r3_149_difflen/test/mel_4053.npy\n",
      "/github/datasets/openslr-95-german-neutral-tts/synmels_r3_149_difflen/test/mel_4054.npy\n",
      "/github/datasets/openslr-95-german-neutral-tts/synmels_r3_149_difflen/test/mel_4055.npy\n",
      "/github/datasets/openslr-95-german-neutral-tts/synmels_r3_149_difflen/test/mel_4056.npy\n",
      "/github/datasets/openslr-95-german-neutral-tts/synmels_r3_149_difflen/test/mel_4057.npy\n",
      "/github/datasets/openslr-95-german-neutral-tts/synmels_r3_149_difflen/test/mel_4058.npy\n",
      "/github/datasets/openslr-95-german-neutral-tts/synmels_r3_149_difflen/test/mel_4059.npy\n",
      "/github/datasets/openslr-95-german-neutral-tts/synmels_r3_149_difflen/test/mel_4060.npy\n",
      "/github/datasets/openslr-95-german-neutral-tts/synmels_r3_149_difflen/test/mel_4061.npy\n",
      "/github/datasets/openslr-95-german-neutral-tts/synmels_r3_149_difflen/test/mel_4062.npy\n",
      "/github/datasets/openslr-95-german-neutral-tts/synmels_r3_149_difflen/test/mel_4063.npy\n",
      "/github/datasets/openslr-95-german-neutral-tts/synmels_r3_149_difflen/test/mel_4064.npy\n",
      "/github/datasets/openslr-95-german-neutral-tts/synmels_r3_149_difflen/test/mel_4065.npy\n",
      "/github/datasets/openslr-95-german-neutral-tts/synmels_r3_149_difflen/test/mel_4066.npy\n",
      "/github/datasets/openslr-95-german-neutral-tts/synmels_r3_149_difflen/test/mel_4067.npy\n",
      "/github/datasets/openslr-95-german-neutral-tts/synmels_r3_149_difflen/test/mel_4068.npy\n",
      "/github/datasets/openslr-95-german-neutral-tts/synmels_r3_149_difflen/test/mel_4069.npy\n",
      "/github/datasets/openslr-95-german-neutral-tts/synmels_r3_149_difflen/test/mel_4070.npy\n",
      "/github/datasets/openslr-95-german-neutral-tts/synmels_r3_149_difflen/test/mel_4071.npy\n",
      "/github/datasets/openslr-95-german-neutral-tts/synmels_r3_149_difflen/test/mel_4072.npy\n",
      "/github/datasets/openslr-95-german-neutral-tts/synmels_r3_149_difflen/test/mel_4073.npy\n",
      "/github/datasets/openslr-95-german-neutral-tts/synmels_r3_149_difflen/test/mel_4074.npy\n",
      "/github/datasets/openslr-95-german-neutral-tts/synmels_r3_149_difflen/test/mel_4075.npy\n",
      "/github/datasets/openslr-95-german-neutral-tts/synmels_r3_149_difflen/test/mel_4076.npy\n",
      "/github/datasets/openslr-95-german-neutral-tts/synmels_r3_149_difflen/test/mel_4077.npy\n"
     ]
    },
    {
     "name": "stderr",
     "output_type": "stream",
     "text": [
      "[NeMo W 2022-05-12 01:53:54 tts_tokenizers:351] Text: [kontinentales KLAY1MAH0 heißTIY1 kalte WIH1NTER0 AH1ND heißIY1 SAH1MER0.] contains unknown char/phoneme: [ß]. Original text: [Kontinentales Klima heißt kalte Winter und heiße Sommer.]. Symbol will be skipped.\n",
      "[NeMo W 2022-05-12 01:53:54 tts_tokenizers:351] Text: [kontinentales KLAY1MAH0 heißTIY1 kalte WIH1NTER0 AH1ND heißIY1 SAH1MER0.] contains unknown char/phoneme: [ß]. Original text: [Kontinentales Klima heißt kalte Winter und heiße Sommer.]. Symbol will be skipped.\n"
     ]
    },
    {
     "name": "stdout",
     "output_type": "stream",
     "text": [
      "/github/datasets/openslr-95-german-neutral-tts/synmels_r3_149_difflen/test/mel_4078.npy\n",
      "/github/datasets/openslr-95-german-neutral-tts/synmels_r3_149_difflen/test/mel_4079.npy\n",
      "/github/datasets/openslr-95-german-neutral-tts/synmels_r3_149_difflen/test/mel_4080.npy\n",
      "/github/datasets/openslr-95-german-neutral-tts/synmels_r3_149_difflen/test/mel_4081.npy\n",
      "/github/datasets/openslr-95-german-neutral-tts/synmels_r3_149_difflen/test/mel_4082.npy\n",
      "/github/datasets/openslr-95-german-neutral-tts/synmels_r3_149_difflen/test/mel_4083.npy\n",
      "/github/datasets/openslr-95-german-neutral-tts/synmels_r3_149_difflen/test/mel_4084.npy\n",
      "/github/datasets/openslr-95-german-neutral-tts/synmels_r3_149_difflen/test/mel_4085.npy\n",
      "/github/datasets/openslr-95-german-neutral-tts/synmels_r3_149_difflen/test/mel_4086.npy\n",
      "/github/datasets/openslr-95-german-neutral-tts/synmels_r3_149_difflen/test/mel_4087.npy\n",
      "/github/datasets/openslr-95-german-neutral-tts/synmels_r3_149_difflen/test/mel_4088.npy\n",
      "/github/datasets/openslr-95-german-neutral-tts/synmels_r3_149_difflen/test/mel_4089.npy\n",
      "/github/datasets/openslr-95-german-neutral-tts/synmels_r3_149_difflen/test/mel_4090.npy\n",
      "/github/datasets/openslr-95-german-neutral-tts/synmels_r3_149_difflen/test/mel_4091.npy\n",
      "/github/datasets/openslr-95-german-neutral-tts/synmels_r3_149_difflen/test/mel_4092.npy\n",
      "/github/datasets/openslr-95-german-neutral-tts/synmels_r3_149_difflen/test/mel_4093.npy\n",
      "/github/datasets/openslr-95-german-neutral-tts/synmels_r3_149_difflen/test/mel_4094.npy\n",
      "/github/datasets/openslr-95-german-neutral-tts/synmels_r3_149_difflen/test/mel_4095.npy\n",
      "/github/datasets/openslr-95-german-neutral-tts/synmels_r3_149_difflen/test/mel_4096.npy\n",
      "/github/datasets/openslr-95-german-neutral-tts/synmels_r3_149_difflen/test/mel_4097.npy\n",
      "/github/datasets/openslr-95-german-neutral-tts/synmels_r3_149_difflen/test/mel_4098.npy\n",
      "/github/datasets/openslr-95-german-neutral-tts/synmels_r3_149_difflen/test/mel_4099.npy\n",
      "/github/datasets/openslr-95-german-neutral-tts/synmels_r3_149_difflen/test/mel_4100.npy\n",
      "/github/datasets/openslr-95-german-neutral-tts/synmels_r3_149_difflen/test/mel_4101.npy\n",
      "/github/datasets/openslr-95-german-neutral-tts/synmels_r3_149_difflen/test/mel_4102.npy\n",
      "/github/datasets/openslr-95-german-neutral-tts/synmels_r3_149_difflen/test/mel_4103.npy\n",
      "/github/datasets/openslr-95-german-neutral-tts/synmels_r3_149_difflen/test/mel_4104.npy\n",
      "/github/datasets/openslr-95-german-neutral-tts/synmels_r3_149_difflen/test/mel_4105.npy\n",
      "/github/datasets/openslr-95-german-neutral-tts/synmels_r3_149_difflen/test/mel_4106.npy\n",
      "/github/datasets/openslr-95-german-neutral-tts/synmels_r3_149_difflen/test/mel_4107.npy\n",
      "/github/datasets/openslr-95-german-neutral-tts/synmels_r3_149_difflen/test/mel_4108.npy\n",
      "/github/datasets/openslr-95-german-neutral-tts/synmels_r3_149_difflen/test/mel_4109.npy\n"
     ]
    },
    {
     "name": "stderr",
     "output_type": "stream",
     "text": [
      "[NeMo W 2022-05-12 01:53:55 tts_tokenizers:351] Text: [DAY1 forderungen des betroffenen WEH1RAH0N VAO1N vornherein MAA1ßlos uberzogen.] contains unknown char/phoneme: [ß]. Original text: [Die Forderungen des Betroffenen waren von vornherein maßlos uberzogen.]. Symbol will be skipped.\n"
     ]
    },
    {
     "name": "stdout",
     "output_type": "stream",
     "text": [
      "/github/datasets/openslr-95-german-neutral-tts/synmels_r3_149_difflen/test/mel_4110.npy\n",
      "/github/datasets/openslr-95-german-neutral-tts/synmels_r3_149_difflen/test/mel_4111.npy\n",
      "/github/datasets/openslr-95-german-neutral-tts/synmels_r3_149_difflen/test/mel_4112.npy\n",
      "/github/datasets/openslr-95-german-neutral-tts/synmels_r3_149_difflen/test/mel_4113.npy\n",
      "/github/datasets/openslr-95-german-neutral-tts/synmels_r3_149_difflen/test/mel_4114.npy\n",
      "/github/datasets/openslr-95-german-neutral-tts/synmels_r3_149_difflen/test/mel_4115.npy\n",
      "/github/datasets/openslr-95-german-neutral-tts/synmels_r3_149_difflen/test/mel_4116.npy\n",
      "/github/datasets/openslr-95-german-neutral-tts/synmels_r3_149_difflen/test/mel_4117.npy\n",
      "/github/datasets/openslr-95-german-neutral-tts/synmels_r3_149_difflen/test/mel_4118.npy\n",
      "/github/datasets/openslr-95-german-neutral-tts/synmels_r3_149_difflen/test/mel_4119.npy\n"
     ]
    },
    {
     "name": "stderr",
     "output_type": "stream",
     "text": [
      "[NeMo W 2022-05-12 01:53:55 tts_tokenizers:351] Text: [MER0SEY1DIY0Z-STER1N SIH1ND AY1N zusatzliches verletzungsrisiko FER1 FUW1ßGAE1NGER0.] contains unknown char/phoneme: [ß]. Original text: [Mercedes-Sterne sind ein zusatzliches Verletzungsrisiko fur Fußganger.]. Symbol will be skipped.\n",
      "[NeMo W 2022-05-12 01:53:55 tts_tokenizers:351] Text: [SIY1 KAE1N ihn doch nicht SOW1 MIH1R nichts, dir nichts rausschmeißEH1N!] contains unknown char/phoneme: [ß]. Original text: [Sie kann ihn doch nicht so mir nichts, dir nichts rausschmeißen!]. Symbol will be skipped.\n"
     ]
    },
    {
     "name": "stdout",
     "output_type": "stream",
     "text": [
      "/github/datasets/openslr-95-german-neutral-tts/synmels_r3_149_difflen/test/mel_4120.npy\n",
      "/github/datasets/openslr-95-german-neutral-tts/synmels_r3_149_difflen/test/mel_4121.npy\n",
      "/github/datasets/openslr-95-german-neutral-tts/synmels_r3_149_difflen/test/mel_4122.npy\n",
      "/github/datasets/openslr-95-german-neutral-tts/synmels_r3_149_difflen/test/mel_4123.npy\n",
      "/github/datasets/openslr-95-german-neutral-tts/synmels_r3_149_difflen/test/mel_4124.npy\n",
      "/github/datasets/openslr-95-german-neutral-tts/synmels_r3_149_difflen/test/mel_4125.npy\n",
      "/github/datasets/openslr-95-german-neutral-tts/synmels_r3_149_difflen/test/mel_4126.npy\n",
      "/github/datasets/openslr-95-german-neutral-tts/synmels_r3_149_difflen/test/mel_4127.npy\n",
      "/github/datasets/openslr-95-german-neutral-tts/synmels_r3_149_difflen/test/mel_4128.npy\n",
      "/github/datasets/openslr-95-german-neutral-tts/synmels_r3_149_difflen/test/mel_4129.npy\n",
      "/github/datasets/openslr-95-german-neutral-tts/synmels_r3_149_difflen/test/mel_4130.npy\n",
      "/github/datasets/openslr-95-german-neutral-tts/synmels_r3_149_difflen/test/mel_4131.npy\n",
      "/github/datasets/openslr-95-german-neutral-tts/synmels_r3_149_difflen/test/mel_4132.npy\n",
      "/github/datasets/openslr-95-german-neutral-tts/synmels_r3_149_difflen/test/mel_4133.npy\n",
      "/github/datasets/openslr-95-german-neutral-tts/synmels_r3_149_difflen/test/mel_4134.npy\n",
      "/github/datasets/openslr-95-german-neutral-tts/synmels_r3_149_difflen/test/mel_4135.npy\n",
      "/github/datasets/openslr-95-german-neutral-tts/synmels_r3_149_difflen/test/mel_4136.npy\n",
      "/github/datasets/openslr-95-german-neutral-tts/synmels_r3_149_difflen/test/mel_4137.npy\n",
      "/github/datasets/openslr-95-german-neutral-tts/synmels_r3_149_difflen/test/mel_4138.npy\n",
      "/github/datasets/openslr-95-german-neutral-tts/synmels_r3_149_difflen/test/mel_4139.npy\n",
      "/github/datasets/openslr-95-german-neutral-tts/synmels_r3_149_difflen/test/mel_4140.npy\n",
      "/github/datasets/openslr-95-german-neutral-tts/synmels_r3_149_difflen/test/mel_4141.npy\n",
      "/github/datasets/openslr-95-german-neutral-tts/synmels_r3_149_difflen/test/mel_4142.npy\n",
      "/github/datasets/openslr-95-german-neutral-tts/synmels_r3_149_difflen/test/mel_4143.npy\n",
      "/github/datasets/openslr-95-german-neutral-tts/synmels_r3_149_difflen/test/mel_4144.npy\n",
      "/github/datasets/openslr-95-german-neutral-tts/synmels_r3_149_difflen/test/mel_4145.npy\n",
      "/github/datasets/openslr-95-german-neutral-tts/synmels_r3_149_difflen/test/mel_4146.npy\n",
      "/github/datasets/openslr-95-german-neutral-tts/synmels_r3_149_difflen/test/mel_4147.npy\n",
      "/github/datasets/openslr-95-german-neutral-tts/synmels_r3_149_difflen/test/mel_4148.npy\n",
      "/github/datasets/openslr-95-german-neutral-tts/synmels_r3_149_difflen/test/mel_4149.npy\n",
      "/github/datasets/openslr-95-german-neutral-tts/synmels_r3_149_difflen/test/mel_4150.npy\n",
      "/github/datasets/openslr-95-german-neutral-tts/synmels_r3_149_difflen/test/mel_4151.npy\n",
      "/github/datasets/openslr-95-german-neutral-tts/synmels_r3_149_difflen/test/mel_4152.npy\n",
      "/github/datasets/openslr-95-german-neutral-tts/synmels_r3_149_difflen/test/mel_4153.npy\n",
      "/github/datasets/openslr-95-german-neutral-tts/synmels_r3_149_difflen/test/mel_4154.npy\n",
      "/github/datasets/openslr-95-german-neutral-tts/synmels_r3_149_difflen/test/mel_4155.npy\n",
      "/github/datasets/openslr-95-german-neutral-tts/synmels_r3_149_difflen/test/mel_4156.npy\n",
      "/github/datasets/openslr-95-german-neutral-tts/synmels_r3_149_difflen/test/mel_4157.npy\n",
      "/github/datasets/openslr-95-german-neutral-tts/synmels_r3_149_difflen/test/mel_4158.npy\n",
      "/github/datasets/openslr-95-german-neutral-tts/synmels_r3_149_difflen/test/mel_4159.npy\n",
      "/github/datasets/openslr-95-german-neutral-tts/synmels_r3_149_difflen/test/mel_4160.npy\n",
      "/github/datasets/openslr-95-german-neutral-tts/synmels_r3_149_difflen/test/mel_4161.npy\n",
      "/github/datasets/openslr-95-german-neutral-tts/synmels_r3_149_difflen/test/mel_4162.npy\n",
      "/github/datasets/openslr-95-german-neutral-tts/synmels_r3_149_difflen/test/mel_4163.npy\n",
      "/github/datasets/openslr-95-german-neutral-tts/synmels_r3_149_difflen/test/mel_4164.npy\n",
      "/github/datasets/openslr-95-german-neutral-tts/synmels_r3_149_difflen/test/mel_4165.npy\n",
      "/github/datasets/openslr-95-german-neutral-tts/synmels_r3_149_difflen/test/mel_4166.npy\n",
      "/github/datasets/openslr-95-german-neutral-tts/synmels_r3_149_difflen/test/mel_4167.npy\n",
      "/github/datasets/openslr-95-german-neutral-tts/synmels_r3_149_difflen/test/mel_4168.npy\n",
      "/github/datasets/openslr-95-german-neutral-tts/synmels_r3_149_difflen/test/mel_4169.npy\n",
      "/github/datasets/openslr-95-german-neutral-tts/synmels_r3_149_difflen/test/mel_4170.npy\n",
      "/github/datasets/openslr-95-german-neutral-tts/synmels_r3_149_difflen/test/mel_4171.npy\n",
      "/github/datasets/openslr-95-german-neutral-tts/synmels_r3_149_difflen/test/mel_4172.npy\n",
      "/github/datasets/openslr-95-german-neutral-tts/synmels_r3_149_difflen/test/mel_4173.npy\n",
      "/github/datasets/openslr-95-german-neutral-tts/synmels_r3_149_difflen/test/mel_4174.npy\n",
      "/github/datasets/openslr-95-german-neutral-tts/synmels_r3_149_difflen/test/mel_4175.npy\n",
      "/github/datasets/openslr-95-german-neutral-tts/synmels_r3_149_difflen/test/mel_4176.npy\n",
      "/github/datasets/openslr-95-german-neutral-tts/synmels_r3_149_difflen/test/mel_4177.npy\n",
      "/github/datasets/openslr-95-german-neutral-tts/synmels_r3_149_difflen/test/mel_4178.npy\n",
      "/github/datasets/openslr-95-german-neutral-tts/synmels_r3_149_difflen/test/mel_4179.npy\n"
     ]
    },
    {
     "name": "stderr",
     "output_type": "stream",
     "text": [
      "[NeMo W 2022-05-12 01:53:56 tts_tokenizers:351] Text: [wir SIH1ND AO1CH dankbar FER1 DAY1 GROW1ßIY1 arbeit, DAY1 DER1 zentralrat DER1 juden leistet DER1 integration FER1 DAY1 menschen judischen glaubens, DAY1 zu uns AW1Z russland gekommen SIH1ND.] contains unknown char/phoneme: [ß]. Original text: [Wir sind auch dankbar fur die große Arbeit, die der Zentralrat der Juden leistet der Integration fur die Menschen judischen Glaubens, die zu uns aus Russland gekommen sind.]. Symbol will be skipped.\n"
     ]
    },
    {
     "name": "stdout",
     "output_type": "stream",
     "text": [
      "/github/datasets/openslr-95-german-neutral-tts/synmels_r3_149_difflen/test/mel_4180.npy\n",
      "/github/datasets/openslr-95-german-neutral-tts/synmels_r3_149_difflen/test/mel_4181.npy\n",
      "/github/datasets/openslr-95-german-neutral-tts/synmels_r3_149_difflen/test/mel_4182.npy\n",
      "/github/datasets/openslr-95-german-neutral-tts/synmels_r3_149_difflen/test/mel_4183.npy\n",
      "/github/datasets/openslr-95-german-neutral-tts/synmels_r3_149_difflen/test/mel_4184.npy\n",
      "/github/datasets/openslr-95-german-neutral-tts/synmels_r3_149_difflen/test/mel_4185.npy\n",
      "/github/datasets/openslr-95-german-neutral-tts/synmels_r3_149_difflen/test/mel_4186.npy\n",
      "/github/datasets/openslr-95-german-neutral-tts/synmels_r3_149_difflen/test/mel_4187.npy\n",
      "/github/datasets/openslr-95-german-neutral-tts/synmels_r3_149_difflen/test/mel_4188.npy\n",
      "/github/datasets/openslr-95-german-neutral-tts/synmels_r3_149_difflen/test/mel_4189.npy\n",
      "/github/datasets/openslr-95-german-neutral-tts/synmels_r3_149_difflen/test/mel_4190.npy\n",
      "/github/datasets/openslr-95-german-neutral-tts/synmels_r3_149_difflen/test/mel_4191.npy\n",
      "/github/datasets/openslr-95-german-neutral-tts/synmels_r3_149_difflen/test/mel_4192.npy\n",
      "/github/datasets/openslr-95-german-neutral-tts/synmels_r3_149_difflen/test/mel_4193.npy\n",
      "/github/datasets/openslr-95-german-neutral-tts/synmels_r3_149_difflen/test/mel_4194.npy\n",
      "/github/datasets/openslr-95-german-neutral-tts/synmels_r3_149_difflen/test/mel_4195.npy\n",
      "/github/datasets/openslr-95-german-neutral-tts/synmels_r3_149_difflen/test/mel_4196.npy\n",
      "/github/datasets/openslr-95-german-neutral-tts/synmels_r3_149_difflen/test/mel_4197.npy\n",
      "/github/datasets/openslr-95-german-neutral-tts/synmels_r3_149_difflen/test/mel_4198.npy\n",
      "/github/datasets/openslr-95-german-neutral-tts/synmels_r3_149_difflen/test/mel_4199.npy\n",
      "/github/datasets/openslr-95-german-neutral-tts/synmels_r3_149_difflen/test/mel_4200.npy\n",
      "/github/datasets/openslr-95-german-neutral-tts/synmels_r3_149_difflen/test/mel_4201.npy\n",
      "/github/datasets/openslr-95-german-neutral-tts/synmels_r3_149_difflen/test/mel_4202.npy\n",
      "/github/datasets/openslr-95-german-neutral-tts/synmels_r3_149_difflen/test/mel_4203.npy\n",
      "/github/datasets/openslr-95-german-neutral-tts/synmels_r3_149_difflen/test/mel_4204.npy\n",
      "/github/datasets/openslr-95-german-neutral-tts/synmels_r3_149_difflen/test/mel_4205.npy\n",
      "/github/datasets/openslr-95-german-neutral-tts/synmels_r3_149_difflen/test/mel_4206.npy\n",
      "/github/datasets/openslr-95-german-neutral-tts/synmels_r3_149_difflen/test/mel_4207.npy\n",
      "/github/datasets/openslr-95-german-neutral-tts/synmels_r3_149_difflen/test/mel_4208.npy\n",
      "/github/datasets/openslr-95-german-neutral-tts/synmels_r3_149_difflen/test/mel_4209.npy\n",
      "/github/datasets/openslr-95-german-neutral-tts/synmels_r3_149_difflen/test/mel_4210.npy\n"
     ]
    },
    {
     "name": "stderr",
     "output_type": "stream",
     "text": [
      "[NeMo W 2022-05-12 01:53:57 tts_tokenizers:351] Text: [MIY1N GAA1T ist DER1 GROW1ßTIY1!] contains unknown char/phoneme: [ß]. Original text: [Mein Gott ist der großte!]. Symbol will be skipped.\n"
     ]
    },
    {
     "name": "stdout",
     "output_type": "stream",
     "text": [
      "/github/datasets/openslr-95-german-neutral-tts/synmels_r3_149_difflen/test/mel_4211.npy\n",
      "/github/datasets/openslr-95-german-neutral-tts/synmels_r3_149_difflen/test/mel_4212.npy\n",
      "/github/datasets/openslr-95-german-neutral-tts/synmels_r3_149_difflen/test/mel_4213.npy\n",
      "/github/datasets/openslr-95-german-neutral-tts/synmels_r3_149_difflen/test/mel_4214.npy\n",
      "/github/datasets/openslr-95-german-neutral-tts/synmels_r3_149_difflen/test/mel_4215.npy\n",
      "/github/datasets/openslr-95-german-neutral-tts/synmels_r3_149_difflen/test/mel_4216.npy\n",
      "/github/datasets/openslr-95-german-neutral-tts/synmels_r3_149_difflen/test/mel_4217.npy\n",
      "/github/datasets/openslr-95-german-neutral-tts/synmels_r3_149_difflen/test/mel_4218.npy\n",
      "/github/datasets/openslr-95-german-neutral-tts/synmels_r3_149_difflen/test/mel_4219.npy\n",
      "/github/datasets/openslr-95-german-neutral-tts/synmels_r3_149_difflen/test/mel_4220.npy\n",
      "/github/datasets/openslr-95-german-neutral-tts/synmels_r3_149_difflen/test/mel_4221.npy\n",
      "/github/datasets/openslr-95-german-neutral-tts/synmels_r3_149_difflen/test/mel_4222.npy\n",
      "/github/datasets/openslr-95-german-neutral-tts/synmels_r3_149_difflen/test/mel_4223.npy\n",
      "/github/datasets/openslr-95-german-neutral-tts/synmels_r3_149_difflen/test/mel_4224.npy\n",
      "/github/datasets/openslr-95-german-neutral-tts/synmels_r3_149_difflen/test/mel_4225.npy\n",
      "/github/datasets/openslr-95-german-neutral-tts/synmels_r3_149_difflen/test/mel_4226.npy\n",
      "/github/datasets/openslr-95-german-neutral-tts/synmels_r3_149_difflen/test/mel_4227.npy\n",
      "/github/datasets/openslr-95-german-neutral-tts/synmels_r3_149_difflen/test/mel_4228.npy\n",
      "/github/datasets/openslr-95-german-neutral-tts/synmels_r3_149_difflen/test/mel_4229.npy\n",
      "/github/datasets/openslr-95-german-neutral-tts/synmels_r3_149_difflen/test/mel_4230.npy\n",
      "/github/datasets/openslr-95-german-neutral-tts/synmels_r3_149_difflen/test/mel_4231.npy\n"
     ]
    },
    {
     "name": "stderr",
     "output_type": "stream",
     "text": [
      "[NeMo W 2022-05-12 01:53:57 tts_tokenizers:351] Text: [EH1S ist SHLIY1ßLIH1CH NUH1R eine maschine!] contains unknown char/phoneme: [ß]. Original text: [Es ist schließlich nur eine Maschine!]. Symbol will be skipped.\n"
     ]
    },
    {
     "name": "stdout",
     "output_type": "stream",
     "text": [
      "/github/datasets/openslr-95-german-neutral-tts/synmels_r3_149_difflen/test/mel_4232.npy\n",
      "/github/datasets/openslr-95-german-neutral-tts/synmels_r3_149_difflen/test/mel_4233.npy\n",
      "/github/datasets/openslr-95-german-neutral-tts/synmels_r3_149_difflen/test/mel_4234.npy\n",
      "/github/datasets/openslr-95-german-neutral-tts/synmels_r3_149_difflen/test/mel_4235.npy\n",
      "/github/datasets/openslr-95-german-neutral-tts/synmels_r3_149_difflen/test/mel_4236.npy\n",
      "/github/datasets/openslr-95-german-neutral-tts/synmels_r3_149_difflen/test/mel_4237.npy\n",
      "/github/datasets/openslr-95-german-neutral-tts/synmels_r3_149_difflen/test/mel_4238.npy\n",
      "/github/datasets/openslr-95-german-neutral-tts/synmels_r3_149_difflen/test/mel_4239.npy\n",
      "/github/datasets/openslr-95-german-neutral-tts/synmels_r3_149_difflen/test/mel_4240.npy\n",
      "/github/datasets/openslr-95-german-neutral-tts/synmels_r3_149_difflen/test/mel_4241.npy\n"
     ]
    },
    {
     "name": "stderr",
     "output_type": "stream",
     "text": [
      "[NeMo W 2022-05-12 01:53:58 tts_tokenizers:351] Text: [OW1ßerdem lebte ER0 LAE1NG ZAY1T in paris.] contains unknown char/phoneme: [ß]. Original text: [Außerdem lebte er lange Zeit in Paris.]. Symbol will be skipped.\n"
     ]
    },
    {
     "name": "stdout",
     "output_type": "stream",
     "text": [
      "/github/datasets/openslr-95-german-neutral-tts/synmels_r3_149_difflen/test/mel_4242.npy\n",
      "/github/datasets/openslr-95-german-neutral-tts/synmels_r3_149_difflen/test/mel_4243.npy\n",
      "/github/datasets/openslr-95-german-neutral-tts/synmels_r3_149_difflen/test/mel_4244.npy\n",
      "/github/datasets/openslr-95-german-neutral-tts/synmels_r3_149_difflen/test/mel_4245.npy\n",
      "/github/datasets/openslr-95-german-neutral-tts/synmels_r3_149_difflen/test/mel_4246.npy\n",
      "/github/datasets/openslr-95-german-neutral-tts/synmels_r3_149_difflen/test/mel_4247.npy\n",
      "/github/datasets/openslr-95-german-neutral-tts/synmels_r3_149_difflen/test/mel_4248.npy\n",
      "/github/datasets/openslr-95-german-neutral-tts/synmels_r3_149_difflen/test/mel_4249.npy\n",
      "/github/datasets/openslr-95-german-neutral-tts/synmels_r3_149_difflen/test/mel_4250.npy\n",
      "/github/datasets/openslr-95-german-neutral-tts/synmels_r3_149_difflen/test/mel_4251.npy\n",
      "/github/datasets/openslr-95-german-neutral-tts/synmels_r3_149_difflen/test/mel_4252.npy\n",
      "/github/datasets/openslr-95-german-neutral-tts/synmels_r3_149_difflen/test/mel_4253.npy\n",
      "/github/datasets/openslr-95-german-neutral-tts/synmels_r3_149_difflen/test/mel_4254.npy\n",
      "/github/datasets/openslr-95-german-neutral-tts/synmels_r3_149_difflen/test/mel_4255.npy\n",
      "/github/datasets/openslr-95-german-neutral-tts/synmels_r3_149_difflen/test/mel_4256.npy\n",
      "/github/datasets/openslr-95-german-neutral-tts/synmels_r3_149_difflen/test/mel_4257.npy\n",
      "/github/datasets/openslr-95-german-neutral-tts/synmels_r3_149_difflen/test/mel_4258.npy\n",
      "/github/datasets/openslr-95-german-neutral-tts/synmels_r3_149_difflen/test/mel_4259.npy\n",
      "/github/datasets/openslr-95-german-neutral-tts/synmels_r3_149_difflen/test/mel_4260.npy\n",
      "/github/datasets/openslr-95-german-neutral-tts/synmels_r3_149_difflen/test/mel_4261.npy\n",
      "/github/datasets/openslr-95-german-neutral-tts/synmels_r3_149_difflen/test/mel_4262.npy\n",
      "/github/datasets/openslr-95-german-neutral-tts/synmels_r3_149_difflen/test/mel_4263.npy\n",
      "/github/datasets/openslr-95-german-neutral-tts/synmels_r3_149_difflen/test/mel_4264.npy\n",
      "/github/datasets/openslr-95-german-neutral-tts/synmels_r3_149_difflen/test/mel_4265.npy\n",
      "/github/datasets/openslr-95-german-neutral-tts/synmels_r3_149_difflen/test/mel_4266.npy\n",
      "/github/datasets/openslr-95-german-neutral-tts/synmels_r3_149_difflen/test/mel_4267.npy\n",
      "/github/datasets/openslr-95-german-neutral-tts/synmels_r3_149_difflen/test/mel_4268.npy\n",
      "/github/datasets/openslr-95-german-neutral-tts/synmels_r3_149_difflen/test/mel_4269.npy\n",
      "/github/datasets/openslr-95-german-neutral-tts/synmels_r3_149_difflen/test/mel_4270.npy\n",
      "/github/datasets/openslr-95-german-neutral-tts/synmels_r3_149_difflen/test/mel_4271.npy\n",
      "/github/datasets/openslr-95-german-neutral-tts/synmels_r3_149_difflen/test/mel_4272.npy\n",
      "/github/datasets/openslr-95-german-neutral-tts/synmels_r3_149_difflen/test/mel_4273.npy\n",
      "/github/datasets/openslr-95-german-neutral-tts/synmels_r3_149_difflen/test/mel_4274.npy\n"
     ]
    },
    {
     "name": "stderr",
     "output_type": "stream",
     "text": [
      "[NeMo W 2022-05-12 01:53:58 tts_tokenizers:351] Text: [OW1ßER0 dem unkraut naturlich, das wachst.] contains unknown char/phoneme: [ß]. Original text: [Außer dem Unkraut naturlich, das wachst.]. Symbol will be skipped.\n",
      "[NeMo W 2022-05-12 01:53:58 tts_tokenizers:351] Text: [dadurch WER1DAH0N ballungsraume immer GROW1ßER0.] contains unknown char/phoneme: [ß]. Original text: [Dadurch werden Ballungsraume immer großer.]. Symbol will be skipped.\n"
     ]
    },
    {
     "name": "stdout",
     "output_type": "stream",
     "text": [
      "/github/datasets/openslr-95-german-neutral-tts/synmels_r3_149_difflen/test/mel_4275.npy\n",
      "/github/datasets/openslr-95-german-neutral-tts/synmels_r3_149_difflen/test/mel_4276.npy\n",
      "/github/datasets/openslr-95-german-neutral-tts/synmels_r3_149_difflen/test/mel_4277.npy\n",
      "/github/datasets/openslr-95-german-neutral-tts/synmels_r3_149_difflen/test/mel_4278.npy\n",
      "/github/datasets/openslr-95-german-neutral-tts/synmels_r3_149_difflen/test/mel_4279.npy\n",
      "/github/datasets/openslr-95-german-neutral-tts/synmels_r3_149_difflen/test/mel_4280.npy\n",
      "/github/datasets/openslr-95-german-neutral-tts/synmels_r3_149_difflen/test/mel_4281.npy\n",
      "/github/datasets/openslr-95-german-neutral-tts/synmels_r3_149_difflen/test/mel_4282.npy\n",
      "/github/datasets/openslr-95-german-neutral-tts/synmels_r3_149_difflen/test/mel_4283.npy\n",
      "/github/datasets/openslr-95-german-neutral-tts/synmels_r3_149_difflen/test/mel_4284.npy\n"
     ]
    },
    {
     "name": "stderr",
     "output_type": "stream",
     "text": [
      "[NeMo W 2022-05-12 01:53:58 tts_tokenizers:351] Text: [an DER1 sudspitze befindet sich DER1 GROW1ßIY1 leuchtturm boroan.] contains unknown char/phoneme: [ß]. Original text: [An der Sudspitze befindet sich der große Leuchtturm Boroan.]. Symbol will be skipped.\n",
      "[NeMo W 2022-05-12 01:53:58 tts_tokenizers:351] Text: [OW1ßerdem HHAE1T SIY1 AY1N flaschchen KAO1RN dabei.] contains unknown char/phoneme: [ß]. Original text: [Außerdem hat sie ein Flaschchen Korn dabei.]. Symbol will be skipped.\n"
     ]
    },
    {
     "name": "stdout",
     "output_type": "stream",
     "text": [
      "/github/datasets/openslr-95-german-neutral-tts/synmels_r3_149_difflen/test/mel_4285.npy\n",
      "/github/datasets/openslr-95-german-neutral-tts/synmels_r3_149_difflen/test/mel_4286.npy\n",
      "/github/datasets/openslr-95-german-neutral-tts/synmels_r3_149_difflen/test/mel_4287.npy\n",
      "/github/datasets/openslr-95-german-neutral-tts/synmels_r3_149_difflen/test/mel_4288.npy\n",
      "/github/datasets/openslr-95-german-neutral-tts/synmels_r3_149_difflen/test/mel_4289.npy\n",
      "/github/datasets/openslr-95-german-neutral-tts/synmels_r3_149_difflen/test/mel_4290.npy\n",
      "/github/datasets/openslr-95-german-neutral-tts/synmels_r3_149_difflen/test/mel_4291.npy\n",
      "/github/datasets/openslr-95-german-neutral-tts/synmels_r3_149_difflen/test/mel_4292.npy\n",
      "/github/datasets/openslr-95-german-neutral-tts/synmels_r3_149_difflen/test/mel_4293.npy\n",
      "/github/datasets/openslr-95-german-neutral-tts/synmels_r3_149_difflen/test/mel_4294.npy\n"
     ]
    },
    {
     "name": "stderr",
     "output_type": "stream",
     "text": [
      "[NeMo W 2022-05-12 01:53:59 tts_tokenizers:351] Text: [GLEH1N GEH1RIH0NG garantiert gasten GROW1ßartige gummistiefel.] contains unknown char/phoneme: [ß]. Original text: [Glenn Gehring garantiert Gasten großartige Gummistiefel.]. Symbol will be skipped.\n"
     ]
    },
    {
     "name": "stdout",
     "output_type": "stream",
     "text": [
      "/github/datasets/openslr-95-german-neutral-tts/synmels_r3_149_difflen/test/mel_4295.npy\n",
      "/github/datasets/openslr-95-german-neutral-tts/synmels_r3_149_difflen/test/mel_4296.npy\n",
      "/github/datasets/openslr-95-german-neutral-tts/synmels_r3_149_difflen/test/mel_4297.npy\n",
      "/github/datasets/openslr-95-german-neutral-tts/synmels_r3_149_difflen/test/mel_4298.npy\n",
      "/github/datasets/openslr-95-german-neutral-tts/synmels_r3_149_difflen/test/mel_4299.npy\n",
      "/github/datasets/openslr-95-german-neutral-tts/synmels_r3_149_difflen/test/mel_4300.npy\n",
      "/github/datasets/openslr-95-german-neutral-tts/synmels_r3_149_difflen/test/mel_4301.npy\n",
      "/github/datasets/openslr-95-german-neutral-tts/synmels_r3_149_difflen/test/mel_4302.npy\n",
      "/github/datasets/openslr-95-german-neutral-tts/synmels_r3_149_difflen/test/mel_4303.npy\n",
      "/github/datasets/openslr-95-german-neutral-tts/synmels_r3_149_difflen/test/mel_4304.npy\n",
      "/github/datasets/openslr-95-german-neutral-tts/synmels_r3_149_difflen/test/mel_4305.npy\n"
     ]
    },
    {
     "name": "stderr",
     "output_type": "stream",
     "text": [
      "[NeMo W 2022-05-12 01:53:59 tts_tokenizers:351] Text: [mit gettoblaster auf DER1 schulter marschieren SIY1 DER1CH DAY1 straßEH1N.] contains unknown char/phoneme: [ß]. Original text: [Mit Gettoblaster auf der Schulter marschieren sie durch die Straßen.]. Symbol will be skipped.\n"
     ]
    },
    {
     "name": "stdout",
     "output_type": "stream",
     "text": [
      "/github/datasets/openslr-95-german-neutral-tts/synmels_r3_149_difflen/test/mel_4306.npy\n",
      "/github/datasets/openslr-95-german-neutral-tts/synmels_r3_149_difflen/test/mel_4307.npy\n",
      "/github/datasets/openslr-95-german-neutral-tts/synmels_r3_149_difflen/test/mel_4308.npy\n",
      "/github/datasets/openslr-95-german-neutral-tts/synmels_r3_149_difflen/test/mel_4309.npy\n",
      "/github/datasets/openslr-95-german-neutral-tts/synmels_r3_149_difflen/test/mel_4310.npy\n",
      "/github/datasets/openslr-95-german-neutral-tts/synmels_r3_149_difflen/test/mel_4311.npy\n",
      "/github/datasets/openslr-95-german-neutral-tts/synmels_r3_149_difflen/test/mel_4312.npy\n",
      "/github/datasets/openslr-95-german-neutral-tts/synmels_r3_149_difflen/test/mel_4313.npy\n",
      "/github/datasets/openslr-95-german-neutral-tts/synmels_r3_149_difflen/test/mel_4314.npy\n",
      "/github/datasets/openslr-95-german-neutral-tts/synmels_r3_149_difflen/test/mel_4315.npy\n",
      "/github/datasets/openslr-95-german-neutral-tts/synmels_r3_149_difflen/test/mel_4316.npy\n"
     ]
    },
    {
     "name": "stderr",
     "output_type": "stream",
     "text": [
      "[NeMo W 2022-05-12 01:53:59 tts_tokenizers:351] Text: [eigentlich muss EH1S gruppendruck AH1ND nicht gruppenzwang heißEH1N.] contains unknown char/phoneme: [ß]. Original text: [Eigentlich muss es Gruppendruck und nicht Gruppenzwang heißen.]. Symbol will be skipped.\n"
     ]
    },
    {
     "name": "stdout",
     "output_type": "stream",
     "text": [
      "/github/datasets/openslr-95-german-neutral-tts/synmels_r3_149_difflen/test/mel_4317.npy\n",
      "/github/datasets/openslr-95-german-neutral-tts/synmels_r3_149_difflen/test/mel_4318.npy\n",
      "/github/datasets/openslr-95-german-neutral-tts/synmels_r3_149_difflen/test/mel_4319.npy\n",
      "/github/datasets/openslr-95-german-neutral-tts/synmels_r3_149_difflen/test/mel_4320.npy\n",
      "/github/datasets/openslr-95-german-neutral-tts/synmels_r3_149_difflen/test/mel_4321.npy\n",
      "/github/datasets/openslr-95-german-neutral-tts/synmels_r3_149_difflen/test/mel_4322.npy\n",
      "/github/datasets/openslr-95-german-neutral-tts/synmels_r3_149_difflen/test/mel_4323.npy\n",
      "/github/datasets/openslr-95-german-neutral-tts/synmels_r3_149_difflen/test/mel_4324.npy\n",
      "/github/datasets/openslr-95-german-neutral-tts/synmels_r3_149_difflen/test/mel_4325.npy\n",
      "/github/datasets/openslr-95-german-neutral-tts/synmels_r3_149_difflen/test/mel_4326.npy\n",
      "/github/datasets/openslr-95-german-neutral-tts/synmels_r3_149_difflen/test/mel_4327.npy\n"
     ]
    },
    {
     "name": "stderr",
     "output_type": "stream",
     "text": [
      "[NeMo W 2022-05-12 01:53:59 tts_tokenizers:351] Text: [auf dem straßenschild steht burgermeister-BREH1KT-RIH1NG.] contains unknown char/phoneme: [ß]. Original text: [Auf dem Straßenschild steht Burgermeister-Brecht-Ring.]. Symbol will be skipped.\n"
     ]
    },
    {
     "name": "stdout",
     "output_type": "stream",
     "text": [
      "/github/datasets/openslr-95-german-neutral-tts/synmels_r3_149_difflen/test/mel_4328.npy\n",
      "/github/datasets/openslr-95-german-neutral-tts/synmels_r3_149_difflen/test/mel_4329.npy\n",
      "/github/datasets/openslr-95-german-neutral-tts/synmels_r3_149_difflen/test/mel_4330.npy\n",
      "/github/datasets/openslr-95-german-neutral-tts/synmels_r3_149_difflen/test/mel_4331.npy\n",
      "/github/datasets/openslr-95-german-neutral-tts/synmels_r3_149_difflen/test/mel_4332.npy\n",
      "/github/datasets/openslr-95-german-neutral-tts/synmels_r3_149_difflen/test/mel_4333.npy\n",
      "/github/datasets/openslr-95-german-neutral-tts/synmels_r3_149_difflen/test/mel_4334.npy\n",
      "/github/datasets/openslr-95-german-neutral-tts/synmels_r3_149_difflen/test/mel_4335.npy\n",
      "/github/datasets/openslr-95-german-neutral-tts/synmels_r3_149_difflen/test/mel_4336.npy\n",
      "/github/datasets/openslr-95-german-neutral-tts/synmels_r3_149_difflen/test/mel_4337.npy\n",
      "/github/datasets/openslr-95-german-neutral-tts/synmels_r3_149_difflen/test/mel_4338.npy\n",
      "/github/datasets/openslr-95-german-neutral-tts/synmels_r3_149_difflen/test/mel_4339.npy\n",
      "/github/datasets/openslr-95-german-neutral-tts/synmels_r3_149_difflen/test/mel_4340.npy\n",
      "/github/datasets/openslr-95-german-neutral-tts/synmels_r3_149_difflen/test/mel_4341.npy\n",
      "/github/datasets/openslr-95-german-neutral-tts/synmels_r3_149_difflen/test/mel_4342.npy\n",
      "/github/datasets/openslr-95-german-neutral-tts/synmels_r3_149_difflen/test/mel_4343.npy\n",
      "/github/datasets/openslr-95-german-neutral-tts/synmels_r3_149_difflen/test/mel_4344.npy\n",
      "/github/datasets/openslr-95-german-neutral-tts/synmels_r3_149_difflen/test/mel_4345.npy\n",
      "/github/datasets/openslr-95-german-neutral-tts/synmels_r3_149_difflen/test/mel_4346.npy\n",
      "/github/datasets/openslr-95-german-neutral-tts/synmels_r3_149_difflen/test/mel_4347.npy\n",
      "/github/datasets/openslr-95-german-neutral-tts/synmels_r3_149_difflen/test/mel_4348.npy\n"
     ]
    },
    {
     "name": "stderr",
     "output_type": "stream",
     "text": [
      "[NeMo W 2022-05-12 01:54:00 tts_tokenizers:351] Text: [wahrend DER1 prufungszeit WER1DAH0N ZIH1MER0 aufgeraumt, FEH1NSTER0 geputzt AH1ND FUW1ßBOW1DAH0N geschrubbt, EY1BER0 nicht gelernt.] contains unknown char/phoneme: [ß]. Original text: [Wahrend der Prufungszeit werden Zimmer aufgeraumt, Fenster geputzt und Fußboden geschrubbt, aber nicht gelernt.]. Symbol will be skipped.\n"
     ]
    },
    {
     "name": "stdout",
     "output_type": "stream",
     "text": [
      "/github/datasets/openslr-95-german-neutral-tts/synmels_r3_149_difflen/test/mel_4349.npy\n",
      "/github/datasets/openslr-95-german-neutral-tts/synmels_r3_149_difflen/test/mel_4350.npy\n",
      "/github/datasets/openslr-95-german-neutral-tts/synmels_r3_149_difflen/test/mel_4351.npy\n",
      "/github/datasets/openslr-95-german-neutral-tts/synmels_r3_149_difflen/test/mel_4352.npy\n",
      "/github/datasets/openslr-95-german-neutral-tts/synmels_r3_149_difflen/test/mel_4353.npy\n",
      "/github/datasets/openslr-95-german-neutral-tts/synmels_r3_149_difflen/test/mel_4354.npy\n",
      "/github/datasets/openslr-95-german-neutral-tts/synmels_r3_149_difflen/test/mel_4355.npy\n",
      "/github/datasets/openslr-95-german-neutral-tts/synmels_r3_149_difflen/test/mel_4356.npy\n",
      "/github/datasets/openslr-95-german-neutral-tts/synmels_r3_149_difflen/test/mel_4357.npy\n",
      "/github/datasets/openslr-95-german-neutral-tts/synmels_r3_149_difflen/test/mel_4358.npy\n"
     ]
    },
    {
     "name": "stderr",
     "output_type": "stream",
     "text": [
      "[NeMo W 2022-05-12 01:54:00 tts_tokenizers:351] Text: [bellende hunde beißEH1N nicht!] contains unknown char/phoneme: [ß]. Original text: [Bellende Hunde beißen nicht!]. Symbol will be skipped.\n"
     ]
    },
    {
     "name": "stdout",
     "output_type": "stream",
     "text": [
      "/github/datasets/openslr-95-german-neutral-tts/synmels_r3_149_difflen/test/mel_4359.npy\n",
      "/github/datasets/openslr-95-german-neutral-tts/synmels_r3_149_difflen/test/mel_4360.npy\n",
      "/github/datasets/openslr-95-german-neutral-tts/synmels_r3_149_difflen/test/mel_4361.npy\n",
      "/github/datasets/openslr-95-german-neutral-tts/synmels_r3_149_difflen/test/mel_4362.npy\n",
      "/github/datasets/openslr-95-german-neutral-tts/synmels_r3_149_difflen/test/mel_4363.npy\n",
      "/github/datasets/openslr-95-german-neutral-tts/synmels_r3_149_difflen/test/mel_4364.npy\n",
      "/github/datasets/openslr-95-german-neutral-tts/synmels_r3_149_difflen/test/mel_4365.npy\n",
      "/github/datasets/openslr-95-german-neutral-tts/synmels_r3_149_difflen/test/mel_4366.npy\n",
      "/github/datasets/openslr-95-german-neutral-tts/synmels_r3_149_difflen/test/mel_4367.npy\n",
      "/github/datasets/openslr-95-german-neutral-tts/synmels_r3_149_difflen/test/mel_4368.npy\n"
     ]
    },
    {
     "name": "stderr",
     "output_type": "stream",
     "text": [
      "[NeMo W 2022-05-12 01:54:00 tts_tokenizers:351] Text: [fallobst lasst sich PRIY1MAH0 zu MUW1ß verarbeiten.] contains unknown char/phoneme: [ß]. Original text: [Fallobst lasst sich prima zu Muß verarbeiten.]. Symbol will be skipped.\n"
     ]
    },
    {
     "name": "stdout",
     "output_type": "stream",
     "text": [
      "/github/datasets/openslr-95-german-neutral-tts/synmels_r3_149_difflen/test/mel_4369.npy\n",
      "/github/datasets/openslr-95-german-neutral-tts/synmels_r3_149_difflen/test/mel_4370.npy\n",
      "/github/datasets/openslr-95-german-neutral-tts/synmels_r3_149_difflen/test/mel_4371.npy\n",
      "/github/datasets/openslr-95-german-neutral-tts/synmels_r3_149_difflen/test/mel_4372.npy\n",
      "/github/datasets/openslr-95-german-neutral-tts/synmels_r3_149_difflen/test/mel_4373.npy\n",
      "/github/datasets/openslr-95-german-neutral-tts/synmels_r3_149_difflen/test/mel_4374.npy\n",
      "/github/datasets/openslr-95-german-neutral-tts/synmels_r3_149_difflen/test/mel_4375.npy\n",
      "/github/datasets/openslr-95-german-neutral-tts/synmels_r3_149_difflen/test/mel_4376.npy\n",
      "/github/datasets/openslr-95-german-neutral-tts/synmels_r3_149_difflen/test/mel_4377.npy\n",
      "/github/datasets/openslr-95-german-neutral-tts/synmels_r3_149_difflen/test/mel_4378.npy\n"
     ]
    },
    {
     "name": "stderr",
     "output_type": "stream",
     "text": [
      "[NeMo W 2022-05-12 01:54:00 tts_tokenizers:351] Text: [AO1CH bei FRAW1 LIH1ND wird DER1 geduldsfaden irgendwann reißEH1N.] contains unknown char/phoneme: [ß]. Original text: [Auch bei Frau Linde wird der Geduldsfaden irgendwann reißen.]. Symbol will be skipped.\n"
     ]
    },
    {
     "name": "stdout",
     "output_type": "stream",
     "text": [
      "/github/datasets/openslr-95-german-neutral-tts/synmels_r3_149_difflen/test/mel_4379.npy\n",
      "/github/datasets/openslr-95-german-neutral-tts/synmels_r3_149_difflen/test/mel_4380.npy\n",
      "/github/datasets/openslr-95-german-neutral-tts/synmels_r3_149_difflen/test/mel_4381.npy\n",
      "/github/datasets/openslr-95-german-neutral-tts/synmels_r3_149_difflen/test/mel_4382.npy\n",
      "/github/datasets/openslr-95-german-neutral-tts/synmels_r3_149_difflen/test/mel_4383.npy\n",
      "/github/datasets/openslr-95-german-neutral-tts/synmels_r3_149_difflen/test/mel_4384.npy\n",
      "/github/datasets/openslr-95-german-neutral-tts/synmels_r3_149_difflen/test/mel_4385.npy\n",
      "/github/datasets/openslr-95-german-neutral-tts/synmels_r3_149_difflen/test/mel_4386.npy\n",
      "/github/datasets/openslr-95-german-neutral-tts/synmels_r3_149_difflen/test/mel_4387.npy\n",
      "/github/datasets/openslr-95-german-neutral-tts/synmels_r3_149_difflen/test/mel_4388.npy\n",
      "/github/datasets/openslr-95-german-neutral-tts/synmels_r3_149_difflen/test/mel_4389.npy\n",
      "/github/datasets/openslr-95-german-neutral-tts/synmels_r3_149_difflen/test/mel_4390.npy\n",
      "/github/datasets/openslr-95-german-neutral-tts/synmels_r3_149_difflen/test/mel_4391.npy\n",
      "/github/datasets/openslr-95-german-neutral-tts/synmels_r3_149_difflen/test/mel_4392.npy\n",
      "/github/datasets/openslr-95-german-neutral-tts/synmels_r3_149_difflen/test/mel_4393.npy\n",
      "/github/datasets/openslr-95-german-neutral-tts/synmels_r3_149_difflen/test/mel_4394.npy\n",
      "/github/datasets/openslr-95-german-neutral-tts/synmels_r3_149_difflen/test/mel_4395.npy\n",
      "/github/datasets/openslr-95-german-neutral-tts/synmels_r3_149_difflen/test/mel_4396.npy\n"
     ]
    },
    {
     "name": "stderr",
     "output_type": "stream",
     "text": [
      "[NeMo W 2022-05-12 01:54:01 tts_tokenizers:351] Text: [ach du scheißIY1!] contains unknown char/phoneme: [ß]. Original text: [Ach du Scheiße!]. Symbol will be skipped.\n"
     ]
    },
    {
     "name": "stdout",
     "output_type": "stream",
     "text": [
      "/github/datasets/openslr-95-german-neutral-tts/synmels_r3_149_difflen/test/mel_4397.npy\n",
      "/github/datasets/openslr-95-german-neutral-tts/synmels_r3_149_difflen/test/mel_4398.npy\n",
      "/github/datasets/openslr-95-german-neutral-tts/synmels_r3_149_difflen/test/mel_4399.npy\n",
      "/github/datasets/openslr-95-german-neutral-tts/synmels_r3_149_difflen/test/mel_4400.npy\n",
      "/github/datasets/openslr-95-german-neutral-tts/synmels_r3_149_difflen/test/mel_4401.npy\n",
      "/github/datasets/openslr-95-german-neutral-tts/synmels_r3_149_difflen/test/mel_4402.npy\n",
      "/github/datasets/openslr-95-german-neutral-tts/synmels_r3_149_difflen/test/mel_4403.npy\n",
      "/github/datasets/openslr-95-german-neutral-tts/synmels_r3_149_difflen/test/mel_4404.npy\n",
      "/github/datasets/openslr-95-german-neutral-tts/synmels_r3_149_difflen/test/mel_4405.npy\n",
      "/github/datasets/openslr-95-german-neutral-tts/synmels_r3_149_difflen/test/mel_4406.npy\n",
      "/github/datasets/openslr-95-german-neutral-tts/synmels_r3_149_difflen/test/mel_4407.npy\n",
      "/github/datasets/openslr-95-german-neutral-tts/synmels_r3_149_difflen/test/mel_4408.npy\n"
     ]
    },
    {
     "name": "stderr",
     "output_type": "stream",
     "text": [
      "[NeMo W 2022-05-12 01:54:01 tts_tokenizers:351] Text: [wie nennt MAE1N DAY1 GROW1ßTIY1 IH1NSAH0L JHAH0PAE1NZ?] contains unknown char/phoneme: [ß]. Original text: [Wie nennt man die großte Insel Japans?]. Symbol will be skipped.\n",
      "[NeMo W 2022-05-12 01:54:01 tts_tokenizers:351] Text: [EH1S reicht nicht, „NIY1N\" zu SAE1GAH0N, EH1S reicht nicht, probleme aufzuzeigen, sondern EH1S mussen losungen gefunden WER1DAH0N.] contains unknown char/phoneme: [„]. Original text: [Es reicht nicht, „nein\" zu sagen, es reicht nicht, Probleme aufzuzeigen, sondern es mussen Losungen gefunden werden.]. Symbol will be skipped.\n"
     ]
    },
    {
     "name": "stdout",
     "output_type": "stream",
     "text": [
      "/github/datasets/openslr-95-german-neutral-tts/synmels_r3_149_difflen/test/mel_4409.npy\n",
      "/github/datasets/openslr-95-german-neutral-tts/synmels_r3_149_difflen/test/mel_4410.npy\n",
      "/github/datasets/openslr-95-german-neutral-tts/synmels_r3_149_difflen/test/mel_4411.npy\n",
      "/github/datasets/openslr-95-german-neutral-tts/synmels_r3_149_difflen/test/mel_4412.npy\n",
      "/github/datasets/openslr-95-german-neutral-tts/synmels_r3_149_difflen/test/mel_4413.npy\n",
      "/github/datasets/openslr-95-german-neutral-tts/synmels_r3_149_difflen/test/mel_4414.npy\n",
      "/github/datasets/openslr-95-german-neutral-tts/synmels_r3_149_difflen/test/mel_4415.npy\n",
      "/github/datasets/openslr-95-german-neutral-tts/synmels_r3_149_difflen/test/mel_4416.npy\n",
      "/github/datasets/openslr-95-german-neutral-tts/synmels_r3_149_difflen/test/mel_4417.npy\n",
      "/github/datasets/openslr-95-german-neutral-tts/synmels_r3_149_difflen/test/mel_4418.npy\n",
      "/github/datasets/openslr-95-german-neutral-tts/synmels_r3_149_difflen/test/mel_4419.npy\n",
      "/github/datasets/openslr-95-german-neutral-tts/synmels_r3_149_difflen/test/mel_4420.npy\n",
      "/github/datasets/openslr-95-german-neutral-tts/synmels_r3_149_difflen/test/mel_4421.npy\n",
      "/github/datasets/openslr-95-german-neutral-tts/synmels_r3_149_difflen/test/mel_4422.npy\n",
      "/github/datasets/openslr-95-german-neutral-tts/synmels_r3_149_difflen/test/mel_4423.npy\n",
      "/github/datasets/openslr-95-german-neutral-tts/synmels_r3_149_difflen/test/mel_4424.npy\n",
      "/github/datasets/openslr-95-german-neutral-tts/synmels_r3_149_difflen/test/mel_4425.npy\n",
      "/github/datasets/openslr-95-german-neutral-tts/synmels_r3_149_difflen/test/mel_4426.npy\n",
      "/github/datasets/openslr-95-german-neutral-tts/synmels_r3_149_difflen/test/mel_4427.npy\n",
      "/github/datasets/openslr-95-german-neutral-tts/synmels_r3_149_difflen/test/mel_4428.npy\n",
      "/github/datasets/openslr-95-german-neutral-tts/synmels_r3_149_difflen/test/mel_4429.npy\n",
      "/github/datasets/openslr-95-german-neutral-tts/synmels_r3_149_difflen/test/mel_4430.npy\n",
      "/github/datasets/openslr-95-german-neutral-tts/synmels_r3_149_difflen/test/mel_4431.npy\n",
      "/github/datasets/openslr-95-german-neutral-tts/synmels_r3_149_difflen/test/mel_4432.npy\n",
      "/github/datasets/openslr-95-german-neutral-tts/synmels_r3_149_difflen/test/mel_4433.npy\n",
      "/github/datasets/openslr-95-german-neutral-tts/synmels_r3_149_difflen/test/mel_4434.npy\n",
      "/github/datasets/openslr-95-german-neutral-tts/synmels_r3_149_difflen/test/mel_4435.npy\n",
      "/github/datasets/openslr-95-german-neutral-tts/synmels_r3_149_difflen/test/mel_4436.npy\n",
      "/github/datasets/openslr-95-german-neutral-tts/synmels_r3_149_difflen/test/mel_4437.npy\n",
      "/github/datasets/openslr-95-german-neutral-tts/synmels_r3_149_difflen/test/mel_4438.npy\n",
      "/github/datasets/openslr-95-german-neutral-tts/synmels_r3_149_difflen/test/mel_4439.npy\n",
      "/github/datasets/openslr-95-german-neutral-tts/synmels_r3_149_difflen/test/mel_4440.npy\n",
      "/github/datasets/openslr-95-german-neutral-tts/synmels_r3_149_difflen/test/mel_4441.npy\n"
     ]
    },
    {
     "name": "stderr",
     "output_type": "stream",
     "text": [
      "[NeMo W 2022-05-12 01:54:01 tts_tokenizers:351] Text: [jeder WEY1ß, DAE1S wir niemals aufgeben WER1DAH0N!] contains unknown char/phoneme: [ß]. Original text: [Jeder weiß, dass wir niemals aufgeben werden!]. Symbol will be skipped.\n"
     ]
    },
    {
     "name": "stdout",
     "output_type": "stream",
     "text": [
      "/github/datasets/openslr-95-german-neutral-tts/synmels_r3_149_difflen/test/mel_4442.npy\n",
      "/github/datasets/openslr-95-german-neutral-tts/synmels_r3_149_difflen/test/mel_4443.npy\n",
      "/github/datasets/openslr-95-german-neutral-tts/synmels_r3_149_difflen/test/mel_4444.npy\n",
      "/github/datasets/openslr-95-german-neutral-tts/synmels_r3_149_difflen/test/mel_4445.npy\n",
      "/github/datasets/openslr-95-german-neutral-tts/synmels_r3_149_difflen/test/mel_4446.npy\n",
      "/github/datasets/openslr-95-german-neutral-tts/synmels_r3_149_difflen/test/mel_4447.npy\n",
      "/github/datasets/openslr-95-german-neutral-tts/synmels_r3_149_difflen/test/mel_4448.npy\n",
      "/github/datasets/openslr-95-german-neutral-tts/synmels_r3_149_difflen/test/mel_4449.npy\n",
      "/github/datasets/openslr-95-german-neutral-tts/synmels_r3_149_difflen/test/mel_4450.npy\n",
      "/github/datasets/openslr-95-german-neutral-tts/synmels_r3_149_difflen/test/mel_4451.npy\n",
      "/github/datasets/openslr-95-german-neutral-tts/synmels_r3_149_difflen/test/mel_4452.npy\n"
     ]
    },
    {
     "name": "stderr",
     "output_type": "stream",
     "text": [
      "[NeMo W 2022-05-12 01:54:02 tts_tokenizers:351] Text: [was ist AW1Z dem mitreißenden erzahler YAE1NAH0WIH0TS geworden?] contains unknown char/phoneme: [ß]. Original text: [Was ist aus dem mitreißenden Erzahler Janowitz geworden?]. Symbol will be skipped.\n"
     ]
    },
    {
     "name": "stdout",
     "output_type": "stream",
     "text": [
      "/github/datasets/openslr-95-german-neutral-tts/synmels_r3_149_difflen/test/mel_4453.npy\n",
      "/github/datasets/openslr-95-german-neutral-tts/synmels_r3_149_difflen/test/mel_4454.npy\n",
      "/github/datasets/openslr-95-german-neutral-tts/synmels_r3_149_difflen/test/mel_4455.npy\n",
      "/github/datasets/openslr-95-german-neutral-tts/synmels_r3_149_difflen/test/mel_4456.npy\n",
      "/github/datasets/openslr-95-german-neutral-tts/synmels_r3_149_difflen/test/mel_4457.npy\n",
      "/github/datasets/openslr-95-german-neutral-tts/synmels_r3_149_difflen/test/mel_4458.npy\n",
      "/github/datasets/openslr-95-german-neutral-tts/synmels_r3_149_difflen/test/mel_4459.npy\n",
      "/github/datasets/openslr-95-german-neutral-tts/synmels_r3_149_difflen/test/mel_4460.npy\n",
      "/github/datasets/openslr-95-german-neutral-tts/synmels_r3_149_difflen/test/mel_4461.npy\n",
      "/github/datasets/openslr-95-german-neutral-tts/synmels_r3_149_difflen/test/mel_4462.npy\n",
      "/github/datasets/openslr-95-german-neutral-tts/synmels_r3_149_difflen/test/mel_4463.npy\n",
      "/github/datasets/openslr-95-german-neutral-tts/synmels_r3_149_difflen/test/mel_4464.npy\n",
      "/github/datasets/openslr-95-german-neutral-tts/synmels_r3_149_difflen/test/mel_4465.npy\n",
      "/github/datasets/openslr-95-german-neutral-tts/synmels_r3_149_difflen/test/mel_4466.npy\n",
      "/github/datasets/openslr-95-german-neutral-tts/synmels_r3_149_difflen/test/mel_4467.npy\n",
      "/github/datasets/openslr-95-german-neutral-tts/synmels_r3_149_difflen/test/mel_4468.npy\n",
      "/github/datasets/openslr-95-german-neutral-tts/synmels_r3_149_difflen/test/mel_4469.npy\n",
      "/github/datasets/openslr-95-german-neutral-tts/synmels_r3_149_difflen/test/mel_4470.npy\n",
      "/github/datasets/openslr-95-german-neutral-tts/synmels_r3_149_difflen/test/mel_4471.npy\n",
      "/github/datasets/openslr-95-german-neutral-tts/synmels_r3_149_difflen/test/mel_4472.npy\n",
      "/github/datasets/openslr-95-german-neutral-tts/synmels_r3_149_difflen/test/mel_4473.npy\n",
      "/github/datasets/openslr-95-german-neutral-tts/synmels_r3_149_difflen/test/mel_4474.npy\n",
      "/github/datasets/openslr-95-german-neutral-tts/synmels_r3_149_difflen/test/mel_4475.npy\n",
      "/github/datasets/openslr-95-german-neutral-tts/synmels_r3_149_difflen/test/mel_4476.npy\n",
      "/github/datasets/openslr-95-german-neutral-tts/synmels_r3_149_difflen/test/mel_4477.npy\n",
      "/github/datasets/openslr-95-german-neutral-tts/synmels_r3_149_difflen/test/mel_4478.npy\n",
      "/github/datasets/openslr-95-german-neutral-tts/synmels_r3_149_difflen/test/mel_4479.npy\n",
      "/github/datasets/openslr-95-german-neutral-tts/synmels_r3_149_difflen/test/mel_4480.npy\n",
      "/github/datasets/openslr-95-german-neutral-tts/synmels_r3_149_difflen/test/mel_4481.npy\n",
      "/github/datasets/openslr-95-german-neutral-tts/synmels_r3_149_difflen/test/mel_4482.npy\n",
      "/github/datasets/openslr-95-german-neutral-tts/synmels_r3_149_difflen/test/mel_4483.npy\n",
      "/github/datasets/openslr-95-german-neutral-tts/synmels_r3_149_difflen/test/mel_4484.npy\n"
     ]
    },
    {
     "name": "stderr",
     "output_type": "stream",
     "text": [
      "[NeMo W 2022-05-12 01:54:02 tts_tokenizers:351] Text: [DER1 GROW1ßTIY1 teil DER1 wertschopfungskette liegt IH1M ausland.] contains unknown char/phoneme: [ß]. Original text: [Der großte Teil der Wertschopfungskette liegt im Ausland.]. Symbol will be skipped.\n"
     ]
    },
    {
     "name": "stdout",
     "output_type": "stream",
     "text": [
      "/github/datasets/openslr-95-german-neutral-tts/synmels_r3_149_difflen/test/mel_4485.npy\n",
      "/github/datasets/openslr-95-german-neutral-tts/synmels_r3_149_difflen/test/mel_4486.npy\n",
      "/github/datasets/openslr-95-german-neutral-tts/synmels_r3_149_difflen/test/mel_4487.npy\n",
      "/github/datasets/openslr-95-german-neutral-tts/synmels_r3_149_difflen/test/mel_4488.npy\n",
      "/github/datasets/openslr-95-german-neutral-tts/synmels_r3_149_difflen/test/mel_4489.npy\n",
      "/github/datasets/openslr-95-german-neutral-tts/synmels_r3_149_difflen/test/mel_4490.npy\n",
      "/github/datasets/openslr-95-german-neutral-tts/synmels_r3_149_difflen/test/mel_4491.npy\n",
      "/github/datasets/openslr-95-german-neutral-tts/synmels_r3_149_difflen/test/mel_4492.npy\n",
      "/github/datasets/openslr-95-german-neutral-tts/synmels_r3_149_difflen/test/mel_4493.npy\n",
      "/github/datasets/openslr-95-german-neutral-tts/synmels_r3_149_difflen/test/mel_4494.npy\n",
      "/github/datasets/openslr-95-german-neutral-tts/synmels_r3_149_difflen/test/mel_4495.npy\n",
      "/github/datasets/openslr-95-german-neutral-tts/synmels_r3_149_difflen/test/mel_4496.npy\n",
      "/github/datasets/openslr-95-german-neutral-tts/synmels_r3_149_difflen/test/mel_4497.npy\n",
      "/github/datasets/openslr-95-german-neutral-tts/synmels_r3_149_difflen/test/mel_4498.npy\n",
      "/github/datasets/openslr-95-german-neutral-tts/synmels_r3_149_difflen/test/mel_4499.npy\n",
      "/github/datasets/openslr-95-german-neutral-tts/synmels_r3_149_difflen/test/mel_4500.npy\n",
      "/github/datasets/openslr-95-german-neutral-tts/synmels_r3_149_difflen/test/mel_4501.npy\n",
      "/github/datasets/openslr-95-german-neutral-tts/synmels_r3_149_difflen/test/mel_4502.npy\n",
      "/github/datasets/openslr-95-german-neutral-tts/synmels_r3_149_difflen/test/mel_4503.npy\n",
      "/github/datasets/openslr-95-german-neutral-tts/synmels_r3_149_difflen/test/mel_4504.npy\n",
      "/github/datasets/openslr-95-german-neutral-tts/synmels_r3_149_difflen/test/mel_4505.npy\n"
     ]
    },
    {
     "name": "stderr",
     "output_type": "stream",
     "text": [
      "[NeMo W 2022-05-12 01:54:03 tts_tokenizers:351] Text: [EH1S ist VAO1N vorteil, wenn MAE1N beidfußig schießEH1N KAE1N.] contains unknown char/phoneme: [ß]. Original text: [Es ist von Vorteil, wenn man beidfußig schießen kann.]. Symbol will be skipped.\n",
      "[NeMo W 2022-05-12 01:54:03 tts_tokenizers:351] Text: [EH1S ist VAO1N vorteil, wenn MAE1N beidfußig schießEH1N KAE1N.] contains unknown char/phoneme: [ß]. Original text: [Es ist von Vorteil, wenn man beidfußig schießen kann.]. Symbol will be skipped.\n"
     ]
    },
    {
     "name": "stdout",
     "output_type": "stream",
     "text": [
      "/github/datasets/openslr-95-german-neutral-tts/synmels_r3_149_difflen/test/mel_4506.npy\n",
      "/github/datasets/openslr-95-german-neutral-tts/synmels_r3_149_difflen/test/mel_4507.npy\n",
      "/github/datasets/openslr-95-german-neutral-tts/synmels_r3_149_difflen/test/mel_4508.npy\n",
      "/github/datasets/openslr-95-german-neutral-tts/synmels_r3_149_difflen/test/mel_4509.npy\n",
      "/github/datasets/openslr-95-german-neutral-tts/synmels_r3_149_difflen/test/mel_4510.npy\n",
      "/github/datasets/openslr-95-german-neutral-tts/synmels_r3_149_difflen/test/mel_4511.npy\n",
      "/github/datasets/openslr-95-german-neutral-tts/synmels_r3_149_difflen/test/mel_4512.npy\n",
      "/github/datasets/openslr-95-german-neutral-tts/synmels_r3_149_difflen/test/mel_4513.npy\n",
      "/github/datasets/openslr-95-german-neutral-tts/synmels_r3_149_difflen/test/mel_4514.npy\n",
      "/github/datasets/openslr-95-german-neutral-tts/synmels_r3_149_difflen/test/mel_4515.npy\n",
      "/github/datasets/openslr-95-german-neutral-tts/synmels_r3_149_difflen/test/mel_4516.npy\n"
     ]
    },
    {
     "name": "stderr",
     "output_type": "stream",
     "text": [
      "[NeMo W 2022-05-12 01:54:03 tts_tokenizers:351] Text: [wir bauen auf, wir reißEH1N NIY1DER0 – SOW1 haben wir arbeit immer WIY1DER0.] contains unknown char/phoneme: [ß]. Original text: [Wir bauen auf, wir reißen nieder – so haben wir Arbeit immer wieder.]. Symbol will be skipped.\n",
      "[NeMo W 2022-05-12 01:54:03 tts_tokenizers:351] Text: [wir bauen auf, wir reißEH1N NIY1DER0 – SOW1 haben wir arbeit immer WIY1DER0.] contains unknown char/phoneme: [–]. Original text: [Wir bauen auf, wir reißen nieder – so haben wir Arbeit immer wieder.]. Symbol will be skipped.\n",
      "[NeMo W 2022-05-12 01:54:03 tts_tokenizers:351] Text: [auf dem ruckweg durchfließTIY1 das blut DAY1 venen.] contains unknown char/phoneme: [ß]. Original text: [Auf dem Ruckweg durchfließt das Blut die Venen.]. Symbol will be skipped.\n"
     ]
    },
    {
     "name": "stdout",
     "output_type": "stream",
     "text": [
      "/github/datasets/openslr-95-german-neutral-tts/synmels_r3_149_difflen/test/mel_4517.npy\n",
      "/github/datasets/openslr-95-german-neutral-tts/synmels_r3_149_difflen/test/mel_4518.npy\n",
      "/github/datasets/openslr-95-german-neutral-tts/synmels_r3_149_difflen/test/mel_4519.npy\n",
      "/github/datasets/openslr-95-german-neutral-tts/synmels_r3_149_difflen/test/mel_4520.npy\n",
      "/github/datasets/openslr-95-german-neutral-tts/synmels_r3_149_difflen/test/mel_4521.npy\n",
      "/github/datasets/openslr-95-german-neutral-tts/synmels_r3_149_difflen/test/mel_4522.npy\n",
      "/github/datasets/openslr-95-german-neutral-tts/synmels_r3_149_difflen/test/mel_4523.npy\n",
      "/github/datasets/openslr-95-german-neutral-tts/synmels_r3_149_difflen/test/mel_4524.npy\n",
      "/github/datasets/openslr-95-german-neutral-tts/synmels_r3_149_difflen/test/mel_4525.npy\n",
      "/github/datasets/openslr-95-german-neutral-tts/synmels_r3_149_difflen/test/mel_4526.npy\n",
      "/github/datasets/openslr-95-german-neutral-tts/synmels_r3_149_difflen/test/mel_4527.npy\n",
      "/github/datasets/openslr-95-german-neutral-tts/synmels_r3_149_difflen/test/mel_4528.npy\n",
      "/github/datasets/openslr-95-german-neutral-tts/synmels_r3_149_difflen/test/mel_4529.npy\n",
      "/github/datasets/openslr-95-german-neutral-tts/synmels_r3_149_difflen/test/mel_4530.npy\n",
      "/github/datasets/openslr-95-german-neutral-tts/synmels_r3_149_difflen/test/mel_4531.npy\n",
      "/github/datasets/openslr-95-german-neutral-tts/synmels_r3_149_difflen/test/mel_4532.npy\n",
      "/github/datasets/openslr-95-german-neutral-tts/synmels_r3_149_difflen/test/mel_4533.npy\n",
      "/github/datasets/openslr-95-german-neutral-tts/synmels_r3_149_difflen/test/mel_4534.npy\n"
     ]
    }
   ],
   "source": [
    "beta_binomial_interpolator = BetaBinomialInterpolator()\n",
    "\n",
    "if generate_mels == \"PREDICTED\":\n",
    "    spec_model.eval()\n",
    "    device = spec_model.device\n",
    "\n",
    "save_dir = Path(dataset_base_path+folder_name+\"/\"+dataset_part)\n",
    "\n",
    "save_dir.mkdir(exist_ok=True, parents=True)\n",
    "\n",
    "# Generate a spectrograms (we need to use ground truth alignment for correct matching between audio and mels)\n",
    "for i, r in enumerate(records):\n",
    "    \n",
    "    if generate_mels == \"PREDICTED\":\n",
    "        audio = load_wav(r[\"audio_filepath\"])\n",
    "\n",
    "        audio = torch.from_numpy(audio).unsqueeze(0).to(device)\n",
    "        audio_len = torch.tensor(audio.shape[1], dtype=torch.long, device=device).unsqueeze(0)\n",
    "\n",
    "        # Again, our finetuned FastPitch model doesn't use multiple speakers,\n",
    "        # but we keep the code to support it here for reference\n",
    "        if spec_model.fastpitch.speaker_emb is not None and \"speaker\" in r:\n",
    "            speaker = torch.tensor([r['speaker']]).to(device)\n",
    "        else:\n",
    "            speaker = None\n",
    "\n",
    "        with torch.no_grad():\n",
    "            if \"normalized_text\" in r:\n",
    "                text = spec_model.parse(r[\"normalized_text\"], normalize=False)\n",
    "            else:\n",
    "                text = spec_model.parse(r['text'])\n",
    "\n",
    "            text_len = torch.tensor(text.shape[-1], dtype=torch.long, device=device).unsqueeze(0)\n",
    "\n",
    "            spect, spect_len = spec_model.preprocessor(input_signal=audio, length=audio_len)\n",
    "\n",
    "            # Generate attention prior and spectrogram inputs for HiFi-GAN\n",
    "            attn_prior = torch.from_numpy(\n",
    "              beta_binomial_interpolator(spect_len.item(), text_len.item())\n",
    "            ).unsqueeze(0).to(text.device)\n",
    "\n",
    "            spectrogram = spec_model.forward(\n",
    "              text=text, \n",
    "              input_lens=text_len, \n",
    "              spec=spect, \n",
    "              mel_lens=spect_len, \n",
    "              attn_prior=attn_prior,\n",
    "              speaker=speaker,\n",
    "            )[0]\n",
    "            spectrogram = spec_model.generate_spectrogram(\n",
    "              tokens=text, \n",
    "              speaker=speaker,\n",
    "            )\n",
    "        save_path = save_dir / f\"mel_{i}.npy\"\n",
    "        np.save(save_path, spectrogram[0].to('cpu').numpy())\n",
    "        r[\"mel_filepath\"] = str(save_path)\n",
    "    else:\n",
    "        # original melspecs\n",
    "        print(\"loading original melspecs\")\n",
    "        y, sr = librosa.load(r[\"audio_filepath\"])\n",
    "        spectrogram2 = np.log(librosa.feature.melspectrogram(y=y, sr=sr, n_fft=1024, win_length=1024, hop_length=256))\n",
    "        spectrogram = spectrogram2[ :80, :]\n",
    "        save_path = save_dir / f\"mel_{i}.npy\"\n",
    "        np.save(save_path, spectrogram)\n",
    "        r[\"mel_filepath\"] = str(save_path)\n",
    "\n",
    "hifigan_manifest_path = dataset_base_path+folder_name+\"/hifigan_\"+dataset_part+\"_ft.json\"\n",
    "\n",
    "with open(hifigan_manifest_path, \"w\") as f:\n",
    "    for r in records:\n",
    "        f.write(json.dumps(r) + '\\n')\n",
    "# Please do the same for the validation json. Code is omitted."
   ]
  },
  {
   "cell_type": "code",
   "execution_count": null,
   "id": "ca732e86",
   "metadata": {},
   "outputs": [],
   "source": []
  },
  {
   "cell_type": "code",
   "execution_count": null,
   "id": "f08b0f73",
   "metadata": {},
   "outputs": [],
   "source": []
  }
 ],
 "metadata": {
  "kernelspec": {
   "display_name": "Python 3 (ipykernel)",
   "language": "python",
   "name": "python3"
  },
  "language_info": {
   "codemirror_mode": {
    "name": "ipython",
    "version": 3
   },
   "file_extension": ".py",
   "mimetype": "text/x-python",
   "name": "python",
   "nbconvert_exporter": "python",
   "pygments_lexer": "ipython3",
   "version": "3.8.12"
  }
 },
 "nbformat": 4,
 "nbformat_minor": 5
}
