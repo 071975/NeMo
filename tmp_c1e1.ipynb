{
 "cells": [
  {
   "cell_type": "markdown",
   "id": "b66464f0",
   "metadata": {},
   "source": [
    "# emotional tts quick c1 iteration"
   ]
  },
  {
   "cell_type": "markdown",
   "id": "5a5b84cc",
   "metadata": {},
   "source": [
    "## Preparing EmotionalTTS dataset"
   ]
  },
  {
   "cell_type": "code",
   "execution_count": null,
   "id": "2677916e",
   "metadata": {},
   "outputs": [],
   "source": [
    "# downloading the datasets\n",
    "\n",
    "# !(mkdir /DataEmotionalTTS && \\\n",
    "\n",
    "!(cd /DataEmotionalTTS && \\\n",
    "    wget https://www.openslr.org/resources/110/thorsten-emotional_v02.tgz && \\\n",
    "    tar -zxvf thorsten-emotional_v02.tgz)"
   ]
  },
  {
   "cell_type": "code",
   "execution_count": null,
   "id": "b03652bd",
   "metadata": {},
   "outputs": [],
   "source": [
    "# create manifests, normalization and phonemization\n",
    "\n",
    "# !(cd NeMoEmotionalTTS && \\\n",
    "#     python get_data.py \\\n",
    "\n",
    "!(python scripts/dataset_processing/tts/openslr_emotional/get_data.py \\\n",
    "        --data-root ../DataEmotionalTTS/ \\\n",
    "        --val-size 0.1 \\\n",
    "        --test-size 0.2)"
   ]
  },
  {
   "cell_type": "code",
   "execution_count": null,
   "id": "f4ebedb8",
   "metadata": {},
   "outputs": [],
   "source": [
    "# 2cc2cc4a34b961ef1657cc82dbd18875 does not exist for whisper category"
   ]
  },
  {
   "cell_type": "code",
   "execution_count": null,
   "id": "f414d099",
   "metadata": {},
   "outputs": [],
   "source": [
    "# phonemization\n",
    "## inside the phonemizer container\n",
    "\n",
    "from phonemizer.backend import EspeakBackend\n",
    "import json\n",
    "\n",
    "backend = EspeakBackend('de')\n",
    "unique_symbols = set()\n",
    "input_manifest_filepaths = [\"/DataEmotionalTTS/thorsten-emotional_v02/train_manifest\", \\\n",
    "                            \"/DataEmotionalTTS/thorsten-emotional_v02/test_manifest\", \\\n",
    "                            \"/DataEmotionalTTS/thorsten-emotional_v02/val_manifest\"]\n",
    "\n",
    "for input_manifest_filepath in input_manifest_filepaths:\n",
    "    output_manifest_filepath = input_manifest_filepath+\"_phonemes\"\n",
    "    records = []\n",
    "    n_text = []\n",
    "    with open(input_manifest_filepath + \".json\", \"r\") as f:\n",
    "        for i, line in enumerate(f):\n",
    "            d = json.loads(line)\n",
    "            records.append(d)\n",
    "            n_text.append(d['normalized_text'])\n",
    "\n",
    "    phonemized = backend.phonemize(n_text)\n",
    "    for line in n_text:\n",
    "        for char in line:\n",
    "            unique_symbols.add(char)\n",
    "    new_records = []\n",
    "    for i in range(len(records)):\n",
    "        records[i][\"is_phoneme\"] = 0\n",
    "        new_records.append(records[i])\n",
    "        phoneme_record = records[i].copy()\n",
    "        phoneme_record[\"normalized_text\"] = phonemized[i]\n",
    "        phoneme_record[\"is_phoneme\"] = 1\n",
    "        new_records.append(phoneme_record)\n",
    "\n",
    "    with open(output_manifest_filepath + \".json\", \"w\") as f:\n",
    "        for r in new_records:\n",
    "            f.write(json.dumps(r) + '\\n')\n",
    "print(unique_symbols)"
   ]
  },
  {
   "cell_type": "code",
   "execution_count": null,
   "id": "a645ffcd",
   "metadata": {},
   "outputs": [],
   "source": [
    "a = ''.join(unique_symbols)"
   ]
  },
  {
   "cell_type": "code",
   "execution_count": null,
   "id": "df66887d",
   "metadata": {},
   "outputs": [],
   "source": [
    "a = a.lower()"
   ]
  },
  {
   "cell_type": "code",
   "execution_count": null,
   "id": "ac4bf483",
   "metadata": {},
   "outputs": [],
   "source": [
    "[char for char in a if char not in \"ʊʃŋɜːɛɾəɪçɔøɡœɑÜ„1Q̃ɒʒÄɹÖʌθàó̈ðéɐáabcdefghijklmnopqrstuvwxyzäöüß\"]"
   ]
  },
  {
   "cell_type": "code",
   "execution_count": null,
   "id": "2f6265ab",
   "metadata": {},
   "outputs": [],
   "source": [
    "!ls /DataEmotionalTTS/thorsten-emotional_v02"
   ]
  },
  {
   "cell_type": "code",
   "execution_count": null,
   "id": "47196e52",
   "metadata": {},
   "outputs": [],
   "source": [
    "# dataset config\n",
    "!cat scripts/dataset_processing/tts/openslr_emotional/ds_conf/ds_for_fastpitch_align.yaml"
   ]
  },
  {
   "cell_type": "code",
   "execution_count": null,
   "id": "fc78be09",
   "metadata": {},
   "outputs": [],
   "source": [
    "# supplementary data creation - emotional TTS (optional)\n",
    "!(HYDRA_FULL_ERROR=1 python scripts/dataset_processing/tts/extract_sup_data.py \\\n",
    "        --config-path /NeMoEmotionalTTS/scripts/dataset_processing/tts/openslr_emotional/ds_conf \\\n",
    "        --config-name ds_for_fastpitch_align.yaml \\\n",
    "        manifest_filepath=/DataEmotionalTTS/thorsten-emotional_v02/train_manifest_phonemes.json \\\n",
    "        sup_data_path=/DataEmotionalTTS/thorsten-emotional_v02/phonemes/)"
   ]
  },
  {
   "cell_type": "code",
   "execution_count": null,
   "id": "e37cce05",
   "metadata": {},
   "outputs": [],
   "source": [
    "# PITCH_MEAN=169.59390258789062, PITCH_STD=103.64842224121094\n",
    "# PITCH_MIN=65.4063949584961, PITCH_MAX=2093.004638671875"
   ]
  },
  {
   "cell_type": "markdown",
   "id": "9958594d",
   "metadata": {},
   "source": [
    "## Preparing NeutralTTS dataset"
   ]
  },
  {
   "cell_type": "code",
   "execution_count": null,
   "id": "9852d721",
   "metadata": {},
   "outputs": [],
   "source": [
    "# edit the manifest files\n",
    "## path corrections :%s/github\\/datasets/DataEmotionalTTS/g\n",
    "## add emotion_id =0 :%s/, \"is_p/, \"emotion_id\": 0, \"is_p/g"
   ]
  },
  {
   "cell_type": "code",
   "execution_count": null,
   "id": "fa606cc6",
   "metadata": {},
   "outputs": [],
   "source": [
    "# supplementary data creation - Neutral TTS (optional)\n",
    "!(HYDRA_FULL_ERROR=1 PYTHONPATH=. python scripts/dataset_processing/tts/extract_sup_data.py \\\n",
    "        --config-path /NeMoEmotionalTTS/scripts/dataset_processing/tts/openslr/ds_conf \\\n",
    "        --config-name ds_for_fastpitch_align.yaml \\\n",
    "        manifest_filepath=/DataEmotionalTTS/openslr-95-german-neutral-tts/thorsten-de/train_manifest_phonemes.json \\\n",
    "        sup_data_path=/DataEmotionalTTS/openslr-95-german-neutral-tts/thorsten-de/phonemes6/)"
   ]
  },
  {
   "cell_type": "code",
   "execution_count": null,
   "id": "3ef10384",
   "metadata": {},
   "outputs": [],
   "source": [
    "# PITCH_MEAN=132.55270385742188, PITCH_STD=37.61381912231445\n",
    "# PITCH_MIN=65.4063949584961, PITCH_MAX=2093.004638671875"
   ]
  },
  {
   "cell_type": "code",
   "execution_count": null,
   "id": "e270b32f",
   "metadata": {},
   "outputs": [],
   "source": [
    "# pre-train fastpitch (with speaker and emotional embedding) on German neutral tts\n",
    "!(CUDA_VISIBLE_DEVICES=0 HYDRA_FULL_ERROR=1 PYTHONPATH=. python examples/tts/fastpitch.py --config-path conf/de --config-name fastpitch_align_22050 \\\n",
    "    name=\"c1e1-FastPitch-pretrain\" \\\n",
    "    model.train_ds.dataloader_params.batch_size=32 \\\n",
    "    model.validation_ds.dataloader_params.batch_size=32 \\\n",
    "    train_dataset=/DataEmotionalTTS/openslr-95-german-neutral-tts/thorsten-de/train_manifest_phonemes.json \\\n",
    "    validation_datasets=/DataEmotionalTTS/openslr-95-german-neutral-tts/thorsten-de/val_manifest_phonemes.json \\\n",
    "    sup_data_path=/DataEmotionalTTS/openslr-95-german-neutral-tts/thorsten-de/phonemes6/ \\\n",
    "    whitelist_path=nemo_text_processing/text_normalization/de/data/whitelist.tsv \\\n",
    "    exp_manager.exp_dir=/resultGermanTTS \\\n",
    "    trainer.max_epochs=100 \\\n",
    "    pitch_mean=132.524658203125 \\\n",
    "    pitch_std=37.389366149902344 \\\n",
    "    +exp_manager.create_wandb_logger=true \\\n",
    "    +exp_manager.wandb_logger_kwargs.name=\"072720221625_c1e1-FastPitch-pretrain\" \\\n",
    "    +exp_manager.wandb_logger_kwargs.project=\"EmotionalTTS\" | tee -a 072720221625_c1e1-FastPitch-pretrain.log)"
   ]
  },
  {
   "cell_type": "code",
   "execution_count": null,
   "id": "905c33a7",
   "metadata": {},
   "outputs": [],
   "source": [
    "# monitor performance of pre-trained fastpitch\n"
   ]
  },
  {
   "cell_type": "code",
   "execution_count": null,
   "id": "5fb6481a",
   "metadata": {},
   "outputs": [],
   "source": [
    "# finetune the model trained in the last cell\n",
    "!(CUDA_VISIBLE_DEVICES=0 python examples/tts/fastpitch_finetune.py --config-path conf/de --config-name fastpitch_align_v1.05.yaml \\\n",
    "    name=\"c1e1-FastPitch-finetune\" \\\n",
    "    model.train_ds.dataloader_params.batch_size=32 \\\n",
    "    model.validation_ds.dataloader_params.batch_size=32 \\\n",
    "    train_dataset=/DataEmotionalTTS/thorsten-emotional_v02/train_manifest_phonemes.json \\\n",
    "    validation_datasets=/DataEmotionalTTS/thorsten-emotional_v02/val_manifest_phonemes.json \\\n",
    "    sup_data_path=/DataEmotionalTTS/thorsten-emotional_v02/train_manifest_phonemes.json \\\n",
    "    whitelist_path=nemo_text_processing/text_normalization/de/data/whitelist.tsv \\\n",
    "    exp_manager.exp_dir=/resultEmotionalTTS \\\n",
    "    +init_from_nemo_model=/DataEmotionalTTS/tts_de_fastpitchhifigan_v1.10.0/tts_de_fastpitch_align.nemo \\\n",
    "    +trainer.max_steps=1000 ~trainer.max_epochs \\\n",
    "    trainer.check_val_every_n_epoch=25 \\\n",
    "    model.n_speakers=1 \\\n",
    "    model.n_emotions=8 \\\n",
    "    model.optim.lr=2e-4 \\\n",
    "    ~model.optim.sched model.optim.name=adamw trainer.devices=1 trainer.strategy=null \\\n",
    "    pitch_mean=169.59390258789062 \\\n",
    "    pitch_std=103.64842224121094 \\\n",
    "    +exp_manager.create_wandb_logger=true \\\n",
    "    +exp_manager.wandb_logger_kwargs.name=\"072620221311_c1e1-FastPitch-finetune\" \\\n",
    "    +exp_manager.wandb_logger_kwargs.project=\"EmotionalTTS\" | tee -a 072620221311_c1e1-FastPitch-pretrain.log)"
   ]
  }
 ],
 "metadata": {
  "kernelspec": {
   "display_name": "Python 3 (ipykernel)",
   "language": "python",
   "name": "python3"
  },
  "language_info": {
   "codemirror_mode": {
    "name": "ipython",
    "version": 3
   },
   "file_extension": ".py",
   "mimetype": "text/x-python",
   "name": "python",
   "nbconvert_exporter": "python",
   "pygments_lexer": "ipython3",
   "version": "3.8.13"
  }
 },
 "nbformat": 4,
 "nbformat_minor": 5
}
